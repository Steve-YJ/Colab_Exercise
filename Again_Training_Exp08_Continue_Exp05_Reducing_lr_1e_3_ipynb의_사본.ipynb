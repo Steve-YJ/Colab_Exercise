{
  "nbformat": 4,
  "nbformat_minor": 0,
  "metadata": {
    "colab": {
      "name": "Again_Training_Exp08_Continue_Exp05_Reducing_lr_1e-3.ipynb의 사본",
      "provenance": [],
      "collapsed_sections": [],
      "machine_shape": "hm",
      "authorship_tag": "ABX9TyPSxGew1uRnDCcScJzVJjYP",
      "include_colab_link": true
    },
    "kernelspec": {
      "name": "python3",
      "display_name": "Python 3"
    },
    "accelerator": "GPU"
  },
  "cells": [
    {
      "cell_type": "markdown",
      "metadata": {
        "id": "view-in-github",
        "colab_type": "text"
      },
      "source": [
        "<a href=\"https://colab.research.google.com/github/Steve-YJ/Colab_Exercise/blob/master/Again_Training_Exp08_Continue_Exp05_Reducing_lr_1e_3_ipynb%EC%9D%98_%EC%82%AC%EB%B3%B8.ipynb\" target=\"_parent\"><img src=\"https://colab.research.google.com/assets/colab-badge.svg\" alt=\"Open In Colab\"/></a>"
      ]
    },
    {
      "cell_type": "markdown",
      "metadata": {
        "id": "unmaetS6775A",
        "colab_type": "text"
      },
      "source": [
        "# README.MD\n",
        "* Try Again, Fin...Fin...Fin...!!\n",
        "* back to Original Kingma's VAE to Malimg\n",
        "    * optimizer learning rate: 1e-3\n",
        "    * optimizer params: sum\n",
        "* Add \n",
        "    * plot train, test loss\n",
        "        * save it every Epochs\n",
        "    * plot latent vector per 10 Epoch\n",
        "        * save it every 10 Epoch\n",
        "    * save model's state dict per 10 Epoch\n",
        "    * save latent vector per 10 Epoch\n",
        "\n",
        "    * Change plot: add alpha parameter for visualization\n",
        "* ✅ Check Point\n",
        "    * Keep training Exp05\n",
        "        * After Epoch 10, Train it\n",
        "        * Reduce Learning rate: 1e-5 to 1e-3\n",
        "    * Just Train 20 Epochs\n",
        "\n",
        "## Reference\n",
        "* Reference repository: https://github.com/pytorch/examples/tree/master/vae\n",
        "\n",
        "* Reference for Visualization: https://github.com/tayden/VAE-Latent-Space-Explorer/blob/master/scripts/VAE.ipynb\n"
      ]
    },
    {
      "cell_type": "code",
      "metadata": {
        "id": "8XiHjsMD8MO2",
        "colab_type": "code",
        "colab": {
          "base_uri": "https://localhost:8080/",
          "height": 381
        },
        "outputId": "fa9bf98c-339a-4a4d-ecf1-8ede8fcd7ce4"
      },
      "source": [
        "! nvidia-smi"
      ],
      "execution_count": 1,
      "outputs": [
        {
          "output_type": "stream",
          "text": [
            "Mon Jul  6 04:10:20 2020       \n",
            "+-----------------------------------------------------------------------------+\n",
            "| NVIDIA-SMI 450.36.06    Driver Version: 418.67       CUDA Version: 10.1     |\n",
            "|-------------------------------+----------------------+----------------------+\n",
            "| GPU  Name        Persistence-M| Bus-Id        Disp.A | Volatile Uncorr. ECC |\n",
            "| Fan  Temp  Perf  Pwr:Usage/Cap|         Memory-Usage | GPU-Util  Compute M. |\n",
            "|                               |                      |               MIG M. |\n",
            "|===============================+======================+======================|\n",
            "|   0  Tesla P100-PCIE...  Off  | 00000000:00:04.0 Off |                    0 |\n",
            "| N/A   36C    P0    30W / 250W |      0MiB / 16280MiB |      0%      Default |\n",
            "|                               |                      |                 ERR! |\n",
            "+-------------------------------+----------------------+----------------------+\n",
            "                                                                               \n",
            "+-----------------------------------------------------------------------------+\n",
            "| Processes:                                                                  |\n",
            "|  GPU   GI   CI        PID   Type   Process name                  GPU Memory |\n",
            "|        ID   ID                                                   Usage      |\n",
            "|=============================================================================|\n",
            "|  No running processes found                                                 |\n",
            "+-----------------------------------------------------------------------------+\n"
          ],
          "name": "stdout"
        }
      ]
    },
    {
      "cell_type": "code",
      "metadata": {
        "id": "cDUY6YNV8Vs9",
        "colab_type": "code",
        "colab": {}
      },
      "source": [
        "%load_ext autoreload\n",
        "%autoreload 2"
      ],
      "execution_count": 2,
      "outputs": []
    },
    {
      "cell_type": "code",
      "metadata": {
        "id": "os9GS8R_KCWt",
        "colab_type": "code",
        "colab": {
          "base_uri": "https://localhost:8080/",
          "height": 128
        },
        "outputId": "da561c0b-1a74-4fd7-a3b2-11f29e6bcac9"
      },
      "source": [
        "# drive mount\n",
        "from google.colab import drive\n",
        "drive.mount('/content/drive', force_remount=True)\n"
      ],
      "execution_count": 3,
      "outputs": [
        {
          "output_type": "stream",
          "text": [
            "Go to this URL in a browser: https://accounts.google.com/o/oauth2/auth?client_id=947318989803-6bn6qk8qdgf4n4g3pfee6491hc0brc4i.apps.googleusercontent.com&redirect_uri=urn%3aietf%3awg%3aoauth%3a2.0%3aoob&response_type=code&scope=email%20https%3a%2f%2fwww.googleapis.com%2fauth%2fdocs.test%20https%3a%2f%2fwww.googleapis.com%2fauth%2fdrive%20https%3a%2f%2fwww.googleapis.com%2fauth%2fdrive.photos.readonly%20https%3a%2f%2fwww.googleapis.com%2fauth%2fpeopleapi.readonly\n",
            "\n",
            "Enter your authorization code:\n",
            "··········\n",
            "Mounted at /content/drive\n"
          ],
          "name": "stdout"
        }
      ]
    },
    {
      "cell_type": "code",
      "metadata": {
        "id": "4XeJBewoLDOr",
        "colab_type": "code",
        "colab": {
          "base_uri": "https://localhost:8080/",
          "height": 54
        },
        "outputId": "928da243-083c-4646-86bc-6229d953ea93"
      },
      "source": [
        "%cd drive/My\\ Drive/InfoSec_Summer_part2\n",
        "! pwd"
      ],
      "execution_count": 4,
      "outputs": [
        {
          "output_type": "stream",
          "text": [
            "/content/drive/My Drive/InfoSec_Summer_part2\n",
            "/content/drive/My Drive/InfoSec_Summer_part2\n"
          ],
          "name": "stdout"
        }
      ]
    },
    {
      "cell_type": "markdown",
      "metadata": {
        "id": "QdWHox3JaXdr",
        "colab_type": "text"
      },
      "source": [
        "## 01. Import Library"
      ]
    },
    {
      "cell_type": "code",
      "metadata": {
        "id": "8Dmz78nUKxGx",
        "colab_type": "code",
        "colab": {
          "base_uri": "https://localhost:8080/",
          "height": 74
        },
        "outputId": "abfb8bd1-fc8e-428e-b2cc-6d6e411822d0"
      },
      "source": [
        "from PIL import Image\n",
        "%matplotlib inline\n",
        "\n",
        "import matplotlib\n",
        "import matplotlib.pyplot as plt\n",
        "import matplotlib as mpl\n",
        " \n",
        "# https://towardsdatascience.com/visualising-high-dimensional-datasets-using-pca-and-t-sne-in-python-8ef87e7915b\n",
        "import seaborn as sns\n",
        "\n",
        "# save single numpy array\n",
        "# https://numpy.org/doc/stable/reference/generated/numpy.save.html#numpy.save\n",
        "from tempfile import TemporaryFile\n",
        "from sklearn.manifold import TSNE\n",
        "\n",
        "import torch\n",
        "import torch.utils.data\n",
        "\n",
        "from torch import nn, optim\n",
        "from torch.nn import functional as F\n",
        "from torch.autograd import Variable\n",
        "from torch.utils.data import Dataset, DataLoader\n",
        "\n",
        "import numpy as np\n",
        "import pandas as pd\n",
        "\n",
        "import torchvision\n",
        "from torchvision import datasets, transforms\n",
        "from torchvision.utils import save_image"
      ],
      "execution_count": 5,
      "outputs": [
        {
          "output_type": "stream",
          "text": [
            "/usr/local/lib/python3.6/dist-packages/statsmodels/tools/_testing.py:19: FutureWarning: pandas.util.testing is deprecated. Use the functions in the public API at pandas.testing instead.\n",
            "  import pandas.util.testing as tm\n"
          ],
          "name": "stderr"
        }
      ]
    },
    {
      "cell_type": "markdown",
      "metadata": {
        "id": "piAH_1eCafJC",
        "colab_type": "text"
      },
      "source": [
        "## 02. Data Preprocessing\n",
        "* Load dataset\n",
        "* preprocess it\n",
        "    * transforms\n",
        "    * make custom dataset\n",
        "    * train_test split: <code>torch.utils.data.random_split</code>\n",
        "    * train_test_loader\n",
        "\n",
        "### Work Flow\n",
        "* transforms module 사용해서 image data compose 하기\n",
        "    * size 조정, normalize, tensor 변환\n",
        "* ImageFolder를 이용해 dataload\n",
        "* dataset split: train dataset, test dataset\n",
        "* DataLoader로 batch단위 dataset 불러오기"
      ]
    },
    {
      "cell_type": "code",
      "metadata": {
        "id": "05u2akkWKR4x",
        "colab_type": "code",
        "colab": {}
      },
      "source": [
        "transforms = transforms.Compose([\n",
        "                                transforms.Resize((224, 224)),                # Change size of Image to (224, 224)\n",
        "                                transforms.Grayscale(num_output_channels=1),  # Makes it 1-dimension channel\n",
        "                                transforms.ToTensor(),                        # Convert a PIL Image or numpy.ndarray to tensor.\n",
        "                                                                              # Converts a PIL Image or numpy.ndarray (H x W x C) in the range [0, 255] to a torch.FloatTensor of shape (C x H x W) in the range [0.0, 1.0] if the PIL Image belongs to one of the modes (L, LA, P, I, F, RGB, YCbCr, RGBA, CMYK, 1) or if the numpy.ndarray has dtype = np.uint8\n",
        "                                                                              # In the other cases, tensors are returned without scaling.\n",
        "                                # transforms.Normalize(mean=[0.5], std=[0.5]),\n",
        "                                \n",
        "                                ])\n",
        "\n",
        "# make custom dataset\n",
        "trainset = torchvision.datasets.ImageFolder(root='../InformationSecurity_Summer/malimg',\n",
        "                                            transform=transforms)  # make custom dataset"
      ],
      "execution_count": 6,
      "outputs": []
    },
    {
      "cell_type": "code",
      "metadata": {
        "id": "UdfkHTBrgA5U",
        "colab_type": "code",
        "colab": {
          "base_uri": "https://localhost:8080/",
          "height": 181
        },
        "outputId": "f030ced9-af09-4161-c6ee-60cc77c0a01b"
      },
      "source": [
        "trainset"
      ],
      "execution_count": 7,
      "outputs": [
        {
          "output_type": "execute_result",
          "data": {
            "text/plain": [
              "Dataset ImageFolder\n",
              "    Number of datapoints: 9339\n",
              "    Root location: ../InformationSecurity_Summer/malimg\n",
              "    StandardTransform\n",
              "Transform: Compose(\n",
              "               Resize(size=(224, 224), interpolation=PIL.Image.BILINEAR)\n",
              "               Grayscale(num_output_channels=1)\n",
              "               ToTensor()\n",
              "           )"
            ]
          },
          "metadata": {
            "tags": []
          },
          "execution_count": 7
        }
      ]
    },
    {
      "cell_type": "code",
      "metadata": {
        "id": "lx1-yQH1KutR",
        "colab_type": "code",
        "colab": {
          "base_uri": "https://localhost:8080/",
          "height": 472
        },
        "outputId": "aa13aff8-f666-4d76-e90a-7de7a853ee65"
      },
      "source": [
        "# classes = trainset.classes\n",
        "classes = trainset.classes\n",
        "classes"
      ],
      "execution_count": 8,
      "outputs": [
        {
          "output_type": "execute_result",
          "data": {
            "text/plain": [
              "['Adialer.C',\n",
              " 'Agent.FYI',\n",
              " 'Allaple.A',\n",
              " 'Allaple.L',\n",
              " 'Alueron.gen!J',\n",
              " 'Autorun.K',\n",
              " 'C2LOP.P',\n",
              " 'C2LOP.gen!g',\n",
              " 'Dialplatform.B',\n",
              " 'Dontovo.A',\n",
              " 'Fakerean',\n",
              " 'Instantaccess',\n",
              " 'Lolyda.AA1',\n",
              " 'Lolyda.AA2',\n",
              " 'Lolyda.AA3',\n",
              " 'Lolyda.AT',\n",
              " 'Malex.gen!J',\n",
              " 'Obfuscator.AD',\n",
              " 'Rbot!gen',\n",
              " 'Skintrim.N',\n",
              " 'Swizzor.gen!E',\n",
              " 'Swizzor.gen!I',\n",
              " 'VB.AT',\n",
              " 'Wintrim.BX',\n",
              " 'Yuner.A']"
            ]
          },
          "metadata": {
            "tags": []
          },
          "execution_count": 8
        }
      ]
    },
    {
      "cell_type": "code",
      "metadata": {
        "id": "mB6yE7h9Lu9A",
        "colab_type": "code",
        "colab": {
          "base_uri": "https://localhost:8080/",
          "height": 35
        },
        "outputId": "9c57e561-cd9a-4adc-8e8a-7f2f6d116936"
      },
      "source": [
        "full_dataset = trainset\n",
        "train_size = int(0.8 * len(full_dataset))\n",
        "test_size = len(full_dataset) - train_size\n",
        "print(train_size, test_size)\n",
        "\n",
        "train_dataset, test_dataset = torch.utils.data.random_split(full_dataset, [train_size, test_size])"
      ],
      "execution_count": 9,
      "outputs": [
        {
          "output_type": "stream",
          "text": [
            "7471 1868\n"
          ],
          "name": "stdout"
        }
      ]
    },
    {
      "cell_type": "code",
      "metadata": {
        "id": "GvaDlRrGLm5N",
        "colab_type": "code",
        "colab": {}
      },
      "source": [
        "train_loader = DataLoader(train_dataset,\n",
        "                         batch_size=16,\n",
        "                         shuffle=True,\n",
        "                         pin_memory=True) \n",
        "test_loader = DataLoader(test_dataset,\n",
        "                        batch_size=16,\n",
        "                        shuffle=True,\n",
        "                        pin_memory=True)  # Instead, we recommend using automatic memory pinning (i.e., setting pin_memory=True)\n",
        "                                          #  which enables fast data transfer to CUDA-enabled GPUs\n",
        "\n",
        "# First, insert all test dataset\n",
        "# test_loader_10: testloader for latent vector visualization\n",
        "test_loader_10 = DataLoader(test_dataset,\n",
        "                        batch_size=1868,\n",
        "                        shuffle=True,\n",
        "                        pin_memory=True)"
      ],
      "execution_count": 10,
      "outputs": []
    },
    {
      "cell_type": "code",
      "metadata": {
        "id": "Hzwh_FveLziU",
        "colab_type": "code",
        "colab": {}
      },
      "source": [
        "def imshow(img):\n",
        "    img = img / 2 + 0.5  # unnormalize\n",
        "    np_img = img.numpy()\n",
        "\n",
        "    plt.imshow(np.transpose(np_img, (1, 2, 0)))  # Convert (C, W, H) to (W, H, C)\n",
        "\n",
        "    print(np_img.shape)  # np_img shape\n",
        "    print((np.transpose(np_img, (1, 2, 0))).shape)  # transposed shape "
      ],
      "execution_count": 11,
      "outputs": []
    },
    {
      "cell_type": "code",
      "metadata": {
        "id": "O7dFOopxMBpA",
        "colab_type": "code",
        "colab": {
          "base_uri": "https://localhost:8080/",
          "height": 35
        },
        "outputId": "86603199-34e1-4579-bd6f-9d7e27665ce1"
      },
      "source": [
        "dataiter = iter(train_loader)\n",
        "images, labels = dataiter.next()\n",
        "print(labels)"
      ],
      "execution_count": 12,
      "outputs": [
        {
          "output_type": "stream",
          "text": [
            "tensor([ 9,  3, 24, 22,  2,  2, 22,  7, 22,  2,  2, 24, 24, 18,  2, 24])\n"
          ],
          "name": "stdout"
        }
      ]
    },
    {
      "cell_type": "code",
      "metadata": {
        "id": "1xkethBEMCzi",
        "colab_type": "code",
        "colab": {
          "base_uri": "https://localhost:8080/",
          "height": 398
        },
        "outputId": "69a149f1-af5a-4e61-bb55-00dfa4958c85"
      },
      "source": [
        "print(images.shape)\n",
        "imshow(torchvision.utils.make_grid(images, nrow=4))\n",
        "print(images.shape)\n",
        "print((torchvision.utils.make_grid(images)).shape)\n",
        "print(\"\".join(\"%5s \"%classes[labels[j]] for j in range(16)))"
      ],
      "execution_count": 13,
      "outputs": [
        {
          "output_type": "stream",
          "text": [
            "torch.Size([16, 1, 224, 224])\n",
            "(3, 906, 906)\n",
            "(906, 906, 3)\n",
            "torch.Size([16, 1, 224, 224])\n",
            "torch.Size([3, 454, 1810])\n",
            "Dontovo.A Allaple.L Yuner.A VB.AT Allaple.A Allaple.A VB.AT C2LOP.gen!g VB.AT Allaple.A Allaple.A Yuner.A Yuner.A Rbot!gen Allaple.A Yuner.A \n"
          ],
          "name": "stdout"
        },
        {
          "output_type": "display_data",
          "data": {
            "image/png": "[encoded data removed]",
            "text/plain": [
              "<Figure size 432x288 with 1 Axes>"
            ]
          },
          "metadata": {
            "tags": [],
            "needs_background": "light"
          }
        }
      ]
    },
    {
      "cell_type": "markdown",
      "metadata": {
        "id": "i0K7aSEKd3PD",
        "colab_type": "text"
      },
      "source": [
        "## 03. Define VAE Class\n",
        "* Initialize\n",
        "    * (224, 224) input 이미지를 통해 1차원 100개의 latent vector를 생성하는 Encoder네트워크 정의\n",
        "    * 100개의 latent vector로부터 X_hat을 복원하는 Decoder Network 정의\n",
        "* encode\n",
        "* reparameterize\n",
        "* decode\n",
        "* forward"
      ]
    },
    {
      "cell_type": "code",
      "metadata": {
        "id": "B5HQz_o3MFlu",
        "colab_type": "code",
        "colab": {}
      },
      "source": [
        "device = torch.device(\"cuda\")  # device = torch.device(\"cuda\")\n",
        "\n",
        "class VAE(nn.Module):\n",
        "    def __init__(self):\n",
        "        super(VAE, self).__init__()\n",
        "\n",
        "        self.fc1 = nn.Linear(224*224, 1000)\n",
        "        self.fc21 = nn.Linear(1000, 100)\n",
        "        self.fc22 = nn.Linear(1000, 100)\n",
        "        self.fc3 = nn.Linear(100, 1000)\n",
        "        self.fc4 = nn.Linear(1000, 224*224)\n",
        "\n",
        "    def encode(self, x):\n",
        "        h1 = F.relu(self.fc1(x))\n",
        "        return self.fc21(h1), self.fc22(h1)\n",
        "\n",
        "    def reparameterize(self, mu, logvar):\n",
        "        std = torch.exp(0.5*logvar)\n",
        "        eps = torch.randn_like(std)\n",
        "        return mu + eps*std\n",
        "\n",
        "    def decode(self, z):\n",
        "        h3 = F.relu(self.fc3(z))\n",
        "        return torch.sigmoid(self.fc4(h3))\n",
        "# loss값이 안줄면 sigmoid함수를 제거하고 BCE with Logits Loss를 사용해볼까?\n",
        "# https://nuguziii.github.io/dev/dev-002/\n",
        "\n",
        "    def forward(self, x):\n",
        "        mu, logvar = self.encode(x.view(-1, 224*224))\n",
        "        z = self.reparameterize(mu, logvar)  # z's shape => (batch_size, 100)\n",
        "        return self.decode(z), mu, logvar, z"
      ],
      "execution_count": 14,
      "outputs": []
    },
    {
      "cell_type": "markdown",
      "metadata": {
        "id": "Ol92_AqEWnOe",
        "colab_type": "text"
      },
      "source": [
        "### Load State Dict\n",
        "* Exp05_Epoch10\n",
        "* <code>Exp05_model_save_10Epochs.pth</code>"
      ]
    },
    {
      "cell_type": "code",
      "metadata": {
        "id": "APz4JQj49Xs_",
        "colab_type": "code",
        "colab": {
          "base_uri": "https://localhost:8080/",
          "height": 145
        },
        "outputId": "00be220e-acf6-4423-8f89-4a162e79cdae"
      },
      "source": [
        "# Load State_dict\n",
        "PATH_State_Dict = './Exp08_results/Exp05_model_save_10Epochs.pth'\n",
        "\n",
        "model = VAE().to(device)\n",
        "model.load_state_dict(torch.load(PATH_State_Dict))\n",
        "model.eval\n",
        "\n",
        "model"
      ],
      "execution_count": 15,
      "outputs": [
        {
          "output_type": "execute_result",
          "data": {
            "text/plain": [
              "VAE(\n",
              "  (fc1): Linear(in_features=50176, out_features=1000, bias=True)\n",
              "  (fc21): Linear(in_features=1000, out_features=100, bias=True)\n",
              "  (fc22): Linear(in_features=1000, out_features=100, bias=True)\n",
              "  (fc3): Linear(in_features=100, out_features=1000, bias=True)\n",
              "  (fc4): Linear(in_features=1000, out_features=50176, bias=True)\n",
              ")"
            ]
          },
          "metadata": {
            "tags": []
          },
          "execution_count": 15
        }
      ]
    },
    {
      "cell_type": "code",
      "metadata": {
        "id": "85s3nFV139Wj",
        "colab_type": "code",
        "colab": {}
      },
      "source": [
        "def get_n_params(model):\n",
        "    pp=0\n",
        "    for p in list(model.parameters()):\n",
        "        nn=1\n",
        "        for s in list(p.size()):\n",
        "            nn = nn*s\n",
        "        pp += nn\n",
        "    return pp"
      ],
      "execution_count": 16,
      "outputs": []
    },
    {
      "cell_type": "code",
      "metadata": {
        "id": "d4C5c-Vq6wTH",
        "colab_type": "code",
        "colab": {
          "base_uri": "https://localhost:8080/",
          "height": 35
        },
        "outputId": "46249a70-0f51-4dad-f8ed-bbdc3b467ecd"
      },
      "source": [
        "get_n_params(model)  "
      ],
      "execution_count": 17,
      "outputs": [
        {
          "output_type": "execute_result",
          "data": {
            "text/plain": [
              "100704376"
            ]
          },
          "metadata": {
            "tags": []
          },
          "execution_count": 17
        }
      ]
    },
    {
      "cell_type": "markdown",
      "metadata": {
        "id": "ehTMNYpD7EyP",
        "colab_type": "text"
      },
      "source": [
        "*Note*<br>\n",
        "✅ Reducing Learning rate<br>\n",
        "1e-3 to 1e-5"
      ]
    },
    {
      "cell_type": "code",
      "metadata": {
        "id": "eGmI2AwE9Z8e",
        "colab_type": "code",
        "colab": {}
      },
      "source": [
        "optimizer = optim.Adam(model.parameters(), lr=1e-5)  # reducing learning rate after 10 Epochs"
      ],
      "execution_count": 18,
      "outputs": []
    },
    {
      "cell_type": "code",
      "metadata": {
        "id": "iwGox4j89pQb",
        "colab_type": "code",
        "colab": {}
      },
      "source": [
        "# track and save train, test loss through Dictionary\n",
        "# \n",
        "Epoch_Loss = {'train_epoch':[],\n",
        "              'train_loss':[],\n",
        "              'test_epoch':[],\n",
        "              'test_loss':[]}\n",
        "\n",
        "# Save & Loading Model for Inference\n",
        "# Reference: https://pytorch.org/tutorials/beginner/saving_loading_models.html\n",
        "\n",
        "# PATH = '/Again_original_Exp01_200-Epoch.pth'\n",
        "\n",
        "PATH = 'Epochs.pth'\n",
        "# latent_vector = np.zeros((16, 100))\n",
        "color_palette = np.zeros((1868))\n"
      ],
      "execution_count": 19,
      "outputs": []
    },
    {
      "cell_type": "markdown",
      "metadata": {
        "id": "RwaH7SvuxvWA",
        "colab_type": "text"
      },
      "source": [
        "*Note*<br>\n",
        "* Plot Every Epoch\n"
      ]
    },
    {
      "cell_type": "code",
      "metadata": {
        "id": "9khLnNT3MG7a",
        "colab_type": "code",
        "colab": {
          "base_uri": "https://localhost:8080/",
          "height": 199
        },
        "outputId": "604995ae-bfce-41fe-b32d-db278950a994"
      },
      "source": [
        "# Reconstruction + KL divergence losses summed over all elements and batch\n",
        "def loss_function(recon_x, x, mu, logvar):\n",
        "    BCE = F.binary_cross_entropy(recon_x, x.view(-1, 224*224), reduction='sum')  # (input, target, ... reduction)\n",
        "\n",
        "    # see Appendix B from VAE paper:\n",
        "    # Kingma and Welling. Auto-Encoding Variational Bayes. ICLR, 2014\n",
        "    # https://arxiv.org/abs/1312.6114\n",
        "    # 0.5 * sum(1 + log(sigma^2) - mu^2 - sigma^2)\n",
        "    KLD = -0.5 * torch.sum(1 + logvar - mu.pow(2) - logvar.exp())\n",
        "\n",
        "    return BCE + KLD\n",
        "\n",
        "def train(epoch):\n",
        "    model.train()\n",
        "    train_loss = 0\n",
        "    # latent_vector = np.zeros(())\n",
        "    # latent_label = 0\n",
        "\n",
        "    for batch_idx, (data, _) in enumerate(train_loader):\n",
        "        data = data.to(device)\n",
        "        optimizer.zero_grad()\n",
        "        recon_batch, mu, logvar, z= model(data)\n",
        "    \n",
        "       \n",
        "        loss = loss_function(recon_batch, data, mu, logvar)\n",
        "        loss.backward()\n",
        "        train_loss += loss.item()\n",
        "        optimizer.step()\n",
        "        if batch_idx % 10 == 0:\n",
        "            print('Train Epoch: {} [{}/{} ({:.0f}%)]\\tLoss: {:.6f}'.format(\n",
        "                epoch, batch_idx * len(data), len(train_loader.dataset),\n",
        "                100. * batch_idx / len(train_loader),\n",
        "                loss.item() / len(data)))\n",
        "\n",
        "    print('====> Epoch: {} Average loss: {:.4f}'.format(\n",
        "          epoch, train_loss / len(train_loader.dataset)))\n",
        "    \n",
        "    Epoch_Loss['train_epoch'].append(epoch)\n",
        "    Epoch_Loss['train_loss'].append(train_loss / len(train_loader.dataset))\n",
        "   \n",
        "def test(epoch):\n",
        "    # Every Epoch 단위로 작업\n",
        "    # model.state_dict() 저장 및 latent_vector 저장\n",
        "    # plot latent vector\n",
        "    # if epoch % 10 == 0:  # Epoch이 10의 배수일때\n",
        "    # save model.state_dict() per 10 Epochs\n",
        "    torch.save(model.state_dict(), ('./Exp08_results/model_save_' + str(epoch) + PATH))  # Epoch 단위 parameter 저장\n",
        "\n",
        "    model.eval()\n",
        "    test_loss = 0\n",
        "    with torch.no_grad():\n",
        "        for i, (data, _) in enumerate(test_loader):\n",
        "            data = data.to(device)\n",
        "            recon_batch, mu, logvar, z = model(data)\n",
        "            # z vector는 torch type\n",
        "            # latent_vector = z.detach().cpu().clone().numpy()\n",
        "            test_loss += loss_function(recon_batch, data, mu, logvar).item()\n",
        "            if i == 0:\n",
        "                n = min(data.size(0), 8)\n",
        "                comparison = torch.cat([data[:n],\n",
        "                                    recon_batch.view(16, 1, 224, 224)[:n]])\n",
        "                save_image(comparison.cpu(),\n",
        "                        './Exp08_results/recon_sampling/reconstruction_' + str(epoch) + '.png', nrow=n)\n",
        "    test_loss /= len(test_loader.dataset)\n",
        "    print('====> Test set loss: {:.4f}'.format(test_loss))\n",
        "    Epoch_Loss['test_epoch'].append(epoch)\n",
        "    Epoch_Loss['test_loss'].append(test_loss)\n",
        "\n",
        "    # save latent vector's every 10 Epoch's\n",
        "    # load_whole test_data \n",
        "    for i, (data, _) in enumerate(test_loader_10):  # load_whole test_data\n",
        "        data = data.to(device)\n",
        "        recon_batch, mu, logvar, z = model(data)\n",
        "    # save latent_vector per 10 Epochs\n",
        "        latent_vector = z.detach().cpu().clone().numpy()  # change tensor type data to cpu().numpy()\n",
        "                                                            # latent_vector_size: (num_of_data, 100)\n",
        "        color_palette = _.detach().cpu().clone().numpy()\n",
        "        with open(('./Exp08_results/'+str(epoch)+'Epoch_z_vector.npy'), 'wb') as f:\n",
        "            np.save(f, latent_vector)  # but latent vector size is (16, 100).... just 16...\n",
        "                                        # 10 Epoch 단위로 latent vector를 저장한다\n",
        "                                        # 이 떄, latent vector의 size는 test_dataset의 크기가 되어야 한다\n",
        "                                        # 결과값이 좋은 vector는 좋은 feature로 사용할 수 있다.\n",
        "    # plot latent vector Every 10 Epochs\n",
        "    # t-SNE for Dimensionality reduction\n",
        "    Z_embedded = TSNE(n_components=2).fit_transform(latent_vector)\n",
        "    \n",
        "    fig, ax = plt.subplots(1, 1, figsize=(6, 6))  # setup the plot\n",
        "\n",
        "    x = Z_embedded[:, 0]\n",
        "    y = Z_embedded[:, 1]\n",
        "    label = color_palette\n",
        "    # label[10:12] = 0  # make sure there are some 0 values to show up as grey\n",
        "    print(\"==\"*20, \"params\", \"==\"*20)\n",
        "    print(\"Z_embedded.shape:\", Z_embedded.shape)\n",
        "    print(\"label.shape:\", label.shape)\n",
        "    # tsne_data = np.vstack((Z_embedded, label))\n",
        "    tsne_data = np.c_[Z_embedded, label]\n",
        "    tsne_df = pd.DataFrame(data=tsne_data, columns=(\"Dim_1\", \"Dim_2\", \"label\"))\n",
        "    sns.FacetGrid(tsne_df, hue=\"label\", size=6).map(plt.scatter, 'Dim_1', 'Dim_2').add_legend()\n",
        "    plt.savefig('./Exp08_results/plot_latent_vector/' + str(epoch) + '_t_SNE.png', dpi=300)\n",
        "    plt.show()\n",
        "'''\n",
        "    elif epoch % 10 !=0:\n",
        "        model.eval()\n",
        "        test_loss = 0\n",
        "        with torch.no_grad():\n",
        "            for i, (data, _) in enumerate(test_loader):\n",
        "                data = data.to(device)\n",
        "                recon_batch, mu, logvar, z = model(data)\n",
        "                # z vector는 torch type\n",
        "                # latent_vector = z.detach().cpu().clone().numpy()\n",
        "                test_loss += loss_function(recon_batch, data, mu, logvar).item()\n",
        "                if i == 0:\n",
        "                    n = min(data.size(0), 8)\n",
        "                    comparison = torch.cat([data[:n],\n",
        "                                        recon_batch.view(16, 1, 224, 224)[:n]])\n",
        "                    save_image(comparison.cpu(),\n",
        "                            './Exp06_results/recon_sampling/reconstruction_' + str(epoch) + '.png', nrow=n)\n",
        "        test_loss /= len(test_loader.dataset)\n",
        "        print('====> Test set loss: {:.4f}'.format(test_loss))\n",
        "        Epoch_Loss['test_epoch'].append(epoch)\n",
        "        Epoch_Loss['test_loss'].append(test_loss)\n",
        "'''"
      ],
      "execution_count": 22,
      "outputs": [
        {
          "output_type": "execute_result",
          "data": {
            "application/vnd.google.colaboratory.intrinsic": {
              "type": "string"
            },
            "text/plain": [
              "\"\\n    elif epoch % 10 !=0:\\n        model.eval()\\n        test_loss = 0\\n        with torch.no_grad():\\n            for i, (data, _) in enumerate(test_loader):\\n                data = data.to(device)\\n                recon_batch, mu, logvar, z = model(data)\\n                # z vector는 torch type\\n                # latent_vector = z.detach().cpu().clone().numpy()\\n                test_loss += loss_function(recon_batch, data, mu, logvar).item()\\n                if i == 0:\\n                    n = min(data.size(0), 8)\\n                    comparison = torch.cat([data[:n],\\n                                        recon_batch.view(16, 1, 224, 224)[:n]])\\n                    save_image(comparison.cpu(),\\n                            './Exp06_results/recon_sampling/reconstruction_' + str(epoch) + '.png', nrow=n)\\n        test_loss /= len(test_loader.dataset)\\n        print('====> Test set loss: {:.4f}'.format(test_loss))\\n        Epoch_Loss['test_epoch'].append(epoch)\\n        Epoch_Loss['test_loss'].append(test_loss)\\n\""
            ]
          },
          "metadata": {
            "tags": []
          },
          "execution_count": 22
        }
      ]
    },
    {
      "cell_type": "markdown",
      "metadata": {
        "id": "NEC7SFANZODp",
        "colab_type": "text"
      },
      "source": [
        "*Notice*<br>\n",
        "Train Again!<br>\n",
        "Change BCE loss param_reduction to 'sum'"
      ]
    },
    {
      "cell_type": "code",
      "metadata": {
        "id": "_RlJbqlOMI4G",
        "colab_type": "code",
        "colab": {
          "base_uri": "https://localhost:8080/",
          "height": 54
        },
        "outputId": "2d0ade7a-5633-4966-ca3b-2690eea0225f"
      },
      "source": [
        "epochs = 20\n",
        "\n",
        "for epoch in range(1, epochs + 1):\n",
        "        print(epoch)\n",
        "        train(epoch)\n",
        "        test(epoch)\n",
        "        # https://stackoverflow.com/questions/40766909/suggestions-to-plot-overlapping-lines-in-matplotlib\n",
        "        plt.plot(Epoch_Loss['train_epoch'],Epoch_Loss['train_loss'], label=\"train_loss\", alpha=0.7)\n",
        "        plt.plot(Epoch_Loss['test_epoch'],Epoch_Loss['test_loss'], label=\"test_loss\", alpha=0.5)\n",
        "        plt.xlabel('Epochs')\n",
        "        plt.ylabel('Loss Score')\n",
        "        plt.title('Train_Test_Loss')\n",
        "        plt.legend()\n",
        "        plt.savefig('./Exp08_results/plot_train_test_loss/'+str(epoch)+'_epoch.png', dpi=300)\n",
        "        plt.show()\n",
        "\n",
        "        with torch.no_grad():\n",
        "            sample = torch.randn(64, 100).to(device)\n",
        "            sample = model.decode(sample).cpu()\n",
        "            save_image(sample.view(64, 1, 224, 224),\n",
        "                       './Exp08_results/recon_sampling/sampling_' + str(epoch) + '.png')"
      ],
      "execution_count": null,
      "outputs": [
        {
          "output_type": "stream",
          "text": [
            "1\n",
            "Train Epoch: 1 [0/7471 (0%)]\tLoss: 32155.888672\n"
          ],
          "name": "stdout"
        }
      ]
    },
    {
      "cell_type": "markdown",
      "metadata": {
        "id": "Ql5xAopxhREq",
        "colab_type": "text"
      },
      "source": [
        "### Training 일지\n",
        "\n",
        "1. Loss값이 수렴된 이후 Learning rate를 줄여 학습하면 어떻게 될까?\n",
        " \n",
        "\n",
        " * 이번 실험의 결과도 기대가 된다"
      ]
    },
    {
      "cell_type": "code",
      "metadata": {
        "id": "er-LCOkwZAGP",
        "colab_type": "code",
        "colab": {}
      },
      "source": [
        ""
      ],
      "execution_count": null,
      "outputs": []
    }
  ]
}