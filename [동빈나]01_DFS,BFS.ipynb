{
  "nbformat": 4,
  "nbformat_minor": 0,
  "metadata": {
    "colab": {
      "name": "[동빈나]01.DFS,BFS.ipynb",
      "provenance": [],
      "authorship_tag": "ABX9TyNTEi7P2qTw5u9UAfGKi0oW",
      "include_colab_link": true
    },
    "kernelspec": {
      "name": "python3",
      "display_name": "Python 3"
    }
  },
  "cells": [
    {
      "cell_type": "markdown",
      "metadata": {
        "id": "view-in-github",
        "colab_type": "text"
      },
      "source": [
        "<a href=\"https://colab.research.google.com/github/Steve-YJ/Colab_Exercise/blob/master/%5B%EB%8F%99%EB%B9%88%EB%82%98%5D01_DFS%2CBFS.ipynb\" target=\"_parent\"><img src=\"https://colab.research.google.com/assets/colab-badge.svg\" alt=\"Open In Colab\"/></a>"
      ]
    },
    {
      "cell_type": "markdown",
      "metadata": {
        "id": "pr_mH11uGn8i",
        "colab_type": "text"
      },
      "source": [
        "# README.MD\n",
        "* 동빈나님의 '취코테를 위한 DFS, BFS' Youtube강의를 듣고 직접 실행해본 코드\n",
        "* Reference: https://www.youtube.com/watch?v=PqzyFDUnbrY&t=2712s\n",
        "* -20.09.18.Fri. am 10:00 ~ 11:30"
      ]
    },
    {
      "cell_type": "markdown",
      "metadata": {
        "id": "UAmtbwN4xXLi",
        "colab_type": "text"
      },
      "source": [
        "# DFS\n",
        "* Depth-First-Search\n",
        "    * 깊이 우선 탐색\n",
        "    * 그래프에서 깊은 부분을 우선적으로 탐구하는 알고리즘이다\n",
        "\n",
        "* DFS 동작 과정\n",
        "    * 1. 탐색의 시작노드를 스택에 삽입하고 방문 처리를 한다\n",
        "    * 2. 스택의 최상단 노드에 방문하지 않은 인접노드가 하나라도 있다면 그 노드를 스택에 넣고 방문 처리 한다. \n",
        "        * 방문하지 않은 인접 노드가 없으면 스택에서 최상단 노드를 꺼낸다\n",
        "    * 3. 더이상 2번의 과정을 수행할 수 없을 때까지 반복한다 "
      ]
    },
    {
      "cell_type": "markdown",
      "metadata": {
        "id": "NbxTuNJ9Nrho",
        "colab_type": "text"
      },
      "source": [
        "## DFS 소스코드 예제(Python)"
      ]
    },
    {
      "cell_type": "code",
      "metadata": {
        "id": "P-2QCUleWOMu",
        "colab_type": "code",
        "colab": {}
      },
      "source": [
        "# 각 노드가 연결된 정보를 표현(2차원 리스트)\n",
        "graph = [\n",
        "         [],\n",
        "         [2, 3, 8],\n",
        "         [1, 7],\n",
        "         [1, 4, 5],\n",
        "         [3, 5],\n",
        "         [3, 4],\n",
        "         [7],\n",
        "         [2, 6, 8],\n",
        "         [1, 7]\n",
        "]\n",
        "\n",
        "# 각 노드가 방문된 정보를 표현 (1차원 리스트)\n",
        "visited = [False] * 9"
      ],
      "execution_count": 48,
      "outputs": []
    },
    {
      "cell_type": "code",
      "metadata": {
        "id": "nbp2vD4AyNIV",
        "colab_type": "code",
        "colab": {
          "base_uri": "https://localhost:8080/",
          "height": 53
        },
        "outputId": "8076708b-7f87-4dfc-9d6b-f2d5cd615d70"
      },
      "source": [
        "print(graph)\n",
        "print(visited)"
      ],
      "execution_count": 49,
      "outputs": [
        {
          "output_type": "stream",
          "text": [
            "[[], [2, 3, 8], [1, 7], [1, 4, 5], [3, 5], [3, 4], [7], [2, 6, 8], [1, 7]]\n",
            "[False, False, False, False, False, False, False, False, False]\n"
          ],
          "name": "stdout"
        }
      ]
    },
    {
      "cell_type": "code",
      "metadata": {
        "id": "iAU_5mj0ItJm",
        "colab_type": "code",
        "colab": {}
      },
      "source": [
        "# DFS 메서드 Review\n",
        "'''\n",
        "Point. 번호가 낮은 인접노드부터 방문한다...!\n",
        "Point. Stack 자료구조와 재귀함수를 잘 활용해보자\n",
        "'''\n",
        "\n",
        "def dfs(graph, v, visited):\n",
        "    visited[v] = True\n",
        "    print(v, end=' ')\n",
        "\n",
        "    for i in graph[v]:\n",
        "        if not visited[i]:  # 방문한 적이 없는 노드이면\n",
        "            dfs(graph, i, visited)  # 방문하라"
      ],
      "execution_count": 52,
      "outputs": []
    },
    {
      "cell_type": "code",
      "metadata": {
        "id": "xRouEOsbNidK",
        "colab_type": "code",
        "colab": {
          "base_uri": "https://localhost:8080/",
          "height": 35
        },
        "outputId": "ea89152f-1afd-4f8a-ce29-e7c83c02f5f3"
      },
      "source": [
        "dfs(graph, 1, visited)"
      ],
      "execution_count": 53,
      "outputs": [
        {
          "output_type": "stream",
          "text": [
            "1 2 7 6 8 3 4 5 "
          ],
          "name": "stdout"
        }
      ]
    },
    {
      "cell_type": "markdown",
      "metadata": {
        "id": "35a_u9hY-RYL",
        "colab_type": "text"
      },
      "source": [
        "# BFS\n",
        "* BFS는 너비 우선 탐색이라고도 부르며, 그래프에서 가까운 노드부터 우선적으로 탐색하는 알고리즘이다\n",
        "* BFS는 큐 자료구조를 이용하며, 구체적인 동작 과정은 다음과 같다\n",
        "    * 1. 탐색 시작 노드를 큐에 삽입하고 방문 처리를 한다\n",
        "    * 2. 큐에서 노드를 꺼낸 뒤에 해당 노드의 인접 노드 중에서 방문하지 않은 노드를 모두 큐에 삽입하고 방문 처리를 한다\n",
        "    * 3. 더 이상 2번의 과정을 수행할 수 없을 떄까지 반복한다\n",
        "    "
      ]
    },
    {
      "cell_type": "markdown",
      "metadata": {
        "id": "hbdca9UJIRV4",
        "colab_type": "text"
      },
      "source": [
        "## DFS 소스코드 예제(Python)"
      ]
    },
    {
      "cell_type": "code",
      "metadata": {
        "id": "jG-O7FYB-qNQ",
        "colab_type": "code",
        "colab": {}
      },
      "source": [
        "# Do-it\n",
        "# Queue(Python의 경우 deque) 자료구조를 활용해서 DFS 알고리즘을 구현해보자\n",
        "\n",
        "# graph: 각 노드가 연결된 정보 표현(2차원 리스트)\n",
        "graph = [\n",
        "         [],\n",
        "         [2, 3, 8],\n",
        "         [1, 7],\n",
        "         [1, 4, 5],\n",
        "         [3, 5],\n",
        "         [3, 4],\n",
        "         [7],\n",
        "         [2, 6, 8],\n",
        "         [1, 7]\n",
        "]\n",
        "\n",
        "# 각 노드가 방문된 정보를 표현(1차원 리스트)\n",
        "visited = [False] * 9"
      ],
      "execution_count": 54,
      "outputs": []
    },
    {
      "cell_type": "code",
      "metadata": {
        "id": "i2285UxjJneL",
        "colab_type": "code",
        "colab": {}
      },
      "source": [
        "from collections import deque\n",
        "\n",
        "def bfs(graph, start, visited):\n",
        "    # 시작노드를 큐에 추가하고 방문처리한다\n",
        "    queue = deque([start])  # deque = [start]\n",
        "    visited[start] = True\n",
        "\n",
        "    while queue:  # 큐가 빌때까지 반복한다\n",
        "        # 시작노드를 queue에서 제거한다\n",
        "        v = queue.popleft()\n",
        "        print(v, end = ' ')\n",
        "\n",
        "        # 인접노드가 있으면 큐에 추가한다\n",
        "        for i in graph[v]:\n",
        "            if not visited[i]:  # 방문한 적이 없는 노드를 추가해준다\n",
        "                queue.append(i)\n",
        "                visited[i] = True"
      ],
      "execution_count": 55,
      "outputs": []
    },
    {
      "cell_type": "code",
      "metadata": {
        "id": "xxW0AIxYDuhu",
        "colab_type": "code",
        "colab": {
          "base_uri": "https://localhost:8080/",
          "height": 35
        },
        "outputId": "5458a09f-0079-4a8b-892d-cbf0c4c24193"
      },
      "source": [
        "bfs(graph, 1, visited)"
      ],
      "execution_count": 56,
      "outputs": [
        {
          "output_type": "stream",
          "text": [
            "1 2 3 8 7 4 5 6 "
          ],
          "name": "stdout"
        }
      ]
    },
    {
      "cell_type": "markdown",
      "metadata": {
        "id": "PbxV9394IUqp",
        "colab_type": "text"
      },
      "source": [
        "# DFS, BFS 비교\n",
        "* 가장 큰 차이점\n",
        "    * DFS는 Stack 자료구조를 사용한다\n",
        "    * 반면 BFS는 Queue 자료구조를 사용한다"
      ]
    },
    {
      "cell_type": "markdown",
      "metadata": {
        "id": "EfV3TBwl1yne",
        "colab_type": "text"
      },
      "source": [
        "## Appendix\n",
        "### 01. Python 'If not' syntax"
      ]
    },
    {
      "cell_type": "markdown",
      "metadata": {
        "id": "x6_42B0e2KiB",
        "colab_type": "text"
      },
      "source": [
        "What does <code>if not</code> try to say? -20.09.18.Fri-<br>\n",
        "\n",
        "<br>\n",
        "Reference: https://stackoverflow.com/questions/16739555/python-if-not-syntax"
      ]
    },
    {
      "cell_type": "code",
      "metadata": {
        "id": "pPuxBWba122p",
        "colab_type": "code",
        "colab": {}
      },
      "source": [
        "# E.g\n",
        "\n",
        "def foo(bar = None):\n",
        "    if not bar:\n",
        "        bar = 2"
      ],
      "execution_count": null,
      "outputs": []
    },
    {
      "cell_type": "code",
      "metadata": {
        "id": "BYcwk4No2Aeg",
        "colab_type": "code",
        "colab": {}
      },
      "source": [
        "foo(3)"
      ],
      "execution_count": null,
      "outputs": []
    },
    {
      "cell_type": "markdown",
      "metadata": {
        "id": "7iyrSl2h2d0i",
        "colab_type": "text"
      },
      "source": [
        "* Answer\n",
        "    * There are subtle difference between <code>if bar is not None</code> and <code>If not bar</code>\n",
        "\n",
        "* <code>if not bar</code>: will execute if <code>bar</code> is any kind of zero or empty container, or <code>False</code> \n",
        "\n",
        "* Many people do use <code>not bar</code> where they really do mean <code>bar is not None</code>"
      ]
    },
    {
      "cell_type": "markdown",
      "metadata": {
        "id": "ocM1fVPG49DD",
        "colab_type": "text"
      },
      "source": [
        "### 02. Python not operator example with if statement\n",
        "\n",
        "* Reference: https://www.jquery-az.com/4-demos-python-if-not-and-not-in-operator/"
      ]
    },
    {
      "cell_type": "code",
      "metadata": {
        "id": "Aqqp_vNG2CqI",
        "colab_type": "code",
        "colab": {
          "base_uri": "https://localhost:8080/",
          "height": 35
        },
        "outputId": "2fc6b91c-73bb-4089-b020-78f4bd2e3ba3"
      },
      "source": [
        "# A demo of Python 'not' operator\n",
        "\n",
        "x = 10\n",
        "\n",
        "if not x > 10:\n",
        "    print(\"not retured True\")\n",
        "\n",
        "else:\n",
        "    print(\"not retured False\")\n",
        "\n",
        "\n",
        "# Can you guess it?\n",
        "# I guess that it may be \"not retured True\"\n"
      ],
      "execution_count": null,
      "outputs": [
        {
          "output_type": "stream",
          "text": [
            "not retured True\n"
          ],
          "name": "stdout"
        }
      ]
    },
    {
      "cell_type": "markdown",
      "metadata": {
        "id": "TvPLK5E95qif",
        "colab_type": "text"
      },
      "source": [
        "<code>Comment</code><br> \n",
        "* As x>10 is False, so not operator evaluated as True\n",
        "    * x>10 == False -> not False -> True\n",
        "* Thus the if statement is True and code inside the if statement executed. "
      ]
    }
  ]
}