{
  "nbformat": 4,
  "nbformat_minor": 0,
  "metadata": {
    "colab": {
      "name": "VAE_origin_Exp01.ipynb",
      "provenance": [],
      "collapsed_sections": [],
      "authorship_tag": "ABX9TyNq0tD3JA4+SdFB/nrnTjxM",
      "include_colab_link": true
    },
    "kernelspec": {
      "name": "python3",
      "display_name": "Python 3"
    },
    "accelerator": "GPU"
  },
  "cells": [
    {
      "cell_type": "markdown",
      "metadata": {
        "id": "view-in-github",
        "colab_type": "text"
      },
      "source": [
        "<a href=\"https://colab.research.google.com/github/Steve-YJ/Colab_Exercise/blob/master/VAE_origin_Exp01.ipynb\" target=\"_parent\"><img src=\"https://colab.research.google.com/assets/colab-badge.svg\" alt=\"Open In Colab\"/></a>"
      ]
    },
    {
      "cell_type": "markdown",
      "metadata": {
        "id": "IWOpPIU1GFTl",
        "colab_type": "text"
      },
      "source": [
        "# README.MD\n",
        "* Try Again\n",
        "* Original Kingma's VAE to Malimg\n",
        "    * optimizer learning rate: 1e-3\n",
        "    * optimizer params: sum -> mean\n",
        "* Add \n",
        "    * train, test loss plot\n",
        "    * save model's state dict\n",
        "\n",
        "* Reference repository: https://github.com/pytorch/examples/tree/master/vae"
      ]
    },
    {
      "cell_type": "code",
      "metadata": {
        "id": "t4YUE1l6US9N",
        "colab_type": "code",
        "colab": {
          "base_uri": "https://localhost:8080/",
          "height": 381
        },
        "outputId": "9b71763f-b696-4f17-b712-cf23b18ca46a"
      },
      "source": [
        "! nvidia-smi"
      ],
      "execution_count": 1,
      "outputs": [
        {
          "output_type": "stream",
          "text": [
            "Wed Jul  1 06:32:28 2020       \n",
            "+-----------------------------------------------------------------------------+\n",
            "| NVIDIA-SMI 450.36.06    Driver Version: 418.67       CUDA Version: 10.1     |\n",
            "|-------------------------------+----------------------+----------------------+\n",
            "| GPU  Name        Persistence-M| Bus-Id        Disp.A | Volatile Uncorr. ECC |\n",
            "| Fan  Temp  Perf  Pwr:Usage/Cap|         Memory-Usage | GPU-Util  Compute M. |\n",
            "|                               |                      |               MIG M. |\n",
            "|===============================+======================+======================|\n",
            "|   0  Tesla T4            Off  | 00000000:00:04.0 Off |                    0 |\n",
            "| N/A   65C    P8    11W /  70W |      0MiB / 15079MiB |      0%      Default |\n",
            "|                               |                      |                 ERR! |\n",
            "+-------------------------------+----------------------+----------------------+\n",
            "                                                                               \n",
            "+-----------------------------------------------------------------------------+\n",
            "| Processes:                                                                  |\n",
            "|  GPU   GI   CI        PID   Type   Process name                  GPU Memory |\n",
            "|        ID   ID                                                   Usage      |\n",
            "|=============================================================================|\n",
            "|  No running processes found                                                 |\n",
            "+-----------------------------------------------------------------------------+\n"
          ],
          "name": "stdout"
        }
      ]
    },
    {
      "cell_type": "code",
      "metadata": {
        "id": "piMbA1XtF8iR",
        "colab_type": "code",
        "colab": {}
      },
      "source": [
        "%load_ext autoreload\n",
        "%autoreload 2"
      ],
      "execution_count": 2,
      "outputs": []
    },
    {
      "cell_type": "code",
      "metadata": {
        "id": "nZLAd_L7Gk-6",
        "colab_type": "code",
        "colab": {
          "base_uri": "https://localhost:8080/",
          "height": 35
        },
        "outputId": "5fe7a1fa-1368-4280-dde5-d047e15bc1f0"
      },
      "source": [
        "# Drive Mount\n",
        "\n",
        "from google.colab import drive\n",
        "drive.mount('/content/drive', force_remount=True)"
      ],
      "execution_count": 3,
      "outputs": [
        {
          "output_type": "stream",
          "text": [
            "Mounted at /content/drive\n"
          ],
          "name": "stdout"
        }
      ]
    },
    {
      "cell_type": "code",
      "metadata": {
        "id": "FqDQDKYMG0mo",
        "colab_type": "code",
        "colab": {
          "base_uri": "https://localhost:8080/",
          "height": 54
        },
        "outputId": "49f3d8ae-41fd-4273-96fd-997b3324f66d"
      },
      "source": [
        "%cd drive/My\\ Drive/InfoSec_Summer_part2\n",
        "! pwd"
      ],
      "execution_count": 4,
      "outputs": [
        {
          "output_type": "stream",
          "text": [
            "/content/drive/My Drive/InfoSec_Summer_part2\n",
            "/content/drive/My Drive/InfoSec_Summer_part2\n"
          ],
          "name": "stdout"
        }
      ]
    },
    {
      "cell_type": "markdown",
      "metadata": {
        "id": "VpFRXfAFHA9f",
        "colab_type": "text"
      },
      "source": [
        "## 01. Import Library"
      ]
    },
    {
      "cell_type": "code",
      "metadata": {
        "id": "bzi8FKoFG-8H",
        "colab_type": "code",
        "colab": {}
      },
      "source": [
        "from PIL import Image\n",
        "%matplotlib inline\n",
        "\n",
        "import matplotlib\n",
        "import matplotlib.pyplot as plt\n",
        "\n",
        "import torch\n",
        "import torch.utils.data\n",
        "\n",
        "from torch import nn, optim\n",
        "from torch.nn import functional as F\n",
        "from torch.autograd import Variable\n",
        "from torch.utils.data import Dataset, DataLoader\n",
        "\n",
        "import numpy as np\n",
        "\n",
        "import torchvision\n",
        "from torchvision import datasets, transforms\n",
        "from torchvision.utils import save_image"
      ],
      "execution_count": 5,
      "outputs": []
    },
    {
      "cell_type": "markdown",
      "metadata": {
        "id": "lUygvIHfHjtd",
        "colab_type": "text"
      },
      "source": [
        "## 02. Data Preprocessing\n",
        "* Load dataset\n",
        "* preprocess it\n",
        "    * transforms\n",
        "    * make custom dataset\n",
        "    * train_test split: <code>torch.utils.data.random_split</code>\n",
        "    * train_test_loader\n",
        "\n",
        "### Work Flow\n",
        "* transforms module 사용해서 image data compose 하기\n",
        "    * size 조정, normalize, tensor 변환\n",
        "* ImageFolder를 이용해 dataload\n",
        "* dataset split: train dataset, test dataset\n",
        "* DataLoader로 batch단위 dataset 불러오기"
      ]
    },
    {
      "cell_type": "code",
      "metadata": {
        "id": "NrsXUsQ-Hghf",
        "colab_type": "code",
        "colab": {}
      },
      "source": [
        "# transforms module 사용해서 Image data compose\n",
        "# ImageFolder를 사용해 dataload\n",
        "\n",
        "transforms = transforms.Compose([\n",
        "                                 transforms.Resize((224, 224)),\n",
        "                                 transforms.Grayscale(num_output_channels=1),  # make Image to 1-dim channel\n",
        "                                 transforms.ToTensor(),                        # convert a PIL Image or numpy ndarray to tensor\n",
        "                                 # transforms.Normalize()\n",
        "])\n",
        "\n",
        "# make custom datasets\n",
        "trainset = torchvision.datasets.ImageFolder(root='../InformationSecurity_Summer/malimg',\n",
        "                                            transform = transforms)"
      ],
      "execution_count": 7,
      "outputs": []
    },
    {
      "cell_type": "code",
      "metadata": {
        "id": "uamoB1DjIyqt",
        "colab_type": "code",
        "colab": {
          "base_uri": "https://localhost:8080/",
          "height": 472
        },
        "outputId": "fddec06a-c2ec-41a3-ecbd-62b48598489e"
      },
      "source": [
        "classes = trainset.classes\n",
        "classes"
      ],
      "execution_count": 8,
      "outputs": [
        {
          "output_type": "execute_result",
          "data": {
            "text/plain": [
              "['Adialer.C',\n",
              " 'Agent.FYI',\n",
              " 'Allaple.A',\n",
              " 'Allaple.L',\n",
              " 'Alueron.gen!J',\n",
              " 'Autorun.K',\n",
              " 'C2LOP.P',\n",
              " 'C2LOP.gen!g',\n",
              " 'Dialplatform.B',\n",
              " 'Dontovo.A',\n",
              " 'Fakerean',\n",
              " 'Instantaccess',\n",
              " 'Lolyda.AA1',\n",
              " 'Lolyda.AA2',\n",
              " 'Lolyda.AA3',\n",
              " 'Lolyda.AT',\n",
              " 'Malex.gen!J',\n",
              " 'Obfuscator.AD',\n",
              " 'Rbot!gen',\n",
              " 'Skintrim.N',\n",
              " 'Swizzor.gen!E',\n",
              " 'Swizzor.gen!I',\n",
              " 'VB.AT',\n",
              " 'Wintrim.BX',\n",
              " 'Yuner.A']"
            ]
          },
          "metadata": {
            "tags": []
          },
          "execution_count": 8
        }
      ]
    },
    {
      "cell_type": "code",
      "metadata": {
        "id": "uMVpSJy4KEdU",
        "colab_type": "code",
        "colab": {}
      },
      "source": [
        "# data_split\n",
        "# train_dataset, test_dataset\n",
        "\n",
        "full_dataset = trainset\n",
        "train_size = int(0.8 * len(full_dataset))\n",
        "test_size = len(full_dataset) - train_size\n",
        "\n",
        "train_dataset, test_dataset = torch.utils.data.random_split(full_dataset, [train_size, test_size])"
      ],
      "execution_count": 9,
      "outputs": []
    },
    {
      "cell_type": "code",
      "metadata": {
        "id": "f98SM7_nKJph",
        "colab_type": "code",
        "colab": {}
      },
      "source": [
        "# make DataLoader\n",
        "\n",
        "train_loader = DataLoader(train_dataset,\n",
        "                          batch_size=16,\n",
        "                          shuffle=True,\n",
        "                          pin_memory=True)\n",
        "test_loader = DataLoader(test_dataset,\n",
        "                         batch_size=16,\n",
        "                         shuffle=True,\n",
        "                         pin_memory=True)  #pin_memory which enables fast data transfer to CUDA-enabled GPUs"
      ],
      "execution_count": 10,
      "outputs": []
    },
    {
      "cell_type": "markdown",
      "metadata": {
        "id": "vwOsvW5fK9d9",
        "colab_type": "text"
      },
      "source": [
        "Image 출력하기"
      ]
    },
    {
      "cell_type": "code",
      "metadata": {
        "id": "i14GK3a5K7OG",
        "colab_type": "code",
        "colab": {}
      },
      "source": [
        "def imshow(img):\n",
        "    img = img / 2 + 0.5  # unnormalize\n",
        "    np_img = img.numpy()\n",
        "\n",
        "    plt.imshow(np.transpose(img, (1, 2, 0)))\n",
        "\n",
        "    print(np_img.shape)\n",
        "    print((np.transpose(np_img, (1, 2, 0))).shape)"
      ],
      "execution_count": 11,
      "outputs": []
    },
    {
      "cell_type": "code",
      "metadata": {
        "id": "7wsyig4vLPUv",
        "colab_type": "code",
        "colab": {
          "base_uri": "https://localhost:8080/",
          "height": 35
        },
        "outputId": "eca9ad87-7cd3-4a7e-ddad-6060270b3c25"
      },
      "source": [
        "# see one element at time\n",
        "\n",
        "dataiter = iter(train_loader)\n",
        "images, labels = dataiter.next()\n",
        "print(labels)"
      ],
      "execution_count": 12,
      "outputs": [
        {
          "output_type": "stream",
          "text": [
            "tensor([ 3, 24,  6,  3,  2,  3,  2, 24, 23, 12,  2,  3,  2,  2,  2,  3])\n"
          ],
          "name": "stdout"
        }
      ]
    },
    {
      "cell_type": "code",
      "metadata": {
        "id": "8lvAfS4dLQrD",
        "colab_type": "code",
        "colab": {
          "base_uri": "https://localhost:8080/",
          "height": 398
        },
        "outputId": "2d88ab2b-05ca-49be-fbd2-047d32dfeb76"
      },
      "source": [
        "print(images.shape)\n",
        "imshow(torchvision.utils.make_grid(images, nrow=4))\n",
        "print(images.shape)\n",
        "print((torchvision.utils.make_grid(images)).shape)\n",
        "print(\"\".join(\"%5s \"%classes[labels[j]] for j in range(16)))"
      ],
      "execution_count": 13,
      "outputs": [
        {
          "output_type": "stream",
          "text": [
            "torch.Size([16, 1, 224, 224])\n",
            "(3, 906, 906)\n",
            "(906, 906, 3)\n",
            "torch.Size([16, 1, 224, 224])\n",
            "torch.Size([3, 454, 1810])\n",
            "Allaple.L Yuner.A C2LOP.P Allaple.L Allaple.A Allaple.L Allaple.A Yuner.A Wintrim.BX Lolyda.AA1 Allaple.A Allaple.L Allaple.A Allaple.A Allaple.A Allaple.L \n"
          ],
          "name": "stdout"
        },
        {
          "output_type": "display_data",
          "data": {
            "image/png": "[encoded data removed]",
            "text/plain": [
              "<Figure size 432x288 with 1 Axes>"
            ]
          },
          "metadata": {
            "tags": [],
            "needs_background": "light"
          }
        }
      ]
    },
    {
      "cell_type": "markdown",
      "metadata": {
        "id": "SFH0uBcfLZHJ",
        "colab_type": "text"
      },
      "source": [
        "## 03. Define VAE Class\n",
        "* Initialize\n",
        "    * (224, 224) input 이미지를 통해 1차원 100개의 latent vector를 생성하는 Encoder네트워크 정의\n",
        "    * 100개의 latent vector로부터 X_hat을 복원하는 Decoder Network 정의\n",
        "* encode\n",
        "* reparameterize\n",
        "* decode\n",
        "* forward"
      ]
    },
    {
      "cell_type": "code",
      "metadata": {
        "id": "7wynt1uVLUnl",
        "colab_type": "code",
        "colab": {
          "base_uri": "https://localhost:8080/",
          "height": 145
        },
        "outputId": "8b18c4d6-273d-413b-e551-f059332f4c9d"
      },
      "source": [
        "device = torch.device(\"cuda\")  # device = torch.device(\"cuda\")\n",
        "\n",
        "class VAE(nn.Module):\n",
        "    def __init__(self):\n",
        "        super(VAE, self).__init__()\n",
        "\n",
        "        self.fc1 = nn.Linear(224*224, 1000)\n",
        "        self.fc21 = nn.Linear(1000, 100)\n",
        "        self.fc22 = nn.Linear(1000, 100)\n",
        "        self.fc3 = nn.Linear(100, 1000)\n",
        "        self.fc4 = nn.Linear(1000, 224*224)\n",
        "\n",
        "    def encode(self, x):\n",
        "        h1 = F.relu(self.fc1(x))\n",
        "        return self.fc21(h1), self.fc22(h1)\n",
        "\n",
        "    def reparameterize(self, mu, logvar):\n",
        "        std = torch.exp(0.5*logvar)\n",
        "        eps = torch.randn_like(std)\n",
        "        return mu + eps*std\n",
        "\n",
        "    def decode(self, z):\n",
        "        h3 = F.relu(self.fc3(z))\n",
        "        return torch.sigmoid(self.fc4(h3))\n",
        "\n",
        "    def forward(self, x):\n",
        "        mu, logvar = self.encode(x.view(-1, 224*224))\n",
        "        z = self.reparameterize(mu, logvar)\n",
        "        return self.decode(z), mu, logvar\n",
        "\n",
        "\n",
        "model = VAE().to(device)\n",
        "optimizer = optim.Adam(model.parameters(), lr=1e-3)  \n",
        "                                                \n",
        "print(model)"
      ],
      "execution_count": 14,
      "outputs": [
        {
          "output_type": "stream",
          "text": [
            "VAE(\n",
            "  (fc1): Linear(in_features=50176, out_features=1000, bias=True)\n",
            "  (fc21): Linear(in_features=1000, out_features=100, bias=True)\n",
            "  (fc22): Linear(in_features=1000, out_features=100, bias=True)\n",
            "  (fc3): Linear(in_features=100, out_features=1000, bias=True)\n",
            "  (fc4): Linear(in_features=1000, out_features=50176, bias=True)\n",
            ")\n"
          ],
          "name": "stdout"
        }
      ]
    },
    {
      "cell_type": "code",
      "metadata": {
        "id": "S1ysXFhCMVhD",
        "colab_type": "code",
        "colab": {}
      },
      "source": [
        "# track and save train, test loss through Dictionary\n",
        "# \n",
        "Epoch_Loss = {'train_epoch':[],\n",
        "              'train_loss':[],\n",
        "              'test_epoch':[],\n",
        "              'test_loss':[]}\n",
        "\n",
        "# Save & Loading Model for Inference\n",
        "# Reference: https://pytorch.org/tutorials/beginner/saving_loading_models.html\n",
        "PATH = './Exp01_10-Epoch.pth'"
      ],
      "execution_count": 15,
      "outputs": []
    },
    {
      "cell_type": "code",
      "metadata": {
        "id": "I8ROpA8vMKvV",
        "colab_type": "code",
        "colab": {}
      },
      "source": [
        "# Reconstruction + KL divergence losses summed over all elements and batch\n",
        "def loss_function(recon_x, x, mu, logvar):\n",
        "    BCE = F.binary_cross_entropy(recon_x, x.view(-1, 224*224), reduction='mean')  # changed reduction to 'mean' \n",
        "                                                                                  # (input, target, ... reduction)\n",
        "\n",
        "    # see Appendix B from VAE paper:\n",
        "    # Kingma and Welling. Auto-Encoding Variational Bayes. ICLR, 2014\n",
        "    # https://arxiv.org/abs/1312.6114\n",
        "    # 0.5 * sum(1 + log(sigma^2) - mu^2 - sigma^2)\n",
        "    KLD = -0.5 * torch.sum(1 + logvar - mu.pow(2) - logvar.exp())\n",
        "\n",
        "    return BCE + KLD\n",
        "\n",
        "def train(epoch):\n",
        "    model.train()\n",
        "    train_loss = 0\n",
        "    for batch_idx, (data, _) in enumerate(train_loader):\n",
        "        data = data.to(device)\n",
        "        optimizer.zero_grad()\n",
        "        recon_batch, mu, logvar = model(data)\n",
        "        loss = loss_function(recon_batch, data, mu, logvar)\n",
        "        loss.backward()\n",
        "        train_loss += loss.item()\n",
        "        optimizer.step()\n",
        "        if batch_idx % 10 == 0:\n",
        "            print('Train Epoch: {} [{}/{} ({:.0f}%)]\\tLoss: {:.6f}'.format(\n",
        "                epoch, batch_idx * len(data), len(train_loader.dataset),\n",
        "                100. * batch_idx / len(train_loader),\n",
        "                loss.item() / len(data)))\n",
        "\n",
        "    print('====> Epoch: {} Average loss: {:.4f}'.format(\n",
        "          epoch, train_loss / len(train_loader.dataset)))\n",
        "    # plt.plot(train_loss / len(train_loader.dataset))\n",
        "    Epoch_Loss['train_epoch'].append(epoch)\n",
        "    Epoch_Loss['train_loss'].append(train_loss / len(train_loader.dataset))\n",
        "    torch.save(model.state_dict(), PATH)\n",
        "\n",
        "\n",
        "def test(epoch):\n",
        "    model.eval()\n",
        "    test_loss = 0\n",
        "    with torch.no_grad():\n",
        "        for i, (data, _) in enumerate(test_loader):\n",
        "            data = data.to(device)\n",
        "            recon_batch, mu, logvar = model(data)\n",
        "            test_loss += loss_function(recon_batch, data, mu, logvar).item()\n",
        "            if i == 0:\n",
        "                n = min(data.size(0), 8)\n",
        "                comparison = torch.cat([data[:n],\n",
        "                                      recon_batch.view(16, 1, 224, 224)[:n]])\n",
        "                save_image(comparison.cpu(),\n",
        "                         './results_Exp01/reconstruction_' + str(epoch) + '.png', nrow=n)\n",
        "\n",
        "    test_loss /= len(test_loader.dataset)\n",
        "    print('====> Test set loss: {:.4f}'.format(test_loss))\n",
        "    # plt.plot(test_loss)\n",
        "    Epoch_Loss['test_epoch'].append(epoch)\n",
        "    Epoch_Loss['test_loss'].append(test_loss)"
      ],
      "execution_count": 16,
      "outputs": []
    },
    {
      "cell_type": "code",
      "metadata": {
        "id": "gxC1a56-MpEs",
        "colab_type": "code",
        "colab": {
          "base_uri": "https://localhost:8080/",
          "height": 1000
        },
        "outputId": "49eb07aa-1d87-4a9a-aeb5-e6cb09069cad"
      },
      "source": [
        "epochs = 10\n",
        "\n",
        "\n",
        "for epoch in range(1, epochs + 1):\n",
        "        print(epoch)\n",
        "        train(epoch)\n",
        "        test(epoch)\n",
        "\n",
        "        # change liveloss to my model\n",
        "        # https://github.com/stared/livelossplot/blob/master/examples/pytorch.ipynb\n",
        "        # https://www.w3resource.com/graphics/matplotlib/basic/matplotlib-basic-exercise-5.php\n",
        "        plt.plot(Epoch_Loss['train_epoch'],Epoch_Loss['train_loss'], label=\"train_loss\")\n",
        "        plt.plot(Epoch_Loss['test_epoch'],Epoch_Loss['test_loss'], label=\"test_loss\")\n",
        "        plt.xlabel('Epochs')\n",
        "        plt.ylabel('Loss Score')\n",
        "        plt.title('Train_Test_Loss')\n",
        "        plt.legend()\n",
        "        plt.savefig('./plot_Exp01/'+str(epoch)+'_epoch.png', dpi=300)\n",
        "        plt.show()\n",
        "    \n",
        "        with torch.no_grad():\n",
        "            sample = torch.randn(64, 100).to(device)  # Change it (64, 100) to (16, 100)\n",
        "            sample = model.decode(sample).cpu()\n",
        "            save_image(sample.view(64, 1, 224, 224),  # (64, 1, 224, 224) to (16, 1, 224, 224)\n",
        "                       './results_Exp01/sample_' + str(epoch) + '.png')\n",
        "        "
      ],
      "execution_count": 17,
      "outputs": [
        {
          "output_type": "stream",
          "text": [
            "1\n",
            "Train Epoch: 1 [0/7471 (0%)]\tLoss: 1.090851\n",
            "Train Epoch: 1 [160/7471 (2%)]\tLoss: 4089.269043\n",
            "Train Epoch: 1 [320/7471 (4%)]\tLoss: 2719.924316\n",
            "Train Epoch: 1 [480/7471 (6%)]\tLoss: 2479.512207\n",
            "Train Epoch: 1 [640/7471 (9%)]\tLoss: 2368.345703\n",
            "Train Epoch: 1 [800/7471 (11%)]\tLoss: 2182.987305\n",
            "Train Epoch: 1 [960/7471 (13%)]\tLoss: 1932.893921\n",
            "Train Epoch: 1 [1120/7471 (15%)]\tLoss: 1333.851318\n",
            "Train Epoch: 1 [1280/7471 (17%)]\tLoss: 1203.473022\n",
            "Train Epoch: 1 [1440/7471 (19%)]\tLoss: 1024.647461\n",
            "Train Epoch: 1 [1600/7471 (21%)]\tLoss: 811.860657\n",
            "Train Epoch: 1 [1760/7471 (24%)]\tLoss: 657.017090\n",
            "Train Epoch: 1 [1920/7471 (26%)]\tLoss: 487.855835\n",
            "Train Epoch: 1 [2080/7471 (28%)]\tLoss: 356.955200\n",
            "Train Epoch: 1 [2240/7471 (30%)]\tLoss: 246.646530\n",
            "Train Epoch: 1 [2400/7471 (32%)]\tLoss: 209.177322\n",
            "Train Epoch: 1 [2560/7471 (34%)]\tLoss: 155.723007\n",
            "Train Epoch: 1 [2720/7471 (36%)]\tLoss: 117.597031\n",
            "Train Epoch: 1 [2880/7471 (39%)]\tLoss: 114.348106\n",
            "Train Epoch: 1 [3040/7471 (41%)]\tLoss: 85.554039\n",
            "Train Epoch: 1 [3200/7471 (43%)]\tLoss: 49.541489\n",
            "Train Epoch: 1 [3360/7471 (45%)]\tLoss: 46.111256\n",
            "Train Epoch: 1 [3520/7471 (47%)]\tLoss: 34.836472\n",
            "Train Epoch: 1 [3680/7471 (49%)]\tLoss: 103.389160\n",
            "Train Epoch: 1 [3840/7471 (51%)]\tLoss: 77.266449\n",
            "Train Epoch: 1 [4000/7471 (54%)]\tLoss: 27.768200\n",
            "Train Epoch: 1 [4160/7471 (56%)]\tLoss: 11.490759\n",
            "Train Epoch: 1 [4320/7471 (58%)]\tLoss: 5.974909\n",
            "Train Epoch: 1 [4480/7471 (60%)]\tLoss: 125.093971\n",
            "Train Epoch: 1 [4640/7471 (62%)]\tLoss: 62.709686\n",
            "Train Epoch: 1 [4800/7471 (64%)]\tLoss: 42.892101\n",
            "Train Epoch: 1 [4960/7471 (66%)]\tLoss: 93.824295\n",
            "Train Epoch: 1 [5120/7471 (69%)]\tLoss: 77.400116\n",
            "Train Epoch: 1 [5280/7471 (71%)]\tLoss: 33.827896\n",
            "Train Epoch: 1 [5440/7471 (73%)]\tLoss: 353.767975\n",
            "Train Epoch: 1 [5600/7471 (75%)]\tLoss: 385.428009\n",
            "Train Epoch: 1 [5760/7471 (77%)]\tLoss: 870.307861\n",
            "Train Epoch: 1 [5920/7471 (79%)]\tLoss: 919.904114\n",
            "Train Epoch: 1 [6080/7471 (81%)]\tLoss: 1174.722168\n",
            "Train Epoch: 1 [6240/7471 (84%)]\tLoss: 1287.416870\n",
            "Train Epoch: 1 [6400/7471 (86%)]\tLoss: 1375.719482\n",
            "Train Epoch: 1 [6560/7471 (88%)]\tLoss: 1282.834595\n",
            "Train Epoch: 1 [6720/7471 (90%)]\tLoss: 1211.110596\n",
            "Train Epoch: 1 [6880/7471 (92%)]\tLoss: 1432.579468\n",
            "Train Epoch: 1 [7040/7471 (94%)]\tLoss: 1416.376099\n",
            "Train Epoch: 1 [7200/7471 (96%)]\tLoss: 1399.934692\n",
            "Train Epoch: 1 [7360/7471 (99%)]\tLoss: 1529.874268\n",
            "====> Epoch: 1 Average loss: 16729291.2502\n",
            "====> Test set loss: 1505.2422\n"
          ],
          "name": "stdout"
        },
        {
          "output_type": "display_data",
          "data": {
            "image/png": "[encoded data removed]",
            "text/plain": [
              "<Figure size 432x288 with 1 Axes>"
            ]
          },
          "metadata": {
            "tags": [],
            "needs_background": "light"
          }
        },
        {
          "output_type": "stream",
          "text": [
            "2\n",
            "Train Epoch: 2 [0/7471 (0%)]\tLoss: 1530.484985\n",
            "Train Epoch: 2 [160/7471 (2%)]\tLoss: 1401.231934\n",
            "Train Epoch: 2 [320/7471 (4%)]\tLoss: 1416.697998\n",
            "Train Epoch: 2 [480/7471 (6%)]\tLoss: 1389.169067\n",
            "Train Epoch: 2 [640/7471 (9%)]\tLoss: 1284.729126\n",
            "Train Epoch: 2 [800/7471 (11%)]\tLoss: 1169.051880\n",
            "Train Epoch: 2 [960/7471 (13%)]\tLoss: 1147.601074\n",
            "Train Epoch: 2 [1120/7471 (15%)]\tLoss: 1022.845886\n",
            "Train Epoch: 2 [1280/7471 (17%)]\tLoss: 951.448853\n",
            "Train Epoch: 2 [1440/7471 (19%)]\tLoss: 839.879456\n",
            "Train Epoch: 2 [1600/7471 (21%)]\tLoss: 800.699646\n",
            "Train Epoch: 2 [1760/7471 (24%)]\tLoss: 683.280029\n",
            "Train Epoch: 2 [1920/7471 (26%)]\tLoss: 756.956238\n",
            "Train Epoch: 2 [2080/7471 (28%)]\tLoss: 713.612183\n",
            "Train Epoch: 2 [2240/7471 (30%)]\tLoss: 702.195007\n",
            "Train Epoch: 2 [2400/7471 (32%)]\tLoss: 627.127930\n",
            "Train Epoch: 2 [2560/7471 (34%)]\tLoss: 572.512329\n",
            "Train Epoch: 2 [2720/7471 (36%)]\tLoss: 623.238220\n",
            "Train Epoch: 2 [2880/7471 (39%)]\tLoss: 660.131775\n",
            "Train Epoch: 2 [3040/7471 (41%)]\tLoss: 601.557983\n",
            "Train Epoch: 2 [3200/7471 (43%)]\tLoss: 612.435730\n",
            "Train Epoch: 2 [3360/7471 (45%)]\tLoss: 526.499268\n",
            "Train Epoch: 2 [3520/7471 (47%)]\tLoss: 489.588928\n",
            "Train Epoch: 2 [3680/7471 (49%)]\tLoss: 491.537079\n",
            "Train Epoch: 2 [3840/7471 (51%)]\tLoss: 408.679108\n",
            "Train Epoch: 2 [4000/7471 (54%)]\tLoss: 406.504883\n",
            "Train Epoch: 2 [4160/7471 (56%)]\tLoss: 351.036163\n",
            "Train Epoch: 2 [4320/7471 (58%)]\tLoss: 326.305298\n",
            "Train Epoch: 2 [4480/7471 (60%)]\tLoss: 283.693420\n",
            "Train Epoch: 2 [4640/7471 (62%)]\tLoss: 258.533752\n",
            "Train Epoch: 2 [4800/7471 (64%)]\tLoss: 254.226288\n",
            "Train Epoch: 2 [4960/7471 (66%)]\tLoss: 204.952881\n",
            "Train Epoch: 2 [5120/7471 (69%)]\tLoss: 187.278030\n",
            "Train Epoch: 2 [5280/7471 (71%)]\tLoss: 176.026077\n",
            "Train Epoch: 2 [5440/7471 (73%)]\tLoss: 160.633301\n",
            "Train Epoch: 2 [5600/7471 (75%)]\tLoss: 160.907623\n",
            "Train Epoch: 2 [5760/7471 (77%)]\tLoss: 147.829758\n",
            "Train Epoch: 2 [5920/7471 (79%)]\tLoss: 135.383377\n",
            "Train Epoch: 2 [6080/7471 (81%)]\tLoss: 103.019249\n",
            "Train Epoch: 2 [6240/7471 (84%)]\tLoss: 117.217972\n",
            "Train Epoch: 2 [6400/7471 (86%)]\tLoss: 89.115166\n",
            "Train Epoch: 2 [6560/7471 (88%)]\tLoss: 71.721474\n",
            "Train Epoch: 2 [6720/7471 (90%)]\tLoss: 55.624294\n",
            "Train Epoch: 2 [6880/7471 (92%)]\tLoss: 116.874916\n",
            "Train Epoch: 2 [7040/7471 (94%)]\tLoss: 60.560116\n",
            "Train Epoch: 2 [7200/7471 (96%)]\tLoss: 40.809402\n",
            "Train Epoch: 2 [7360/7471 (99%)]\tLoss: 36.736977\n",
            "====> Epoch: 2 Average loss: 526.5769\n",
            "====> Test set loss: 33.1491\n"
          ],
          "name": "stdout"
        },
        {
          "output_type": "display_data",
          "data": {
            "image/png": "[encoded data removed]",
            "text/plain": [
              "<Figure size 432x288 with 1 Axes>"
            ]
          },
          "metadata": {
            "tags": [],
            "needs_background": "light"
          }
        },
        {
          "output_type": "stream",
          "text": [
            "3\n",
            "Train Epoch: 3 [0/7471 (0%)]\tLoss: 34.915535\n",
            "Train Epoch: 3 [160/7471 (2%)]\tLoss: 29.699354\n",
            "Train Epoch: 3 [320/7471 (4%)]\tLoss: 26.416246\n",
            "Train Epoch: 3 [480/7471 (6%)]\tLoss: 30.737804\n",
            "Train Epoch: 3 [640/7471 (9%)]\tLoss: 57.801994\n",
            "Train Epoch: 3 [800/7471 (11%)]\tLoss: 36.268497\n",
            "Train Epoch: 3 [960/7471 (13%)]\tLoss: 63.169399\n",
            "Train Epoch: 3 [1120/7471 (15%)]\tLoss: 203.286453\n",
            "Train Epoch: 3 [1280/7471 (17%)]\tLoss: 233.798218\n",
            "Train Epoch: 3 [1440/7471 (19%)]\tLoss: 256.417969\n",
            "Train Epoch: 3 [1600/7471 (21%)]\tLoss: 260.129547\n",
            "Train Epoch: 3 [1760/7471 (24%)]\tLoss: 256.000000\n",
            "Train Epoch: 3 [1920/7471 (26%)]\tLoss: 233.737061\n",
            "Train Epoch: 3 [2080/7471 (28%)]\tLoss: 300.681366\n",
            "Train Epoch: 3 [2240/7471 (30%)]\tLoss: 229.894073\n",
            "Train Epoch: 3 [2400/7471 (32%)]\tLoss: 242.773193\n",
            "Train Epoch: 3 [2560/7471 (34%)]\tLoss: 221.352539\n",
            "Train Epoch: 3 [2720/7471 (36%)]\tLoss: 220.226166\n",
            "Train Epoch: 3 [2880/7471 (39%)]\tLoss: 195.102173\n",
            "Train Epoch: 3 [3040/7471 (41%)]\tLoss: 180.401627\n",
            "Train Epoch: 3 [3200/7471 (43%)]\tLoss: 163.279861\n",
            "Train Epoch: 3 [3360/7471 (45%)]\tLoss: 156.240051\n",
            "Train Epoch: 3 [3520/7471 (47%)]\tLoss: 151.201187\n",
            "Train Epoch: 3 [3680/7471 (49%)]\tLoss: 148.029404\n",
            "Train Epoch: 3 [3840/7471 (51%)]\tLoss: 139.001541\n",
            "Train Epoch: 3 [4000/7471 (54%)]\tLoss: 127.285736\n",
            "Train Epoch: 3 [4160/7471 (56%)]\tLoss: 113.114799\n",
            "Train Epoch: 3 [4320/7471 (58%)]\tLoss: 104.564629\n",
            "Train Epoch: 3 [4480/7471 (60%)]\tLoss: 94.887047\n",
            "Train Epoch: 3 [4640/7471 (62%)]\tLoss: 91.937019\n",
            "Train Epoch: 3 [4800/7471 (64%)]\tLoss: 68.816208\n",
            "Train Epoch: 3 [4960/7471 (66%)]\tLoss: 64.773781\n",
            "Train Epoch: 3 [5120/7471 (69%)]\tLoss: 77.853447\n",
            "Train Epoch: 3 [5280/7471 (71%)]\tLoss: 142.655853\n",
            "Train Epoch: 3 [5440/7471 (73%)]\tLoss: 82.263756\n",
            "Train Epoch: 3 [5600/7471 (75%)]\tLoss: 75.095100\n",
            "Train Epoch: 3 [5760/7471 (77%)]\tLoss: 30.871742\n",
            "Train Epoch: 3 [5920/7471 (79%)]\tLoss: 29.584929\n",
            "Train Epoch: 3 [6080/7471 (81%)]\tLoss: 62.411488\n",
            "Train Epoch: 3 [6240/7471 (84%)]\tLoss: 214.362778\n",
            "Train Epoch: 3 [6400/7471 (86%)]\tLoss: 429.336609\n",
            "Train Epoch: 3 [6560/7471 (88%)]\tLoss: 484.906189\n",
            "Train Epoch: 3 [6720/7471 (90%)]\tLoss: 482.676666\n",
            "Train Epoch: 3 [6880/7471 (92%)]\tLoss: 500.597046\n",
            "Train Epoch: 3 [7040/7471 (94%)]\tLoss: 424.107391\n",
            "Train Epoch: 3 [7200/7471 (96%)]\tLoss: 418.738190\n",
            "Train Epoch: 3 [7360/7471 (99%)]\tLoss: 412.481567\n",
            "====> Epoch: 3 Average loss: 187.4757\n",
            "====> Test set loss: 409.7831\n"
          ],
          "name": "stdout"
        },
        {
          "output_type": "display_data",
          "data": {
            "image/png": "[encoded data removed]",
            "text/plain": [
              "<Figure size 432x288 with 1 Axes>"
            ]
          },
          "metadata": {
            "tags": [],
            "needs_background": "light"
          }
        },
        {
          "output_type": "stream",
          "text": [
            "4\n",
            "Train Epoch: 4 [0/7471 (0%)]\tLoss: 398.536865\n",
            "Train Epoch: 4 [160/7471 (2%)]\tLoss: 395.306793\n",
            "Train Epoch: 4 [320/7471 (4%)]\tLoss: 355.976349\n",
            "Train Epoch: 4 [480/7471 (6%)]\tLoss: 346.144287\n",
            "Train Epoch: 4 [640/7471 (9%)]\tLoss: 336.246552\n",
            "Train Epoch: 4 [800/7471 (11%)]\tLoss: 347.341400\n",
            "Train Epoch: 4 [960/7471 (13%)]\tLoss: 307.282898\n",
            "Train Epoch: 4 [1120/7471 (15%)]\tLoss: 269.444824\n",
            "Train Epoch: 4 [1280/7471 (17%)]\tLoss: 231.204697\n",
            "Train Epoch: 4 [1440/7471 (19%)]\tLoss: 228.715469\n",
            "Train Epoch: 4 [1600/7471 (21%)]\tLoss: 379.889984\n",
            "Train Epoch: 4 [1760/7471 (24%)]\tLoss: 238.534729\n",
            "Train Epoch: 4 [1920/7471 (26%)]\tLoss: 784.802307\n",
            "Train Epoch: 4 [2080/7471 (28%)]\tLoss: 2036.282349\n",
            "Train Epoch: 4 [2240/7471 (30%)]\tLoss: 4314.427246\n",
            "Train Epoch: 4 [2400/7471 (32%)]\tLoss: 5863.286621\n",
            "Train Epoch: 4 [2560/7471 (34%)]\tLoss: 6939.158691\n",
            "Train Epoch: 4 [2720/7471 (36%)]\tLoss: 7397.991211\n",
            "Train Epoch: 4 [2880/7471 (39%)]\tLoss: 7821.700195\n",
            "Train Epoch: 4 [3040/7471 (41%)]\tLoss: 8201.109375\n",
            "Train Epoch: 4 [3200/7471 (43%)]\tLoss: 8333.233398\n",
            "Train Epoch: 4 [3360/7471 (45%)]\tLoss: 8285.639648\n",
            "Train Epoch: 4 [3520/7471 (47%)]\tLoss: 11825.548828\n",
            "Train Epoch: 4 [3680/7471 (49%)]\tLoss: 8890.127930\n",
            "Train Epoch: 4 [3840/7471 (51%)]\tLoss: 9250.530273\n",
            "Train Epoch: 4 [4000/7471 (54%)]\tLoss: 9239.673828\n",
            "Train Epoch: 4 [4160/7471 (56%)]\tLoss: 8114.885254\n",
            "Train Epoch: 4 [4320/7471 (58%)]\tLoss: 8224.958984\n",
            "Train Epoch: 4 [4480/7471 (60%)]\tLoss: 7764.839355\n",
            "Train Epoch: 4 [4640/7471 (62%)]\tLoss: 7815.823242\n",
            "Train Epoch: 4 [4800/7471 (64%)]\tLoss: 7282.647949\n",
            "Train Epoch: 4 [4960/7471 (66%)]\tLoss: 7182.935059\n",
            "Train Epoch: 4 [5120/7471 (69%)]\tLoss: 6674.825684\n",
            "Train Epoch: 4 [5280/7471 (71%)]\tLoss: 6874.736816\n",
            "Train Epoch: 4 [5440/7471 (73%)]\tLoss: 7147.106934\n",
            "Train Epoch: 4 [5600/7471 (75%)]\tLoss: 6628.311035\n",
            "Train Epoch: 4 [5760/7471 (77%)]\tLoss: 6806.472656\n",
            "Train Epoch: 4 [5920/7471 (79%)]\tLoss: 6353.788574\n",
            "Train Epoch: 4 [6080/7471 (81%)]\tLoss: 5988.593262\n",
            "Train Epoch: 4 [6240/7471 (84%)]\tLoss: 6151.310059\n",
            "Train Epoch: 4 [6400/7471 (86%)]\tLoss: 6052.137207\n",
            "Train Epoch: 4 [6560/7471 (88%)]\tLoss: 5638.275879\n",
            "Train Epoch: 4 [6720/7471 (90%)]\tLoss: 5940.564941\n",
            "Train Epoch: 4 [6880/7471 (92%)]\tLoss: 5574.845215\n",
            "Train Epoch: 4 [7040/7471 (94%)]\tLoss: 4793.019531\n",
            "Train Epoch: 4 [7200/7471 (96%)]\tLoss: 5396.654297\n",
            "Train Epoch: 4 [7360/7471 (99%)]\tLoss: 5503.137695\n",
            "====> Epoch: 4 Average loss: 5507.0398\n",
            "====> Test set loss: 5357.3610\n"
          ],
          "name": "stdout"
        },
        {
          "output_type": "display_data",
          "data": {
            "image/png": "[encoded data removed]",
            "text/plain": [
              "<Figure size 432x288 with 1 Axes>"
            ]
          },
          "metadata": {
            "tags": [],
            "needs_background": "light"
          }
        },
        {
          "output_type": "stream",
          "text": [
            "5\n",
            "Train Epoch: 5 [0/7471 (0%)]\tLoss: 5251.862793\n",
            "Train Epoch: 5 [160/7471 (2%)]\tLoss: 5007.617676\n",
            "Train Epoch: 5 [320/7471 (4%)]\tLoss: 4975.237305\n",
            "Train Epoch: 5 [480/7471 (6%)]\tLoss: 5078.178711\n",
            "Train Epoch: 5 [640/7471 (9%)]\tLoss: 4071.422852\n",
            "Train Epoch: 5 [800/7471 (11%)]\tLoss: 4769.377441\n",
            "Train Epoch: 5 [960/7471 (13%)]\tLoss: 4833.848145\n",
            "Train Epoch: 5 [1120/7471 (15%)]\tLoss: 4759.603516\n",
            "Train Epoch: 5 [1280/7471 (17%)]\tLoss: 4371.188965\n",
            "Train Epoch: 5 [1440/7471 (19%)]\tLoss: 4419.431152\n",
            "Train Epoch: 5 [1600/7471 (21%)]\tLoss: 4436.201660\n",
            "Train Epoch: 5 [1760/7471 (24%)]\tLoss: 4349.365723\n",
            "Train Epoch: 5 [1920/7471 (26%)]\tLoss: 4073.206299\n",
            "Train Epoch: 5 [2080/7471 (28%)]\tLoss: 3951.987305\n",
            "Train Epoch: 5 [2240/7471 (30%)]\tLoss: 4037.291504\n",
            "Train Epoch: 5 [2400/7471 (32%)]\tLoss: 4292.969727\n",
            "Train Epoch: 5 [2560/7471 (34%)]\tLoss: 3816.902832\n",
            "Train Epoch: 5 [2720/7471 (36%)]\tLoss: 3969.384521\n",
            "Train Epoch: 5 [2880/7471 (39%)]\tLoss: 3641.879639\n",
            "Train Epoch: 5 [3040/7471 (41%)]\tLoss: 3825.473145\n",
            "Train Epoch: 5 [3200/7471 (43%)]\tLoss: 3802.552734\n",
            "Train Epoch: 5 [3360/7471 (45%)]\tLoss: 3692.403809\n",
            "Train Epoch: 5 [3520/7471 (47%)]\tLoss: 3592.438721\n",
            "Train Epoch: 5 [3680/7471 (49%)]\tLoss: 3383.193115\n",
            "Train Epoch: 5 [3840/7471 (51%)]\tLoss: 3473.042236\n",
            "Train Epoch: 5 [4000/7471 (54%)]\tLoss: 3297.096436\n",
            "Train Epoch: 5 [4160/7471 (56%)]\tLoss: 3310.278076\n",
            "Train Epoch: 5 [4320/7471 (58%)]\tLoss: 2930.892334\n",
            "Train Epoch: 5 [4480/7471 (60%)]\tLoss: 3411.156494\n",
            "Train Epoch: 5 [4640/7471 (62%)]\tLoss: 3258.385742\n",
            "Train Epoch: 5 [4800/7471 (64%)]\tLoss: 3196.844727\n",
            "Train Epoch: 5 [4960/7471 (66%)]\tLoss: 3203.669434\n",
            "Train Epoch: 5 [5120/7471 (69%)]\tLoss: 3106.484131\n",
            "Train Epoch: 5 [5280/7471 (71%)]\tLoss: 2949.618408\n",
            "Train Epoch: 5 [5440/7471 (73%)]\tLoss: 3062.063477\n",
            "Train Epoch: 5 [5600/7471 (75%)]\tLoss: 2937.931396\n",
            "Train Epoch: 5 [5760/7471 (77%)]\tLoss: 3002.645752\n",
            "Train Epoch: 5 [5920/7471 (79%)]\tLoss: 2854.659180\n",
            "Train Epoch: 5 [6080/7471 (81%)]\tLoss: 2741.166992\n",
            "Train Epoch: 5 [6240/7471 (84%)]\tLoss: 2772.469727\n",
            "Train Epoch: 5 [6400/7471 (86%)]\tLoss: 2865.865479\n",
            "Train Epoch: 5 [6560/7471 (88%)]\tLoss: 2863.239746\n",
            "Train Epoch: 5 [6720/7471 (90%)]\tLoss: 2608.369385\n",
            "Train Epoch: 5 [6880/7471 (92%)]\tLoss: 2489.718018\n",
            "Train Epoch: 5 [7040/7471 (94%)]\tLoss: 2696.212891\n",
            "Train Epoch: 5 [7200/7471 (96%)]\tLoss: 2595.847656\n",
            "Train Epoch: 5 [7360/7471 (99%)]\tLoss: 2139.090820\n",
            "====> Epoch: 5 Average loss: 3659.5041\n",
            "====> Test set loss: 2486.0072\n"
          ],
          "name": "stdout"
        },
        {
          "output_type": "display_data",
          "data": {
            "image/png": "[encoded data removed]",
            "text/plain": [
              "<Figure size 432x288 with 1 Axes>"
            ]
          },
          "metadata": {
            "tags": [],
            "needs_background": "light"
          }
        },
        {
          "output_type": "stream",
          "text": [
            "6\n",
            "Train Epoch: 6 [0/7471 (0%)]\tLoss: 2587.424561\n",
            "Train Epoch: 6 [160/7471 (2%)]\tLoss: 2423.413086\n",
            "Train Epoch: 6 [320/7471 (4%)]\tLoss: 2330.227539\n",
            "Train Epoch: 6 [480/7471 (6%)]\tLoss: 2348.088623\n",
            "Train Epoch: 6 [640/7471 (9%)]\tLoss: 2178.539551\n",
            "Train Epoch: 6 [800/7471 (11%)]\tLoss: 2217.561279\n",
            "Train Epoch: 6 [960/7471 (13%)]\tLoss: 2171.323975\n",
            "Train Epoch: 6 [1120/7471 (15%)]\tLoss: 2171.881348\n",
            "Train Epoch: 6 [1280/7471 (17%)]\tLoss: 2260.380859\n",
            "Train Epoch: 6 [1440/7471 (19%)]\tLoss: 2432.514404\n",
            "Train Epoch: 6 [1600/7471 (21%)]\tLoss: 2021.588501\n",
            "Train Epoch: 6 [1760/7471 (24%)]\tLoss: 2256.431885\n",
            "Train Epoch: 6 [1920/7471 (26%)]\tLoss: 2016.054077\n",
            "Train Epoch: 6 [2080/7471 (28%)]\tLoss: 2022.688965\n",
            "Train Epoch: 6 [2240/7471 (30%)]\tLoss: 2087.236328\n",
            "Train Epoch: 6 [2400/7471 (32%)]\tLoss: 2102.009766\n",
            "Train Epoch: 6 [2560/7471 (34%)]\tLoss: 2076.772461\n",
            "Train Epoch: 6 [2720/7471 (36%)]\tLoss: 2151.968262\n",
            "Train Epoch: 6 [2880/7471 (39%)]\tLoss: 1958.876831\n",
            "Train Epoch: 6 [3040/7471 (41%)]\tLoss: 2008.197388\n",
            "Train Epoch: 6 [3200/7471 (43%)]\tLoss: 1991.451660\n",
            "Train Epoch: 6 [3360/7471 (45%)]\tLoss: 2026.691040\n",
            "Train Epoch: 6 [3520/7471 (47%)]\tLoss: 1904.106079\n",
            "Train Epoch: 6 [3680/7471 (49%)]\tLoss: 1917.476318\n",
            "Train Epoch: 6 [3840/7471 (51%)]\tLoss: 2029.673950\n",
            "Train Epoch: 6 [4000/7471 (54%)]\tLoss: 1932.929443\n",
            "Train Epoch: 6 [4160/7471 (56%)]\tLoss: 1878.086060\n",
            "Train Epoch: 6 [4320/7471 (58%)]\tLoss: 1937.762207\n",
            "Train Epoch: 6 [4480/7471 (60%)]\tLoss: 1922.201416\n",
            "Train Epoch: 6 [4640/7471 (62%)]\tLoss: 1920.629028\n",
            "Train Epoch: 6 [4800/7471 (64%)]\tLoss: 1701.255371\n",
            "Train Epoch: 6 [4960/7471 (66%)]\tLoss: 1840.421143\n",
            "Train Epoch: 6 [5120/7471 (69%)]\tLoss: 1845.817017\n",
            "Train Epoch: 6 [5280/7471 (71%)]\tLoss: 1758.691650\n",
            "Train Epoch: 6 [5440/7471 (73%)]\tLoss: 1862.208130\n",
            "Train Epoch: 6 [5600/7471 (75%)]\tLoss: 1667.194458\n",
            "Train Epoch: 6 [5760/7471 (77%)]\tLoss: 1722.602417\n",
            "Train Epoch: 6 [5920/7471 (79%)]\tLoss: 1663.442505\n",
            "Train Epoch: 6 [6080/7471 (81%)]\tLoss: 1668.560791\n",
            "Train Epoch: 6 [6240/7471 (84%)]\tLoss: 1749.973633\n",
            "Train Epoch: 6 [6400/7471 (86%)]\tLoss: 1626.699951\n",
            "Train Epoch: 6 [6560/7471 (88%)]\tLoss: 1606.537109\n",
            "Train Epoch: 6 [6720/7471 (90%)]\tLoss: 1683.777466\n",
            "Train Epoch: 6 [6880/7471 (92%)]\tLoss: 1623.564819\n",
            "Train Epoch: 6 [7040/7471 (94%)]\tLoss: 1746.458984\n",
            "Train Epoch: 6 [7200/7471 (96%)]\tLoss: 1667.692627\n",
            "Train Epoch: 6 [7360/7471 (99%)]\tLoss: 1466.958618\n",
            "====> Epoch: 6 Average loss: 1965.3948\n",
            "====> Test set loss: 1590.5008\n"
          ],
          "name": "stdout"
        },
        {
          "output_type": "display_data",
          "data": {
            "image/png": "[encoded data removed]",
            "text/plain": [
              "<Figure size 432x288 with 1 Axes>"
            ]
          },
          "metadata": {
            "tags": [],
            "needs_background": "light"
          }
        },
        {
          "output_type": "stream",
          "text": [
            "7\n",
            "Train Epoch: 7 [0/7471 (0%)]\tLoss: 1589.353882\n",
            "Train Epoch: 7 [160/7471 (2%)]\tLoss: 1547.878662\n",
            "Train Epoch: 7 [320/7471 (4%)]\tLoss: 1577.277222\n",
            "Train Epoch: 7 [480/7471 (6%)]\tLoss: 1586.186768\n",
            "Train Epoch: 7 [640/7471 (9%)]\tLoss: 1594.916016\n",
            "Train Epoch: 7 [800/7471 (11%)]\tLoss: 1561.108398\n",
            "Train Epoch: 7 [960/7471 (13%)]\tLoss: 1543.512939\n",
            "Train Epoch: 7 [1120/7471 (15%)]\tLoss: 1771.283936\n",
            "Train Epoch: 7 [1280/7471 (17%)]\tLoss: 1673.016846\n",
            "Train Epoch: 7 [1440/7471 (19%)]\tLoss: 1681.314941\n",
            "Train Epoch: 7 [1600/7471 (21%)]\tLoss: 1671.255127\n",
            "Train Epoch: 7 [1760/7471 (24%)]\tLoss: 9646.765625\n",
            "Train Epoch: 7 [1920/7471 (26%)]\tLoss: 5020.151367\n",
            "Train Epoch: 7 [2080/7471 (28%)]\tLoss: 6096.413086\n",
            "Train Epoch: 7 [2240/7471 (30%)]\tLoss: 6892.345215\n",
            "Train Epoch: 7 [2400/7471 (32%)]\tLoss: 6589.444824\n",
            "Train Epoch: 7 [2560/7471 (34%)]\tLoss: 7061.857422\n",
            "Train Epoch: 7 [2720/7471 (36%)]\tLoss: 7643.032227\n",
            "Train Epoch: 7 [2880/7471 (39%)]\tLoss: 7545.186523\n",
            "Train Epoch: 7 [3040/7471 (41%)]\tLoss: 7509.639160\n",
            "Train Epoch: 7 [3200/7471 (43%)]\tLoss: 7729.631348\n",
            "Train Epoch: 7 [3360/7471 (45%)]\tLoss: 7137.542969\n",
            "Train Epoch: 7 [3520/7471 (47%)]\tLoss: 7083.107422\n",
            "Train Epoch: 7 [3680/7471 (49%)]\tLoss: 7139.885254\n",
            "Train Epoch: 7 [3840/7471 (51%)]\tLoss: 6659.222656\n",
            "Train Epoch: 7 [4000/7471 (54%)]\tLoss: 6953.830566\n",
            "Train Epoch: 7 [4160/7471 (56%)]\tLoss: 6674.083984\n",
            "Train Epoch: 7 [4320/7471 (58%)]\tLoss: 6872.325195\n",
            "Train Epoch: 7 [4480/7471 (60%)]\tLoss: 6421.679199\n",
            "Train Epoch: 7 [4640/7471 (62%)]\tLoss: 6502.975586\n",
            "Train Epoch: 7 [4800/7471 (64%)]\tLoss: 6645.434570\n",
            "Train Epoch: 7 [4960/7471 (66%)]\tLoss: 6057.304199\n",
            "Train Epoch: 7 [5120/7471 (69%)]\tLoss: 6164.391113\n",
            "Train Epoch: 7 [5280/7471 (71%)]\tLoss: 5997.607910\n",
            "Train Epoch: 7 [5440/7471 (73%)]\tLoss: 5943.687988\n",
            "Train Epoch: 7 [5600/7471 (75%)]\tLoss: 5970.413086\n",
            "Train Epoch: 7 [5760/7471 (77%)]\tLoss: 6252.338867\n",
            "Train Epoch: 7 [5920/7471 (79%)]\tLoss: 5428.599121\n",
            "Train Epoch: 7 [6080/7471 (81%)]\tLoss: 4974.738770\n",
            "Train Epoch: 7 [6240/7471 (84%)]\tLoss: 5249.509277\n",
            "Train Epoch: 7 [6400/7471 (86%)]\tLoss: 5184.483887\n",
            "Train Epoch: 7 [6560/7471 (88%)]\tLoss: 4632.553223\n",
            "Train Epoch: 7 [6720/7471 (90%)]\tLoss: 4444.875000\n",
            "Train Epoch: 7 [6880/7471 (92%)]\tLoss: 4797.853027\n",
            "Train Epoch: 7 [7040/7471 (94%)]\tLoss: 4558.126953\n",
            "Train Epoch: 7 [7200/7471 (96%)]\tLoss: 4472.939453\n",
            "Train Epoch: 7 [7360/7471 (99%)]\tLoss: 4347.450195\n",
            "====> Epoch: 7 Average loss: 5103.6555\n",
            "====> Test set loss: 4317.2420\n"
          ],
          "name": "stdout"
        },
        {
          "output_type": "display_data",
          "data": {
            "image/png": "[encoded data removed]",
            "text/plain": [
              "<Figure size 432x288 with 1 Axes>"
            ]
          },
          "metadata": {
            "tags": [],
            "needs_background": "light"
          }
        },
        {
          "output_type": "stream",
          "text": [
            "8\n",
            "Train Epoch: 8 [0/7471 (0%)]\tLoss: 4177.467285\n",
            "Train Epoch: 8 [160/7471 (2%)]\tLoss: 4375.469238\n",
            "Train Epoch: 8 [320/7471 (4%)]\tLoss: 3794.166504\n",
            "Train Epoch: 8 [480/7471 (6%)]\tLoss: 3979.896973\n",
            "Train Epoch: 8 [640/7471 (9%)]\tLoss: 4037.327393\n",
            "Train Epoch: 8 [800/7471 (11%)]\tLoss: 3835.824219\n",
            "Train Epoch: 8 [960/7471 (13%)]\tLoss: 3880.266846\n",
            "Train Epoch: 8 [1120/7471 (15%)]\tLoss: 3684.327881\n",
            "Train Epoch: 8 [1280/7471 (17%)]\tLoss: 3314.884033\n",
            "Train Epoch: 8 [1440/7471 (19%)]\tLoss: 3665.788330\n",
            "Train Epoch: 8 [1600/7471 (21%)]\tLoss: 3421.287109\n",
            "Train Epoch: 8 [1760/7471 (24%)]\tLoss: 3343.898682\n",
            "Train Epoch: 8 [1920/7471 (26%)]\tLoss: 3331.190186\n",
            "Train Epoch: 8 [2080/7471 (28%)]\tLoss: 3566.684326\n",
            "Train Epoch: 8 [2240/7471 (30%)]\tLoss: 3400.461670\n",
            "Train Epoch: 8 [2400/7471 (32%)]\tLoss: 3337.083740\n",
            "Train Epoch: 8 [2560/7471 (34%)]\tLoss: 3291.821777\n",
            "Train Epoch: 8 [2720/7471 (36%)]\tLoss: 3329.757324\n",
            "Train Epoch: 8 [2880/7471 (39%)]\tLoss: 3243.264404\n",
            "Train Epoch: 8 [3040/7471 (41%)]\tLoss: 3183.477539\n",
            "Train Epoch: 8 [3200/7471 (43%)]\tLoss: 3034.966064\n",
            "Train Epoch: 8 [3360/7471 (45%)]\tLoss: 2805.031982\n",
            "Train Epoch: 8 [3520/7471 (47%)]\tLoss: 3255.649170\n",
            "Train Epoch: 8 [3680/7471 (49%)]\tLoss: 2960.469482\n",
            "Train Epoch: 8 [3840/7471 (51%)]\tLoss: 2889.938965\n",
            "Train Epoch: 8 [4000/7471 (54%)]\tLoss: 2857.275879\n",
            "Train Epoch: 8 [4160/7471 (56%)]\tLoss: 2923.324707\n",
            "Train Epoch: 8 [4320/7471 (58%)]\tLoss: 2835.935303\n",
            "Train Epoch: 8 [4480/7471 (60%)]\tLoss: 2789.001953\n",
            "Train Epoch: 8 [4640/7471 (62%)]\tLoss: 2722.835449\n",
            "Train Epoch: 8 [4800/7471 (64%)]\tLoss: 2780.963867\n",
            "Train Epoch: 8 [4960/7471 (66%)]\tLoss: 2643.828613\n",
            "Train Epoch: 8 [5120/7471 (69%)]\tLoss: 2664.637207\n",
            "Train Epoch: 8 [5280/7471 (71%)]\tLoss: 2514.188965\n",
            "Train Epoch: 8 [5440/7471 (73%)]\tLoss: 2590.020020\n",
            "Train Epoch: 8 [5600/7471 (75%)]\tLoss: 2623.980225\n",
            "Train Epoch: 8 [5760/7471 (77%)]\tLoss: 2761.022461\n",
            "Train Epoch: 8 [5920/7471 (79%)]\tLoss: 2619.020752\n",
            "Train Epoch: 8 [6080/7471 (81%)]\tLoss: 2437.833740\n",
            "Train Epoch: 8 [6240/7471 (84%)]\tLoss: 2411.438721\n",
            "Train Epoch: 8 [6400/7471 (86%)]\tLoss: 2297.727539\n",
            "Train Epoch: 8 [6560/7471 (88%)]\tLoss: 2390.026367\n",
            "Train Epoch: 8 [6720/7471 (90%)]\tLoss: 2319.440430\n",
            "Train Epoch: 8 [6880/7471 (92%)]\tLoss: 2316.137207\n",
            "Train Epoch: 8 [7040/7471 (94%)]\tLoss: 2347.748047\n",
            "Train Epoch: 8 [7200/7471 (96%)]\tLoss: 2197.799561\n",
            "Train Epoch: 8 [7360/7471 (99%)]\tLoss: 2454.785645\n",
            "====> Epoch: 8 Average loss: 3061.5007\n",
            "====> Test set loss: 2254.5808\n"
          ],
          "name": "stdout"
        },
        {
          "output_type": "display_data",
          "data": {
            "image/png": "[encoded data removed]",
            "text/plain": [
              "<Figure size 432x288 with 1 Axes>"
            ]
          },
          "metadata": {
            "tags": [],
            "needs_background": "light"
          }
        },
        {
          "output_type": "stream",
          "text": [
            "9\n",
            "Train Epoch: 9 [0/7471 (0%)]\tLoss: 2335.286133\n",
            "Train Epoch: 9 [160/7471 (2%)]\tLoss: 2233.471191\n",
            "Train Epoch: 9 [320/7471 (4%)]\tLoss: 2154.510986\n",
            "Train Epoch: 9 [480/7471 (6%)]\tLoss: 2150.320312\n",
            "Train Epoch: 9 [640/7471 (9%)]\tLoss: 2238.725830\n",
            "Train Epoch: 9 [800/7471 (11%)]\tLoss: 2047.625244\n",
            "Train Epoch: 9 [960/7471 (13%)]\tLoss: 2077.545654\n",
            "Train Epoch: 9 [1120/7471 (15%)]\tLoss: 1910.433716\n",
            "Train Epoch: 9 [1280/7471 (17%)]\tLoss: 2068.888672\n",
            "Train Epoch: 9 [1440/7471 (19%)]\tLoss: 2063.430908\n",
            "Train Epoch: 9 [1600/7471 (21%)]\tLoss: 1961.531494\n",
            "Train Epoch: 9 [1760/7471 (24%)]\tLoss: 2067.372803\n",
            "Train Epoch: 9 [1920/7471 (26%)]\tLoss: 1852.926147\n",
            "Train Epoch: 9 [2080/7471 (28%)]\tLoss: 1941.273682\n",
            "Train Epoch: 9 [2240/7471 (30%)]\tLoss: 1790.583130\n",
            "Train Epoch: 9 [2400/7471 (32%)]\tLoss: 1737.929688\n",
            "Train Epoch: 9 [2560/7471 (34%)]\tLoss: 1743.062988\n",
            "Train Epoch: 9 [2720/7471 (36%)]\tLoss: 1751.278076\n",
            "Train Epoch: 9 [2880/7471 (39%)]\tLoss: 1793.353638\n",
            "Train Epoch: 9 [3040/7471 (41%)]\tLoss: 1786.465454\n",
            "Train Epoch: 9 [3200/7471 (43%)]\tLoss: 1577.338379\n",
            "Train Epoch: 9 [3360/7471 (45%)]\tLoss: 1716.417114\n",
            "Train Epoch: 9 [3520/7471 (47%)]\tLoss: 1559.487915\n",
            "Train Epoch: 9 [3680/7471 (49%)]\tLoss: 1784.141235\n",
            "Train Epoch: 9 [3840/7471 (51%)]\tLoss: 1707.431763\n",
            "Train Epoch: 9 [4000/7471 (54%)]\tLoss: 1659.844238\n",
            "Train Epoch: 9 [4160/7471 (56%)]\tLoss: 1517.507202\n",
            "Train Epoch: 9 [4320/7471 (58%)]\tLoss: 1686.064941\n",
            "Train Epoch: 9 [4480/7471 (60%)]\tLoss: 1737.306030\n",
            "Train Epoch: 9 [4640/7471 (62%)]\tLoss: 1759.339844\n",
            "Train Epoch: 9 [4800/7471 (64%)]\tLoss: 1696.858765\n",
            "Train Epoch: 9 [4960/7471 (66%)]\tLoss: 1729.389404\n",
            "Train Epoch: 9 [5120/7471 (69%)]\tLoss: 1735.357544\n",
            "Train Epoch: 9 [5280/7471 (71%)]\tLoss: 1638.880249\n",
            "Train Epoch: 9 [5440/7471 (73%)]\tLoss: 1621.378906\n",
            "Train Epoch: 9 [5600/7471 (75%)]\tLoss: 1576.250854\n",
            "Train Epoch: 9 [5760/7471 (77%)]\tLoss: 1654.292725\n",
            "Train Epoch: 9 [5920/7471 (79%)]\tLoss: 1555.093750\n",
            "Train Epoch: 9 [6080/7471 (81%)]\tLoss: 1472.422974\n",
            "Train Epoch: 9 [6240/7471 (84%)]\tLoss: 1530.839844\n",
            "Train Epoch: 9 [6400/7471 (86%)]\tLoss: 1346.746948\n",
            "Train Epoch: 9 [6560/7471 (88%)]\tLoss: 1492.189209\n",
            "Train Epoch: 9 [6720/7471 (90%)]\tLoss: 1303.598999\n",
            "Train Epoch: 9 [6880/7471 (92%)]\tLoss: 1425.585327\n",
            "Train Epoch: 9 [7040/7471 (94%)]\tLoss: 1318.488037\n",
            "Train Epoch: 9 [7200/7471 (96%)]\tLoss: 1393.134399\n",
            "Train Epoch: 9 [7360/7471 (99%)]\tLoss: 1397.827515\n",
            "====> Epoch: 9 Average loss: 1747.7484\n",
            "====> Test set loss: 1285.2401\n"
          ],
          "name": "stdout"
        },
        {
          "output_type": "display_data",
          "data": {
            "image/png": "[encoded data removed]",
            "text/plain": [
              "<Figure size 432x288 with 1 Axes>"
            ]
          },
          "metadata": {
            "tags": [],
            "needs_background": "light"
          }
        },
        {
          "output_type": "stream",
          "text": [
            "10\n",
            "Train Epoch: 10 [0/7471 (0%)]\tLoss: 1325.635742\n",
            "Train Epoch: 10 [160/7471 (2%)]\tLoss: 1242.660034\n",
            "Train Epoch: 10 [320/7471 (4%)]\tLoss: 1223.414673\n",
            "Train Epoch: 10 [480/7471 (6%)]\tLoss: 1211.543091\n",
            "Train Epoch: 10 [640/7471 (9%)]\tLoss: 1286.819092\n",
            "Train Epoch: 10 [800/7471 (11%)]\tLoss: 1226.917969\n",
            "Train Epoch: 10 [960/7471 (13%)]\tLoss: 1159.295776\n",
            "Train Epoch: 10 [1120/7471 (15%)]\tLoss: 1093.614868\n",
            "Train Epoch: 10 [1280/7471 (17%)]\tLoss: 1152.365723\n",
            "Train Epoch: 10 [1440/7471 (19%)]\tLoss: 1238.265015\n",
            "Train Epoch: 10 [1600/7471 (21%)]\tLoss: 1418.312988\n",
            "Train Epoch: 10 [1760/7471 (24%)]\tLoss: 1511.563599\n",
            "Train Epoch: 10 [1920/7471 (26%)]\tLoss: 1352.981323\n",
            "Train Epoch: 10 [2080/7471 (28%)]\tLoss: 1217.899658\n",
            "Train Epoch: 10 [2240/7471 (30%)]\tLoss: 1231.476440\n",
            "Train Epoch: 10 [2400/7471 (32%)]\tLoss: 1409.315674\n",
            "Train Epoch: 10 [2560/7471 (34%)]\tLoss: 1575.338257\n",
            "Train Epoch: 10 [2720/7471 (36%)]\tLoss: 1497.356201\n",
            "Train Epoch: 10 [2880/7471 (39%)]\tLoss: 1556.971436\n",
            "Train Epoch: 10 [3040/7471 (41%)]\tLoss: 1507.653320\n",
            "Train Epoch: 10 [3200/7471 (43%)]\tLoss: 1578.831055\n",
            "Train Epoch: 10 [3360/7471 (45%)]\tLoss: 1448.422729\n",
            "Train Epoch: 10 [3520/7471 (47%)]\tLoss: 1475.450439\n",
            "Train Epoch: 10 [3680/7471 (49%)]\tLoss: 1487.594360\n",
            "Train Epoch: 10 [3840/7471 (51%)]\tLoss: 1460.555298\n",
            "Train Epoch: 10 [4000/7471 (54%)]\tLoss: 1299.020508\n",
            "Train Epoch: 10 [4160/7471 (56%)]\tLoss: 1329.178345\n",
            "Train Epoch: 10 [4320/7471 (58%)]\tLoss: 1534.291382\n",
            "Train Epoch: 10 [4480/7471 (60%)]\tLoss: 1447.239624\n",
            "Train Epoch: 10 [4640/7471 (62%)]\tLoss: 1398.513062\n",
            "Train Epoch: 10 [4800/7471 (64%)]\tLoss: 1405.462280\n",
            "Train Epoch: 10 [4960/7471 (66%)]\tLoss: 1327.279419\n",
            "Train Epoch: 10 [5120/7471 (69%)]\tLoss: 1236.482788\n",
            "Train Epoch: 10 [5280/7471 (71%)]\tLoss: 1200.812622\n",
            "Train Epoch: 10 [5440/7471 (73%)]\tLoss: 1171.541870\n",
            "Train Epoch: 10 [5600/7471 (75%)]\tLoss: 1318.154907\n",
            "Train Epoch: 10 [5760/7471 (77%)]\tLoss: 1189.591309\n",
            "Train Epoch: 10 [5920/7471 (79%)]\tLoss: 1241.094604\n",
            "Train Epoch: 10 [6080/7471 (81%)]\tLoss: 1165.861206\n",
            "Train Epoch: 10 [6240/7471 (84%)]\tLoss: 1116.512939\n",
            "Train Epoch: 10 [6400/7471 (86%)]\tLoss: 1141.882812\n",
            "Train Epoch: 10 [6560/7471 (88%)]\tLoss: 1063.830566\n",
            "Train Epoch: 10 [6720/7471 (90%)]\tLoss: 1030.569824\n",
            "Train Epoch: 10 [6880/7471 (92%)]\tLoss: 1016.687744\n",
            "Train Epoch: 10 [7040/7471 (94%)]\tLoss: 991.349121\n",
            "Train Epoch: 10 [7200/7471 (96%)]\tLoss: 997.452942\n",
            "Train Epoch: 10 [7360/7471 (99%)]\tLoss: 1016.763611\n",
            "====> Epoch: 10 Average loss: 1286.5236\n",
            "====> Test set loss: 1005.8975\n"
          ],
          "name": "stdout"
        },
        {
          "output_type": "display_data",
          "data": {
            "image/png": "[encoded data removed]",
            "text/plain": [
              "<Figure size 432x288 with 1 Axes>"
            ]
          },
          "metadata": {
            "tags": [],
            "needs_background": "light"
          }
        }
      ]
    },
    {
      "cell_type": "markdown",
      "metadata": {
        "id": "IHCya9FV7L1n",
        "colab_type": "text"
      },
      "source": [
        ""
      ]
    },
    {
      "cell_type": "code",
      "metadata": {
        "id": "zaZ4DLaUEYxt",
        "colab_type": "code",
        "colab": {}
      },
      "source": [
        "CUDA_LAUNCH_BLOCKING=1"
      ],
      "execution_count": null,
      "outputs": []
    },
    {
      "cell_type": "code",
      "metadata": {
        "id": "xuB2wWp6gkT5",
        "colab_type": "code",
        "colab": {
          "base_uri": "https://localhost:8080/",
          "height": 391
        },
        "outputId": "c931d2d5-b0b7-48f0-df3a-04bdd51e803d"
      },
      "source": [
        "epochs = 120\n",
        "\n",
        "\n",
        "for epoch in range(1, epochs + 1):\n",
        "        print(epoch)\n",
        "        train(epoch)\n",
        "        test(epoch)\n",
        "\n",
        "        # change liveloss to my model\n",
        "        # https://github.com/stared/livelossplot/blob/master/examples/pytorch.ipynb\n",
        "        # https://www.w3resource.com/graphics/matplotlib/basic/matplotlib-basic-exercise-5.php\n",
        "        plt.plot(Epoch_Loss['train_epoch'],Epoch_Loss['train_loss'], label=\"train_loss\")\n",
        "        plt.plot(Epoch_Loss['test_epoch'],Epoch_Loss['test_loss'], label=\"test_loss\")\n",
        "        plt.xlabel('Epochs')\n",
        "        plt.ylabel('Loss Score')\n",
        "        plt.title('Train_Test_Loss')\n",
        "        plt.legend()\n",
        "        plt.savefig('./plot_Exp01/'+str(epoch)+'_epoch.png', dpi=300)\n",
        "        plt.show()\n",
        "    \n",
        "        with torch.no_grad():\n",
        "            sample = torch.randn(64, 100).to(device)  # Change it (64, 100) to (16, 100)\n",
        "            sample = model.decode(sample).cpu()\n",
        "            save_image(sample.view(64, 1, 224, 224),  # (64, 1, 224, 224) to (16, 1, 224, 224)\n",
        "                       './results_Exp01/sample_' + str(epoch) + '.png')\n",
        "        "
      ],
      "execution_count": 19,
      "outputs": [
        {
          "output_type": "stream",
          "text": [
            "1\n"
          ],
          "name": "stdout"
        },
        {
          "output_type": "error",
          "ename": "RuntimeError",
          "evalue": "ignored",
          "traceback": [
            "\u001b[0;31m---------------------------------------------------------------------------\u001b[0m",
            "\u001b[0;31mRuntimeError\u001b[0m                              Traceback (most recent call last)",
            "\u001b[0;32m<ipython-input-19-7a861ab5019c>\u001b[0m in \u001b[0;36m<module>\u001b[0;34m()\u001b[0m\n\u001b[1;32m      4\u001b[0m \u001b[0;32mfor\u001b[0m \u001b[0mepoch\u001b[0m \u001b[0;32min\u001b[0m \u001b[0mrange\u001b[0m\u001b[0;34m(\u001b[0m\u001b[0;36m1\u001b[0m\u001b[0;34m,\u001b[0m \u001b[0mepochs\u001b[0m \u001b[0;34m+\u001b[0m \u001b[0;36m1\u001b[0m\u001b[0;34m)\u001b[0m\u001b[0;34m:\u001b[0m\u001b[0;34m\u001b[0m\u001b[0;34m\u001b[0m\u001b[0m\n\u001b[1;32m      5\u001b[0m         \u001b[0mprint\u001b[0m\u001b[0;34m(\u001b[0m\u001b[0mepoch\u001b[0m\u001b[0;34m)\u001b[0m\u001b[0;34m\u001b[0m\u001b[0;34m\u001b[0m\u001b[0m\n\u001b[0;32m----> 6\u001b[0;31m         \u001b[0mtrain\u001b[0m\u001b[0;34m(\u001b[0m\u001b[0mepoch\u001b[0m\u001b[0;34m)\u001b[0m\u001b[0;34m\u001b[0m\u001b[0;34m\u001b[0m\u001b[0m\n\u001b[0m\u001b[1;32m      7\u001b[0m         \u001b[0mtest\u001b[0m\u001b[0;34m(\u001b[0m\u001b[0mepoch\u001b[0m\u001b[0;34m)\u001b[0m\u001b[0;34m\u001b[0m\u001b[0;34m\u001b[0m\u001b[0m\n\u001b[1;32m      8\u001b[0m \u001b[0;34m\u001b[0m\u001b[0m\n",
            "\u001b[0;32m<ipython-input-16-8ad44947c1ce>\u001b[0m in \u001b[0;36mtrain\u001b[0;34m(epoch)\u001b[0m\n\u001b[1;32m     16\u001b[0m     \u001b[0mtrain_loss\u001b[0m \u001b[0;34m=\u001b[0m \u001b[0;36m0\u001b[0m\u001b[0;34m\u001b[0m\u001b[0;34m\u001b[0m\u001b[0m\n\u001b[1;32m     17\u001b[0m     \u001b[0;32mfor\u001b[0m \u001b[0mbatch_idx\u001b[0m\u001b[0;34m,\u001b[0m \u001b[0;34m(\u001b[0m\u001b[0mdata\u001b[0m\u001b[0;34m,\u001b[0m \u001b[0m_\u001b[0m\u001b[0;34m)\u001b[0m \u001b[0;32min\u001b[0m \u001b[0menumerate\u001b[0m\u001b[0;34m(\u001b[0m\u001b[0mtrain_loader\u001b[0m\u001b[0;34m)\u001b[0m\u001b[0;34m:\u001b[0m\u001b[0;34m\u001b[0m\u001b[0;34m\u001b[0m\u001b[0m\n\u001b[0;32m---> 18\u001b[0;31m         \u001b[0mdata\u001b[0m \u001b[0;34m=\u001b[0m \u001b[0mdata\u001b[0m\u001b[0;34m.\u001b[0m\u001b[0mto\u001b[0m\u001b[0;34m(\u001b[0m\u001b[0mdevice\u001b[0m\u001b[0;34m)\u001b[0m\u001b[0;34m\u001b[0m\u001b[0;34m\u001b[0m\u001b[0m\n\u001b[0m\u001b[1;32m     19\u001b[0m         \u001b[0moptimizer\u001b[0m\u001b[0;34m.\u001b[0m\u001b[0mzero_grad\u001b[0m\u001b[0;34m(\u001b[0m\u001b[0;34m)\u001b[0m\u001b[0;34m\u001b[0m\u001b[0;34m\u001b[0m\u001b[0m\n\u001b[1;32m     20\u001b[0m         \u001b[0mrecon_batch\u001b[0m\u001b[0;34m,\u001b[0m \u001b[0mmu\u001b[0m\u001b[0;34m,\u001b[0m \u001b[0mlogvar\u001b[0m \u001b[0;34m=\u001b[0m \u001b[0mmodel\u001b[0m\u001b[0;34m(\u001b[0m\u001b[0mdata\u001b[0m\u001b[0;34m)\u001b[0m\u001b[0;34m\u001b[0m\u001b[0;34m\u001b[0m\u001b[0m\n",
            "\u001b[0;31mRuntimeError\u001b[0m: CUDA error: device-side assert triggered"
          ]
        }
      ]
    },
    {
      "cell_type": "code",
      "metadata": {
        "id": "uPGfcCAlDAj-",
        "colab_type": "code",
        "colab": {}
      },
      "source": [
        ""
      ],
      "execution_count": null,
      "outputs": []
    }
  ]
}