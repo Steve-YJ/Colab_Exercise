{
  "nbformat": 4,
  "nbformat_minor": 0,
  "metadata": {
    "colab": {
      "name": "Again_Training_Exp02_Epoch_params_t_SNE.VAE.ipynb",
      "provenance": [],
      "collapsed_sections": [],
      "machine_shape": "hm",
      "authorship_tag": "ABX9TyN9RJIAmFirIW2fJxVYak0A",
      "include_colab_link": true
    },
    "kernelspec": {
      "name": "python3",
      "display_name": "Python 3"
    },
    "accelerator": "GPU"
  },
  "cells": [
    {
      "cell_type": "markdown",
      "metadata": {
        "id": "view-in-github",
        "colab_type": "text"
      },
      "source": [
        "<a href=\"https://colab.research.google.com/github/Steve-YJ/Colab_Exercise/blob/master/Again_Training_Exp02_Epoch_params_t_SNE_VAE.ipynb\" target=\"_parent\"><img src=\"https://colab.research.google.com/assets/colab-badge.svg\" alt=\"Open In Colab\"/></a>"
      ]
    },
    {
      "cell_type": "markdown",
      "metadata": {
        "id": "unmaetS6775A",
        "colab_type": "text"
      },
      "source": [
        "# README.MD\n",
        "* Try Again, Fin...Fin...Fin...!!\n",
        "* back to Original Kingma's VAE to Malimg\n",
        "    * optimizer learning rate: 1e-3\n",
        "    * optimizer params: sum to mean\n",
        "* Add \n",
        "    * plot train, test loss\n",
        "        * save it every Epochs\n",
        "    * plot latent vector per 10 Epoch\n",
        "        * save it every 10 Epoch\n",
        "    * save model's state dict per 10 Epoch\n",
        "    * save latent vector per 10 Epoch\n",
        "\n",
        "* ✅ Check Point\n",
        "    * Just try it again...!\n",
        "    * \n",
        "    * \n",
        "    \n",
        "## Reference\n",
        "* Reference repository: https://github.com/pytorch/examples/tree/master/vae\n",
        "\n",
        "* Reference for Visualization: https://github.com/tayden/VAE-Latent-Space-Explorer/blob/master/scripts/VAE.ipynb\n"
      ]
    },
    {
      "cell_type": "code",
      "metadata": {
        "id": "8XiHjsMD8MO2",
        "colab_type": "code",
        "colab": {
          "base_uri": "https://localhost:8080/",
          "height": 381
        },
        "outputId": "a24892f2-e8fd-4671-ca43-7dd0cb6d2591"
      },
      "source": [
        "! nvidia-smi"
      ],
      "execution_count": 1,
      "outputs": [
        {
          "output_type": "stream",
          "text": [
            "Fri Jul  3 15:22:53 2020       \n",
            "+-----------------------------------------------------------------------------+\n",
            "| NVIDIA-SMI 450.36.06    Driver Version: 418.67       CUDA Version: 10.1     |\n",
            "|-------------------------------+----------------------+----------------------+\n",
            "| GPU  Name        Persistence-M| Bus-Id        Disp.A | Volatile Uncorr. ECC |\n",
            "| Fan  Temp  Perf  Pwr:Usage/Cap|         Memory-Usage | GPU-Util  Compute M. |\n",
            "|                               |                      |               MIG M. |\n",
            "|===============================+======================+======================|\n",
            "|   0  Tesla P100-PCIE...  Off  | 00000000:00:04.0 Off |                    0 |\n",
            "| N/A   35C    P0    26W / 250W |      0MiB / 16280MiB |      0%      Default |\n",
            "|                               |                      |                 ERR! |\n",
            "+-------------------------------+----------------------+----------------------+\n",
            "                                                                               \n",
            "+-----------------------------------------------------------------------------+\n",
            "| Processes:                                                                  |\n",
            "|  GPU   GI   CI        PID   Type   Process name                  GPU Memory |\n",
            "|        ID   ID                                                   Usage      |\n",
            "|=============================================================================|\n",
            "|  No running processes found                                                 |\n",
            "+-----------------------------------------------------------------------------+\n"
          ],
          "name": "stdout"
        }
      ]
    },
    {
      "cell_type": "code",
      "metadata": {
        "id": "cDUY6YNV8Vs9",
        "colab_type": "code",
        "colab": {}
      },
      "source": [
        "%load_ext autoreload\n",
        "%autoreload 2"
      ],
      "execution_count": 2,
      "outputs": []
    },
    {
      "cell_type": "code",
      "metadata": {
        "id": "os9GS8R_KCWt",
        "colab_type": "code",
        "colab": {
          "base_uri": "https://localhost:8080/",
          "height": 128
        },
        "outputId": "edf28013-c73a-473e-9ce6-1d1c1266fb93"
      },
      "source": [
        "# drive mount\n",
        "from google.colab import drive\n",
        "drive.mount('/content/drive', force_remount=True)\n"
      ],
      "execution_count": 3,
      "outputs": [
        {
          "output_type": "stream",
          "text": [
            "Go to this URL in a browser: https://accounts.google.com/o/oauth2/auth?client_id=947318989803-6bn6qk8qdgf4n4g3pfee6491hc0brc4i.apps.googleusercontent.com&redirect_uri=urn%3aietf%3awg%3aoauth%3a2.0%3aoob&response_type=code&scope=email%20https%3a%2f%2fwww.googleapis.com%2fauth%2fdocs.test%20https%3a%2f%2fwww.googleapis.com%2fauth%2fdrive%20https%3a%2f%2fwww.googleapis.com%2fauth%2fdrive.photos.readonly%20https%3a%2f%2fwww.googleapis.com%2fauth%2fpeopleapi.readonly\n",
            "\n",
            "Enter your authorization code:\n",
            "··········\n",
            "Mounted at /content/drive\n"
          ],
          "name": "stdout"
        }
      ]
    },
    {
      "cell_type": "code",
      "metadata": {
        "id": "4XeJBewoLDOr",
        "colab_type": "code",
        "colab": {
          "base_uri": "https://localhost:8080/",
          "height": 54
        },
        "outputId": "33e439a9-41f0-4598-c2b4-ea6fbc6abb03"
      },
      "source": [
        "%cd drive/My\\ Drive/InfoSec_Summer_part2\n",
        "! pwd"
      ],
      "execution_count": 4,
      "outputs": [
        {
          "output_type": "stream",
          "text": [
            "/content/drive/My Drive/InfoSec_Summer_part2\n",
            "/content/drive/My Drive/InfoSec_Summer_part2\n"
          ],
          "name": "stdout"
        }
      ]
    },
    {
      "cell_type": "markdown",
      "metadata": {
        "id": "QdWHox3JaXdr",
        "colab_type": "text"
      },
      "source": [
        "## 01. Import Library"
      ]
    },
    {
      "cell_type": "code",
      "metadata": {
        "id": "8Dmz78nUKxGx",
        "colab_type": "code",
        "colab": {
          "base_uri": "https://localhost:8080/",
          "height": 74
        },
        "outputId": "c9e47dac-2c6c-46ff-eff9-e0d9657744a9"
      },
      "source": [
        "from PIL import Image\n",
        "%matplotlib inline\n",
        "\n",
        "import matplotlib\n",
        "import matplotlib.pyplot as plt\n",
        "import matplotlib as mpl\n",
        " \n",
        "# https://towardsdatascience.com/visualising-high-dimensional-datasets-using-pca-and-t-sne-in-python-8ef87e7915b\n",
        "import seaborn as sns\n",
        "\n",
        "# save single numpy array\n",
        "# https://numpy.org/doc/stable/reference/generated/numpy.save.html#numpy.save\n",
        "from tempfile import TemporaryFile\n",
        "from sklearn.manifold import TSNE\n",
        "\n",
        "import torch\n",
        "import torch.utils.data\n",
        "\n",
        "from torch import nn, optim\n",
        "from torch.nn import functional as F\n",
        "from torch.autograd import Variable\n",
        "from torch.utils.data import Dataset, DataLoader\n",
        "\n",
        "import numpy as np\n",
        "import pandas as pd\n",
        "\n",
        "import torchvision\n",
        "from torchvision import datasets, transforms\n",
        "from torchvision.utils import save_image"
      ],
      "execution_count": 5,
      "outputs": [
        {
          "output_type": "stream",
          "text": [
            "/usr/local/lib/python3.6/dist-packages/statsmodels/tools/_testing.py:19: FutureWarning: pandas.util.testing is deprecated. Use the functions in the public API at pandas.testing instead.\n",
            "  import pandas.util.testing as tm\n"
          ],
          "name": "stderr"
        }
      ]
    },
    {
      "cell_type": "markdown",
      "metadata": {
        "id": "piAH_1eCafJC",
        "colab_type": "text"
      },
      "source": [
        "## 02. Data Preprocessing\n",
        "* Load dataset\n",
        "* preprocess it\n",
        "    * transforms\n",
        "    * make custom dataset\n",
        "    * train_test split: <code>torch.utils.data.random_split</code>\n",
        "    * train_test_loader\n",
        "\n",
        "### Work Flow\n",
        "* transforms module 사용해서 image data compose 하기\n",
        "    * size 조정, normalize, tensor 변환\n",
        "* ImageFolder를 이용해 dataload\n",
        "* dataset split: train dataset, test dataset\n",
        "* DataLoader로 batch단위 dataset 불러오기"
      ]
    },
    {
      "cell_type": "code",
      "metadata": {
        "id": "05u2akkWKR4x",
        "colab_type": "code",
        "colab": {}
      },
      "source": [
        "transforms = transforms.Compose([\n",
        "                                transforms.Resize((224, 224)),                # Change size of Image to (224, 224)\n",
        "                                transforms.Grayscale(num_output_channels=1),  # Makes it 1-dimension channel\n",
        "                                transforms.ToTensor(),                        # Convert a PIL Image or numpy.ndarray to tensor.\n",
        "                                                                              # Converts a PIL Image or numpy.ndarray (H x W x C) in the range [0, 255] to a torch.FloatTensor of shape (C x H x W) in the range [0.0, 1.0] if the PIL Image belongs to one of the modes (L, LA, P, I, F, RGB, YCbCr, RGBA, CMYK, 1) or if the numpy.ndarray has dtype = np.uint8\n",
        "                                                                              # In the other cases, tensors are returned without scaling.\n",
        "                                # transforms.Normalize(mean=[0.5], std=[0.5]),\n",
        "                                \n",
        "                                ])\n",
        "\n",
        "# make custom dataset\n",
        "trainset = torchvision.datasets.ImageFolder(root='../InformationSecurity_Summer/malimg',\n",
        "                                            transform=transforms)  # make custom dataset"
      ],
      "execution_count": 6,
      "outputs": []
    },
    {
      "cell_type": "code",
      "metadata": {
        "id": "UdfkHTBrgA5U",
        "colab_type": "code",
        "colab": {
          "base_uri": "https://localhost:8080/",
          "height": 181
        },
        "outputId": "0b6b142b-fced-4142-be62-0227b160fbaa"
      },
      "source": [
        "trainset"
      ],
      "execution_count": 7,
      "outputs": [
        {
          "output_type": "execute_result",
          "data": {
            "text/plain": [
              "Dataset ImageFolder\n",
              "    Number of datapoints: 9339\n",
              "    Root location: ../InformationSecurity_Summer/malimg\n",
              "    StandardTransform\n",
              "Transform: Compose(\n",
              "               Resize(size=(224, 224), interpolation=PIL.Image.BILINEAR)\n",
              "               Grayscale(num_output_channels=1)\n",
              "               ToTensor()\n",
              "           )"
            ]
          },
          "metadata": {
            "tags": []
          },
          "execution_count": 7
        }
      ]
    },
    {
      "cell_type": "code",
      "metadata": {
        "id": "lx1-yQH1KutR",
        "colab_type": "code",
        "colab": {
          "base_uri": "https://localhost:8080/",
          "height": 472
        },
        "outputId": "5034c6ba-8e31-4ae2-b16f-998add482014"
      },
      "source": [
        "# classes = trainset.classes\n",
        "classes = trainset.classes\n",
        "classes"
      ],
      "execution_count": 8,
      "outputs": [
        {
          "output_type": "execute_result",
          "data": {
            "text/plain": [
              "['Adialer.C',\n",
              " 'Agent.FYI',\n",
              " 'Allaple.A',\n",
              " 'Allaple.L',\n",
              " 'Alueron.gen!J',\n",
              " 'Autorun.K',\n",
              " 'C2LOP.P',\n",
              " 'C2LOP.gen!g',\n",
              " 'Dialplatform.B',\n",
              " 'Dontovo.A',\n",
              " 'Fakerean',\n",
              " 'Instantaccess',\n",
              " 'Lolyda.AA1',\n",
              " 'Lolyda.AA2',\n",
              " 'Lolyda.AA3',\n",
              " 'Lolyda.AT',\n",
              " 'Malex.gen!J',\n",
              " 'Obfuscator.AD',\n",
              " 'Rbot!gen',\n",
              " 'Skintrim.N',\n",
              " 'Swizzor.gen!E',\n",
              " 'Swizzor.gen!I',\n",
              " 'VB.AT',\n",
              " 'Wintrim.BX',\n",
              " 'Yuner.A']"
            ]
          },
          "metadata": {
            "tags": []
          },
          "execution_count": 8
        }
      ]
    },
    {
      "cell_type": "code",
      "metadata": {
        "id": "mB6yE7h9Lu9A",
        "colab_type": "code",
        "colab": {
          "base_uri": "https://localhost:8080/",
          "height": 35
        },
        "outputId": "2437a174-71d1-4f86-ed90-b01d1a7f308e"
      },
      "source": [
        "full_dataset = trainset\n",
        "train_size = int(0.8 * len(full_dataset))\n",
        "test_size = len(full_dataset) - train_size\n",
        "print(train_size, test_size)\n",
        "\n",
        "train_dataset, test_dataset = torch.utils.data.random_split(full_dataset, [train_size, test_size])"
      ],
      "execution_count": 9,
      "outputs": [
        {
          "output_type": "stream",
          "text": [
            "7471 1868\n"
          ],
          "name": "stdout"
        }
      ]
    },
    {
      "cell_type": "code",
      "metadata": {
        "id": "OVa6JXchgybb",
        "colab_type": "code",
        "colab": {
          "base_uri": "https://localhost:8080/",
          "height": 345
        },
        "outputId": "770de838-e154-47ce-e6fc-5660d3a740eb"
      },
      "source": [
        "print(train_dataset.dataset)\n",
        "print(test_dataset.dataset)"
      ],
      "execution_count": 10,
      "outputs": [
        {
          "output_type": "stream",
          "text": [
            "Dataset ImageFolder\n",
            "    Number of datapoints: 9339\n",
            "    Root location: ../InformationSecurity_Summer/malimg\n",
            "    StandardTransform\n",
            "Transform: Compose(\n",
            "               Resize(size=(224, 224), interpolation=PIL.Image.BILINEAR)\n",
            "               Grayscale(num_output_channels=1)\n",
            "               ToTensor()\n",
            "           )\n",
            "Dataset ImageFolder\n",
            "    Number of datapoints: 9339\n",
            "    Root location: ../InformationSecurity_Summer/malimg\n",
            "    StandardTransform\n",
            "Transform: Compose(\n",
            "               Resize(size=(224, 224), interpolation=PIL.Image.BILINEAR)\n",
            "               Grayscale(num_output_channels=1)\n",
            "               ToTensor()\n",
            "           )\n"
          ],
          "name": "stdout"
        }
      ]
    },
    {
      "cell_type": "code",
      "metadata": {
        "id": "ymSbdvFEhFt5",
        "colab_type": "code",
        "colab": {
          "base_uri": "https://localhost:8080/",
          "height": 35
        },
        "outputId": "4e5abe8f-fb24-4644-ae78-4569a32d25f5"
      },
      "source": [
        "type(test_dataset)"
      ],
      "execution_count": 11,
      "outputs": [
        {
          "output_type": "execute_result",
          "data": {
            "text/plain": [
              "torch.utils.data.dataset.Subset"
            ]
          },
          "metadata": {
            "tags": []
          },
          "execution_count": 11
        }
      ]
    },
    {
      "cell_type": "code",
      "metadata": {
        "id": "SjrmTM_zbPNm",
        "colab_type": "code",
        "colab": {
          "base_uri": "https://localhost:8080/",
          "height": 54
        },
        "outputId": "6f5c310a-7593-4b12-c600-daaa26963d54"
      },
      "source": [
        "'''\n",
        "for idx, (data, _) in enumerate(test_dataset):\n",
        "    if idx == 5: \n",
        "        break\n",
        "    else:\n",
        "        print(data, _)\n",
        "'''"
      ],
      "execution_count": 12,
      "outputs": [
        {
          "output_type": "execute_result",
          "data": {
            "application/vnd.google.colaboratory.intrinsic": {
              "type": "string"
            },
            "text/plain": [
              "'\\nfor idx, (data, _) in enumerate(test_dataset):\\n    if idx == 5: \\n        break\\n    else:\\n        print(data, _)\\n'"
            ]
          },
          "metadata": {
            "tags": []
          },
          "execution_count": 12
        }
      ]
    },
    {
      "cell_type": "code",
      "metadata": {
        "id": "GvaDlRrGLm5N",
        "colab_type": "code",
        "colab": {}
      },
      "source": [
        "train_loader = DataLoader(train_dataset,\n",
        "                         batch_size=16,\n",
        "                         shuffle=True,\n",
        "                         pin_memory=True) \n",
        "test_loader = DataLoader(test_dataset,\n",
        "                        batch_size=16,\n",
        "                        shuffle=True,\n",
        "                        pin_memory=True)  # Instead, we recommend using automatic memory pinning (i.e., setting pin_memory=True)\n",
        "                                          #  which enables fast data transfer to CUDA-enabled GPUs\n",
        "\n",
        "# First, insert all test dataset\n",
        "\n",
        "test_loader_10 = DataLoader(test_dataset,\n",
        "                        batch_size=1868,\n",
        "                        shuffle=True,\n",
        "                        pin_memory=True)"
      ],
      "execution_count": 13,
      "outputs": []
    },
    {
      "cell_type": "code",
      "metadata": {
        "id": "kUoYh3G5LooR",
        "colab_type": "code",
        "colab": {}
      },
      "source": [
        "# for idx, (data, _) in enumerate(train_loader):\n",
        "#     print(data[3], data[4], data.type(), data.shape)\n",
        "#     print(_, _.type())\n",
        "#     print(\"==\" * 20 )"
      ],
      "execution_count": 14,
      "outputs": []
    },
    {
      "cell_type": "code",
      "metadata": {
        "id": "Hzwh_FveLziU",
        "colab_type": "code",
        "colab": {}
      },
      "source": [
        "def imshow(img):\n",
        "    img = img / 2 + 0.5  # unnormalize\n",
        "    np_img = img.numpy()\n",
        "\n",
        "    plt.imshow(np.transpose(np_img, (1, 2, 0)))  # Convert (C, W, H) to (W, H, C)\n",
        "\n",
        "    print(np_img.shape)  # np_img shape\n",
        "    print((np.transpose(np_img, (1, 2, 0))).shape)  # transposed shape "
      ],
      "execution_count": 15,
      "outputs": []
    },
    {
      "cell_type": "code",
      "metadata": {
        "id": "O7dFOopxMBpA",
        "colab_type": "code",
        "colab": {
          "base_uri": "https://localhost:8080/",
          "height": 35
        },
        "outputId": "75b01ce8-91ad-472e-d709-c50393efa588"
      },
      "source": [
        "dataiter = iter(train_loader)\n",
        "images, labels = dataiter.next()\n",
        "print(labels)"
      ],
      "execution_count": 16,
      "outputs": [
        {
          "output_type": "stream",
          "text": [
            "tensor([ 2, 17,  3,  3,  3,  9, 13,  2,  2,  2,  2,  3,  2,  4,  2,  3])\n"
          ],
          "name": "stdout"
        }
      ]
    },
    {
      "cell_type": "code",
      "metadata": {
        "id": "GmyxJrs6nYYr",
        "colab_type": "code",
        "colab": {
          "base_uri": "https://localhost:8080/",
          "height": 54
        },
        "outputId": "a83a24d3-c300-46b6-c420-cd4d87f1f693"
      },
      "source": [
        "'''\n",
        "for batch_idx, (data, _) in enumerate(train_loader):\n",
        "    print(data.shape, _.shape)\n",
        "    if batch_idx == 5:\n",
        "        break\n",
        "'''"
      ],
      "execution_count": 17,
      "outputs": [
        {
          "output_type": "execute_result",
          "data": {
            "application/vnd.google.colaboratory.intrinsic": {
              "type": "string"
            },
            "text/plain": [
              "'\\nfor batch_idx, (data, _) in enumerate(train_loader):\\n    print(data.shape, _.shape)\\n    if batch_idx == 5:\\n        break\\n'"
            ]
          },
          "metadata": {
            "tags": []
          },
          "execution_count": 17
        }
      ]
    },
    {
      "cell_type": "code",
      "metadata": {
        "id": "iG7HmkqaiAFL",
        "colab_type": "code",
        "colab": {
          "base_uri": "https://localhost:8080/",
          "height": 35
        },
        "outputId": "ce6f282d-9f23-4aaa-88fa-b5461803eedd"
      },
      "source": [
        "'''\n",
        "for batch_idx, (data, _) in enumerate(test_loader_10):\n",
        "    print(data.shape, _.shape)\n",
        " '''"
      ],
      "execution_count": 18,
      "outputs": [
        {
          "output_type": "execute_result",
          "data": {
            "application/vnd.google.colaboratory.intrinsic": {
              "type": "string"
            },
            "text/plain": [
              "'\\nfor batch_idx, (data, _) in enumerate(test_loader_10):\\n    print(data.shape, _.shape)\\n '"
            ]
          },
          "metadata": {
            "tags": []
          },
          "execution_count": 18
        }
      ]
    },
    {
      "cell_type": "code",
      "metadata": {
        "id": "1xkethBEMCzi",
        "colab_type": "code",
        "colab": {
          "base_uri": "https://localhost:8080/",
          "height": 398
        },
        "outputId": "3c59afc4-6744-4ff9-a373-94da743abc98"
      },
      "source": [
        "print(images.shape)\n",
        "imshow(torchvision.utils.make_grid(images, nrow=4))\n",
        "print(images.shape)\n",
        "print((torchvision.utils.make_grid(images)).shape)\n",
        "print(\"\".join(\"%5s \"%classes[labels[j]] for j in range(16)))"
      ],
      "execution_count": 19,
      "outputs": [
        {
          "output_type": "stream",
          "text": [
            "torch.Size([16, 1, 224, 224])\n",
            "(3, 906, 906)\n",
            "(906, 906, 3)\n",
            "torch.Size([16, 1, 224, 224])\n",
            "torch.Size([3, 454, 1810])\n",
            "Allaple.A Obfuscator.AD Allaple.L Allaple.L Allaple.L Dontovo.A Lolyda.AA2 Allaple.A Allaple.A Allaple.A Allaple.A Allaple.L Allaple.A Alueron.gen!J Allaple.A Allaple.L \n"
          ],
          "name": "stdout"
        },
        {
          "output_type": "display_data",
          "data": {
            "image/png": "[encoded data removed]",
            "text/plain": [
              "<Figure size 432x288 with 1 Axes>"
            ]
          },
          "metadata": {
            "tags": [],
            "needs_background": "light"
          }
        }
      ]
    },
    {
      "cell_type": "markdown",
      "metadata": {
        "id": "i0K7aSEKd3PD",
        "colab_type": "text"
      },
      "source": [
        "## 03. Define VAE Class\n",
        "* Initialize\n",
        "    * (224, 224) input 이미지를 통해 1차원 100개의 latent vector를 생성하는 Encoder네트워크 정의\n",
        "    * 100개의 latent vector로부터 X_hat을 복원하는 Decoder Network 정의\n",
        "* encode\n",
        "* reparameterize\n",
        "* decode\n",
        "* forward"
      ]
    },
    {
      "cell_type": "code",
      "metadata": {
        "id": "B5HQz_o3MFlu",
        "colab_type": "code",
        "colab": {}
      },
      "source": [
        "device = torch.device(\"cuda\")  # device = torch.device(\"cuda\")\n",
        "\n",
        "class VAE(nn.Module):\n",
        "    def __init__(self):\n",
        "        super(VAE, self).__init__()\n",
        "\n",
        "        self.fc1 = nn.Linear(224*224, 1000)\n",
        "        self.fc21 = nn.Linear(1000, 100)\n",
        "        self.fc22 = nn.Linear(1000, 100)\n",
        "        self.fc3 = nn.Linear(100, 1000)\n",
        "        self.fc4 = nn.Linear(1000, 224*224)\n",
        "\n",
        "    def encode(self, x):\n",
        "        h1 = F.relu(self.fc1(x))\n",
        "        return self.fc21(h1), self.fc22(h1)\n",
        "\n",
        "    def reparameterize(self, mu, logvar):\n",
        "        std = torch.exp(0.5*logvar)\n",
        "        eps = torch.randn_like(std)\n",
        "        return mu + eps*std\n",
        "\n",
        "    def decode(self, z):\n",
        "        h3 = F.relu(self.fc3(z))\n",
        "        return torch.sigmoid(self.fc4(h3))\n",
        "\n",
        "    def forward(self, x):\n",
        "        mu, logvar = self.encode(x.view(-1, 224*224))\n",
        "        z = self.reparameterize(mu, logvar)  # z's shape => (batch_size, 100)\n",
        "        return self.decode(z), mu, logvar, z"
      ],
      "execution_count": 20,
      "outputs": []
    },
    {
      "cell_type": "code",
      "metadata": {
        "id": "APz4JQj49Xs_",
        "colab_type": "code",
        "colab": {
          "base_uri": "https://localhost:8080/",
          "height": 145
        },
        "outputId": "0b2838bc-6740-42e7-8d85-3f91113c0ce7"
      },
      "source": [
        "model = VAE().to(device)\n",
        "print(model)"
      ],
      "execution_count": 21,
      "outputs": [
        {
          "output_type": "stream",
          "text": [
            "VAE(\n",
            "  (fc1): Linear(in_features=50176, out_features=1000, bias=True)\n",
            "  (fc21): Linear(in_features=1000, out_features=100, bias=True)\n",
            "  (fc22): Linear(in_features=1000, out_features=100, bias=True)\n",
            "  (fc3): Linear(in_features=100, out_features=1000, bias=True)\n",
            "  (fc4): Linear(in_features=1000, out_features=50176, bias=True)\n",
            ")\n"
          ],
          "name": "stdout"
        }
      ]
    },
    {
      "cell_type": "code",
      "metadata": {
        "id": "eGmI2AwE9Z8e",
        "colab_type": "code",
        "colab": {}
      },
      "source": [
        "optimizer = optim.Adam(model.parameters(), lr=1e-3)"
      ],
      "execution_count": 26,
      "outputs": []
    },
    {
      "cell_type": "code",
      "metadata": {
        "id": "iwGox4j89pQb",
        "colab_type": "code",
        "colab": {}
      },
      "source": [
        "# track and save train, test loss through Dictionary\n",
        "# \n",
        "Epoch_Loss = {'train_epoch':[],\n",
        "              'train_loss':[],\n",
        "              'test_epoch':[],\n",
        "              'test_loss':[]}\n",
        "\n",
        "# Save & Loading Model for Inference\n",
        "# Reference: https://pytorch.org/tutorials/beginner/saving_loading_models.html\n",
        "\n",
        "# PATH = '/Again_original_Exp01_200-Epoch.pth'\n",
        "\n",
        "PATH = 'Epochs.pth'\n",
        "# latent_vector = np.zeros((16, 100))\n"
      ],
      "execution_count": 27,
      "outputs": []
    },
    {
      "cell_type": "code",
      "metadata": {
        "id": "9khLnNT3MG7a",
        "colab_type": "code",
        "colab": {}
      },
      "source": [
        "# Reconstruction + KL divergence losses summed over all elements and batch\n",
        "def loss_function(recon_x, x, mu, logvar):\n",
        "    BCE = F.binary_cross_entropy(recon_x, x.view(-1, 224*224), reduction='mean')  # (input, target, ... reduction)\n",
        "\n",
        "    # see Appendix B from VAE paper:\n",
        "    # Kingma and Welling. Auto-Encoding Variational Bayes. ICLR, 2014\n",
        "    # https://arxiv.org/abs/1312.6114\n",
        "    # 0.5 * sum(1 + log(sigma^2) - mu^2 - sigma^2)\n",
        "    KLD = -0.5 * torch.sum(1 + logvar - mu.pow(2) - logvar.exp())\n",
        "\n",
        "    return BCE + KLD\n",
        "\n",
        "def train(epoch):\n",
        "    model.train()\n",
        "    train_loss = 0\n",
        "    # latent_vector = np.zeros(())\n",
        "    # latent_label = 0\n",
        "\n",
        "    for batch_idx, (data, _) in enumerate(train_loader):\n",
        "        data = data.to(device)\n",
        "        optimizer.zero_grad()\n",
        "        recon_batch, mu, logvar, z= model(data)\n",
        "    \n",
        "       \n",
        "        loss = loss_function(recon_batch, data, mu, logvar)\n",
        "        loss.backward()\n",
        "        train_loss += loss.item()\n",
        "        optimizer.step()\n",
        "        if batch_idx % 10 == 0:\n",
        "            print('Train Epoch: {} [{}/{} ({:.0f}%)]\\tLoss: {:.6f}'.format(\n",
        "                epoch, batch_idx * len(data), len(train_loader.dataset),\n",
        "                100. * batch_idx / len(train_loader),\n",
        "                loss.item() / len(data)))\n",
        "\n",
        "    print('====> Epoch: {} Average loss: {:.4f}'.format(\n",
        "          epoch, train_loss / len(train_loader.dataset)))\n",
        "    \n",
        "    Epoch_Loss['train_epoch'].append(epoch)\n",
        "    Epoch_Loss['train_loss'].append(train_loss / len(train_loader.dataset))\n",
        "   \n",
        "def test(epoch):\n",
        "    # 10 Epoch 단위로 작업\n",
        "    # model.state_dict() 저장 및 latent_vector 저장\n",
        "    # plot latent vector\n",
        "    if epoch % 10 == 0:  # Epoch이 10의 배수일때\n",
        "\n",
        "        # save model.state_dict() per 10 Epochs\n",
        "        torch.save(model.state_dict(), ('./Again_Exp02_' + str(epoch) + PATH))  # Epoch 단위 parameter 저장\n",
        "\n",
        "        # load_whole test_data \n",
        "        for i, (data, _) in enumerate(test_loader_10):  # load_whole test_data\n",
        "            data = data.to(device)\n",
        "            recon_batch, mu, logvar, z = model(data)\n",
        "        # save latent_vector per 10 Epochs\n",
        "            latent_vector = z.detach().cpu().clone().numpy()  # change tensor type data to cpu().numpy()\n",
        "                                                              # latent_vector_size: (num_of_data, 100)\n",
        "            color_palette = _.detach().cpu().clone().numpy()\n",
        "            with open((str(epoch)+'Epoch_z_vector.npy'), 'wb') as f:\n",
        "                np.save(f, latent_vector)  # but latent vector size is (16, 100).... just 16...\n",
        "                                        # 10 Epoch 단위로 latent vector를 저장한다\n",
        "                                        # 이 떄, latent vector의 size는 test_dataset의 크기가 되어야 한다\n",
        "\n",
        "        # plot latent vector Every 10 Epochs\n",
        "        # t-SNE for Dimensionality reduction\n",
        "        Z_embedded = TSNE(n_components=2).fit_transform(latent_vector)\n",
        "        \n",
        "        fig, ax = plt.subplots(1, 1, figsize=(6, 6))  # setup the plot\n",
        "\n",
        "        x = Z_embedded[:, 0]\n",
        "        y = Z_embedded[:, 1]\n",
        "        label = color_palette\n",
        "        # label[10:12] = 0  # make sure there are some 0 values to show up as grey\n",
        "\n",
        "        tsne_data = np.vstack(Z_embedded, label)\n",
        "        tsne_df = pd.DataFrame(data=tsne_data, columns=(\"Dim_1\", \"Dim_2\", \"label\"))\n",
        "        sn.FacetGrid(tsne_df, hue=\"label\", size=6).map(plt.scatter, 'Dim_1', 'Dim_2').add_legend()\n",
        "        plt.savefig('./' + str(epoch) + '_t_SNE.png', dpi=300)\n",
        "        plt.show()\n",
        "    \n",
        "    elif epoch % 10 !=0:\n",
        "        model.eval()\n",
        "        test_loss = 0\n",
        "        with torch.no_grad():\n",
        "            for i, (data, _) in enumerate(test_loader):\n",
        "                data = data.to(device)\n",
        "                recon_batch, mu, logvar, z = model(data)\n",
        "                # z vector는 torch type\n",
        "                # latent_vector = z.detach().cpu().clone().numpy()\n",
        "                test_loss += loss_function(recon_batch, data, mu, logvar).item()\n",
        "                if i == 0:\n",
        "                    n = min(data.size(0), 8)\n",
        "                    comparison = torch.cat([data[:n],\n",
        "                                        recon_batch.view(16, 1, 224, 224)[:n]])\n",
        "                    save_image(comparison.cpu(),\n",
        "                            './results_02/reconstruction_' + str(epoch) + '.png', nrow=n)\n",
        "        test_loss /= len(test_loader.dataset)\n",
        "        print('====> Test set loss: {:.4f}'.format(test_loss))\n"
      ],
      "execution_count": 28,
      "outputs": []
    },
    {
      "cell_type": "code",
      "metadata": {
        "id": "_RlJbqlOMI4G",
        "colab_type": "code",
        "colab": {
          "base_uri": "https://localhost:8080/",
          "height": 1000
        },
        "outputId": "af322b1d-9902-46db-ec72-15b628bcbbe7"
      },
      "source": [
        "epochs = 200\n",
        "\n",
        "for epoch in range(1, epochs + 1):\n",
        "        print(epoch)\n",
        "        train(epoch)\n",
        "        test(epoch)\n",
        "\n",
        "        plt.plot(Epoch_Loss['train_epoch'],Epoch_Loss['train_loss'], label=\"train_loss\")\n",
        "        plt.plot(Epoch_Loss['test_epoch'],Epoch_Loss['test_loss'], label=\"test_loss\")\n",
        "        plt.xlabel('Epochs')\n",
        "        plt.ylabel('Loss Score')\n",
        "        plt.title('Train_Test_Loss')\n",
        "        plt.legend()\n",
        "        plt.savefig('./plot_02/'+str(epoch)+'_epoch.png', dpi=300)\n",
        "        plt.show()\n",
        "\n",
        "        with torch.no_grad():\n",
        "            sample = torch.randn(64, 100).to(device)\n",
        "            sample = model.decode(sample).cpu()\n",
        "            save_image(sample.view(64, 1, 224, 224),\n",
        "                       './results_02/sample_' + str(epoch) + '.png')"
      ],
      "execution_count": 29,
      "outputs": [
        {
          "output_type": "stream",
          "text": [
            "1\n",
            "Train Epoch: 1 [0/7471 (0%)]\tLoss: 35145.332031\n",
            "Train Epoch: 1 [160/7471 (2%)]\tLoss: 48862.609375\n",
            "Train Epoch: 1 [320/7471 (4%)]\tLoss: 38802.957031\n",
            "Train Epoch: 1 [480/7471 (6%)]\tLoss: 40073.941406\n",
            "Train Epoch: 1 [640/7471 (9%)]\tLoss: 39276.570312\n",
            "Train Epoch: 1 [800/7471 (11%)]\tLoss: 39429.335938\n",
            "Train Epoch: 1 [960/7471 (13%)]\tLoss: 39018.453125\n",
            "Train Epoch: 1 [1120/7471 (15%)]\tLoss: 41106.097656\n",
            "Train Epoch: 1 [1280/7471 (17%)]\tLoss: 40007.214844\n",
            "Train Epoch: 1 [1440/7471 (19%)]\tLoss: 37535.230469\n",
            "Train Epoch: 1 [1600/7471 (21%)]\tLoss: 38244.585938\n",
            "Train Epoch: 1 [1760/7471 (24%)]\tLoss: 37699.675781\n",
            "Train Epoch: 1 [1920/7471 (26%)]\tLoss: 37574.757812\n",
            "Train Epoch: 1 [2080/7471 (28%)]\tLoss: 46542.839844\n",
            "Train Epoch: 1 [2240/7471 (30%)]\tLoss: 68721.929688\n",
            "Train Epoch: 1 [2400/7471 (32%)]\tLoss: 70860.820312\n",
            "Train Epoch: 1 [2560/7471 (34%)]\tLoss: 65833.773438\n",
            "Train Epoch: 1 [2720/7471 (36%)]\tLoss: 72633.890625\n",
            "Train Epoch: 1 [2880/7471 (39%)]\tLoss: 66876.117188\n",
            "Train Epoch: 1 [3040/7471 (41%)]\tLoss: 69581.656250\n",
            "Train Epoch: 1 [3200/7471 (43%)]\tLoss: 93895.000000\n",
            "Train Epoch: 1 [3360/7471 (45%)]\tLoss: 137557.156250\n",
            "Train Epoch: 1 [3520/7471 (47%)]\tLoss: 1693268180992.000000\n",
            "Train Epoch: 1 [3680/7471 (49%)]\tLoss: 109900.710938\n",
            "Train Epoch: 1 [3840/7471 (51%)]\tLoss: 57332.820312\n",
            "Train Epoch: 1 [4000/7471 (54%)]\tLoss: 61123.996094\n",
            "Train Epoch: 1 [4160/7471 (56%)]\tLoss: 50858.078125\n",
            "Train Epoch: 1 [4320/7471 (58%)]\tLoss: 46464.824219\n",
            "Train Epoch: 1 [4480/7471 (60%)]\tLoss: 44935.121094\n",
            "Train Epoch: 1 [4640/7471 (62%)]\tLoss: 43969.726562\n",
            "Train Epoch: 1 [4800/7471 (64%)]\tLoss: 42588.945312\n",
            "Train Epoch: 1 [4960/7471 (66%)]\tLoss: 42703.445312\n",
            "Train Epoch: 1 [5120/7471 (69%)]\tLoss: 42335.101562\n",
            "Train Epoch: 1 [5280/7471 (71%)]\tLoss: 42053.578125\n",
            "Train Epoch: 1 [5440/7471 (73%)]\tLoss: 42431.171875\n",
            "Train Epoch: 1 [5600/7471 (75%)]\tLoss: 43400.335938\n",
            "Train Epoch: 1 [5760/7471 (77%)]\tLoss: 55591.914062\n",
            "Train Epoch: 1 [5920/7471 (79%)]\tLoss: 75405.992188\n",
            "Train Epoch: 1 [6080/7471 (81%)]\tLoss: 230686.250000\n",
            "Train Epoch: 1 [6240/7471 (84%)]\tLoss: 100148.406250\n",
            "Train Epoch: 1 [6400/7471 (86%)]\tLoss: 53549.648438\n",
            "Train Epoch: 1 [6560/7471 (88%)]\tLoss: 48331.613281\n",
            "Train Epoch: 1 [6720/7471 (90%)]\tLoss: 45440.890625\n",
            "Train Epoch: 1 [6880/7471 (92%)]\tLoss: 43794.218750\n",
            "Train Epoch: 1 [7040/7471 (94%)]\tLoss: 43099.656250\n",
            "Train Epoch: 1 [7200/7471 (96%)]\tLoss: 42720.683594\n",
            "Train Epoch: 1 [7360/7471 (99%)]\tLoss: 6272891904.000000\n",
            "====> Epoch: 1 Average loss: 14039910835221323776.0000\n",
            "====> Test set loss: 65129.3579\n"
          ],
          "name": "stdout"
        },
        {
          "output_type": "display_data",
          "data": {
            "image/png": "[encoded data removed]",
            "text/plain": [
              "<Figure size 432x288 with 1 Axes>"
            ]
          },
          "metadata": {
            "tags": [],
            "needs_background": "light"
          }
        },
        {
          "output_type": "stream",
          "text": [
            "2\n",
            "Train Epoch: 2 [0/7471 (0%)]\tLoss: 68511.429688\n",
            "Train Epoch: 2 [160/7471 (2%)]\tLoss: 676183.500000\n",
            "Train Epoch: 2 [320/7471 (4%)]\tLoss: 130636.000000\n",
            "Train Epoch: 2 [480/7471 (6%)]\tLoss: 117445.062500\n",
            "Train Epoch: 2 [640/7471 (9%)]\tLoss: 53395.101562\n",
            "Train Epoch: 2 [800/7471 (11%)]\tLoss: 52379.859375\n",
            "Train Epoch: 2 [960/7471 (13%)]\tLoss: 44814.738281\n",
            "Train Epoch: 2 [1120/7471 (15%)]\tLoss: 43081.835938\n",
            "Train Epoch: 2 [1280/7471 (17%)]\tLoss: 44024.937500\n",
            "Train Epoch: 2 [1440/7471 (19%)]\tLoss: 43048.390625\n",
            "Train Epoch: 2 [1600/7471 (21%)]\tLoss: 44818.093750\n",
            "Train Epoch: 2 [1760/7471 (24%)]\tLoss: 44998.500000\n",
            "Train Epoch: 2 [1920/7471 (26%)]\tLoss: 43983.195312\n",
            "Train Epoch: 2 [2080/7471 (28%)]\tLoss: 43893.031250\n",
            "Train Epoch: 2 [2240/7471 (30%)]\tLoss: 49311.312500\n",
            "Train Epoch: 2 [2400/7471 (32%)]\tLoss: 45174.773438\n",
            "Train Epoch: 2 [2560/7471 (34%)]\tLoss: 50860.882812\n",
            "Train Epoch: 2 [2720/7471 (36%)]\tLoss: 67675.000000\n",
            "Train Epoch: 2 [2880/7471 (39%)]\tLoss: 54907.679688\n",
            "Train Epoch: 2 [3040/7471 (41%)]\tLoss: 52910.281250\n",
            "Train Epoch: 2 [3200/7471 (43%)]\tLoss: 47848.132812\n",
            "Train Epoch: 2 [3360/7471 (45%)]\tLoss: 77068.875000\n",
            "Train Epoch: 2 [3520/7471 (47%)]\tLoss: 47982.851562\n",
            "Train Epoch: 2 [3680/7471 (49%)]\tLoss: 130871.851562\n",
            "Train Epoch: 2 [3840/7471 (51%)]\tLoss: 2199495852037897191424.000000\n",
            "Train Epoch: 2 [4000/7471 (54%)]\tLoss: 435103.718750\n",
            "Train Epoch: 2 [4160/7471 (56%)]\tLoss: 121574.828125\n",
            "Train Epoch: 2 [4320/7471 (58%)]\tLoss: 100770.812500\n",
            "Train Epoch: 2 [4480/7471 (60%)]\tLoss: 82451.195312\n",
            "Train Epoch: 2 [4640/7471 (62%)]\tLoss: 57857.812500\n",
            "Train Epoch: 2 [4800/7471 (64%)]\tLoss: 54107.902344\n",
            "Train Epoch: 2 [4960/7471 (66%)]\tLoss: 48436.914062\n",
            "Train Epoch: 2 [5120/7471 (69%)]\tLoss: 50634.031250\n",
            "Train Epoch: 2 [5280/7471 (71%)]\tLoss: 48864.187500\n",
            "Train Epoch: 2 [5440/7471 (73%)]\tLoss: 55851.082031\n",
            "Train Epoch: 2 [5600/7471 (75%)]\tLoss: 50901.351562\n",
            "Train Epoch: 2 [5760/7471 (77%)]\tLoss: 49108.500000\n",
            "Train Epoch: 2 [5920/7471 (79%)]\tLoss: 49211.703125\n",
            "Train Epoch: 2 [6080/7471 (81%)]\tLoss: 65813.992188\n",
            "Train Epoch: 2 [6240/7471 (84%)]\tLoss: 50761.890625\n",
            "Train Epoch: 2 [6400/7471 (86%)]\tLoss: 53724.960938\n",
            "Train Epoch: 2 [6560/7471 (88%)]\tLoss: 48388.312500\n",
            "Train Epoch: 2 [6720/7471 (90%)]\tLoss: 78962.671875\n",
            "Train Epoch: 2 [6880/7471 (92%)]\tLoss: 52577.890625\n",
            "Train Epoch: 2 [7040/7471 (94%)]\tLoss: 60217.121094\n",
            "Train Epoch: 2 [7200/7471 (96%)]\tLoss: 51515.347656\n",
            "Train Epoch: 2 [7360/7471 (99%)]\tLoss: 50005.117188\n",
            "====> Epoch: 2 Average loss: 4710475366915052544.0000\n",
            "====> Test set loss: 50196.8816\n"
          ],
          "name": "stdout"
        },
        {
          "output_type": "display_data",
          "data": {
            "image/png": "[encoded data removed]",
            "text/plain": [
              "<Figure size 432x288 with 1 Axes>"
            ]
          },
          "metadata": {
            "tags": [],
            "needs_background": "light"
          }
        },
        {
          "output_type": "stream",
          "text": [
            "3\n",
            "Train Epoch: 3 [0/7471 (0%)]\tLoss: 51070.769531\n",
            "Train Epoch: 3 [160/7471 (2%)]\tLoss: 48971.531250\n",
            "Train Epoch: 3 [320/7471 (4%)]\tLoss: 50503.804688\n",
            "Train Epoch: 3 [480/7471 (6%)]\tLoss: 54942.277344\n",
            "Train Epoch: 3 [640/7471 (9%)]\tLoss: 55023.992188\n",
            "Train Epoch: 3 [800/7471 (11%)]\tLoss: 65763.695312\n",
            "Train Epoch: 3 [960/7471 (13%)]\tLoss: 51506.351562\n",
            "Train Epoch: 3 [1120/7471 (15%)]\tLoss: 56303.132812\n",
            "Train Epoch: 3 [1280/7471 (17%)]\tLoss: 50115.109375\n",
            "Train Epoch: 3 [1440/7471 (19%)]\tLoss: 52092.773438\n",
            "Train Epoch: 3 [1600/7471 (21%)]\tLoss: 49555.109375\n",
            "Train Epoch: 3 [1760/7471 (24%)]\tLoss: 83400.640625\n",
            "Train Epoch: 3 [1920/7471 (26%)]\tLoss: 58275.605469\n",
            "Train Epoch: 3 [2080/7471 (28%)]\tLoss: 56021.101562\n",
            "Train Epoch: 3 [2240/7471 (30%)]\tLoss: 53377.710938\n",
            "Train Epoch: 3 [2400/7471 (32%)]\tLoss: 90266.460938\n",
            "Train Epoch: 3 [2560/7471 (34%)]\tLoss: 56381.960938\n",
            "Train Epoch: 3 [2720/7471 (36%)]\tLoss: 55522.222656\n",
            "Train Epoch: 3 [2880/7471 (39%)]\tLoss: 52988.121094\n",
            "Train Epoch: 3 [3040/7471 (41%)]\tLoss: 93530.015625\n",
            "Train Epoch: 3 [3200/7471 (43%)]\tLoss: 54593.257812\n",
            "Train Epoch: 3 [3360/7471 (45%)]\tLoss: 83506.515625\n",
            "Train Epoch: 3 [3520/7471 (47%)]\tLoss: 61332.363281\n",
            "Train Epoch: 3 [3680/7471 (49%)]\tLoss: 57993.562500\n",
            "Train Epoch: 3 [3840/7471 (51%)]\tLoss: 79894.109375\n",
            "Train Epoch: 3 [4000/7471 (54%)]\tLoss: 80890.390625\n",
            "Train Epoch: 3 [4160/7471 (56%)]\tLoss: 922793.500000\n",
            "Train Epoch: 3 [4320/7471 (58%)]\tLoss: 515879.093750\n",
            "Train Epoch: 3 [4480/7471 (60%)]\tLoss: 164620.750000\n",
            "Train Epoch: 3 [4640/7471 (62%)]\tLoss: 93171.656250\n",
            "Train Epoch: 3 [4800/7471 (64%)]\tLoss: 103701.453125\n",
            "Train Epoch: 3 [4960/7471 (66%)]\tLoss: 64571.117188\n",
            "Train Epoch: 3 [5120/7471 (69%)]\tLoss: 58155.972656\n",
            "Train Epoch: 3 [5280/7471 (71%)]\tLoss: 55767.570312\n",
            "Train Epoch: 3 [5440/7471 (73%)]\tLoss: 53395.949219\n",
            "Train Epoch: 3 [5600/7471 (75%)]\tLoss: 62506.390625\n",
            "Train Epoch: 3 [5760/7471 (77%)]\tLoss: 53309.734375\n",
            "Train Epoch: 3 [5920/7471 (79%)]\tLoss: 133900.000000\n",
            "Train Epoch: 3 [6080/7471 (81%)]\tLoss: 64832.644531\n",
            "Train Epoch: 3 [6240/7471 (84%)]\tLoss: 56781.328125\n",
            "Train Epoch: 3 [6400/7471 (86%)]\tLoss: 55100.742188\n",
            "Train Epoch: 3 [6560/7471 (88%)]\tLoss: 52728.695312\n",
            "Train Epoch: 3 [6720/7471 (90%)]\tLoss: 53041.746094\n",
            "Train Epoch: 3 [6880/7471 (92%)]\tLoss: 53896.265625\n",
            "Train Epoch: 3 [7040/7471 (94%)]\tLoss: 52046.992188\n",
            "Train Epoch: 3 [7200/7471 (96%)]\tLoss: 54921.914062\n",
            "Train Epoch: 3 [7360/7471 (99%)]\tLoss: 71914.726562\n",
            "====> Epoch: 3 Average loss: 3070455141.6786\n",
            "====> Test set loss: 57004.5989\n"
          ],
          "name": "stdout"
        },
        {
          "output_type": "display_data",
          "data": {
            "image/png": "[encoded data removed]",
            "text/plain": [
              "<Figure size 432x288 with 1 Axes>"
            ]
          },
          "metadata": {
            "tags": [],
            "needs_background": "light"
          }
        },
        {
          "output_type": "stream",
          "text": [
            "4\n",
            "Train Epoch: 4 [0/7471 (0%)]\tLoss: 55838.140625\n",
            "Train Epoch: 4 [160/7471 (2%)]\tLoss: 84566.734375\n",
            "Train Epoch: 4 [320/7471 (4%)]\tLoss: 58728.828125\n",
            "Train Epoch: 4 [480/7471 (6%)]\tLoss: 94566.484375\n",
            "Train Epoch: 4 [640/7471 (9%)]\tLoss: 58752.242188\n",
            "Train Epoch: 4 [800/7471 (11%)]\tLoss: 59668.992188\n",
            "Train Epoch: 4 [960/7471 (13%)]\tLoss: 54462.789062\n",
            "Train Epoch: 4 [1120/7471 (15%)]\tLoss: 54252.382812\n",
            "Train Epoch: 4 [1280/7471 (17%)]\tLoss: 54081.855469\n",
            "Train Epoch: 4 [1440/7471 (19%)]\tLoss: 53795.039062\n",
            "Train Epoch: 4 [1600/7471 (21%)]\tLoss: 55380.046875\n",
            "Train Epoch: 4 [1760/7471 (24%)]\tLoss: 58954.136719\n",
            "Train Epoch: 4 [1920/7471 (26%)]\tLoss: 55240.750000\n",
            "Train Epoch: 4 [2080/7471 (28%)]\tLoss: 53648.941406\n",
            "Train Epoch: 4 [2240/7471 (30%)]\tLoss: 73297.609375\n",
            "Train Epoch: 4 [2400/7471 (32%)]\tLoss: 60032.179688\n",
            "Train Epoch: 4 [2560/7471 (34%)]\tLoss: 91475.562500\n",
            "Train Epoch: 4 [2720/7471 (36%)]\tLoss: 66936.281250\n",
            "Train Epoch: 4 [2880/7471 (39%)]\tLoss: 174725.937500\n",
            "Train Epoch: 4 [3040/7471 (41%)]\tLoss: 91802.453125\n",
            "Train Epoch: 4 [3200/7471 (43%)]\tLoss: 64238.464844\n",
            "Train Epoch: 4 [3360/7471 (45%)]\tLoss: 58700.773438\n",
            "Train Epoch: 4 [3520/7471 (47%)]\tLoss: 62293.941406\n",
            "Train Epoch: 4 [3680/7471 (49%)]\tLoss: 56254.796875\n",
            "Train Epoch: 4 [3840/7471 (51%)]\tLoss: 54103.320312\n",
            "Train Epoch: 4 [4000/7471 (54%)]\tLoss: 53595.289062\n",
            "Train Epoch: 4 [4160/7471 (56%)]\tLoss: 60880.941406\n",
            "Train Epoch: 4 [4320/7471 (58%)]\tLoss: 55428.226562\n",
            "Train Epoch: 4 [4480/7471 (60%)]\tLoss: 52208.542969\n",
            "Train Epoch: 4 [4640/7471 (62%)]\tLoss: 53445.406250\n",
            "Train Epoch: 4 [4800/7471 (64%)]\tLoss: 54020.703125\n",
            "Train Epoch: 4 [4960/7471 (66%)]\tLoss: 52425.187500\n",
            "Train Epoch: 4 [5120/7471 (69%)]\tLoss: 9634059143871832760135976321286144.000000\n"
          ],
          "name": "stdout"
        },
        {
          "output_type": "error",
          "ename": "RuntimeError",
          "evalue": "ignored",
          "traceback": [
            "\u001b[0;31m---------------------------------------------------------------------------\u001b[0m",
            "\u001b[0;31mRuntimeError\u001b[0m                              Traceback (most recent call last)",
            "\u001b[0;32m<ipython-input-29-3bd0e6e1de55>\u001b[0m in \u001b[0;36m<module>\u001b[0;34m()\u001b[0m\n\u001b[1;32m      3\u001b[0m \u001b[0;32mfor\u001b[0m \u001b[0mepoch\u001b[0m \u001b[0;32min\u001b[0m \u001b[0mrange\u001b[0m\u001b[0;34m(\u001b[0m\u001b[0;36m1\u001b[0m\u001b[0;34m,\u001b[0m \u001b[0mepochs\u001b[0m \u001b[0;34m+\u001b[0m \u001b[0;36m1\u001b[0m\u001b[0;34m)\u001b[0m\u001b[0;34m:\u001b[0m\u001b[0;34m\u001b[0m\u001b[0;34m\u001b[0m\u001b[0m\n\u001b[1;32m      4\u001b[0m         \u001b[0mprint\u001b[0m\u001b[0;34m(\u001b[0m\u001b[0mepoch\u001b[0m\u001b[0;34m)\u001b[0m\u001b[0;34m\u001b[0m\u001b[0;34m\u001b[0m\u001b[0m\n\u001b[0;32m----> 5\u001b[0;31m         \u001b[0mtrain\u001b[0m\u001b[0;34m(\u001b[0m\u001b[0mepoch\u001b[0m\u001b[0;34m)\u001b[0m\u001b[0;34m\u001b[0m\u001b[0;34m\u001b[0m\u001b[0m\n\u001b[0m\u001b[1;32m      6\u001b[0m         \u001b[0mtest\u001b[0m\u001b[0;34m(\u001b[0m\u001b[0mepoch\u001b[0m\u001b[0;34m)\u001b[0m\u001b[0;34m\u001b[0m\u001b[0;34m\u001b[0m\u001b[0m\n\u001b[1;32m      7\u001b[0m \u001b[0;34m\u001b[0m\u001b[0m\n",
            "\u001b[0;32m<ipython-input-28-4c18007f4bae>\u001b[0m in \u001b[0;36mtrain\u001b[0;34m(epoch)\u001b[0m\n\u001b[1;32m     25\u001b[0m         \u001b[0mloss\u001b[0m \u001b[0;34m=\u001b[0m \u001b[0mloss_function\u001b[0m\u001b[0;34m(\u001b[0m\u001b[0mrecon_batch\u001b[0m\u001b[0;34m,\u001b[0m \u001b[0mdata\u001b[0m\u001b[0;34m,\u001b[0m \u001b[0mmu\u001b[0m\u001b[0;34m,\u001b[0m \u001b[0mlogvar\u001b[0m\u001b[0;34m)\u001b[0m\u001b[0;34m\u001b[0m\u001b[0;34m\u001b[0m\u001b[0m\n\u001b[1;32m     26\u001b[0m         \u001b[0mloss\u001b[0m\u001b[0;34m.\u001b[0m\u001b[0mbackward\u001b[0m\u001b[0;34m(\u001b[0m\u001b[0;34m)\u001b[0m\u001b[0;34m\u001b[0m\u001b[0;34m\u001b[0m\u001b[0m\n\u001b[0;32m---> 27\u001b[0;31m         \u001b[0mtrain_loss\u001b[0m \u001b[0;34m+=\u001b[0m \u001b[0mloss\u001b[0m\u001b[0;34m.\u001b[0m\u001b[0mitem\u001b[0m\u001b[0;34m(\u001b[0m\u001b[0;34m)\u001b[0m\u001b[0;34m\u001b[0m\u001b[0;34m\u001b[0m\u001b[0m\n\u001b[0m\u001b[1;32m     28\u001b[0m         \u001b[0moptimizer\u001b[0m\u001b[0;34m.\u001b[0m\u001b[0mstep\u001b[0m\u001b[0;34m(\u001b[0m\u001b[0;34m)\u001b[0m\u001b[0;34m\u001b[0m\u001b[0;34m\u001b[0m\u001b[0m\n\u001b[1;32m     29\u001b[0m         \u001b[0;32mif\u001b[0m \u001b[0mbatch_idx\u001b[0m \u001b[0;34m%\u001b[0m \u001b[0;36m10\u001b[0m \u001b[0;34m==\u001b[0m \u001b[0;36m0\u001b[0m\u001b[0;34m:\u001b[0m\u001b[0;34m\u001b[0m\u001b[0;34m\u001b[0m\u001b[0m\n",
            "\u001b[0;31mRuntimeError\u001b[0m: CUDA error: device-side assert triggered"
          ]
        }
      ]
    },
    {
      "cell_type": "code",
      "metadata": {
        "id": "pen7FJHbBbcW",
        "colab_type": "code",
        "colab": {}
      },
      "source": [
        ""
      ],
      "execution_count": null,
      "outputs": []
    },
    {
      "cell_type": "markdown",
      "metadata": {
        "id": "eEJl-qSPrP4H",
        "colab_type": "text"
      },
      "source": [
        ""
      ]
    }
  ]
}