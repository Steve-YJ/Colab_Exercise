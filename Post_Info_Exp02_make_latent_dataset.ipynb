{
  "nbformat": 4,
  "nbformat_minor": 0,
  "metadata": {
    "colab": {
      "name": "Post-Info_Exp02_make_latent_dataset.ipynb",
      "provenance": [],
      "collapsed_sections": [],
      "machine_shape": "hm",
      "authorship_tag": "ABX9TyPNdXQM2Aj7QGbQxqqcRpkB",
      "include_colab_link": true
    },
    "kernelspec": {
      "name": "python3",
      "display_name": "Python 3"
    },
    "accelerator": "GPU"
  },
  "cells": [
    {
      "cell_type": "markdown",
      "metadata": {
        "id": "view-in-github",
        "colab_type": "text"
      },
      "source": [
        "<a href=\"https://colab.research.google.com/github/Steve-YJ/Colab_Exercise/blob/master/Post_Info_Exp02_make_latent_dataset.ipynb\" target=\"_parent\"><img src=\"https://colab.research.google.com/assets/colab-badge.svg\" alt=\"Open In Colab\"/></a>"
      ]
    },
    {
      "cell_type": "markdown",
      "metadata": {
        "id": "unmaetS6775A",
        "colab_type": "text"
      },
      "source": [
        "# README.MD\n",
        "* Post-InfoSec-Exp02<br>\n",
        "    ✅ Complete\n",
        "    * Makedir-automatically\n",
        "        * e.g) Post_Exp01\n",
        "            * recon_sampling\n",
        "            * plot_train_test_loss\n",
        "            * plot_latent_vector<br>\n",
        "            \n",
        "    * Add Classifier\n",
        "        * higher accuracy\n",
        "<br>\n",
        "\n",
        "🔖 In this Notebook\n",
        "* Simplify code for additional training \n",
        "    * 📌 Load_VAE_State_dict\n",
        "    * 📌 Extract Latent vector & make Training set\n",
        "        * (9339, 100) -> add label ==> (9339, 101)\n",
        "        * make pandas dataframe for ML Training\n",
        "            * Save Pandas as csv(for future training)\n",
        "    * 📌 Classify it & Improve it\n",
        "    \n",
        "* ✅ Check Point\n",
        "    * Keep training Exp05<br>\n",
        "    Exp05에서 실험이 잘된 모델 Parameter를 가지고 추가로 실험합니다.\n",
        "        * After Epoch 10, Train it\n",
        "        * Reduce Learning rate: 1e-5 to 1e-3\n",
        "    * Model을 다시 training시킬 필요는 없습니다. -20.07.23.Thur-\n",
        "\n",
        "## Reference\n",
        "* Reference repository: https://github.com/pytorch/examples/tree/master/vae\n",
        "\n",
        "* Reference for Visualization: https://github.com/tayden/VAE-Latent-Space-Explorer/blob/master/scripts/VAE.ipynb\n"
      ]
    },
    {
      "cell_type": "code",
      "metadata": {
        "id": "WdftPIvEY7Jt",
        "colab_type": "code",
        "colab": {
          "base_uri": "https://localhost:8080/",
          "height": 35
        },
        "outputId": "4808373e-0af3-4ae4-a9ba-eb880270a7b4"
      },
      "source": [
        "! python --version"
      ],
      "execution_count": 1,
      "outputs": [
        {
          "output_type": "stream",
          "text": [
            "Python 3.6.9\n"
          ],
          "name": "stdout"
        }
      ]
    },
    {
      "cell_type": "code",
      "metadata": {
        "id": "8xA26hx-ZKss",
        "colab_type": "code",
        "colab": {
          "base_uri": "https://localhost:8080/",
          "height": 35
        },
        "outputId": "61976775-0254-4696-d160-b92fcea85e25"
      },
      "source": [
        "import torch\n",
        "\n",
        "print(torch.__version__)"
      ],
      "execution_count": 2,
      "outputs": [
        {
          "output_type": "stream",
          "text": [
            "1.5.1+cu101\n"
          ],
          "name": "stdout"
        }
      ]
    },
    {
      "cell_type": "code",
      "metadata": {
        "id": "8XiHjsMD8MO2",
        "colab_type": "code",
        "colab": {
          "base_uri": "https://localhost:8080/",
          "height": 363
        },
        "outputId": "62c7bbf3-ebab-420d-871b-ad3a1900d1e1"
      },
      "source": [
        "! nvidia-smi"
      ],
      "execution_count": 3,
      "outputs": [
        {
          "output_type": "stream",
          "text": [
            "Thu Jul 23 12:14:31 2020       \n",
            "+-----------------------------------------------------------------------------+\n",
            "| NVIDIA-SMI 450.51.05    Driver Version: 418.67       CUDA Version: 10.1     |\n",
            "|-------------------------------+----------------------+----------------------+\n",
            "| GPU  Name        Persistence-M| Bus-Id        Disp.A | Volatile Uncorr. ECC |\n",
            "| Fan  Temp  Perf  Pwr:Usage/Cap|         Memory-Usage | GPU-Util  Compute M. |\n",
            "|                               |                      |               MIG M. |\n",
            "|===============================+======================+======================|\n",
            "|   0  Tesla P100-PCIE...  Off  | 00000000:00:04.0 Off |                    0 |\n",
            "| N/A   36C    P0    25W / 250W |      0MiB / 16280MiB |      0%      Default |\n",
            "|                               |                      |                 ERR! |\n",
            "+-------------------------------+----------------------+----------------------+\n",
            "                                                                               \n",
            "+-----------------------------------------------------------------------------+\n",
            "| Processes:                                                                  |\n",
            "|  GPU   GI   CI        PID   Type   Process name                  GPU Memory |\n",
            "|        ID   ID                                                   Usage      |\n",
            "|=============================================================================|\n",
            "|  No running processes found                                                 |\n",
            "+-----------------------------------------------------------------------------+\n"
          ],
          "name": "stdout"
        }
      ]
    },
    {
      "cell_type": "code",
      "metadata": {
        "id": "cDUY6YNV8Vs9",
        "colab_type": "code",
        "colab": {}
      },
      "source": [
        "%load_ext autoreload\n",
        "%autoreload 2"
      ],
      "execution_count": 4,
      "outputs": []
    },
    {
      "cell_type": "code",
      "metadata": {
        "id": "os9GS8R_KCWt",
        "colab_type": "code",
        "colab": {
          "base_uri": "https://localhost:8080/",
          "height": 124
        },
        "outputId": "3e330255-e8ad-4364-a3d9-dec3bd6ed2e5"
      },
      "source": [
        "# drive mount\n",
        "from google.colab import drive\n",
        "drive.mount('/content/drive', force_remount=True)"
      ],
      "execution_count": 6,
      "outputs": [
        {
          "output_type": "stream",
          "text": [
            "Go to this URL in a browser: https://accounts.google.com/o/oauth2/auth?client_id=947318989803-6bn6qk8qdgf4n4g3pfee6491hc0brc4i.apps.googleusercontent.com&redirect_uri=urn%3aietf%3awg%3aoauth%3a2.0%3aoob&response_type=code&scope=email%20https%3a%2f%2fwww.googleapis.com%2fauth%2fdocs.test%20https%3a%2f%2fwww.googleapis.com%2fauth%2fdrive%20https%3a%2f%2fwww.googleapis.com%2fauth%2fdrive.photos.readonly%20https%3a%2f%2fwww.googleapis.com%2fauth%2fpeopleapi.readonly\n",
            "\n",
            "Enter your authorization code:\n",
            "··········\n",
            "Mounted at /content/drive\n"
          ],
          "name": "stdout"
        }
      ]
    },
    {
      "cell_type": "code",
      "metadata": {
        "id": "4XeJBewoLDOr",
        "colab_type": "code",
        "colab": {
          "base_uri": "https://localhost:8080/",
          "height": 52
        },
        "outputId": "9c4d14f0-7100-43d8-9a30-4e50f7c014ea"
      },
      "source": [
        "%cd drive/My\\ Drive/Post_InfoSec_Exps\n",
        "! pwd"
      ],
      "execution_count": 7,
      "outputs": [
        {
          "output_type": "stream",
          "text": [
            "/content/drive/My Drive/Post_InfoSec_Exps\n",
            "/content/drive/My Drive/Post_InfoSec_Exps\n"
          ],
          "name": "stdout"
        }
      ]
    },
    {
      "cell_type": "markdown",
      "metadata": {
        "id": "w1BBWVWCzYUu",
        "colab_type": "text"
      },
      "source": [
        "---\n",
        "Add\n",
        "\n",
        "* makedir Automatically\n",
        "    * \n",
        "---"
      ]
    },
    {
      "cell_type": "code",
      "metadata": {
        "id": "Yq1dTrJFzdiB",
        "colab_type": "code",
        "colab": {
          "base_uri": "https://localhost:8080/",
          "height": 35
        },
        "outputId": "e07210a6-caab-40ae-f81d-5cfcccf0f5d5"
      },
      "source": [
        "import os\n",
        "path = os.getcwd()\n",
        "# print(path)\n",
        "print(\"The current working directory is %s\" %path)"
      ],
      "execution_count": 8,
      "outputs": [
        {
          "output_type": "stream",
          "text": [
            "The current working directory is /content/drive/My Drive/Post_InfoSec_Exps\n"
          ],
          "name": "stdout"
        }
      ]
    },
    {
      "cell_type": "code",
      "metadata": {
        "id": "a_DlwsPu0v1b",
        "colab_type": "code",
        "colab": {
          "base_uri": "https://localhost:8080/",
          "height": 70
        },
        "outputId": "e73326bd-ad35-4e4a-b3cd-e1f62c507277"
      },
      "source": [
        "%cd Post_Exp02\n",
        "path = os.getcwd()\n",
        "# print(path)\n",
        "! pwd\n",
        "path"
      ],
      "execution_count": 9,
      "outputs": [
        {
          "output_type": "stream",
          "text": [
            "/content/drive/My Drive/Post_InfoSec_Exps/Post_Exp02\n",
            "/content/drive/My Drive/Post_InfoSec_Exps/Post_Exp02\n"
          ],
          "name": "stdout"
        },
        {
          "output_type": "execute_result",
          "data": {
            "application/vnd.google.colaboratory.intrinsic+json": {
              "type": "string"
            },
            "text/plain": [
              "'/content/drive/My Drive/Post_InfoSec_Exps/Post_Exp02'"
            ]
          },
          "metadata": {
            "tags": []
          },
          "execution_count": 9
        }
      ]
    },
    {
      "cell_type": "code",
      "metadata": {
        "id": "_8fmqK4t0_M_",
        "colab_type": "code",
        "colab": {
          "base_uri": "https://localhost:8080/",
          "height": 207
        },
        "outputId": "8ac3c9ac-c703-46e8-8bdd-b6105fb9c221"
      },
      "source": [
        "'''\n",
        "# 실험을 한 번 끝낸 이후로는 사용 x\n",
        "# make directory\n",
        "\n",
        "def makedir(dirname):\n",
        "    \n",
        "    try:\n",
        "        os.mkdir(path + '/' + dirname)\n",
        "    except OSError:\n",
        "        print(\"Creation of the directory %s failed\" % path)\n",
        "    else:\n",
        "        print(\"Successfully created the directory %s\" % path)\n",
        "    return\n",
        "\n",
        "dir_list = ['recon_sampling', 'plot_train_test_loss', 'plot_latent_vector']\n",
        "\n",
        "for i in range(len(dir_list)):\n",
        "    print(dir_list[i])\n",
        "    print(path + '/' + dir_list[i])\n",
        "    makedir(dir_list[i])\n",
        "\n",
        "\n",
        "! ls\n",
        "'''"
      ],
      "execution_count": 10,
      "outputs": [
        {
          "output_type": "stream",
          "text": [
            "recon_sampling\n",
            "/content/drive/My Drive/Post_InfoSec_Exps/Post_Exp02/recon_sampling\n",
            "Successfully created the directory /content/drive/My Drive/Post_InfoSec_Exps/Post_Exp02\n",
            "plot_train_test_loss\n",
            "/content/drive/My Drive/Post_InfoSec_Exps/Post_Exp02/plot_train_test_loss\n",
            "Successfully created the directory /content/drive/My Drive/Post_InfoSec_Exps/Post_Exp02\n",
            "plot_latent_vector\n",
            "/content/drive/My Drive/Post_InfoSec_Exps/Post_Exp02/plot_latent_vector\n",
            "Successfully created the directory /content/drive/My Drive/Post_InfoSec_Exps/Post_Exp02\n",
            "Exp05_model_save_10Epochs.pth  plot_train_test_loss\n",
            "plot_latent_vector\t       recon_sampling\n"
          ],
          "name": "stdout"
        }
      ]
    },
    {
      "cell_type": "code",
      "metadata": {
        "id": "lbW9zos52P22",
        "colab_type": "code",
        "colab": {
          "base_uri": "https://localhost:8080/",
          "height": 52
        },
        "outputId": "154e4071-0392-4e0f-86cf-67b2e8880893"
      },
      "source": [
        "print(type(dir_list[0]))\n",
        "print(dir_list[0])"
      ],
      "execution_count": 11,
      "outputs": [
        {
          "output_type": "stream",
          "text": [
            "<class 'str'>\n",
            "recon_sampling\n"
          ],
          "name": "stdout"
        }
      ]
    },
    {
      "cell_type": "markdown",
      "metadata": {
        "id": "0YQ-tynL2Saj",
        "colab_type": "text"
      },
      "source": [
        "## 01. Import Library"
      ]
    },
    {
      "cell_type": "code",
      "metadata": {
        "id": "8Dmz78nUKxGx",
        "colab_type": "code",
        "colab": {
          "base_uri": "https://localhost:8080/",
          "height": 72
        },
        "outputId": "60e65f40-ae54-41a1-f76e-cdca041620d9"
      },
      "source": [
        "from PIL import Image\n",
        "%matplotlib inline\n",
        "\n",
        "import matplotlib\n",
        "import matplotlib.pyplot as plt\n",
        "import matplotlib as mpl\n",
        " \n",
        "# https://towardsdatascience.com/visualising-high-dimensional-datasets-using-pca-and-t-sne-in-python-8ef87e7915b\n",
        "import seaborn as sns\n",
        "\n",
        "# save single numpy array\n",
        "# https://numpy.org/doc/stable/reference/generated/numpy.save.html#numpy.save\n",
        "from tempfile import TemporaryFile\n",
        "from sklearn.manifold import TSNE\n",
        "\n",
        "import torch\n",
        "import torch.utils.data\n",
        "\n",
        "from torch import nn, optim\n",
        "from torch.nn import functional as F\n",
        "from torch.autograd import Variable\n",
        "from torch.utils.data import Dataset, DataLoader\n",
        "\n",
        "import numpy as np\n",
        "import pandas as pd\n",
        "\n",
        "import torchvision\n",
        "from torchvision import datasets, transforms\n",
        "from torchvision.utils import save_image"
      ],
      "execution_count": 12,
      "outputs": [
        {
          "output_type": "stream",
          "text": [
            "/usr/local/lib/python3.6/dist-packages/statsmodels/tools/_testing.py:19: FutureWarning: pandas.util.testing is deprecated. Use the functions in the public API at pandas.testing instead.\n",
            "  import pandas.util.testing as tm\n"
          ],
          "name": "stderr"
        }
      ]
    },
    {
      "cell_type": "markdown",
      "metadata": {
        "id": "piAH_1eCafJC",
        "colab_type": "text"
      },
      "source": [
        "## 02. Data Preprocessing\n",
        "* Load dataset\n",
        "* preprocess it\n",
        "    * transforms\n",
        "    * make custom dataset\n",
        "    * train_test split: <code>torch.utils.data.random_split</code>\n",
        "    * train_test_loader\n",
        "\n",
        "### Work Flow\n",
        "* transforms module 사용해서 image data compose 하기\n",
        "    * size 조정, normalize, tensor 변환\n",
        "* ImageFolder를 이용해 dataload\n",
        "* dataset split: train dataset, test dataset\n",
        "* DataLoader로 batch단위 dataset 불러오기"
      ]
    },
    {
      "cell_type": "code",
      "metadata": {
        "id": "p0trLTWY5Edx",
        "colab_type": "code",
        "colab": {
          "base_uri": "https://localhost:8080/",
          "height": 35
        },
        "outputId": "033973ec-054f-46fb-8e4d-d51c0eed999e"
      },
      "source": [
        "! pwd"
      ],
      "execution_count": null,
      "outputs": [
        {
          "output_type": "stream",
          "text": [
            "/content/drive/My Drive/Post_InfoSec_Exps/Post_Exp01\n"
          ],
          "name": "stdout"
        }
      ]
    },
    {
      "cell_type": "code",
      "metadata": {
        "id": "05u2akkWKR4x",
        "colab_type": "code",
        "colab": {}
      },
      "source": [
        "transforms = transforms.Compose([\n",
        "                                transforms.Resize((224, 224)),                # Change size of Image to (224, 224)\n",
        "                                transforms.Grayscale(num_output_channels=1),  # Makes it 1-dimension channel\n",
        "                                transforms.ToTensor(),                        # Convert a PIL Image or numpy.ndarray to tensor.\n",
        "                                                                              # Converts a PIL Image or numpy.ndarray (H x W x C) in the range [0, 255] to a torch.FloatTensor of shape (C x H x W) in the range [0.0, 1.0] if the PIL Image belongs to one of the modes (L, LA, P, I, F, RGB, YCbCr, RGBA, CMYK, 1) or if the numpy.ndarray has dtype = np.uint8\n",
        "                                                                              # In the other cases, tensors are returned without scaling.\n",
        "                                # transforms.Normalize(mean=[0.5], std=[0.5]),\n",
        "                                \n",
        "                                ])\n",
        "\n",
        "# make custom dataset\n",
        "trainset = torchvision.datasets.ImageFolder(root='../../InformationSecurity_Summer/malimg',\n",
        "                                            transform=transforms)  # make custom dataset"
      ],
      "execution_count": null,
      "outputs": []
    },
    {
      "cell_type": "code",
      "metadata": {
        "id": "UdfkHTBrgA5U",
        "colab_type": "code",
        "colab": {
          "base_uri": "https://localhost:8080/",
          "height": 179
        },
        "outputId": "826105e1-dfca-48ae-e1fc-763974c0d0d8"
      },
      "source": [
        "trainset"
      ],
      "execution_count": null,
      "outputs": [
        {
          "output_type": "execute_result",
          "data": {
            "text/plain": [
              "Dataset ImageFolder\n",
              "    Number of datapoints: 9339\n",
              "    Root location: ../../InformationSecurity_Summer/malimg\n",
              "    StandardTransform\n",
              "Transform: Compose(\n",
              "               Resize(size=(224, 224), interpolation=PIL.Image.BILINEAR)\n",
              "               Grayscale(num_output_channels=1)\n",
              "               ToTensor()\n",
              "           )"
            ]
          },
          "metadata": {
            "tags": []
          },
          "execution_count": 36
        }
      ]
    },
    {
      "cell_type": "code",
      "metadata": {
        "id": "lx1-yQH1KutR",
        "colab_type": "code",
        "colab": {
          "base_uri": "https://localhost:8080/",
          "height": 467
        },
        "outputId": "142539f1-72be-402d-f7ef-320923c53df7"
      },
      "source": [
        "# classes = trainset.classes\n",
        "classes = trainset.classes\n",
        "classes"
      ],
      "execution_count": null,
      "outputs": [
        {
          "output_type": "execute_result",
          "data": {
            "text/plain": [
              "['Adialer.C',\n",
              " 'Agent.FYI',\n",
              " 'Allaple.A',\n",
              " 'Allaple.L',\n",
              " 'Alueron.gen!J',\n",
              " 'Autorun.K',\n",
              " 'C2LOP.P',\n",
              " 'C2LOP.gen!g',\n",
              " 'Dialplatform.B',\n",
              " 'Dontovo.A',\n",
              " 'Fakerean',\n",
              " 'Instantaccess',\n",
              " 'Lolyda.AA1',\n",
              " 'Lolyda.AA2',\n",
              " 'Lolyda.AA3',\n",
              " 'Lolyda.AT',\n",
              " 'Malex.gen!J',\n",
              " 'Obfuscator.AD',\n",
              " 'Rbot!gen',\n",
              " 'Skintrim.N',\n",
              " 'Swizzor.gen!E',\n",
              " 'Swizzor.gen!I',\n",
              " 'VB.AT',\n",
              " 'Wintrim.BX',\n",
              " 'Yuner.A']"
            ]
          },
          "metadata": {
            "tags": []
          },
          "execution_count": 37
        }
      ]
    },
    {
      "cell_type": "code",
      "metadata": {
        "id": "mB6yE7h9Lu9A",
        "colab_type": "code",
        "colab": {
          "base_uri": "https://localhost:8080/",
          "height": 35
        },
        "outputId": "85427345-f84b-4693-b77a-088a488e19df"
      },
      "source": [
        "full_dataset = trainset\n",
        "train_size = int(0.8 * len(full_dataset))\n",
        "test_size = len(full_dataset) - train_size\n",
        "print(train_size, test_size)\n",
        "\n",
        "train_dataset, test_dataset = torch.utils.data.random_split(full_dataset, [train_size, test_size])"
      ],
      "execution_count": null,
      "outputs": [
        {
          "output_type": "stream",
          "text": [
            "7471 1868\n"
          ],
          "name": "stdout"
        }
      ]
    },
    {
      "cell_type": "code",
      "metadata": {
        "id": "GvaDlRrGLm5N",
        "colab_type": "code",
        "colab": {}
      },
      "source": [
        "train_loader = DataLoader(train_dataset,\n",
        "                         batch_size=16,\n",
        "                         shuffle=True,\n",
        "                         pin_memory=True) \n",
        "test_loader = DataLoader(test_dataset,\n",
        "                        batch_size=16,\n",
        "                        shuffle=True,\n",
        "                        pin_memory=True)  # Instead, we recommend using automatic memory pinning (i.e., setting pin_memory=True)\n",
        "                                          #  which enables fast data transfer to CUDA-enabled GPUs\n",
        "\n",
        "# First, insert all test dataset\n",
        "# test_loader_10: testloader for latent vector visualization\n",
        "test_loader_10 = DataLoader(test_dataset,\n",
        "                        batch_size=1868,\n",
        "                        shuffle=True,\n",
        "                        pin_memory=True)"
      ],
      "execution_count": null,
      "outputs": []
    },
    {
      "cell_type": "code",
      "metadata": {
        "id": "Hzwh_FveLziU",
        "colab_type": "code",
        "colab": {}
      },
      "source": [
        "def imshow(img):\n",
        "    img = img / 2 + 0.5  # unnormalize\n",
        "    np_img = img.numpy()\n",
        "\n",
        "    plt.imshow(np.transpose(np_img, (1, 2, 0)))  # Convert (C, W, H) to (W, H, C)\n",
        "\n",
        "    print(np_img.shape)  # np_img shape\n",
        "    print((np.transpose(np_img, (1, 2, 0))).shape)  # transposed shape "
      ],
      "execution_count": null,
      "outputs": []
    },
    {
      "cell_type": "code",
      "metadata": {
        "id": "O7dFOopxMBpA",
        "colab_type": "code",
        "colab": {
          "base_uri": "https://localhost:8080/",
          "height": 35
        },
        "outputId": "cda73c81-0949-4b5b-8cc2-63f30f3c05df"
      },
      "source": [
        "dataiter = iter(train_loader)\n",
        "images, labels = dataiter.next()\n",
        "print(labels)"
      ],
      "execution_count": null,
      "outputs": [
        {
          "output_type": "stream",
          "text": [
            "tensor([24, 11,  4,  3, 11,  2,  3,  2, 14, 14,  2,  3,  3, 24,  2,  2])\n"
          ],
          "name": "stdout"
        }
      ]
    },
    {
      "cell_type": "code",
      "metadata": {
        "id": "1xkethBEMCzi",
        "colab_type": "code",
        "colab": {
          "base_uri": "https://localhost:8080/",
          "height": 397
        },
        "outputId": "f4ba22da-4fd9-47d4-9b4e-b9196cde5e8f"
      },
      "source": [
        "print(images.shape)\n",
        "imshow(torchvision.utils.make_grid(images, nrow=4))\n",
        "print(images.shape)\n",
        "print((torchvision.utils.make_grid(images)).shape)\n",
        "print(\"\".join(\"%5s \"%classes[labels[j]] for j in range(16)))"
      ],
      "execution_count": null,
      "outputs": [
        {
          "output_type": "stream",
          "text": [
            "torch.Size([16, 1, 224, 224])\n",
            "(3, 906, 906)\n",
            "(906, 906, 3)\n",
            "torch.Size([16, 1, 224, 224])\n",
            "torch.Size([3, 454, 1810])\n",
            "Yuner.A Instantaccess Alueron.gen!J Allaple.L Instantaccess Allaple.A Allaple.L Allaple.A Lolyda.AA3 Lolyda.AA3 Allaple.A Allaple.L Allaple.L Yuner.A Allaple.A Allaple.A \n"
          ],
          "name": "stdout"
        },
        {
          "output_type": "display_data",
          "data": {
            "image/png": "[encoded data removed]",
            "text/plain": [
              "<Figure size 432x288 with 1 Axes>"
            ]
          },
          "metadata": {
            "tags": [],
            "needs_background": "light"
          }
        }
      ]
    },
    {
      "cell_type": "markdown",
      "metadata": {
        "id": "i0K7aSEKd3PD",
        "colab_type": "text"
      },
      "source": [
        "## 03. Define VAE Class\n",
        "* Initialize\n",
        "    * (224, 224) input 이미지를 통해 1차원 100개의 latent vector를 생성하는 Encoder네트워크 정의\n",
        "    * 100개의 latent vector로부터 X_hat을 복원하는 Decoder Network 정의\n",
        "* encode\n",
        "* reparameterize\n",
        "* decode\n",
        "* forward"
      ]
    },
    {
      "cell_type": "code",
      "metadata": {
        "id": "B5HQz_o3MFlu",
        "colab_type": "code",
        "colab": {}
      },
      "source": [
        "device = torch.device(\"cuda\")  # device = torch.device(\"cuda\")\n",
        "\n",
        "class VAE(nn.Module):\n",
        "    def __init__(self):\n",
        "        super(VAE, self).__init__()\n",
        "\n",
        "        self.fc1 = nn.Linear(224*224, 1000)\n",
        "        self.fc21 = nn.Linear(1000, 100)\n",
        "        self.fc22 = nn.Linear(1000, 100)\n",
        "        self.fc3 = nn.Linear(100, 1000)\n",
        "        self.fc4 = nn.Linear(1000, 224*224)\n",
        "\n",
        "    def encode(self, x):\n",
        "        h1 = F.relu(self.fc1(x))\n",
        "        return self.fc21(h1), self.fc22(h1)\n",
        "\n",
        "    def reparameterize(self, mu, logvar):\n",
        "        std = torch.exp(0.5*logvar)\n",
        "        eps = torch.randn_like(std)\n",
        "        return mu + eps*std\n",
        "\n",
        "    def decode(self, z):\n",
        "        h3 = F.relu(self.fc3(z))\n",
        "        return torch.sigmoid(self.fc4(h3))\n",
        "# loss값이 안줄면 sigmoid함수를 제거하고 BCE with Logits Loss를 사용해볼까?\n",
        "# https://nuguziii.github.io/dev/dev-002/\n",
        "\n",
        "    def forward(self, x):\n",
        "        mu, logvar = self.encode(x.view(-1, 224*224))\n",
        "        z = self.reparameterize(mu, logvar)  # z's shape => (batch_size, 100)\n",
        "        return self.decode(z), mu, logvar, z"
      ],
      "execution_count": 13,
      "outputs": []
    },
    {
      "cell_type": "markdown",
      "metadata": {
        "id": "nAL0qyER6Foz",
        "colab_type": "text"
      },
      "source": [
        "# Post-Exp02."
      ]
    },
    {
      "cell_type": "markdown",
      "metadata": {
        "id": "Ol92_AqEWnOe",
        "colab_type": "text"
      },
      "source": [
        "### Load State Dict\n",
        "* Exp05_Epoch10\n",
        "* <code>Exp05_model_save_10Epochs.pth</code>"
      ]
    },
    {
      "cell_type": "code",
      "metadata": {
        "id": "geWI_1HR8JvQ",
        "colab_type": "code",
        "colab": {
          "base_uri": "https://localhost:8080/",
          "height": 35
        },
        "outputId": "3a01fa62-1394-4c67-960f-1cdfa73d114a"
      },
      "source": [
        "! pwd"
      ],
      "execution_count": 14,
      "outputs": [
        {
          "output_type": "stream",
          "text": [
            "/content/drive/My Drive/Post_InfoSec_Exps/Post_Exp02\n"
          ],
          "name": "stdout"
        }
      ]
    },
    {
      "cell_type": "code",
      "metadata": {
        "id": "APz4JQj49Xs_",
        "colab_type": "code",
        "colab": {
          "base_uri": "https://localhost:8080/",
          "height": 138
        },
        "outputId": "673f7397-cc08-485c-c3c3-3c8b43141023"
      },
      "source": [
        "# Load State_dict\n",
        "PATH_State_Dict = './Exp05_model_save_10Epochs.pth'\n",
        "\n",
        "model = VAE().to(device)\n",
        "model.load_state_dict(torch.load(PATH_State_Dict))\n",
        "model.eval\n",
        "\n",
        "model"
      ],
      "execution_count": 15,
      "outputs": [
        {
          "output_type": "execute_result",
          "data": {
            "text/plain": [
              "VAE(\n",
              "  (fc1): Linear(in_features=50176, out_features=1000, bias=True)\n",
              "  (fc21): Linear(in_features=1000, out_features=100, bias=True)\n",
              "  (fc22): Linear(in_features=1000, out_features=100, bias=True)\n",
              "  (fc3): Linear(in_features=100, out_features=1000, bias=True)\n",
              "  (fc4): Linear(in_features=1000, out_features=50176, bias=True)\n",
              ")"
            ]
          },
          "metadata": {
            "tags": []
          },
          "execution_count": 15
        }
      ]
    },
    {
      "cell_type": "code",
      "metadata": {
        "id": "85s3nFV139Wj",
        "colab_type": "code",
        "colab": {
          "base_uri": "https://localhost:8080/",
          "height": 35
        },
        "outputId": "a3ef5270-098b-41f5-a0cd-57481940602f"
      },
      "source": [
        "print('Num of {} parameters'.format(sum(p.numel() for p in model.parameters() if p.requires_grad)))"
      ],
      "execution_count": 16,
      "outputs": [
        {
          "output_type": "stream",
          "text": [
            "Num of 100704376 parameters\n"
          ],
          "name": "stdout"
        }
      ]
    },
    {
      "cell_type": "markdown",
      "metadata": {
        "id": "DYXuc5EqnFtX",
        "colab_type": "text"
      },
      "source": [
        "# Skip Below Cells\n",
        "* Skip Training Cells\n",
        "\n",
        "======================================= Skip it ===================================================\n",
        "\n",
        "\n",
        "---"
      ]
    },
    {
      "cell_type": "markdown",
      "metadata": {
        "id": "ehTMNYpD7EyP",
        "colab_type": "text"
      },
      "source": [
        "*Note*<br>\n",
        "✅ Reducing Learning rate<br>\n",
        "1e-3 to 1e-5"
      ]
    },
    {
      "cell_type": "code",
      "metadata": {
        "id": "eGmI2AwE9Z8e",
        "colab_type": "code",
        "colab": {}
      },
      "source": [
        "optimizer = optim.Adam(model.parameters(), lr=1e-5)  # reducing learning rate after 10 Epochs"
      ],
      "execution_count": null,
      "outputs": []
    },
    {
      "cell_type": "markdown",
      "metadata": {
        "id": "7Dne6cgWqgkH",
        "colab_type": "text"
      },
      "source": [
        "✅ Update<br>\n",
        "\n",
        "```\n",
        " BCE Loss와 Regulation Loss를 추가해줬습니다. -20.07.22.wed-\n",
        "```\n",
        "\n"
      ]
    },
    {
      "cell_type": "code",
      "metadata": {
        "id": "k7IOpEdM8571",
        "colab_type": "code",
        "colab": {
          "base_uri": "https://localhost:8080/",
          "height": 35
        },
        "outputId": "2a6ac72e-d2e1-4207-9f78-f4f062a61e77"
      },
      "source": [
        "! pwd"
      ],
      "execution_count": null,
      "outputs": [
        {
          "output_type": "stream",
          "text": [
            "/content/drive/My Drive/Post_InfoSec_Exps/Post_Exp01\n"
          ],
          "name": "stdout"
        }
      ]
    },
    {
      "cell_type": "code",
      "metadata": {
        "id": "iwGox4j89pQb",
        "colab_type": "code",
        "colab": {}
      },
      "source": [
        "# track and save train, test loss through Dictionary\n",
        "# \n",
        "Epoch_Loss = {'list_epoch': [],\n",
        "              'list_train_loss': [],\n",
        "              'list_test_loss': [],\n",
        "              # Add BCE Loss & Regularization Loss\n",
        "              'list_recon_loss': [],  # BCE Loss\n",
        "              'list_reg_loss': []     # KL Term\n",
        "            }\n",
        "\n",
        "# Save & Loading Model for Inference\n",
        "# Reference: https://pytorch.org/tutorials/beginner/saving_loading_models.html\n",
        "\n",
        "# PATH = '/Again_original_Exp01_200-Epoch.pth'\n",
        "\n",
        "PATH = 'Epochs.pth'\n",
        "# latent_vector = np.zeros((16, 100))\n",
        "color_palette = np.zeros((1868))"
      ],
      "execution_count": null,
      "outputs": []
    },
    {
      "cell_type": "markdown",
      "metadata": {
        "id": "RwaH7SvuxvWA",
        "colab_type": "text"
      },
      "source": [
        "*Note*<br>\n",
        "* Plot Every Epoch\n"
      ]
    },
    {
      "cell_type": "code",
      "metadata": {
        "id": "9khLnNT3MG7a",
        "colab_type": "code",
        "colab": {}
      },
      "source": [
        "# Reconstruction + KL divergence losses summed over all elements and batch\n",
        "def loss_function(recon_x, x, mu, logvar):\n",
        "\n",
        "    # BCE - Reconstruction Loss\n",
        "    BCE = F.binary_cross_entropy(recon_x, x.view(-1, 224*224), reduction='sum')  # (input, target, ... reduction)\n",
        "\n",
        "    # see Appendix B from VAE paper:\n",
        "    # Kingma and Welling. Auto-Encoding Variational Bayes. ICLR, 2014\n",
        "    # https://arxiv.org/abs/1312.6114\n",
        "    # 0.5 * sum(1 + log(sigma^2) - mu^2 - sigma^2)\n",
        "\n",
        "    # KLD Term: Regularization\n",
        "    KLD = -0.5 * torch.sum(1 + logvar - mu.pow(2) - logvar.exp())\n",
        "\n",
        "\n",
        "    # ADD BCE & KLD Loss\n",
        "    Epoch_Loss['list_recon_loss'].append(BCE)\n",
        "    Epoch_Loss['list_reg_loss'].append(KLD)\n",
        "    return BCE + KLD\n",
        "\n",
        "def train(epoch):\n",
        "    model.train()\n",
        "    train_loss = 0\n",
        "    # latent_vector = np.zeros(())\n",
        "    # latent_label = 0\n",
        "\n",
        "    for batch_idx, (data, _) in enumerate(train_loader):\n",
        "        data = data.to(device)\n",
        "        optimizer.zero_grad()\n",
        "        recon_batch, mu, logvar, z= model(data)\n",
        "    \n",
        "       \n",
        "        loss = loss_function(recon_batch, data, mu, logvar)\n",
        "        loss.backward()  # backward를 해주고요\n",
        "        train_loss += loss.item()  # loss.item() 개꿀...\n",
        "        optimizer.step()\n",
        "\n",
        "        # if batch_idx % 10 == 0:\n",
        "        print('Train Epoch: {} [{}/{} ({:.0f}%)]\\tLoss: {:.6f}'.format(\n",
        "            epoch, batch_idx * len(data), len(train_loader.dataset),\n",
        "            100. * batch_idx / len(train_loader),\n",
        "            loss.item() / len(data)))\n",
        "\n",
        "    print('====> Epoch: {} Average loss: {:.4f}'.format(\n",
        "          epoch, train_loss / len(train_loader.dataset)))\n",
        "    \n",
        "    Epoch_Loss['list_epoch'].append(epoch)\n",
        "    Epoch_Loss['list_train_loss'].append(train_loss / len(train_loader.dataset))\n",
        "   \n",
        "def test(epoch):\n",
        "    # Every Epoch 단위로 작업\n",
        "    # model.state_dict() 저장 및 latent_vector 저장\n",
        "    # plot latent vector\n",
        "    # if epoch % 10 == 0:  # Epoch이 10의 배수일때\n",
        "    # save model.state_dict() per 10 Epochs\n",
        "    torch.save(model.state_dict(), ('./model_save_' + str(epoch) + PATH))  # Epoch 단위 parameter 저장\n",
        "\n",
        "    model.eval()\n",
        "    test_loss = 0\n",
        "    with torch.no_grad():\n",
        "        for i, (data, _) in enumerate(test_loader):\n",
        "            data = data.to(device)\n",
        "            recon_batch, mu, logvar, z = model(data)\n",
        "            # z vector는 torch type\n",
        "            # latent_vector = z.detach().cpu().clone().numpy()\n",
        "\n",
        "            test_loss += loss_function(recon_batch, data, mu, logvar).item()\n",
        "            if i == 0:\n",
        "                n = min(data.size(0), 8)\n",
        "                comparison = torch.cat([data[:n],\n",
        "                                    recon_batch.view(16, 1, 224, 224)[:n]])\n",
        "                save_image(comparison.cpu(),\n",
        "                        './recon_sampling/reconstruction_' + str(epoch) + '.png', nrow=n)\n",
        "    test_loss /= len(test_loader.dataset)\n",
        "    print('====> Test set loss: {:.4f}'.format(test_loss))\n",
        "    # Epoch_Loss['list_epoch'].append(epoch)\n",
        "    Epoch_Loss['list_test_loss'].append(test_loss)\n",
        "\n",
        "    # save latent vector's every 10 Epoch's\n",
        "    # load_whole test_data \n",
        "    for i, (data, _) in enumerate(test_loader_10):  # load_whole test_data\n",
        "        data = data.to(device)\n",
        "        recon_batch, mu, logvar, z = model(data)\n",
        "    # save latent_vector per 10 Epochs\n",
        "        latent_vector = z.detach().cpu().clone().numpy()  # change tensor type data to cpu().numpy()\n",
        "                                                            # latent_vector_size: (num_of_data, 100)\n",
        "        color_palette = _.detach().cpu().clone().numpy()\n",
        "        with open(('./'+str(10+epoch)+'Epoch_z_vector.npy'), 'wb') as f:\n",
        "            np.save(f, latent_vector)  # but latent vector size is (16, 100).... just 16...\n",
        "                                        # 1 Epoch 단위로 latent vector를 저장한다\n",
        "                                        # 이 떄, latent vector의 size는 test_dataset의 크기가 되어야 한다\n",
        "                                        # 결과값이 좋은 vector는 좋은 feature로 사용할 수 있다.\n",
        "    # plot latent vector Every 10 Epochs\n",
        "    # t-SNE for Dimensionality reduction\n",
        "    Z_embedded = TSNE(n_components=2).fit_transform(latent_vector)\n",
        "    \n",
        "    fig, ax = plt.subplots(1, 1, figsize=(6, 6))  # setup the plot\n",
        "\n",
        "    x = Z_embedded[:, 0]\n",
        "    y = Z_embedded[:, 1]\n",
        "    label = color_palette\n",
        "    # label[10:12] = 0  # make sure there are some 0 values to show up as grey\n",
        "    print(\"==\"*20, \"params\", \"==\"*20)\n",
        "    print(\"Z_embedded.shape:\", Z_embedded.shape)\n",
        "    print(\"label.shape:\", label.shape)\n",
        "    # tsne_data = np.vstack((Z_embedded, label))\n",
        "    tsne_data = np.c_[Z_embedded, label]\n",
        "    tsne_df = pd.DataFrame(data=tsne_data, columns=(\"Dim_1\", \"Dim_2\", \"label\"))\n",
        "    sns.FacetGrid(tsne_df, hue=\"label\", size=6).map(plt.scatter, 'Dim_1', 'Dim_2').add_legend()\n",
        "    plt.savefig('./plot_latent_vector/' + str(epoch) + '_t_SNE.png', dpi=300)\n",
        "    plt.show()"
      ],
      "execution_count": null,
      "outputs": []
    },
    {
      "cell_type": "markdown",
      "metadata": {
        "id": "NEC7SFANZODp",
        "colab_type": "text"
      },
      "source": [
        "*Notice*<br>\n",
        "Train Again!<br>\n",
        "Change BCE loss param_reduction to 'sum'"
      ]
    },
    {
      "cell_type": "code",
      "metadata": {
        "id": "_RlJbqlOMI4G",
        "colab_type": "code",
        "colab": {
          "base_uri": "https://localhost:8080/",
          "height": 1000
        },
        "outputId": "cc38d83c-739e-41b2-9eb9-ce3c8b00f2f7"
      },
      "source": [
        "epochs = 20\n",
        "\n",
        "for epoch in range(1, epochs + 1):\n",
        "        print(epoch)\n",
        "        train(epoch)\n",
        "        test(epoch)\n",
        "        # https://stackoverflow.com/questions/40766909/suggestions-to-plot-overlapping-lines-in-matplotlib\n",
        "        plt.plot(Epoch_Loss['list_epoch'],Epoch_Loss['list_train_loss'], label=\"train_loss\", alpha=0.7)\n",
        "        plt.plot(Epoch_Loss['list_epoch'],Epoch_Loss['list_test_loss'], label=\"test_loss\", alpha=0.5)\n",
        "        plt.xlabel('Epochs')\n",
        "        plt.ylabel('Loss Score')\n",
        "        plt.title('Train_Test_Loss')\n",
        "        plt.legend()\n",
        "        plt.savefig('./plot_train_test_loss/'+str(epoch)+'_epoch.png', dpi=300)\n",
        "        plt.show()\n",
        "\n",
        "        with torch.no_grad():\n",
        "            sample = torch.randn(64, 100).to(device)\n",
        "            sample = model.decode(sample).cpu()\n",
        "            save_image(sample.view(64, 1, 224, 224),\n",
        "                       './recon_sampling/sampling_' + str(epoch) + '.png')"
      ],
      "execution_count": null,
      "outputs": [
        {
          "output_type": "stream",
          "text": [
            "1\n",
            "Train Epoch: 1 [0/7471 (0%)]\tLoss: 31925.111328\n",
            "Train Epoch: 1 [16/7471 (0%)]\tLoss: 31171.705078\n",
            "Train Epoch: 1 [32/7471 (0%)]\tLoss: 32803.324219\n",
            "Train Epoch: 1 [48/7471 (1%)]\tLoss: 31213.982422\n",
            "Train Epoch: 1 [64/7471 (1%)]\tLoss: 32848.988281\n",
            "Train Epoch: 1 [80/7471 (1%)]\tLoss: 30937.785156\n",
            "Train Epoch: 1 [96/7471 (1%)]\tLoss: 31197.062500\n",
            "Train Epoch: 1 [112/7471 (1%)]\tLoss: 32406.113281\n",
            "Train Epoch: 1 [128/7471 (2%)]\tLoss: 31881.794922\n",
            "Train Epoch: 1 [144/7471 (2%)]\tLoss: 33512.074219\n",
            "Train Epoch: 1 [160/7471 (2%)]\tLoss: 31117.408203\n",
            "Train Epoch: 1 [176/7471 (2%)]\tLoss: 30998.169922\n",
            "Train Epoch: 1 [192/7471 (3%)]\tLoss: 30990.775391\n",
            "Train Epoch: 1 [208/7471 (3%)]\tLoss: 32683.599609\n",
            "Train Epoch: 1 [224/7471 (3%)]\tLoss: 32421.382812\n",
            "Train Epoch: 1 [240/7471 (3%)]\tLoss: 32100.914062\n",
            "Train Epoch: 1 [256/7471 (3%)]\tLoss: 33242.398438\n",
            "Train Epoch: 1 [272/7471 (4%)]\tLoss: 32735.517578\n",
            "Train Epoch: 1 [288/7471 (4%)]\tLoss: 32545.660156\n",
            "Train Epoch: 1 [304/7471 (4%)]\tLoss: 33369.800781\n",
            "Train Epoch: 1 [320/7471 (4%)]\tLoss: 32240.607422\n",
            "Train Epoch: 1 [336/7471 (4%)]\tLoss: 31034.125000\n",
            "Train Epoch: 1 [352/7471 (5%)]\tLoss: 31169.039062\n",
            "Train Epoch: 1 [368/7471 (5%)]\tLoss: 32178.927734\n",
            "Train Epoch: 1 [384/7471 (5%)]\tLoss: 31743.414062\n",
            "Train Epoch: 1 [400/7471 (5%)]\tLoss: 31805.296875\n",
            "Train Epoch: 1 [416/7471 (6%)]\tLoss: 31370.666016\n",
            "Train Epoch: 1 [432/7471 (6%)]\tLoss: 32735.355469\n",
            "Train Epoch: 1 [448/7471 (6%)]\tLoss: 33172.824219\n",
            "Train Epoch: 1 [464/7471 (6%)]\tLoss: 33187.027344\n",
            "Train Epoch: 1 [480/7471 (6%)]\tLoss: 32199.712891\n",
            "Train Epoch: 1 [496/7471 (7%)]\tLoss: 31611.855469\n",
            "Train Epoch: 1 [512/7471 (7%)]\tLoss: 30026.650391\n",
            "Train Epoch: 1 [528/7471 (7%)]\tLoss: 30526.082031\n",
            "Train Epoch: 1 [544/7471 (7%)]\tLoss: 33118.664062\n",
            "Train Epoch: 1 [560/7471 (7%)]\tLoss: 32505.044922\n",
            "Train Epoch: 1 [576/7471 (8%)]\tLoss: 32780.480469\n",
            "Train Epoch: 1 [592/7471 (8%)]\tLoss: 29955.224609\n",
            "Train Epoch: 1 [608/7471 (8%)]\tLoss: 31918.222656\n",
            "Train Epoch: 1 [624/7471 (8%)]\tLoss: 32719.501953\n",
            "Train Epoch: 1 [640/7471 (9%)]\tLoss: 31833.345703\n",
            "Train Epoch: 1 [656/7471 (9%)]\tLoss: 32227.126953\n",
            "Train Epoch: 1 [672/7471 (9%)]\tLoss: 31199.279297\n",
            "Train Epoch: 1 [688/7471 (9%)]\tLoss: 32584.064453\n",
            "Train Epoch: 1 [704/7471 (9%)]\tLoss: 31645.500000\n",
            "Train Epoch: 1 [720/7471 (10%)]\tLoss: 31874.925781\n",
            "Train Epoch: 1 [736/7471 (10%)]\tLoss: 31856.714844\n",
            "Train Epoch: 1 [752/7471 (10%)]\tLoss: 32110.386719\n",
            "Train Epoch: 1 [768/7471 (10%)]\tLoss: 32348.888672\n",
            "Train Epoch: 1 [784/7471 (10%)]\tLoss: 32381.958984\n",
            "Train Epoch: 1 [800/7471 (11%)]\tLoss: 31898.968750\n",
            "Train Epoch: 1 [816/7471 (11%)]\tLoss: 31967.566406\n",
            "Train Epoch: 1 [832/7471 (11%)]\tLoss: 32478.986328\n",
            "Train Epoch: 1 [848/7471 (11%)]\tLoss: 33065.332031\n",
            "Train Epoch: 1 [864/7471 (12%)]\tLoss: 34205.757812\n",
            "Train Epoch: 1 [880/7471 (12%)]\tLoss: 31526.361328\n",
            "Train Epoch: 1 [896/7471 (12%)]\tLoss: 31937.902344\n",
            "Train Epoch: 1 [912/7471 (12%)]\tLoss: 32215.884766\n",
            "Train Epoch: 1 [928/7471 (12%)]\tLoss: 32380.166016\n",
            "Train Epoch: 1 [944/7471 (13%)]\tLoss: 32409.457031\n",
            "Train Epoch: 1 [960/7471 (13%)]\tLoss: 33272.640625\n",
            "Train Epoch: 1 [976/7471 (13%)]\tLoss: 32827.964844\n",
            "Train Epoch: 1 [992/7471 (13%)]\tLoss: 33117.355469\n",
            "Train Epoch: 1 [1008/7471 (13%)]\tLoss: 32136.914062\n",
            "Train Epoch: 1 [1024/7471 (14%)]\tLoss: 32928.867188\n",
            "Train Epoch: 1 [1040/7471 (14%)]\tLoss: 32465.500000\n",
            "Train Epoch: 1 [1056/7471 (14%)]\tLoss: 30749.417969\n",
            "Train Epoch: 1 [1072/7471 (14%)]\tLoss: 33044.640625\n",
            "Train Epoch: 1 [1088/7471 (15%)]\tLoss: 29153.691406\n",
            "Train Epoch: 1 [1104/7471 (15%)]\tLoss: 32472.496094\n",
            "Train Epoch: 1 [1120/7471 (15%)]\tLoss: 33023.152344\n",
            "Train Epoch: 1 [1136/7471 (15%)]\tLoss: 32510.064453\n",
            "Train Epoch: 1 [1152/7471 (15%)]\tLoss: 32312.306641\n",
            "Train Epoch: 1 [1168/7471 (16%)]\tLoss: 32410.796875\n",
            "Train Epoch: 1 [1184/7471 (16%)]\tLoss: 30817.878906\n",
            "Train Epoch: 1 [1200/7471 (16%)]\tLoss: 33690.949219\n",
            "Train Epoch: 1 [1216/7471 (16%)]\tLoss: 33428.683594\n",
            "Train Epoch: 1 [1232/7471 (16%)]\tLoss: 32915.101562\n",
            "Train Epoch: 1 [1248/7471 (17%)]\tLoss: 32427.947266\n",
            "Train Epoch: 1 [1264/7471 (17%)]\tLoss: 32123.662109\n",
            "Train Epoch: 1 [1280/7471 (17%)]\tLoss: 30887.236328\n",
            "Train Epoch: 1 [1296/7471 (17%)]\tLoss: 31321.828125\n",
            "Train Epoch: 1 [1312/7471 (18%)]\tLoss: 32799.386719\n",
            "Train Epoch: 1 [1328/7471 (18%)]\tLoss: 32841.105469\n",
            "Train Epoch: 1 [1344/7471 (18%)]\tLoss: 32988.113281\n",
            "Train Epoch: 1 [1360/7471 (18%)]\tLoss: 30888.984375\n",
            "Train Epoch: 1 [1376/7471 (18%)]\tLoss: 33963.941406\n",
            "Train Epoch: 1 [1392/7471 (19%)]\tLoss: 30497.371094\n",
            "Train Epoch: 1 [1408/7471 (19%)]\tLoss: 30949.667969\n",
            "Train Epoch: 1 [1424/7471 (19%)]\tLoss: 32144.361328\n",
            "Train Epoch: 1 [1440/7471 (19%)]\tLoss: 33575.835938\n",
            "Train Epoch: 1 [1456/7471 (19%)]\tLoss: 32211.162109\n",
            "Train Epoch: 1 [1472/7471 (20%)]\tLoss: 30920.992188\n",
            "Train Epoch: 1 [1488/7471 (20%)]\tLoss: 33569.546875\n",
            "Train Epoch: 1 [1504/7471 (20%)]\tLoss: 32283.667969\n",
            "Train Epoch: 1 [1520/7471 (20%)]\tLoss: 33615.105469\n",
            "Train Epoch: 1 [1536/7471 (21%)]\tLoss: 31421.072266\n",
            "Train Epoch: 1 [1552/7471 (21%)]\tLoss: 32271.019531\n",
            "Train Epoch: 1 [1568/7471 (21%)]\tLoss: 32411.570312\n",
            "Train Epoch: 1 [1584/7471 (21%)]\tLoss: 31579.224609\n",
            "Train Epoch: 1 [1600/7471 (21%)]\tLoss: 31328.943359\n",
            "Train Epoch: 1 [1616/7471 (22%)]\tLoss: 31136.619141\n",
            "Train Epoch: 1 [1632/7471 (22%)]\tLoss: 32912.855469\n",
            "Train Epoch: 1 [1648/7471 (22%)]\tLoss: 31885.000000\n",
            "Train Epoch: 1 [1664/7471 (22%)]\tLoss: 30994.886719\n",
            "Train Epoch: 1 [1680/7471 (22%)]\tLoss: 33246.390625\n",
            "Train Epoch: 1 [1696/7471 (23%)]\tLoss: 33225.742188\n",
            "Train Epoch: 1 [1712/7471 (23%)]\tLoss: 31507.052734\n",
            "Train Epoch: 1 [1728/7471 (23%)]\tLoss: 31418.796875\n",
            "Train Epoch: 1 [1744/7471 (23%)]\tLoss: 32722.468750\n",
            "Train Epoch: 1 [1760/7471 (24%)]\tLoss: 30690.773438\n",
            "Train Epoch: 1 [1776/7471 (24%)]\tLoss: 32150.658203\n",
            "Train Epoch: 1 [1792/7471 (24%)]\tLoss: 32923.609375\n",
            "Train Epoch: 1 [1808/7471 (24%)]\tLoss: 30975.634766\n",
            "Train Epoch: 1 [1824/7471 (24%)]\tLoss: 31477.994141\n",
            "Train Epoch: 1 [1840/7471 (25%)]\tLoss: 33880.265625\n",
            "Train Epoch: 1 [1856/7471 (25%)]\tLoss: 33388.105469\n",
            "Train Epoch: 1 [1872/7471 (25%)]\tLoss: 32997.566406\n",
            "Train Epoch: 1 [1888/7471 (25%)]\tLoss: 32233.412109\n",
            "Train Epoch: 1 [1904/7471 (25%)]\tLoss: 30382.556641\n",
            "Train Epoch: 1 [1920/7471 (26%)]\tLoss: 33095.625000\n",
            "Train Epoch: 1 [1936/7471 (26%)]\tLoss: 30882.695312\n",
            "Train Epoch: 1 [1952/7471 (26%)]\tLoss: 32852.703125\n",
            "Train Epoch: 1 [1968/7471 (26%)]\tLoss: 31316.675781\n",
            "Train Epoch: 1 [1984/7471 (27%)]\tLoss: 32097.720703\n",
            "Train Epoch: 1 [2000/7471 (27%)]\tLoss: 33027.812500\n",
            "Train Epoch: 1 [2016/7471 (27%)]\tLoss: 31766.767578\n",
            "Train Epoch: 1 [2032/7471 (27%)]\tLoss: 29739.982422\n",
            "Train Epoch: 1 [2048/7471 (27%)]\tLoss: 30317.617188\n",
            "Train Epoch: 1 [2064/7471 (28%)]\tLoss: 32453.646484\n",
            "Train Epoch: 1 [2080/7471 (28%)]\tLoss: 33001.621094\n",
            "Train Epoch: 1 [2096/7471 (28%)]\tLoss: 32843.089844\n",
            "Train Epoch: 1 [2112/7471 (28%)]\tLoss: 32559.863281\n",
            "Train Epoch: 1 [2128/7471 (28%)]\tLoss: 31369.826172\n",
            "Train Epoch: 1 [2144/7471 (29%)]\tLoss: 31828.400391\n",
            "Train Epoch: 1 [2160/7471 (29%)]\tLoss: 32189.191406\n",
            "Train Epoch: 1 [2176/7471 (29%)]\tLoss: 32744.156250\n",
            "Train Epoch: 1 [2192/7471 (29%)]\tLoss: 32796.171875\n",
            "Train Epoch: 1 [2208/7471 (30%)]\tLoss: 33015.316406\n",
            "Train Epoch: 1 [2224/7471 (30%)]\tLoss: 32348.240234\n",
            "Train Epoch: 1 [2240/7471 (30%)]\tLoss: 32452.707031\n",
            "Train Epoch: 1 [2256/7471 (30%)]\tLoss: 33803.906250\n",
            "Train Epoch: 1 [2272/7471 (30%)]\tLoss: 32499.064453\n",
            "Train Epoch: 1 [2288/7471 (31%)]\tLoss: 32334.462891\n",
            "Train Epoch: 1 [2304/7471 (31%)]\tLoss: 32103.212891\n",
            "Train Epoch: 1 [2320/7471 (31%)]\tLoss: 32716.515625\n",
            "Train Epoch: 1 [2336/7471 (31%)]\tLoss: 31743.310547\n",
            "Train Epoch: 1 [2352/7471 (31%)]\tLoss: 33054.667969\n",
            "Train Epoch: 1 [2368/7471 (32%)]\tLoss: 33032.996094\n",
            "Train Epoch: 1 [2384/7471 (32%)]\tLoss: 33759.019531\n",
            "Train Epoch: 1 [2400/7471 (32%)]\tLoss: 32721.126953\n",
            "Train Epoch: 1 [2416/7471 (32%)]\tLoss: 32151.902344\n",
            "Train Epoch: 1 [2432/7471 (33%)]\tLoss: 33726.535156\n",
            "Train Epoch: 1 [2448/7471 (33%)]\tLoss: 33560.558594\n",
            "Train Epoch: 1 [2464/7471 (33%)]\tLoss: 32197.216797\n",
            "Train Epoch: 1 [2480/7471 (33%)]\tLoss: 32985.300781\n",
            "Train Epoch: 1 [2496/7471 (33%)]\tLoss: 32657.990234\n",
            "Train Epoch: 1 [2512/7471 (34%)]\tLoss: 33087.265625\n",
            "Train Epoch: 1 [2528/7471 (34%)]\tLoss: 33128.460938\n",
            "Train Epoch: 1 [2544/7471 (34%)]\tLoss: 31618.279297\n",
            "Train Epoch: 1 [2560/7471 (34%)]\tLoss: 32350.914062\n",
            "Train Epoch: 1 [2576/7471 (34%)]\tLoss: 32056.566406\n",
            "Train Epoch: 1 [2592/7471 (35%)]\tLoss: 32880.089844\n",
            "Train Epoch: 1 [2608/7471 (35%)]\tLoss: 32218.388672\n",
            "Train Epoch: 1 [2624/7471 (35%)]\tLoss: 32747.294922\n",
            "Train Epoch: 1 [2640/7471 (35%)]\tLoss: 32273.974609\n",
            "Train Epoch: 1 [2656/7471 (36%)]\tLoss: 31798.238281\n",
            "Train Epoch: 1 [2672/7471 (36%)]\tLoss: 32671.949219\n",
            "Train Epoch: 1 [2688/7471 (36%)]\tLoss: 33129.085938\n",
            "Train Epoch: 1 [2704/7471 (36%)]\tLoss: 32751.556641\n",
            "Train Epoch: 1 [2720/7471 (36%)]\tLoss: 33103.960938\n",
            "Train Epoch: 1 [2736/7471 (37%)]\tLoss: 33223.691406\n",
            "Train Epoch: 1 [2752/7471 (37%)]\tLoss: 32799.085938\n",
            "Train Epoch: 1 [2768/7471 (37%)]\tLoss: 32010.449219\n",
            "Train Epoch: 1 [2784/7471 (37%)]\tLoss: 32379.671875\n",
            "Train Epoch: 1 [2800/7471 (37%)]\tLoss: 33432.359375\n",
            "Train Epoch: 1 [2816/7471 (38%)]\tLoss: 32959.789062\n",
            "Train Epoch: 1 [2832/7471 (38%)]\tLoss: 29908.390625\n",
            "Train Epoch: 1 [2848/7471 (38%)]\tLoss: 31476.105469\n",
            "Train Epoch: 1 [2864/7471 (38%)]\tLoss: 32240.873047\n",
            "Train Epoch: 1 [2880/7471 (39%)]\tLoss: 31101.757812\n",
            "Train Epoch: 1 [2896/7471 (39%)]\tLoss: 33191.320312\n",
            "Train Epoch: 1 [2912/7471 (39%)]\tLoss: 32442.455078\n",
            "Train Epoch: 1 [2928/7471 (39%)]\tLoss: 32530.027344\n",
            "Train Epoch: 1 [2944/7471 (39%)]\tLoss: 31844.945312\n",
            "Train Epoch: 1 [2960/7471 (40%)]\tLoss: 32220.132812\n",
            "Train Epoch: 1 [2976/7471 (40%)]\tLoss: 33459.984375\n",
            "Train Epoch: 1 [2992/7471 (40%)]\tLoss: 32438.740234\n",
            "Train Epoch: 1 [3008/7471 (40%)]\tLoss: 30539.853516\n",
            "Train Epoch: 1 [3024/7471 (40%)]\tLoss: 33936.316406\n",
            "Train Epoch: 1 [3040/7471 (41%)]\tLoss: 33246.554688\n",
            "Train Epoch: 1 [3056/7471 (41%)]\tLoss: 33171.273438\n",
            "Train Epoch: 1 [3072/7471 (41%)]\tLoss: 31033.195312\n",
            "Train Epoch: 1 [3088/7471 (41%)]\tLoss: 32858.660156\n",
            "Train Epoch: 1 [3104/7471 (42%)]\tLoss: 33022.929688\n",
            "Train Epoch: 1 [3120/7471 (42%)]\tLoss: 31437.310547\n",
            "Train Epoch: 1 [3136/7471 (42%)]\tLoss: 32872.054688\n",
            "Train Epoch: 1 [3152/7471 (42%)]\tLoss: 32032.687500\n",
            "Train Epoch: 1 [3168/7471 (42%)]\tLoss: 32480.371094\n",
            "Train Epoch: 1 [3184/7471 (43%)]\tLoss: 31723.115234\n",
            "Train Epoch: 1 [3200/7471 (43%)]\tLoss: 32481.210938\n",
            "Train Epoch: 1 [3216/7471 (43%)]\tLoss: 32018.402344\n",
            "Train Epoch: 1 [3232/7471 (43%)]\tLoss: 32981.433594\n",
            "Train Epoch: 1 [3248/7471 (43%)]\tLoss: 32132.437500\n",
            "Train Epoch: 1 [3264/7471 (44%)]\tLoss: 32857.121094\n",
            "Train Epoch: 1 [3280/7471 (44%)]\tLoss: 32259.111328\n",
            "Train Epoch: 1 [3296/7471 (44%)]\tLoss: 32844.917969\n",
            "Train Epoch: 1 [3312/7471 (44%)]\tLoss: 32912.937500\n",
            "Train Epoch: 1 [3328/7471 (45%)]\tLoss: 32318.707031\n",
            "Train Epoch: 1 [3344/7471 (45%)]\tLoss: 31760.058594\n",
            "Train Epoch: 1 [3360/7471 (45%)]\tLoss: 32040.822266\n",
            "Train Epoch: 1 [3376/7471 (45%)]\tLoss: 32684.695312\n",
            "Train Epoch: 1 [3392/7471 (45%)]\tLoss: 30847.927734\n",
            "Train Epoch: 1 [3408/7471 (46%)]\tLoss: 32583.919922\n",
            "Train Epoch: 1 [3424/7471 (46%)]\tLoss: 32102.669922\n",
            "Train Epoch: 1 [3440/7471 (46%)]\tLoss: 32172.501953\n",
            "Train Epoch: 1 [3456/7471 (46%)]\tLoss: 32234.910156\n",
            "Train Epoch: 1 [3472/7471 (46%)]\tLoss: 31095.960938\n",
            "Train Epoch: 1 [3488/7471 (47%)]\tLoss: 30727.085938\n",
            "Train Epoch: 1 [3504/7471 (47%)]\tLoss: 30673.281250\n",
            "Train Epoch: 1 [3520/7471 (47%)]\tLoss: 33785.652344\n",
            "Train Epoch: 1 [3536/7471 (47%)]\tLoss: 30430.935547\n",
            "Train Epoch: 1 [3552/7471 (48%)]\tLoss: 32215.996094\n",
            "Train Epoch: 1 [3568/7471 (48%)]\tLoss: 34026.164062\n",
            "Train Epoch: 1 [3584/7471 (48%)]\tLoss: 30936.455078\n",
            "Train Epoch: 1 [3600/7471 (48%)]\tLoss: 32273.724609\n",
            "Train Epoch: 1 [3616/7471 (48%)]\tLoss: 33275.992188\n",
            "Train Epoch: 1 [3632/7471 (49%)]\tLoss: 32649.154297\n",
            "Train Epoch: 1 [3648/7471 (49%)]\tLoss: 33614.839844\n",
            "Train Epoch: 1 [3664/7471 (49%)]\tLoss: 31927.652344\n",
            "Train Epoch: 1 [3680/7471 (49%)]\tLoss: 31464.632812\n",
            "Train Epoch: 1 [3696/7471 (49%)]\tLoss: 31645.791016\n",
            "Train Epoch: 1 [3712/7471 (50%)]\tLoss: 33109.218750\n",
            "Train Epoch: 1 [3728/7471 (50%)]\tLoss: 30978.234375\n",
            "Train Epoch: 1 [3744/7471 (50%)]\tLoss: 33635.621094\n",
            "Train Epoch: 1 [3760/7471 (50%)]\tLoss: 33023.906250\n",
            "Train Epoch: 1 [3776/7471 (51%)]\tLoss: 32800.941406\n",
            "Train Epoch: 1 [3792/7471 (51%)]\tLoss: 31369.675781\n",
            "Train Epoch: 1 [3808/7471 (51%)]\tLoss: 32501.687500\n",
            "Train Epoch: 1 [3824/7471 (51%)]\tLoss: 31805.625000\n",
            "Train Epoch: 1 [3840/7471 (51%)]\tLoss: 30738.261719\n",
            "Train Epoch: 1 [3856/7471 (52%)]\tLoss: 32621.298828\n",
            "Train Epoch: 1 [3872/7471 (52%)]\tLoss: 33554.238281\n",
            "Train Epoch: 1 [3888/7471 (52%)]\tLoss: 32697.748047\n",
            "Train Epoch: 1 [3904/7471 (52%)]\tLoss: 32502.466797\n",
            "Train Epoch: 1 [3920/7471 (52%)]\tLoss: 33816.074219\n",
            "Train Epoch: 1 [3936/7471 (53%)]\tLoss: 33018.386719\n",
            "Train Epoch: 1 [3952/7471 (53%)]\tLoss: 32554.746094\n",
            "Train Epoch: 1 [3968/7471 (53%)]\tLoss: 32454.375000\n",
            "Train Epoch: 1 [3984/7471 (53%)]\tLoss: 32824.753906\n",
            "Train Epoch: 1 [4000/7471 (54%)]\tLoss: 33759.847656\n",
            "Train Epoch: 1 [4016/7471 (54%)]\tLoss: 32750.720703\n",
            "Train Epoch: 1 [4032/7471 (54%)]\tLoss: 32503.070312\n",
            "Train Epoch: 1 [4048/7471 (54%)]\tLoss: 32491.626953\n",
            "Train Epoch: 1 [4064/7471 (54%)]\tLoss: 31636.742188\n",
            "Train Epoch: 1 [4080/7471 (55%)]\tLoss: 32308.929688\n",
            "Train Epoch: 1 [4096/7471 (55%)]\tLoss: 31960.236328\n",
            "Train Epoch: 1 [4112/7471 (55%)]\tLoss: 31250.660156\n",
            "Train Epoch: 1 [4128/7471 (55%)]\tLoss: 32577.353516\n",
            "Train Epoch: 1 [4144/7471 (55%)]\tLoss: 32452.251953\n",
            "Train Epoch: 1 [4160/7471 (56%)]\tLoss: 31209.009766\n",
            "Train Epoch: 1 [4176/7471 (56%)]\tLoss: 32728.968750\n",
            "Train Epoch: 1 [4192/7471 (56%)]\tLoss: 31926.869141\n",
            "Train Epoch: 1 [4208/7471 (56%)]\tLoss: 32445.662109\n",
            "Train Epoch: 1 [4224/7471 (57%)]\tLoss: 31678.193359\n",
            "Train Epoch: 1 [4240/7471 (57%)]\tLoss: 31790.029297\n",
            "Train Epoch: 1 [4256/7471 (57%)]\tLoss: 29633.228516\n",
            "Train Epoch: 1 [4272/7471 (57%)]\tLoss: 32385.042969\n",
            "Train Epoch: 1 [4288/7471 (57%)]\tLoss: 32040.574219\n",
            "Train Epoch: 1 [4304/7471 (58%)]\tLoss: 31537.923828\n",
            "Train Epoch: 1 [4320/7471 (58%)]\tLoss: 33072.808594\n",
            "Train Epoch: 1 [4336/7471 (58%)]\tLoss: 31069.396484\n",
            "Train Epoch: 1 [4352/7471 (58%)]\tLoss: 34088.195312\n",
            "Train Epoch: 1 [4368/7471 (58%)]\tLoss: 32125.746094\n",
            "Train Epoch: 1 [4384/7471 (59%)]\tLoss: 31305.623047\n",
            "Train Epoch: 1 [4400/7471 (59%)]\tLoss: 31765.951172\n",
            "Train Epoch: 1 [4416/7471 (59%)]\tLoss: 31944.062500\n",
            "Train Epoch: 1 [4432/7471 (59%)]\tLoss: 32731.753906\n",
            "Train Epoch: 1 [4448/7471 (60%)]\tLoss: 32467.789062\n",
            "Train Epoch: 1 [4464/7471 (60%)]\tLoss: 32505.419922\n",
            "Train Epoch: 1 [4480/7471 (60%)]\tLoss: 32260.105469\n",
            "Train Epoch: 1 [4496/7471 (60%)]\tLoss: 32039.599609\n",
            "Train Epoch: 1 [4512/7471 (60%)]\tLoss: 33070.203125\n",
            "Train Epoch: 1 [4528/7471 (61%)]\tLoss: 33029.093750\n",
            "Train Epoch: 1 [4544/7471 (61%)]\tLoss: 32661.310547\n",
            "Train Epoch: 1 [4560/7471 (61%)]\tLoss: 32903.800781\n",
            "Train Epoch: 1 [4576/7471 (61%)]\tLoss: 31894.984375\n",
            "Train Epoch: 1 [4592/7471 (61%)]\tLoss: 32219.638672\n",
            "Train Epoch: 1 [4608/7471 (62%)]\tLoss: 32997.882812\n",
            "Train Epoch: 1 [4624/7471 (62%)]\tLoss: 31432.888672\n",
            "Train Epoch: 1 [4640/7471 (62%)]\tLoss: 32750.410156\n",
            "Train Epoch: 1 [4656/7471 (62%)]\tLoss: 33385.144531\n",
            "Train Epoch: 1 [4672/7471 (63%)]\tLoss: 33063.980469\n",
            "Train Epoch: 1 [4688/7471 (63%)]\tLoss: 32792.636719\n",
            "Train Epoch: 1 [4704/7471 (63%)]\tLoss: 31583.599609\n",
            "Train Epoch: 1 [4720/7471 (63%)]\tLoss: 31376.718750\n",
            "Train Epoch: 1 [4736/7471 (63%)]\tLoss: 33081.214844\n",
            "Train Epoch: 1 [4752/7471 (64%)]\tLoss: 32336.187500\n",
            "Train Epoch: 1 [4768/7471 (64%)]\tLoss: 32322.363281\n",
            "Train Epoch: 1 [4784/7471 (64%)]\tLoss: 30791.806641\n",
            "Train Epoch: 1 [4800/7471 (64%)]\tLoss: 33166.210938\n",
            "Train Epoch: 1 [4816/7471 (64%)]\tLoss: 33626.246094\n",
            "Train Epoch: 1 [4832/7471 (65%)]\tLoss: 32820.441406\n",
            "Train Epoch: 1 [4848/7471 (65%)]\tLoss: 32790.605469\n",
            "Train Epoch: 1 [4864/7471 (65%)]\tLoss: 33038.101562\n",
            "Train Epoch: 1 [4880/7471 (65%)]\tLoss: 32284.216797\n",
            "Train Epoch: 1 [4896/7471 (66%)]\tLoss: 31188.361328\n",
            "Train Epoch: 1 [4912/7471 (66%)]\tLoss: 33204.042969\n",
            "Train Epoch: 1 [4928/7471 (66%)]\tLoss: 30434.583984\n",
            "Train Epoch: 1 [4944/7471 (66%)]\tLoss: 33458.464844\n",
            "Train Epoch: 1 [4960/7471 (66%)]\tLoss: 32567.037109\n",
            "Train Epoch: 1 [4976/7471 (67%)]\tLoss: 31139.320312\n",
            "Train Epoch: 1 [4992/7471 (67%)]\tLoss: 30853.546875\n",
            "Train Epoch: 1 [5008/7471 (67%)]\tLoss: 32904.574219\n",
            "Train Epoch: 1 [5024/7471 (67%)]\tLoss: 32915.507812\n",
            "Train Epoch: 1 [5040/7471 (67%)]\tLoss: 31750.298828\n",
            "Train Epoch: 1 [5056/7471 (68%)]\tLoss: 32872.121094\n",
            "Train Epoch: 1 [5072/7471 (68%)]\tLoss: 31176.255859\n",
            "Train Epoch: 1 [5088/7471 (68%)]\tLoss: 32122.816406\n",
            "Train Epoch: 1 [5104/7471 (68%)]\tLoss: 31182.748047\n",
            "Train Epoch: 1 [5120/7471 (69%)]\tLoss: 32236.966797\n",
            "Train Epoch: 1 [5136/7471 (69%)]\tLoss: 33461.308594\n",
            "Train Epoch: 1 [5152/7471 (69%)]\tLoss: 32030.226562\n",
            "Train Epoch: 1 [5168/7471 (69%)]\tLoss: 32585.748047\n",
            "Train Epoch: 1 [5184/7471 (69%)]\tLoss: 32900.144531\n",
            "Train Epoch: 1 [5200/7471 (70%)]\tLoss: 32392.818359\n",
            "Train Epoch: 1 [5216/7471 (70%)]\tLoss: 32008.974609\n",
            "Train Epoch: 1 [5232/7471 (70%)]\tLoss: 31810.484375\n",
            "Train Epoch: 1 [5248/7471 (70%)]\tLoss: 32680.482422\n",
            "Train Epoch: 1 [5264/7471 (70%)]\tLoss: 32424.486328\n",
            "Train Epoch: 1 [5280/7471 (71%)]\tLoss: 32001.660156\n",
            "Train Epoch: 1 [5296/7471 (71%)]\tLoss: 34065.640625\n",
            "Train Epoch: 1 [5312/7471 (71%)]\tLoss: 32599.193359\n",
            "Train Epoch: 1 [5328/7471 (71%)]\tLoss: 32084.849609\n",
            "Train Epoch: 1 [5344/7471 (72%)]\tLoss: 33107.894531\n",
            "Train Epoch: 1 [5360/7471 (72%)]\tLoss: 32244.517578\n",
            "Train Epoch: 1 [5376/7471 (72%)]\tLoss: 32620.832031\n",
            "Train Epoch: 1 [5392/7471 (72%)]\tLoss: 33481.304688\n",
            "Train Epoch: 1 [5408/7471 (72%)]\tLoss: 31401.593750\n",
            "Train Epoch: 1 [5424/7471 (73%)]\tLoss: 33248.609375\n",
            "Train Epoch: 1 [5440/7471 (73%)]\tLoss: 33057.269531\n",
            "Train Epoch: 1 [5456/7471 (73%)]\tLoss: 30967.875000\n",
            "Train Epoch: 1 [5472/7471 (73%)]\tLoss: 31211.267578\n",
            "Train Epoch: 1 [5488/7471 (73%)]\tLoss: 31981.607422\n",
            "Train Epoch: 1 [5504/7471 (74%)]\tLoss: 32902.210938\n",
            "Train Epoch: 1 [5520/7471 (74%)]\tLoss: 31677.740234\n",
            "Train Epoch: 1 [5536/7471 (74%)]\tLoss: 32940.914062\n",
            "Train Epoch: 1 [5552/7471 (74%)]\tLoss: 32327.878906\n",
            "Train Epoch: 1 [5568/7471 (75%)]\tLoss: 30539.728516\n",
            "Train Epoch: 1 [5584/7471 (75%)]\tLoss: 32273.001953\n",
            "Train Epoch: 1 [5600/7471 (75%)]\tLoss: 32604.089844\n",
            "Train Epoch: 1 [5616/7471 (75%)]\tLoss: 32286.919922\n",
            "Train Epoch: 1 [5632/7471 (75%)]\tLoss: 32900.890625\n",
            "Train Epoch: 1 [5648/7471 (76%)]\tLoss: 33327.343750\n",
            "Train Epoch: 1 [5664/7471 (76%)]\tLoss: 32519.949219\n",
            "Train Epoch: 1 [5680/7471 (76%)]\tLoss: 31805.111328\n",
            "Train Epoch: 1 [5696/7471 (76%)]\tLoss: 32656.828125\n",
            "Train Epoch: 1 [5712/7471 (76%)]\tLoss: 31893.216797\n",
            "Train Epoch: 1 [5728/7471 (77%)]\tLoss: 31664.013672\n",
            "Train Epoch: 1 [5744/7471 (77%)]\tLoss: 32056.830078\n",
            "Train Epoch: 1 [5760/7471 (77%)]\tLoss: 30236.947266\n",
            "Train Epoch: 1 [5776/7471 (77%)]\tLoss: 32989.746094\n",
            "Train Epoch: 1 [5792/7471 (78%)]\tLoss: 31338.103516\n",
            "Train Epoch: 1 [5808/7471 (78%)]\tLoss: 32209.492188\n",
            "Train Epoch: 1 [5824/7471 (78%)]\tLoss: 31179.382812\n",
            "Train Epoch: 1 [5840/7471 (78%)]\tLoss: 31879.136719\n",
            "Train Epoch: 1 [5856/7471 (78%)]\tLoss: 32106.458984\n",
            "Train Epoch: 1 [5872/7471 (79%)]\tLoss: 29129.189453\n",
            "Train Epoch: 1 [5888/7471 (79%)]\tLoss: 32617.208984\n",
            "Train Epoch: 1 [5904/7471 (79%)]\tLoss: 33787.390625\n",
            "Train Epoch: 1 [5920/7471 (79%)]\tLoss: 32744.242188\n",
            "Train Epoch: 1 [5936/7471 (79%)]\tLoss: 31028.921875\n",
            "Train Epoch: 1 [5952/7471 (80%)]\tLoss: 32581.080078\n",
            "Train Epoch: 1 [5968/7471 (80%)]\tLoss: 31412.048828\n",
            "Train Epoch: 1 [5984/7471 (80%)]\tLoss: 31662.808594\n",
            "Train Epoch: 1 [6000/7471 (80%)]\tLoss: 30555.425781\n",
            "Train Epoch: 1 [6016/7471 (81%)]\tLoss: 31602.689453\n",
            "Train Epoch: 1 [6032/7471 (81%)]\tLoss: 32808.882812\n",
            "Train Epoch: 1 [6048/7471 (81%)]\tLoss: 30171.802734\n",
            "Train Epoch: 1 [6064/7471 (81%)]\tLoss: 32095.593750\n",
            "Train Epoch: 1 [6080/7471 (81%)]\tLoss: 33186.332031\n",
            "Train Epoch: 1 [6096/7471 (82%)]\tLoss: 33134.195312\n",
            "Train Epoch: 1 [6112/7471 (82%)]\tLoss: 32888.761719\n",
            "Train Epoch: 1 [6128/7471 (82%)]\tLoss: 32586.671875\n",
            "Train Epoch: 1 [6144/7471 (82%)]\tLoss: 32155.113281\n",
            "Train Epoch: 1 [6160/7471 (82%)]\tLoss: 29840.115234\n",
            "Train Epoch: 1 [6176/7471 (83%)]\tLoss: 30828.591797\n",
            "Train Epoch: 1 [6192/7471 (83%)]\tLoss: 31486.578125\n",
            "Train Epoch: 1 [6208/7471 (83%)]\tLoss: 33814.167969\n",
            "Train Epoch: 1 [6224/7471 (83%)]\tLoss: 32422.775391\n",
            "Train Epoch: 1 [6240/7471 (84%)]\tLoss: 33440.433594\n",
            "Train Epoch: 1 [6256/7471 (84%)]\tLoss: 32011.921875\n",
            "Train Epoch: 1 [6272/7471 (84%)]\tLoss: 32684.085938\n",
            "Train Epoch: 1 [6288/7471 (84%)]\tLoss: 32955.683594\n",
            "Train Epoch: 1 [6304/7471 (84%)]\tLoss: 32315.722656\n",
            "Train Epoch: 1 [6320/7471 (85%)]\tLoss: 33338.644531\n",
            "Train Epoch: 1 [6336/7471 (85%)]\tLoss: 33237.628906\n",
            "Train Epoch: 1 [6352/7471 (85%)]\tLoss: 30926.601562\n",
            "Train Epoch: 1 [6368/7471 (85%)]\tLoss: 32803.937500\n",
            "Train Epoch: 1 [6384/7471 (85%)]\tLoss: 31962.035156\n",
            "Train Epoch: 1 [6400/7471 (86%)]\tLoss: 31264.728516\n",
            "Train Epoch: 1 [6416/7471 (86%)]\tLoss: 33658.402344\n",
            "Train Epoch: 1 [6432/7471 (86%)]\tLoss: 32004.271484\n",
            "Train Epoch: 1 [6448/7471 (86%)]\tLoss: 32839.441406\n",
            "Train Epoch: 1 [6464/7471 (87%)]\tLoss: 30662.273438\n",
            "Train Epoch: 1 [6480/7471 (87%)]\tLoss: 31486.712891\n",
            "Train Epoch: 1 [6496/7471 (87%)]\tLoss: 32604.095703\n",
            "Train Epoch: 1 [6512/7471 (87%)]\tLoss: 31563.121094\n",
            "Train Epoch: 1 [6528/7471 (87%)]\tLoss: 32784.644531\n",
            "Train Epoch: 1 [6544/7471 (88%)]\tLoss: 33377.113281\n",
            "Train Epoch: 1 [6560/7471 (88%)]\tLoss: 31603.050781\n",
            "Train Epoch: 1 [6576/7471 (88%)]\tLoss: 30492.515625\n",
            "Train Epoch: 1 [6592/7471 (88%)]\tLoss: 32519.898438\n",
            "Train Epoch: 1 [6608/7471 (88%)]\tLoss: 33405.148438\n",
            "Train Epoch: 1 [6624/7471 (89%)]\tLoss: 33976.011719\n",
            "Train Epoch: 1 [6640/7471 (89%)]\tLoss: 31809.201172\n",
            "Train Epoch: 1 [6656/7471 (89%)]\tLoss: 30782.886719\n",
            "Train Epoch: 1 [6672/7471 (89%)]\tLoss: 33341.593750\n",
            "Train Epoch: 1 [6688/7471 (90%)]\tLoss: 33313.441406\n",
            "Train Epoch: 1 [6704/7471 (90%)]\tLoss: 33431.570312\n",
            "Train Epoch: 1 [6720/7471 (90%)]\tLoss: 31974.259766\n",
            "Train Epoch: 1 [6736/7471 (90%)]\tLoss: 31199.501953\n",
            "Train Epoch: 1 [6752/7471 (90%)]\tLoss: 29577.220703\n",
            "Train Epoch: 1 [6768/7471 (91%)]\tLoss: 32086.980469\n",
            "Train Epoch: 1 [6784/7471 (91%)]\tLoss: 33168.933594\n",
            "Train Epoch: 1 [6800/7471 (91%)]\tLoss: 32091.451172\n",
            "Train Epoch: 1 [6816/7471 (91%)]\tLoss: 31168.150391\n",
            "Train Epoch: 1 [6832/7471 (91%)]\tLoss: 32197.166016\n",
            "Train Epoch: 1 [6848/7471 (92%)]\tLoss: 31317.914062\n",
            "Train Epoch: 1 [6864/7471 (92%)]\tLoss: 32447.894531\n",
            "Train Epoch: 1 [6880/7471 (92%)]\tLoss: 33062.531250\n",
            "Train Epoch: 1 [6896/7471 (92%)]\tLoss: 32022.275391\n",
            "Train Epoch: 1 [6912/7471 (93%)]\tLoss: 32781.242188\n",
            "Train Epoch: 1 [6928/7471 (93%)]\tLoss: 31025.154297\n",
            "Train Epoch: 1 [6944/7471 (93%)]\tLoss: 30681.205078\n",
            "Train Epoch: 1 [6960/7471 (93%)]\tLoss: 31342.234375\n",
            "Train Epoch: 1 [6976/7471 (93%)]\tLoss: 32825.589844\n",
            "Train Epoch: 1 [6992/7471 (94%)]\tLoss: 33578.808594\n",
            "Train Epoch: 1 [7008/7471 (94%)]\tLoss: 32331.970703\n",
            "Train Epoch: 1 [7024/7471 (94%)]\tLoss: 31611.460938\n",
            "Train Epoch: 1 [7040/7471 (94%)]\tLoss: 31839.128906\n",
            "Train Epoch: 1 [7056/7471 (94%)]\tLoss: 32547.082031\n",
            "Train Epoch: 1 [7072/7471 (95%)]\tLoss: 33410.496094\n",
            "Train Epoch: 1 [7088/7471 (95%)]\tLoss: 33062.722656\n",
            "Train Epoch: 1 [7104/7471 (95%)]\tLoss: 32305.771484\n",
            "Train Epoch: 1 [7120/7471 (95%)]\tLoss: 32226.695312\n",
            "Train Epoch: 1 [7136/7471 (96%)]\tLoss: 32729.656250\n",
            "Train Epoch: 1 [7152/7471 (96%)]\tLoss: 33317.347656\n",
            "Train Epoch: 1 [7168/7471 (96%)]\tLoss: 32558.228516\n",
            "Train Epoch: 1 [7184/7471 (96%)]\tLoss: 33334.621094\n",
            "Train Epoch: 1 [7200/7471 (96%)]\tLoss: 32097.214844\n",
            "Train Epoch: 1 [7216/7471 (97%)]\tLoss: 32555.521484\n",
            "Train Epoch: 1 [7232/7471 (97%)]\tLoss: 32713.726562\n",
            "Train Epoch: 1 [7248/7471 (97%)]\tLoss: 32365.761719\n",
            "Train Epoch: 1 [7264/7471 (97%)]\tLoss: 32284.152344\n",
            "Train Epoch: 1 [7280/7471 (97%)]\tLoss: 32547.371094\n",
            "Train Epoch: 1 [7296/7471 (98%)]\tLoss: 32268.189453\n",
            "Train Epoch: 1 [7312/7471 (98%)]\tLoss: 32857.031250\n",
            "Train Epoch: 1 [7328/7471 (98%)]\tLoss: 33011.195312\n",
            "Train Epoch: 1 [7344/7471 (98%)]\tLoss: 32645.019531\n",
            "Train Epoch: 1 [7360/7471 (99%)]\tLoss: 31515.314453\n",
            "Train Epoch: 1 [7376/7471 (99%)]\tLoss: 31529.474609\n",
            "Train Epoch: 1 [7392/7471 (99%)]\tLoss: 32851.410156\n",
            "Train Epoch: 1 [7408/7471 (99%)]\tLoss: 32923.753906\n",
            "Train Epoch: 1 [7424/7471 (99%)]\tLoss: 32590.480469\n",
            "Train Epoch: 1 [7440/7471 (100%)]\tLoss: 33093.289062\n",
            "Train Epoch: 1 [6990/7471 (100%)]\tLoss: 32722.229167\n",
            "====> Epoch: 1 Average loss: 32261.9303\n",
            "====> Test set loss: 32114.0442\n",
            "======================================== params ========================================\n",
            "Z_embedded.shape: (1868, 2)\n",
            "label.shape: (1868,)\n"
          ],
          "name": "stdout"
        },
        {
          "output_type": "stream",
          "text": [
            "/usr/local/lib/python3.6/dist-packages/seaborn/axisgrid.py:243: UserWarning: The `size` parameter has been renamed to `height`; please update your code.\n",
            "  warnings.warn(msg, UserWarning)\n"
          ],
          "name": "stderr"
        },
        {
          "output_type": "display_data",
          "data": {
            "image/png": "[encoded data removed]",
            "text/plain": [
              "<Figure size 432x432 with 1 Axes>"
            ]
          },
          "metadata": {
            "tags": [],
            "needs_background": "light"
          }
        },
        {
          "output_type": "display_data",
          "data": {
            "image/png": "[encoded data removed]",
            "text/plain": [
              "<Figure size 490.25x432 with 1 Axes>"
            ]
          },
          "metadata": {
            "tags": [],
            "needs_background": "light"
          }
        },
        {
          "output_type": "error",
          "ename": "ValueError",
          "evalue": "ignored",
          "traceback": [
            "\u001b[0;31m---------------------------------------------------------------------------\u001b[0m",
            "\u001b[0;31mValueError\u001b[0m                                Traceback (most recent call last)",
            "\u001b[0;32m<ipython-input-58-63b463344fef>\u001b[0m in \u001b[0;36m<module>\u001b[0;34m()\u001b[0m\n\u001b[1;32m      6\u001b[0m         \u001b[0mtest\u001b[0m\u001b[0;34m(\u001b[0m\u001b[0mepoch\u001b[0m\u001b[0;34m)\u001b[0m\u001b[0;34m\u001b[0m\u001b[0;34m\u001b[0m\u001b[0m\n\u001b[1;32m      7\u001b[0m         \u001b[0;31m# https://stackoverflow.com/questions/40766909/suggestions-to-plot-overlapping-lines-in-matplotlib\u001b[0m\u001b[0;34m\u001b[0m\u001b[0;34m\u001b[0m\u001b[0;34m\u001b[0m\u001b[0m\n\u001b[0;32m----> 8\u001b[0;31m         \u001b[0mplt\u001b[0m\u001b[0;34m.\u001b[0m\u001b[0mplot\u001b[0m\u001b[0;34m(\u001b[0m\u001b[0mEpoch_Loss\u001b[0m\u001b[0;34m[\u001b[0m\u001b[0;34m'list_epoch'\u001b[0m\u001b[0;34m]\u001b[0m\u001b[0;34m,\u001b[0m\u001b[0mEpoch_Loss\u001b[0m\u001b[0;34m[\u001b[0m\u001b[0;34m'list_train_loss'\u001b[0m\u001b[0;34m]\u001b[0m\u001b[0;34m,\u001b[0m \u001b[0mlabel\u001b[0m\u001b[0;34m=\u001b[0m\u001b[0;34m\"train_loss\"\u001b[0m\u001b[0;34m,\u001b[0m \u001b[0malpha\u001b[0m\u001b[0;34m=\u001b[0m\u001b[0;36m0.7\u001b[0m\u001b[0;34m)\u001b[0m\u001b[0;34m\u001b[0m\u001b[0;34m\u001b[0m\u001b[0m\n\u001b[0m\u001b[1;32m      9\u001b[0m         \u001b[0mplt\u001b[0m\u001b[0;34m.\u001b[0m\u001b[0mplot\u001b[0m\u001b[0;34m(\u001b[0m\u001b[0mEpoch_Loss\u001b[0m\u001b[0;34m[\u001b[0m\u001b[0;34m'list_epoch'\u001b[0m\u001b[0;34m]\u001b[0m\u001b[0;34m,\u001b[0m\u001b[0mEpoch_Loss\u001b[0m\u001b[0;34m[\u001b[0m\u001b[0;34m'list_test_loss'\u001b[0m\u001b[0;34m]\u001b[0m\u001b[0;34m,\u001b[0m \u001b[0mlabel\u001b[0m\u001b[0;34m=\u001b[0m\u001b[0;34m\"test_loss\"\u001b[0m\u001b[0;34m,\u001b[0m \u001b[0malpha\u001b[0m\u001b[0;34m=\u001b[0m\u001b[0;36m0.5\u001b[0m\u001b[0;34m)\u001b[0m\u001b[0;34m\u001b[0m\u001b[0;34m\u001b[0m\u001b[0m\n\u001b[1;32m     10\u001b[0m         \u001b[0mplt\u001b[0m\u001b[0;34m.\u001b[0m\u001b[0mxlabel\u001b[0m\u001b[0;34m(\u001b[0m\u001b[0;34m'Epochs'\u001b[0m\u001b[0;34m)\u001b[0m\u001b[0;34m\u001b[0m\u001b[0;34m\u001b[0m\u001b[0m\n",
            "\u001b[0;32m/usr/local/lib/python3.6/dist-packages/matplotlib/pyplot.py\u001b[0m in \u001b[0;36mplot\u001b[0;34m(scalex, scaley, data, *args, **kwargs)\u001b[0m\n\u001b[1;32m   2761\u001b[0m     return gca().plot(\n\u001b[1;32m   2762\u001b[0m         *args, scalex=scalex, scaley=scaley, **({\"data\": data} if data\n\u001b[0;32m-> 2763\u001b[0;31m         is not None else {}), **kwargs)\n\u001b[0m\u001b[1;32m   2764\u001b[0m \u001b[0;34m\u001b[0m\u001b[0m\n\u001b[1;32m   2765\u001b[0m \u001b[0;34m\u001b[0m\u001b[0m\n",
            "\u001b[0;32m/usr/local/lib/python3.6/dist-packages/matplotlib/axes/_axes.py\u001b[0m in \u001b[0;36mplot\u001b[0;34m(self, scalex, scaley, data, *args, **kwargs)\u001b[0m\n\u001b[1;32m   1645\u001b[0m         \"\"\"\n\u001b[1;32m   1646\u001b[0m         \u001b[0mkwargs\u001b[0m \u001b[0;34m=\u001b[0m \u001b[0mcbook\u001b[0m\u001b[0;34m.\u001b[0m\u001b[0mnormalize_kwargs\u001b[0m\u001b[0;34m(\u001b[0m\u001b[0mkwargs\u001b[0m\u001b[0;34m,\u001b[0m \u001b[0mmlines\u001b[0m\u001b[0;34m.\u001b[0m\u001b[0mLine2D\u001b[0m\u001b[0;34m)\u001b[0m\u001b[0;34m\u001b[0m\u001b[0;34m\u001b[0m\u001b[0m\n\u001b[0;32m-> 1647\u001b[0;31m         \u001b[0mlines\u001b[0m \u001b[0;34m=\u001b[0m \u001b[0;34m[\u001b[0m\u001b[0;34m*\u001b[0m\u001b[0mself\u001b[0m\u001b[0;34m.\u001b[0m\u001b[0m_get_lines\u001b[0m\u001b[0;34m(\u001b[0m\u001b[0;34m*\u001b[0m\u001b[0margs\u001b[0m\u001b[0;34m,\u001b[0m \u001b[0mdata\u001b[0m\u001b[0;34m=\u001b[0m\u001b[0mdata\u001b[0m\u001b[0;34m,\u001b[0m \u001b[0;34m**\u001b[0m\u001b[0mkwargs\u001b[0m\u001b[0;34m)\u001b[0m\u001b[0;34m]\u001b[0m\u001b[0;34m\u001b[0m\u001b[0;34m\u001b[0m\u001b[0m\n\u001b[0m\u001b[1;32m   1648\u001b[0m         \u001b[0;32mfor\u001b[0m \u001b[0mline\u001b[0m \u001b[0;32min\u001b[0m \u001b[0mlines\u001b[0m\u001b[0;34m:\u001b[0m\u001b[0;34m\u001b[0m\u001b[0;34m\u001b[0m\u001b[0m\n\u001b[1;32m   1649\u001b[0m             \u001b[0mself\u001b[0m\u001b[0;34m.\u001b[0m\u001b[0madd_line\u001b[0m\u001b[0;34m(\u001b[0m\u001b[0mline\u001b[0m\u001b[0;34m)\u001b[0m\u001b[0;34m\u001b[0m\u001b[0;34m\u001b[0m\u001b[0m\n",
            "\u001b[0;32m/usr/local/lib/python3.6/dist-packages/matplotlib/axes/_base.py\u001b[0m in \u001b[0;36m__call__\u001b[0;34m(self, *args, **kwargs)\u001b[0m\n\u001b[1;32m    214\u001b[0m                 \u001b[0mthis\u001b[0m \u001b[0;34m+=\u001b[0m \u001b[0margs\u001b[0m\u001b[0;34m[\u001b[0m\u001b[0;36m0\u001b[0m\u001b[0;34m]\u001b[0m\u001b[0;34m,\u001b[0m\u001b[0;34m\u001b[0m\u001b[0;34m\u001b[0m\u001b[0m\n\u001b[1;32m    215\u001b[0m                 \u001b[0margs\u001b[0m \u001b[0;34m=\u001b[0m \u001b[0margs\u001b[0m\u001b[0;34m[\u001b[0m\u001b[0;36m1\u001b[0m\u001b[0;34m:\u001b[0m\u001b[0;34m]\u001b[0m\u001b[0;34m\u001b[0m\u001b[0;34m\u001b[0m\u001b[0m\n\u001b[0;32m--> 216\u001b[0;31m             \u001b[0;32myield\u001b[0m \u001b[0;32mfrom\u001b[0m \u001b[0mself\u001b[0m\u001b[0;34m.\u001b[0m\u001b[0m_plot_args\u001b[0m\u001b[0;34m(\u001b[0m\u001b[0mthis\u001b[0m\u001b[0;34m,\u001b[0m \u001b[0mkwargs\u001b[0m\u001b[0;34m)\u001b[0m\u001b[0;34m\u001b[0m\u001b[0;34m\u001b[0m\u001b[0m\n\u001b[0m\u001b[1;32m    217\u001b[0m \u001b[0;34m\u001b[0m\u001b[0m\n\u001b[1;32m    218\u001b[0m     \u001b[0;32mdef\u001b[0m \u001b[0mget_next_color\u001b[0m\u001b[0;34m(\u001b[0m\u001b[0mself\u001b[0m\u001b[0;34m)\u001b[0m\u001b[0;34m:\u001b[0m\u001b[0;34m\u001b[0m\u001b[0;34m\u001b[0m\u001b[0m\n",
            "\u001b[0;32m/usr/local/lib/python3.6/dist-packages/matplotlib/axes/_base.py\u001b[0m in \u001b[0;36m_plot_args\u001b[0;34m(self, tup, kwargs)\u001b[0m\n\u001b[1;32m    340\u001b[0m \u001b[0;34m\u001b[0m\u001b[0m\n\u001b[1;32m    341\u001b[0m         \u001b[0;32mif\u001b[0m \u001b[0mx\u001b[0m\u001b[0;34m.\u001b[0m\u001b[0mshape\u001b[0m\u001b[0;34m[\u001b[0m\u001b[0;36m0\u001b[0m\u001b[0;34m]\u001b[0m \u001b[0;34m!=\u001b[0m \u001b[0my\u001b[0m\u001b[0;34m.\u001b[0m\u001b[0mshape\u001b[0m\u001b[0;34m[\u001b[0m\u001b[0;36m0\u001b[0m\u001b[0;34m]\u001b[0m\u001b[0;34m:\u001b[0m\u001b[0;34m\u001b[0m\u001b[0;34m\u001b[0m\u001b[0m\n\u001b[0;32m--> 342\u001b[0;31m             raise ValueError(f\"x and y must have same first dimension, but \"\n\u001b[0m\u001b[1;32m    343\u001b[0m                              f\"have shapes {x.shape} and {y.shape}\")\n\u001b[1;32m    344\u001b[0m         \u001b[0;32mif\u001b[0m \u001b[0mx\u001b[0m\u001b[0;34m.\u001b[0m\u001b[0mndim\u001b[0m \u001b[0;34m>\u001b[0m \u001b[0;36m2\u001b[0m \u001b[0;32mor\u001b[0m \u001b[0my\u001b[0m\u001b[0;34m.\u001b[0m\u001b[0mndim\u001b[0m \u001b[0;34m>\u001b[0m \u001b[0;36m2\u001b[0m\u001b[0;34m:\u001b[0m\u001b[0;34m\u001b[0m\u001b[0;34m\u001b[0m\u001b[0m\n",
            "\u001b[0;31mValueError\u001b[0m: x and y must have same first dimension, but have shapes (2,) and (1,)"
          ]
        },
        {
          "output_type": "display_data",
          "data": {
            "image/png": "[encoded data removed]",
            "text/plain": [
              "<Figure size 432x288 with 1 Axes>"
            ]
          },
          "metadata": {
            "tags": [],
            "needs_background": "light"
          }
        }
      ]
    },
    {
      "cell_type": "markdown",
      "metadata": {
        "id": "IVHP1FKQ-jRG",
        "colab_type": "text"
      },
      "source": [
        "## Post-Exp02\n",
        "* 추가실험 List\n",
        "    * Load VAE_State_Dict\n",
        "    * Extract Latent vector & make Training set(for DL/ML)\n",
        "        * ❌(1868, 100)\n",
        "        * => For all training data: (9339, 100)\n",
        "        * => Add Labels: (9339, 101)\n",
        "        * Make Pandas DataFrame\n",
        "            * Make pd.DataFrame()\n",
        "            * Save DataFrame() to csv\n",
        "        * Make Classifier\n",
        "            * ML: Voting Classifier\n",
        "            * DL: \n"
      ]
    },
    {
      "cell_type": "markdown",
      "metadata": {
        "id": "6aseri-h-7EG",
        "colab_type": "text"
      },
      "source": [
        "## 1. Linear Model(Deep Neural Network)"
      ]
    },
    {
      "cell_type": "markdown",
      "metadata": {
        "id": "PJ7IipUSok1I",
        "colab_type": "text"
      },
      "source": [
        "## 02. Machine Learning Modeling"
      ]
    },
    {
      "cell_type": "markdown",
      "metadata": {
        "id": "DgOIqgzIL5bZ",
        "colab_type": "text"
      },
      "source": [
        "### Preparing\n",
        "\n",
        "* Make Custom Dataset & Custom DataLoader\n",
        "* Load_VAE_State_Dict\n",
        "* Extract Latent Vector"
      ]
    },
    {
      "cell_type": "markdown",
      "metadata": {
        "id": "S6GNo7uUpn5q",
        "colab_type": "text"
      },
      "source": [
        "#### Make Custom Dataset & Custom *DataLoader*"
      ]
    },
    {
      "cell_type": "code",
      "metadata": {
        "id": "er-LCOkwZAGP",
        "colab_type": "code",
        "colab": {}
      },
      "source": [
        "transforms = transforms.Compose([\n",
        "                                transforms.Resize((224, 224)),                # Change size of Image to (224, 224)\n",
        "                                transforms.Grayscale(num_output_channels=1),  # Makes it 1-dimension channel\n",
        "                                transforms.ToTensor(),                        # Convert a PIL Image or numpy.ndarray to tensor.\n",
        "                                                                              # Converts a PIL Image or numpy.ndarray (H x W x C) in the range [0, 255] to a torch.FloatTensor of shape (C x H x W) in the range [0.0, 1.0] if the PIL Image belongs to one of the modes (L, LA, P, I, F, RGB, YCbCr, RGBA, CMYK, 1) or if the numpy.ndarray has dtype = np.uint8\n",
        "                                                                              # In the other cases, tensors are returned without scaling.\n",
        "                                # transforms.Normalize(mean=[0.5], std=[0.5]),\n",
        "                                \n",
        "                                ])\n",
        "\n",
        "# make custom dataset\n",
        "trainset = torchvision.datasets.ImageFolder(root='../../InformationSecurity_Summer/malimg',\n",
        "                                            transform=transforms)  # make custom dataset"
      ],
      "execution_count": 18,
      "outputs": []
    },
    {
      "cell_type": "code",
      "metadata": {
        "id": "7q_Uxt8RKnoX",
        "colab_type": "code",
        "colab": {
          "base_uri": "https://localhost:8080/",
          "height": 35
        },
        "outputId": "c7738665-7c37-473a-b048-6b3b332d86e0"
      },
      "source": [
        "full_dataset = trainset\n",
        "\n",
        "# maek train, val, test: 8:1:1\n",
        "train_size = int(0.8 * len(full_dataset))\n",
        "val_size = int(0.1 * len(full_dataset))\n",
        "test_size = len(full_dataset) - train_size - val_size\n",
        "print(train_size, val_size, test_size)\n",
        "\n",
        "train_dataset, val_dataset, test_dataset = torch.utils.data.random_split(full_dataset, [train_size, val_size, test_size])"
      ],
      "execution_count": 19,
      "outputs": [
        {
          "output_type": "stream",
          "text": [
            "7471 933 935\n"
          ],
          "name": "stdout"
        }
      ]
    },
    {
      "cell_type": "code",
      "metadata": {
        "id": "5LlTgmqmLD49",
        "colab_type": "code",
        "colab": {
          "base_uri": "https://localhost:8080/",
          "height": 55
        },
        "outputId": "07c83810-16d3-4ecd-9be6-0a4570d5f026"
      },
      "source": [
        "print(train_dataset, val_dataset, test_dataset)"
      ],
      "execution_count": 20,
      "outputs": [
        {
          "output_type": "stream",
          "text": [
            "<torch.utils.data.dataset.Subset object at 0x7f4282413358> <torch.utils.data.dataset.Subset object at 0x7f4282413208> <torch.utils.data.dataset.Subset object at 0x7f4282413e80>\n"
          ],
          "name": "stdout"
        }
      ]
    },
    {
      "cell_type": "code",
      "metadata": {
        "id": "PONkfMx_p7HI",
        "colab_type": "code",
        "colab": {}
      },
      "source": [
        "# 7471 + 933 + 935"
      ],
      "execution_count": 22,
      "outputs": []
    },
    {
      "cell_type": "code",
      "metadata": {
        "id": "JFtOxl6LAjQr",
        "colab_type": "code",
        "colab": {}
      },
      "source": [
        "# make custom data_loader\n",
        "train_loader = DataLoader(train_dataset,\n",
        "                         batch_size=16,\n",
        "                         shuffle=True,\n",
        "                         pin_memory=True)\n",
        "val_loader = DataLoader(val_dataset,\n",
        "                        batch_size=16,\n",
        "                        shuffle=True,\n",
        "                        pin_memory=True)\n",
        " \n",
        "test_loader = DataLoader(test_dataset,\n",
        "                        batch_size=16,\n",
        "                        shuffle=True,\n",
        "                        pin_memory=True)  # Instead, we recommend using automatic memory pinning (i.e., setting pin_memory=True)\n",
        "                                          #  which enables fast data transfer to CUDA-enabled GPUs\n",
        "\n",
        "# First, insert all test dataset\n",
        "# z_loader: for latent vector extraction\n",
        "z_loader = DataLoader(full_dataset,\n",
        "                        batch_size=9339,\n",
        "                        shuffle=True,\n",
        "                        pin_memory=True)"
      ],
      "execution_count": 23,
      "outputs": []
    },
    {
      "cell_type": "markdown",
      "metadata": {
        "id": "46DY-WNkqDvI",
        "colab_type": "text"
      },
      "source": [
        "z_loader: for extract latent vectors<br>\n",
        "e.g) (9339, 100)"
      ]
    },
    {
      "cell_type": "markdown",
      "metadata": {
        "id": "gxFcKQV6rXnp",
        "colab_type": "text"
      },
      "source": [
        "#### Load_VAE_State_Dict"
      ]
    },
    {
      "cell_type": "code",
      "metadata": {
        "id": "3Jnm-xncL-Z6",
        "colab_type": "code",
        "colab": {
          "base_uri": "https://localhost:8080/",
          "height": 155
        },
        "outputId": "3fa657b5-fff2-4212-b8c5-77e61dcd327e"
      },
      "source": [
        "# define_device\n",
        "device = torch.device(\"cuda\")  # device = torch.device(\"cuda\")\n",
        "\n",
        "# Load State_dict\n",
        "PATH_State_Dict = './Exp05_model_save_10Epochs.pth'\n",
        "\n",
        "model = VAE().to(device)  # VAE().to(device)\n",
        "model.load_state_dict(torch.load(PATH_State_Dict))\n",
        "model.eval()\n",
        "\n",
        "print(model)\n",
        "print('Num of {} parameters'.format(sum(p.numel() for p in model.parameters() if p.requires_grad)))"
      ],
      "execution_count": 24,
      "outputs": [
        {
          "output_type": "stream",
          "text": [
            "VAE(\n",
            "  (fc1): Linear(in_features=50176, out_features=1000, bias=True)\n",
            "  (fc21): Linear(in_features=1000, out_features=100, bias=True)\n",
            "  (fc22): Linear(in_features=1000, out_features=100, bias=True)\n",
            "  (fc3): Linear(in_features=100, out_features=1000, bias=True)\n",
            "  (fc4): Linear(in_features=1000, out_features=50176, bias=True)\n",
            ")\n",
            "Num of 100704376 parameters\n"
          ],
          "name": "stdout"
        }
      ]
    },
    {
      "cell_type": "markdown",
      "metadata": {
        "id": "WWAurQ4crfjV",
        "colab_type": "text"
      },
      "source": [
        "#### Extract Latent Vector"
      ]
    },
    {
      "cell_type": "code",
      "metadata": {
        "id": "DdCXz2X4MM8D",
        "colab_type": "code",
        "colab": {
          "base_uri": "https://localhost:8080/",
          "height": 270
        },
        "outputId": "58baa3b9-3282-450a-882b-59f8111cff0f"
      },
      "source": [
        "for i, (data, _) in enumerate(z_loader):  # load_whole data(9339)\n",
        "    data = data.to(device)\n",
        "    recon_batch, mu, logvar, z = model(data)\n",
        "    # save latent_vector\n",
        "    latent_vector = z.detach().cpu().clone().numpy()  # change tensor type data to cpu().numpy()\n",
        "                                                        # latent_vector_size: (num_of_data, 100)\n",
        "    # save label\n",
        "    label = _.detach().cpu().clone().numpy()\n",
        "    label =label.reshape(1, -1)\n",
        "    print(label.shape)\n",
        "\n",
        "    # concat_data\n",
        "    latent_z = np.concatenate((latent_vector, label.T), axis=1)  # latent_z: (9339, 101): (num_data, latent_z + label) \n",
        "    print(latent_z.shape)\n"
      ],
      "execution_count": 25,
      "outputs": [
        {
          "output_type": "stream",
          "text": [
            "(1, 9339)\n",
            "(9339, 101)\n"
          ],
          "name": "stdout"
        },
        {
          "output_type": "error",
          "ename": "NameError",
          "evalue": "ignored",
          "traceback": [
            "\u001b[0;31m---------------------------------------------------------------------------\u001b[0m",
            "\u001b[0;31mNameError\u001b[0m                                 Traceback (most recent call last)",
            "\u001b[0;32m<ipython-input-25-882050dc4718>\u001b[0m in \u001b[0;36m<module>\u001b[0;34m()\u001b[0m\n\u001b[1;32m     14\u001b[0m     \u001b[0mprint\u001b[0m\u001b[0;34m(\u001b[0m\u001b[0mlatent_z\u001b[0m\u001b[0;34m.\u001b[0m\u001b[0mshape\u001b[0m\u001b[0;34m)\u001b[0m\u001b[0;34m\u001b[0m\u001b[0;34m\u001b[0m\u001b[0m\n\u001b[1;32m     15\u001b[0m \u001b[0;34m\u001b[0m\u001b[0m\n\u001b[0;32m---> 16\u001b[0;31m     \u001b[0;32mwith\u001b[0m \u001b[0mopen\u001b[0m\u001b[0;34m(\u001b[0m\u001b[0;34m(\u001b[0m\u001b[0;34m'./'\u001b[0m\u001b[0;34m+\u001b[0m\u001b[0mstr\u001b[0m\u001b[0;34m(\u001b[0m\u001b[0;36m10\u001b[0m\u001b[0;34m+\u001b[0m\u001b[0mepoch\u001b[0m\u001b[0;34m)\u001b[0m\u001b[0;34m+\u001b[0m\u001b[0;34m'Epoch_z_vector.npy'\u001b[0m\u001b[0;34m)\u001b[0m\u001b[0;34m,\u001b[0m \u001b[0;34m'wb'\u001b[0m\u001b[0;34m)\u001b[0m \u001b[0;32mas\u001b[0m \u001b[0mf\u001b[0m\u001b[0;34m:\u001b[0m\u001b[0;34m\u001b[0m\u001b[0;34m\u001b[0m\u001b[0m\n\u001b[0m\u001b[1;32m     17\u001b[0m         \u001b[0mnp\u001b[0m\u001b[0;34m.\u001b[0m\u001b[0msave\u001b[0m\u001b[0;34m(\u001b[0m\u001b[0mf\u001b[0m\u001b[0;34m,\u001b[0m \u001b[0mlatent_z\u001b[0m\u001b[0;34m)\u001b[0m  \u001b[0;31m# but latent vector size is (16, 100).... just 16...\u001b[0m\u001b[0;34m\u001b[0m\u001b[0;34m\u001b[0m\u001b[0m\n\u001b[1;32m     18\u001b[0m                                     \u001b[0;31m# 1 Epoch 단위로 latent vector를 저장한다\u001b[0m\u001b[0;34m\u001b[0m\u001b[0;34m\u001b[0m\u001b[0;34m\u001b[0m\u001b[0m\n",
            "\u001b[0;31mNameError\u001b[0m: name 'epoch' is not defined"
          ]
        }
      ]
    },
    {
      "cell_type": "code",
      "metadata": {
        "id": "-wnVEyw519Dx",
        "colab_type": "code",
        "colab": {
          "base_uri": "https://localhost:8080/",
          "height": 35
        },
        "outputId": "a6453236-41e6-4da9-e16c-d52bd4224e7b"
      },
      "source": [
        "with open(('./'+str(10+1)+'Epoch_z_vector.npy'), 'wb') as f:\n",
        "        np.save(f, latent_z)  # but latent vector size is (16, 100).... just 16...\n",
        "                                    # 1 Epoch 단위로 latent vector를 저장한다\n",
        "                                    # 이 떄, latent vector의 size는 test_dataset의 크기가 되어야 한다\n",
        "                                    # 결과값이 좋은 vector는 좋은 feature로 사용할 수 있다.\n",
        "# plot latent vector Every 10 Epochs\n",
        "print(\"Svae Latent vector!\")"
      ],
      "execution_count": 27,
      "outputs": [
        {
          "output_type": "stream",
          "text": [
            "Svae Latent vector!\n"
          ],
          "name": "stdout"
        }
      ]
    },
    {
      "cell_type": "markdown",
      "metadata": {
        "id": "n3oE5MisNBCr",
        "colab_type": "text"
      },
      "source": [
        "### Datapreparation\n",
        "* make pandas DataFrame\n",
        "* save pandas dataframe to csv\n",
        "<br>\n",
        "\n",
        "\n",
        "\n",
        "next>>\n",
        "* data scaling\n",
        "* build model(define hypothesis)\n",
        "* evaluation\n",
        "\n",
        "\n",
        "\n",
        "```\n",
        "11Epoch_z_vector.npy\n",
        "```\n",
        "\n"
      ]
    },
    {
      "cell_type": "code",
      "metadata": {
        "id": "rtHtWgZ8MhPx",
        "colab_type": "code",
        "colab": {
          "base_uri": "https://localhost:8080/",
          "height": 52
        },
        "outputId": "830069ae-a881-492a-c1ef-772194bc652e"
      },
      "source": [
        "latent_vector = np.load('./11Epoch_z_vector.npy')\n",
        "print(\"Load Latent_v!\")\n",
        "print(latent_vector.shape)\n",
        "\n",
        "data = latent_vector"
      ],
      "execution_count": 28,
      "outputs": [
        {
          "output_type": "stream",
          "text": [
            "Load Latent_v!\n",
            "(9339, 101)\n"
          ],
          "name": "stdout"
        }
      ]
    },
    {
      "cell_type": "code",
      "metadata": {
        "id": "jvPj7HMuSGRZ",
        "colab_type": "code",
        "colab": {
          "base_uri": "https://localhost:8080/",
          "height": 52
        },
        "outputId": "7e5dc263-107e-4651-feb8-c4a61119181c"
      },
      "source": [
        "print(data.shape)\n",
        "print(data[:, 100])"
      ],
      "execution_count": 29,
      "outputs": [
        {
          "output_type": "stream",
          "text": [
            "(9339, 101)\n",
            "[ 7.  3.  2. ...  2. 24. 14.]\n"
          ],
          "name": "stdout"
        }
      ]
    },
    {
      "cell_type": "code",
      "metadata": {
        "id": "MymxzpG2Q_ol",
        "colab_type": "code",
        "colab": {
          "base_uri": "https://localhost:8080/",
          "height": 247
        },
        "outputId": "d0a38683-bbab-49f4-ddee-81765a947671"
      },
      "source": [
        "# numpy to pandas\n",
        "\n",
        "import pandas as pd\n",
        "\n",
        "data = pd.DataFrame(data=data[:, :101])\n",
        "data.head()"
      ],
      "execution_count": 30,
      "outputs": [
        {
          "output_type": "execute_result",
          "data": {
            "text/html": [
              "<div>\n",
              "<style scoped>\n",
              "    .dataframe tbody tr th:only-of-type {\n",
              "        vertical-align: middle;\n",
              "    }\n",
              "\n",
              "    .dataframe tbody tr th {\n",
              "        vertical-align: top;\n",
              "    }\n",
              "\n",
              "    .dataframe thead th {\n",
              "        text-align: right;\n",
              "    }\n",
              "</style>\n",
              "<table border=\"1\" class=\"dataframe\">\n",
              "  <thead>\n",
              "    <tr style=\"text-align: right;\">\n",
              "      <th></th>\n",
              "      <th>0</th>\n",
              "      <th>1</th>\n",
              "      <th>2</th>\n",
              "      <th>3</th>\n",
              "      <th>4</th>\n",
              "      <th>5</th>\n",
              "      <th>6</th>\n",
              "      <th>7</th>\n",
              "      <th>8</th>\n",
              "      <th>9</th>\n",
              "      <th>10</th>\n",
              "      <th>11</th>\n",
              "      <th>12</th>\n",
              "      <th>13</th>\n",
              "      <th>14</th>\n",
              "      <th>15</th>\n",
              "      <th>16</th>\n",
              "      <th>17</th>\n",
              "      <th>18</th>\n",
              "      <th>19</th>\n",
              "      <th>20</th>\n",
              "      <th>21</th>\n",
              "      <th>22</th>\n",
              "      <th>23</th>\n",
              "      <th>24</th>\n",
              "      <th>25</th>\n",
              "      <th>26</th>\n",
              "      <th>27</th>\n",
              "      <th>28</th>\n",
              "      <th>29</th>\n",
              "      <th>30</th>\n",
              "      <th>31</th>\n",
              "      <th>32</th>\n",
              "      <th>33</th>\n",
              "      <th>34</th>\n",
              "      <th>35</th>\n",
              "      <th>36</th>\n",
              "      <th>37</th>\n",
              "      <th>38</th>\n",
              "      <th>39</th>\n",
              "      <th>...</th>\n",
              "      <th>61</th>\n",
              "      <th>62</th>\n",
              "      <th>63</th>\n",
              "      <th>64</th>\n",
              "      <th>65</th>\n",
              "      <th>66</th>\n",
              "      <th>67</th>\n",
              "      <th>68</th>\n",
              "      <th>69</th>\n",
              "      <th>70</th>\n",
              "      <th>71</th>\n",
              "      <th>72</th>\n",
              "      <th>73</th>\n",
              "      <th>74</th>\n",
              "      <th>75</th>\n",
              "      <th>76</th>\n",
              "      <th>77</th>\n",
              "      <th>78</th>\n",
              "      <th>79</th>\n",
              "      <th>80</th>\n",
              "      <th>81</th>\n",
              "      <th>82</th>\n",
              "      <th>83</th>\n",
              "      <th>84</th>\n",
              "      <th>85</th>\n",
              "      <th>86</th>\n",
              "      <th>87</th>\n",
              "      <th>88</th>\n",
              "      <th>89</th>\n",
              "      <th>90</th>\n",
              "      <th>91</th>\n",
              "      <th>92</th>\n",
              "      <th>93</th>\n",
              "      <th>94</th>\n",
              "      <th>95</th>\n",
              "      <th>96</th>\n",
              "      <th>97</th>\n",
              "      <th>98</th>\n",
              "      <th>99</th>\n",
              "      <th>100</th>\n",
              "    </tr>\n",
              "  </thead>\n",
              "  <tbody>\n",
              "    <tr>\n",
              "      <th>0</th>\n",
              "      <td>-0.074760</td>\n",
              "      <td>2.022230</td>\n",
              "      <td>0.005264</td>\n",
              "      <td>0.392614</td>\n",
              "      <td>-0.181036</td>\n",
              "      <td>-0.369056</td>\n",
              "      <td>-0.223493</td>\n",
              "      <td>-0.806400</td>\n",
              "      <td>-0.522159</td>\n",
              "      <td>-0.863526</td>\n",
              "      <td>-0.332633</td>\n",
              "      <td>0.775755</td>\n",
              "      <td>-0.695117</td>\n",
              "      <td>0.499550</td>\n",
              "      <td>1.331114</td>\n",
              "      <td>1.010958</td>\n",
              "      <td>-1.217542</td>\n",
              "      <td>-0.891008</td>\n",
              "      <td>1.298618</td>\n",
              "      <td>-0.270849</td>\n",
              "      <td>-1.139377</td>\n",
              "      <td>-0.198567</td>\n",
              "      <td>-0.673687</td>\n",
              "      <td>-0.939522</td>\n",
              "      <td>-0.688575</td>\n",
              "      <td>-0.216446</td>\n",
              "      <td>1.283347</td>\n",
              "      <td>1.394188</td>\n",
              "      <td>0.436754</td>\n",
              "      <td>1.491956</td>\n",
              "      <td>0.647735</td>\n",
              "      <td>-1.907286</td>\n",
              "      <td>0.695409</td>\n",
              "      <td>0.496752</td>\n",
              "      <td>0.252555</td>\n",
              "      <td>0.844662</td>\n",
              "      <td>0.994442</td>\n",
              "      <td>0.527004</td>\n",
              "      <td>-0.069175</td>\n",
              "      <td>2.074639</td>\n",
              "      <td>...</td>\n",
              "      <td>-0.045161</td>\n",
              "      <td>1.134621</td>\n",
              "      <td>0.491393</td>\n",
              "      <td>0.331737</td>\n",
              "      <td>-0.923385</td>\n",
              "      <td>0.200713</td>\n",
              "      <td>-0.168143</td>\n",
              "      <td>-0.295930</td>\n",
              "      <td>1.023374</td>\n",
              "      <td>1.422266</td>\n",
              "      <td>1.467682</td>\n",
              "      <td>-0.442953</td>\n",
              "      <td>1.540047</td>\n",
              "      <td>-0.793314</td>\n",
              "      <td>-0.098048</td>\n",
              "      <td>-0.363689</td>\n",
              "      <td>-1.632762</td>\n",
              "      <td>-0.623801</td>\n",
              "      <td>0.204820</td>\n",
              "      <td>0.268576</td>\n",
              "      <td>-0.057341</td>\n",
              "      <td>-0.880265</td>\n",
              "      <td>0.499716</td>\n",
              "      <td>0.022444</td>\n",
              "      <td>1.150154</td>\n",
              "      <td>0.947700</td>\n",
              "      <td>-0.220021</td>\n",
              "      <td>1.836782</td>\n",
              "      <td>0.818549</td>\n",
              "      <td>0.410302</td>\n",
              "      <td>0.503128</td>\n",
              "      <td>0.823758</td>\n",
              "      <td>-1.162378</td>\n",
              "      <td>0.349801</td>\n",
              "      <td>0.135358</td>\n",
              "      <td>-0.380480</td>\n",
              "      <td>-1.025529</td>\n",
              "      <td>2.483093</td>\n",
              "      <td>0.761738</td>\n",
              "      <td>7.0</td>\n",
              "    </tr>\n",
              "    <tr>\n",
              "      <th>1</th>\n",
              "      <td>0.570940</td>\n",
              "      <td>1.355570</td>\n",
              "      <td>0.105026</td>\n",
              "      <td>2.382208</td>\n",
              "      <td>-0.421001</td>\n",
              "      <td>-0.251137</td>\n",
              "      <td>-1.256089</td>\n",
              "      <td>-0.081605</td>\n",
              "      <td>0.575721</td>\n",
              "      <td>-0.611078</td>\n",
              "      <td>1.050410</td>\n",
              "      <td>1.616762</td>\n",
              "      <td>-1.213972</td>\n",
              "      <td>-0.868891</td>\n",
              "      <td>-0.805596</td>\n",
              "      <td>1.750196</td>\n",
              "      <td>-1.986394</td>\n",
              "      <td>-0.687034</td>\n",
              "      <td>-1.014709</td>\n",
              "      <td>0.472611</td>\n",
              "      <td>-1.651651</td>\n",
              "      <td>-0.136497</td>\n",
              "      <td>-0.599357</td>\n",
              "      <td>0.035993</td>\n",
              "      <td>-0.385072</td>\n",
              "      <td>-0.072630</td>\n",
              "      <td>1.758502</td>\n",
              "      <td>-1.442734</td>\n",
              "      <td>-0.488999</td>\n",
              "      <td>1.340759</td>\n",
              "      <td>-0.206022</td>\n",
              "      <td>-2.262341</td>\n",
              "      <td>-0.838148</td>\n",
              "      <td>0.204638</td>\n",
              "      <td>1.830359</td>\n",
              "      <td>-1.756884</td>\n",
              "      <td>1.968087</td>\n",
              "      <td>0.105983</td>\n",
              "      <td>-0.933381</td>\n",
              "      <td>2.854934</td>\n",
              "      <td>...</td>\n",
              "      <td>-0.283615</td>\n",
              "      <td>0.665029</td>\n",
              "      <td>-1.046107</td>\n",
              "      <td>0.905249</td>\n",
              "      <td>0.208101</td>\n",
              "      <td>-0.098505</td>\n",
              "      <td>-0.242531</td>\n",
              "      <td>-1.409439</td>\n",
              "      <td>1.884905</td>\n",
              "      <td>-0.161235</td>\n",
              "      <td>0.377333</td>\n",
              "      <td>0.232317</td>\n",
              "      <td>-0.222511</td>\n",
              "      <td>-0.197332</td>\n",
              "      <td>-2.173722</td>\n",
              "      <td>-2.001394</td>\n",
              "      <td>-1.578223</td>\n",
              "      <td>1.982911</td>\n",
              "      <td>-0.843730</td>\n",
              "      <td>0.328692</td>\n",
              "      <td>2.366330</td>\n",
              "      <td>0.573370</td>\n",
              "      <td>2.370511</td>\n",
              "      <td>0.124766</td>\n",
              "      <td>-0.318144</td>\n",
              "      <td>-0.366861</td>\n",
              "      <td>0.881986</td>\n",
              "      <td>-0.965351</td>\n",
              "      <td>0.707636</td>\n",
              "      <td>-0.615570</td>\n",
              "      <td>-0.830268</td>\n",
              "      <td>0.957833</td>\n",
              "      <td>-0.882062</td>\n",
              "      <td>-0.307394</td>\n",
              "      <td>0.492823</td>\n",
              "      <td>1.017216</td>\n",
              "      <td>-1.182661</td>\n",
              "      <td>-0.782644</td>\n",
              "      <td>-0.187560</td>\n",
              "      <td>3.0</td>\n",
              "    </tr>\n",
              "    <tr>\n",
              "      <th>2</th>\n",
              "      <td>2.292550</td>\n",
              "      <td>0.072045</td>\n",
              "      <td>0.844364</td>\n",
              "      <td>0.300852</td>\n",
              "      <td>-0.712505</td>\n",
              "      <td>-0.031150</td>\n",
              "      <td>-1.641721</td>\n",
              "      <td>-1.326200</td>\n",
              "      <td>0.468264</td>\n",
              "      <td>0.405294</td>\n",
              "      <td>0.274585</td>\n",
              "      <td>0.734321</td>\n",
              "      <td>-1.259570</td>\n",
              "      <td>-0.710230</td>\n",
              "      <td>0.620657</td>\n",
              "      <td>-0.604613</td>\n",
              "      <td>-1.502707</td>\n",
              "      <td>-0.846367</td>\n",
              "      <td>-0.289415</td>\n",
              "      <td>0.621050</td>\n",
              "      <td>0.164390</td>\n",
              "      <td>-0.636665</td>\n",
              "      <td>0.123245</td>\n",
              "      <td>-1.642753</td>\n",
              "      <td>0.341759</td>\n",
              "      <td>0.269346</td>\n",
              "      <td>-0.417853</td>\n",
              "      <td>-0.327364</td>\n",
              "      <td>0.346950</td>\n",
              "      <td>-0.343290</td>\n",
              "      <td>-0.870022</td>\n",
              "      <td>-2.237232</td>\n",
              "      <td>-1.001039</td>\n",
              "      <td>0.332311</td>\n",
              "      <td>0.308614</td>\n",
              "      <td>0.303245</td>\n",
              "      <td>1.927465</td>\n",
              "      <td>0.360988</td>\n",
              "      <td>-1.312021</td>\n",
              "      <td>2.855052</td>\n",
              "      <td>...</td>\n",
              "      <td>-1.863498</td>\n",
              "      <td>0.764056</td>\n",
              "      <td>-0.806759</td>\n",
              "      <td>1.470122</td>\n",
              "      <td>0.078139</td>\n",
              "      <td>-0.287304</td>\n",
              "      <td>0.554923</td>\n",
              "      <td>1.620703</td>\n",
              "      <td>1.553455</td>\n",
              "      <td>0.890862</td>\n",
              "      <td>0.328180</td>\n",
              "      <td>0.058832</td>\n",
              "      <td>-0.548805</td>\n",
              "      <td>-1.027731</td>\n",
              "      <td>-0.848426</td>\n",
              "      <td>0.078214</td>\n",
              "      <td>-0.722003</td>\n",
              "      <td>0.630865</td>\n",
              "      <td>-1.226391</td>\n",
              "      <td>0.392899</td>\n",
              "      <td>1.764031</td>\n",
              "      <td>0.025501</td>\n",
              "      <td>1.249633</td>\n",
              "      <td>0.055706</td>\n",
              "      <td>-1.209505</td>\n",
              "      <td>-0.823930</td>\n",
              "      <td>-0.755709</td>\n",
              "      <td>-1.667844</td>\n",
              "      <td>-0.530449</td>\n",
              "      <td>-0.121031</td>\n",
              "      <td>-0.243825</td>\n",
              "      <td>1.972044</td>\n",
              "      <td>0.710414</td>\n",
              "      <td>-0.185604</td>\n",
              "      <td>0.622770</td>\n",
              "      <td>-0.601778</td>\n",
              "      <td>-0.272074</td>\n",
              "      <td>1.796188</td>\n",
              "      <td>0.707452</td>\n",
              "      <td>2.0</td>\n",
              "    </tr>\n",
              "    <tr>\n",
              "      <th>3</th>\n",
              "      <td>-0.366257</td>\n",
              "      <td>0.230313</td>\n",
              "      <td>-0.684654</td>\n",
              "      <td>1.186263</td>\n",
              "      <td>-0.869948</td>\n",
              "      <td>0.027598</td>\n",
              "      <td>0.216340</td>\n",
              "      <td>-0.912180</td>\n",
              "      <td>0.685560</td>\n",
              "      <td>-0.748203</td>\n",
              "      <td>1.041265</td>\n",
              "      <td>1.858537</td>\n",
              "      <td>0.393133</td>\n",
              "      <td>-0.336696</td>\n",
              "      <td>-1.497047</td>\n",
              "      <td>0.672229</td>\n",
              "      <td>-1.200527</td>\n",
              "      <td>-0.784271</td>\n",
              "      <td>-0.051274</td>\n",
              "      <td>-0.142332</td>\n",
              "      <td>-0.622586</td>\n",
              "      <td>0.820196</td>\n",
              "      <td>-0.728867</td>\n",
              "      <td>-1.261010</td>\n",
              "      <td>0.080103</td>\n",
              "      <td>-0.134554</td>\n",
              "      <td>0.030223</td>\n",
              "      <td>-0.549437</td>\n",
              "      <td>-0.926755</td>\n",
              "      <td>-0.197334</td>\n",
              "      <td>0.596474</td>\n",
              "      <td>-1.475972</td>\n",
              "      <td>-1.531234</td>\n",
              "      <td>-1.742186</td>\n",
              "      <td>-0.263101</td>\n",
              "      <td>-0.330866</td>\n",
              "      <td>1.508977</td>\n",
              "      <td>1.013103</td>\n",
              "      <td>0.262295</td>\n",
              "      <td>2.951676</td>\n",
              "      <td>...</td>\n",
              "      <td>-0.447134</td>\n",
              "      <td>0.939994</td>\n",
              "      <td>-0.528569</td>\n",
              "      <td>0.295357</td>\n",
              "      <td>1.007292</td>\n",
              "      <td>-1.410107</td>\n",
              "      <td>-0.549462</td>\n",
              "      <td>-0.839898</td>\n",
              "      <td>1.580592</td>\n",
              "      <td>0.526468</td>\n",
              "      <td>1.213918</td>\n",
              "      <td>1.710415</td>\n",
              "      <td>0.104702</td>\n",
              "      <td>-0.591928</td>\n",
              "      <td>-2.075770</td>\n",
              "      <td>-0.689329</td>\n",
              "      <td>-1.475914</td>\n",
              "      <td>0.928908</td>\n",
              "      <td>-0.693722</td>\n",
              "      <td>-0.120317</td>\n",
              "      <td>1.701780</td>\n",
              "      <td>-0.189897</td>\n",
              "      <td>0.634573</td>\n",
              "      <td>0.078916</td>\n",
              "      <td>0.625399</td>\n",
              "      <td>-1.398061</td>\n",
              "      <td>1.101900</td>\n",
              "      <td>-0.179323</td>\n",
              "      <td>1.081376</td>\n",
              "      <td>0.486084</td>\n",
              "      <td>-0.229846</td>\n",
              "      <td>0.954376</td>\n",
              "      <td>-0.954479</td>\n",
              "      <td>-0.760801</td>\n",
              "      <td>1.614972</td>\n",
              "      <td>-1.063161</td>\n",
              "      <td>-0.848987</td>\n",
              "      <td>-0.328555</td>\n",
              "      <td>-1.058898</td>\n",
              "      <td>3.0</td>\n",
              "    </tr>\n",
              "    <tr>\n",
              "      <th>4</th>\n",
              "      <td>-0.899964</td>\n",
              "      <td>-1.596224</td>\n",
              "      <td>1.688782</td>\n",
              "      <td>1.025586</td>\n",
              "      <td>-1.451643</td>\n",
              "      <td>-0.427293</td>\n",
              "      <td>-0.525212</td>\n",
              "      <td>-1.822712</td>\n",
              "      <td>-0.458857</td>\n",
              "      <td>-0.987899</td>\n",
              "      <td>-1.426500</td>\n",
              "      <td>1.793921</td>\n",
              "      <td>0.550701</td>\n",
              "      <td>0.433661</td>\n",
              "      <td>-0.740163</td>\n",
              "      <td>-1.197379</td>\n",
              "      <td>-2.953953</td>\n",
              "      <td>-1.603912</td>\n",
              "      <td>-2.593912</td>\n",
              "      <td>-1.078439</td>\n",
              "      <td>-1.405706</td>\n",
              "      <td>1.938449</td>\n",
              "      <td>-2.679231</td>\n",
              "      <td>-1.989452</td>\n",
              "      <td>-0.012602</td>\n",
              "      <td>-2.240786</td>\n",
              "      <td>-1.535346</td>\n",
              "      <td>0.294434</td>\n",
              "      <td>1.825396</td>\n",
              "      <td>1.283387</td>\n",
              "      <td>0.122752</td>\n",
              "      <td>0.403363</td>\n",
              "      <td>0.233870</td>\n",
              "      <td>-0.737338</td>\n",
              "      <td>-1.044760</td>\n",
              "      <td>-0.948965</td>\n",
              "      <td>-0.763444</td>\n",
              "      <td>1.036627</td>\n",
              "      <td>2.480093</td>\n",
              "      <td>0.252194</td>\n",
              "      <td>...</td>\n",
              "      <td>-0.155172</td>\n",
              "      <td>1.899592</td>\n",
              "      <td>1.051491</td>\n",
              "      <td>2.833673</td>\n",
              "      <td>-1.802613</td>\n",
              "      <td>-0.095620</td>\n",
              "      <td>-1.839952</td>\n",
              "      <td>-0.321125</td>\n",
              "      <td>0.991234</td>\n",
              "      <td>-0.055728</td>\n",
              "      <td>1.655902</td>\n",
              "      <td>-0.597439</td>\n",
              "      <td>-0.337931</td>\n",
              "      <td>-0.208908</td>\n",
              "      <td>0.111292</td>\n",
              "      <td>1.563351</td>\n",
              "      <td>-2.186515</td>\n",
              "      <td>-1.224082</td>\n",
              "      <td>1.141217</td>\n",
              "      <td>-0.566647</td>\n",
              "      <td>-1.134578</td>\n",
              "      <td>2.934387</td>\n",
              "      <td>2.998872</td>\n",
              "      <td>0.130571</td>\n",
              "      <td>0.524407</td>\n",
              "      <td>2.324645</td>\n",
              "      <td>2.087171</td>\n",
              "      <td>-0.442157</td>\n",
              "      <td>1.521167</td>\n",
              "      <td>0.421690</td>\n",
              "      <td>2.081017</td>\n",
              "      <td>1.108058</td>\n",
              "      <td>0.484758</td>\n",
              "      <td>0.672354</td>\n",
              "      <td>1.290729</td>\n",
              "      <td>2.343422</td>\n",
              "      <td>-0.157449</td>\n",
              "      <td>-1.004076</td>\n",
              "      <td>-1.487925</td>\n",
              "      <td>10.0</td>\n",
              "    </tr>\n",
              "  </tbody>\n",
              "</table>\n",
              "<p>5 rows × 101 columns</p>\n",
              "</div>"
            ],
            "text/plain": [
              "        0         1         2         3    ...       97        98        99    100\n",
              "0 -0.074760  2.022230  0.005264  0.392614  ... -1.025529  2.483093  0.761738   7.0\n",
              "1  0.570940  1.355570  0.105026  2.382208  ... -1.182661 -0.782644 -0.187560   3.0\n",
              "2  2.292550  0.072045  0.844364  0.300852  ... -0.272074  1.796188  0.707452   2.0\n",
              "3 -0.366257  0.230313 -0.684654  1.186263  ... -0.848987 -0.328555 -1.058898   3.0\n",
              "4 -0.899964 -1.596224  1.688782  1.025586  ... -0.157449 -1.004076 -1.487925  10.0\n",
              "\n",
              "[5 rows x 101 columns]"
            ]
          },
          "metadata": {
            "tags": []
          },
          "execution_count": 30
        }
      ]
    },
    {
      "cell_type": "markdown",
      "metadata": {
        "id": "Y5BtVD98sQto",
        "colab_type": "text"
      },
      "source": [
        "Save pandas DataFrame to csv"
      ]
    },
    {
      "cell_type": "code",
      "metadata": {
        "id": "yKt3GmousUDG",
        "colab_type": "code",
        "colab": {
          "base_uri": "https://localhost:8080/",
          "height": 247
        },
        "outputId": "557e02b0-ecf5-4535-9bf1-50f628bac687"
      },
      "source": [
        "data.to_csv('./latent_dataset.csv', index=False)\n",
        "df = pd.read_csv('./latent_dataset.csv')\n",
        "df.head()"
      ],
      "execution_count": 31,
      "outputs": [
        {
          "output_type": "execute_result",
          "data": {
            "text/html": [
              "<div>\n",
              "<style scoped>\n",
              "    .dataframe tbody tr th:only-of-type {\n",
              "        vertical-align: middle;\n",
              "    }\n",
              "\n",
              "    .dataframe tbody tr th {\n",
              "        vertical-align: top;\n",
              "    }\n",
              "\n",
              "    .dataframe thead th {\n",
              "        text-align: right;\n",
              "    }\n",
              "</style>\n",
              "<table border=\"1\" class=\"dataframe\">\n",
              "  <thead>\n",
              "    <tr style=\"text-align: right;\">\n",
              "      <th></th>\n",
              "      <th>0</th>\n",
              "      <th>1</th>\n",
              "      <th>2</th>\n",
              "      <th>3</th>\n",
              "      <th>4</th>\n",
              "      <th>5</th>\n",
              "      <th>6</th>\n",
              "      <th>7</th>\n",
              "      <th>8</th>\n",
              "      <th>9</th>\n",
              "      <th>10</th>\n",
              "      <th>11</th>\n",
              "      <th>12</th>\n",
              "      <th>13</th>\n",
              "      <th>14</th>\n",
              "      <th>15</th>\n",
              "      <th>16</th>\n",
              "      <th>17</th>\n",
              "      <th>18</th>\n",
              "      <th>19</th>\n",
              "      <th>20</th>\n",
              "      <th>21</th>\n",
              "      <th>22</th>\n",
              "      <th>23</th>\n",
              "      <th>24</th>\n",
              "      <th>25</th>\n",
              "      <th>26</th>\n",
              "      <th>27</th>\n",
              "      <th>28</th>\n",
              "      <th>29</th>\n",
              "      <th>30</th>\n",
              "      <th>31</th>\n",
              "      <th>32</th>\n",
              "      <th>33</th>\n",
              "      <th>34</th>\n",
              "      <th>35</th>\n",
              "      <th>36</th>\n",
              "      <th>37</th>\n",
              "      <th>38</th>\n",
              "      <th>39</th>\n",
              "      <th>...</th>\n",
              "      <th>61</th>\n",
              "      <th>62</th>\n",
              "      <th>63</th>\n",
              "      <th>64</th>\n",
              "      <th>65</th>\n",
              "      <th>66</th>\n",
              "      <th>67</th>\n",
              "      <th>68</th>\n",
              "      <th>69</th>\n",
              "      <th>70</th>\n",
              "      <th>71</th>\n",
              "      <th>72</th>\n",
              "      <th>73</th>\n",
              "      <th>74</th>\n",
              "      <th>75</th>\n",
              "      <th>76</th>\n",
              "      <th>77</th>\n",
              "      <th>78</th>\n",
              "      <th>79</th>\n",
              "      <th>80</th>\n",
              "      <th>81</th>\n",
              "      <th>82</th>\n",
              "      <th>83</th>\n",
              "      <th>84</th>\n",
              "      <th>85</th>\n",
              "      <th>86</th>\n",
              "      <th>87</th>\n",
              "      <th>88</th>\n",
              "      <th>89</th>\n",
              "      <th>90</th>\n",
              "      <th>91</th>\n",
              "      <th>92</th>\n",
              "      <th>93</th>\n",
              "      <th>94</th>\n",
              "      <th>95</th>\n",
              "      <th>96</th>\n",
              "      <th>97</th>\n",
              "      <th>98</th>\n",
              "      <th>99</th>\n",
              "      <th>100</th>\n",
              "    </tr>\n",
              "  </thead>\n",
              "  <tbody>\n",
              "    <tr>\n",
              "      <th>0</th>\n",
              "      <td>-0.074760</td>\n",
              "      <td>2.022230</td>\n",
              "      <td>0.005264</td>\n",
              "      <td>0.392614</td>\n",
              "      <td>-0.181036</td>\n",
              "      <td>-0.369056</td>\n",
              "      <td>-0.223493</td>\n",
              "      <td>-0.806400</td>\n",
              "      <td>-0.522159</td>\n",
              "      <td>-0.863526</td>\n",
              "      <td>-0.332633</td>\n",
              "      <td>0.775755</td>\n",
              "      <td>-0.695117</td>\n",
              "      <td>0.499550</td>\n",
              "      <td>1.331114</td>\n",
              "      <td>1.010958</td>\n",
              "      <td>-1.217542</td>\n",
              "      <td>-0.891008</td>\n",
              "      <td>1.298618</td>\n",
              "      <td>-0.270849</td>\n",
              "      <td>-1.139377</td>\n",
              "      <td>-0.198567</td>\n",
              "      <td>-0.673687</td>\n",
              "      <td>-0.939522</td>\n",
              "      <td>-0.688575</td>\n",
              "      <td>-0.216446</td>\n",
              "      <td>1.283347</td>\n",
              "      <td>1.394188</td>\n",
              "      <td>0.436754</td>\n",
              "      <td>1.491956</td>\n",
              "      <td>0.647735</td>\n",
              "      <td>-1.907286</td>\n",
              "      <td>0.695409</td>\n",
              "      <td>0.496752</td>\n",
              "      <td>0.252555</td>\n",
              "      <td>0.844662</td>\n",
              "      <td>0.994442</td>\n",
              "      <td>0.527004</td>\n",
              "      <td>-0.069175</td>\n",
              "      <td>2.074639</td>\n",
              "      <td>...</td>\n",
              "      <td>-0.045161</td>\n",
              "      <td>1.134621</td>\n",
              "      <td>0.491393</td>\n",
              "      <td>0.331737</td>\n",
              "      <td>-0.923385</td>\n",
              "      <td>0.200713</td>\n",
              "      <td>-0.168143</td>\n",
              "      <td>-0.295930</td>\n",
              "      <td>1.023374</td>\n",
              "      <td>1.422266</td>\n",
              "      <td>1.467682</td>\n",
              "      <td>-0.442953</td>\n",
              "      <td>1.540047</td>\n",
              "      <td>-0.793314</td>\n",
              "      <td>-0.098048</td>\n",
              "      <td>-0.363689</td>\n",
              "      <td>-1.632762</td>\n",
              "      <td>-0.623801</td>\n",
              "      <td>0.204820</td>\n",
              "      <td>0.268576</td>\n",
              "      <td>-0.057341</td>\n",
              "      <td>-0.880265</td>\n",
              "      <td>0.499716</td>\n",
              "      <td>0.022444</td>\n",
              "      <td>1.150154</td>\n",
              "      <td>0.947700</td>\n",
              "      <td>-0.220021</td>\n",
              "      <td>1.836782</td>\n",
              "      <td>0.818549</td>\n",
              "      <td>0.410302</td>\n",
              "      <td>0.503128</td>\n",
              "      <td>0.823758</td>\n",
              "      <td>-1.162378</td>\n",
              "      <td>0.349801</td>\n",
              "      <td>0.135358</td>\n",
              "      <td>-0.380480</td>\n",
              "      <td>-1.025529</td>\n",
              "      <td>2.483093</td>\n",
              "      <td>0.761738</td>\n",
              "      <td>7.0</td>\n",
              "    </tr>\n",
              "    <tr>\n",
              "      <th>1</th>\n",
              "      <td>0.570940</td>\n",
              "      <td>1.355570</td>\n",
              "      <td>0.105026</td>\n",
              "      <td>2.382208</td>\n",
              "      <td>-0.421001</td>\n",
              "      <td>-0.251137</td>\n",
              "      <td>-1.256089</td>\n",
              "      <td>-0.081605</td>\n",
              "      <td>0.575721</td>\n",
              "      <td>-0.611078</td>\n",
              "      <td>1.050410</td>\n",
              "      <td>1.616762</td>\n",
              "      <td>-1.213972</td>\n",
              "      <td>-0.868891</td>\n",
              "      <td>-0.805596</td>\n",
              "      <td>1.750196</td>\n",
              "      <td>-1.986394</td>\n",
              "      <td>-0.687034</td>\n",
              "      <td>-1.014709</td>\n",
              "      <td>0.472611</td>\n",
              "      <td>-1.651651</td>\n",
              "      <td>-0.136497</td>\n",
              "      <td>-0.599357</td>\n",
              "      <td>0.035993</td>\n",
              "      <td>-0.385072</td>\n",
              "      <td>-0.072630</td>\n",
              "      <td>1.758502</td>\n",
              "      <td>-1.442734</td>\n",
              "      <td>-0.488999</td>\n",
              "      <td>1.340759</td>\n",
              "      <td>-0.206022</td>\n",
              "      <td>-2.262341</td>\n",
              "      <td>-0.838148</td>\n",
              "      <td>0.204638</td>\n",
              "      <td>1.830359</td>\n",
              "      <td>-1.756884</td>\n",
              "      <td>1.968087</td>\n",
              "      <td>0.105983</td>\n",
              "      <td>-0.933381</td>\n",
              "      <td>2.854934</td>\n",
              "      <td>...</td>\n",
              "      <td>-0.283615</td>\n",
              "      <td>0.665029</td>\n",
              "      <td>-1.046107</td>\n",
              "      <td>0.905249</td>\n",
              "      <td>0.208101</td>\n",
              "      <td>-0.098505</td>\n",
              "      <td>-0.242531</td>\n",
              "      <td>-1.409439</td>\n",
              "      <td>1.884905</td>\n",
              "      <td>-0.161235</td>\n",
              "      <td>0.377333</td>\n",
              "      <td>0.232317</td>\n",
              "      <td>-0.222511</td>\n",
              "      <td>-0.197332</td>\n",
              "      <td>-2.173722</td>\n",
              "      <td>-2.001394</td>\n",
              "      <td>-1.578223</td>\n",
              "      <td>1.982911</td>\n",
              "      <td>-0.843730</td>\n",
              "      <td>0.328692</td>\n",
              "      <td>2.366330</td>\n",
              "      <td>0.573370</td>\n",
              "      <td>2.370511</td>\n",
              "      <td>0.124766</td>\n",
              "      <td>-0.318144</td>\n",
              "      <td>-0.366861</td>\n",
              "      <td>0.881986</td>\n",
              "      <td>-0.965351</td>\n",
              "      <td>0.707636</td>\n",
              "      <td>-0.615570</td>\n",
              "      <td>-0.830268</td>\n",
              "      <td>0.957833</td>\n",
              "      <td>-0.882062</td>\n",
              "      <td>-0.307394</td>\n",
              "      <td>0.492823</td>\n",
              "      <td>1.017216</td>\n",
              "      <td>-1.182661</td>\n",
              "      <td>-0.782644</td>\n",
              "      <td>-0.187560</td>\n",
              "      <td>3.0</td>\n",
              "    </tr>\n",
              "    <tr>\n",
              "      <th>2</th>\n",
              "      <td>2.292550</td>\n",
              "      <td>0.072045</td>\n",
              "      <td>0.844364</td>\n",
              "      <td>0.300852</td>\n",
              "      <td>-0.712505</td>\n",
              "      <td>-0.031150</td>\n",
              "      <td>-1.641721</td>\n",
              "      <td>-1.326200</td>\n",
              "      <td>0.468264</td>\n",
              "      <td>0.405294</td>\n",
              "      <td>0.274585</td>\n",
              "      <td>0.734321</td>\n",
              "      <td>-1.259570</td>\n",
              "      <td>-0.710230</td>\n",
              "      <td>0.620657</td>\n",
              "      <td>-0.604613</td>\n",
              "      <td>-1.502707</td>\n",
              "      <td>-0.846367</td>\n",
              "      <td>-0.289415</td>\n",
              "      <td>0.621050</td>\n",
              "      <td>0.164390</td>\n",
              "      <td>-0.636665</td>\n",
              "      <td>0.123245</td>\n",
              "      <td>-1.642753</td>\n",
              "      <td>0.341759</td>\n",
              "      <td>0.269346</td>\n",
              "      <td>-0.417853</td>\n",
              "      <td>-0.327364</td>\n",
              "      <td>0.346950</td>\n",
              "      <td>-0.343290</td>\n",
              "      <td>-0.870022</td>\n",
              "      <td>-2.237232</td>\n",
              "      <td>-1.001039</td>\n",
              "      <td>0.332311</td>\n",
              "      <td>0.308614</td>\n",
              "      <td>0.303245</td>\n",
              "      <td>1.927465</td>\n",
              "      <td>0.360988</td>\n",
              "      <td>-1.312021</td>\n",
              "      <td>2.855052</td>\n",
              "      <td>...</td>\n",
              "      <td>-1.863498</td>\n",
              "      <td>0.764056</td>\n",
              "      <td>-0.806759</td>\n",
              "      <td>1.470122</td>\n",
              "      <td>0.078139</td>\n",
              "      <td>-0.287304</td>\n",
              "      <td>0.554923</td>\n",
              "      <td>1.620703</td>\n",
              "      <td>1.553455</td>\n",
              "      <td>0.890862</td>\n",
              "      <td>0.328180</td>\n",
              "      <td>0.058832</td>\n",
              "      <td>-0.548805</td>\n",
              "      <td>-1.027731</td>\n",
              "      <td>-0.848426</td>\n",
              "      <td>0.078214</td>\n",
              "      <td>-0.722003</td>\n",
              "      <td>0.630865</td>\n",
              "      <td>-1.226391</td>\n",
              "      <td>0.392899</td>\n",
              "      <td>1.764031</td>\n",
              "      <td>0.025501</td>\n",
              "      <td>1.249633</td>\n",
              "      <td>0.055706</td>\n",
              "      <td>-1.209505</td>\n",
              "      <td>-0.823930</td>\n",
              "      <td>-0.755709</td>\n",
              "      <td>-1.667844</td>\n",
              "      <td>-0.530449</td>\n",
              "      <td>-0.121031</td>\n",
              "      <td>-0.243825</td>\n",
              "      <td>1.972044</td>\n",
              "      <td>0.710414</td>\n",
              "      <td>-0.185604</td>\n",
              "      <td>0.622770</td>\n",
              "      <td>-0.601778</td>\n",
              "      <td>-0.272074</td>\n",
              "      <td>1.796188</td>\n",
              "      <td>0.707452</td>\n",
              "      <td>2.0</td>\n",
              "    </tr>\n",
              "    <tr>\n",
              "      <th>3</th>\n",
              "      <td>-0.366257</td>\n",
              "      <td>0.230313</td>\n",
              "      <td>-0.684654</td>\n",
              "      <td>1.186263</td>\n",
              "      <td>-0.869948</td>\n",
              "      <td>0.027598</td>\n",
              "      <td>0.216340</td>\n",
              "      <td>-0.912180</td>\n",
              "      <td>0.685560</td>\n",
              "      <td>-0.748203</td>\n",
              "      <td>1.041265</td>\n",
              "      <td>1.858537</td>\n",
              "      <td>0.393133</td>\n",
              "      <td>-0.336696</td>\n",
              "      <td>-1.497047</td>\n",
              "      <td>0.672229</td>\n",
              "      <td>-1.200527</td>\n",
              "      <td>-0.784271</td>\n",
              "      <td>-0.051274</td>\n",
              "      <td>-0.142332</td>\n",
              "      <td>-0.622586</td>\n",
              "      <td>0.820196</td>\n",
              "      <td>-0.728867</td>\n",
              "      <td>-1.261010</td>\n",
              "      <td>0.080103</td>\n",
              "      <td>-0.134554</td>\n",
              "      <td>0.030223</td>\n",
              "      <td>-0.549437</td>\n",
              "      <td>-0.926755</td>\n",
              "      <td>-0.197334</td>\n",
              "      <td>0.596474</td>\n",
              "      <td>-1.475972</td>\n",
              "      <td>-1.531234</td>\n",
              "      <td>-1.742186</td>\n",
              "      <td>-0.263101</td>\n",
              "      <td>-0.330866</td>\n",
              "      <td>1.508977</td>\n",
              "      <td>1.013103</td>\n",
              "      <td>0.262295</td>\n",
              "      <td>2.951676</td>\n",
              "      <td>...</td>\n",
              "      <td>-0.447134</td>\n",
              "      <td>0.939994</td>\n",
              "      <td>-0.528569</td>\n",
              "      <td>0.295357</td>\n",
              "      <td>1.007292</td>\n",
              "      <td>-1.410107</td>\n",
              "      <td>-0.549462</td>\n",
              "      <td>-0.839898</td>\n",
              "      <td>1.580592</td>\n",
              "      <td>0.526468</td>\n",
              "      <td>1.213918</td>\n",
              "      <td>1.710415</td>\n",
              "      <td>0.104702</td>\n",
              "      <td>-0.591928</td>\n",
              "      <td>-2.075770</td>\n",
              "      <td>-0.689329</td>\n",
              "      <td>-1.475914</td>\n",
              "      <td>0.928908</td>\n",
              "      <td>-0.693722</td>\n",
              "      <td>-0.120317</td>\n",
              "      <td>1.701780</td>\n",
              "      <td>-0.189897</td>\n",
              "      <td>0.634573</td>\n",
              "      <td>0.078916</td>\n",
              "      <td>0.625399</td>\n",
              "      <td>-1.398061</td>\n",
              "      <td>1.101900</td>\n",
              "      <td>-0.179323</td>\n",
              "      <td>1.081376</td>\n",
              "      <td>0.486084</td>\n",
              "      <td>-0.229846</td>\n",
              "      <td>0.954376</td>\n",
              "      <td>-0.954479</td>\n",
              "      <td>-0.760801</td>\n",
              "      <td>1.614972</td>\n",
              "      <td>-1.063161</td>\n",
              "      <td>-0.848987</td>\n",
              "      <td>-0.328555</td>\n",
              "      <td>-1.058898</td>\n",
              "      <td>3.0</td>\n",
              "    </tr>\n",
              "    <tr>\n",
              "      <th>4</th>\n",
              "      <td>-0.899964</td>\n",
              "      <td>-1.596224</td>\n",
              "      <td>1.688782</td>\n",
              "      <td>1.025586</td>\n",
              "      <td>-1.451643</td>\n",
              "      <td>-0.427293</td>\n",
              "      <td>-0.525212</td>\n",
              "      <td>-1.822712</td>\n",
              "      <td>-0.458857</td>\n",
              "      <td>-0.987899</td>\n",
              "      <td>-1.426500</td>\n",
              "      <td>1.793921</td>\n",
              "      <td>0.550701</td>\n",
              "      <td>0.433661</td>\n",
              "      <td>-0.740163</td>\n",
              "      <td>-1.197379</td>\n",
              "      <td>-2.953953</td>\n",
              "      <td>-1.603912</td>\n",
              "      <td>-2.593912</td>\n",
              "      <td>-1.078439</td>\n",
              "      <td>-1.405706</td>\n",
              "      <td>1.938449</td>\n",
              "      <td>-2.679231</td>\n",
              "      <td>-1.989452</td>\n",
              "      <td>-0.012602</td>\n",
              "      <td>-2.240786</td>\n",
              "      <td>-1.535346</td>\n",
              "      <td>0.294434</td>\n",
              "      <td>1.825396</td>\n",
              "      <td>1.283387</td>\n",
              "      <td>0.122752</td>\n",
              "      <td>0.403363</td>\n",
              "      <td>0.233870</td>\n",
              "      <td>-0.737338</td>\n",
              "      <td>-1.044760</td>\n",
              "      <td>-0.948965</td>\n",
              "      <td>-0.763444</td>\n",
              "      <td>1.036627</td>\n",
              "      <td>2.480093</td>\n",
              "      <td>0.252194</td>\n",
              "      <td>...</td>\n",
              "      <td>-0.155172</td>\n",
              "      <td>1.899592</td>\n",
              "      <td>1.051491</td>\n",
              "      <td>2.833673</td>\n",
              "      <td>-1.802613</td>\n",
              "      <td>-0.095620</td>\n",
              "      <td>-1.839952</td>\n",
              "      <td>-0.321125</td>\n",
              "      <td>0.991234</td>\n",
              "      <td>-0.055728</td>\n",
              "      <td>1.655902</td>\n",
              "      <td>-0.597439</td>\n",
              "      <td>-0.337931</td>\n",
              "      <td>-0.208908</td>\n",
              "      <td>0.111292</td>\n",
              "      <td>1.563351</td>\n",
              "      <td>-2.186515</td>\n",
              "      <td>-1.224082</td>\n",
              "      <td>1.141217</td>\n",
              "      <td>-0.566647</td>\n",
              "      <td>-1.134578</td>\n",
              "      <td>2.934387</td>\n",
              "      <td>2.998872</td>\n",
              "      <td>0.130571</td>\n",
              "      <td>0.524407</td>\n",
              "      <td>2.324645</td>\n",
              "      <td>2.087171</td>\n",
              "      <td>-0.442157</td>\n",
              "      <td>1.521167</td>\n",
              "      <td>0.421690</td>\n",
              "      <td>2.081017</td>\n",
              "      <td>1.108058</td>\n",
              "      <td>0.484758</td>\n",
              "      <td>0.672354</td>\n",
              "      <td>1.290729</td>\n",
              "      <td>2.343422</td>\n",
              "      <td>-0.157449</td>\n",
              "      <td>-1.004076</td>\n",
              "      <td>-1.487925</td>\n",
              "      <td>10.0</td>\n",
              "    </tr>\n",
              "  </tbody>\n",
              "</table>\n",
              "<p>5 rows × 101 columns</p>\n",
              "</div>"
            ],
            "text/plain": [
              "          0         1         2         3  ...        97        98        99   100\n",
              "0 -0.074760  2.022230  0.005264  0.392614  ... -1.025529  2.483093  0.761738   7.0\n",
              "1  0.570940  1.355570  0.105026  2.382208  ... -1.182661 -0.782644 -0.187560   3.0\n",
              "2  2.292550  0.072045  0.844364  0.300852  ... -0.272074  1.796188  0.707452   2.0\n",
              "3 -0.366257  0.230313 -0.684654  1.186263  ... -0.848987 -0.328555 -1.058898   3.0\n",
              "4 -0.899964 -1.596224  1.688782  1.025586  ... -0.157449 -1.004076 -1.487925  10.0\n",
              "\n",
              "[5 rows x 101 columns]"
            ]
          },
          "metadata": {
            "tags": []
          },
          "execution_count": 31
        }
      ]
    },
    {
      "cell_type": "code",
      "metadata": {
        "id": "4t7-CWrJ22I_",
        "colab_type": "code",
        "colab": {
          "base_uri": "https://localhost:8080/",
          "height": 35
        },
        "outputId": "e2a076e2-df7d-4f24-9a35-09b1b91beb5c"
      },
      "source": [
        "df.shape"
      ],
      "execution_count": 32,
      "outputs": [
        {
          "output_type": "execute_result",
          "data": {
            "text/plain": [
              "(9339, 101)"
            ]
          },
          "metadata": {
            "tags": []
          },
          "execution_count": 32
        }
      ]
    },
    {
      "cell_type": "markdown",
      "metadata": {
        "id": "tDBsWX8p8j8p",
        "colab_type": "text"
      },
      "source": [
        "---\n",
        "# Before Preprocessing\n",
        "* -20.07.24.Thur.pm:10:53-\n",
        "\n",
        "---\n"
      ]
    },
    {
      "cell_type": "code",
      "metadata": {
        "id": "s-5XYldw8oqp",
        "colab_type": "code",
        "colab": {
          "base_uri": "https://localhost:8080/",
          "height": 1000
        },
        "outputId": "42e0be2c-5b83-4c95-eb48-1f68fec029e2"
      },
      "source": [
        "# Test-Voting classifier\n",
        "# https://scikit-learn.org/stable/modules/generated/sklearn.ensemble.RandomForestClassifier.html\n",
        "\n",
        "\n",
        "from sklearn import datasets\n",
        "from sklearn.model_selection import cross_val_score\n",
        "from sklearn.linear_model import LogisticRegression\n",
        "from sklearn.naive_bayes import GaussianNB\n",
        "from sklearn.ensemble import RandomForestClassifier\n",
        "from sklearn.ensemble import VotingClassifier\n",
        "\n",
        "# iris = datasets.load_iris()\n",
        "data = latent_vector  # re-change it to numpy\n",
        "X, y = data[:, 0:100], data[:, 100]\n",
        "\n",
        "clf1 = LogisticRegression(random_state=1)\n",
        "clf2 = RandomForestClassifier(n_estimators=50, random_state=1)\n",
        "clf3 = GaussianNB()\n",
        "\n",
        "eclf = VotingClassifier(\n",
        "         estimators=[('lr', clf1), ('rf', clf2), ('gnb', clf3)],\n",
        "         voting='hard')\n",
        "\n",
        "for clf, label in zip([clf1, clf2, clf3, eclf], ['Logistic Regression', 'Random Forest', 'naive Bayes', 'Ensemble']):\n",
        "     scores = cross_val_score(clf, X, y, scoring='accuracy', cv=5)\n",
        "     print(\"Accuracy: %0.2f (+/- %0.2f) [%s]\" % (scores.mean(), scores.std(), label))\n"
      ],
      "execution_count": 53,
      "outputs": [
        {
          "output_type": "stream",
          "text": [
            "/usr/local/lib/python3.6/dist-packages/sklearn/linear_model/_logistic.py:940: ConvergenceWarning: lbfgs failed to converge (status=1):\n",
            "STOP: TOTAL NO. of ITERATIONS REACHED LIMIT.\n",
            "\n",
            "Increase the number of iterations (max_iter) or scale the data as shown in:\n",
            "    https://scikit-learn.org/stable/modules/preprocessing.html\n",
            "Please also refer to the documentation for alternative solver options:\n",
            "    https://scikit-learn.org/stable/modules/linear_model.html#logistic-regression\n",
            "  extra_warning_msg=_LOGISTIC_SOLVER_CONVERGENCE_MSG)\n",
            "/usr/local/lib/python3.6/dist-packages/sklearn/linear_model/_logistic.py:940: ConvergenceWarning: lbfgs failed to converge (status=1):\n",
            "STOP: TOTAL NO. of ITERATIONS REACHED LIMIT.\n",
            "\n",
            "Increase the number of iterations (max_iter) or scale the data as shown in:\n",
            "    https://scikit-learn.org/stable/modules/preprocessing.html\n",
            "Please also refer to the documentation for alternative solver options:\n",
            "    https://scikit-learn.org/stable/modules/linear_model.html#logistic-regression\n",
            "  extra_warning_msg=_LOGISTIC_SOLVER_CONVERGENCE_MSG)\n",
            "/usr/local/lib/python3.6/dist-packages/sklearn/linear_model/_logistic.py:940: ConvergenceWarning: lbfgs failed to converge (status=1):\n",
            "STOP: TOTAL NO. of ITERATIONS REACHED LIMIT.\n",
            "\n",
            "Increase the number of iterations (max_iter) or scale the data as shown in:\n",
            "    https://scikit-learn.org/stable/modules/preprocessing.html\n",
            "Please also refer to the documentation for alternative solver options:\n",
            "    https://scikit-learn.org/stable/modules/linear_model.html#logistic-regression\n",
            "  extra_warning_msg=_LOGISTIC_SOLVER_CONVERGENCE_MSG)\n",
            "/usr/local/lib/python3.6/dist-packages/sklearn/linear_model/_logistic.py:940: ConvergenceWarning: lbfgs failed to converge (status=1):\n",
            "STOP: TOTAL NO. of ITERATIONS REACHED LIMIT.\n",
            "\n",
            "Increase the number of iterations (max_iter) or scale the data as shown in:\n",
            "    https://scikit-learn.org/stable/modules/preprocessing.html\n",
            "Please also refer to the documentation for alternative solver options:\n",
            "    https://scikit-learn.org/stable/modules/linear_model.html#logistic-regression\n",
            "  extra_warning_msg=_LOGISTIC_SOLVER_CONVERGENCE_MSG)\n",
            "/usr/local/lib/python3.6/dist-packages/sklearn/linear_model/_logistic.py:940: ConvergenceWarning: lbfgs failed to converge (status=1):\n",
            "STOP: TOTAL NO. of ITERATIONS REACHED LIMIT.\n",
            "\n",
            "Increase the number of iterations (max_iter) or scale the data as shown in:\n",
            "    https://scikit-learn.org/stable/modules/preprocessing.html\n",
            "Please also refer to the documentation for alternative solver options:\n",
            "    https://scikit-learn.org/stable/modules/linear_model.html#logistic-regression\n",
            "  extra_warning_msg=_LOGISTIC_SOLVER_CONVERGENCE_MSG)\n"
          ],
          "name": "stderr"
        },
        {
          "output_type": "stream",
          "text": [
            "Accuracy: 0.93 (+/- 0.01) [Logistic Regression]\n",
            "Accuracy: 0.94 (+/- 0.00) [Random Forest]\n",
            "Accuracy: 0.93 (+/- 0.00) [naive Bayes]\n"
          ],
          "name": "stdout"
        },
        {
          "output_type": "stream",
          "text": [
            "/usr/local/lib/python3.6/dist-packages/sklearn/linear_model/_logistic.py:940: ConvergenceWarning: lbfgs failed to converge (status=1):\n",
            "STOP: TOTAL NO. of ITERATIONS REACHED LIMIT.\n",
            "\n",
            "Increase the number of iterations (max_iter) or scale the data as shown in:\n",
            "    https://scikit-learn.org/stable/modules/preprocessing.html\n",
            "Please also refer to the documentation for alternative solver options:\n",
            "    https://scikit-learn.org/stable/modules/linear_model.html#logistic-regression\n",
            "  extra_warning_msg=_LOGISTIC_SOLVER_CONVERGENCE_MSG)\n",
            "/usr/local/lib/python3.6/dist-packages/sklearn/linear_model/_logistic.py:940: ConvergenceWarning: lbfgs failed to converge (status=1):\n",
            "STOP: TOTAL NO. of ITERATIONS REACHED LIMIT.\n",
            "\n",
            "Increase the number of iterations (max_iter) or scale the data as shown in:\n",
            "    https://scikit-learn.org/stable/modules/preprocessing.html\n",
            "Please also refer to the documentation for alternative solver options:\n",
            "    https://scikit-learn.org/stable/modules/linear_model.html#logistic-regression\n",
            "  extra_warning_msg=_LOGISTIC_SOLVER_CONVERGENCE_MSG)\n",
            "/usr/local/lib/python3.6/dist-packages/sklearn/linear_model/_logistic.py:940: ConvergenceWarning: lbfgs failed to converge (status=1):\n",
            "STOP: TOTAL NO. of ITERATIONS REACHED LIMIT.\n",
            "\n",
            "Increase the number of iterations (max_iter) or scale the data as shown in:\n",
            "    https://scikit-learn.org/stable/modules/preprocessing.html\n",
            "Please also refer to the documentation for alternative solver options:\n",
            "    https://scikit-learn.org/stable/modules/linear_model.html#logistic-regression\n",
            "  extra_warning_msg=_LOGISTIC_SOLVER_CONVERGENCE_MSG)\n",
            "/usr/local/lib/python3.6/dist-packages/sklearn/linear_model/_logistic.py:940: ConvergenceWarning: lbfgs failed to converge (status=1):\n",
            "STOP: TOTAL NO. of ITERATIONS REACHED LIMIT.\n",
            "\n",
            "Increase the number of iterations (max_iter) or scale the data as shown in:\n",
            "    https://scikit-learn.org/stable/modules/preprocessing.html\n",
            "Please also refer to the documentation for alternative solver options:\n",
            "    https://scikit-learn.org/stable/modules/linear_model.html#logistic-regression\n",
            "  extra_warning_msg=_LOGISTIC_SOLVER_CONVERGENCE_MSG)\n",
            "/usr/local/lib/python3.6/dist-packages/sklearn/linear_model/_logistic.py:940: ConvergenceWarning: lbfgs failed to converge (status=1):\n",
            "STOP: TOTAL NO. of ITERATIONS REACHED LIMIT.\n",
            "\n",
            "Increase the number of iterations (max_iter) or scale the data as shown in:\n",
            "    https://scikit-learn.org/stable/modules/preprocessing.html\n",
            "Please also refer to the documentation for alternative solver options:\n",
            "    https://scikit-learn.org/stable/modules/linear_model.html#logistic-regression\n",
            "  extra_warning_msg=_LOGISTIC_SOLVER_CONVERGENCE_MSG)\n"
          ],
          "name": "stderr"
        },
        {
          "output_type": "stream",
          "text": [
            "Accuracy: 0.94 (+/- 0.00) [Ensemble]\n"
          ],
          "name": "stdout"
        }
      ]
    },
    {
      "cell_type": "markdown",
      "metadata": {
        "id": "gu3-Tg7yQqX3",
        "colab_type": "text"
      },
      "source": [
        "### Data Preprocessing\n"
      ]
    },
    {
      "cell_type": "markdown",
      "metadata": {
        "id": "PWkxK7nr56Ww",
        "colab_type": "text"
      },
      "source": [
        "Divide Data & Label<br>\n",
        "change dataframe to numpy\n"
      ]
    },
    {
      "cell_type": "code",
      "metadata": {
        "id": "ZokgRR8Y5-1R",
        "colab_type": "code",
        "colab": {
          "base_uri": "https://localhost:8080/",
          "height": 35
        },
        "outputId": "6de2b47d-6ff7-41eb-f1e9-0b1483454788"
      },
      "source": [
        "df = df.to_numpy()\n",
        "df.shape"
      ],
      "execution_count": 44,
      "outputs": [
        {
          "output_type": "execute_result",
          "data": {
            "text/plain": [
              "(9339, 101)"
            ]
          },
          "metadata": {
            "tags": []
          },
          "execution_count": 44
        }
      ]
    },
    {
      "cell_type": "code",
      "metadata": {
        "id": "8hbQKf4z67Wl",
        "colab_type": "code",
        "colab": {
          "base_uri": "https://localhost:8080/",
          "height": 35
        },
        "outputId": "df8e3ca6-102b-4837-9bbc-da5ca574980c"
      },
      "source": [
        "# make data & label variable\n",
        "data = df[:, :100]\n",
        "label = df[:, 100]\n",
        "\n",
        "print(data.shape, label.shape)"
      ],
      "execution_count": 52,
      "outputs": [
        {
          "output_type": "stream",
          "text": [
            "(9339, 100) (9339,)\n"
          ],
          "name": "stdout"
        }
      ]
    },
    {
      "cell_type": "markdown",
      "metadata": {
        "id": "jZKXpB6LAlji",
        "colab_type": "text"
      },
      "source": [
        "Build Model\n",
        "* data scaling\n"
      ]
    },
    {
      "cell_type": "markdown",
      "metadata": {
        "id": "lwTORai-5StA",
        "colab_type": "text"
      },
      "source": [
        "* Reference: Good Resource! - toward D.S\n",
        "    * https://towardsdatascience.com/scale-standardize-or-normalize-with-scikit-learn-6ccc7d176a02\n",
        "<br><br>\n",
        "\n",
        "\n",
        "\n",
        "* Wrap\n",
        "    * Use MinMaxScaler as the default if you are transforming a feature. It’s non-distorting.\n",
        "    * You could use RobustScaler if you have outliers and want to reduce their influence. However, you might be better off removing the outliers, instead.\n",
        "    * Use StandardScaler if you need a relatively normal distribution.\n",
        "    * Use Normalizer sparingly — it normalizes sample rows, not feature columns. It can use l2 or l1 normalization."
      ]
    },
    {
      "cell_type": "markdown",
      "metadata": {
        "id": "PObbIYIy48jf",
        "colab_type": "text"
      },
      "source": [
        "1st. Minmax Scaler\n"
      ]
    },
    {
      "cell_type": "code",
      "metadata": {
        "id": "CRbThV__4_eV",
        "colab_type": "code",
        "colab": {
          "base_uri": "https://localhost:8080/",
          "height": 138
        },
        "outputId": "94742f5b-5d31-4fa7-c9ba-7d2b9ebbd3b8"
      },
      "source": [
        "# sklearn.preprocessing.MinMaxSclaer\n",
        "# https://scikit-learn.org/stable/modules/generated/sklearn.preprocessing.MinMaxScaler.html?highlight=minmax%20scaler#sklearn.preprocessing.MinMaxScaler\n",
        "\n",
        "from sklearn.preprocessing import MinMaxScaler\n",
        "data = data\n",
        "scaler = MinMaxScaler()  # make scaler obj\n",
        "\n",
        "# directly fit_transform?\n",
        "print(scaler.fit_transform(data))"
      ],
      "execution_count": 51,
      "outputs": [
        {
          "output_type": "stream",
          "text": [
            "[[0.45336022 0.63622903 0.56358312 ... 0.5694765  0.68342398 0.60632197]\n",
            " [0.53180541 0.54746212 0.57470655 ... 0.55145253 0.26585075 0.49761365]\n",
            " [0.7409615  0.3765586  0.65714246 ... 0.65590229 0.595593   0.60010551]\n",
            " ...\n",
            " [0.70343739 0.55240322 0.60204721 ... 0.56925473 0.40496521 0.68498748]\n",
            " [0.49168533 0.54621097 0.51954767 ... 0.78756417 0.25227082 0.49295863]\n",
            " [0.66771601 0.53583113 0.67377908 ... 0.54747083 0.49395586 0.56545021]]\n"
          ],
          "name": "stdout"
        }
      ]
    },
    {
      "cell_type": "markdown",
      "metadata": {
        "id": "9z2IgJRn8d8-",
        "colab_type": "text"
      },
      "source": [
        "classify it"
      ]
    },
    {
      "cell_type": "code",
      "metadata": {
        "id": "-A8fNyM68fNm",
        "colab_type": "code",
        "colab": {}
      },
      "source": [
        "# Test-Voting classifier\n",
        "# https://scikit-learn.org/stable/modules/generated/sklearn.ensemble.RandomForestClassifier.html\n",
        "\n",
        "\n",
        "from sklearn import datasets\n",
        "from sklearn.model_selection import cross_val_score\n",
        "from sklearn.linear_model import LogisticRegression\n",
        "from sklearn.naive_bayes import GaussianNB\n",
        "from sklearn.ensemble import RandomForestClassifier\n",
        "from sklearn.ensemble import VotingClassifier\n",
        "\n",
        "# iris = datasets.load_iris()\n",
        "data = latent_vector  # re-change it to numpy\n",
        "X, y = data[:, 0:100], data[:, 100]\n",
        "\n",
        "clf1 = LogisticRegression(random_state=1)\n",
        "clf2 = RandomForestClassifier(n_estimators=50, random_state=1)\n",
        "clf3 = GaussianNB()\n",
        "\n",
        "eclf = VotingClassifier(\n",
        "         estimators=[('lr', clf1), ('rf', clf2), ('gnb', clf3)],\n",
        "         voting='hard')\n",
        "\n",
        "for clf, label in zip([clf1, clf2, clf3, eclf], ['Logistic Regression', 'Random Forest', 'naive Bayes', 'Ensemble']):\n",
        "     scores = cross_val_score(clf, X, y, scoring='accuracy', cv=5)\n",
        "     print(\"Accuracy: %0.2f (+/- %0.2f) [%s]\" % (scores.mean(), scores.std(), label))\n"
      ],
      "execution_count": null,
      "outputs": []
    },
    {
      "cell_type": "code",
      "metadata": {
        "id": "f-C1iLXy8cev",
        "colab_type": "code",
        "colab": {}
      },
      "source": [
        ""
      ],
      "execution_count": null,
      "outputs": []
    },
    {
      "cell_type": "markdown",
      "metadata": {
        "id": "wtIPC3Hr5CGp",
        "colab_type": "text"
      },
      "source": [
        "2. Standard Scaler\n"
      ]
    },
    {
      "cell_type": "code",
      "metadata": {
        "id": "ozTYc6T75Ezf",
        "colab_type": "code",
        "colab": {}
      },
      "source": [
        ""
      ],
      "execution_count": null,
      "outputs": []
    },
    {
      "cell_type": "markdown",
      "metadata": {
        "id": "esy6JOL15Fbq",
        "colab_type": "text"
      },
      "source": [
        "3. Robust Scaler"
      ]
    },
    {
      "cell_type": "code",
      "metadata": {
        "id": "zuthPeeN5AsK",
        "colab_type": "code",
        "colab": {}
      },
      "source": [
        ""
      ],
      "execution_count": null,
      "outputs": []
    },
    {
      "cell_type": "markdown",
      "metadata": {
        "id": "hh7OOoQpt-sm",
        "colab_type": "text"
      },
      "source": [
        "### Modeling\n",
        "* voting classifier\n"
      ]
    },
    {
      "cell_type": "code",
      "metadata": {
        "id": "8t5LQjW9uA3D",
        "colab_type": "code",
        "colab": {}
      },
      "source": [
        "# Test-Voting classifier\n",
        "# https://scikit-learn.org/stable/modules/generated/sklearn.ensemble.RandomForestClassifier.html\n",
        "\n",
        "\n",
        "from sklearn import datasets\n",
        "from sklearn.model_selection import cross_val_score\n",
        "from sklearn.linear_model import LogisticRegression\n",
        "from sklearn.naive_bayes import GaussianNB\n",
        "from sklearn.ensemble import RandomForestClassifier\n",
        "from sklearn.ensemble import VotingClassifier\n",
        "\n",
        "# iris = datasets.load_iris()\n",
        "data = latent_vector  # re-change it to numpy\n",
        "X, y = data[:, 0:100], data[:, 100]\n",
        "\n",
        "clf1 = LogisticRegression(random_state=1)\n",
        "clf2 = RandomForestClassifier(n_estimators=50, random_state=1)\n",
        "clf3 = GaussianNB()\n",
        "\n",
        "eclf = VotingClassifier(\n",
        "         estimators=[('lr', clf1), ('rf', clf2), ('gnb', clf3)],\n",
        "         voting='hard')\n",
        "\n",
        "for clf, label in zip([clf1, clf2, clf3, eclf], ['Logistic Regression', 'Random Forest', 'naive Bayes', 'Ensemble']):\n",
        "     scores = cross_val_score(clf, X, y, scoring='accuracy', cv=5)\n",
        "     print(\"Accuracy: %0.2f (+/- %0.2f) [%s]\" % (scores.mean(), scores.std(), label))\n"
      ],
      "execution_count": null,
      "outputs": []
    },
    {
      "cell_type": "code",
      "metadata": {
        "id": "GObvQwoehKnk",
        "colab_type": "code",
        "colab": {
          "base_uri": "https://localhost:8080/",
          "height": 35
        },
        "outputId": "a780833f-1c5e-4a58-e5a6-58b8d3e5cb5f"
      },
      "source": [
        "! pwd"
      ],
      "execution_count": null,
      "outputs": [
        {
          "output_type": "stream",
          "text": [
            "/content/drive/My Drive/Post_InfoSec_Exps/Post_Exp01\n"
          ],
          "name": "stdout"
        }
      ]
    },
    {
      "cell_type": "code",
      "metadata": {
        "id": "J2nxn4T3S9jU",
        "colab_type": "code",
        "colab": {
          "base_uri": "https://localhost:8080/",
          "height": 316
        },
        "outputId": "e28215d5-1656-4cbc-d9f6-7ac0e5f652b3"
      },
      "source": [
        "latent_vector = np.load('./11Epoch_z_vector.npy')\n",
        "print(latent_vector.shape)"
      ],
      "execution_count": null,
      "outputs": [
        {
          "output_type": "error",
          "ename": "OSError",
          "evalue": "ignored",
          "traceback": [
            "\u001b[0;31m---------------------------------------------------------------------------\u001b[0m",
            "\u001b[0;31mOSError\u001b[0m                                   Traceback (most recent call last)",
            "\u001b[0;32m<ipython-input-13-e6e5dad7b509>\u001b[0m in \u001b[0;36m<module>\u001b[0;34m()\u001b[0m\n\u001b[0;32m----> 1\u001b[0;31m \u001b[0mlatent_vector\u001b[0m \u001b[0;34m=\u001b[0m \u001b[0mnp\u001b[0m\u001b[0;34m.\u001b[0m\u001b[0mload\u001b[0m\u001b[0;34m(\u001b[0m\u001b[0;34m'./11Epoch_z_vector.npy'\u001b[0m\u001b[0;34m)\u001b[0m\u001b[0;34m\u001b[0m\u001b[0;34m\u001b[0m\u001b[0m\n\u001b[0m\u001b[1;32m      2\u001b[0m \u001b[0mprint\u001b[0m\u001b[0;34m(\u001b[0m\u001b[0mlatent_vector\u001b[0m\u001b[0;34m.\u001b[0m\u001b[0mshape\u001b[0m\u001b[0;34m)\u001b[0m\u001b[0;34m\u001b[0m\u001b[0;34m\u001b[0m\u001b[0m\n",
            "\u001b[0;32m/usr/local/lib/python3.6/dist-packages/numpy/lib/npyio.py\u001b[0m in \u001b[0;36mload\u001b[0;34m(file, mmap_mode, allow_pickle, fix_imports, encoding)\u001b[0m\n\u001b[1;32m    434\u001b[0m         \u001b[0m_ZIP_SUFFIX\u001b[0m \u001b[0;34m=\u001b[0m \u001b[0;34mb'PK\\x05\\x06'\u001b[0m \u001b[0;31m# empty zip files start with this\u001b[0m\u001b[0;34m\u001b[0m\u001b[0;34m\u001b[0m\u001b[0m\n\u001b[1;32m    435\u001b[0m         \u001b[0mN\u001b[0m \u001b[0;34m=\u001b[0m \u001b[0mlen\u001b[0m\u001b[0;34m(\u001b[0m\u001b[0mformat\u001b[0m\u001b[0;34m.\u001b[0m\u001b[0mMAGIC_PREFIX\u001b[0m\u001b[0;34m)\u001b[0m\u001b[0;34m\u001b[0m\u001b[0;34m\u001b[0m\u001b[0m\n\u001b[0;32m--> 436\u001b[0;31m         \u001b[0mmagic\u001b[0m \u001b[0;34m=\u001b[0m \u001b[0mfid\u001b[0m\u001b[0;34m.\u001b[0m\u001b[0mread\u001b[0m\u001b[0;34m(\u001b[0m\u001b[0mN\u001b[0m\u001b[0;34m)\u001b[0m\u001b[0;34m\u001b[0m\u001b[0;34m\u001b[0m\u001b[0m\n\u001b[0m\u001b[1;32m    437\u001b[0m         \u001b[0;31m# If the file size is less than N, we need to make sure not\u001b[0m\u001b[0;34m\u001b[0m\u001b[0;34m\u001b[0m\u001b[0;34m\u001b[0m\u001b[0m\n\u001b[1;32m    438\u001b[0m         \u001b[0;31m# to seek past the beginning of the file\u001b[0m\u001b[0;34m\u001b[0m\u001b[0;34m\u001b[0m\u001b[0;34m\u001b[0m\u001b[0m\n",
            "\u001b[0;31mOSError\u001b[0m: [Errno 5] Input/output error"
          ]
        }
      ]
    },
    {
      "cell_type": "code",
      "metadata": {
        "id": "7U85u8egIEh1",
        "colab_type": "code",
        "colab": {
          "base_uri": "https://localhost:8080/",
          "height": 226
        },
        "outputId": "3eeaeeba-2fc2-487b-9cb6-7c53efc55a16"
      },
      "source": [
        "# numpy to pandas\n",
        "\n",
        "import pandas as pd\n",
        "\n",
        "data = pd.DataFrame(data=latent_vector[:, :101])\n",
        "data.head()"
      ],
      "execution_count": null,
      "outputs": [
        {
          "output_type": "error",
          "ename": "NameError",
          "evalue": "ignored",
          "traceback": [
            "\u001b[0;31m---------------------------------------------------------------------------\u001b[0m",
            "\u001b[0;31mNameError\u001b[0m                                 Traceback (most recent call last)",
            "\u001b[0;32m<ipython-input-11-3426210b4fe1>\u001b[0m in \u001b[0;36m<module>\u001b[0;34m()\u001b[0m\n\u001b[1;32m      3\u001b[0m \u001b[0;32mimport\u001b[0m \u001b[0mpandas\u001b[0m \u001b[0;32mas\u001b[0m \u001b[0mpd\u001b[0m\u001b[0;34m\u001b[0m\u001b[0;34m\u001b[0m\u001b[0m\n\u001b[1;32m      4\u001b[0m \u001b[0;34m\u001b[0m\u001b[0m\n\u001b[0;32m----> 5\u001b[0;31m \u001b[0mdata\u001b[0m \u001b[0;34m=\u001b[0m \u001b[0mpd\u001b[0m\u001b[0;34m.\u001b[0m\u001b[0mDataFrame\u001b[0m\u001b[0;34m(\u001b[0m\u001b[0mdata\u001b[0m\u001b[0;34m=\u001b[0m\u001b[0mlatent_vector\u001b[0m\u001b[0;34m[\u001b[0m\u001b[0;34m:\u001b[0m\u001b[0;34m,\u001b[0m \u001b[0;34m:\u001b[0m\u001b[0;36m101\u001b[0m\u001b[0;34m]\u001b[0m\u001b[0;34m)\u001b[0m\u001b[0;34m\u001b[0m\u001b[0;34m\u001b[0m\u001b[0m\n\u001b[0m\u001b[1;32m      6\u001b[0m \u001b[0mdata\u001b[0m\u001b[0;34m.\u001b[0m\u001b[0mhead\u001b[0m\u001b[0;34m(\u001b[0m\u001b[0;34m)\u001b[0m\u001b[0;34m\u001b[0m\u001b[0;34m\u001b[0m\u001b[0m\n",
            "\u001b[0;31mNameError\u001b[0m: name 'latent_vector' is not defined"
          ]
        }
      ]
    },
    {
      "cell_type": "code",
      "metadata": {
        "id": "xyAIRIZfTCVj",
        "colab_type": "code",
        "colab": {
          "base_uri": "https://localhost:8080/",
          "height": 1000
        },
        "outputId": "1d911e75-30da-4496-8033-ab9e8596f6ca"
      },
      "source": [
        "# Test-Voting classifier\n",
        "# https://scikit-learn.org/stable/modules/generated/sklearn.ensemble.RandomForestClassifier.html\n",
        "\n",
        "\n",
        "from sklearn import datasets\n",
        "from sklearn.model_selection import cross_val_score\n",
        "from sklearn.linear_model import LogisticRegression\n",
        "from sklearn.naive_bayes import GaussianNB\n",
        "from sklearn.ensemble import RandomForestClassifier\n",
        "from sklearn.ensemble import VotingClassifier\n",
        "\n",
        "# iris = datasets.load_iris()\n",
        "data = latent_vector  # re-change it to numpy\n",
        "X, y = data[:, 0:100], data[:, 100]\n",
        "\n",
        "clf1 = LogisticRegression(random_state=1)\n",
        "clf2 = RandomForestClassifier(n_estimators=50, random_state=1)\n",
        "clf3 = GaussianNB()\n",
        "\n",
        "eclf = VotingClassifier(\n",
        "         estimators=[('lr', clf1), ('rf', clf2), ('gnb', clf3)],\n",
        "         voting='hard')\n",
        "\n",
        "for clf, label in zip([clf1, clf2, clf3, eclf], ['Logistic Regression', 'Random Forest', 'naive Bayes', 'Ensemble']):\n",
        "     scores = cross_val_score(clf, X, y, scoring='accuracy', cv=5)\n",
        "     print(\"Accuracy: %0.2f (+/- %0.2f) [%s]\" % (scores.mean(), scores.std(), label))\n"
      ],
      "execution_count": null,
      "outputs": [
        {
          "output_type": "stream",
          "text": [
            "/usr/local/lib/python3.6/dist-packages/sklearn/linear_model/_logistic.py:940: ConvergenceWarning: lbfgs failed to converge (status=1):\n",
            "STOP: TOTAL NO. of ITERATIONS REACHED LIMIT.\n",
            "\n",
            "Increase the number of iterations (max_iter) or scale the data as shown in:\n",
            "    https://scikit-learn.org/stable/modules/preprocessing.html\n",
            "Please also refer to the documentation for alternative solver options:\n",
            "    https://scikit-learn.org/stable/modules/linear_model.html#logistic-regression\n",
            "  extra_warning_msg=_LOGISTIC_SOLVER_CONVERGENCE_MSG)\n",
            "/usr/local/lib/python3.6/dist-packages/sklearn/linear_model/_logistic.py:940: ConvergenceWarning: lbfgs failed to converge (status=1):\n",
            "STOP: TOTAL NO. of ITERATIONS REACHED LIMIT.\n",
            "\n",
            "Increase the number of iterations (max_iter) or scale the data as shown in:\n",
            "    https://scikit-learn.org/stable/modules/preprocessing.html\n",
            "Please also refer to the documentation for alternative solver options:\n",
            "    https://scikit-learn.org/stable/modules/linear_model.html#logistic-regression\n",
            "  extra_warning_msg=_LOGISTIC_SOLVER_CONVERGENCE_MSG)\n",
            "/usr/local/lib/python3.6/dist-packages/sklearn/linear_model/_logistic.py:940: ConvergenceWarning: lbfgs failed to converge (status=1):\n",
            "STOP: TOTAL NO. of ITERATIONS REACHED LIMIT.\n",
            "\n",
            "Increase the number of iterations (max_iter) or scale the data as shown in:\n",
            "    https://scikit-learn.org/stable/modules/preprocessing.html\n",
            "Please also refer to the documentation for alternative solver options:\n",
            "    https://scikit-learn.org/stable/modules/linear_model.html#logistic-regression\n",
            "  extra_warning_msg=_LOGISTIC_SOLVER_CONVERGENCE_MSG)\n",
            "/usr/local/lib/python3.6/dist-packages/sklearn/linear_model/_logistic.py:940: ConvergenceWarning: lbfgs failed to converge (status=1):\n",
            "STOP: TOTAL NO. of ITERATIONS REACHED LIMIT.\n",
            "\n",
            "Increase the number of iterations (max_iter) or scale the data as shown in:\n",
            "    https://scikit-learn.org/stable/modules/preprocessing.html\n",
            "Please also refer to the documentation for alternative solver options:\n",
            "    https://scikit-learn.org/stable/modules/linear_model.html#logistic-regression\n",
            "  extra_warning_msg=_LOGISTIC_SOLVER_CONVERGENCE_MSG)\n",
            "/usr/local/lib/python3.6/dist-packages/sklearn/linear_model/_logistic.py:940: ConvergenceWarning: lbfgs failed to converge (status=1):\n",
            "STOP: TOTAL NO. of ITERATIONS REACHED LIMIT.\n",
            "\n",
            "Increase the number of iterations (max_iter) or scale the data as shown in:\n",
            "    https://scikit-learn.org/stable/modules/preprocessing.html\n",
            "Please also refer to the documentation for alternative solver options:\n",
            "    https://scikit-learn.org/stable/modules/linear_model.html#logistic-regression\n",
            "  extra_warning_msg=_LOGISTIC_SOLVER_CONVERGENCE_MSG)\n"
          ],
          "name": "stderr"
        },
        {
          "output_type": "stream",
          "text": [
            "Accuracy: 0.93 (+/- 0.00) [Logistic Regression]\n",
            "Accuracy: 0.94 (+/- 0.00) [Random Forest]\n",
            "Accuracy: 0.93 (+/- 0.00) [naive Bayes]\n"
          ],
          "name": "stdout"
        },
        {
          "output_type": "stream",
          "text": [
            "/usr/local/lib/python3.6/dist-packages/sklearn/linear_model/_logistic.py:940: ConvergenceWarning: lbfgs failed to converge (status=1):\n",
            "STOP: TOTAL NO. of ITERATIONS REACHED LIMIT.\n",
            "\n",
            "Increase the number of iterations (max_iter) or scale the data as shown in:\n",
            "    https://scikit-learn.org/stable/modules/preprocessing.html\n",
            "Please also refer to the documentation for alternative solver options:\n",
            "    https://scikit-learn.org/stable/modules/linear_model.html#logistic-regression\n",
            "  extra_warning_msg=_LOGISTIC_SOLVER_CONVERGENCE_MSG)\n",
            "/usr/local/lib/python3.6/dist-packages/sklearn/linear_model/_logistic.py:940: ConvergenceWarning: lbfgs failed to converge (status=1):\n",
            "STOP: TOTAL NO. of ITERATIONS REACHED LIMIT.\n",
            "\n",
            "Increase the number of iterations (max_iter) or scale the data as shown in:\n",
            "    https://scikit-learn.org/stable/modules/preprocessing.html\n",
            "Please also refer to the documentation for alternative solver options:\n",
            "    https://scikit-learn.org/stable/modules/linear_model.html#logistic-regression\n",
            "  extra_warning_msg=_LOGISTIC_SOLVER_CONVERGENCE_MSG)\n",
            "/usr/local/lib/python3.6/dist-packages/sklearn/linear_model/_logistic.py:940: ConvergenceWarning: lbfgs failed to converge (status=1):\n",
            "STOP: TOTAL NO. of ITERATIONS REACHED LIMIT.\n",
            "\n",
            "Increase the number of iterations (max_iter) or scale the data as shown in:\n",
            "    https://scikit-learn.org/stable/modules/preprocessing.html\n",
            "Please also refer to the documentation for alternative solver options:\n",
            "    https://scikit-learn.org/stable/modules/linear_model.html#logistic-regression\n",
            "  extra_warning_msg=_LOGISTIC_SOLVER_CONVERGENCE_MSG)\n",
            "/usr/local/lib/python3.6/dist-packages/sklearn/linear_model/_logistic.py:940: ConvergenceWarning: lbfgs failed to converge (status=1):\n",
            "STOP: TOTAL NO. of ITERATIONS REACHED LIMIT.\n",
            "\n",
            "Increase the number of iterations (max_iter) or scale the data as shown in:\n",
            "    https://scikit-learn.org/stable/modules/preprocessing.html\n",
            "Please also refer to the documentation for alternative solver options:\n",
            "    https://scikit-learn.org/stable/modules/linear_model.html#logistic-regression\n",
            "  extra_warning_msg=_LOGISTIC_SOLVER_CONVERGENCE_MSG)\n",
            "/usr/local/lib/python3.6/dist-packages/sklearn/linear_model/_logistic.py:940: ConvergenceWarning: lbfgs failed to converge (status=1):\n",
            "STOP: TOTAL NO. of ITERATIONS REACHED LIMIT.\n",
            "\n",
            "Increase the number of iterations (max_iter) or scale the data as shown in:\n",
            "    https://scikit-learn.org/stable/modules/preprocessing.html\n",
            "Please also refer to the documentation for alternative solver options:\n",
            "    https://scikit-learn.org/stable/modules/linear_model.html#logistic-regression\n",
            "  extra_warning_msg=_LOGISTIC_SOLVER_CONVERGENCE_MSG)\n"
          ],
          "name": "stderr"
        },
        {
          "output_type": "stream",
          "text": [
            "Accuracy: 0.94 (+/- 0.00) [Ensemble]\n"
          ],
          "name": "stdout"
        }
      ]
    }
  ]
}