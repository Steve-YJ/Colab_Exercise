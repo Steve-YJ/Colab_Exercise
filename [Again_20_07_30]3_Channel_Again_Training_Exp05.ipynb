{
  "nbformat": 4,
  "nbformat_minor": 0,
  "metadata": {
    "colab": {
      "name": "[Again_20.07.30]3-Channel_Again_Training_Exp05.ipynb",
      "provenance": [],
      "collapsed_sections": [],
      "machine_shape": "hm",
      "authorship_tag": "ABX9TyOdHHeoAtrzy94cqhampifc",
      "include_colab_link": true
    },
    "kernelspec": {
      "name": "python3",
      "display_name": "Python 3"
    },
    "accelerator": "GPU"
  },
  "cells": [
    {
      "cell_type": "markdown",
      "metadata": {
        "id": "view-in-github",
        "colab_type": "text"
      },
      "source": [
        "<a href=\"https://colab.research.google.com/github/Steve-YJ/Colab_Exercise/blob/master/%5BAgain_20_07_30%5D3_Channel_Again_Training_Exp05.ipynb\" target=\"_parent\"><img src=\"https://colab.research.google.com/assets/colab-badge.svg\" alt=\"Open In Colab\"/></a>"
      ]
    },
    {
      "cell_type": "markdown",
      "metadata": {
        "id": "unmaetS6775A",
        "colab_type": "text"
      },
      "source": [
        "# README.MD\n",
        "* Try Again, Fin...Fin...Fin...!!\n",
        "* back to Original Kingma's VAE to Malimg\n",
        "    * optimizer learning rate: 1e-3\n",
        "    * optimizer params: sum\n",
        "* Add \n",
        "    * plot train, test loss\n",
        "        * save it every Epochs\n",
        "    * plot latent vector per 10 Epoch\n",
        "        * save it every 10 Epoch\n",
        "    * save model's state dict per 10 Epoch\n",
        "    * save latent vector per 10 Epoch\n",
        "\n",
        "    * Change plot: add alpha parameter for visualization\n",
        "* ✅ Check Point\n",
        "    * last exp result is not so good... Very pool... :(\n",
        "        * I think it is the limitation of linear combination...\n",
        "    * Train again to get some results\n",
        "    *\n",
        "    \n",
        "* Final Trial\n",
        "    * Train 200 Epoch\n",
        "    * Keep Saving & Training\n",
        "## Reference\n",
        "* Reference repository: https://github.com/pytorch/examples/tree/master/vae\n",
        "\n",
        "* Reference for Visualization: https://github.com/tayden/VAE-Latent-Space-Explorer/blob/master/scripts/VAE.ipynb\n"
      ]
    },
    {
      "cell_type": "code",
      "metadata": {
        "id": "8XiHjsMD8MO2",
        "colab_type": "code",
        "colab": {
          "base_uri": "https://localhost:8080/",
          "height": 377
        },
        "outputId": "17704d9c-4feb-40f9-b4aa-9b0c96851fbd"
      },
      "source": [
        "! nvidia-smi"
      ],
      "execution_count": 1,
      "outputs": [
        {
          "output_type": "stream",
          "text": [
            "Thu Jul 30 09:34:24 2020       \n",
            "+-----------------------------------------------------------------------------+\n",
            "| NVIDIA-SMI 450.51.05    Driver Version: 418.67       CUDA Version: 10.1     |\n",
            "|-------------------------------+----------------------+----------------------+\n",
            "| GPU  Name        Persistence-M| Bus-Id        Disp.A | Volatile Uncorr. ECC |\n",
            "| Fan  Temp  Perf  Pwr:Usage/Cap|         Memory-Usage | GPU-Util  Compute M. |\n",
            "|                               |                      |               MIG M. |\n",
            "|===============================+======================+======================|\n",
            "|   0  Tesla P100-PCIE...  Off  | 00000000:00:04.0 Off |                    0 |\n",
            "| N/A   34C    P0    25W / 250W |      0MiB / 16280MiB |      0%      Default |\n",
            "|                               |                      |                 ERR! |\n",
            "+-------------------------------+----------------------+----------------------+\n",
            "                                                                               \n",
            "+-----------------------------------------------------------------------------+\n",
            "| Processes:                                                                  |\n",
            "|  GPU   GI   CI        PID   Type   Process name                  GPU Memory |\n",
            "|        ID   ID                                                   Usage      |\n",
            "|=============================================================================|\n",
            "|  No running processes found                                                 |\n",
            "+-----------------------------------------------------------------------------+\n"
          ],
          "name": "stdout"
        }
      ]
    },
    {
      "cell_type": "code",
      "metadata": {
        "id": "cDUY6YNV8Vs9",
        "colab_type": "code",
        "colab": {}
      },
      "source": [
        "%load_ext autoreload\n",
        "%autoreload 2"
      ],
      "execution_count": 2,
      "outputs": []
    },
    {
      "cell_type": "code",
      "metadata": {
        "id": "os9GS8R_KCWt",
        "colab_type": "code",
        "colab": {
          "base_uri": "https://localhost:8080/",
          "height": 127
        },
        "outputId": "3a5b4b7b-7c9a-49cf-e1bf-308604b6fb97"
      },
      "source": [
        "# drive mount\n",
        "from google.colab import drive\n",
        "drive.mount('/content/drive', force_remount=True)\n"
      ],
      "execution_count": 3,
      "outputs": [
        {
          "output_type": "stream",
          "text": [
            "Go to this URL in a browser: https://accounts.google.com/o/oauth2/auth?client_id=947318989803-6bn6qk8qdgf4n4g3pfee6491hc0brc4i.apps.googleusercontent.com&redirect_uri=urn%3aietf%3awg%3aoauth%3a2.0%3aoob&response_type=code&scope=email%20https%3a%2f%2fwww.googleapis.com%2fauth%2fdocs.test%20https%3a%2f%2fwww.googleapis.com%2fauth%2fdrive%20https%3a%2f%2fwww.googleapis.com%2fauth%2fdrive.photos.readonly%20https%3a%2f%2fwww.googleapis.com%2fauth%2fpeopleapi.readonly\n",
            "\n",
            "Enter your authorization code:\n",
            "··········\n",
            "Mounted at /content/drive\n"
          ],
          "name": "stdout"
        }
      ]
    },
    {
      "cell_type": "code",
      "metadata": {
        "id": "4XeJBewoLDOr",
        "colab_type": "code",
        "colab": {
          "base_uri": "https://localhost:8080/",
          "height": 53
        },
        "outputId": "744daced-ada5-4fd9-a2ea-445b4a307b6b"
      },
      "source": [
        "%cd drive/My\\ Drive/InfoSec_Summer_part2\n",
        "! pwd"
      ],
      "execution_count": 4,
      "outputs": [
        {
          "output_type": "stream",
          "text": [
            "/content/drive/My Drive/InfoSec_Summer_part2\n",
            "/content/drive/My Drive/InfoSec_Summer_part2\n"
          ],
          "name": "stdout"
        }
      ]
    },
    {
      "cell_type": "markdown",
      "metadata": {
        "id": "QdWHox3JaXdr",
        "colab_type": "text"
      },
      "source": [
        "## 01. Import Library"
      ]
    },
    {
      "cell_type": "code",
      "metadata": {
        "id": "8Dmz78nUKxGx",
        "colab_type": "code",
        "colab": {
          "base_uri": "https://localhost:8080/",
          "height": 73
        },
        "outputId": "202be79d-1bbe-4270-e202-9311203579bd"
      },
      "source": [
        "from PIL import Image\n",
        "%matplotlib inline\n",
        "\n",
        "import matplotlib\n",
        "import matplotlib.pyplot as plt\n",
        "import matplotlib as mpl\n",
        " \n",
        "# https://towardsdatascience.com/visualising-high-dimensional-datasets-using-pca-and-t-sne-in-python-8ef87e7915b\n",
        "import seaborn as sns\n",
        "\n",
        "# save single numpy array\n",
        "# https://numpy.org/doc/stable/reference/generated/numpy.save.html#numpy.save\n",
        "from tempfile import TemporaryFile\n",
        "from sklearn.manifold import TSNE\n",
        "\n",
        "import torch\n",
        "import torch.utils.data\n",
        "\n",
        "from torch import nn, optim\n",
        "from torch.nn import functional as F\n",
        "from torch.autograd import Variable\n",
        "from torch.utils.data import Dataset, DataLoader\n",
        "\n",
        "import numpy as np\n",
        "import pandas as pd\n",
        "\n",
        "import torchvision\n",
        "from torchvision import datasets, transforms\n",
        "from torchvision.utils import save_image"
      ],
      "execution_count": 5,
      "outputs": [
        {
          "output_type": "stream",
          "text": [
            "/usr/local/lib/python3.6/dist-packages/statsmodels/tools/_testing.py:19: FutureWarning: pandas.util.testing is deprecated. Use the functions in the public API at pandas.testing instead.\n",
            "  import pandas.util.testing as tm\n"
          ],
          "name": "stderr"
        }
      ]
    },
    {
      "cell_type": "markdown",
      "metadata": {
        "id": "piAH_1eCafJC",
        "colab_type": "text"
      },
      "source": [
        "## 02. Data Preprocessing\n",
        "* Load dataset\n",
        "* preprocess it\n",
        "    * transforms\n",
        "    * make custom dataset\n",
        "    * train_test split: <code>torch.utils.data.random_split</code>\n",
        "    * train_test_loader\n",
        "\n",
        "### Work Flow\n",
        "* transforms module 사용해서 image data compose 하기\n",
        "    * size 조정, normalize, tensor 변환\n",
        "* ImageFolder를 이용해 dataload\n",
        "* dataset split: train dataset, test dataset\n",
        "* DataLoader로 batch단위 dataset 불러오기"
      ]
    },
    {
      "cell_type": "code",
      "metadata": {
        "id": "05u2akkWKR4x",
        "colab_type": "code",
        "colab": {}
      },
      "source": [
        "transforms = transforms.Compose([\n",
        "                                transforms.Resize((224, 224)),                # Change size of Image to (224, 224)\n",
        "                                transforms.Grayscale(num_output_channels=3),  # Makes it 1-dimension channel\n",
        "                                transforms.ToTensor(),                        # Convert a PIL Image or numpy.ndarray to tensor.\n",
        "                                                                              # Converts a PIL Image or numpy.ndarray (H x W x C) in the range [0, 255] to a torch.FloatTensor of shape (C x H x W) in the range [0.0, 1.0] if the PIL Image belongs to one of the modes (L, LA, P, I, F, RGB, YCbCr, RGBA, CMYK, 1) or if the numpy.ndarray has dtype = np.uint8\n",
        "                                                                              # In the other cases, tensors are returned without scaling.\n",
        "                                # transforms.Normalize(mean=[0.5], std=[0.5]),\n",
        "                                \n",
        "                                ])\n",
        "\n",
        "# make custom dataset\n",
        "trainset = torchvision.datasets.ImageFolder(root='../InformationSecurity_Summer/malimg',\n",
        "                                            transform=transforms)  # make custom dataset"
      ],
      "execution_count": 6,
      "outputs": []
    },
    {
      "cell_type": "code",
      "metadata": {
        "id": "UdfkHTBrgA5U",
        "colab_type": "code",
        "colab": {
          "base_uri": "https://localhost:8080/",
          "height": 179
        },
        "outputId": "cd3de02d-70ff-4b1a-824f-b48ba96a874f"
      },
      "source": [
        "trainset"
      ],
      "execution_count": 7,
      "outputs": [
        {
          "output_type": "execute_result",
          "data": {
            "text/plain": [
              "Dataset ImageFolder\n",
              "    Number of datapoints: 9339\n",
              "    Root location: ../InformationSecurity_Summer/malimg\n",
              "    StandardTransform\n",
              "Transform: Compose(\n",
              "               Resize(size=(224, 224), interpolation=PIL.Image.BILINEAR)\n",
              "               Grayscale(num_output_channels=3)\n",
              "               ToTensor()\n",
              "           )"
            ]
          },
          "metadata": {
            "tags": []
          },
          "execution_count": 7
        }
      ]
    },
    {
      "cell_type": "code",
      "metadata": {
        "id": "lx1-yQH1KutR",
        "colab_type": "code",
        "colab": {
          "base_uri": "https://localhost:8080/",
          "height": 467
        },
        "outputId": "b4289288-f2fd-499e-c6c5-05382b741d56"
      },
      "source": [
        "# classes = trainset.classes\n",
        "classes = trainset.classes\n",
        "classes"
      ],
      "execution_count": 8,
      "outputs": [
        {
          "output_type": "execute_result",
          "data": {
            "text/plain": [
              "['Adialer.C',\n",
              " 'Agent.FYI',\n",
              " 'Allaple.A',\n",
              " 'Allaple.L',\n",
              " 'Alueron.gen!J',\n",
              " 'Autorun.K',\n",
              " 'C2LOP.P',\n",
              " 'C2LOP.gen!g',\n",
              " 'Dialplatform.B',\n",
              " 'Dontovo.A',\n",
              " 'Fakerean',\n",
              " 'Instantaccess',\n",
              " 'Lolyda.AA1',\n",
              " 'Lolyda.AA2',\n",
              " 'Lolyda.AA3',\n",
              " 'Lolyda.AT',\n",
              " 'Malex.gen!J',\n",
              " 'Obfuscator.AD',\n",
              " 'Rbot!gen',\n",
              " 'Skintrim.N',\n",
              " 'Swizzor.gen!E',\n",
              " 'Swizzor.gen!I',\n",
              " 'VB.AT',\n",
              " 'Wintrim.BX',\n",
              " 'Yuner.A']"
            ]
          },
          "metadata": {
            "tags": []
          },
          "execution_count": 8
        }
      ]
    },
    {
      "cell_type": "code",
      "metadata": {
        "id": "mB6yE7h9Lu9A",
        "colab_type": "code",
        "colab": {
          "base_uri": "https://localhost:8080/",
          "height": 35
        },
        "outputId": "211dd50e-53fc-4cbf-e534-c29b45d1a6bd"
      },
      "source": [
        "full_dataset = trainset\n",
        "train_size = int(0.8 * len(full_dataset))\n",
        "test_size = len(full_dataset) - train_size\n",
        "print(train_size, test_size)\n",
        "\n",
        "train_dataset, test_dataset = torch.utils.data.random_split(full_dataset, [train_size, test_size])"
      ],
      "execution_count": 9,
      "outputs": [
        {
          "output_type": "stream",
          "text": [
            "7471 1868\n"
          ],
          "name": "stdout"
        }
      ]
    },
    {
      "cell_type": "code",
      "metadata": {
        "id": "SjrmTM_zbPNm",
        "colab_type": "code",
        "colab": {
          "base_uri": "https://localhost:8080/",
          "height": 53
        },
        "outputId": "0b374693-d9c7-4e34-a596-3437469c37cc"
      },
      "source": [
        "'''\n",
        "for idx, (data, _) in enumerate(test_dataset):\n",
        "    if idx == 5: \n",
        "        break\n",
        "    else:\n",
        "        print(data, _)\n",
        "'''"
      ],
      "execution_count": 10,
      "outputs": [
        {
          "output_type": "execute_result",
          "data": {
            "application/vnd.google.colaboratory.intrinsic+json": {
              "type": "string"
            },
            "text/plain": [
              "'\\nfor idx, (data, _) in enumerate(test_dataset):\\n    if idx == 5: \\n        break\\n    else:\\n        print(data, _)\\n'"
            ]
          },
          "metadata": {
            "tags": []
          },
          "execution_count": 10
        }
      ]
    },
    {
      "cell_type": "code",
      "metadata": {
        "id": "GvaDlRrGLm5N",
        "colab_type": "code",
        "colab": {}
      },
      "source": [
        "train_loader = DataLoader(train_dataset,\n",
        "                         batch_size=16,\n",
        "                         shuffle=True,\n",
        "                         pin_memory=True) \n",
        "test_loader = DataLoader(test_dataset,\n",
        "                        batch_size=16,\n",
        "                        shuffle=True,\n",
        "                        pin_memory=True)  # Instead, we recommend using automatic memory pinning (i.e., setting pin_memory=True)\n",
        "                                          #  which enables fast data transfer to CUDA-enabled GPUs\n",
        "\n",
        "# First, insert all test dataset\n",
        "# test_loader_10: testloader for latent vector visualization\n",
        "test_loader_10 = DataLoader(test_dataset,\n",
        "                        batch_size=1868,\n",
        "                        shuffle=True,\n",
        "                        pin_memory=True)"
      ],
      "execution_count": 11,
      "outputs": []
    },
    {
      "cell_type": "code",
      "metadata": {
        "id": "Hzwh_FveLziU",
        "colab_type": "code",
        "colab": {}
      },
      "source": [
        "def imshow(img):\n",
        "    img = img / 2 + 0.5  # unnormalize\n",
        "    np_img = img.numpy()\n",
        "\n",
        "    plt.imshow(np.transpose(np_img, (1, 2, 0)))  # Convert (C, W, H) to (W, H, C)\n",
        "\n",
        "    print(np_img.shape)  # np_img shape\n",
        "    print((np.transpose(np_img, (1, 2, 0))).shape)  # transposed shape "
      ],
      "execution_count": 12,
      "outputs": []
    },
    {
      "cell_type": "code",
      "metadata": {
        "id": "O7dFOopxMBpA",
        "colab_type": "code",
        "colab": {
          "base_uri": "https://localhost:8080/",
          "height": 35
        },
        "outputId": "827fc9ae-c74d-4248-f040-058086a9f68b"
      },
      "source": [
        "dataiter = iter(train_loader)\n",
        "images, labels = dataiter.next()\n",
        "print(labels)"
      ],
      "execution_count": 13,
      "outputs": [
        {
          "output_type": "stream",
          "text": [
            "tensor([2, 2, 2, 2, 2, 1, 3, 3, 3, 2, 5, 2, 3, 3, 8, 2])\n"
          ],
          "name": "stdout"
        }
      ]
    },
    {
      "cell_type": "code",
      "metadata": {
        "id": "1xkethBEMCzi",
        "colab_type": "code",
        "colab": {
          "base_uri": "https://localhost:8080/",
          "height": 397
        },
        "outputId": "8344204a-a696-47ea-ca40-96c495e5e0c4"
      },
      "source": [
        "print(images.shape)\n",
        "imshow(torchvision.utils.make_grid(images, nrow=4))\n",
        "print(images.shape)\n",
        "print((torchvision.utils.make_grid(images)).shape)\n",
        "print(\"\".join(\"%5s \"%classes[labels[j]] for j in range(16)))"
      ],
      "execution_count": 14,
      "outputs": [
        {
          "output_type": "stream",
          "text": [
            "torch.Size([16, 3, 224, 224])\n",
            "(3, 906, 906)\n",
            "(906, 906, 3)\n",
            "torch.Size([16, 3, 224, 224])\n",
            "torch.Size([3, 454, 1810])\n",
            "Allaple.A Allaple.A Allaple.A Allaple.A Allaple.A Agent.FYI Allaple.L Allaple.L Allaple.L Allaple.A Autorun.K Allaple.A Allaple.L Allaple.L Dialplatform.B Allaple.A \n"
          ],
          "name": "stdout"
        },
        {
          "output_type": "display_data",
          "data": {
            "image/png": "[encoded data removed]",
            "text/plain": [
              "<Figure size 432x288 with 1 Axes>"
            ]
          },
          "metadata": {
            "tags": [],
            "needs_background": "light"
          }
        }
      ]
    },
    {
      "cell_type": "markdown",
      "metadata": {
        "id": "i0K7aSEKd3PD",
        "colab_type": "text"
      },
      "source": [
        "## 03. Define VAE Class\n",
        "* Initialize\n",
        "    * (224, 224) input 이미지를 통해 1차원 100개의 latent vector를 생성하는 Encoder네트워크 정의\n",
        "    * 100개의 latent vector로부터 X_hat을 복원하는 Decoder Network 정의\n",
        "* encode\n",
        "* reparameterize\n",
        "* decode\n",
        "* forward"
      ]
    },
    {
      "cell_type": "code",
      "metadata": {
        "id": "B5HQz_o3MFlu",
        "colab_type": "code",
        "colab": {}
      },
      "source": [
        "device = torch.device(\"cuda\")  # device = torch.device(\"cuda\")\n",
        "\n",
        "class VAE(nn.Module):\n",
        "    def __init__(self):\n",
        "        super(VAE, self).__init__()\n",
        "\n",
        "        self.fc1 = nn.Linear(224*224, 1000)\n",
        "        self.fc21 = nn.Linear(1000, 100)\n",
        "        self.fc22 = nn.Linear(1000, 100)\n",
        "        self.fc3 = nn.Linear(100, 1000)\n",
        "        self.fc4 = nn.Linear(1000, 224*224)\n",
        "\n",
        "    def encode(self, x):\n",
        "        h1 = F.relu(self.fc1(x))\n",
        "        return self.fc21(h1), self.fc22(h1)\n",
        "\n",
        "    def reparameterize(self, mu, logvar):\n",
        "        std = torch.exp(0.5*logvar)\n",
        "        eps = torch.randn_like(std)\n",
        "        return mu + eps*std\n",
        "\n",
        "    def decode(self, z):\n",
        "        h3 = F.relu(self.fc3(z))\n",
        "        return torch.sigmoid(self.fc4(h3))\n",
        "# loss값이 안줄면 sigmoid함수를 제거하고 BCE with Logits Loss를 사용해볼까?\n",
        "# https://nuguziii.github.io/dev/dev-002/\n",
        "\n",
        "    def forward(self, x):\n",
        "        mu, logvar = self.encode(x.view(-1, 224*224))\n",
        "        z = self.reparameterize(mu, logvar)  # z's shape => (batch_size, 100)\n",
        "        return self.decode(z), mu, logvar, z"
      ],
      "execution_count": 21,
      "outputs": []
    },
    {
      "cell_type": "code",
      "metadata": {
        "id": "APz4JQj49Xs_",
        "colab_type": "code",
        "colab": {
          "base_uri": "https://localhost:8080/",
          "height": 143
        },
        "outputId": "8640fa98-6c73-4049-d57b-9ab684cdfb04"
      },
      "source": [
        "model = VAE().to(device)\n",
        "print(model)"
      ],
      "execution_count": 22,
      "outputs": [
        {
          "output_type": "stream",
          "text": [
            "VAE(\n",
            "  (fc1): Linear(in_features=50176, out_features=1000, bias=True)\n",
            "  (fc21): Linear(in_features=1000, out_features=100, bias=True)\n",
            "  (fc22): Linear(in_features=1000, out_features=100, bias=True)\n",
            "  (fc3): Linear(in_features=100, out_features=1000, bias=True)\n",
            "  (fc4): Linear(in_features=1000, out_features=50176, bias=True)\n",
            ")\n"
          ],
          "name": "stdout"
        }
      ]
    },
    {
      "cell_type": "code",
      "metadata": {
        "id": "85s3nFV139Wj",
        "colab_type": "code",
        "colab": {}
      },
      "source": [
        "def get_n_params(model):\n",
        "    pp=0\n",
        "    for p in list(model.parameters()):\n",
        "        nn=1\n",
        "        for s in list(p.size()):\n",
        "            nn = nn*s\n",
        "        pp += nn\n",
        "    return pp"
      ],
      "execution_count": 23,
      "outputs": []
    },
    {
      "cell_type": "code",
      "metadata": {
        "id": "d4C5c-Vq6wTH",
        "colab_type": "code",
        "colab": {
          "base_uri": "https://localhost:8080/",
          "height": 35
        },
        "outputId": "fb2a7858-95e1-4e08-c3cd-8718dfbdcce5"
      },
      "source": [
        "get_n_params(model)  "
      ],
      "execution_count": 24,
      "outputs": [
        {
          "output_type": "execute_result",
          "data": {
            "text/plain": [
              "100704376"
            ]
          },
          "metadata": {
            "tags": []
          },
          "execution_count": 24
        }
      ]
    },
    {
      "cell_type": "markdown",
      "metadata": {
        "id": "ehTMNYpD7EyP",
        "colab_type": "text"
      },
      "source": [
        "*Note*<br>\n",
        "1-milion params.... it is so huge..."
      ]
    },
    {
      "cell_type": "code",
      "metadata": {
        "id": "eGmI2AwE9Z8e",
        "colab_type": "code",
        "colab": {}
      },
      "source": [
        "optimizer = optim.Adam(model.parameters(), lr=1e-5)"
      ],
      "execution_count": 25,
      "outputs": []
    },
    {
      "cell_type": "code",
      "metadata": {
        "id": "iwGox4j89pQb",
        "colab_type": "code",
        "colab": {}
      },
      "source": [
        "# track and save train, test loss through Dictionary\n",
        "# \n",
        "Epoch_Loss = {'train_epoch':[],\n",
        "              'train_loss':[],\n",
        "              'test_epoch':[],\n",
        "              'test_loss':[],\n",
        "              'BCE_loss': [],\n",
        "              'KL_loss': []}\n",
        "\n",
        "# Save & Loading Model for Inference\n",
        "# Reference: https://pytorch.org/tutorials/beginner/saving_loading_models.html\n",
        "\n",
        "# PATH = '/Again_original_Exp01_200-Epoch.pth'\n",
        "\n",
        "PATH = 'Epochs.pth'\n",
        "# latent_vector = np.zeros((16, 100))\n",
        "color_palette = np.zeros((1868))\n"
      ],
      "execution_count": 26,
      "outputs": []
    },
    {
      "cell_type": "code",
      "metadata": {
        "id": "Ov8rrW6kCbES",
        "colab_type": "code",
        "colab": {}
      },
      "source": [
        "# Reconstruction + KL divergence losses summed over all elements and batch\n",
        "def loss_function(recon_x, x, mu, logvar):\n",
        "    BCE = F.binary_cross_entropy(recon_x, x.view(-1, 224*224), reduction='sum')  # (input, target, ... reduction)\n",
        "\n",
        "    # see Appendix B from VAE paper:\n",
        "    # Kingma and Welling. Auto-Encoding Variational Bayes. ICLR, 2014\n",
        "    # https://arxiv.org/abs/1312.6114\n",
        "    # 0.5 * sum(1 + log(sigma^2) - mu^2 - sigma^2)\n",
        "    KLD = -0.5 * torch.sum(1 + logvar - mu.pow(2) - logvar.exp())\n",
        "    Epoch_Loss['BCE_loss'].append(BCE)\n",
        "    Epoch_Loss['KL_loss'].append(KLD)\n",
        "    return BCE + KLD"
      ],
      "execution_count": 27,
      "outputs": []
    },
    {
      "cell_type": "code",
      "metadata": {
        "id": "9khLnNT3MG7a",
        "colab_type": "code",
        "colab": {}
      },
      "source": [
        "def train(epoch):\n",
        "    model.train()\n",
        "    train_loss = 0\n",
        "    # latent_vector = np.zeros(())\n",
        "    # latent_label = 0\n",
        "\n",
        "    for batch_idx, (data, _) in enumerate(train_loader):\n",
        "        data = data.to(device)\n",
        "        optimizer.zero_grad()\n",
        "        recon_batch, mu, logvar, z= model(data)\n",
        "    \n",
        "       \n",
        "        loss = loss_function(recon_batch, data, mu, logvar)\n",
        "        loss.backward()\n",
        "        train_loss += loss.item()\n",
        "        optimizer.step()\n",
        "        if batch_idx % 10 == 0:\n",
        "            print('Train Epoch: {} [{}/{} ({:.0f}%)]\\tLoss: {:.6f}'.format(\n",
        "                epoch, batch_idx * len(data), len(train_loader.dataset),\n",
        "                100. * batch_idx / len(train_loader),\n",
        "                loss.item() / len(data)))\n",
        "\n",
        "    print('====> Epoch: {} Average loss: {:.4f}'.format(\n",
        "          epoch, train_loss / len(train_loader.dataset)))\n",
        "    \n",
        "    Epoch_Loss['train_epoch'].append(epoch)\n",
        "    Epoch_Loss['train_loss'].append(train_loss / len(train_loader.dataset))\n",
        "    # Epoch 마다 모델 저장\n",
        "    torch.save(model.state_dict(), ('./Post_VAE_3ch/model_save_' + str(epoch) + PATH))  # Epoch 단위 parameter 저장\n",
        "\n",
        "def test(epoch):\n",
        "    # 10 Epoch 단위로 작업\n",
        "    # model.state_dict() 저장 및 latent_vector 저장\n",
        "    # plot latent vector\n",
        "    # if epoch % 10 == 0:  # Epoch이 10의 배수일때\n",
        "     # save model.state_dict() per 10 Epochs\n",
        "\n",
        "    model.eval()\n",
        "    test_loss = 0\n",
        "    with torch.no_grad():\n",
        "        for i, (data, _) in enumerate(test_loader):\n",
        "            data = data.to(device)\n",
        "            recon_batch, mu, logvar, z = model(data)\n",
        "            # z vector는 torch type\n",
        "            # latent_vector = z.detach().cpu().clone().numpy()\n",
        "            test_loss += loss_function(recon_batch, data, mu, logvar).item()\n",
        "            if i == 0:\n",
        "                n = min(data.size(0), 8)\n",
        "                comparison = torch.cat([data[:n],\n",
        "                                    recon_batch.view(16, 3, 224, 224)[:n]])\n",
        "                save_image(comparison.cpu(),\n",
        "                        './Post_VAE_3ch/recon_sampling/reconstruction_' + str(epoch) + '.png', nrow=n)\n",
        "    test_loss /= len(test_loader.dataset)\n",
        "    print('====> Test set loss: {:.4f}'.format(test_loss))\n",
        "    Epoch_Loss['test_epoch'].append(epoch)\n",
        "    Epoch_Loss['test_loss'].append(test_loss)\n",
        "        \n",
        "    # save latent vector's every 10 Epoch's\n",
        "    # load_whole test_data \n",
        "    for i, (data, _) in enumerate(test_loader_10):  # load_whole test_data\n",
        "        data = data.to(device)\n",
        "        recon_batch, mu, logvar, z = model(data)\n",
        "    # save latent_vector per 10 Epochs\n",
        "        latent_vector = z.detach().cpu().clone().numpy()  # change tensor type data to cpu().numpy()\n",
        "                                                            # latent_vector_size: (num_of_data, 100)\n",
        "        color_palette = _.detach().cpu().clone().numpy()\n",
        "        with open(('./Post_VAE_3ch/'+str(epoch)+'Epoch_z_vector.npy'), 'wb') as f:\n",
        "            np.save(f, latent_vector)  # but latent vector size is (16, 100).... just 16...\n",
        "                                        # 10 Epoch 단위로 latent vector를 저장한다\n",
        "                                        # 이 떄, latent vector의 size는 test_dataset의 크기가 되어야 한다\n",
        "                                        # 결과값이 좋은 vector는 좋은 feature로 사용할 수 있다.\n",
        "    # plot latent vector Every 10 Epochs\n",
        "    # t-SNE for Dimensionality reduction\n",
        "    Z_embedded = TSNE(n_components=2).fit_transform(latent_vector)\n",
        "    \n",
        "    fig, ax = plt.subplots(1, 1, figsize=(6, 6))  # setup the plot\n",
        "\n",
        "    x = Z_embedded[:, 0]\n",
        "    y = Z_embedded[:, 1]\n",
        "    label = color_palette\n",
        "    # label[10:12] = 0  # make sure there are some 0 values to show up as grey\n",
        "    print(\"==\"*20, \"params\", \"==\"*20)\n",
        "    print(\"Z_embedded.shape:\", Z_embedded.shape)\n",
        "    print(\"label.shape:\", label.shape)\n",
        "    # tsne_data = np.vstack((Z_embedded, label))\n",
        "    tsne_data = np.c_[Z_embedded, label]\n",
        "    tsne_df = pd.DataFrame(data=tsne_data, columns=(\"Dim_1\", \"Dim_2\", \"label\"))\n",
        "    sns.FacetGrid(tsne_df, hue=\"label\", size=6).map(plt.scatter, 'Dim_1', 'Dim_2').add_legend()\n",
        "    plt.savefig('./Post_VAE_3ch/plot_latent_vector/' + str(epoch) + '_t_SNE.png', dpi=300)\n",
        "    plt.show()\n"
      ],
      "execution_count": 28,
      "outputs": []
    },
    {
      "cell_type": "markdown",
      "metadata": {
        "id": "NEC7SFANZODp",
        "colab_type": "text"
      },
      "source": [
        "*Notice*<br>\n",
        "Train Again!<br>\n",
        "Change BCE loss param_reduction to 'sum'"
      ]
    },
    {
      "cell_type": "code",
      "metadata": {
        "id": "_RlJbqlOMI4G",
        "colab_type": "code",
        "colab": {
          "base_uri": "https://localhost:8080/",
          "height": 1000
        },
        "outputId": "fe1dbeba-22fc-4413-db94-ace378c47954"
      },
      "source": [
        "epochs = 60\n",
        "\n",
        "for epoch in range(1, epochs + 1):\n",
        "        print(epoch)\n",
        "        train(epoch)\n",
        "        test(epoch)\n",
        "        # https://stackoverflow.com/questions/40766909/suggestions-to-plot-overlapping-lines-in-matplotlib\n",
        "        plt.plot(Epoch_Loss['train_epoch'],Epoch_Loss['train_loss'], label=\"train_loss\", alpha=0.7)\n",
        "        plt.plot(Epoch_Loss['test_epoch'],Epoch_Loss['test_loss'], label=\"test_loss\", alpha=0.5)\n",
        "        plt.xlabel('Epochs')\n",
        "        plt.ylabel('Loss Score')\n",
        "        plt.title('Train_Test_Loss')\n",
        "        plt.legend()\n",
        "        plt.savefig('./Post_VAE_3ch/plot_train_test_loss/'+str(epoch)+'_epoch.png', dpi=300)\n",
        "        plt.show()\n",
        "\n",
        "        with torch.no_grad():\n",
        "            sample = torch.randn(64, 100).to(device)\n",
        "            sample = model.decode(sample).cpu()\n",
        "            save_image(sample.view(64, 3, 224, 224),\n",
        "                       './Post_VAE_3ch/recon_sampling/sampling_' + str(epoch) + '.png')"
      ],
      "execution_count": 29,
      "outputs": [
        {
          "output_type": "stream",
          "text": [
            "1\n",
            "Train Epoch: 1 [0/7471 (0%)]\tLoss: 105404.937500\n",
            "Train Epoch: 1 [160/7471 (2%)]\tLoss: 104810.929688\n",
            "Train Epoch: 1 [320/7471 (4%)]\tLoss: 104659.554688\n",
            "Train Epoch: 1 [480/7471 (6%)]\tLoss: 104545.359375\n",
            "Train Epoch: 1 [640/7471 (9%)]\tLoss: 104457.093750\n",
            "Train Epoch: 1 [800/7471 (11%)]\tLoss: 104279.429688\n",
            "Train Epoch: 1 [960/7471 (13%)]\tLoss: 104174.054688\n",
            "Train Epoch: 1 [1120/7471 (15%)]\tLoss: 104391.539062\n",
            "Train Epoch: 1 [1280/7471 (17%)]\tLoss: 104253.781250\n",
            "Train Epoch: 1 [1440/7471 (19%)]\tLoss: 104417.500000\n",
            "Train Epoch: 1 [1600/7471 (21%)]\tLoss: 103908.281250\n",
            "Train Epoch: 1 [1760/7471 (24%)]\tLoss: 104189.820312\n",
            "Train Epoch: 1 [1920/7471 (26%)]\tLoss: 103575.554688\n",
            "Train Epoch: 1 [2080/7471 (28%)]\tLoss: 103705.375000\n",
            "Train Epoch: 1 [2240/7471 (30%)]\tLoss: 103629.273438\n",
            "Train Epoch: 1 [2400/7471 (32%)]\tLoss: 103834.304688\n",
            "Train Epoch: 1 [2560/7471 (34%)]\tLoss: 103538.843750\n",
            "Train Epoch: 1 [2720/7471 (36%)]\tLoss: 103756.406250\n",
            "Train Epoch: 1 [2880/7471 (39%)]\tLoss: 103347.164062\n",
            "Train Epoch: 1 [3040/7471 (41%)]\tLoss: 103286.546875\n",
            "Train Epoch: 1 [3200/7471 (43%)]\tLoss: 103885.679688\n",
            "Train Epoch: 1 [3360/7471 (45%)]\tLoss: 102702.179688\n",
            "Train Epoch: 1 [3520/7471 (47%)]\tLoss: 103286.867188\n",
            "Train Epoch: 1 [3680/7471 (49%)]\tLoss: 103208.453125\n",
            "Train Epoch: 1 [3840/7471 (51%)]\tLoss: 103236.710938\n",
            "Train Epoch: 1 [4000/7471 (54%)]\tLoss: 101929.992188\n",
            "Train Epoch: 1 [4160/7471 (56%)]\tLoss: 102830.484375\n",
            "Train Epoch: 1 [4320/7471 (58%)]\tLoss: 102297.585938\n",
            "Train Epoch: 1 [4480/7471 (60%)]\tLoss: 100942.000000\n",
            "Train Epoch: 1 [4640/7471 (62%)]\tLoss: 102719.406250\n",
            "Train Epoch: 1 [4800/7471 (64%)]\tLoss: 103947.867188\n",
            "Train Epoch: 1 [4960/7471 (66%)]\tLoss: 102525.617188\n",
            "Train Epoch: 1 [5120/7471 (69%)]\tLoss: 99707.960938\n",
            "Train Epoch: 1 [5280/7471 (71%)]\tLoss: 102644.562500\n",
            "Train Epoch: 1 [5440/7471 (73%)]\tLoss: 101597.953125\n",
            "Train Epoch: 1 [5600/7471 (75%)]\tLoss: 102559.804688\n",
            "Train Epoch: 1 [5760/7471 (77%)]\tLoss: 102908.671875\n",
            "Train Epoch: 1 [5920/7471 (79%)]\tLoss: 101827.031250\n",
            "Train Epoch: 1 [6080/7471 (81%)]\tLoss: 102854.898438\n",
            "Train Epoch: 1 [6240/7471 (84%)]\tLoss: 103646.062500\n",
            "Train Epoch: 1 [6400/7471 (86%)]\tLoss: 102315.210938\n",
            "Train Epoch: 1 [6560/7471 (88%)]\tLoss: 102299.804688\n",
            "Train Epoch: 1 [6720/7471 (90%)]\tLoss: 102017.726562\n",
            "Train Epoch: 1 [6880/7471 (92%)]\tLoss: 99874.593750\n",
            "Train Epoch: 1 [7040/7471 (94%)]\tLoss: 102569.992188\n",
            "Train Epoch: 1 [7200/7471 (96%)]\tLoss: 103545.000000\n",
            "Train Epoch: 1 [7360/7471 (99%)]\tLoss: 102876.718750\n",
            "====> Epoch: 1 Average loss: 102981.5548\n",
            "====> Test set loss: 101759.8409\n",
            "======================================== params ========================================\n",
            "Z_embedded.shape: (5604, 2)\n",
            "label.shape: (1868,)\n"
          ],
          "name": "stdout"
        },
        {
          "output_type": "error",
          "ename": "ValueError",
          "evalue": "ignored",
          "traceback": [
            "\u001b[0;31m---------------------------------------------------------------------------\u001b[0m",
            "\u001b[0;31mValueError\u001b[0m                                Traceback (most recent call last)",
            "\u001b[0;32m<ipython-input-29-04f3d7c5172a>\u001b[0m in \u001b[0;36m<module>\u001b[0;34m()\u001b[0m\n\u001b[1;32m      4\u001b[0m         \u001b[0mprint\u001b[0m\u001b[0;34m(\u001b[0m\u001b[0mepoch\u001b[0m\u001b[0;34m)\u001b[0m\u001b[0;34m\u001b[0m\u001b[0;34m\u001b[0m\u001b[0m\n\u001b[1;32m      5\u001b[0m         \u001b[0mtrain\u001b[0m\u001b[0;34m(\u001b[0m\u001b[0mepoch\u001b[0m\u001b[0;34m)\u001b[0m\u001b[0;34m\u001b[0m\u001b[0;34m\u001b[0m\u001b[0m\n\u001b[0;32m----> 6\u001b[0;31m         \u001b[0mtest\u001b[0m\u001b[0;34m(\u001b[0m\u001b[0mepoch\u001b[0m\u001b[0;34m)\u001b[0m\u001b[0;34m\u001b[0m\u001b[0;34m\u001b[0m\u001b[0m\n\u001b[0m\u001b[1;32m      7\u001b[0m         \u001b[0;31m# https://stackoverflow.com/questions/40766909/suggestions-to-plot-overlapping-lines-in-matplotlib\u001b[0m\u001b[0;34m\u001b[0m\u001b[0;34m\u001b[0m\u001b[0;34m\u001b[0m\u001b[0m\n\u001b[1;32m      8\u001b[0m         \u001b[0mplt\u001b[0m\u001b[0;34m.\u001b[0m\u001b[0mplot\u001b[0m\u001b[0;34m(\u001b[0m\u001b[0mEpoch_Loss\u001b[0m\u001b[0;34m[\u001b[0m\u001b[0;34m'train_epoch'\u001b[0m\u001b[0;34m]\u001b[0m\u001b[0;34m,\u001b[0m\u001b[0mEpoch_Loss\u001b[0m\u001b[0;34m[\u001b[0m\u001b[0;34m'train_loss'\u001b[0m\u001b[0;34m]\u001b[0m\u001b[0;34m,\u001b[0m \u001b[0mlabel\u001b[0m\u001b[0;34m=\u001b[0m\u001b[0;34m\"train_loss\"\u001b[0m\u001b[0;34m,\u001b[0m \u001b[0malpha\u001b[0m\u001b[0;34m=\u001b[0m\u001b[0;36m0.7\u001b[0m\u001b[0;34m)\u001b[0m\u001b[0;34m\u001b[0m\u001b[0;34m\u001b[0m\u001b[0m\n",
            "\u001b[0;32m<ipython-input-28-418dcd39f684>\u001b[0m in \u001b[0;36mtest\u001b[0;34m(epoch)\u001b[0m\n\u001b[1;32m     84\u001b[0m     \u001b[0mprint\u001b[0m\u001b[0;34m(\u001b[0m\u001b[0;34m\"label.shape:\"\u001b[0m\u001b[0;34m,\u001b[0m \u001b[0mlabel\u001b[0m\u001b[0;34m.\u001b[0m\u001b[0mshape\u001b[0m\u001b[0;34m)\u001b[0m\u001b[0;34m\u001b[0m\u001b[0;34m\u001b[0m\u001b[0m\n\u001b[1;32m     85\u001b[0m     \u001b[0;31m# tsne_data = np.vstack((Z_embedded, label))\u001b[0m\u001b[0;34m\u001b[0m\u001b[0;34m\u001b[0m\u001b[0;34m\u001b[0m\u001b[0m\n\u001b[0;32m---> 86\u001b[0;31m     \u001b[0mtsne_data\u001b[0m \u001b[0;34m=\u001b[0m \u001b[0mnp\u001b[0m\u001b[0;34m.\u001b[0m\u001b[0mc_\u001b[0m\u001b[0;34m[\u001b[0m\u001b[0mZ_embedded\u001b[0m\u001b[0;34m,\u001b[0m \u001b[0mlabel\u001b[0m\u001b[0;34m]\u001b[0m\u001b[0;34m\u001b[0m\u001b[0;34m\u001b[0m\u001b[0m\n\u001b[0m\u001b[1;32m     87\u001b[0m     \u001b[0mtsne_df\u001b[0m \u001b[0;34m=\u001b[0m \u001b[0mpd\u001b[0m\u001b[0;34m.\u001b[0m\u001b[0mDataFrame\u001b[0m\u001b[0;34m(\u001b[0m\u001b[0mdata\u001b[0m\u001b[0;34m=\u001b[0m\u001b[0mtsne_data\u001b[0m\u001b[0;34m,\u001b[0m \u001b[0mcolumns\u001b[0m\u001b[0;34m=\u001b[0m\u001b[0;34m(\u001b[0m\u001b[0;34m\"Dim_1\"\u001b[0m\u001b[0;34m,\u001b[0m \u001b[0;34m\"Dim_2\"\u001b[0m\u001b[0;34m,\u001b[0m \u001b[0;34m\"label\"\u001b[0m\u001b[0;34m)\u001b[0m\u001b[0;34m)\u001b[0m\u001b[0;34m\u001b[0m\u001b[0;34m\u001b[0m\u001b[0m\n\u001b[1;32m     88\u001b[0m     \u001b[0msns\u001b[0m\u001b[0;34m.\u001b[0m\u001b[0mFacetGrid\u001b[0m\u001b[0;34m(\u001b[0m\u001b[0mtsne_df\u001b[0m\u001b[0;34m,\u001b[0m \u001b[0mhue\u001b[0m\u001b[0;34m=\u001b[0m\u001b[0;34m\"label\"\u001b[0m\u001b[0;34m,\u001b[0m \u001b[0msize\u001b[0m\u001b[0;34m=\u001b[0m\u001b[0;36m6\u001b[0m\u001b[0;34m)\u001b[0m\u001b[0;34m.\u001b[0m\u001b[0mmap\u001b[0m\u001b[0;34m(\u001b[0m\u001b[0mplt\u001b[0m\u001b[0;34m.\u001b[0m\u001b[0mscatter\u001b[0m\u001b[0;34m,\u001b[0m \u001b[0;34m'Dim_1'\u001b[0m\u001b[0;34m,\u001b[0m \u001b[0;34m'Dim_2'\u001b[0m\u001b[0;34m)\u001b[0m\u001b[0;34m.\u001b[0m\u001b[0madd_legend\u001b[0m\u001b[0;34m(\u001b[0m\u001b[0;34m)\u001b[0m\u001b[0;34m\u001b[0m\u001b[0;34m\u001b[0m\u001b[0m\n",
            "\u001b[0;32m/usr/local/lib/python3.6/dist-packages/numpy/lib/index_tricks.py\u001b[0m in \u001b[0;36m__getitem__\u001b[0;34m(self, key)\u001b[0m\n\u001b[1;32m    404\u001b[0m                 \u001b[0mobjs\u001b[0m\u001b[0;34m[\u001b[0m\u001b[0mk\u001b[0m\u001b[0;34m]\u001b[0m \u001b[0;34m=\u001b[0m \u001b[0mobjs\u001b[0m\u001b[0;34m[\u001b[0m\u001b[0mk\u001b[0m\u001b[0;34m]\u001b[0m\u001b[0;34m.\u001b[0m\u001b[0mastype\u001b[0m\u001b[0;34m(\u001b[0m\u001b[0mfinal_dtype\u001b[0m\u001b[0;34m)\u001b[0m\u001b[0;34m\u001b[0m\u001b[0;34m\u001b[0m\u001b[0m\n\u001b[1;32m    405\u001b[0m \u001b[0;34m\u001b[0m\u001b[0m\n\u001b[0;32m--> 406\u001b[0;31m         \u001b[0mres\u001b[0m \u001b[0;34m=\u001b[0m \u001b[0mself\u001b[0m\u001b[0;34m.\u001b[0m\u001b[0mconcatenate\u001b[0m\u001b[0;34m(\u001b[0m\u001b[0mtuple\u001b[0m\u001b[0;34m(\u001b[0m\u001b[0mobjs\u001b[0m\u001b[0;34m)\u001b[0m\u001b[0;34m,\u001b[0m \u001b[0maxis\u001b[0m\u001b[0;34m=\u001b[0m\u001b[0maxis\u001b[0m\u001b[0;34m)\u001b[0m\u001b[0;34m\u001b[0m\u001b[0;34m\u001b[0m\u001b[0m\n\u001b[0m\u001b[1;32m    407\u001b[0m \u001b[0;34m\u001b[0m\u001b[0m\n\u001b[1;32m    408\u001b[0m         \u001b[0;32mif\u001b[0m \u001b[0mmatrix\u001b[0m\u001b[0;34m:\u001b[0m\u001b[0;34m\u001b[0m\u001b[0;34m\u001b[0m\u001b[0m\n",
            "\u001b[0;32m<__array_function__ internals>\u001b[0m in \u001b[0;36mconcatenate\u001b[0;34m(*args, **kwargs)\u001b[0m\n",
            "\u001b[0;31mValueError\u001b[0m: all the input array dimensions for the concatenation axis must match exactly, but along dimension 0, the array at index 0 has size 5604 and the array at index 1 has size 1868"
          ]
        },
        {
          "output_type": "display_data",
          "data": {
            "image/png": "[encoded data removed]",
            "text/plain": [
              "<Figure size 432x432 with 1 Axes>"
            ]
          },
          "metadata": {
            "tags": [],
            "needs_background": "light"
          }
        }
      ]
    },
    {
      "cell_type": "markdown",
      "metadata": {
        "id": "Ql5xAopxhREq",
        "colab_type": "text"
      },
      "source": [
        "### Training 일지\n",
        "\n",
        "1. 생각보다 초기 학습이 잘 되고 있는 것 같다?!\n",
        " "
      ]
    },
    {
      "cell_type": "code",
      "metadata": {
        "id": "er-LCOkwZAGP",
        "colab_type": "code",
        "colab": {}
      },
      "source": [
        ""
      ],
      "execution_count": null,
      "outputs": []
    }
  ]
}