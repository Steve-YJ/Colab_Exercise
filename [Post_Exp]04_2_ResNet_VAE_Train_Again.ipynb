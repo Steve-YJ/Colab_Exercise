{
  "nbformat": 4,
  "nbformat_minor": 0,
  "metadata": {
    "colab": {
      "name": "[Post_Exp]04-2.ResNet-VAE_Train_Again.ipynb",
      "provenance": [],
      "collapsed_sections": [],
      "machine_shape": "hm",
      "authorship_tag": "ABX9TyM+6AL375+0KZdIiatbKInO",
      "include_colab_link": true
    },
    "kernelspec": {
      "name": "python3",
      "display_name": "Python 3"
    },
    "accelerator": "GPU",
    "widgets": {
      "application/vnd.jupyter.widget-state+json": {
        "b1b1b759a39141dea5fde61722f115c6": {
          "model_module": "@jupyter-widgets/controls",
          "model_name": "HBoxModel",
          "state": {
            "_view_name": "HBoxView",
            "_dom_classes": [],
            "_model_name": "HBoxModel",
            "_view_module": "@jupyter-widgets/controls",
            "_model_module_version": "1.5.0",
            "_view_count": null,
            "_view_module_version": "1.5.0",
            "box_style": "",
            "layout": "IPY_MODEL_39e7459d77a6476798be8f228812a648",
            "_model_module": "@jupyter-widgets/controls",
            "children": [
              "IPY_MODEL_025bea0de44844d280c16ef0bdbd8f8b",
              "IPY_MODEL_0d6a9ad4f9dd406898402d8d750763f5"
            ]
          }
        },
        "39e7459d77a6476798be8f228812a648": {
          "model_module": "@jupyter-widgets/base",
          "model_name": "LayoutModel",
          "state": {
            "_view_name": "LayoutView",
            "grid_template_rows": null,
            "right": null,
            "justify_content": null,
            "_view_module": "@jupyter-widgets/base",
            "overflow": null,
            "_model_module_version": "1.2.0",
            "_view_count": null,
            "flex_flow": null,
            "width": null,
            "min_width": null,
            "border": null,
            "align_items": null,
            "bottom": null,
            "_model_module": "@jupyter-widgets/base",
            "top": null,
            "grid_column": null,
            "overflow_y": null,
            "overflow_x": null,
            "grid_auto_flow": null,
            "grid_area": null,
            "grid_template_columns": null,
            "flex": null,
            "_model_name": "LayoutModel",
            "justify_items": null,
            "grid_row": null,
            "max_height": null,
            "align_content": null,
            "visibility": null,
            "align_self": null,
            "height": null,
            "min_height": null,
            "padding": null,
            "grid_auto_rows": null,
            "grid_gap": null,
            "max_width": null,
            "order": null,
            "_view_module_version": "1.2.0",
            "grid_template_areas": null,
            "object_position": null,
            "object_fit": null,
            "grid_auto_columns": null,
            "margin": null,
            "display": null,
            "left": null
          }
        },
        "025bea0de44844d280c16ef0bdbd8f8b": {
          "model_module": "@jupyter-widgets/controls",
          "model_name": "FloatProgressModel",
          "state": {
            "_view_name": "ProgressView",
            "style": "IPY_MODEL_192bb0916eaa4a8292cb24d545c01979",
            "_dom_classes": [],
            "description": "100%",
            "_model_name": "FloatProgressModel",
            "bar_style": "success",
            "max": 241530880,
            "_view_module": "@jupyter-widgets/controls",
            "_model_module_version": "1.5.0",
            "value": 241530880,
            "_view_count": null,
            "_view_module_version": "1.5.0",
            "orientation": "horizontal",
            "min": 0,
            "description_tooltip": null,
            "_model_module": "@jupyter-widgets/controls",
            "layout": "IPY_MODEL_b4a59e23ce024abbaa6da25f393f7380"
          }
        },
        "0d6a9ad4f9dd406898402d8d750763f5": {
          "model_module": "@jupyter-widgets/controls",
          "model_name": "HTMLModel",
          "state": {
            "_view_name": "HTMLView",
            "style": "IPY_MODEL_b3d1e14953464b92a737d1e78161d7f5",
            "_dom_classes": [],
            "description": "",
            "_model_name": "HTMLModel",
            "placeholder": "​",
            "_view_module": "@jupyter-widgets/controls",
            "_model_module_version": "1.5.0",
            "value": " 230M/230M [00:04&lt;00:00, 48.6MB/s]",
            "_view_count": null,
            "_view_module_version": "1.5.0",
            "description_tooltip": null,
            "_model_module": "@jupyter-widgets/controls",
            "layout": "IPY_MODEL_e8c6bef4af494f889319843b0035a91f"
          }
        },
        "192bb0916eaa4a8292cb24d545c01979": {
          "model_module": "@jupyter-widgets/controls",
          "model_name": "ProgressStyleModel",
          "state": {
            "_view_name": "StyleView",
            "_model_name": "ProgressStyleModel",
            "description_width": "initial",
            "_view_module": "@jupyter-widgets/base",
            "_model_module_version": "1.5.0",
            "_view_count": null,
            "_view_module_version": "1.2.0",
            "bar_color": null,
            "_model_module": "@jupyter-widgets/controls"
          }
        },
        "b4a59e23ce024abbaa6da25f393f7380": {
          "model_module": "@jupyter-widgets/base",
          "model_name": "LayoutModel",
          "state": {
            "_view_name": "LayoutView",
            "grid_template_rows": null,
            "right": null,
            "justify_content": null,
            "_view_module": "@jupyter-widgets/base",
            "overflow": null,
            "_model_module_version": "1.2.0",
            "_view_count": null,
            "flex_flow": null,
            "width": null,
            "min_width": null,
            "border": null,
            "align_items": null,
            "bottom": null,
            "_model_module": "@jupyter-widgets/base",
            "top": null,
            "grid_column": null,
            "overflow_y": null,
            "overflow_x": null,
            "grid_auto_flow": null,
            "grid_area": null,
            "grid_template_columns": null,
            "flex": null,
            "_model_name": "LayoutModel",
            "justify_items": null,
            "grid_row": null,
            "max_height": null,
            "align_content": null,
            "visibility": null,
            "align_self": null,
            "height": null,
            "min_height": null,
            "padding": null,
            "grid_auto_rows": null,
            "grid_gap": null,
            "max_width": null,
            "order": null,
            "_view_module_version": "1.2.0",
            "grid_template_areas": null,
            "object_position": null,
            "object_fit": null,
            "grid_auto_columns": null,
            "margin": null,
            "display": null,
            "left": null
          }
        },
        "b3d1e14953464b92a737d1e78161d7f5": {
          "model_module": "@jupyter-widgets/controls",
          "model_name": "DescriptionStyleModel",
          "state": {
            "_view_name": "StyleView",
            "_model_name": "DescriptionStyleModel",
            "description_width": "",
            "_view_module": "@jupyter-widgets/base",
            "_model_module_version": "1.5.0",
            "_view_count": null,
            "_view_module_version": "1.2.0",
            "_model_module": "@jupyter-widgets/controls"
          }
        },
        "e8c6bef4af494f889319843b0035a91f": {
          "model_module": "@jupyter-widgets/base",
          "model_name": "LayoutModel",
          "state": {
            "_view_name": "LayoutView",
            "grid_template_rows": null,
            "right": null,
            "justify_content": null,
            "_view_module": "@jupyter-widgets/base",
            "overflow": null,
            "_model_module_version": "1.2.0",
            "_view_count": null,
            "flex_flow": null,
            "width": null,
            "min_width": null,
            "border": null,
            "align_items": null,
            "bottom": null,
            "_model_module": "@jupyter-widgets/base",
            "top": null,
            "grid_column": null,
            "overflow_y": null,
            "overflow_x": null,
            "grid_auto_flow": null,
            "grid_area": null,
            "grid_template_columns": null,
            "flex": null,
            "_model_name": "LayoutModel",
            "justify_items": null,
            "grid_row": null,
            "max_height": null,
            "align_content": null,
            "visibility": null,
            "align_self": null,
            "height": null,
            "min_height": null,
            "padding": null,
            "grid_auto_rows": null,
            "grid_gap": null,
            "max_width": null,
            "order": null,
            "_view_module_version": "1.2.0",
            "grid_template_areas": null,
            "object_position": null,
            "object_fit": null,
            "grid_auto_columns": null,
            "margin": null,
            "display": null,
            "left": null
          }
        }
      }
    }
  },
  "cells": [
    {
      "cell_type": "markdown",
      "metadata": {
        "id": "view-in-github",
        "colab_type": "text"
      },
      "source": [
        "<a href=\"https://colab.research.google.com/github/Steve-YJ/Colab_Exercise/blob/master/%5BPost_Exp%5D04_2_ResNet_VAE_Train_Again.ipynb\" target=\"_parent\"><img src=\"https://colab.research.google.com/assets/colab-badge.svg\" alt=\"Open In Colab\"/></a>"
      ]
    },
    {
      "cell_type": "markdown",
      "metadata": {
        "id": "BF2mQr8fdBJE",
        "colab_type": "text"
      },
      "source": [
        "# README.MD\n",
        "\n",
        "* Post-InfoSec-Exp\n",
        "* 01. Tutorial-ResNet-VAE\n",
        "\n",
        "\n",
        "* ✅ Check Point\n",
        "    * resuts_Malimg의 1Epoch값을 가져와서 학습시켜보자\n",
        "        * 1Epoch을 가져오려했으나... 10정도가 좋다고 재판단\n",
        "    * 결과값은 분명 좋을 것이다\n",
        "    * 학습 결과 저장 및 Plot들도 잘 저장할 수 있도록 한다!"
      ]
    },
    {
      "cell_type": "markdown",
      "metadata": {
        "id": "RcIG0ad7a63U",
        "colab_type": "text"
      },
      "source": [
        "* mount drive"
      ]
    },
    {
      "cell_type": "code",
      "metadata": {
        "id": "-vbYVvoNa35z",
        "colab_type": "code",
        "colab": {
          "base_uri": "https://localhost:8080/",
          "height": 127
        },
        "outputId": "5a952cf6-b910-4682-c61f-81406f35e5a2"
      },
      "source": [
        "# drive mount\n",
        "\n",
        "from google.colab import drive\n",
        "drive.mount('/content/drive', force_remount=True)"
      ],
      "execution_count": null,
      "outputs": [
        {
          "output_type": "stream",
          "text": [
            "Go to this URL in a browser: https://accounts.google.com/o/oauth2/auth?client_id=947318989803-6bn6qk8qdgf4n4g3pfee6491hc0brc4i.apps.googleusercontent.com&redirect_uri=urn%3aietf%3awg%3aoauth%3a2.0%3aoob&response_type=code&scope=email%20https%3a%2f%2fwww.googleapis.com%2fauth%2fdocs.test%20https%3a%2f%2fwww.googleapis.com%2fauth%2fdrive%20https%3a%2f%2fwww.googleapis.com%2fauth%2fdrive.photos.readonly%20https%3a%2f%2fwww.googleapis.com%2fauth%2fpeopleapi.readonly\n",
            "\n",
            "Enter your authorization code:\n",
            "··········\n",
            "Mounted at /content/drive\n"
          ],
          "name": "stdout"
        }
      ]
    },
    {
      "cell_type": "code",
      "metadata": {
        "id": "w2t5puLibOGo",
        "colab_type": "code",
        "colab": {}
      },
      "source": [
        "%load_ext autoreload\n",
        "%autoreload 2"
      ],
      "execution_count": null,
      "outputs": []
    },
    {
      "cell_type": "code",
      "metadata": {
        "id": "5lGGE4xtb59M",
        "colab_type": "code",
        "colab": {
          "base_uri": "https://localhost:8080/",
          "height": 575
        },
        "outputId": "ca63393d-fe70-47cf-c0fb-efb01cf3ded2"
      },
      "source": [
        "%cd drive/My\\ Drive/Post_InfoSec_Exps/ResNet-VAE/ResNetVAE-master.zip (Unzipped Files)/ResNetVAE-master\n",
        "! ls"
      ],
      "execution_count": null,
      "outputs": [
        {
          "output_type": "stream",
          "text": [
            "/content/drive/My Drive/Post_InfoSec_Exps/ResNet-VAE/ResNetVAE-master.zip (Unzipped Files)/ResNetVAE-master\n",
            "'01.Tutorial-ResNet-VAE.ipynb의 사본'\n",
            " 01.Tutorial-ResNet-VAE-Recon.ipynb\n",
            " 02.Tutorial-ResNet-VAE-Tunning.ipynb\n",
            " 03.Tutorial-ResNet-VAE-Tunning.ipynb\n",
            "'03.Tutorial-ResNet-VAE-Tunning.ipynb의 사본'\n",
            "'04.Post-01.Tutorial-ResNet-VAE.ipynb사본의 사본'\n",
            "'05.Post-01.Tutorial-ResNet-VAE_Train_Again.ipynb의 사본'\n",
            " fig\n",
            " generated_Malimg.png\n",
            " modules.py\n",
            " plot_latent.ipynb\n",
            " plot_latent_vector\n",
            " plot_train_test_loss\n",
            "'[Post_Exp]04-2.ResNet-VAE_Train_Again.ipynb'\n",
            "'[Post_Exp]05-2.ResNet-VAE_Reduce_lr.ipynb'\n",
            " __pycache__\n",
            " README.md\n",
            " recon_sampling\n",
            " reconstruction_Malimg.png\n",
            " ResNetVAE_cifar10.py\n",
            " ResNetVAE_FACE.py\n",
            " ResNetVAE_MNIST.py\n",
            " ResNetVAE_reconstruction.ipynb\n",
            " results_Malimg\n",
            " results_Malimg_Exp2\n",
            " results_Malimg_Exp3\n",
            " results_Malimg_Exp4\n",
            " results_Malimg_Exp4_2\n",
            " results_Malimg_Exp5\n",
            " results_Malimg_Exp5_2\n"
          ],
          "name": "stdout"
        }
      ]
    },
    {
      "cell_type": "markdown",
      "metadata": {
        "id": "m4MQCs0Vdspm",
        "colab_type": "text"
      },
      "source": [
        "## 01. Import Library"
      ]
    },
    {
      "cell_type": "code",
      "metadata": {
        "id": "JxJh0s6bbhTS",
        "colab_type": "code",
        "colab": {
          "base_uri": "https://localhost:8080/",
          "height": 73
        },
        "outputId": "eb8c01f6-a9fa-461e-b655-ed662827a337"
      },
      "source": [
        "from PIL import Image\n",
        "%matplotlib inline\n",
        "\n",
        "import matplotlib\n",
        "import matplotlib.pyplot as plt\n",
        "import matplotlib as mpl\n",
        " \n",
        "# https://towardsdatascience.com/visualising-high-dimensional-datasets-using-pca-and-t-sne-in-python-8ef87e7915b\n",
        "import seaborn as sns\n",
        "\n",
        "# save single numpy array\n",
        "# https://numpy.org/doc/stable/reference/generated/numpy.save.html#numpy.save\n",
        "from tempfile import TemporaryFile\n",
        "from sklearn.manifold import TSNE\n",
        "\n",
        "import torch\n",
        "import torch.utils.data\n",
        "\n",
        "from torch import nn, optim\n",
        "from torch.nn import functional as F\n",
        "from torch.autograd import Variable\n",
        "from torch.utils.data import Dataset, DataLoader\n",
        "\n",
        "import numpy as np\n",
        "import pandas as pd\n",
        "\n",
        "import torchvision\n",
        "from torchvision import datasets, transforms\n",
        "from torchvision.utils import save_image\n",
        "\n",
        "# load modules\n",
        "from torchvision import models\n",
        "from modules import *\n"
      ],
      "execution_count": null,
      "outputs": [
        {
          "output_type": "stream",
          "text": [
            "/usr/local/lib/python3.6/dist-packages/statsmodels/tools/_testing.py:19: FutureWarning: pandas.util.testing is deprecated. Use the functions in the public API at pandas.testing instead.\n",
            "  import pandas.util.testing as tm\n"
          ],
          "name": "stderr"
        }
      ]
    },
    {
      "cell_type": "markdown",
      "metadata": {
        "id": "zG79j8Wjhjd4",
        "colab_type": "text"
      },
      "source": [
        "## 02. Data Preparation\n",
        "* Make Custom Dataset\n",
        "* Make Custom DataLoader\n",
        "* Train_Test Split\n",
        "\n",
        "### Work Flow\n",
        "* transforms module 사용, Image data compose(전처리, transform)\n",
        "* re-sizing, normalizing, tensor\n",
        "* ImageFolder사용 dataloader\n",
        "* dataset split: train dataset, test dataset\n",
        "* DataLoader: batch단위 dataset loading"
      ]
    },
    {
      "cell_type": "code",
      "metadata": {
        "id": "40wjsfCSgYIY",
        "colab_type": "code",
        "colab": {}
      },
      "source": [
        "transforms = transforms.Compose([\n",
        "                                transforms.Resize((224, 224)),                # Change size of Image to (224, 224)\n",
        "                                transforms.Grayscale(num_output_channels=3),  # Makes it 1-dimension channel\n",
        "                                # transforms.Lambda(lambda x: x.repeat(3, 1, 1)),  # gray -> GRB 3 channel (lambda function)\n",
        "                                                                                 # Reference: https://github.com/hsinyilin19/ResNetVAE/blob/master/ResNetVAE_MNIST.py\n",
        "\n",
        "\n",
        "                                transforms.ToTensor(),                        # Convert a PIL Image or numpy.ndarray to tensor.\n",
        "                                                                              # Converts a PIL Image or numpy.ndarray (H x W x C) in the range [0, 255] to a torch.FloatTensor of shape (C x H x W) in the range [0.0, 1.0] if the PIL Image belongs to one of the modes (L, LA, P, I, F, RGB, YCbCr, RGBA, CMYK, 1) or if the numpy.ndarray has dtype = np.uint8\n",
        "                                                                              # In the other cases, tensors are returned without scaling.\n",
        "                                # transforms.Normalize(mean=[0.5], std=[0.5]), \n",
        "                                ])\n",
        "\n",
        "# make custom dataset\n",
        "trainset = torchvision.datasets.ImageFolder(root='../../../../InformationSecurity_Summer/malimg',\n",
        "                                            transform=transforms)  # make custom dataset"
      ],
      "execution_count": null,
      "outputs": []
    },
    {
      "cell_type": "code",
      "metadata": {
        "id": "vYwMgJ5UdvgO",
        "colab_type": "code",
        "colab": {
          "base_uri": "https://localhost:8080/",
          "height": 467
        },
        "outputId": "dba6e3e6-7c0d-45ba-c7ce-646b2586f0eb"
      },
      "source": [
        "# classes = trainset.classes\n",
        "classes = trainset.classes\n",
        "classes"
      ],
      "execution_count": null,
      "outputs": [
        {
          "output_type": "execute_result",
          "data": {
            "text/plain": [
              "['Adialer.C',\n",
              " 'Agent.FYI',\n",
              " 'Allaple.A',\n",
              " 'Allaple.L',\n",
              " 'Alueron.gen!J',\n",
              " 'Autorun.K',\n",
              " 'C2LOP.P',\n",
              " 'C2LOP.gen!g',\n",
              " 'Dialplatform.B',\n",
              " 'Dontovo.A',\n",
              " 'Fakerean',\n",
              " 'Instantaccess',\n",
              " 'Lolyda.AA1',\n",
              " 'Lolyda.AA2',\n",
              " 'Lolyda.AA3',\n",
              " 'Lolyda.AT',\n",
              " 'Malex.gen!J',\n",
              " 'Obfuscator.AD',\n",
              " 'Rbot!gen',\n",
              " 'Skintrim.N',\n",
              " 'Swizzor.gen!E',\n",
              " 'Swizzor.gen!I',\n",
              " 'VB.AT',\n",
              " 'Wintrim.BX',\n",
              " 'Yuner.A']"
            ]
          },
          "metadata": {
            "tags": []
          },
          "execution_count": 6
        }
      ]
    },
    {
      "cell_type": "code",
      "metadata": {
        "id": "lRNtxJgpdy6x",
        "colab_type": "code",
        "colab": {
          "base_uri": "https://localhost:8080/",
          "height": 35
        },
        "outputId": "da5cf226-245b-44f3-f0c5-ebf94d0cf3c3"
      },
      "source": [
        "full_dataset = trainset\n",
        "train_size = int(0.8 * len(full_dataset))\n",
        "test_size = len(full_dataset) - train_size\n",
        "print(train_size, test_size)\n",
        "\n",
        "train_dataset, test_dataset = torch.utils.data.random_split(full_dataset, [train_size, test_size])"
      ],
      "execution_count": null,
      "outputs": [
        {
          "output_type": "stream",
          "text": [
            "7471 1868\n"
          ],
          "name": "stdout"
        }
      ]
    },
    {
      "cell_type": "code",
      "metadata": {
        "id": "laqQVjbpkVsq",
        "colab_type": "code",
        "colab": {}
      },
      "source": [
        "train_loader = DataLoader(train_dataset,\n",
        "                         batch_size=16,\n",
        "                         shuffle=True,\n",
        "                         pin_memory=True) \n",
        "valid_loader = DataLoader(test_dataset,\n",
        "                        batch_size=16,\n",
        "                        shuffle=True,\n",
        "                        pin_memory=True)  # Instead, we recommend using automatic memory pinning (i.e., setting pin_memory=True)\n",
        "                                          #  which enables fast data transfer to CUDA-enabled GPUs\n",
        "\n",
        "# First, insert all test dataset\n",
        "# test_loader_10: testloader for latent vector visualization\n",
        "test_loader_10 = DataLoader(test_dataset,\n",
        "                        batch_size=1868,\n",
        "                        shuffle=True,\n",
        "                        pin_memory=True)"
      ],
      "execution_count": null,
      "outputs": []
    },
    {
      "cell_type": "markdown",
      "metadata": {
        "id": "6rnADQb5CLP-",
        "colab_type": "text"
      },
      "source": [
        "### 3-Channel Image 출력"
      ]
    },
    {
      "cell_type": "code",
      "metadata": {
        "id": "grB0Z0teCNXG",
        "colab_type": "code",
        "colab": {}
      },
      "source": [
        "def imshow(img):\n",
        "    img = img / 2 + 0.5  # unnormalize\n",
        "    np_img = img.numpy()\n",
        "\n",
        "    plt.imshow(np.transpose(np_img, (1, 2, 0)))  # Convert (C, W, H) to (W, H, C)\n",
        "\n",
        "    print(np_img.shape)  # np_img shape\n",
        "    print((np.transpose(np_img, (1, 2, 0))).shape)  # transposed shape "
      ],
      "execution_count": null,
      "outputs": []
    },
    {
      "cell_type": "code",
      "metadata": {
        "id": "FHVaZj8yCPII",
        "colab_type": "code",
        "colab": {
          "base_uri": "https://localhost:8080/",
          "height": 35
        },
        "outputId": "9a01b74d-41fa-4413-bb3e-269e01ea2aa1"
      },
      "source": [
        "dataiter = iter(train_loader)\n",
        "images, labels = dataiter.next()\n",
        "print(labels)"
      ],
      "execution_count": null,
      "outputs": [
        {
          "output_type": "stream",
          "text": [
            "tensor([24,  2, 24,  2,  3,  3,  2,  7,  5,  4,  7,  8, 19, 12, 11,  2])\n"
          ],
          "name": "stdout"
        }
      ]
    },
    {
      "cell_type": "code",
      "metadata": {
        "id": "-dozDJQmCQX4",
        "colab_type": "code",
        "colab": {
          "base_uri": "https://localhost:8080/",
          "height": 377
        },
        "outputId": "8dfb03e5-e0ae-42e8-f6b4-2a58f8eddde5"
      },
      "source": [
        "print(images.shape)\n",
        "imshow(torchvision.utils.make_grid(images, nrow=4))\n",
        "print(images.shape)\n",
        "print((torchvision.utils.make_grid(images)).shape)\n",
        "print(\"\".join(\"%5s \"%classes[labels[j]] for j in range(4)))"
      ],
      "execution_count": null,
      "outputs": [
        {
          "output_type": "stream",
          "text": [
            "torch.Size([16, 3, 224, 224])\n",
            "(3, 906, 906)\n",
            "(906, 906, 3)\n",
            "torch.Size([16, 3, 224, 224])\n",
            "torch.Size([3, 454, 1810])\n",
            "Yuner.A Allaple.A Yuner.A Allaple.A \n"
          ],
          "name": "stdout"
        },
        {
          "output_type": "display_data",
          "data": {
            "image/png": "[encoded data removed]",
            "text/plain": [
              "<Figure size 432x288 with 1 Axes>"
            ]
          },
          "metadata": {
            "tags": [],
            "needs_background": "light"
          }
        }
      ]
    },
    {
      "cell_type": "markdown",
      "metadata": {
        "id": "E2tvYihLhDd0",
        "colab_type": "text"
      },
      "source": [
        "## 03. Modeling\n",
        "* save model: <code>save_model_path</code>\n",
        "* save_loss_list\n",
        "* etc...\n"
      ]
    },
    {
      "cell_type": "code",
      "metadata": {
        "id": "MyiJB8iSiqTT",
        "colab_type": "code",
        "colab": {}
      },
      "source": [
        "# EncoderCNN architecture\n",
        "CNN_fc_hidden1, CNN_fc_hidden2 = 1024, 1024\n",
        "CNN_embed_dim = 256     # latent dim extracted by 2D CNN\n",
        "res_size = 224        # ResNet image size\n",
        "dropout_p = 0.2       # dropout probability\n",
        "\n",
        "# training parameters\n",
        "epochs = 100        # training epochs to 100. -20.08.02.sun.pm 10:30\n",
        "batch_size = 50\n",
        "learning_rate = 1e-3\n",
        "log_interval = 10   # interval for displaying training info"
      ],
      "execution_count": null,
      "outputs": []
    },
    {
      "cell_type": "code",
      "metadata": {
        "id": "fjFMhGMEiRG8",
        "colab_type": "code",
        "colab": {}
      },
      "source": [
        "# save model\n",
        "save_model_path = './results_Malimg_Exp4_2'  # save_model parameter"
      ],
      "execution_count": null,
      "outputs": []
    },
    {
      "cell_type": "code",
      "metadata": {
        "id": "mK2IkNBgifV6",
        "colab_type": "code",
        "colab": {}
      },
      "source": [
        "def check_mkdir(dir_name):\n",
        "    if not os.path.exists(dir_name):\n",
        "        os.mkdir(dir_name)"
      ],
      "execution_count": null,
      "outputs": []
    },
    {
      "cell_type": "code",
      "metadata": {
        "id": "bLrFg4euigpb",
        "colab_type": "code",
        "colab": {}
      },
      "source": [
        "def loss_function(recon_x, x, mu, logvar):\n",
        "    # MSE = F.mse_loss(recon_x, x, reduction='sum')\n",
        "    MSE = F.binary_cross_entropy(recon_x, x, reduction='sum')\n",
        "    KLD = -0.5 * torch.sum(1 + logvar - mu.pow(2) - logvar.exp())\n",
        "    return MSE + KLD"
      ],
      "execution_count": null,
      "outputs": []
    },
    {
      "cell_type": "code",
      "metadata": {
        "id": "fHryk-eBitM5",
        "colab_type": "code",
        "colab": {}
      },
      "source": [
        "def train(log_interval, model, device, train_loader, optimizer, epoch):\n",
        "    # set model as training mode\n",
        "    model.train()\n",
        "\n",
        "    losses = []\n",
        "    all_y, all_z, all_mu, all_logvar = [], [], [], []\n",
        "    N_count = 0   # counting total trained sample in one epoch\n",
        "    for batch_idx, (X, y) in enumerate(train_loader):\n",
        "        # distribute data to device\n",
        "        X, y = X.to(device), y.to(device).view(-1, )\n",
        "        N_count += X.size(0)\n",
        "\n",
        "        optimizer.zero_grad()\n",
        "        X_reconst, z, mu, logvar = model(X)  # VAE\n",
        "        loss = loss_function(X_reconst, X, mu, logvar)\n",
        "        losses.append(loss.item())\n",
        "\n",
        "        loss.backward()\n",
        "        optimizer.step()\n",
        "\n",
        "        all_y.extend(y.data.cpu().numpy())\n",
        "        all_z.extend(z.data.cpu().numpy())\n",
        "        all_mu.extend(mu.data.cpu().numpy())\n",
        "        all_logvar.extend(logvar.data.cpu().numpy())\n",
        "\n",
        "        # show information\n",
        "        if (batch_idx + 1) % log_interval == 0:\n",
        "            print('Train Epoch: {} [{}/{} ({:.0f}%)]\\tLoss: {:.6f}'.format(\n",
        "                epoch + 1, N_count, len(train_loader.dataset), 100. * (batch_idx + 1) / len(train_loader), loss.item()))\n",
        "\n",
        "    all_y = np.stack(all_y, axis=0)\n",
        "    all_z = np.stack(all_z, axis=0)\n",
        "    all_mu = np.stack(all_mu, axis=0)\n",
        "    all_logvar = np.stack(all_logvar, axis=0)\n",
        "    print('====> Epoch: {} Average loss: {:.4f}'.format(epoch, train_loss / len(train_loader.dataset)))\n",
        "    # print('\\nTrain set ({:d} samples): Average loss: {:.4f}\\n'.format(len(train_loader.dataset), train_loss / len(train_loader.dataset)))\n",
        "\n",
        "    # save Pytorch models of best record\n",
        "    torch.save(model.state_dict(), os.path.join(save_model_path, 'model_epoch{}.pth'.format(epoch + 1)))  # save motion_encoder\n",
        "    torch.save(optimizer.state_dict(), os.path.join(save_model_path, 'optimizer_epoch{}.pth'.format(epoch + 1)))      # save optimizer\n",
        "    print(\"Epoch {} model saved!\".format(epoch + 1))\n",
        "\n",
        "    return X.data.cpu().numpy(), all_y, all_z, all_mu, all_logvar, losses\n",
        "\n",
        "\n",
        "def validation(model, device, optimizer, test_loader):\n",
        "    # set model as testing mode\n",
        "    model.eval()\n",
        "\n",
        "    test_loss = 0\n",
        "    all_y, all_z, all_mu, all_logvar = [], [], [], []\n",
        "    with torch.no_grad():\n",
        "        for i, (X, y) in enumerate(test_loader):\n",
        "            # distribute data to device\n",
        "            X, y = X.to(device), y.to(device).view(-1, )\n",
        "            X_reconst, z, mu, logvar = model(X)\n",
        "\n",
        "            loss = loss_function(X_reconst, X, mu, logvar)\n",
        "            test_loss += loss.item()  # sum up batch loss\n",
        "\n",
        "            all_y.extend(y.data.cpu().numpy())\n",
        "            all_z.extend(z.data.cpu().numpy())\n",
        "            all_mu.extend(mu.data.cpu().numpy())\n",
        "            all_logvar.extend(logvar.data.cpu().numpy())\n",
        "            \n",
        "        ## Save_Recon_Malimg\n",
        "            if i == 0:\n",
        "                n = min(X.size(0), 8)\n",
        "                comparison = torch.cat([X[:n],\n",
        "                                    X_reconst.view(16, 3, 224, 224)[:n]])  # Recon 4 Images\n",
        "                save_image(comparison.cpu(),\n",
        "                        './results_Malimg_Exp4_2/recon_sampling/reconstruction_' + str(epoch) + '.png', nrow=n)\n",
        "\n",
        "\n",
        "    test_loss /= len(test_loader.dataset)\n",
        "    all_y = np.stack(all_y, axis=0)\n",
        "    all_z = np.stack(all_z, axis=0)\n",
        "    all_mu = np.stack(all_mu, axis=0)\n",
        "    all_logvar = np.stack(all_logvar, axis=0)\n",
        "\n",
        "    # show information\n",
        "    print('\\nTest set ({:d} samples): Average loss: {:.4f}\\n'.format(len(test_loader.dataset), test_loss))\n",
        "    return X.data.cpu().numpy(), all_y, all_z, all_mu, all_logvar, test_loss\n"
      ],
      "execution_count": null,
      "outputs": []
    },
    {
      "cell_type": "code",
      "metadata": {
        "id": "l0uohqjsixS0",
        "colab_type": "code",
        "colab": {}
      },
      "source": [
        "# Detect devices\n",
        "use_cuda = torch.cuda.is_available()                   # check if GPU exists\n",
        "device = torch.device(\"cuda\" if use_cuda else \"cpu\")   # use CPU or GPU"
      ],
      "execution_count": null,
      "outputs": []
    },
    {
      "cell_type": "code",
      "metadata": {
        "id": "M0VtuxshC_O6",
        "colab_type": "code",
        "colab": {
          "base_uri": "https://localhost:8080/",
          "height": 52
        },
        "outputId": "e8ff9f52-9575-472f-afc3-10c4b7ea4803"
      },
      "source": [
        "# Check it\n",
        "'''\n",
        "pre_saved_model_path = './results_Malimg'\n",
        "\n",
        "os.path.join(pre_saved_model_path, 'model_epoch{}.pth'.format(20))\n",
        "'''"
      ],
      "execution_count": null,
      "outputs": [
        {
          "output_type": "execute_result",
          "data": {
            "application/vnd.google.colaboratory.intrinsic+json": {
              "type": "string"
            },
            "text/plain": [
              "\"\\npre_saved_model_path = './results_Malimg'\\n\\nos.path.join(pre_saved_model_path, 'model_epoch{}.pth'.format(20))\\n\""
            ]
          },
          "metadata": {
            "tags": []
          },
          "execution_count": 18
        }
      ]
    },
    {
      "cell_type": "markdown",
      "metadata": {
        "id": "8g3fMHo4LQII",
        "colab_type": "text"
      },
      "source": [
        "[Post_Exp]04-2에서는 1Epoch 값을 불러와 Training을 한다.<br>\n",
        "1Epoch의 parameter를 가져오는건 너무한가?!?!-> Recon결과부터 확인을 해보자"
      ]
    },
    {
      "cell_type": "code",
      "metadata": {
        "id": "_a9FFdiljGPW",
        "colab_type": "code",
        "colab": {
          "base_uri": "https://localhost:8080/",
          "height": 123,
          "referenced_widgets": [
            "b1b1b759a39141dea5fde61722f115c6",
            "39e7459d77a6476798be8f228812a648",
            "025bea0de44844d280c16ef0bdbd8f8b",
            "0d6a9ad4f9dd406898402d8d750763f5",
            "192bb0916eaa4a8292cb24d545c01979",
            "b4a59e23ce024abbaa6da25f393f7380",
            "b3d1e14953464b92a737d1e78161d7f5",
            "e8c6bef4af494f889319843b0035a91f"
          ]
        },
        "outputId": "5c6e5aa7-1ec4-44f9-ae6a-25d0db5deefa"
      },
      "source": [
        "pre_saved_model_path = './results_Malimg'\n",
        "epoch=10 # 1에서 10으로 변경!\n",
        "\n",
        "# Create model\n",
        "resnet_vae = ResNet_VAE(fc_hidden1=CNN_fc_hidden1, fc_hidden2=CNN_fc_hidden2, drop_p=dropout_p, CNN_embed_dim=CNN_embed_dim).to(device)\n",
        "resnet_vae.load_state_dict(torch.load(os.path.join(pre_saved_model_path, 'model_epoch{}.pth'.format(epoch))))\n",
        "\n",
        "print(\"Using\", torch.cuda.device_count(), \"GPU!\")\n",
        "model_params = list(resnet_vae.parameters())\n",
        "optimizer = torch.optim.Adam(model_params, lr=learning_rate)"
      ],
      "execution_count": null,
      "outputs": [
        {
          "output_type": "stream",
          "text": [
            "Downloading: \"https://download.pytorch.org/models/resnet152-b121ed2d.pth\" to /root/.cache/torch/hub/checkpoints/resnet152-b121ed2d.pth\n"
          ],
          "name": "stderr"
        },
        {
          "output_type": "display_data",
          "data": {
            "application/vnd.jupyter.widget-view+json": {
              "model_id": "b1b1b759a39141dea5fde61722f115c6",
              "version_minor": 0,
              "version_major": 2
            },
            "text/plain": [
              "HBox(children=(FloatProgress(value=0.0, max=241530880.0), HTML(value='')))"
            ]
          },
          "metadata": {
            "tags": []
          }
        },
        {
          "output_type": "stream",
          "text": [
            "\n",
            "Using 1 GPU!\n"
          ],
          "name": "stdout"
        }
      ]
    },
    {
      "cell_type": "code",
      "metadata": {
        "id": "_mDezxJUjKSZ",
        "colab_type": "code",
        "colab": {}
      },
      "source": [
        "# record training process\n",
        "'''\n",
        "list_epoch = []\n",
        "list_train_loss = []\n",
        "list_val_loss = []\n",
        "list_acc = []\n",
        "list_acc_epoch = []\n",
        "'''\n",
        "list_epoch=[]\n",
        "epoch_train_losses = []\n",
        "epoch_test_losses = []\n",
        "list_acc = []\n",
        "list_acc_epoch =[]\n",
        "check_mkdir(save_model_path)"
      ],
      "execution_count": null,
      "outputs": []
    },
    {
      "cell_type": "markdown",
      "metadata": {
        "id": "gcJRmBUEhT5W",
        "colab_type": "text"
      },
      "source": [
        "## 04. Train-it"
      ]
    },
    {
      "cell_type": "code",
      "metadata": {
        "id": "eLFMtJaUhMCN",
        "colab_type": "code",
        "colab": {
          "base_uri": "https://localhost:8080/",
          "height": 1000
        },
        "outputId": "63b8bc35-7263-4b34-8c24-bcf540e5e08f"
      },
      "source": [
        "# start training\n",
        "for epoch in range(epochs):\n",
        "\n",
        "    # train, test model\n",
        "    X_train, y_train, z_train, mu_train, logvar_train, train_losses = train(log_interval, resnet_vae, device, train_loader, optimizer, epoch)\n",
        "    X_test, y_test, z_test, mu_test, logvar_test, epoch_test_loss = validation(resnet_vae, device, optimizer, valid_loader)\n",
        "\n",
        "    # save results\n",
        "    list_epoch.append(epoch)\n",
        "    epoch_train_losses.append(train_losses)\n",
        "    epoch_test_losses.append(epoch_test_loss)\n",
        "\n",
        "    \n",
        "    # save all train test results\n",
        "    A = np.array(epoch_train_losses)\n",
        "    C = np.array(epoch_test_losses)\n",
        "    \n",
        "    np.save(os.path.join(save_model_path, 'ResNet_VAE_training_loss.npy'), A)\n",
        "    np.save(os.path.join(save_model_path, 'X_Malimg_train_epoch{}.npy'.format(epoch + 1)), X_train) #save last batch\n",
        "    np.save(os.path.join(save_model_path, 'y_Malimg_train_epoch{}.npy'.format(epoch + 1)), y_train)\n",
        "    np.save(os.path.join(save_model_path, 'z_Malimg_train_epoch{}.npy'.format(epoch + 1)), z_train)\n"
      ],
      "execution_count": null,
      "outputs": [
        {
          "output_type": "stream",
          "text": [
            "/usr/local/lib/python3.6/dist-packages/torch/nn/functional.py:3121: UserWarning: Default upsampling behavior when mode=bilinear is changed to align_corners=False since 0.4.0. Please specify align_corners=True if the old behavior is desired. See the documentation of nn.Upsample for details.\n",
            "  \"See the documentation of nn.Upsample for details.\".format(mode))\n"
          ],
          "name": "stderr"
        },
        {
          "output_type": "stream",
          "text": [
            "Train Epoch: 1 [160/7471 (2%)]\tLoss: 1583565.250000\n",
            "Train Epoch: 1 [320/7471 (4%)]\tLoss: 1545713.625000\n",
            "Train Epoch: 1 [480/7471 (6%)]\tLoss: 1644597.500000\n",
            "Train Epoch: 1 [640/7471 (9%)]\tLoss: 1600485.500000\n",
            "Train Epoch: 1 [800/7471 (11%)]\tLoss: 1635715.125000\n",
            "Train Epoch: 1 [960/7471 (13%)]\tLoss: 1612890.375000\n",
            "Train Epoch: 1 [1120/7471 (15%)]\tLoss: 1551068.125000\n",
            "Train Epoch: 1 [1280/7471 (17%)]\tLoss: 1610348.625000\n",
            "Train Epoch: 1 [1440/7471 (19%)]\tLoss: 1602689.000000\n",
            "Train Epoch: 1 [1600/7471 (21%)]\tLoss: 1649396.875000\n",
            "Train Epoch: 1 [1760/7471 (24%)]\tLoss: 1594090.250000\n",
            "Train Epoch: 1 [1920/7471 (26%)]\tLoss: 1617905.500000\n",
            "Train Epoch: 1 [2080/7471 (28%)]\tLoss: 1634809.250000\n",
            "Train Epoch: 1 [2240/7471 (30%)]\tLoss: 1622892.875000\n",
            "Train Epoch: 1 [2400/7471 (32%)]\tLoss: 1544796.750000\n",
            "Train Epoch: 1 [2560/7471 (34%)]\tLoss: 1643177.750000\n",
            "Train Epoch: 1 [2720/7471 (36%)]\tLoss: 1588279.125000\n",
            "Train Epoch: 1 [2880/7471 (39%)]\tLoss: 1561271.125000\n",
            "Train Epoch: 1 [3040/7471 (41%)]\tLoss: 1613052.125000\n",
            "Train Epoch: 1 [3200/7471 (43%)]\tLoss: 1624221.375000\n",
            "Train Epoch: 1 [3360/7471 (45%)]\tLoss: 1587450.625000\n",
            "Train Epoch: 1 [3520/7471 (47%)]\tLoss: 1596283.750000\n",
            "Train Epoch: 1 [3680/7471 (49%)]\tLoss: 1570759.500000\n",
            "Train Epoch: 1 [3840/7471 (51%)]\tLoss: 1537395.750000\n",
            "Train Epoch: 1 [4000/7471 (54%)]\tLoss: 1573265.000000\n",
            "Train Epoch: 1 [4160/7471 (56%)]\tLoss: 1595612.625000\n",
            "Train Epoch: 1 [4320/7471 (58%)]\tLoss: 1598689.750000\n",
            "Train Epoch: 1 [4480/7471 (60%)]\tLoss: 1558530.125000\n",
            "Train Epoch: 1 [4640/7471 (62%)]\tLoss: 1595136.250000\n",
            "Train Epoch: 1 [4800/7471 (64%)]\tLoss: 1604714.750000\n",
            "Train Epoch: 1 [4960/7471 (66%)]\tLoss: 1588024.500000\n",
            "Train Epoch: 1 [5120/7471 (69%)]\tLoss: 1610685.875000\n",
            "Train Epoch: 1 [5280/7471 (71%)]\tLoss: 1534954.375000\n",
            "Train Epoch: 1 [5440/7471 (73%)]\tLoss: 1558649.625000\n",
            "Train Epoch: 1 [5600/7471 (75%)]\tLoss: 1604479.375000\n",
            "Train Epoch: 1 [5760/7471 (77%)]\tLoss: 1531907.750000\n",
            "Train Epoch: 1 [5920/7471 (79%)]\tLoss: 1589150.250000\n",
            "Train Epoch: 1 [6080/7471 (81%)]\tLoss: 1514381.500000\n",
            "Train Epoch: 1 [6240/7471 (84%)]\tLoss: 1630979.000000\n",
            "Train Epoch: 1 [6400/7471 (86%)]\tLoss: 1631968.875000\n",
            "Train Epoch: 1 [6560/7471 (88%)]\tLoss: 1622062.000000\n",
            "Train Epoch: 1 [6720/7471 (90%)]\tLoss: 1553372.500000\n",
            "Train Epoch: 1 [6880/7471 (92%)]\tLoss: 1578543.875000\n",
            "Train Epoch: 1 [7040/7471 (94%)]\tLoss: 1611173.625000\n",
            "Train Epoch: 1 [7200/7471 (96%)]\tLoss: 1586087.625000\n",
            "Train Epoch: 1 [7360/7471 (99%)]\tLoss: 1602148.625000\n",
            "Epoch 1 model saved!\n",
            "\n",
            "Test set (1868 samples): Average loss: inf\n",
            "\n",
            "Train Epoch: 2 [160/7471 (2%)]\tLoss: 1610342.000000\n",
            "Train Epoch: 2 [320/7471 (4%)]\tLoss: 1619252.125000\n",
            "Train Epoch: 2 [480/7471 (6%)]\tLoss: 1609379.000000\n",
            "Train Epoch: 2 [640/7471 (9%)]\tLoss: 1566069.750000\n",
            "Train Epoch: 2 [800/7471 (11%)]\tLoss: 1549019.375000\n",
            "Train Epoch: 2 [960/7471 (13%)]\tLoss: 1623109.625000\n",
            "Train Epoch: 2 [1120/7471 (15%)]\tLoss: 1582862.750000\n",
            "Train Epoch: 2 [1280/7471 (17%)]\tLoss: 1649912.000000\n",
            "Train Epoch: 2 [1440/7471 (19%)]\tLoss: 1623680.750000\n",
            "Train Epoch: 2 [1600/7471 (21%)]\tLoss: 1615744.375000\n",
            "Train Epoch: 2 [1760/7471 (24%)]\tLoss: 1616619.125000\n",
            "Train Epoch: 2 [1920/7471 (26%)]\tLoss: 1635127.000000\n",
            "Train Epoch: 2 [2080/7471 (28%)]\tLoss: 1612118.625000\n",
            "Train Epoch: 2 [2240/7471 (30%)]\tLoss: 1534622.625000\n",
            "Train Epoch: 2 [2400/7471 (32%)]\tLoss: 1578431.000000\n",
            "Train Epoch: 2 [2560/7471 (34%)]\tLoss: 1571558.750000\n",
            "Train Epoch: 2 [2720/7471 (36%)]\tLoss: 1608364.500000\n",
            "Train Epoch: 2 [2880/7471 (39%)]\tLoss: 1570875.250000\n",
            "Train Epoch: 2 [3040/7471 (41%)]\tLoss: 1605937.500000\n",
            "Train Epoch: 2 [3200/7471 (43%)]\tLoss: 1597142.500000\n",
            "Train Epoch: 2 [3360/7471 (45%)]\tLoss: 1612797.750000\n",
            "Train Epoch: 2 [3520/7471 (47%)]\tLoss: 1631638.000000\n",
            "Train Epoch: 2 [3680/7471 (49%)]\tLoss: 1546350.250000\n",
            "Train Epoch: 2 [3840/7471 (51%)]\tLoss: 1638095.875000\n",
            "Train Epoch: 2 [4000/7471 (54%)]\tLoss: 1616873.125000\n",
            "Train Epoch: 2 [4160/7471 (56%)]\tLoss: 1566612.250000\n",
            "Train Epoch: 2 [4320/7471 (58%)]\tLoss: 1597904.250000\n",
            "Train Epoch: 2 [4480/7471 (60%)]\tLoss: 1557391.375000\n",
            "Train Epoch: 2 [4640/7471 (62%)]\tLoss: 1574308.250000\n",
            "Train Epoch: 2 [4800/7471 (64%)]\tLoss: 1503944.375000\n",
            "Train Epoch: 2 [4960/7471 (66%)]\tLoss: 1578670.125000\n",
            "Train Epoch: 2 [5120/7471 (69%)]\tLoss: 1594460.000000\n",
            "Train Epoch: 2 [5280/7471 (71%)]\tLoss: 1578416.500000\n",
            "Train Epoch: 2 [5440/7471 (73%)]\tLoss: 1594797.250000\n",
            "Train Epoch: 2 [5600/7471 (75%)]\tLoss: 1603388.125000\n",
            "Train Epoch: 2 [5760/7471 (77%)]\tLoss: 1536913.875000\n",
            "Train Epoch: 2 [5920/7471 (79%)]\tLoss: 1619534.875000\n",
            "Train Epoch: 2 [6080/7471 (81%)]\tLoss: 1545697.750000\n",
            "Train Epoch: 2 [6240/7471 (84%)]\tLoss: 1609340.250000\n",
            "Train Epoch: 2 [6400/7471 (86%)]\tLoss: 1603378.125000\n",
            "Train Epoch: 2 [6560/7471 (88%)]\tLoss: 1624403.000000\n",
            "Train Epoch: 2 [6720/7471 (90%)]\tLoss: 1550947.000000\n",
            "Train Epoch: 2 [6880/7471 (92%)]\tLoss: 1571712.750000\n",
            "Train Epoch: 2 [7040/7471 (94%)]\tLoss: 1583896.250000\n",
            "Train Epoch: 2 [7200/7471 (96%)]\tLoss: 1588919.625000\n",
            "Train Epoch: 2 [7360/7471 (99%)]\tLoss: 1535273.875000\n",
            "Epoch 2 model saved!\n",
            "\n",
            "Test set (1868 samples): Average loss: inf\n",
            "\n",
            "Train Epoch: 3 [160/7471 (2%)]\tLoss: 1570266.500000\n",
            "Train Epoch: 3 [320/7471 (4%)]\tLoss: 1586198.750000\n",
            "Train Epoch: 3 [480/7471 (6%)]\tLoss: 1620358.000000\n",
            "Train Epoch: 3 [640/7471 (9%)]\tLoss: 1575592.000000\n",
            "Train Epoch: 3 [800/7471 (11%)]\tLoss: 1575003.250000\n",
            "Train Epoch: 3 [960/7471 (13%)]\tLoss: 1628490.125000\n",
            "Train Epoch: 3 [1120/7471 (15%)]\tLoss: 1595236.000000\n",
            "Train Epoch: 3 [1280/7471 (17%)]\tLoss: 1581054.750000\n",
            "Train Epoch: 3 [1440/7471 (19%)]\tLoss: 1566712.125000\n",
            "Train Epoch: 3 [1600/7471 (21%)]\tLoss: 1628725.000000\n",
            "Train Epoch: 3 [1760/7471 (24%)]\tLoss: 1588037.500000\n",
            "Train Epoch: 3 [1920/7471 (26%)]\tLoss: 1601832.250000\n",
            "Train Epoch: 3 [2080/7471 (28%)]\tLoss: 1563112.375000\n",
            "Train Epoch: 3 [2240/7471 (30%)]\tLoss: 1583303.500000\n",
            "Train Epoch: 3 [2400/7471 (32%)]\tLoss: 1588425.750000\n",
            "Train Epoch: 3 [2560/7471 (34%)]\tLoss: 1592747.125000\n",
            "Train Epoch: 3 [2720/7471 (36%)]\tLoss: 1505713.500000\n",
            "Train Epoch: 3 [2880/7471 (39%)]\tLoss: 1531635.000000\n",
            "Train Epoch: 3 [3040/7471 (41%)]\tLoss: 1634701.000000\n",
            "Train Epoch: 3 [3200/7471 (43%)]\tLoss: 1623409.125000\n",
            "Train Epoch: 3 [3360/7471 (45%)]\tLoss: 1634411.000000\n",
            "Train Epoch: 3 [3520/7471 (47%)]\tLoss: 1570188.250000\n",
            "Train Epoch: 3 [3680/7471 (49%)]\tLoss: 1574907.875000\n",
            "Train Epoch: 3 [3840/7471 (51%)]\tLoss: 1631866.750000\n",
            "Train Epoch: 3 [4000/7471 (54%)]\tLoss: 1615260.250000\n",
            "Train Epoch: 3 [4160/7471 (56%)]\tLoss: 1561872.000000\n",
            "Train Epoch: 3 [4320/7471 (58%)]\tLoss: 1538621.250000\n",
            "Train Epoch: 3 [4480/7471 (60%)]\tLoss: 1581519.375000\n",
            "Train Epoch: 3 [4640/7471 (62%)]\tLoss: 1562872.875000\n",
            "Train Epoch: 3 [4800/7471 (64%)]\tLoss: 1547640.000000\n",
            "Train Epoch: 3 [4960/7471 (66%)]\tLoss: 1590919.500000\n",
            "Train Epoch: 3 [5120/7471 (69%)]\tLoss: 1577233.125000\n",
            "Train Epoch: 3 [5280/7471 (71%)]\tLoss: 1605776.625000\n",
            "Train Epoch: 3 [5440/7471 (73%)]\tLoss: 1573314.625000\n",
            "Train Epoch: 3 [5600/7471 (75%)]\tLoss: 1583351.625000\n",
            "Train Epoch: 3 [5760/7471 (77%)]\tLoss: 1584278.375000\n",
            "Train Epoch: 3 [5920/7471 (79%)]\tLoss: 1561978.375000\n",
            "Train Epoch: 3 [6080/7471 (81%)]\tLoss: 1616360.250000\n",
            "Train Epoch: 3 [6240/7471 (84%)]\tLoss: 1576854.625000\n",
            "Train Epoch: 3 [6400/7471 (86%)]\tLoss: 1643901.875000\n",
            "Train Epoch: 3 [6560/7471 (88%)]\tLoss: 1621670.750000\n",
            "Train Epoch: 3 [6720/7471 (90%)]\tLoss: 1583946.250000\n",
            "Train Epoch: 3 [6880/7471 (92%)]\tLoss: 1592523.875000\n",
            "Train Epoch: 3 [7040/7471 (94%)]\tLoss: 1601889.250000\n",
            "Train Epoch: 3 [7200/7471 (96%)]\tLoss: 1581567.125000\n",
            "Train Epoch: 3 [7360/7471 (99%)]\tLoss: 1615152.125000\n",
            "Epoch 3 model saved!\n",
            "\n",
            "Test set (1868 samples): Average loss: 125474278195694813184.0000\n",
            "\n",
            "Train Epoch: 4 [160/7471 (2%)]\tLoss: 1590186.875000\n",
            "Train Epoch: 4 [320/7471 (4%)]\tLoss: 1619390.875000\n",
            "Train Epoch: 4 [480/7471 (6%)]\tLoss: 1511089.250000\n",
            "Train Epoch: 4 [640/7471 (9%)]\tLoss: 1590874.125000\n",
            "Train Epoch: 4 [800/7471 (11%)]\tLoss: 1593123.250000\n",
            "Train Epoch: 4 [960/7471 (13%)]\tLoss: 1662111.250000\n",
            "Train Epoch: 4 [1120/7471 (15%)]\tLoss: 1617224.875000\n",
            "Train Epoch: 4 [1280/7471 (17%)]\tLoss: 1581275.750000\n",
            "Train Epoch: 4 [1440/7471 (19%)]\tLoss: 1614577.750000\n",
            "Train Epoch: 4 [1600/7471 (21%)]\tLoss: 1639201.125000\n",
            "Train Epoch: 4 [1760/7471 (24%)]\tLoss: 1630510.250000\n",
            "Train Epoch: 4 [1920/7471 (26%)]\tLoss: 1620062.500000\n",
            "Train Epoch: 4 [2080/7471 (28%)]\tLoss: 1597529.250000\n",
            "Train Epoch: 4 [2240/7471 (30%)]\tLoss: 1570717.875000\n",
            "Train Epoch: 4 [2400/7471 (32%)]\tLoss: 1576207.125000\n",
            "Train Epoch: 4 [2560/7471 (34%)]\tLoss: 1604172.250000\n",
            "Train Epoch: 4 [2720/7471 (36%)]\tLoss: 1615979.625000\n",
            "Train Epoch: 4 [2880/7471 (39%)]\tLoss: 1548803.125000\n",
            "Train Epoch: 4 [3040/7471 (41%)]\tLoss: 1596944.500000\n",
            "Train Epoch: 4 [3200/7471 (43%)]\tLoss: 1648287.375000\n",
            "Train Epoch: 4 [3360/7471 (45%)]\tLoss: 1595896.125000\n",
            "Train Epoch: 4 [3520/7471 (47%)]\tLoss: 1552485.250000\n",
            "Train Epoch: 4 [3680/7471 (49%)]\tLoss: 1626405.750000\n",
            "Train Epoch: 4 [3840/7471 (51%)]\tLoss: 1560520.625000\n",
            "Train Epoch: 4 [4000/7471 (54%)]\tLoss: 1616348.625000\n",
            "Train Epoch: 4 [4160/7471 (56%)]\tLoss: 1427669.875000\n",
            "Train Epoch: 4 [4320/7471 (58%)]\tLoss: 1601693.875000\n",
            "Train Epoch: 4 [4480/7471 (60%)]\tLoss: 1601293.875000\n",
            "Train Epoch: 4 [4640/7471 (62%)]\tLoss: 1520827.625000\n",
            "Train Epoch: 4 [4800/7471 (64%)]\tLoss: 1609485.125000\n",
            "Train Epoch: 4 [4960/7471 (66%)]\tLoss: 1634095.875000\n",
            "Train Epoch: 4 [5120/7471 (69%)]\tLoss: 1656908.375000\n",
            "Train Epoch: 4 [5280/7471 (71%)]\tLoss: 1630789.125000\n",
            "Train Epoch: 4 [5440/7471 (73%)]\tLoss: 1545563.875000\n",
            "Train Epoch: 4 [5600/7471 (75%)]\tLoss: 1632332.375000\n",
            "Train Epoch: 4 [5760/7471 (77%)]\tLoss: 1626835.750000\n",
            "Train Epoch: 4 [5920/7471 (79%)]\tLoss: 1566081.000000\n",
            "Train Epoch: 4 [6080/7471 (81%)]\tLoss: 1587335.500000\n",
            "Train Epoch: 4 [6240/7471 (84%)]\tLoss: 1621055.125000\n",
            "Train Epoch: 4 [6400/7471 (86%)]\tLoss: 1590974.500000\n",
            "Train Epoch: 4 [6560/7471 (88%)]\tLoss: 1617894.125000\n",
            "Train Epoch: 4 [6720/7471 (90%)]\tLoss: 1568528.250000\n",
            "Train Epoch: 4 [6880/7471 (92%)]\tLoss: 1651364.250000\n",
            "Train Epoch: 4 [7040/7471 (94%)]\tLoss: 1629524.500000\n",
            "Train Epoch: 4 [7200/7471 (96%)]\tLoss: 1580650.250000\n",
            "Train Epoch: 4 [7360/7471 (99%)]\tLoss: 1567893.750000\n",
            "Epoch 4 model saved!\n",
            "\n",
            "Test set (1868 samples): Average loss: inf\n",
            "\n",
            "Train Epoch: 5 [160/7471 (2%)]\tLoss: 1591202.875000\n",
            "Train Epoch: 5 [320/7471 (4%)]\tLoss: 1663922.500000\n",
            "Train Epoch: 5 [480/7471 (6%)]\tLoss: 1610550.125000\n",
            "Train Epoch: 5 [640/7471 (9%)]\tLoss: 1631198.000000\n",
            "Train Epoch: 5 [800/7471 (11%)]\tLoss: 1609800.000000\n",
            "Train Epoch: 5 [960/7471 (13%)]\tLoss: 1555804.875000\n",
            "Train Epoch: 5 [1120/7471 (15%)]\tLoss: 1621684.125000\n",
            "Train Epoch: 5 [1280/7471 (17%)]\tLoss: 1637002.500000\n",
            "Train Epoch: 5 [1440/7471 (19%)]\tLoss: 1597080.750000\n",
            "Train Epoch: 5 [1600/7471 (21%)]\tLoss: 1604676.375000\n",
            "Train Epoch: 5 [1760/7471 (24%)]\tLoss: 1621289.125000\n",
            "Train Epoch: 5 [1920/7471 (26%)]\tLoss: 1589784.375000\n",
            "Train Epoch: 5 [2080/7471 (28%)]\tLoss: 1595242.750000\n",
            "Train Epoch: 5 [2240/7471 (30%)]\tLoss: 1585536.000000\n",
            "Train Epoch: 5 [2400/7471 (32%)]\tLoss: 1628543.250000\n",
            "Train Epoch: 5 [2560/7471 (34%)]\tLoss: 1620335.625000\n",
            "Train Epoch: 5 [2720/7471 (36%)]\tLoss: 1610285.250000\n",
            "Train Epoch: 5 [2880/7471 (39%)]\tLoss: 1540123.750000\n",
            "Train Epoch: 5 [3040/7471 (41%)]\tLoss: 1572671.625000\n",
            "Train Epoch: 5 [3200/7471 (43%)]\tLoss: 1556339.500000\n",
            "Train Epoch: 5 [3360/7471 (45%)]\tLoss: 1562618.875000\n",
            "Train Epoch: 5 [3520/7471 (47%)]\tLoss: 1610080.250000\n",
            "Train Epoch: 5 [3680/7471 (49%)]\tLoss: 1560179.500000\n",
            "Train Epoch: 5 [3840/7471 (51%)]\tLoss: 1575581.500000\n",
            "Train Epoch: 5 [4000/7471 (54%)]\tLoss: 1607514.125000\n",
            "Train Epoch: 5 [4160/7471 (56%)]\tLoss: 1559238.375000\n",
            "Train Epoch: 5 [4320/7471 (58%)]\tLoss: 1641349.625000\n",
            "Train Epoch: 5 [4480/7471 (60%)]\tLoss: 1582239.500000\n",
            "Train Epoch: 5 [4640/7471 (62%)]\tLoss: 1576167.250000\n",
            "Train Epoch: 5 [4800/7471 (64%)]\tLoss: 1614912.250000\n",
            "Train Epoch: 5 [4960/7471 (66%)]\tLoss: 1613905.250000\n",
            "Train Epoch: 5 [5120/7471 (69%)]\tLoss: 1588355.000000\n",
            "Train Epoch: 5 [5280/7471 (71%)]\tLoss: 1616570.875000\n",
            "Train Epoch: 5 [5440/7471 (73%)]\tLoss: 1524537.125000\n",
            "Train Epoch: 5 [5600/7471 (75%)]\tLoss: 1619199.875000\n",
            "Train Epoch: 5 [5760/7471 (77%)]\tLoss: 1595310.625000\n",
            "Train Epoch: 5 [5920/7471 (79%)]\tLoss: 1593871.750000\n",
            "Train Epoch: 5 [6080/7471 (81%)]\tLoss: 1608460.375000\n",
            "Train Epoch: 5 [6240/7471 (84%)]\tLoss: 1614511.875000\n",
            "Train Epoch: 5 [6400/7471 (86%)]\tLoss: 1553252.125000\n",
            "Train Epoch: 5 [6560/7471 (88%)]\tLoss: 1548280.875000\n",
            "Train Epoch: 5 [6720/7471 (90%)]\tLoss: 1617898.250000\n",
            "Train Epoch: 5 [6880/7471 (92%)]\tLoss: 1612836.500000\n",
            "Train Epoch: 5 [7040/7471 (94%)]\tLoss: 1635678.250000\n",
            "Train Epoch: 5 [7200/7471 (96%)]\tLoss: 1589530.125000\n",
            "Train Epoch: 5 [7360/7471 (99%)]\tLoss: 1628423.625000\n",
            "Epoch 5 model saved!\n",
            "\n",
            "Test set (1868 samples): Average loss: inf\n",
            "\n",
            "Train Epoch: 6 [160/7471 (2%)]\tLoss: 1658582.125000\n",
            "Train Epoch: 6 [320/7471 (4%)]\tLoss: 1508240.250000\n",
            "Train Epoch: 6 [480/7471 (6%)]\tLoss: 1588047.875000\n",
            "Train Epoch: 6 [640/7471 (9%)]\tLoss: 1628482.375000\n",
            "Train Epoch: 6 [800/7471 (11%)]\tLoss: 1559347.125000\n",
            "Train Epoch: 6 [960/7471 (13%)]\tLoss: 1556569.375000\n",
            "Train Epoch: 6 [1120/7471 (15%)]\tLoss: 1566022.750000\n",
            "Train Epoch: 6 [1280/7471 (17%)]\tLoss: 1577337.500000\n",
            "Train Epoch: 6 [1440/7471 (19%)]\tLoss: 1600029.000000\n",
            "Train Epoch: 6 [1600/7471 (21%)]\tLoss: 1554682.000000\n",
            "Train Epoch: 6 [1760/7471 (24%)]\tLoss: 1628643.375000\n",
            "Train Epoch: 6 [1920/7471 (26%)]\tLoss: 1630234.625000\n",
            "Train Epoch: 6 [2080/7471 (28%)]\tLoss: 1571030.500000\n",
            "Train Epoch: 6 [2240/7471 (30%)]\tLoss: 1555940.375000\n",
            "Train Epoch: 6 [2400/7471 (32%)]\tLoss: 1624753.250000\n",
            "Train Epoch: 6 [2560/7471 (34%)]\tLoss: 1557077.375000\n",
            "Train Epoch: 6 [2720/7471 (36%)]\tLoss: 1591897.250000\n",
            "Train Epoch: 6 [2880/7471 (39%)]\tLoss: 1585337.625000\n",
            "Train Epoch: 6 [3040/7471 (41%)]\tLoss: 1617932.125000\n",
            "Train Epoch: 6 [3200/7471 (43%)]\tLoss: 1595894.125000\n",
            "Train Epoch: 6 [3360/7471 (45%)]\tLoss: 1555962.000000\n",
            "Train Epoch: 6 [3520/7471 (47%)]\tLoss: 1590955.875000\n",
            "Train Epoch: 6 [3680/7471 (49%)]\tLoss: 1627867.500000\n",
            "Train Epoch: 6 [3840/7471 (51%)]\tLoss: 1589440.625000\n",
            "Train Epoch: 6 [4000/7471 (54%)]\tLoss: 1548360.125000\n",
            "Train Epoch: 6 [4160/7471 (56%)]\tLoss: 1610088.125000\n",
            "Train Epoch: 6 [4320/7471 (58%)]\tLoss: 1580789.750000\n",
            "Train Epoch: 6 [4480/7471 (60%)]\tLoss: 1635515.375000\n",
            "Train Epoch: 6 [4640/7471 (62%)]\tLoss: 1574427.625000\n",
            "Train Epoch: 6 [4800/7471 (64%)]\tLoss: 1626985.750000\n",
            "Train Epoch: 6 [4960/7471 (66%)]\tLoss: 1645106.000000\n",
            "Train Epoch: 6 [5120/7471 (69%)]\tLoss: 1601074.375000\n",
            "Train Epoch: 6 [5280/7471 (71%)]\tLoss: 1547389.750000\n",
            "Train Epoch: 6 [5440/7471 (73%)]\tLoss: 1565276.000000\n",
            "Train Epoch: 6 [5600/7471 (75%)]\tLoss: 1525455.750000\n",
            "Train Epoch: 6 [5760/7471 (77%)]\tLoss: 1561400.875000\n",
            "Train Epoch: 6 [5920/7471 (79%)]\tLoss: 1615062.625000\n",
            "Train Epoch: 6 [6080/7471 (81%)]\tLoss: 1528508.000000\n",
            "Train Epoch: 6 [6240/7471 (84%)]\tLoss: 1610951.500000\n",
            "Train Epoch: 6 [6400/7471 (86%)]\tLoss: 1555980.250000\n",
            "Train Epoch: 6 [6560/7471 (88%)]\tLoss: 1603801.000000\n",
            "Train Epoch: 6 [6720/7471 (90%)]\tLoss: 1548212.875000\n",
            "Train Epoch: 6 [6880/7471 (92%)]\tLoss: 1570814.000000\n",
            "Train Epoch: 6 [7040/7471 (94%)]\tLoss: 1566693.625000\n",
            "Train Epoch: 6 [7200/7471 (96%)]\tLoss: 1556018.500000\n",
            "Train Epoch: 6 [7360/7471 (99%)]\tLoss: 1532823.250000\n",
            "Epoch 6 model saved!\n",
            "\n",
            "Test set (1868 samples): Average loss: inf\n",
            "\n",
            "Train Epoch: 7 [160/7471 (2%)]\tLoss: 1633624.125000\n",
            "Train Epoch: 7 [320/7471 (4%)]\tLoss: 1632362.000000\n",
            "Train Epoch: 7 [480/7471 (6%)]\tLoss: 1556857.500000\n",
            "Train Epoch: 7 [640/7471 (9%)]\tLoss: 1618450.375000\n",
            "Train Epoch: 7 [800/7471 (11%)]\tLoss: 1586441.750000\n",
            "Train Epoch: 7 [960/7471 (13%)]\tLoss: 1608863.250000\n",
            "Train Epoch: 7 [1120/7471 (15%)]\tLoss: 1594700.375000\n",
            "Train Epoch: 7 [1280/7471 (17%)]\tLoss: 1533992.625000\n",
            "Train Epoch: 7 [1440/7471 (19%)]\tLoss: 1638257.000000\n",
            "Train Epoch: 7 [1600/7471 (21%)]\tLoss: 1544356.875000\n",
            "Train Epoch: 7 [1760/7471 (24%)]\tLoss: 1609064.125000\n",
            "Train Epoch: 7 [1920/7471 (26%)]\tLoss: 1632779.125000\n",
            "Train Epoch: 7 [2080/7471 (28%)]\tLoss: 1634370.125000\n",
            "Train Epoch: 7 [2240/7471 (30%)]\tLoss: 1631460.375000\n",
            "Train Epoch: 7 [2400/7471 (32%)]\tLoss: 1604620.375000\n",
            "Train Epoch: 7 [2560/7471 (34%)]\tLoss: 1613602.000000\n",
            "Train Epoch: 7 [2720/7471 (36%)]\tLoss: 1626321.750000\n",
            "Train Epoch: 7 [2880/7471 (39%)]\tLoss: 1556412.625000\n",
            "Train Epoch: 7 [3040/7471 (41%)]\tLoss: 1636916.500000\n",
            "Train Epoch: 7 [3200/7471 (43%)]\tLoss: 1574210.875000\n",
            "Train Epoch: 7 [3360/7471 (45%)]\tLoss: 1616791.875000\n",
            "Train Epoch: 7 [3520/7471 (47%)]\tLoss: 1630088.250000\n",
            "Train Epoch: 7 [3680/7471 (49%)]\tLoss: 1611033.875000\n",
            "Train Epoch: 7 [3840/7471 (51%)]\tLoss: 1623399.125000\n",
            "Train Epoch: 7 [4000/7471 (54%)]\tLoss: 1653402.875000\n",
            "Train Epoch: 7 [4160/7471 (56%)]\tLoss: 1515387.375000\n",
            "Train Epoch: 7 [4320/7471 (58%)]\tLoss: 1612566.625000\n",
            "Train Epoch: 7 [4480/7471 (60%)]\tLoss: 1622263.375000\n",
            "Train Epoch: 7 [4640/7471 (62%)]\tLoss: 1637418.250000\n",
            "Train Epoch: 7 [4800/7471 (64%)]\tLoss: 1574582.250000\n",
            "Train Epoch: 7 [4960/7471 (66%)]\tLoss: 1563057.750000\n",
            "Train Epoch: 7 [5120/7471 (69%)]\tLoss: 1611712.750000\n",
            "Train Epoch: 7 [5280/7471 (71%)]\tLoss: 1555099.000000\n",
            "Train Epoch: 7 [5440/7471 (73%)]\tLoss: 1594834.250000\n",
            "Train Epoch: 7 [5600/7471 (75%)]\tLoss: 1596680.250000\n",
            "Train Epoch: 7 [5760/7471 (77%)]\tLoss: 1563046.000000\n",
            "Train Epoch: 7 [5920/7471 (79%)]\tLoss: 1626442.250000\n",
            "Train Epoch: 7 [6080/7471 (81%)]\tLoss: 1630389.750000\n",
            "Train Epoch: 7 [6240/7471 (84%)]\tLoss: 1633085.375000\n",
            "Train Epoch: 7 [6400/7471 (86%)]\tLoss: 1579185.375000\n",
            "Train Epoch: 7 [6560/7471 (88%)]\tLoss: 1609672.500000\n",
            "Train Epoch: 7 [6720/7471 (90%)]\tLoss: 1548647.375000\n",
            "Train Epoch: 7 [6880/7471 (92%)]\tLoss: 1586550.375000\n",
            "Train Epoch: 7 [7040/7471 (94%)]\tLoss: 1612576.625000\n",
            "Train Epoch: 7 [7200/7471 (96%)]\tLoss: 1512475.750000\n",
            "Train Epoch: 7 [7360/7471 (99%)]\tLoss: 1631350.250000\n",
            "Epoch 7 model saved!\n",
            "\n",
            "Test set (1868 samples): Average loss: 4816097581404515.0000\n",
            "\n",
            "Train Epoch: 8 [160/7471 (2%)]\tLoss: 1630490.625000\n",
            "Train Epoch: 8 [320/7471 (4%)]\tLoss: 1586517.500000\n",
            "Train Epoch: 8 [480/7471 (6%)]\tLoss: 1549462.500000\n",
            "Train Epoch: 8 [640/7471 (9%)]\tLoss: 1603882.125000\n",
            "Train Epoch: 8 [800/7471 (11%)]\tLoss: 1498657.875000\n",
            "Train Epoch: 8 [960/7471 (13%)]\tLoss: 1598883.750000\n",
            "Train Epoch: 8 [1120/7471 (15%)]\tLoss: 1585784.625000\n",
            "Train Epoch: 8 [1280/7471 (17%)]\tLoss: 1612350.250000\n",
            "Train Epoch: 8 [1440/7471 (19%)]\tLoss: 1592889.250000\n",
            "Train Epoch: 8 [1600/7471 (21%)]\tLoss: 1641903.375000\n",
            "Train Epoch: 8 [1760/7471 (24%)]\tLoss: 1634222.500000\n",
            "Train Epoch: 8 [1920/7471 (26%)]\tLoss: 1618093.000000\n",
            "Train Epoch: 8 [2080/7471 (28%)]\tLoss: 1516266.750000\n",
            "Train Epoch: 8 [2240/7471 (30%)]\tLoss: 1636539.875000\n",
            "Train Epoch: 8 [2400/7471 (32%)]\tLoss: 1514349.125000\n",
            "Train Epoch: 8 [2560/7471 (34%)]\tLoss: 1560611.125000\n",
            "Train Epoch: 8 [2720/7471 (36%)]\tLoss: 1545880.625000\n",
            "Train Epoch: 8 [2880/7471 (39%)]\tLoss: 1551659.750000\n",
            "Train Epoch: 8 [3040/7471 (41%)]\tLoss: 1616455.500000\n",
            "Train Epoch: 8 [3200/7471 (43%)]\tLoss: 1629900.750000\n",
            "Train Epoch: 8 [3360/7471 (45%)]\tLoss: 1643489.375000\n",
            "Train Epoch: 8 [3520/7471 (47%)]\tLoss: 1586219.500000\n",
            "Train Epoch: 8 [3680/7471 (49%)]\tLoss: 1527170.750000\n",
            "Train Epoch: 8 [3840/7471 (51%)]\tLoss: 1578960.750000\n",
            "Train Epoch: 8 [4000/7471 (54%)]\tLoss: 1485951.875000\n",
            "Train Epoch: 8 [4160/7471 (56%)]\tLoss: 1626942.250000\n",
            "Train Epoch: 8 [4320/7471 (58%)]\tLoss: 1589613.500000\n",
            "Train Epoch: 8 [4480/7471 (60%)]\tLoss: 1565415.250000\n",
            "Train Epoch: 8 [4640/7471 (62%)]\tLoss: 1534933.750000\n",
            "Train Epoch: 8 [4800/7471 (64%)]\tLoss: 1580818.250000\n",
            "Train Epoch: 8 [4960/7471 (66%)]\tLoss: 1598942.500000\n",
            "Train Epoch: 8 [5120/7471 (69%)]\tLoss: 1558880.125000\n",
            "Train Epoch: 8 [5280/7471 (71%)]\tLoss: 1590296.000000\n",
            "Train Epoch: 8 [5440/7471 (73%)]\tLoss: 1587533.375000\n",
            "Train Epoch: 8 [5600/7471 (75%)]\tLoss: 1593648.500000\n",
            "Train Epoch: 8 [5760/7471 (77%)]\tLoss: 1561292.750000\n",
            "Train Epoch: 8 [5920/7471 (79%)]\tLoss: 1632008.250000\n",
            "Train Epoch: 8 [6080/7471 (81%)]\tLoss: 1564502.125000\n",
            "Train Epoch: 8 [6240/7471 (84%)]\tLoss: 1546336.375000\n",
            "Train Epoch: 8 [6400/7471 (86%)]\tLoss: 1639512.875000\n",
            "Train Epoch: 8 [6560/7471 (88%)]\tLoss: 1559282.375000\n",
            "Train Epoch: 8 [6720/7471 (90%)]\tLoss: 1555234.875000\n",
            "Train Epoch: 8 [6880/7471 (92%)]\tLoss: 1605094.500000\n",
            "Train Epoch: 8 [7040/7471 (94%)]\tLoss: 1649370.750000\n",
            "Train Epoch: 8 [7200/7471 (96%)]\tLoss: 1616259.875000\n",
            "Train Epoch: 8 [7360/7471 (99%)]\tLoss: 1587910.375000\n",
            "Epoch 8 model saved!\n",
            "\n",
            "Test set (1868 samples): Average loss: 4413198360038708224.0000\n",
            "\n",
            "Train Epoch: 9 [160/7471 (2%)]\tLoss: 1507509.375000\n",
            "Train Epoch: 9 [320/7471 (4%)]\tLoss: 1560096.500000\n",
            "Train Epoch: 9 [480/7471 (6%)]\tLoss: 1547916.250000\n",
            "Train Epoch: 9 [640/7471 (9%)]\tLoss: 1616521.875000\n",
            "Train Epoch: 9 [800/7471 (11%)]\tLoss: 1557257.750000\n",
            "Train Epoch: 9 [960/7471 (13%)]\tLoss: 1587856.375000\n",
            "Train Epoch: 9 [1120/7471 (15%)]\tLoss: 1509076.750000\n",
            "Train Epoch: 9 [1280/7471 (17%)]\tLoss: 1570087.625000\n",
            "Train Epoch: 9 [1440/7471 (19%)]\tLoss: 1577877.750000\n",
            "Train Epoch: 9 [1600/7471 (21%)]\tLoss: 1618966.750000\n",
            "Train Epoch: 9 [1760/7471 (24%)]\tLoss: 1561297.875000\n",
            "Train Epoch: 9 [1920/7471 (26%)]\tLoss: 1613723.625000\n",
            "Train Epoch: 9 [2080/7471 (28%)]\tLoss: 1571741.500000\n",
            "Train Epoch: 9 [2240/7471 (30%)]\tLoss: 1509823.125000\n",
            "Train Epoch: 9 [2400/7471 (32%)]\tLoss: 1568894.000000\n",
            "Train Epoch: 9 [2560/7471 (34%)]\tLoss: 1626878.000000\n",
            "Train Epoch: 9 [2720/7471 (36%)]\tLoss: 1646691.000000\n",
            "Train Epoch: 9 [2880/7471 (39%)]\tLoss: 1578632.375000\n",
            "Train Epoch: 9 [3040/7471 (41%)]\tLoss: 1517448.375000\n",
            "Train Epoch: 9 [3200/7471 (43%)]\tLoss: 1604429.875000\n",
            "Train Epoch: 9 [3360/7471 (45%)]\tLoss: 1565626.250000\n",
            "Train Epoch: 9 [3520/7471 (47%)]\tLoss: 1646307.750000\n",
            "Train Epoch: 9 [3680/7471 (49%)]\tLoss: 1603320.500000\n",
            "Train Epoch: 9 [3840/7471 (51%)]\tLoss: 1609342.000000\n",
            "Train Epoch: 9 [4000/7471 (54%)]\tLoss: 1584534.750000\n",
            "Train Epoch: 9 [4160/7471 (56%)]\tLoss: 1625932.500000\n",
            "Train Epoch: 9 [4320/7471 (58%)]\tLoss: 1559454.000000\n",
            "Train Epoch: 9 [4480/7471 (60%)]\tLoss: 1598808.250000\n",
            "Train Epoch: 9 [4640/7471 (62%)]\tLoss: 1515523.500000\n",
            "Train Epoch: 9 [4800/7471 (64%)]\tLoss: 1599736.875000\n",
            "Train Epoch: 9 [4960/7471 (66%)]\tLoss: 1514730.375000\n",
            "Train Epoch: 9 [5120/7471 (69%)]\tLoss: 1566220.125000\n",
            "Train Epoch: 9 [5280/7471 (71%)]\tLoss: 1565659.250000\n",
            "Train Epoch: 9 [5440/7471 (73%)]\tLoss: 1547387.750000\n",
            "Train Epoch: 9 [5600/7471 (75%)]\tLoss: 1568079.250000\n",
            "Train Epoch: 9 [5760/7471 (77%)]\tLoss: 1578049.000000\n",
            "Train Epoch: 9 [5920/7471 (79%)]\tLoss: 1603284.250000\n",
            "Train Epoch: 9 [6080/7471 (81%)]\tLoss: 1549793.625000\n",
            "Train Epoch: 9 [6240/7471 (84%)]\tLoss: 1591575.625000\n",
            "Train Epoch: 9 [6400/7471 (86%)]\tLoss: 1605139.375000\n",
            "Train Epoch: 9 [6560/7471 (88%)]\tLoss: 1559162.875000\n",
            "Train Epoch: 9 [6720/7471 (90%)]\tLoss: 1637078.750000\n",
            "Train Epoch: 9 [6880/7471 (92%)]\tLoss: 1601369.625000\n",
            "Train Epoch: 9 [7040/7471 (94%)]\tLoss: 1561721.750000\n",
            "Train Epoch: 9 [7200/7471 (96%)]\tLoss: 1583583.375000\n",
            "Train Epoch: 9 [7360/7471 (99%)]\tLoss: 1636058.750000\n",
            "Epoch 9 model saved!\n",
            "\n",
            "Test set (1868 samples): Average loss: 98641.7323\n",
            "\n",
            "Train Epoch: 10 [160/7471 (2%)]\tLoss: 1500249.625000\n",
            "Train Epoch: 10 [320/7471 (4%)]\tLoss: 1560923.375000\n",
            "Train Epoch: 10 [480/7471 (6%)]\tLoss: 1624906.250000\n",
            "Train Epoch: 10 [640/7471 (9%)]\tLoss: 1579733.375000\n",
            "Train Epoch: 10 [800/7471 (11%)]\tLoss: 1613802.375000\n",
            "Train Epoch: 10 [960/7471 (13%)]\tLoss: 1643427.750000\n",
            "Train Epoch: 10 [1120/7471 (15%)]\tLoss: 1603766.875000\n",
            "Train Epoch: 10 [1280/7471 (17%)]\tLoss: 1558700.375000\n",
            "Train Epoch: 10 [1440/7471 (19%)]\tLoss: 1568692.125000\n",
            "Train Epoch: 10 [1600/7471 (21%)]\tLoss: 1531466.375000\n",
            "Train Epoch: 10 [1760/7471 (24%)]\tLoss: 1602193.125000\n",
            "Train Epoch: 10 [1920/7471 (26%)]\tLoss: 1559320.250000\n",
            "Train Epoch: 10 [2080/7471 (28%)]\tLoss: 1587523.125000\n",
            "Train Epoch: 10 [2240/7471 (30%)]\tLoss: 1591645.750000\n",
            "Train Epoch: 10 [2400/7471 (32%)]\tLoss: 1596847.375000\n",
            "Train Epoch: 10 [2560/7471 (34%)]\tLoss: 1545088.625000\n",
            "Train Epoch: 10 [2720/7471 (36%)]\tLoss: 1595093.875000\n",
            "Train Epoch: 10 [2880/7471 (39%)]\tLoss: 1564377.625000\n",
            "Train Epoch: 10 [3040/7471 (41%)]\tLoss: 1587078.500000\n",
            "Train Epoch: 10 [3200/7471 (43%)]\tLoss: 1589297.875000\n",
            "Train Epoch: 10 [3360/7471 (45%)]\tLoss: 1612584.875000\n",
            "Train Epoch: 10 [3520/7471 (47%)]\tLoss: 1504218.250000\n",
            "Train Epoch: 10 [3680/7471 (49%)]\tLoss: 1588364.875000\n",
            "Train Epoch: 10 [3840/7471 (51%)]\tLoss: 1585051.750000\n",
            "Train Epoch: 10 [4000/7471 (54%)]\tLoss: 1574153.125000\n",
            "Train Epoch: 10 [4160/7471 (56%)]\tLoss: 1637327.125000\n",
            "Train Epoch: 10 [4320/7471 (58%)]\tLoss: 1622621.375000\n",
            "Train Epoch: 10 [4480/7471 (60%)]\tLoss: 1643210.250000\n",
            "Train Epoch: 10 [4640/7471 (62%)]\tLoss: 1667449.125000\n",
            "Train Epoch: 10 [4800/7471 (64%)]\tLoss: 1637304.500000\n",
            "Train Epoch: 10 [4960/7471 (66%)]\tLoss: 1647454.875000\n",
            "Train Epoch: 10 [5120/7471 (69%)]\tLoss: 1635959.250000\n",
            "Train Epoch: 10 [5280/7471 (71%)]\tLoss: 1604740.250000\n",
            "Train Epoch: 10 [5440/7471 (73%)]\tLoss: 1644469.625000\n",
            "Train Epoch: 10 [5600/7471 (75%)]\tLoss: 1614180.500000\n",
            "Train Epoch: 10 [5760/7471 (77%)]\tLoss: 1619667.875000\n",
            "Train Epoch: 10 [5920/7471 (79%)]\tLoss: 1603237.750000\n",
            "Train Epoch: 10 [6080/7471 (81%)]\tLoss: 1626153.625000\n",
            "Train Epoch: 10 [6240/7471 (84%)]\tLoss: 1642286.625000\n",
            "Train Epoch: 10 [6400/7471 (86%)]\tLoss: 1614055.375000\n",
            "Train Epoch: 10 [6560/7471 (88%)]\tLoss: 1645377.750000\n",
            "Train Epoch: 10 [6720/7471 (90%)]\tLoss: 1622127.000000\n",
            "Train Epoch: 10 [6880/7471 (92%)]\tLoss: 1572245.125000\n",
            "Train Epoch: 10 [7040/7471 (94%)]\tLoss: 1619025.500000\n",
            "Train Epoch: 10 [7200/7471 (96%)]\tLoss: 1640449.500000\n",
            "Train Epoch: 10 [7360/7471 (99%)]\tLoss: 1635547.000000\n",
            "Epoch 10 model saved!\n",
            "\n",
            "Test set (1868 samples): Average loss: 4396533070342312448.0000\n",
            "\n",
            "Train Epoch: 11 [160/7471 (2%)]\tLoss: 1617007.625000\n",
            "Train Epoch: 11 [320/7471 (4%)]\tLoss: 1640991.625000\n",
            "Train Epoch: 11 [480/7471 (6%)]\tLoss: 1592930.875000\n",
            "Train Epoch: 11 [640/7471 (9%)]\tLoss: 1617713.000000\n",
            "Train Epoch: 11 [800/7471 (11%)]\tLoss: 1653243.250000\n",
            "Train Epoch: 11 [960/7471 (13%)]\tLoss: 1612953.750000\n",
            "Train Epoch: 11 [1120/7471 (15%)]\tLoss: 1624788.125000\n",
            "Train Epoch: 11 [1280/7471 (17%)]\tLoss: 1612561.000000\n",
            "Train Epoch: 11 [1440/7471 (19%)]\tLoss: 1657328.750000\n",
            "Train Epoch: 11 [1600/7471 (21%)]\tLoss: 1540747.375000\n",
            "Train Epoch: 11 [1760/7471 (24%)]\tLoss: 1542198.000000\n",
            "Train Epoch: 11 [1920/7471 (26%)]\tLoss: 1597157.625000\n",
            "Train Epoch: 11 [2080/7471 (28%)]\tLoss: 1605753.250000\n",
            "Train Epoch: 11 [2240/7471 (30%)]\tLoss: 1592219.000000\n",
            "Train Epoch: 11 [2400/7471 (32%)]\tLoss: 1608568.625000\n",
            "Train Epoch: 11 [2560/7471 (34%)]\tLoss: 1593319.875000\n",
            "Train Epoch: 11 [2720/7471 (36%)]\tLoss: 1596084.875000\n",
            "Train Epoch: 11 [2880/7471 (39%)]\tLoss: 1599103.000000\n",
            "Train Epoch: 11 [3040/7471 (41%)]\tLoss: 1578250.250000\n",
            "Train Epoch: 11 [3200/7471 (43%)]\tLoss: 1582704.250000\n",
            "Train Epoch: 11 [3360/7471 (45%)]\tLoss: 1605599.625000\n",
            "Train Epoch: 11 [3520/7471 (47%)]\tLoss: 1587993.875000\n",
            "Train Epoch: 11 [3680/7471 (49%)]\tLoss: 1611666.125000\n",
            "Train Epoch: 11 [3840/7471 (51%)]\tLoss: 1574863.875000\n",
            "Train Epoch: 11 [4000/7471 (54%)]\tLoss: 1600704.000000\n",
            "Train Epoch: 11 [4160/7471 (56%)]\tLoss: 1597780.375000\n",
            "Train Epoch: 11 [4320/7471 (58%)]\tLoss: 1589746.250000\n",
            "Train Epoch: 11 [4480/7471 (60%)]\tLoss: 1634031.375000\n",
            "Train Epoch: 11 [4640/7471 (62%)]\tLoss: 1636836.500000\n",
            "Train Epoch: 11 [4800/7471 (64%)]\tLoss: 1533335.500000\n",
            "Train Epoch: 11 [4960/7471 (66%)]\tLoss: 1589809.875000\n",
            "Train Epoch: 11 [5120/7471 (69%)]\tLoss: 1624639.750000\n",
            "Train Epoch: 11 [5280/7471 (71%)]\tLoss: 1586411.750000\n",
            "Train Epoch: 11 [5440/7471 (73%)]\tLoss: 1567263.500000\n",
            "Train Epoch: 11 [5600/7471 (75%)]\tLoss: 1635617.375000\n",
            "Train Epoch: 11 [5760/7471 (77%)]\tLoss: 1627304.375000\n",
            "Train Epoch: 11 [5920/7471 (79%)]\tLoss: 1573685.375000\n",
            "Train Epoch: 11 [6080/7471 (81%)]\tLoss: 1591913.625000\n",
            "Train Epoch: 11 [6240/7471 (84%)]\tLoss: 1612636.000000\n",
            "Train Epoch: 11 [6400/7471 (86%)]\tLoss: 1593102.125000\n",
            "Train Epoch: 11 [6560/7471 (88%)]\tLoss: 1580530.875000\n",
            "Train Epoch: 11 [6720/7471 (90%)]\tLoss: 1576024.000000\n",
            "Train Epoch: 11 [6880/7471 (92%)]\tLoss: 1603694.250000\n",
            "Train Epoch: 11 [7040/7471 (94%)]\tLoss: 1623334.250000\n",
            "Train Epoch: 11 [7200/7471 (96%)]\tLoss: 1646603.500000\n",
            "Train Epoch: 11 [7360/7471 (99%)]\tLoss: 1590421.500000\n",
            "Epoch 11 model saved!\n",
            "\n",
            "Test set (1868 samples): Average loss: 11326743146271.2910\n",
            "\n",
            "Train Epoch: 12 [160/7471 (2%)]\tLoss: 1538460.375000\n",
            "Train Epoch: 12 [320/7471 (4%)]\tLoss: 1603255.750000\n",
            "Train Epoch: 12 [480/7471 (6%)]\tLoss: 1545084.750000\n",
            "Train Epoch: 12 [640/7471 (9%)]\tLoss: 1554838.375000\n",
            "Train Epoch: 12 [800/7471 (11%)]\tLoss: 1596951.875000\n",
            "Train Epoch: 12 [960/7471 (13%)]\tLoss: 1592631.375000\n",
            "Train Epoch: 12 [1120/7471 (15%)]\tLoss: 1625541.250000\n",
            "Train Epoch: 12 [1280/7471 (17%)]\tLoss: 1622611.125000\n",
            "Train Epoch: 12 [1440/7471 (19%)]\tLoss: 1649452.125000\n",
            "Train Epoch: 12 [1600/7471 (21%)]\tLoss: 1627178.375000\n",
            "Train Epoch: 12 [1760/7471 (24%)]\tLoss: 1625210.875000\n",
            "Train Epoch: 12 [1920/7471 (26%)]\tLoss: 1543593.250000\n",
            "Train Epoch: 12 [2080/7471 (28%)]\tLoss: 1582621.500000\n",
            "Train Epoch: 12 [2240/7471 (30%)]\tLoss: 1541898.000000\n",
            "Train Epoch: 12 [2400/7471 (32%)]\tLoss: 1553422.375000\n",
            "Train Epoch: 12 [2560/7471 (34%)]\tLoss: 1608820.250000\n",
            "Train Epoch: 12 [2720/7471 (36%)]\tLoss: 1585051.250000\n",
            "Train Epoch: 12 [2880/7471 (39%)]\tLoss: 1585591.375000\n",
            "Train Epoch: 12 [3040/7471 (41%)]\tLoss: 1604972.375000\n",
            "Train Epoch: 12 [3200/7471 (43%)]\tLoss: 1585357.500000\n",
            "Train Epoch: 12 [3360/7471 (45%)]\tLoss: 1601900.625000\n",
            "Train Epoch: 12 [3520/7471 (47%)]\tLoss: 1610389.250000\n",
            "Train Epoch: 12 [3680/7471 (49%)]\tLoss: 1608847.125000\n",
            "Train Epoch: 12 [3840/7471 (51%)]\tLoss: 1637312.500000\n",
            "Train Epoch: 12 [4000/7471 (54%)]\tLoss: 1567790.500000\n",
            "Train Epoch: 12 [4160/7471 (56%)]\tLoss: 1495319.625000\n",
            "Train Epoch: 12 [4320/7471 (58%)]\tLoss: 1603909.250000\n",
            "Train Epoch: 12 [4480/7471 (60%)]\tLoss: 1525940.875000\n",
            "Train Epoch: 12 [4640/7471 (62%)]\tLoss: 1573030.625000\n",
            "Train Epoch: 12 [4800/7471 (64%)]\tLoss: 1636481.750000\n",
            "Train Epoch: 12 [4960/7471 (66%)]\tLoss: 1582665.250000\n",
            "Train Epoch: 12 [5120/7471 (69%)]\tLoss: 1502774.375000\n",
            "Train Epoch: 12 [5280/7471 (71%)]\tLoss: 1604414.125000\n",
            "Train Epoch: 12 [5440/7471 (73%)]\tLoss: 1622352.250000\n",
            "Train Epoch: 12 [5600/7471 (75%)]\tLoss: 1597446.750000\n",
            "Train Epoch: 12 [5760/7471 (77%)]\tLoss: 1635342.000000\n",
            "Train Epoch: 12 [5920/7471 (79%)]\tLoss: 1600609.000000\n",
            "Train Epoch: 12 [6080/7471 (81%)]\tLoss: 1564067.500000\n",
            "Train Epoch: 12 [6240/7471 (84%)]\tLoss: 1631779.000000\n",
            "Train Epoch: 12 [6400/7471 (86%)]\tLoss: 1542017.875000\n",
            "Train Epoch: 12 [6560/7471 (88%)]\tLoss: 1602553.875000\n",
            "Train Epoch: 12 [6720/7471 (90%)]\tLoss: 1570759.375000\n",
            "Train Epoch: 12 [6880/7471 (92%)]\tLoss: 1612420.375000\n",
            "Train Epoch: 12 [7040/7471 (94%)]\tLoss: 1650367.625000\n",
            "Train Epoch: 12 [7200/7471 (96%)]\tLoss: 1617526.625000\n",
            "Train Epoch: 12 [7360/7471 (99%)]\tLoss: 1638507.875000\n",
            "Epoch 12 model saved!\n",
            "\n",
            "Test set (1868 samples): Average loss: 374382019914.2548\n",
            "\n",
            "Train Epoch: 13 [160/7471 (2%)]\tLoss: 1599401.500000\n",
            "Train Epoch: 13 [320/7471 (4%)]\tLoss: 1581120.125000\n",
            "Train Epoch: 13 [480/7471 (6%)]\tLoss: 1612655.625000\n",
            "Train Epoch: 13 [640/7471 (9%)]\tLoss: 1584689.750000\n",
            "Train Epoch: 13 [800/7471 (11%)]\tLoss: 1629046.750000\n",
            "Train Epoch: 13 [960/7471 (13%)]\tLoss: 1569854.875000\n",
            "Train Epoch: 13 [1120/7471 (15%)]\tLoss: 1551940.375000\n",
            "Train Epoch: 13 [1280/7471 (17%)]\tLoss: 1612949.125000\n",
            "Train Epoch: 13 [1440/7471 (19%)]\tLoss: 1609639.375000\n",
            "Train Epoch: 13 [1600/7471 (21%)]\tLoss: 1612552.750000\n",
            "Train Epoch: 13 [1760/7471 (24%)]\tLoss: 1571008.250000\n",
            "Train Epoch: 13 [1920/7471 (26%)]\tLoss: 1601009.875000\n",
            "Train Epoch: 13 [2080/7471 (28%)]\tLoss: 1569071.625000\n",
            "Train Epoch: 13 [2240/7471 (30%)]\tLoss: 1558700.000000\n",
            "Train Epoch: 13 [2400/7471 (32%)]\tLoss: 1548599.125000\n",
            "Train Epoch: 13 [2560/7471 (34%)]\tLoss: 1585177.625000\n",
            "Train Epoch: 13 [2720/7471 (36%)]\tLoss: 1600861.375000\n",
            "Train Epoch: 13 [2880/7471 (39%)]\tLoss: 1634287.625000\n",
            "Train Epoch: 13 [3040/7471 (41%)]\tLoss: 1641321.750000\n",
            "Train Epoch: 13 [3200/7471 (43%)]\tLoss: 1547522.250000\n",
            "Train Epoch: 13 [3360/7471 (45%)]\tLoss: 1574881.625000\n",
            "Train Epoch: 13 [3520/7471 (47%)]\tLoss: 1627138.250000\n",
            "Train Epoch: 13 [3680/7471 (49%)]\tLoss: 1611252.250000\n",
            "Train Epoch: 13 [3840/7471 (51%)]\tLoss: 1584089.500000\n",
            "Train Epoch: 13 [4000/7471 (54%)]\tLoss: 1580262.500000\n",
            "Train Epoch: 13 [4160/7471 (56%)]\tLoss: 1648089.250000\n",
            "Train Epoch: 13 [4320/7471 (58%)]\tLoss: 1550380.375000\n",
            "Train Epoch: 13 [4480/7471 (60%)]\tLoss: 1654112.250000\n",
            "Train Epoch: 13 [4640/7471 (62%)]\tLoss: 1551806.625000\n",
            "Train Epoch: 13 [4800/7471 (64%)]\tLoss: 1619841.875000\n",
            "Train Epoch: 13 [4960/7471 (66%)]\tLoss: 1570573.875000\n",
            "Train Epoch: 13 [5120/7471 (69%)]\tLoss: 1606720.500000\n",
            "Train Epoch: 13 [5280/7471 (71%)]\tLoss: 1571180.625000\n",
            "Train Epoch: 13 [5440/7471 (73%)]\tLoss: 1573544.000000\n",
            "Train Epoch: 13 [5600/7471 (75%)]\tLoss: 1618459.625000\n",
            "Train Epoch: 13 [5760/7471 (77%)]\tLoss: 1596735.375000\n",
            "Train Epoch: 13 [5920/7471 (79%)]\tLoss: 1569404.875000\n",
            "Train Epoch: 13 [6080/7471 (81%)]\tLoss: 1560074.750000\n",
            "Train Epoch: 13 [6240/7471 (84%)]\tLoss: 1571320.125000\n",
            "Train Epoch: 13 [6400/7471 (86%)]\tLoss: 1603483.125000\n",
            "Train Epoch: 13 [6560/7471 (88%)]\tLoss: 1570502.500000\n",
            "Train Epoch: 13 [6720/7471 (90%)]\tLoss: 1611625.625000\n",
            "Train Epoch: 13 [6880/7471 (92%)]\tLoss: 1591072.625000\n",
            "Train Epoch: 13 [7040/7471 (94%)]\tLoss: 1574738.875000\n",
            "Train Epoch: 13 [7200/7471 (96%)]\tLoss: 1623700.500000\n",
            "Train Epoch: 13 [7360/7471 (99%)]\tLoss: 1620400.375000\n",
            "Epoch 13 model saved!\n",
            "\n",
            "Test set (1868 samples): Average loss: 286188.7165\n",
            "\n",
            "Train Epoch: 14 [160/7471 (2%)]\tLoss: 1554465.625000\n",
            "Train Epoch: 14 [320/7471 (4%)]\tLoss: 1641827.750000\n",
            "Train Epoch: 14 [480/7471 (6%)]\tLoss: 1568336.375000\n",
            "Train Epoch: 14 [640/7471 (9%)]\tLoss: 1624195.500000\n",
            "Train Epoch: 14 [800/7471 (11%)]\tLoss: 1627139.750000\n",
            "Train Epoch: 14 [960/7471 (13%)]\tLoss: 1583944.125000\n",
            "Train Epoch: 14 [1120/7471 (15%)]\tLoss: 1612619.250000\n",
            "Train Epoch: 14 [1280/7471 (17%)]\tLoss: 1640083.625000\n",
            "Train Epoch: 14 [1440/7471 (19%)]\tLoss: 1622311.000000\n",
            "Train Epoch: 14 [1600/7471 (21%)]\tLoss: 1609949.375000\n",
            "Train Epoch: 14 [1760/7471 (24%)]\tLoss: 1603248.000000\n",
            "Train Epoch: 14 [1920/7471 (26%)]\tLoss: 1636789.625000\n",
            "Train Epoch: 14 [2080/7471 (28%)]\tLoss: 1585575.000000\n",
            "Train Epoch: 14 [2240/7471 (30%)]\tLoss: 1565439.250000\n",
            "Train Epoch: 14 [2400/7471 (32%)]\tLoss: 1591230.500000\n",
            "Train Epoch: 14 [2560/7471 (34%)]\tLoss: 1583062.000000\n",
            "Train Epoch: 14 [2720/7471 (36%)]\tLoss: 1493338.375000\n",
            "Train Epoch: 14 [2880/7471 (39%)]\tLoss: 1612038.750000\n",
            "Train Epoch: 14 [3040/7471 (41%)]\tLoss: 1608972.500000\n",
            "Train Epoch: 14 [3200/7471 (43%)]\tLoss: 1625965.625000\n",
            "Train Epoch: 14 [3360/7471 (45%)]\tLoss: 1620680.000000\n",
            "Train Epoch: 14 [3520/7471 (47%)]\tLoss: 1587255.625000\n",
            "Train Epoch: 14 [3680/7471 (49%)]\tLoss: 1572869.000000\n",
            "Train Epoch: 14 [3840/7471 (51%)]\tLoss: 1578853.375000\n",
            "Train Epoch: 14 [4000/7471 (54%)]\tLoss: 1622982.500000\n",
            "Train Epoch: 14 [4160/7471 (56%)]\tLoss: 1546541.625000\n",
            "Train Epoch: 14 [4320/7471 (58%)]\tLoss: 1504705.125000\n",
            "Train Epoch: 14 [4480/7471 (60%)]\tLoss: 1573476.125000\n",
            "Train Epoch: 14 [4640/7471 (62%)]\tLoss: 1575173.125000\n",
            "Train Epoch: 14 [4800/7471 (64%)]\tLoss: 1611876.000000\n",
            "Train Epoch: 14 [4960/7471 (66%)]\tLoss: 1626781.750000\n",
            "Train Epoch: 14 [5120/7471 (69%)]\tLoss: 1589924.625000\n",
            "Train Epoch: 14 [5280/7471 (71%)]\tLoss: 1596523.125000\n",
            "Train Epoch: 14 [5440/7471 (73%)]\tLoss: 1526676.125000\n",
            "Train Epoch: 14 [5600/7471 (75%)]\tLoss: 1602790.875000\n",
            "Train Epoch: 14 [5760/7471 (77%)]\tLoss: 1645739.000000\n",
            "Train Epoch: 14 [5920/7471 (79%)]\tLoss: 1579476.125000\n",
            "Train Epoch: 14 [6080/7471 (81%)]\tLoss: 1614680.250000\n",
            "Train Epoch: 14 [6240/7471 (84%)]\tLoss: 1565981.500000\n",
            "Train Epoch: 14 [6400/7471 (86%)]\tLoss: 1550093.625000\n",
            "Train Epoch: 14 [6560/7471 (88%)]\tLoss: 1569917.375000\n",
            "Train Epoch: 14 [6720/7471 (90%)]\tLoss: 1519613.500000\n",
            "Train Epoch: 14 [6880/7471 (92%)]\tLoss: 1590323.625000\n",
            "Train Epoch: 14 [7040/7471 (94%)]\tLoss: 1572093.250000\n",
            "Train Epoch: 14 [7200/7471 (96%)]\tLoss: 1636613.625000\n",
            "Train Epoch: 14 [7360/7471 (99%)]\tLoss: 1560253.250000\n",
            "Epoch 14 model saved!\n",
            "\n",
            "Test set (1868 samples): Average loss: 98617.0660\n",
            "\n",
            "Train Epoch: 15 [160/7471 (2%)]\tLoss: 1588136.375000\n",
            "Train Epoch: 15 [320/7471 (4%)]\tLoss: 1544091.500000\n",
            "Train Epoch: 15 [480/7471 (6%)]\tLoss: 1615477.875000\n",
            "Train Epoch: 15 [640/7471 (9%)]\tLoss: 1586639.625000\n",
            "Train Epoch: 15 [800/7471 (11%)]\tLoss: 1554053.875000\n",
            "Train Epoch: 15 [960/7471 (13%)]\tLoss: 1608857.125000\n",
            "Train Epoch: 15 [1120/7471 (15%)]\tLoss: 1592318.375000\n",
            "Train Epoch: 15 [1280/7471 (17%)]\tLoss: 1547445.875000\n",
            "Train Epoch: 15 [1440/7471 (19%)]\tLoss: 1608116.375000\n",
            "Train Epoch: 15 [1600/7471 (21%)]\tLoss: 1586583.625000\n",
            "Train Epoch: 15 [1760/7471 (24%)]\tLoss: 1576679.375000\n",
            "Train Epoch: 15 [1920/7471 (26%)]\tLoss: 1570282.125000\n",
            "Train Epoch: 15 [2080/7471 (28%)]\tLoss: 1549101.375000\n",
            "Train Epoch: 15 [2240/7471 (30%)]\tLoss: 1590911.250000\n",
            "Train Epoch: 15 [2400/7471 (32%)]\tLoss: 1591465.875000\n",
            "Train Epoch: 15 [2560/7471 (34%)]\tLoss: 1516941.125000\n",
            "Train Epoch: 15 [2720/7471 (36%)]\tLoss: 1552425.500000\n",
            "Train Epoch: 15 [2880/7471 (39%)]\tLoss: 1515903.125000\n",
            "Train Epoch: 15 [3040/7471 (41%)]\tLoss: 1602742.625000\n",
            "Train Epoch: 15 [3200/7471 (43%)]\tLoss: 1601514.000000\n",
            "Train Epoch: 15 [3360/7471 (45%)]\tLoss: 1558142.625000\n",
            "Train Epoch: 15 [3520/7471 (47%)]\tLoss: 1527165.375000\n",
            "Train Epoch: 15 [3680/7471 (49%)]\tLoss: 1574183.500000\n",
            "Train Epoch: 15 [3840/7471 (51%)]\tLoss: 1574456.375000\n",
            "Train Epoch: 15 [4000/7471 (54%)]\tLoss: 1623514.250000\n",
            "Train Epoch: 15 [4160/7471 (56%)]\tLoss: 1597599.000000\n",
            "Train Epoch: 15 [4320/7471 (58%)]\tLoss: 1578941.750000\n",
            "Train Epoch: 15 [4480/7471 (60%)]\tLoss: 1587240.250000\n",
            "Train Epoch: 15 [4640/7471 (62%)]\tLoss: 1563929.500000\n",
            "Train Epoch: 15 [4800/7471 (64%)]\tLoss: 1582709.625000\n",
            "Train Epoch: 15 [4960/7471 (66%)]\tLoss: 1527278.125000\n",
            "Train Epoch: 15 [5120/7471 (69%)]\tLoss: 1580361.250000\n",
            "Train Epoch: 15 [5280/7471 (71%)]\tLoss: 1523095.500000\n",
            "Train Epoch: 15 [5440/7471 (73%)]\tLoss: 1560135.000000\n",
            "Train Epoch: 15 [5600/7471 (75%)]\tLoss: 1574425.750000\n",
            "Train Epoch: 15 [5760/7471 (77%)]\tLoss: 1622970.875000\n",
            "Train Epoch: 15 [5920/7471 (79%)]\tLoss: 1595512.250000\n",
            "Train Epoch: 15 [6080/7471 (81%)]\tLoss: 1588584.375000\n",
            "Train Epoch: 15 [6240/7471 (84%)]\tLoss: 1594088.000000\n",
            "Train Epoch: 15 [6400/7471 (86%)]\tLoss: 1566110.375000\n",
            "Train Epoch: 15 [6560/7471 (88%)]\tLoss: 1583891.625000\n",
            "Train Epoch: 15 [6720/7471 (90%)]\tLoss: 1624480.500000\n",
            "Train Epoch: 15 [6880/7471 (92%)]\tLoss: 1611030.125000\n",
            "Train Epoch: 15 [7040/7471 (94%)]\tLoss: 1539891.500000\n",
            "Train Epoch: 15 [7200/7471 (96%)]\tLoss: 1607838.375000\n",
            "Train Epoch: 15 [7360/7471 (99%)]\tLoss: 1552151.875000\n",
            "Epoch 15 model saved!\n",
            "\n",
            "Test set (1868 samples): Average loss: 54928549331.5274\n",
            "\n",
            "Train Epoch: 16 [160/7471 (2%)]\tLoss: 1546239.375000\n",
            "Train Epoch: 16 [320/7471 (4%)]\tLoss: 1594175.625000\n",
            "Train Epoch: 16 [480/7471 (6%)]\tLoss: 1622987.500000\n",
            "Train Epoch: 16 [640/7471 (9%)]\tLoss: 1507824.125000\n",
            "Train Epoch: 16 [800/7471 (11%)]\tLoss: 1575309.125000\n",
            "Train Epoch: 16 [960/7471 (13%)]\tLoss: 1612548.750000\n",
            "Train Epoch: 16 [1120/7471 (15%)]\tLoss: 1535807.500000\n",
            "Train Epoch: 16 [1280/7471 (17%)]\tLoss: 1483086.625000\n",
            "Train Epoch: 16 [1440/7471 (19%)]\tLoss: 1558799.125000\n",
            "Train Epoch: 16 [1600/7471 (21%)]\tLoss: 1557316.000000\n",
            "Train Epoch: 16 [1760/7471 (24%)]\tLoss: 1520590.250000\n",
            "Train Epoch: 16 [1920/7471 (26%)]\tLoss: 1535571.375000\n",
            "Train Epoch: 16 [2080/7471 (28%)]\tLoss: 1529223.500000\n",
            "Train Epoch: 16 [2240/7471 (30%)]\tLoss: 1575077.875000\n",
            "Train Epoch: 16 [2400/7471 (32%)]\tLoss: 1487025.375000\n",
            "Train Epoch: 16 [2560/7471 (34%)]\tLoss: 1624069.375000\n",
            "Train Epoch: 16 [2720/7471 (36%)]\tLoss: 1580037.125000\n",
            "Train Epoch: 16 [2880/7471 (39%)]\tLoss: 1616611.750000\n",
            "Train Epoch: 16 [3040/7471 (41%)]\tLoss: 1543807.750000\n",
            "Train Epoch: 16 [3200/7471 (43%)]\tLoss: 1563024.625000\n",
            "Train Epoch: 16 [3360/7471 (45%)]\tLoss: 1637381.000000\n",
            "Train Epoch: 16 [3520/7471 (47%)]\tLoss: 1579438.750000\n",
            "Train Epoch: 16 [3680/7471 (49%)]\tLoss: 1611829.000000\n",
            "Train Epoch: 16 [3840/7471 (51%)]\tLoss: 1613894.750000\n",
            "Train Epoch: 16 [4000/7471 (54%)]\tLoss: 1613344.125000\n",
            "Train Epoch: 16 [4160/7471 (56%)]\tLoss: 1547741.000000\n",
            "Train Epoch: 16 [4320/7471 (58%)]\tLoss: 1647196.875000\n",
            "Train Epoch: 16 [4480/7471 (60%)]\tLoss: 1590109.750000\n",
            "Train Epoch: 16 [4640/7471 (62%)]\tLoss: 1613036.750000\n",
            "Train Epoch: 16 [4800/7471 (64%)]\tLoss: 1518323.875000\n",
            "Train Epoch: 16 [4960/7471 (66%)]\tLoss: 1558176.125000\n",
            "Train Epoch: 16 [5120/7471 (69%)]\tLoss: 1613997.125000\n",
            "Train Epoch: 16 [5280/7471 (71%)]\tLoss: 1576250.125000\n",
            "Train Epoch: 16 [5440/7471 (73%)]\tLoss: 1602685.500000\n",
            "Train Epoch: 16 [5600/7471 (75%)]\tLoss: 1653567.500000\n",
            "Train Epoch: 16 [5760/7471 (77%)]\tLoss: 1573243.000000\n",
            "Train Epoch: 16 [5920/7471 (79%)]\tLoss: 1617812.750000\n",
            "Train Epoch: 16 [6080/7471 (81%)]\tLoss: 1617763.000000\n",
            "Train Epoch: 16 [6240/7471 (84%)]\tLoss: 1538683.250000\n",
            "Train Epoch: 16 [6400/7471 (86%)]\tLoss: 1588698.000000\n",
            "Train Epoch: 16 [6560/7471 (88%)]\tLoss: 1630532.000000\n",
            "Train Epoch: 16 [6720/7471 (90%)]\tLoss: 1558036.125000\n",
            "Train Epoch: 16 [6880/7471 (92%)]\tLoss: 1600157.750000\n",
            "Train Epoch: 16 [7040/7471 (94%)]\tLoss: 1565003.875000\n",
            "Train Epoch: 16 [7200/7471 (96%)]\tLoss: 1537339.125000\n",
            "Train Epoch: 16 [7360/7471 (99%)]\tLoss: 1584653.625000\n"
          ],
          "name": "stdout"
        }
      ]
    },
    {
      "cell_type": "markdown",
      "metadata": {
        "id": "YzkyBFjAfu26",
        "colab_type": "text"
      },
      "source": [
        "* Test1\n",
        "    * 20 Epoch 이후 Parameter를 가져와 학습시켰는데... 성능이 의외로 좋다!?!  -> -20.07.31.Fri.pm3:00-\n",
        "    * loss plot을 그려보자\n",
        "        * Standalond-Deep Learning 참고!"
      ]
    },
    {
      "cell_type": "markdown",
      "metadata": {
        "id": "CJyi_GXuEI7p",
        "colab_type": "text"
      },
      "source": [
        "## Plot loss & ...\n",
        "\n",
        "* Loss 출력값 그래프로 그리기"
      ]
    },
    {
      "cell_type": "code",
      "metadata": {
        "id": "hCneJB6XkQ5A",
        "colab_type": "code",
        "colab": {}
      },
      "source": [
        "print(list_epoch, epoch_train_losses, epoch_test_losses) \n",
        "print(len(list_epoch), len(epoch_train_losses), len(epoch_test_losses))"
      ],
      "execution_count": null,
      "outputs": []
    },
    {
      "cell_type": "code",
      "metadata": {
        "id": "7Z-0SqAOmLEe",
        "colab_type": "code",
        "colab": {
          "base_uri": "https://localhost:8080/",
          "height": 290
        },
        "outputId": "8cf3fe88-aaaa-4bb1-ee5d-5d0da3bc5518"
      },
      "source": [
        "'''\n",
        "fig = plt.figure(figsize=(15, 5))\n",
        "\n",
        "# ======= Loss Fluctuation ======= #\n",
        "ax1 = fig.add_subplot(1, 2, 1)\n",
        "ax1.plot(list_epoch, epoch_train_losses, label='train_loss', alpha=0.7)\n",
        "ax1.plot(list_epoch, epoch_test_losses, '--', label='val_loss', alpha=0.6)\n",
        "ax1.set_xlabel('epoch')\n",
        "ax1.set_ylabel('loss')\n",
        "ax1.grid()\n",
        "ax1.legend()\n",
        "ax1.set_title('epoch vs loss')\n",
        "'''\n",
        "\n",
        "fig, ax = plt.subplots()\n",
        "ax.plot(list_epoch, epoch_train_losses, label='train_loss', alpha=0.6)\n",
        "ax.plot(list_epoch, epoch_test_losses, '--', label='test_loss')\n",
        "ax.set_xlabel('epoch')\n",
        "ax.set_ylabel('loss')\n",
        "\n",
        "ax.grid()\n",
        "# ax.legend()\n",
        "plt.savefig('./train_test_loss_plot.png', dpi=300)\n",
        "plt.show()"
      ],
      "execution_count": null,
      "outputs": [
        {
          "output_type": "display_data",
          "data": {
            "image/png": "[encoded data removed]",
            "text/plain": [
              "<Figure size 432x288 with 1 Axes>"
            ]
          },
          "metadata": {
            "tags": [],
            "needs_background": "light"
          }
        }
      ]
    },
    {
      "cell_type": "code",
      "metadata": {
        "id": "kX1B6goPkXCD",
        "colab_type": "code",
        "colab": {
          "base_uri": "https://localhost:8080/",
          "height": 1000
        },
        "outputId": "5593ebb7-eaa8-416a-8b28-f2894d647c99"
      },
      "source": [
        "plt.figure(figsize=(15, 10))\n",
        "plot(list_epoch, epoch_train_losses, label='train_loss')\n",
        "plot(list_epoch, epoch_test_losses, '--', label='val_loss')\n",
        "set_xlabel('epoch')\n",
        "set_ylabel('loss')\n",
        "grid()\n",
        "ax1.legend()\n",
        "ax1.set_title('Epoch vs Loss')\n",
        "plt.show()"
      ],
      "execution_count": null,
      "outputs": [
        {
          "output_type": "display_data",
          "data": {
            "image/png": "[encoded data removed]",
            "text/plain": [
              "<Figure size 1080x720 with 1 Axes>"
            ]
          },
          "metadata": {
            "tags": [],
            "needs_background": "light"
          }
        }
      ]
    },
    {
      "cell_type": "code",
      "metadata": {
        "id": "ayuaPeivk8QY",
        "colab_type": "code",
        "colab": {
          "base_uri": "https://localhost:8080/",
          "height": 1000
        },
        "outputId": "459fb170-a355-4d75-b064-d0f8cc886241"
      },
      "source": [
        "plt.plot(list_epoch, epoch_train_losses, label='train_loss', alpha=0.7)\n",
        "plt.plot(list_epoch, epoch_test_losses, '--', label='val_loss')\n",
        "plt.xlabel('Epochs')\n",
        "plt.ylabel('Loss Score')\n",
        "plt.title('Train_Val_Loss')\n",
        "plt.legend()\n",
        "plt.show()"
      ],
      "execution_count": null,
      "outputs": [
        {
          "output_type": "display_data",
          "data": {
            "image/png": "[encoded data removed]",
            "text/plain": [
              "<Figure size 432x288 with 1 Axes>"
            ]
          },
          "metadata": {
            "tags": [],
            "needs_background": "light"
          }
        }
      ]
    },
    {
      "cell_type": "code",
      "metadata": {
        "id": "aUR0eGxpmcvQ",
        "colab_type": "code",
        "colab": {}
      },
      "source": [
        ""
      ],
      "execution_count": null,
      "outputs": []
    }
  ]
}