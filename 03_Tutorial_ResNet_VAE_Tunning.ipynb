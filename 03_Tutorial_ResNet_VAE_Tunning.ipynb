{
  "nbformat": 4,
  "nbformat_minor": 0,
  "metadata": {
    "colab": {
      "name": "03.Tutorial-ResNet-VAE-Tunning.ipynb",
      "provenance": [],
      "collapsed_sections": [],
      "machine_shape": "hm",
      "authorship_tag": "ABX9TyPqebBQJzWVJ0N51fi2qAEd",
      "include_colab_link": true
    },
    "kernelspec": {
      "name": "python3",
      "display_name": "Python 3"
    },
    "accelerator": "GPU",
    "widgets": {
      "application/vnd.jupyter.widget-state+json": {
        "fa9bb79982b84ab7bb2d999c9120fcbb": {
          "model_module": "@jupyter-widgets/controls",
          "model_name": "HBoxModel",
          "state": {
            "_view_name": "HBoxView",
            "_dom_classes": [],
            "_model_name": "HBoxModel",
            "_view_module": "@jupyter-widgets/controls",
            "_model_module_version": "1.5.0",
            "_view_count": null,
            "_view_module_version": "1.5.0",
            "box_style": "",
            "layout": "IPY_MODEL_6817fdee79f34f69b4f3a7b44b430d94",
            "_model_module": "@jupyter-widgets/controls",
            "children": [
              "IPY_MODEL_5def727aefcd44fe992adb7e2b6daaef",
              "IPY_MODEL_84fd8ccb0e5c4870bfad72ac54978845"
            ]
          }
        },
        "6817fdee79f34f69b4f3a7b44b430d94": {
          "model_module": "@jupyter-widgets/base",
          "model_name": "LayoutModel",
          "state": {
            "_view_name": "LayoutView",
            "grid_template_rows": null,
            "right": null,
            "justify_content": null,
            "_view_module": "@jupyter-widgets/base",
            "overflow": null,
            "_model_module_version": "1.2.0",
            "_view_count": null,
            "flex_flow": null,
            "width": null,
            "min_width": null,
            "border": null,
            "align_items": null,
            "bottom": null,
            "_model_module": "@jupyter-widgets/base",
            "top": null,
            "grid_column": null,
            "overflow_y": null,
            "overflow_x": null,
            "grid_auto_flow": null,
            "grid_area": null,
            "grid_template_columns": null,
            "flex": null,
            "_model_name": "LayoutModel",
            "justify_items": null,
            "grid_row": null,
            "max_height": null,
            "align_content": null,
            "visibility": null,
            "align_self": null,
            "height": null,
            "min_height": null,
            "padding": null,
            "grid_auto_rows": null,
            "grid_gap": null,
            "max_width": null,
            "order": null,
            "_view_module_version": "1.2.0",
            "grid_template_areas": null,
            "object_position": null,
            "object_fit": null,
            "grid_auto_columns": null,
            "margin": null,
            "display": null,
            "left": null
          }
        },
        "5def727aefcd44fe992adb7e2b6daaef": {
          "model_module": "@jupyter-widgets/controls",
          "model_name": "FloatProgressModel",
          "state": {
            "_view_name": "ProgressView",
            "style": "IPY_MODEL_652ff976d52647838aca64ce31615d1d",
            "_dom_classes": [],
            "description": "100%",
            "_model_name": "FloatProgressModel",
            "bar_style": "success",
            "max": 241530880,
            "_view_module": "@jupyter-widgets/controls",
            "_model_module_version": "1.5.0",
            "value": 241530880,
            "_view_count": null,
            "_view_module_version": "1.5.0",
            "orientation": "horizontal",
            "min": 0,
            "description_tooltip": null,
            "_model_module": "@jupyter-widgets/controls",
            "layout": "IPY_MODEL_dd1862772a0d4f2dac49da34f3fe5287"
          }
        },
        "84fd8ccb0e5c4870bfad72ac54978845": {
          "model_module": "@jupyter-widgets/controls",
          "model_name": "HTMLModel",
          "state": {
            "_view_name": "HTMLView",
            "style": "IPY_MODEL_46e70e591ac64c87beafffd7bf0daf98",
            "_dom_classes": [],
            "description": "",
            "_model_name": "HTMLModel",
            "placeholder": "​",
            "_view_module": "@jupyter-widgets/controls",
            "_model_module_version": "1.5.0",
            "value": " 230M/230M [00:01&lt;00:00, 191MB/s]",
            "_view_count": null,
            "_view_module_version": "1.5.0",
            "description_tooltip": null,
            "_model_module": "@jupyter-widgets/controls",
            "layout": "IPY_MODEL_eea1be694f0f41b6b08cbecf33effc13"
          }
        },
        "652ff976d52647838aca64ce31615d1d": {
          "model_module": "@jupyter-widgets/controls",
          "model_name": "ProgressStyleModel",
          "state": {
            "_view_name": "StyleView",
            "_model_name": "ProgressStyleModel",
            "description_width": "initial",
            "_view_module": "@jupyter-widgets/base",
            "_model_module_version": "1.5.0",
            "_view_count": null,
            "_view_module_version": "1.2.0",
            "bar_color": null,
            "_model_module": "@jupyter-widgets/controls"
          }
        },
        "dd1862772a0d4f2dac49da34f3fe5287": {
          "model_module": "@jupyter-widgets/base",
          "model_name": "LayoutModel",
          "state": {
            "_view_name": "LayoutView",
            "grid_template_rows": null,
            "right": null,
            "justify_content": null,
            "_view_module": "@jupyter-widgets/base",
            "overflow": null,
            "_model_module_version": "1.2.0",
            "_view_count": null,
            "flex_flow": null,
            "width": null,
            "min_width": null,
            "border": null,
            "align_items": null,
            "bottom": null,
            "_model_module": "@jupyter-widgets/base",
            "top": null,
            "grid_column": null,
            "overflow_y": null,
            "overflow_x": null,
            "grid_auto_flow": null,
            "grid_area": null,
            "grid_template_columns": null,
            "flex": null,
            "_model_name": "LayoutModel",
            "justify_items": null,
            "grid_row": null,
            "max_height": null,
            "align_content": null,
            "visibility": null,
            "align_self": null,
            "height": null,
            "min_height": null,
            "padding": null,
            "grid_auto_rows": null,
            "grid_gap": null,
            "max_width": null,
            "order": null,
            "_view_module_version": "1.2.0",
            "grid_template_areas": null,
            "object_position": null,
            "object_fit": null,
            "grid_auto_columns": null,
            "margin": null,
            "display": null,
            "left": null
          }
        },
        "46e70e591ac64c87beafffd7bf0daf98": {
          "model_module": "@jupyter-widgets/controls",
          "model_name": "DescriptionStyleModel",
          "state": {
            "_view_name": "StyleView",
            "_model_name": "DescriptionStyleModel",
            "description_width": "",
            "_view_module": "@jupyter-widgets/base",
            "_model_module_version": "1.5.0",
            "_view_count": null,
            "_view_module_version": "1.2.0",
            "_model_module": "@jupyter-widgets/controls"
          }
        },
        "eea1be694f0f41b6b08cbecf33effc13": {
          "model_module": "@jupyter-widgets/base",
          "model_name": "LayoutModel",
          "state": {
            "_view_name": "LayoutView",
            "grid_template_rows": null,
            "right": null,
            "justify_content": null,
            "_view_module": "@jupyter-widgets/base",
            "overflow": null,
            "_model_module_version": "1.2.0",
            "_view_count": null,
            "flex_flow": null,
            "width": null,
            "min_width": null,
            "border": null,
            "align_items": null,
            "bottom": null,
            "_model_module": "@jupyter-widgets/base",
            "top": null,
            "grid_column": null,
            "overflow_y": null,
            "overflow_x": null,
            "grid_auto_flow": null,
            "grid_area": null,
            "grid_template_columns": null,
            "flex": null,
            "_model_name": "LayoutModel",
            "justify_items": null,
            "grid_row": null,
            "max_height": null,
            "align_content": null,
            "visibility": null,
            "align_self": null,
            "height": null,
            "min_height": null,
            "padding": null,
            "grid_auto_rows": null,
            "grid_gap": null,
            "max_width": null,
            "order": null,
            "_view_module_version": "1.2.0",
            "grid_template_areas": null,
            "object_position": null,
            "object_fit": null,
            "grid_auto_columns": null,
            "margin": null,
            "display": null,
            "left": null
          }
        }
      }
    }
  },
  "cells": [
    {
      "cell_type": "markdown",
      "metadata": {
        "id": "view-in-github",
        "colab_type": "text"
      },
      "source": [
        "<a href=\"https://colab.research.google.com/github/Steve-YJ/Colab_Exercise/blob/master/03_Tutorial_ResNet_VAE_Tunning.ipynb\" target=\"_parent\"><img src=\"https://colab.research.google.com/assets/colab-badge.svg\" alt=\"Open In Colab\"/></a>"
      ]
    },
    {
      "cell_type": "markdown",
      "metadata": {
        "id": "BF2mQr8fdBJE",
        "colab_type": "text"
      },
      "source": [
        "# README.MD\n",
        "\n",
        "* Post-InfoSec-Exp\n",
        "* Continue:\n",
        "    * 01.Tutorial-ResNet-VAE -Epoch5\n",
        "    * Reduce Learning Rate\n",
        "\n",
        "* Fix Error:\n",
        "    * CUDA OOM(Out of Memory) Error Handling\n"
      ]
    },
    {
      "cell_type": "markdown",
      "metadata": {
        "id": "RcIG0ad7a63U",
        "colab_type": "text"
      },
      "source": [
        "* mount drive"
      ]
    },
    {
      "cell_type": "code",
      "metadata": {
        "id": "-vbYVvoNa35z",
        "colab_type": "code",
        "colab": {
          "base_uri": "https://localhost:8080/",
          "height": 127
        },
        "outputId": "17d31a01-5428-42c9-ca6b-33cf28688cc7"
      },
      "source": [
        "# drive mount\n",
        "\n",
        "from google.colab import drive\n",
        "drive.mount('/content/drive', force_remount=True)"
      ],
      "execution_count": 1,
      "outputs": [
        {
          "output_type": "stream",
          "text": [
            "Go to this URL in a browser: https://accounts.google.com/o/oauth2/auth?client_id=947318989803-6bn6qk8qdgf4n4g3pfee6491hc0brc4i.apps.googleusercontent.com&redirect_uri=urn%3aietf%3awg%3aoauth%3a2.0%3aoob&response_type=code&scope=email%20https%3a%2f%2fwww.googleapis.com%2fauth%2fdocs.test%20https%3a%2f%2fwww.googleapis.com%2fauth%2fdrive%20https%3a%2f%2fwww.googleapis.com%2fauth%2fdrive.photos.readonly%20https%3a%2f%2fwww.googleapis.com%2fauth%2fpeopleapi.readonly\n",
            "\n",
            "Enter your authorization code:\n",
            "··········\n",
            "Mounted at /content/drive\n"
          ],
          "name": "stdout"
        }
      ]
    },
    {
      "cell_type": "code",
      "metadata": {
        "id": "w2t5puLibOGo",
        "colab_type": "code",
        "colab": {}
      },
      "source": [
        "%load_ext autoreload\n",
        "%autoreload 2"
      ],
      "execution_count": 2,
      "outputs": []
    },
    {
      "cell_type": "code",
      "metadata": {
        "id": "5lGGE4xtb59M",
        "colab_type": "code",
        "colab": {
          "base_uri": "https://localhost:8080/",
          "height": 233
        },
        "outputId": "890913d6-b74b-4ac4-a6a5-a89196026d1b"
      },
      "source": [
        "%cd drive/My\\ Drive/Post_InfoSec_Exps/ResNet-VAE/ResNetVAE-master.zip (Unzipped Files)/ResNetVAE-master\n",
        "! ls"
      ],
      "execution_count": 3,
      "outputs": [
        {
          "output_type": "stream",
          "text": [
            "/content/drive/My Drive/Post_InfoSec_Exps/ResNet-VAE/ResNetVAE-master.zip (Unzipped Files)/ResNetVAE-master\n",
            "'01.Tutorial-ResNet-VAE.ipynb의 사본'\t        README.md\n",
            " 01.Tutorial-ResNet-VAE-Recon.ipynb\t        recon_sampling\n",
            " 02.Tutorial-ResNet-VAE-Tunning.ipynb\t        reconstruction_Malimg.png\n",
            "'02.Tutorial-ResNet-VAE-Tunning.ipynb의 사본'   ResNetVAE_cifar10.py\n",
            " fig\t\t\t\t\t        ResNetVAE_FACE.py\n",
            " generated_Malimg.png\t\t\t        ResNetVAE_MNIST.py\n",
            " modules.py\t\t\t\t        ResNetVAE_reconstruction.ipynb\n",
            " plot_latent.ipynb\t\t\t        results_Malimg\n",
            " plot_latent_vector\t\t\t        results_Malimg_Exp2\n",
            " plot_train_test_loss\t\t\t        results_Malimg_Exp3\n",
            " __pycache__\n"
          ],
          "name": "stdout"
        }
      ]
    },
    {
      "cell_type": "code",
      "metadata": {
        "id": "5kWi4H8N3Hxp",
        "colab_type": "code",
        "colab": {
          "base_uri": "https://localhost:8080/",
          "height": 35
        },
        "outputId": "625cbd50-7ff4-4e19-f47e-e05be19aab9d"
      },
      "source": [
        "import os\n",
        "\n",
        "path = os.getcwd()\n",
        "path"
      ],
      "execution_count": 4,
      "outputs": [
        {
          "output_type": "execute_result",
          "data": {
            "application/vnd.google.colaboratory.intrinsic+json": {
              "type": "string"
            },
            "text/plain": [
              "'/content/drive/My Drive/Post_InfoSec_Exps/ResNet-VAE/ResNetVAE-master.zip (Unzipped Files)/ResNetVAE-master'"
            ]
          },
          "metadata": {
            "tags": []
          },
          "execution_count": 4
        }
      ]
    },
    {
      "cell_type": "code",
      "metadata": {
        "id": "Vq9FMXL9vb0A",
        "colab_type": "code",
        "colab": {
          "base_uri": "https://localhost:8080/",
          "height": 35
        },
        "outputId": "757a68c8-cc7c-4bab-db21-92aeef4c9899"
      },
      "source": [
        "path = path + '/results_Malimg_Exp3'\n",
        "path"
      ],
      "execution_count": 5,
      "outputs": [
        {
          "output_type": "execute_result",
          "data": {
            "application/vnd.google.colaboratory.intrinsic+json": {
              "type": "string"
            },
            "text/plain": [
              "'/content/drive/My Drive/Post_InfoSec_Exps/ResNet-VAE/ResNetVAE-master.zip (Unzipped Files)/ResNetVAE-master/results_Malimg_Exp3'"
            ]
          },
          "metadata": {
            "tags": []
          },
          "execution_count": 5
        }
      ]
    },
    {
      "cell_type": "code",
      "metadata": {
        "id": "RnXFGN4M3Bvx",
        "colab_type": "code",
        "colab": {}
      },
      "source": [
        "\n",
        "# make directory\n",
        "# 실험을 한 번 끝낸 이후로는 사용 x\n",
        "\n",
        "\n",
        "def makedir(dirname):\n",
        "    \n",
        "    try:\n",
        "        os.mkdir(path + '/' + dirname)\n",
        "        print(\"Successfully created the directory in %s\" % path)\n",
        "    except OSError:\n",
        "        print('Failed !!')\n",
        "        print(\"Creation of the directory %s failed\" % path)\n",
        "    else:\n",
        "        # print(\"Successfully created the directory %s\" % path)\n",
        "        pass\n",
        "    return\n",
        "\n",
        "dir_list = ['recon_sampling', 'plot_train_test_loss', 'plot_latent_vector']"
      ],
      "execution_count": 6,
      "outputs": []
    },
    {
      "cell_type": "code",
      "metadata": {
        "id": "cQ4vJvX-xFne",
        "colab_type": "code",
        "colab": {
          "base_uri": "https://localhost:8080/",
          "height": 343
        },
        "outputId": "fcc2d545-45d6-49b8-e1e6-65a9c5125d0b"
      },
      "source": [
        "for i in range(len(dir_list)):\n",
        "    # print(dir_list[i])\n",
        "    # print(path + '/' + dir_list[i])\n",
        "    makedir(dir_list[i])\n",
        "! ls"
      ],
      "execution_count": 7,
      "outputs": [
        {
          "output_type": "stream",
          "text": [
            "Failed !!\n",
            "Creation of the directory /content/drive/My Drive/Post_InfoSec_Exps/ResNet-VAE/ResNetVAE-master.zip (Unzipped Files)/ResNetVAE-master/results_Malimg_Exp3 failed\n",
            "Failed !!\n",
            "Creation of the directory /content/drive/My Drive/Post_InfoSec_Exps/ResNet-VAE/ResNetVAE-master.zip (Unzipped Files)/ResNetVAE-master/results_Malimg_Exp3 failed\n",
            "Failed !!\n",
            "Creation of the directory /content/drive/My Drive/Post_InfoSec_Exps/ResNet-VAE/ResNetVAE-master.zip (Unzipped Files)/ResNetVAE-master/results_Malimg_Exp3 failed\n",
            "'01.Tutorial-ResNet-VAE.ipynb의 사본'\t        README.md\n",
            " 01.Tutorial-ResNet-VAE-Recon.ipynb\t        recon_sampling\n",
            " 02.Tutorial-ResNet-VAE-Tunning.ipynb\t        reconstruction_Malimg.png\n",
            "'02.Tutorial-ResNet-VAE-Tunning.ipynb의 사본'   ResNetVAE_cifar10.py\n",
            " fig\t\t\t\t\t        ResNetVAE_FACE.py\n",
            " generated_Malimg.png\t\t\t        ResNetVAE_MNIST.py\n",
            " modules.py\t\t\t\t        ResNetVAE_reconstruction.ipynb\n",
            " plot_latent.ipynb\t\t\t        results_Malimg\n",
            " plot_latent_vector\t\t\t        results_Malimg_Exp2\n",
            " plot_train_test_loss\t\t\t        results_Malimg_Exp3\n",
            " __pycache__\n"
          ],
          "name": "stdout"
        }
      ]
    },
    {
      "cell_type": "markdown",
      "metadata": {
        "id": "m4MQCs0Vdspm",
        "colab_type": "text"
      },
      "source": [
        "## 01. Import Library"
      ]
    },
    {
      "cell_type": "code",
      "metadata": {
        "id": "JxJh0s6bbhTS",
        "colab_type": "code",
        "colab": {
          "base_uri": "https://localhost:8080/",
          "height": 73
        },
        "outputId": "142a9291-ec58-4fbb-858e-01121aff092f"
      },
      "source": [
        "from PIL import Image\n",
        "%matplotlib inline\n",
        "\n",
        "import matplotlib\n",
        "import matplotlib.pyplot as plt\n",
        "import matplotlib as mpl\n",
        " \n",
        "# https://towardsdatascience.com/visualising-high-dimensional-datasets-using-pca-and-t-sne-in-python-8ef87e7915b\n",
        "import seaborn as sns\n",
        "\n",
        "# save single numpy array\n",
        "# https://numpy.org/doc/stable/reference/generated/numpy.save.html#numpy.save\n",
        "from tempfile import TemporaryFile\n",
        "from sklearn.manifold import TSNE\n",
        "\n",
        "import torch\n",
        "import torch.utils.data\n",
        "\n",
        "from torch import nn, optim\n",
        "from torch.nn import functional as F\n",
        "from torch.autograd import Variable\n",
        "from torch.utils.data import Dataset, DataLoader\n",
        "\n",
        "import numpy as np\n",
        "import pandas as pd\n",
        "\n",
        "import torchvision\n",
        "from torchvision import datasets, transforms\n",
        "from torchvision.utils import save_image\n",
        "\n",
        "# load modules\n",
        "from torchvision import models\n",
        "from modules import *"
      ],
      "execution_count": 8,
      "outputs": [
        {
          "output_type": "stream",
          "text": [
            "/usr/local/lib/python3.6/dist-packages/statsmodels/tools/_testing.py:19: FutureWarning: pandas.util.testing is deprecated. Use the functions in the public API at pandas.testing instead.\n",
            "  import pandas.util.testing as tm\n"
          ],
          "name": "stderr"
        }
      ]
    },
    {
      "cell_type": "markdown",
      "metadata": {
        "id": "zG79j8Wjhjd4",
        "colab_type": "text"
      },
      "source": [
        "## 02. Data Preparation\n",
        "* Make Custom Dataset\n",
        "* Make Custom DataLoader\n",
        "* Train_Test Split\n",
        "\n",
        "### Work Flow\n",
        "* transforms module 사용, Image data compose(전처리, transform)\n",
        "* re-sizing, normalizing, tensor\n",
        "* ImageFolder사용 dataloader\n",
        "* dataset split: train dataset, test dataset\n",
        "* DataLoader: batch단위 dataset loading"
      ]
    },
    {
      "cell_type": "code",
      "metadata": {
        "id": "40wjsfCSgYIY",
        "colab_type": "code",
        "colab": {}
      },
      "source": [
        "transforms = transforms.Compose([\n",
        "                                transforms.Resize((224, 224)),                # Change size of Image to (224, 224)\n",
        "                                transforms.Grayscale(num_output_channels=3),  # Makes it 3-dimension channel\n",
        "                                                                              # Simple way\n",
        "                                                                              # https://pytorch.org/docs/stable/torchvision/transforms.html\n",
        "                                                                              # If num_output_channels == 3 : returned image is 3 channel with r == g == b\n",
        "                                 \n",
        "                                # transforms.Lambda(lambda x: x.repeat(3, 1, 1)),  # gray -> GRB 3 channel (lambda function)\n",
        "                                                                                 # Reference: https://github.com/hsinyilin19/ResNetVAE/blob/master/ResNetVAE_MNIST.py\n",
        "                                transforms.ToTensor(),                        # Convert a PIL Image or numpy.ndarray to tensor.\n",
        "                                                                              # Converts a PIL Image or numpy.ndarray (H x W x C) in the range [0, 255] to a torch.FloatTensor of shape (C x H x W) in the range [0.0, 1.0] if the PIL Image belongs to one of the modes (L, LA, P, I, F, RGB, YCbCr, RGBA, CMYK, 1) or if the numpy.ndarray has dtype = np.uint8\n",
        "                                                                              # In the other cases, tensors are returned without scaling.\n",
        "                                # transforms.Normalize(mean=[0.5], std=[0.5]), \n",
        "                                ])\n",
        "\n",
        "# make custom dataset\n",
        "trainset = torchvision.datasets.ImageFolder(root='../../../../InformationSecurity_Summer/malimg',\n",
        "                                            transform=transforms)  # make custom dataset"
      ],
      "execution_count": 9,
      "outputs": []
    },
    {
      "cell_type": "code",
      "metadata": {
        "id": "vYwMgJ5UdvgO",
        "colab_type": "code",
        "colab": {
          "base_uri": "https://localhost:8080/",
          "height": 467
        },
        "outputId": "ce9d0ea1-ab7f-467d-c2c9-7a298dd6c284"
      },
      "source": [
        "# classes = trainset.classes\n",
        "classes = trainset.classes\n",
        "classes"
      ],
      "execution_count": 10,
      "outputs": [
        {
          "output_type": "execute_result",
          "data": {
            "text/plain": [
              "['Adialer.C',\n",
              " 'Agent.FYI',\n",
              " 'Allaple.A',\n",
              " 'Allaple.L',\n",
              " 'Alueron.gen!J',\n",
              " 'Autorun.K',\n",
              " 'C2LOP.P',\n",
              " 'C2LOP.gen!g',\n",
              " 'Dialplatform.B',\n",
              " 'Dontovo.A',\n",
              " 'Fakerean',\n",
              " 'Instantaccess',\n",
              " 'Lolyda.AA1',\n",
              " 'Lolyda.AA2',\n",
              " 'Lolyda.AA3',\n",
              " 'Lolyda.AT',\n",
              " 'Malex.gen!J',\n",
              " 'Obfuscator.AD',\n",
              " 'Rbot!gen',\n",
              " 'Skintrim.N',\n",
              " 'Swizzor.gen!E',\n",
              " 'Swizzor.gen!I',\n",
              " 'VB.AT',\n",
              " 'Wintrim.BX',\n",
              " 'Yuner.A']"
            ]
          },
          "metadata": {
            "tags": []
          },
          "execution_count": 10
        }
      ]
    },
    {
      "cell_type": "code",
      "metadata": {
        "id": "lRNtxJgpdy6x",
        "colab_type": "code",
        "colab": {
          "base_uri": "https://localhost:8080/",
          "height": 35
        },
        "outputId": "4f575217-c1b2-4932-9e99-bdd1685cf6b9"
      },
      "source": [
        "full_dataset = trainset\n",
        "train_size = int(0.8 * len(full_dataset))\n",
        "test_size = len(full_dataset) - train_size\n",
        "print(train_size, test_size)\n",
        "\n",
        "train_dataset, test_dataset = torch.utils.data.random_split(full_dataset, [train_size, test_size])"
      ],
      "execution_count": 11,
      "outputs": [
        {
          "output_type": "stream",
          "text": [
            "7471 1868\n"
          ],
          "name": "stdout"
        }
      ]
    },
    {
      "cell_type": "code",
      "metadata": {
        "id": "laqQVjbpkVsq",
        "colab_type": "code",
        "colab": {}
      },
      "source": [
        "train_loader = DataLoader(train_dataset,\n",
        "                         batch_size=4,\n",
        "                         shuffle=True,\n",
        "                         pin_memory=True) \n",
        "valid_loader = DataLoader(test_dataset,\n",
        "                        batch_size=4,\n",
        "                        shuffle=True,\n",
        "                        pin_memory=True)  # Instead, we recommend using automatic memory pinning (i.e., setting pin_memory=True)\n",
        "                                          #  which enables fast data transfer to CUDA-enabled GPUs\n",
        "\n",
        "# First, insert all test dataset\n",
        "# test_loader_10: testloader for latent vector visualization\n",
        "test_loader_10 = DataLoader(test_dataset,\n",
        "                        batch_size=1868,\n",
        "                        shuffle=True,\n",
        "                        pin_memory=True)"
      ],
      "execution_count": 13,
      "outputs": []
    },
    {
      "cell_type": "markdown",
      "metadata": {
        "id": "xbWbNUjWmEUK",
        "colab_type": "text"
      },
      "source": [
        "### 3-Channel Image를 출력해보자\n",
        "* -20.07.30.Thur-"
      ]
    },
    {
      "cell_type": "code",
      "metadata": {
        "id": "Hy0g8PLUmJug",
        "colab_type": "code",
        "colab": {}
      },
      "source": [
        "def imshow(img):\n",
        "    img = img / 2 + 0.5  # unnormalize\n",
        "    np_img = img.numpy()\n",
        "\n",
        "    plt.imshow(np.transpose(np_img, (1, 2, 0)))  # Convert (C, W, H) to (W, H, C)\n",
        "\n",
        "    print(np_img.shape)  # np_img shape\n",
        "    print((np.transpose(np_img, (1, 2, 0))).shape)  # transposed shape "
      ],
      "execution_count": 14,
      "outputs": []
    },
    {
      "cell_type": "code",
      "metadata": {
        "id": "GqpC6S_CmN9s",
        "colab_type": "code",
        "colab": {
          "base_uri": "https://localhost:8080/",
          "height": 35
        },
        "outputId": "32cf5b9a-d2c7-44e1-f937-2d2255b9e533"
      },
      "source": [
        "dataiter = iter(train_loader)\n",
        "images, labels = dataiter.next()\n",
        "print(labels)"
      ],
      "execution_count": 15,
      "outputs": [
        {
          "output_type": "stream",
          "text": [
            "tensor([ 2,  2, 10,  8])\n"
          ],
          "name": "stdout"
        }
      ]
    },
    {
      "cell_type": "code",
      "metadata": {
        "id": "KJoom-NYmPMf",
        "colab_type": "code",
        "colab": {
          "base_uri": "https://localhost:8080/",
          "height": 244
        },
        "outputId": "ace05621-fed1-443f-dce5-459efcb4adad"
      },
      "source": [
        "print(images.shape)\n",
        "imshow(torchvision.utils.make_grid(images, nrow=4))\n",
        "print(images.shape)\n",
        "print((torchvision.utils.make_grid(images)).shape)\n",
        "print(\"\".join(\"%5s \"%classes[labels[j]] for j in range(4)))"
      ],
      "execution_count": 17,
      "outputs": [
        {
          "output_type": "stream",
          "text": [
            "torch.Size([4, 3, 224, 224])\n",
            "(3, 228, 906)\n",
            "(228, 906, 3)\n",
            "torch.Size([4, 3, 224, 224])\n",
            "torch.Size([3, 228, 906])\n",
            "Allaple.A Allaple.A Fakerean Dialplatform.B \n"
          ],
          "name": "stdout"
        },
        {
          "output_type": "display_data",
          "data": {
            "image/png": "[encoded data removed]",
            "text/plain": [
              "<Figure size 432x288 with 1 Axes>"
            ]
          },
          "metadata": {
            "tags": [],
            "needs_background": "light"
          }
        }
      ]
    },
    {
      "cell_type": "markdown",
      "metadata": {
        "id": "E2tvYihLhDd0",
        "colab_type": "text"
      },
      "source": [
        "## 03. Modeling\n",
        "* save model: <code>save_model_path</code>\n",
        "* save_loss_list\n",
        "* etc...\n"
      ]
    },
    {
      "cell_type": "markdown",
      "metadata": {
        "id": "5hPQVCD9m3G8",
        "colab_type": "text"
      },
      "source": [
        "* Hyper Parameters\n",
        "    * CNN_fc_hidden1, CNN_fc_hidden2 = 1024, 1024\n",
        "    * CNN_embed_dim = 256  # latent dim extracted by 2D CNN\n",
        "    * res_size = 224  # ResNet image size\n",
        "    * dropout_p = 0.2  # dropout probability\n",
        "    * Epochs = 50\n",
        "    * batch_size = 16\n",
        "    * learning_rate = 1e-5\n",
        "    * log_interval = 10  # The time between data samples being taken"
      ]
    },
    {
      "cell_type": "code",
      "metadata": {
        "id": "MyiJB8iSiqTT",
        "colab_type": "code",
        "colab": {}
      },
      "source": [
        "# EncoderCNN architecture\n",
        "CNN_fc_hidden1, CNN_fc_hidden2 = 1024, 1024\n",
        "CNN_embed_dim = 256     # latent dim extracted by 2D CNN\n",
        "res_size = 224        # ResNet image size\n",
        "dropout_p = 0.2       # dropout probability\n",
        "\n",
        "# training parameters\n",
        "epochs = 50        # training epochs\n",
        "# batch_size = 4\n",
        "learning_rate = 1e-5\n",
        "log_interval = 10   # interval for displaying training info"
      ],
      "execution_count": 18,
      "outputs": []
    },
    {
      "cell_type": "code",
      "metadata": {
        "id": "fjFMhGMEiRG8",
        "colab_type": "code",
        "colab": {}
      },
      "source": [
        "# save model\n",
        "save_model_path = './results_Malimg_Exp3'  # save_model parameter"
      ],
      "execution_count": 19,
      "outputs": []
    },
    {
      "cell_type": "code",
      "metadata": {
        "id": "mK2IkNBgifV6",
        "colab_type": "code",
        "colab": {}
      },
      "source": [
        "def check_mkdir(dir_name):\n",
        "    if not os.path.exists(dir_name):\n",
        "        os.mkdir(dir_name)"
      ],
      "execution_count": 20,
      "outputs": []
    },
    {
      "cell_type": "markdown",
      "metadata": {
        "id": "ZZojVvAJxxJn",
        "colab_type": "text"
      },
      "source": [
        "### Define Loss Function"
      ]
    },
    {
      "cell_type": "code",
      "metadata": {
        "id": "bLrFg4euigpb",
        "colab_type": "code",
        "colab": {}
      },
      "source": [
        "def loss_function(recon_x, x, mu, logvar):\n",
        "    # MSE = F.mse_loss(recon_x, x, reduction='sum')\n",
        "    MSE = F.binary_cross_entropy(recon_x, x, reduction='sum')\n",
        "    KLD = -0.5 * torch.sum(1 + logvar - mu.pow(2) - logvar.exp())\n",
        "    # mse, kld의 값도 확인하고 싶은데... 어떻게 하면 좋을까??\n",
        "    # Loss Function 호출시마다 값을 저장해준다\n",
        "    mse_loss.append(MSE)   # save MSE & Kullback Liebler\n",
        "    kld_loss.append(KLD)\n",
        "\n",
        "    return MSE + KLD"
      ],
      "execution_count": 21,
      "outputs": []
    },
    {
      "cell_type": "markdown",
      "metadata": {
        "id": "bfcyvyg5x-Bn",
        "colab_type": "text"
      },
      "source": [
        "### Define Training Process\n",
        "* train, validation\n",
        "* train:\n",
        "    * save model's state_dict\n",
        "    * save optim's state_dict\n",
        "* test:\n",
        "    * save Recon Image\n",
        "    * "
      ]
    },
    {
      "cell_type": "code",
      "metadata": {
        "id": "fHryk-eBitM5",
        "colab_type": "code",
        "colab": {}
      },
      "source": [
        "def train(log_interval, model, device, train_loader, optimizer, epoch):\n",
        "    # set model as training mode\n",
        "    model.train()\n",
        "\n",
        "    losses = []\n",
        "    all_y, all_z, all_mu, all_logvar = [], [], [], []\n",
        "    N_count = 0   # counting total trained sample in one epoch\n",
        "    for batch_idx, (X, y) in enumerate(train_loader):\n",
        "        # distribute data to device\n",
        "        X, y = X.to(device), y.to(device).view(-1, )\n",
        "        N_count += X.size(0)\n",
        "\n",
        "        optimizer.zero_grad()\n",
        "        X_reconst, z, mu, logvar = model(X)  # VAE\n",
        "        # calc loss\n",
        "        loss = loss_function(X_reconst, X, mu, logvar)\n",
        "        losses.append(loss.item())\n",
        "        # backward()\n",
        "        loss.backward()\n",
        "        # optimize\n",
        "        optimizer.step()\n",
        "\n",
        "        all_y.extend(y.data.cpu().numpy())\n",
        "        all_z.extend(z.data.cpu().numpy())\n",
        "        all_mu.extend(mu.data.cpu().numpy())\n",
        "        all_logvar.extend(logvar.data.cpu().numpy())\n",
        "\n",
        "        # show information\n",
        "        if (batch_idx + 1) % log_interval == 0:\n",
        "            print('Train Epoch: {} [{}/{} ({:.0f}%)]\\tLoss: {:.6f}'.format(\n",
        "                epoch +1 + 2, N_count, len(train_loader.dataset), 100. * (batch_idx + 1) / len(train_loader), loss.item()))\n",
        "\n",
        "    all_y = np.stack(all_y, axis=0)\n",
        "    all_z = np.stack(all_z, axis=0)\n",
        "    all_mu = np.stack(all_mu, axis=0)\n",
        "    all_logvar = np.stack(all_logvar, axis=0)\n",
        "\n",
        "    # save Pytorch models of best record\n",
        "    torch.save(model.state_dict(), os.path.join(save_model_path, 'model_epoch{}.pth'.format(epoch+ 1 + 2)))  # save motion_encoder\n",
        "    torch.save(optimizer.state_dict(), os.path.join(save_model_path, 'optimizer_epoch{}.pth'.format(epoch+ 1 + 2)))      # save optimizer\n",
        "    print(\"Epoch {} model saved!\".format(epoch + 1 + 2))  # 5 Epoch부터 이어서 Training하기 때문\n",
        "\n",
        "    return X.data.cpu().numpy(), all_y, all_z, all_mu, all_logvar, losses\n",
        "\n",
        "\n",
        "def validation(model, device, optimizer, test_loader):\n",
        "    # set model as testing mode\n",
        "    model.eval()  # set testing mode: model.eva()\n",
        "\n",
        "    test_loss = 0\n",
        "    all_y, all_z, all_mu, all_logvar = [], [], [], []\n",
        "    with torch.no_grad():  # gradient 추적을 하지 않는다고 우선 선언\n",
        "        for i, (X, y) in enumerate(test_loader):\n",
        "            # distribute data to device\n",
        "            X, y = X.to(device), y.to(device).view(-1, )\n",
        "            X_reconst, z, mu, logvar = model(X)\n",
        "            # calc loss\n",
        "            loss = loss_function(X_reconst, X, mu, logvar)\n",
        "            test_loss += loss.item()  # sum up batch loss\n",
        "            \n",
        "            all_y.extend(y.data.cpu().numpy())\n",
        "            all_z.extend(z.data.cpu().numpy())\n",
        "            all_mu.extend(mu.data.cpu().numpy())\n",
        "            all_logvar.extend(logvar.data.cpu().numpy())\n",
        "\n",
        "            ##########################################\n",
        "            ########   Debugging            ##########\n",
        "            ##########################################\n",
        "            # print('='*20)\n",
        "            # print('Debugging')\n",
        "            # print('X_recon_Shape:', X_reconst.shape)\n",
        "\n",
        "        ## Save_Recon_Malimg\n",
        "            if i == 0:\n",
        "                n = min(X.size(0), 8)\n",
        "                comparison = torch.cat([X[:n],\n",
        "                                    X_reconst.view(16, 3, 224, 224)[:n]])\n",
        "                save_image(comparison.cpu(),\n",
        "                        './results_Malimg_Exp3/recon_sampling/reconstruction_' + str(epoch) + '.png', nrow=n)\n",
        "\n",
        "    test_loss /= len(test_loader.dataset)\n",
        "    all_y = np.stack(all_y, axis=0)\n",
        "    all_z = np.stack(all_z, axis=0)\n",
        "    all_mu = np.stack(all_mu, axis=0)\n",
        "    all_logvar = np.stack(all_logvar, axis=0)\n",
        "\n",
        "    # show information\n",
        "    print('\\nTest set ({:d} samples): Average loss: {:.4f}\\n'.format(len(test_loader.dataset), test_loss))\n",
        "    return X.data.cpu().numpy(), all_y, all_z, all_mu, all_logvar, test_loss\n"
      ],
      "execution_count": 28,
      "outputs": []
    },
    {
      "cell_type": "code",
      "metadata": {
        "id": "l0uohqjsixS0",
        "colab_type": "code",
        "colab": {}
      },
      "source": [
        "# Detect devices\n",
        "use_cuda = torch.cuda.is_available()                   # check if GPU exists\n",
        "device = torch.device(\"cuda\" if use_cuda else \"cpu\")   # use CPU or GPU"
      ],
      "execution_count": 23,
      "outputs": []
    },
    {
      "cell_type": "markdown",
      "metadata": {
        "id": "aj1YYgo41S3n",
        "colab_type": "text"
      },
      "source": [
        "### Load_State_Dict\n",
        "\n",
        "<code>Exp03.에서는 지난 실험의 Model Parameter를 불러오지 않는다.</code>\n",
        "-20.07.30.thur-\n",
        "\n",
        "* 이전 학습에서 저장했던 model parameter를 불러온다<br>\n",
        "\n",
        "\n",
        "<code>pre_saved_model_path</code>: 지난번 1e-3에서 5Epoch학습한 모델의 파라미터"
      ]
    },
    {
      "cell_type": "code",
      "metadata": {
        "id": "q_OOIagV1SQ_",
        "colab_type": "code",
        "colab": {
          "base_uri": "https://localhost:8080/",
          "height": 103,
          "referenced_widgets": [
            "fa9bb79982b84ab7bb2d999c9120fcbb",
            "6817fdee79f34f69b4f3a7b44b430d94",
            "5def727aefcd44fe992adb7e2b6daaef",
            "84fd8ccb0e5c4870bfad72ac54978845",
            "652ff976d52647838aca64ce31615d1d",
            "dd1862772a0d4f2dac49da34f3fe5287",
            "46e70e591ac64c87beafffd7bf0daf98",
            "eea1be694f0f41b6b08cbecf33effc13"
          ]
        },
        "outputId": "e6727fdd-0663-4107-dde6-321a161c02f7"
      },
      "source": [
        "pre_saved_model_path = './results_Malimg_Exp3'\n",
        "epoch = 2\n",
        "\n",
        "# reload ResNetVAE model\n",
        "####    reload -> x    ####\n",
        "####    Train Again    ####\n",
        "\n",
        "\n",
        "# Define Model\n",
        "resnet_vae = ResNet_VAE(fc_hidden1=CNN_fc_hidden1, fc_hidden2=CNN_fc_hidden2, drop_p=dropout_p, CNN_embed_dim=CNN_embed_dim).to(device)\n",
        "\n",
        "# pre-trained-model을 불러오지 않는다\n",
        "\n",
        "resnet_vae.load_state_dict(torch.load(os.path.join(pre_saved_model_path, 'model_epoch{}.pth'.format(epoch))))\n",
        "print(\"ResNet VAE epoch {} model reloaded!\".format(epoch))\n"
      ],
      "execution_count": 24,
      "outputs": [
        {
          "output_type": "stream",
          "text": [
            "Downloading: \"https://download.pytorch.org/models/resnet152-b121ed2d.pth\" to /root/.cache/torch/checkpoints/resnet152-b121ed2d.pth\n"
          ],
          "name": "stderr"
        },
        {
          "output_type": "display_data",
          "data": {
            "application/vnd.jupyter.widget-view+json": {
              "model_id": "fa9bb79982b84ab7bb2d999c9120fcbb",
              "version_minor": 0,
              "version_major": 2
            },
            "text/plain": [
              "HBox(children=(FloatProgress(value=0.0, max=241530880.0), HTML(value='')))"
            ]
          },
          "metadata": {
            "tags": []
          }
        },
        {
          "output_type": "stream",
          "text": [
            "\n",
            "ResNet VAE epoch 2 model reloaded!\n"
          ],
          "name": "stdout"
        }
      ]
    },
    {
      "cell_type": "code",
      "metadata": {
        "id": "_a9FFdiljGPW",
        "colab_type": "code",
        "colab": {
          "base_uri": "https://localhost:8080/",
          "height": 35
        },
        "outputId": "ffa6c3a5-1373-4f7e-de2a-ec34e33feb46"
      },
      "source": [
        "# resnet_vae = ResNet_VAE(fc_hidden1=CNN_fc_hidden1, fc_hidden2=CNN_fc_hidden2, drop_p=dropout_p, CNN_embed_dim=CNN_embed_dim).to(device)\n",
        "\n",
        "print(\"Using\", torch.cuda.device_count(), \"GPU!\")\n",
        "model_params = list(resnet_vae.parameters())\n",
        "optimizer = torch.optim.Adam(model_params, lr=learning_rate)  # After5 lr 1e-3 to 1e-5"
      ],
      "execution_count": 25,
      "outputs": [
        {
          "output_type": "stream",
          "text": [
            "Using 1 GPU!\n"
          ],
          "name": "stdout"
        }
      ]
    },
    {
      "cell_type": "code",
      "metadata": {
        "id": "_mDezxJUjKSZ",
        "colab_type": "code",
        "colab": {}
      },
      "source": [
        "# record training process\n",
        "'''\n",
        "list_epoch = []\n",
        "list_train_loss = []\n",
        "list_val_loss = []\n",
        "list_acc = []\n",
        "list_acc_epoch = []\n",
        "'''\n",
        "list_epoch=[]\n",
        "epoch_train_losses = []\n",
        "epoch_test_losses = []\n",
        "mse_loss = []\n",
        "kld_loss = []\n",
        "list_acc = []\n",
        "list_acc_epoch =[]\n",
        "check_mkdir(save_model_path)"
      ],
      "execution_count": 26,
      "outputs": []
    },
    {
      "cell_type": "markdown",
      "metadata": {
        "id": "gcJRmBUEhT5W",
        "colab_type": "text"
      },
      "source": [
        "## 04. Train-it"
      ]
    },
    {
      "cell_type": "code",
      "metadata": {
        "id": "eLFMtJaUhMCN",
        "colab_type": "code",
        "colab": {
          "base_uri": "https://localhost:8080/",
          "height": 1000
        },
        "outputId": "c83f431c-d30b-4a9a-8f8d-23b2f57b598a"
      },
      "source": [
        "# start training\n",
        "for epoch in range(epochs):\n",
        "\n",
        "    # train, test model\n",
        "    X_train, y_train, z_train, mu_train, logvar_train, train_losses = train(log_interval, resnet_vae, device, train_loader, optimizer, epoch)\n",
        "    X_test, y_test, z_test, mu_test, logvar_test, epoch_test_loss = validation(resnet_vae, device, optimizer, valid_loader)\n",
        "\n",
        "    # save results\n",
        "    list_epoch.append(epoch)\n",
        "    epoch_train_losses.append(train_losses)\n",
        "    epoch_test_losses.append(epoch_test_loss)\n",
        "\n",
        "    \n",
        "    # save all train test results\n",
        "    A = np.array(epoch_train_losses)\n",
        "    C = np.array(epoch_test_losses)\n",
        "    \n",
        "    np.save(os.path.join(save_model_path, 'ResNet_VAE_training_loss.npy'), A)\n",
        "    np.save(os.path.join(save_model_path, 'X_Malimg_train_epoch{}.npy'.format(epoch + 1 + 2)), X_train) #save last batch\n",
        "    np.save(os.path.join(save_model_path, 'y_Malimg_train_epoch{}.npy'.format(epoch + 1 + 2)), y_train)\n",
        "    np.save(os.path.join(save_model_path, 'z_Malimg_train_epoch{}.npy'.format(epoch + 1 + 2)), z_train)\n"
      ],
      "execution_count": 31,
      "outputs": [
        {
          "output_type": "stream",
          "text": [
            "/usr/local/lib/python3.6/dist-packages/torch/nn/functional.py:2973: UserWarning: Default upsampling behavior when mode=bilinear is changed to align_corners=False since 0.4.0. Please specify align_corners=True if the old behavior is desired. See the documentation of nn.Upsample for details.\n",
            "  \"See the documentation of nn.Upsample for details.\".format(mode))\n"
          ],
          "name": "stderr"
        },
        {
          "output_type": "stream",
          "text": [
            "Train Epoch: 3 [40/7471 (1%)]\tLoss: 423656.750000\n",
            "Train Epoch: 3 [80/7471 (1%)]\tLoss: 421410.343750\n",
            "Train Epoch: 3 [120/7471 (2%)]\tLoss: 422686.125000\n",
            "Train Epoch: 3 [160/7471 (2%)]\tLoss: 422392.937500\n",
            "Train Epoch: 3 [200/7471 (3%)]\tLoss: 422688.187500\n",
            "Train Epoch: 3 [240/7471 (3%)]\tLoss: 421636.281250\n",
            "Train Epoch: 3 [280/7471 (4%)]\tLoss: 422744.718750\n",
            "Train Epoch: 3 [320/7471 (4%)]\tLoss: 421017.937500\n",
            "Train Epoch: 3 [360/7471 (5%)]\tLoss: 421192.281250\n",
            "Train Epoch: 3 [400/7471 (5%)]\tLoss: 423264.531250\n",
            "Train Epoch: 3 [440/7471 (6%)]\tLoss: 422341.156250\n",
            "Train Epoch: 3 [480/7471 (6%)]\tLoss: 419480.812500\n",
            "Train Epoch: 3 [520/7471 (7%)]\tLoss: 422947.843750\n",
            "Train Epoch: 3 [560/7471 (7%)]\tLoss: 422615.281250\n",
            "Train Epoch: 3 [600/7471 (8%)]\tLoss: 420015.250000\n",
            "Train Epoch: 3 [640/7471 (9%)]\tLoss: 419016.312500\n",
            "Train Epoch: 3 [680/7471 (9%)]\tLoss: 422104.781250\n",
            "Train Epoch: 3 [720/7471 (10%)]\tLoss: 422457.093750\n",
            "Train Epoch: 3 [760/7471 (10%)]\tLoss: 420187.312500\n",
            "Train Epoch: 3 [800/7471 (11%)]\tLoss: 421070.312500\n",
            "Train Epoch: 3 [840/7471 (11%)]\tLoss: 421784.500000\n",
            "Train Epoch: 3 [880/7471 (12%)]\tLoss: 421108.906250\n",
            "Train Epoch: 3 [920/7471 (12%)]\tLoss: 421421.593750\n",
            "Train Epoch: 3 [960/7471 (13%)]\tLoss: 418442.906250\n",
            "Train Epoch: 3 [1000/7471 (13%)]\tLoss: 421727.562500\n",
            "Train Epoch: 3 [1040/7471 (14%)]\tLoss: 422221.656250\n",
            "Train Epoch: 3 [1080/7471 (14%)]\tLoss: 424135.187500\n",
            "Train Epoch: 3 [1120/7471 (15%)]\tLoss: 420336.187500\n",
            "Train Epoch: 3 [1160/7471 (16%)]\tLoss: 420245.125000\n",
            "Train Epoch: 3 [1200/7471 (16%)]\tLoss: 422746.593750\n",
            "Train Epoch: 3 [1240/7471 (17%)]\tLoss: 421401.343750\n",
            "Train Epoch: 3 [1280/7471 (17%)]\tLoss: 419834.843750\n",
            "Train Epoch: 3 [1320/7471 (18%)]\tLoss: 422035.750000\n",
            "Train Epoch: 3 [1360/7471 (18%)]\tLoss: 421555.625000\n",
            "Train Epoch: 3 [1400/7471 (19%)]\tLoss: 418808.343750\n",
            "Train Epoch: 3 [1440/7471 (19%)]\tLoss: 421044.437500\n",
            "Train Epoch: 3 [1480/7471 (20%)]\tLoss: 418277.718750\n",
            "Train Epoch: 3 [1520/7471 (20%)]\tLoss: 421334.937500\n",
            "Train Epoch: 3 [1560/7471 (21%)]\tLoss: 417674.343750\n",
            "Train Epoch: 3 [1600/7471 (21%)]\tLoss: 421079.250000\n",
            "Train Epoch: 3 [1640/7471 (22%)]\tLoss: 420021.687500\n",
            "Train Epoch: 3 [1680/7471 (22%)]\tLoss: 421924.093750\n",
            "Train Epoch: 3 [1720/7471 (23%)]\tLoss: 418769.375000\n",
            "Train Epoch: 3 [1760/7471 (24%)]\tLoss: 415853.187500\n",
            "Train Epoch: 3 [1800/7471 (24%)]\tLoss: 419908.781250\n",
            "Train Epoch: 3 [1840/7471 (25%)]\tLoss: 422180.937500\n",
            "Train Epoch: 3 [1880/7471 (25%)]\tLoss: 421450.531250\n",
            "Train Epoch: 3 [1920/7471 (26%)]\tLoss: 420972.093750\n",
            "Train Epoch: 3 [1960/7471 (26%)]\tLoss: 420167.781250\n",
            "Train Epoch: 3 [2000/7471 (27%)]\tLoss: 421687.562500\n",
            "Train Epoch: 3 [2040/7471 (27%)]\tLoss: 420951.968750\n",
            "Train Epoch: 3 [2080/7471 (28%)]\tLoss: 418388.062500\n",
            "Train Epoch: 3 [2120/7471 (28%)]\tLoss: 417777.531250\n",
            "Train Epoch: 3 [2160/7471 (29%)]\tLoss: 416734.218750\n",
            "Train Epoch: 3 [2200/7471 (29%)]\tLoss: 419551.000000\n",
            "Train Epoch: 3 [2240/7471 (30%)]\tLoss: 419941.750000\n",
            "Train Epoch: 3 [2280/7471 (31%)]\tLoss: 419211.875000\n",
            "Train Epoch: 3 [2320/7471 (31%)]\tLoss: 415810.937500\n",
            "Train Epoch: 3 [2360/7471 (32%)]\tLoss: 420018.687500\n",
            "Train Epoch: 3 [2400/7471 (32%)]\tLoss: 416796.468750\n",
            "Train Epoch: 3 [2440/7471 (33%)]\tLoss: 419773.375000\n",
            "Train Epoch: 3 [2480/7471 (33%)]\tLoss: 417688.031250\n",
            "Train Epoch: 3 [2520/7471 (34%)]\tLoss: 419989.218750\n",
            "Train Epoch: 3 [2560/7471 (34%)]\tLoss: 420318.468750\n",
            "Train Epoch: 3 [2600/7471 (35%)]\tLoss: 419931.718750\n",
            "Train Epoch: 3 [2640/7471 (35%)]\tLoss: 419716.968750\n",
            "Train Epoch: 3 [2680/7471 (36%)]\tLoss: 421005.906250\n",
            "Train Epoch: 3 [2720/7471 (36%)]\tLoss: 416558.500000\n",
            "Train Epoch: 3 [2760/7471 (37%)]\tLoss: 420445.218750\n",
            "Train Epoch: 3 [2800/7471 (37%)]\tLoss: 417229.875000\n",
            "Train Epoch: 3 [2840/7471 (38%)]\tLoss: 418178.843750\n",
            "Train Epoch: 3 [2880/7471 (39%)]\tLoss: 419488.937500\n",
            "Train Epoch: 3 [2920/7471 (39%)]\tLoss: 419007.937500\n",
            "Train Epoch: 3 [2960/7471 (40%)]\tLoss: 419797.906250\n",
            "Train Epoch: 3 [3000/7471 (40%)]\tLoss: 421487.906250\n",
            "Train Epoch: 3 [3040/7471 (41%)]\tLoss: 418150.562500\n",
            "Train Epoch: 3 [3080/7471 (41%)]\tLoss: 419449.093750\n",
            "Train Epoch: 3 [3120/7471 (42%)]\tLoss: 419455.562500\n",
            "Train Epoch: 3 [3160/7471 (42%)]\tLoss: 418667.812500\n",
            "Train Epoch: 3 [3200/7471 (43%)]\tLoss: 417515.500000\n",
            "Train Epoch: 3 [3240/7471 (43%)]\tLoss: 417695.875000\n",
            "Train Epoch: 3 [3280/7471 (44%)]\tLoss: 418140.093750\n",
            "Train Epoch: 3 [3320/7471 (44%)]\tLoss: 418612.406250\n",
            "Train Epoch: 3 [3360/7471 (45%)]\tLoss: 419994.250000\n",
            "Train Epoch: 3 [3400/7471 (46%)]\tLoss: 420654.875000\n",
            "Train Epoch: 3 [3440/7471 (46%)]\tLoss: 418917.031250\n",
            "Train Epoch: 3 [3480/7471 (47%)]\tLoss: 417074.562500\n",
            "Train Epoch: 3 [3520/7471 (47%)]\tLoss: 422257.437500\n",
            "Train Epoch: 3 [3560/7471 (48%)]\tLoss: 418382.906250\n",
            "Train Epoch: 3 [3600/7471 (48%)]\tLoss: 419022.718750\n",
            "Train Epoch: 3 [3640/7471 (49%)]\tLoss: 413162.750000\n",
            "Train Epoch: 3 [3680/7471 (49%)]\tLoss: 418288.343750\n",
            "Train Epoch: 3 [3720/7471 (50%)]\tLoss: 416746.125000\n",
            "Train Epoch: 3 [3760/7471 (50%)]\tLoss: 417836.281250\n",
            "Train Epoch: 3 [3800/7471 (51%)]\tLoss: 415444.468750\n",
            "Train Epoch: 3 [3840/7471 (51%)]\tLoss: 413383.625000\n",
            "Train Epoch: 3 [3880/7471 (52%)]\tLoss: 419497.937500\n",
            "Train Epoch: 3 [3920/7471 (52%)]\tLoss: 417413.343750\n",
            "Train Epoch: 3 [3960/7471 (53%)]\tLoss: 418942.000000\n",
            "Train Epoch: 3 [4000/7471 (54%)]\tLoss: 417927.531250\n",
            "Train Epoch: 3 [4040/7471 (54%)]\tLoss: 419061.218750\n",
            "Train Epoch: 3 [4080/7471 (55%)]\tLoss: 417519.656250\n",
            "Train Epoch: 3 [4120/7471 (55%)]\tLoss: 417417.531250\n",
            "Train Epoch: 3 [4160/7471 (56%)]\tLoss: 420392.187500\n",
            "Train Epoch: 3 [4200/7471 (56%)]\tLoss: 417950.125000\n",
            "Train Epoch: 3 [4240/7471 (57%)]\tLoss: 419784.937500\n",
            "Train Epoch: 3 [4280/7471 (57%)]\tLoss: 415004.812500\n",
            "Train Epoch: 3 [4320/7471 (58%)]\tLoss: 417433.375000\n",
            "Train Epoch: 3 [4360/7471 (58%)]\tLoss: 420801.156250\n",
            "Train Epoch: 3 [4400/7471 (59%)]\tLoss: 417390.656250\n",
            "Train Epoch: 3 [4440/7471 (59%)]\tLoss: 419487.843750\n",
            "Train Epoch: 3 [4480/7471 (60%)]\tLoss: 418681.375000\n",
            "Train Epoch: 3 [4520/7471 (60%)]\tLoss: 421166.843750\n",
            "Train Epoch: 3 [4560/7471 (61%)]\tLoss: 417156.562500\n",
            "Train Epoch: 3 [4600/7471 (62%)]\tLoss: 420684.875000\n",
            "Train Epoch: 3 [4640/7471 (62%)]\tLoss: 415614.312500\n",
            "Train Epoch: 3 [4680/7471 (63%)]\tLoss: 417971.187500\n",
            "Train Epoch: 3 [4720/7471 (63%)]\tLoss: 420653.031250\n",
            "Train Epoch: 3 [4760/7471 (64%)]\tLoss: 416490.375000\n",
            "Train Epoch: 3 [4800/7471 (64%)]\tLoss: 417048.156250\n",
            "Train Epoch: 3 [4840/7471 (65%)]\tLoss: 419400.343750\n",
            "Train Epoch: 3 [4880/7471 (65%)]\tLoss: 419724.968750\n",
            "Train Epoch: 3 [4920/7471 (66%)]\tLoss: 418763.343750\n",
            "Train Epoch: 3 [4960/7471 (66%)]\tLoss: 417918.812500\n",
            "Train Epoch: 3 [5000/7471 (67%)]\tLoss: 418961.062500\n",
            "Train Epoch: 3 [5040/7471 (67%)]\tLoss: 417546.375000\n",
            "Train Epoch: 3 [5080/7471 (68%)]\tLoss: 420018.593750\n",
            "Train Epoch: 3 [5120/7471 (69%)]\tLoss: 416317.281250\n",
            "Train Epoch: 3 [5160/7471 (69%)]\tLoss: 417673.437500\n",
            "Train Epoch: 3 [5200/7471 (70%)]\tLoss: 416342.781250\n",
            "Train Epoch: 3 [5240/7471 (70%)]\tLoss: 419069.625000\n",
            "Train Epoch: 3 [5280/7471 (71%)]\tLoss: 419246.062500\n",
            "Train Epoch: 3 [5320/7471 (71%)]\tLoss: 418807.687500\n",
            "Train Epoch: 3 [5360/7471 (72%)]\tLoss: 418669.937500\n",
            "Train Epoch: 3 [5400/7471 (72%)]\tLoss: 419278.687500\n",
            "Train Epoch: 3 [5440/7471 (73%)]\tLoss: 419205.437500\n",
            "Train Epoch: 3 [5480/7471 (73%)]\tLoss: 418774.312500\n",
            "Train Epoch: 3 [5520/7471 (74%)]\tLoss: 417527.531250\n",
            "Train Epoch: 3 [5560/7471 (74%)]\tLoss: 417265.218750\n",
            "Train Epoch: 3 [5600/7471 (75%)]\tLoss: 418769.437500\n",
            "Train Epoch: 3 [5640/7471 (75%)]\tLoss: 419627.906250\n",
            "Train Epoch: 3 [5680/7471 (76%)]\tLoss: 417364.562500\n",
            "Train Epoch: 3 [5720/7471 (77%)]\tLoss: 417965.593750\n",
            "Train Epoch: 3 [5760/7471 (77%)]\tLoss: 418579.718750\n",
            "Train Epoch: 3 [5800/7471 (78%)]\tLoss: 418732.031250\n",
            "Train Epoch: 3 [5840/7471 (78%)]\tLoss: 416370.062500\n",
            "Train Epoch: 3 [5880/7471 (79%)]\tLoss: 419344.468750\n",
            "Train Epoch: 3 [5920/7471 (79%)]\tLoss: 418178.250000\n",
            "Train Epoch: 3 [5960/7471 (80%)]\tLoss: 418074.031250\n",
            "Train Epoch: 3 [6000/7471 (80%)]\tLoss: 419252.281250\n",
            "Train Epoch: 3 [6040/7471 (81%)]\tLoss: 411430.875000\n",
            "Train Epoch: 3 [6080/7471 (81%)]\tLoss: 414546.125000\n",
            "Train Epoch: 3 [6120/7471 (82%)]\tLoss: 419881.437500\n",
            "Train Epoch: 3 [6160/7471 (82%)]\tLoss: 415654.312500\n",
            "Train Epoch: 3 [6200/7471 (83%)]\tLoss: 417109.656250\n",
            "Train Epoch: 3 [6240/7471 (84%)]\tLoss: 418640.031250\n",
            "Train Epoch: 3 [6280/7471 (84%)]\tLoss: 416873.156250\n",
            "Train Epoch: 3 [6320/7471 (85%)]\tLoss: 419142.843750\n",
            "Train Epoch: 3 [6360/7471 (85%)]\tLoss: 417165.687500\n",
            "Train Epoch: 3 [6400/7471 (86%)]\tLoss: 417989.062500\n",
            "Train Epoch: 3 [6440/7471 (86%)]\tLoss: 419268.343750\n",
            "Train Epoch: 3 [6480/7471 (87%)]\tLoss: 419186.218750\n",
            "Train Epoch: 3 [6520/7471 (87%)]\tLoss: 417640.406250\n",
            "Train Epoch: 3 [6560/7471 (88%)]\tLoss: 419961.593750\n",
            "Train Epoch: 3 [6600/7471 (88%)]\tLoss: 417147.375000\n",
            "Train Epoch: 3 [6640/7471 (89%)]\tLoss: 415513.781250\n",
            "Train Epoch: 3 [6680/7471 (89%)]\tLoss: 415360.718750\n",
            "Train Epoch: 3 [6720/7471 (90%)]\tLoss: 418570.062500\n",
            "Train Epoch: 3 [6760/7471 (90%)]\tLoss: 417550.781250\n",
            "Train Epoch: 3 [6800/7471 (91%)]\tLoss: 416979.843750\n",
            "Train Epoch: 3 [6840/7471 (92%)]\tLoss: 416793.750000\n",
            "Train Epoch: 3 [6880/7471 (92%)]\tLoss: 416088.687500\n",
            "Train Epoch: 3 [6920/7471 (93%)]\tLoss: 416978.812500\n",
            "Train Epoch: 3 [6960/7471 (93%)]\tLoss: 417451.750000\n",
            "Train Epoch: 3 [7000/7471 (94%)]\tLoss: 414946.031250\n",
            "Train Epoch: 3 [7040/7471 (94%)]\tLoss: 416821.343750\n",
            "Train Epoch: 3 [7080/7471 (95%)]\tLoss: 419246.406250\n",
            "Train Epoch: 3 [7120/7471 (95%)]\tLoss: 417381.937500\n",
            "Train Epoch: 3 [7160/7471 (96%)]\tLoss: 416221.906250\n",
            "Train Epoch: 3 [7200/7471 (96%)]\tLoss: 419451.062500\n",
            "Train Epoch: 3 [7240/7471 (97%)]\tLoss: 415059.968750\n",
            "Train Epoch: 3 [7280/7471 (97%)]\tLoss: 419492.062500\n",
            "Train Epoch: 3 [7320/7471 (98%)]\tLoss: 414825.937500\n",
            "Train Epoch: 3 [7360/7471 (99%)]\tLoss: 418246.468750\n",
            "Train Epoch: 3 [7400/7471 (99%)]\tLoss: 414382.625000\n",
            "Train Epoch: 3 [7440/7471 (100%)]\tLoss: 419117.093750\n",
            "Epoch 3 model saved!\n"
          ],
          "name": "stdout"
        },
        {
          "output_type": "error",
          "ename": "RuntimeError",
          "evalue": "ignored",
          "traceback": [
            "\u001b[0;31m---------------------------------------------------------------------------\u001b[0m",
            "\u001b[0;31mRuntimeError\u001b[0m                              Traceback (most recent call last)",
            "\u001b[0;32m<ipython-input-31-73f08db9d536>\u001b[0m in \u001b[0;36m<module>\u001b[0;34m()\u001b[0m\n\u001b[1;32m      4\u001b[0m     \u001b[0;31m# train, test model\u001b[0m\u001b[0;34m\u001b[0m\u001b[0;34m\u001b[0m\u001b[0;34m\u001b[0m\u001b[0m\n\u001b[1;32m      5\u001b[0m     \u001b[0mX_train\u001b[0m\u001b[0;34m,\u001b[0m \u001b[0my_train\u001b[0m\u001b[0;34m,\u001b[0m \u001b[0mz_train\u001b[0m\u001b[0;34m,\u001b[0m \u001b[0mmu_train\u001b[0m\u001b[0;34m,\u001b[0m \u001b[0mlogvar_train\u001b[0m\u001b[0;34m,\u001b[0m \u001b[0mtrain_losses\u001b[0m \u001b[0;34m=\u001b[0m \u001b[0mtrain\u001b[0m\u001b[0;34m(\u001b[0m\u001b[0mlog_interval\u001b[0m\u001b[0;34m,\u001b[0m \u001b[0mresnet_vae\u001b[0m\u001b[0;34m,\u001b[0m \u001b[0mdevice\u001b[0m\u001b[0;34m,\u001b[0m \u001b[0mtrain_loader\u001b[0m\u001b[0;34m,\u001b[0m \u001b[0moptimizer\u001b[0m\u001b[0;34m,\u001b[0m \u001b[0mepoch\u001b[0m\u001b[0;34m)\u001b[0m\u001b[0;34m\u001b[0m\u001b[0;34m\u001b[0m\u001b[0m\n\u001b[0;32m----> 6\u001b[0;31m     \u001b[0mX_test\u001b[0m\u001b[0;34m,\u001b[0m \u001b[0my_test\u001b[0m\u001b[0;34m,\u001b[0m \u001b[0mz_test\u001b[0m\u001b[0;34m,\u001b[0m \u001b[0mmu_test\u001b[0m\u001b[0;34m,\u001b[0m \u001b[0mlogvar_test\u001b[0m\u001b[0;34m,\u001b[0m \u001b[0mepoch_test_loss\u001b[0m \u001b[0;34m=\u001b[0m \u001b[0mvalidation\u001b[0m\u001b[0;34m(\u001b[0m\u001b[0mresnet_vae\u001b[0m\u001b[0;34m,\u001b[0m \u001b[0mdevice\u001b[0m\u001b[0;34m,\u001b[0m \u001b[0moptimizer\u001b[0m\u001b[0;34m,\u001b[0m \u001b[0mvalid_loader\u001b[0m\u001b[0;34m)\u001b[0m\u001b[0;34m\u001b[0m\u001b[0;34m\u001b[0m\u001b[0m\n\u001b[0m\u001b[1;32m      7\u001b[0m \u001b[0;34m\u001b[0m\u001b[0m\n\u001b[1;32m      8\u001b[0m     \u001b[0;31m# save results\u001b[0m\u001b[0;34m\u001b[0m\u001b[0;34m\u001b[0m\u001b[0;34m\u001b[0m\u001b[0m\n",
            "\u001b[0;32m<ipython-input-28-f6c91d5567d7>\u001b[0m in \u001b[0;36mvalidation\u001b[0;34m(model, device, optimizer, test_loader)\u001b[0m\n\u001b[1;32m     75\u001b[0m                 \u001b[0mn\u001b[0m \u001b[0;34m=\u001b[0m \u001b[0mmin\u001b[0m\u001b[0;34m(\u001b[0m\u001b[0mX\u001b[0m\u001b[0;34m.\u001b[0m\u001b[0msize\u001b[0m\u001b[0;34m(\u001b[0m\u001b[0;36m0\u001b[0m\u001b[0;34m)\u001b[0m\u001b[0;34m,\u001b[0m \u001b[0;36m8\u001b[0m\u001b[0;34m)\u001b[0m\u001b[0;34m\u001b[0m\u001b[0;34m\u001b[0m\u001b[0m\n\u001b[1;32m     76\u001b[0m                 comparison = torch.cat([X[:n],\n\u001b[0;32m---> 77\u001b[0;31m                                     X_reconst.view(16, 3, 224, 224)[:n]])\n\u001b[0m\u001b[1;32m     78\u001b[0m                 save_image(comparison.cpu(),\n\u001b[1;32m     79\u001b[0m                         './results_Malimg_Exp3/recon_sampling/reconstruction_' + str(epoch) + '.png', nrow=n)\n",
            "\u001b[0;31mRuntimeError\u001b[0m: shape '[16, 3, 224, 224]' is invalid for input of size 602112"
          ]
        }
      ]
    },
    {
      "cell_type": "code",
      "metadata": {
        "id": "GJvbdz7GfIZg",
        "colab_type": "code",
        "colab": {}
      },
      "source": [
        "import torch\n",
        "torch.cuda.empty_cache()"
      ],
      "execution_count": 29,
      "outputs": []
    },
    {
      "cell_type": "code",
      "metadata": {
        "id": "7RQUFUYQZ889",
        "colab_type": "code",
        "colab": {}
      },
      "source": [
        "import torch, gc\n",
        "gc.collect()\n",
        "torch.cuda.empty_cache()"
      ],
      "execution_count": 30,
      "outputs": []
    },
    {
      "cell_type": "code",
      "metadata": {
        "id": "QIGz8h7jd9-w",
        "colab_type": "code",
        "colab": {
          "base_uri": "https://localhost:8080/",
          "height": 161
        },
        "outputId": "49c1efbe-d2eb-4a4f-b037-32c9a09f5fd4"
      },
      "source": [
        "torch.cuda.memory_summary(device=None, abbreviated=False)   # This commend provides us the summary of allocation of CUDA memory"
      ],
      "execution_count": 47,
      "outputs": [
        {
          "output_type": "execute_result",
          "data": {
            "application/vnd.google.colaboratory.intrinsic+json": {
              "type": "string"
            },
            "text/plain": [
              "'|===========================================================================|\\n|                  PyTorch CUDA memory summary, device ID 0                 |\\n|---------------------------------------------------------------------------|\\n|            CUDA OOMs: 8            |        cudaMalloc retries: 9         |\\n|===========================================================================|\\n|        Metric         | Cur Usage  | Peak Usage | Tot Alloc  | Tot Freed  |\\n|---------------------------------------------------------------------------|\\n| Allocated memory      |   14170 MB |   14272 MB |   12347 GB |   12333 GB |\\n|       from large pool |   13744 MB |   13843 MB |   12068 GB |   12054 GB |\\n|       from small pool |     426 MB |     513 MB |     279 GB |     278 GB |\\n|---------------------------------------------------------------------------|\\n| Active memory         |   14170 MB |   14272 MB |   12347 GB |   12333 GB |\\n|       from large pool |   13744 MB |   13843 MB |   12068 GB |   12054 GB |\\n|       from small pool |     426 MB |     513 MB |     279 GB |     278 GB |\\n|---------------------------------------------------------------------------|\\n| GPU reserved memory   |   15564 MB |   15566 MB |   17376 MB |    1812 MB |\\n|       from large pool |   15134 MB |   15222 MB |   16860 MB |    1726 MB |\\n|       from small pool |     430 MB |     514 MB |     516 MB |      86 MB |\\n|---------------------------------------------------------------------------|\\n| Non-releasable memory |    1393 MB |    2806 MB |    9037 GB |    9035 GB |\\n|       from large pool |    1389 MB |    2803 MB |    8700 GB |    8698 GB |\\n|       from small pool |       3 MB |      11 MB |     337 GB |     336 GB |\\n|---------------------------------------------------------------------------|\\n| Allocations           |    5825    |    7002    |    3493 K  |    3487 K  |\\n|       from large pool |    1677    |    1708    |    1172 K  |    1170 K  |\\n|       from small pool |    4148    |    5425    |    2320 K  |    2316 K  |\\n|---------------------------------------------------------------------------|\\n| Active allocs         |    5825    |    7002    |    3493 K  |    3487 K  |\\n|       from large pool |    1677    |    1708    |    1172 K  |    1170 K  |\\n|       from small pool |    4148    |    5425    |    2320 K  |    2316 K  |\\n|---------------------------------------------------------------------------|\\n| GPU reserved segments |     647    |     683    |     746    |      99    |\\n|       from large pool |     432    |     432    |     488    |      56    |\\n|       from small pool |     215    |     257    |     258    |      43    |\\n|---------------------------------------------------------------------------|\\n| Non-releasable allocs |     662    |     715    |    2686 K  |    2685 K  |\\n|       from large pool |     360    |     447    |     932 K  |     932 K  |\\n|       from small pool |     302    |     302    |    1754 K  |    1753 K  |\\n|===========================================================================|\\n'"
            ]
          },
          "metadata": {
            "tags": []
          },
          "execution_count": 47
        }
      ]
    },
    {
      "cell_type": "code",
      "metadata": {
        "id": "_XZRhJ3vr05g",
        "colab_type": "code",
        "colab": {
          "base_uri": "https://localhost:8080/",
          "height": 377
        },
        "outputId": "8dd756ac-c7b9-46c6-b533-8d4976f6869a"
      },
      "source": [
        "! nvidia-smi"
      ],
      "execution_count": 30,
      "outputs": [
        {
          "output_type": "stream",
          "text": [
            "Thu Jul 30 06:28:48 2020       \n",
            "+-----------------------------------------------------------------------------+\n",
            "| NVIDIA-SMI 450.51.05    Driver Version: 418.67       CUDA Version: 10.1     |\n",
            "|-------------------------------+----------------------+----------------------+\n",
            "| GPU  Name        Persistence-M| Bus-Id        Disp.A | Volatile Uncorr. ECC |\n",
            "| Fan  Temp  Perf  Pwr:Usage/Cap|         Memory-Usage | GPU-Util  Compute M. |\n",
            "|                               |                      |               MIG M. |\n",
            "|===============================+======================+======================|\n",
            "|   0  Tesla P100-PCIE...  Off  | 00000000:00:04.0 Off |                    0 |\n",
            "| N/A   40C    P0    32W / 250W |  16279MiB / 16280MiB |      0%      Default |\n",
            "|                               |                      |                 ERR! |\n",
            "+-------------------------------+----------------------+----------------------+\n",
            "                                                                               \n",
            "+-----------------------------------------------------------------------------+\n",
            "| Processes:                                                                  |\n",
            "|  GPU   GI   CI        PID   Type   Process name                  GPU Memory |\n",
            "|        ID   ID                                                   Usage      |\n",
            "|=============================================================================|\n",
            "|  No running processes found                                                 |\n",
            "+-----------------------------------------------------------------------------+\n"
          ],
          "name": "stdout"
        }
      ]
    },
    {
      "cell_type": "markdown",
      "metadata": {
        "id": "4tmNHFSv20a8",
        "colab_type": "text"
      },
      "source": [
        "### plot_train_val_loss plot"
      ]
    },
    {
      "cell_type": "code",
      "metadata": {
        "id": "hCneJB6XkQ5A",
        "colab_type": "code",
        "colab": {}
      },
      "source": [
        "fig = plt.figure(figsize=(15, 5))\n",
        "\n",
        "# ======= Loss Fluctuation ======= #\n",
        "ax1 = fig.add_subplot(1, 2, 1)\n",
        "ax1.plot(list_epoch, epoch_train_losses, label='train_loss')\n",
        "ax1.plot(list_epoch, epoch_test_losses, '--', label='val_loss')\n",
        "ax1.set_xlabel('epoch')\n",
        "ax1.set_ylabel('loss')\n",
        "ax1.grid()\n",
        "ax1.legend()\n",
        "ax1.set_title('epoch vs loss')\n",
        "\n",
        "plt.savefig('./results_Malimg_Exp3/plot_latent_vector/' + str(epoch) + '_t_SNE.png', dpi=300)\n",
        "\n",
        "\n",
        "'''\n",
        "# ======= Metric Fluctuation ======= # \n",
        "ax2 = fig.add_subplot(1, 2, 2)\n",
        "ax2.plot(list_acc_epoch, list_acc, marker='x', label='Accuracy metric')\n",
        "ax2.set_xlabel('epoch')\n",
        "ax2.set_ylabel('Acc')\n",
        "ax2.grid()\n",
        "ax2.legend()\n",
        "ax2.set_title('epoch vs Accuracy')\n",
        "\n",
        "plt.show()\n",
        "'''"
      ],
      "execution_count": null,
      "outputs": []
    }
  ]
}