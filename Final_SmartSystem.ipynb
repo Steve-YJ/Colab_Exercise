{
  "nbformat": 4,
  "nbformat_minor": 0,
  "metadata": {
    "colab": {
      "name": "Final_SmartSystem.ipynb",
      "provenance": [],
      "collapsed_sections": [],
      "authorship_tag": "ABX9TyP6h1IR157CG8j2UlHcKQfW",
      "include_colab_link": true
    },
    "kernelspec": {
      "name": "python3",
      "display_name": "Python 3"
    }
  },
  "cells": [
    {
      "cell_type": "markdown",
      "metadata": {
        "id": "view-in-github",
        "colab_type": "text"
      },
      "source": [
        "<a href=\"https://colab.research.google.com/github/Steve-YJ/Colab_Exercise/blob/master/Final_SmartSystem.ipynb\" target=\"_parent\"><img src=\"https://colab.research.google.com/assets/colab-badge.svg\" alt=\"Open In Colab\"/></a>"
      ]
    },
    {
      "cell_type": "code",
      "metadata": {
        "id": "_QbXXicoYLaa",
        "colab_type": "code",
        "colab": {}
      },
      "source": [
        "import numpy as np"
      ],
      "execution_count": 1,
      "outputs": []
    },
    {
      "cell_type": "code",
      "metadata": {
        "id": "cJjTnyVMYQda",
        "colab_type": "code",
        "colab": {}
      },
      "source": [
        "def dist(x, y, a, b):\n",
        "    x = x\n",
        "    y = y\n",
        "    a = a\n",
        "    b = b\n",
        "    return np.sqrt((x-y)**2 + (a-b)**2)"
      ],
      "execution_count": 2,
      "outputs": []
    },
    {
      "cell_type": "code",
      "metadata": {
        "id": "rT-10bQ8YuQU",
        "colab_type": "code",
        "colab": {}
      },
      "source": [
        "import numpy as np\n",
        "import pandas as pd\n",
        "\n",
        "import scipy\n",
        "from scipy.cluster.hierarchy import dendrogram, linkage\n",
        "\n",
        "import seaborn as sns\n",
        "import matplotlib.pyplot as plt\n",
        "\n",
        "import sklearn\n",
        "from sklearn.cluster import AgglomerativeClustering\n",
        "import sklearn.metrics as sm\n"
      ],
      "execution_count": 5,
      "outputs": []
    },
    {
      "cell_type": "code",
      "metadata": {
        "id": "Jxs_VK4kZAgG",
        "colab_type": "code",
        "colab": {}
      },
      "source": [
        "df = np.array([\n",
        "               [1, 6],\n",
        "               [2, 4],\n",
        "               [3, 5],\n",
        "               [4, 8],\n",
        "               [5, 4],\n",
        "               [5, 2],\n",
        "               [6, 10],\n",
        "               [6, 7],\n",
        "               [7, 5],\n",
        "               [9, 6]\n",
        "\n",
        "])"
      ],
      "execution_count": 10,
      "outputs": []
    },
    {
      "cell_type": "code",
      "metadata": {
        "id": "DMgbkzvAapAn",
        "colab_type": "code",
        "colab": {
          "base_uri": "https://localhost:8080/",
          "height": 385
        },
        "outputId": "866a112e-25de-4a9f-bdcb-89a0ef4bd94d"
      },
      "source": [
        "# reference: https://stackabuse.com/hierarchical-clustering-with-python-and-scikit-learn/\n",
        "\n",
        "import matplotlib.pyplot as plt\n",
        "\n",
        "labels = range(1, 11)\n",
        "plt.figure(figsize=(10, 6))\n",
        "plt.subplots_adjust(bottom=0.1)\n",
        "plt.scatter(df[:, 0], df[:, 1], label='True Position')\n",
        "\n",
        "\n",
        "for label, x, y in zip(labels, df[:, 0], df[:, 1]):\n",
        "    plt.annotate(\n",
        "        label,\n",
        "        xy=(x, y), xytext=(-3, 3),\n",
        "        textcoords='offset points', ha='right', va='bottom')\n",
        "    \n",
        "plt.show()"
      ],
      "execution_count": 12,
      "outputs": [
        {
          "output_type": "display_data",
          "data": {
            "image/png": "[encoded data removed]",
            "text/plain": [
              "<Figure size 720x432 with 1 Axes>"
            ]
          },
          "metadata": {
            "tags": [],
            "needs_background": "light"
          }
        }
      ]
    },
    {
      "cell_type": "code",
      "metadata": {
        "id": "wemlQHxhadQ-",
        "colab_type": "code",
        "colab": {
          "base_uri": "https://localhost:8080/",
          "height": 377
        },
        "outputId": "485786ea-d939-4b99-a746-f1a5fec0b615"
      },
      "source": [
        "from scipy.cluster.hierarchy import dendrogram, linkage\n",
        "from matplotlib import pyplot as plt\n",
        "\n",
        "linked = linkage(df, 'single')\n",
        "\n",
        "labelList = range(1, 11)\n",
        "\n",
        "plt.figure(figsize=(10, 6))\n",
        "dendrogram(linked,\n",
        "           orientation='top',\n",
        "           labels=labelList,\n",
        "           distance_sort='descending',\n",
        "           show_leaf_counts=True)\n",
        "plt.show()\n",
        "\n"
      ],
      "execution_count": 14,
      "outputs": [
        {
          "output_type": "display_data",
          "data": {
            "image/png": "[encoded data removed]",
            "text/plain": [
              "<Figure size 720x432 with 1 Axes>"
            ]
          },
          "metadata": {
            "tags": [],
            "needs_background": "light"
          }
        }
      ]
    },
    {
      "cell_type": "code",
      "metadata": {
        "id": "VBDx9tEraJAI",
        "colab_type": "code",
        "colab": {}
      },
      "source": [
        "dist_metrix = pd.DataFrame()"
      ],
      "execution_count": null,
      "outputs": []
    }
  ]
}