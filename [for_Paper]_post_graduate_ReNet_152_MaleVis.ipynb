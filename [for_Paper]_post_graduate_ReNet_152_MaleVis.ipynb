{
  "nbformat": 4,
  "nbformat_minor": 0,
  "metadata": {
    "colab": {
      "name": "[for Paper] post graduate_ReNet-152_MaleVis.ipynb",
      "provenance": [],
      "collapsed_sections": [],
      "machine_shape": "hm",
      "authorship_tag": "ABX9TyOzzaKkFejuOkz9CkvwGLyO",
      "include_colab_link": true
    },
    "kernelspec": {
      "name": "python3",
      "display_name": "Python 3"
    },
    "accelerator": "GPU",
    "widgets": {
      "application/vnd.jupyter.widget-state+json": {
        "989c9bb72b7a422e8290947e42d00503": {
          "model_module": "@jupyter-widgets/controls",
          "model_name": "HBoxModel",
          "state": {
            "_view_name": "HBoxView",
            "_dom_classes": [],
            "_model_name": "HBoxModel",
            "_view_module": "@jupyter-widgets/controls",
            "_model_module_version": "1.5.0",
            "_view_count": null,
            "_view_module_version": "1.5.0",
            "box_style": "",
            "layout": "IPY_MODEL_4525ea1da52e4839b89a5d2cc0400f83",
            "_model_module": "@jupyter-widgets/controls",
            "children": [
              "IPY_MODEL_452e252b4cb443e697d47c3b7b55022f",
              "IPY_MODEL_7723f96870c44636b842f8dbb1b95de1"
            ]
          }
        },
        "4525ea1da52e4839b89a5d2cc0400f83": {
          "model_module": "@jupyter-widgets/base",
          "model_name": "LayoutModel",
          "state": {
            "_view_name": "LayoutView",
            "grid_template_rows": null,
            "right": null,
            "justify_content": null,
            "_view_module": "@jupyter-widgets/base",
            "overflow": null,
            "_model_module_version": "1.2.0",
            "_view_count": null,
            "flex_flow": null,
            "width": null,
            "min_width": null,
            "border": null,
            "align_items": null,
            "bottom": null,
            "_model_module": "@jupyter-widgets/base",
            "top": null,
            "grid_column": null,
            "overflow_y": null,
            "overflow_x": null,
            "grid_auto_flow": null,
            "grid_area": null,
            "grid_template_columns": null,
            "flex": null,
            "_model_name": "LayoutModel",
            "justify_items": null,
            "grid_row": null,
            "max_height": null,
            "align_content": null,
            "visibility": null,
            "align_self": null,
            "height": null,
            "min_height": null,
            "padding": null,
            "grid_auto_rows": null,
            "grid_gap": null,
            "max_width": null,
            "order": null,
            "_view_module_version": "1.2.0",
            "grid_template_areas": null,
            "object_position": null,
            "object_fit": null,
            "grid_auto_columns": null,
            "margin": null,
            "display": null,
            "left": null
          }
        },
        "452e252b4cb443e697d47c3b7b55022f": {
          "model_module": "@jupyter-widgets/controls",
          "model_name": "FloatProgressModel",
          "state": {
            "_view_name": "ProgressView",
            "style": "IPY_MODEL_4ef1f5593bb940d2ae13ff82ee920fef",
            "_dom_classes": [],
            "description": "100%",
            "_model_name": "FloatProgressModel",
            "bar_style": "success",
            "max": 241530880,
            "_view_module": "@jupyter-widgets/controls",
            "_model_module_version": "1.5.0",
            "value": 241530880,
            "_view_count": null,
            "_view_module_version": "1.5.0",
            "orientation": "horizontal",
            "min": 0,
            "description_tooltip": null,
            "_model_module": "@jupyter-widgets/controls",
            "layout": "IPY_MODEL_4e5b94791007401dafc0251fdf529bbc"
          }
        },
        "7723f96870c44636b842f8dbb1b95de1": {
          "model_module": "@jupyter-widgets/controls",
          "model_name": "HTMLModel",
          "state": {
            "_view_name": "HTMLView",
            "style": "IPY_MODEL_ec2adbf791be4aa89602693111cc05a5",
            "_dom_classes": [],
            "description": "",
            "_model_name": "HTMLModel",
            "placeholder": "​",
            "_view_module": "@jupyter-widgets/controls",
            "_model_module_version": "1.5.0",
            "value": " 230M/230M [00:02&lt;00:00, 85.5MB/s]",
            "_view_count": null,
            "_view_module_version": "1.5.0",
            "description_tooltip": null,
            "_model_module": "@jupyter-widgets/controls",
            "layout": "IPY_MODEL_d53b9320d27b4c9a8e43188c2c94ff96"
          }
        },
        "4ef1f5593bb940d2ae13ff82ee920fef": {
          "model_module": "@jupyter-widgets/controls",
          "model_name": "ProgressStyleModel",
          "state": {
            "_view_name": "StyleView",
            "_model_name": "ProgressStyleModel",
            "description_width": "initial",
            "_view_module": "@jupyter-widgets/base",
            "_model_module_version": "1.5.0",
            "_view_count": null,
            "_view_module_version": "1.2.0",
            "bar_color": null,
            "_model_module": "@jupyter-widgets/controls"
          }
        },
        "4e5b94791007401dafc0251fdf529bbc": {
          "model_module": "@jupyter-widgets/base",
          "model_name": "LayoutModel",
          "state": {
            "_view_name": "LayoutView",
            "grid_template_rows": null,
            "right": null,
            "justify_content": null,
            "_view_module": "@jupyter-widgets/base",
            "overflow": null,
            "_model_module_version": "1.2.0",
            "_view_count": null,
            "flex_flow": null,
            "width": null,
            "min_width": null,
            "border": null,
            "align_items": null,
            "bottom": null,
            "_model_module": "@jupyter-widgets/base",
            "top": null,
            "grid_column": null,
            "overflow_y": null,
            "overflow_x": null,
            "grid_auto_flow": null,
            "grid_area": null,
            "grid_template_columns": null,
            "flex": null,
            "_model_name": "LayoutModel",
            "justify_items": null,
            "grid_row": null,
            "max_height": null,
            "align_content": null,
            "visibility": null,
            "align_self": null,
            "height": null,
            "min_height": null,
            "padding": null,
            "grid_auto_rows": null,
            "grid_gap": null,
            "max_width": null,
            "order": null,
            "_view_module_version": "1.2.0",
            "grid_template_areas": null,
            "object_position": null,
            "object_fit": null,
            "grid_auto_columns": null,
            "margin": null,
            "display": null,
            "left": null
          }
        },
        "ec2adbf791be4aa89602693111cc05a5": {
          "model_module": "@jupyter-widgets/controls",
          "model_name": "DescriptionStyleModel",
          "state": {
            "_view_name": "StyleView",
            "_model_name": "DescriptionStyleModel",
            "description_width": "",
            "_view_module": "@jupyter-widgets/base",
            "_model_module_version": "1.5.0",
            "_view_count": null,
            "_view_module_version": "1.2.0",
            "_model_module": "@jupyter-widgets/controls"
          }
        },
        "d53b9320d27b4c9a8e43188c2c94ff96": {
          "model_module": "@jupyter-widgets/base",
          "model_name": "LayoutModel",
          "state": {
            "_view_name": "LayoutView",
            "grid_template_rows": null,
            "right": null,
            "justify_content": null,
            "_view_module": "@jupyter-widgets/base",
            "overflow": null,
            "_model_module_version": "1.2.0",
            "_view_count": null,
            "flex_flow": null,
            "width": null,
            "min_width": null,
            "border": null,
            "align_items": null,
            "bottom": null,
            "_model_module": "@jupyter-widgets/base",
            "top": null,
            "grid_column": null,
            "overflow_y": null,
            "overflow_x": null,
            "grid_auto_flow": null,
            "grid_area": null,
            "grid_template_columns": null,
            "flex": null,
            "_model_name": "LayoutModel",
            "justify_items": null,
            "grid_row": null,
            "max_height": null,
            "align_content": null,
            "visibility": null,
            "align_self": null,
            "height": null,
            "min_height": null,
            "padding": null,
            "grid_auto_rows": null,
            "grid_gap": null,
            "max_width": null,
            "order": null,
            "_view_module_version": "1.2.0",
            "grid_template_areas": null,
            "object_position": null,
            "object_fit": null,
            "grid_auto_columns": null,
            "margin": null,
            "display": null,
            "left": null
          }
        }
      }
    }
  },
  "cells": [
    {
      "cell_type": "markdown",
      "metadata": {
        "id": "view-in-github",
        "colab_type": "text"
      },
      "source": [
        "<a href=\"https://colab.research.google.com/github/Steve-YJ/Colab_Exercise/blob/master/%5Bfor_Paper%5D_post_graduate_ReNet_152_MaleVis.ipynb\" target=\"_parent\"><img src=\"https://colab.research.google.com/assets/colab-badge.svg\" alt=\"Open In Colab\"/></a>"
      ]
    },
    {
      "cell_type": "markdown",
      "metadata": {
        "id": "iiPptRhKVwp5"
      },
      "source": [
        "# README.MD\r\n",
        "✅ Check Point\r\n",
        "> MaleVis Datasset으로 전이학습 수행<br>\r\n",
        "> 우선은 학습을 잘 시켜본다. 학습 결과가 좋다면 해당 분류기를 전이하여 기존의 연구를 발전시킬 수 있다<br>\r\n",
        "> 실험을 계속해서 진행하며 기존 연구를 발전시켜보자\r\n",
        "\r\n",
        "\r\n",
        "\r\n"
      ]
    },
    {
      "cell_type": "markdown",
      "metadata": {
        "id": "apehAvTWWFn_"
      },
      "source": [
        "## Mount Drive"
      ]
    },
    {
      "cell_type": "code",
      "metadata": {
        "colab": {
          "base_uri": "https://localhost:8080/"
        },
        "id": "nDkLCljEWKoN",
        "outputId": "5c78bce6-9696-4710-91d2-63fa1c3672c1"
      },
      "source": [
        "# mount drive\r\n",
        "\r\n",
        "from google.colab import drive\r\n",
        "drive.mount('/content/drive', force_remount=True)"
      ],
      "execution_count": 1,
      "outputs": [
        {
          "output_type": "stream",
          "text": [
            "Mounted at /content/drive\n"
          ],
          "name": "stdout"
        }
      ]
    },
    {
      "cell_type": "code",
      "metadata": {
        "id": "COYT-b9SWkHh"
      },
      "source": [
        "%load_ext autoreload\r\n",
        "%autoreload 2"
      ],
      "execution_count": 2,
      "outputs": []
    },
    {
      "cell_type": "code",
      "metadata": {
        "colab": {
          "base_uri": "https://localhost:8080/"
        },
        "id": "Rg7nuEYbWo4F",
        "outputId": "02eb44f8-1141-4649-fb4d-adc10103d69d"
      },
      "source": [
        "%cd drive/MyDrive/Post_InfoSec_Exps/ResNet-VAE/ResNetVAE-master.zip\\ \\(Unzipped\\ Files\\)/ResNetVAE-master/Post_graduate\r\n",
        "! ls"
      ],
      "execution_count": 3,
      "outputs": [
        {
          "output_type": "stream",
          "text": [
            "/content/drive/MyDrive/Post_InfoSec_Exps/ResNet-VAE/ResNetVAE-master.zip (Unzipped Files)/ResNetVAE-master/Post_graduate\n",
            "'[for Paper] post graduate.ipynb'   num_samples.png\n",
            " malevis_train_val_224x224\t    num_samples_r70.png\n",
            " malevis_train_val_224x224.zip\t    num_samples_r90.png\n",
            " model_epoch59.pth\t\t    __pycache__\n",
            " modules.py\t\t\t    visualize_samples_.png\n",
            " num_of_samples_r90.png\t\t    visualize_samples.png\n"
          ],
          "name": "stdout"
        }
      ]
    },
    {
      "cell_type": "markdown",
      "metadata": {
        "id": "0bJlZy_aWkPG"
      },
      "source": [
        "`malevis_train_val_224x224` 에 학습 데이터와 검증 데이터가 준비되어 있습니다 -20.12.15.Tue. pm12:00"
      ]
    },
    {
      "cell_type": "markdown",
      "metadata": {
        "id": "HVdhVUMdWKrL"
      },
      "source": [
        "## 01. Import Library"
      ]
    },
    {
      "cell_type": "code",
      "metadata": {
        "id": "gRe32qTaVY3Y"
      },
      "source": [
        "from PIL import Image\r\n",
        "%matplotlib inline\r\n",
        "\r\n",
        "import os\r\n",
        "import copy\r\n",
        "import time\r\n",
        "\r\n",
        "import numpy as np\r\n",
        "import pandas as pd\r\n",
        "\r\n",
        "import matplotlib\r\n",
        "import matplotlib.pyplot as plt\r\n",
        "import matplotlib as mpl\r\n",
        "\r\n",
        "import seaborn as sns\r\n",
        "\r\n",
        "# save single numpy array\r\n",
        "from tempfile import TemporaryFile\r\n",
        "from sklearn.manifold import TSNE\r\n",
        "\r\n",
        "import torch\r\n",
        "import torch.utils.data  # torch.utils.data\r\n",
        "\r\n",
        "from torch import nn, optim\r\n",
        "from torch.nn import functional as F\r\n",
        "from torch.autograd import Variable\r\n",
        "from torch.utils.data import Dataset, DataLoader\r\n",
        "from torch.optim import lr_scheduler  # 파이토치 러닝레이트 스케줄러\r\n",
        "\r\n",
        "import torchvision\r\n",
        "from torchvision import datasets, transforms\r\n",
        "from torchvision.utils import save_image\r\n",
        "\r\n",
        "# load modules\r\n",
        "from torchvision import models\r\n",
        "from modules import *"
      ],
      "execution_count": 4,
      "outputs": []
    },
    {
      "cell_type": "markdown",
      "metadata": {
        "id": "ArAFFJxjWOcj"
      },
      "source": [
        "modules 파일을 작업 디렉토리로 옮겨놔야 합니다"
      ]
    },
    {
      "cell_type": "markdown",
      "metadata": {
        "id": "wL1JG6_nWOeg"
      },
      "source": [
        "## 02. Data Preparation"
      ]
    },
    {
      "cell_type": "markdown",
      "metadata": {
        "id": "txVyEzz3PR8R"
      },
      "source": [
        "> ImageFolder 라이브러리를 사용한 데이터셋 로드<br>\r\n",
        "각 이미지들이 자신의 레이블(Label)이름으로 된 폴더 안에 들어가 있는 구조라면, ImageFolder 라이브러리를 이용하여 바로 불러와 객체로 만들 수 있다 - 안경잡이 개발자-"
      ]
    },
    {
      "cell_type": "code",
      "metadata": {
        "id": "rmktIGgZWRNG"
      },
      "source": [
        "transforms = transforms.Compose([\r\n",
        "                                #  transforms.Resize((224, 224)), # 이미 224x224로 되어있기에 생략해도 될 듯 하다 -20.12.15.Tue-\r\n",
        "                                 transforms.Grayscale(num_output_channels=3),  # for transfer learning\r\n",
        "                                 transforms.ToTensor(),\r\n",
        "                                 transforms.Normalize(mean=[0.485, 0.456, 0.406],\r\n",
        "                                                      std = [0.229, 0.224, 0.225])\r\n",
        "                                ])\r\n",
        "\r\n",
        "# make custom dataset\r\n",
        "trainset = torchvision.datasets.ImageFolder(root='./malevis_train_val_224x224/train',\r\n",
        "                                            transform = transforms)\r\n",
        "valset = torchvision.datasets.ImageFolder(root='./malevis_train_val_224x224/val',\r\n",
        "                                          transform = transforms)"
      ],
      "execution_count": 5,
      "outputs": []
    },
    {
      "cell_type": "code",
      "metadata": {
        "colab": {
          "base_uri": "https://localhost:8080/"
        },
        "id": "WXdPEujQNYQY",
        "outputId": "d0bc45d0-cadf-4dfd-9b4f-9d668dd69378"
      },
      "source": [
        "trainset"
      ],
      "execution_count": 6,
      "outputs": [
        {
          "output_type": "execute_result",
          "data": {
            "text/plain": [
              "Dataset ImageFolder\n",
              "    Number of datapoints: 9100\n",
              "    Root location: ./malevis_train_val_224x224/train\n",
              "    StandardTransform\n",
              "Transform: Compose(\n",
              "               Grayscale(num_output_channels=3)\n",
              "               ToTensor()\n",
              "               Normalize(mean=[0.485, 0.456, 0.406], std=[0.229, 0.224, 0.225])\n",
              "           )"
            ]
          },
          "metadata": {
            "tags": []
          },
          "execution_count": 6
        }
      ]
    },
    {
      "cell_type": "code",
      "metadata": {
        "colab": {
          "base_uri": "https://localhost:8080/"
        },
        "id": "OoAtY-g8Zrxs",
        "outputId": "672e3073-c05b-4dc8-c09d-bd0d1a6d3f4f"
      },
      "source": [
        "classes = trainset.classes\r\n",
        "classes"
      ],
      "execution_count": 7,
      "outputs": [
        {
          "output_type": "execute_result",
          "data": {
            "text/plain": [
              "['Adposhel',\n",
              " 'Agent',\n",
              " 'Allaple',\n",
              " 'Amonetize',\n",
              " 'Androm',\n",
              " 'Autorun',\n",
              " 'BrowseFox',\n",
              " 'Dinwod',\n",
              " 'Elex',\n",
              " 'Expiro',\n",
              " 'Fasong',\n",
              " 'HackKMS',\n",
              " 'Hlux',\n",
              " 'Injector',\n",
              " 'InstallCore',\n",
              " 'MultiPlug',\n",
              " 'Neoreklami',\n",
              " 'Neshta',\n",
              " 'Other',\n",
              " 'Regrun',\n",
              " 'Sality',\n",
              " 'Snarasite',\n",
              " 'Stantinko',\n",
              " 'VBA',\n",
              " 'VBKrypt',\n",
              " 'Vilsel']"
            ]
          },
          "metadata": {
            "tags": []
          },
          "execution_count": 7
        }
      ]
    },
    {
      "cell_type": "code",
      "metadata": {
        "colab": {
          "base_uri": "https://localhost:8080/"
        },
        "id": "ry1hCjYbSJrA",
        "outputId": "4bfa3a3d-b899-4cd1-d9e0-2d7094d3f430"
      },
      "source": [
        "len(classes)"
      ],
      "execution_count": 8,
      "outputs": [
        {
          "output_type": "execute_result",
          "data": {
            "text/plain": [
              "26"
            ]
          },
          "metadata": {
            "tags": []
          },
          "execution_count": 8
        }
      ]
    },
    {
      "cell_type": "markdown",
      "metadata": {
        "id": "79qvoTIRSNiB"
      },
      "source": [
        "26개의 Class로 구성되어 있다. 이 중 other은 정상 파일을 의미한다"
      ]
    },
    {
      "cell_type": "code",
      "metadata": {
        "id": "S6uOvPR0Ztyx"
      },
      "source": [
        "malimg_class = ['Adialer.C',\r\n",
        " 'Agent.FYI',\r\n",
        " 'Allaple.A',\r\n",
        " 'Allaple.L',\r\n",
        " 'Alueron.gen!J',\r\n",
        " 'Autorun.K',\r\n",
        " 'C2LOP.P',\r\n",
        " 'C2LOP.gen!g',\r\n",
        " 'Dialplatform.B',\r\n",
        " 'Dontovo.A',\r\n",
        " 'Fakerean',\r\n",
        " 'Instantaccess',\r\n",
        " 'Lolyda.AA1',\r\n",
        " 'Lolyda.AA2',\r\n",
        " 'Lolyda.AA3',\r\n",
        " 'Lolyda.AT',\r\n",
        " 'Malex.gen!J',\r\n",
        " 'Obfuscator.AD',\r\n",
        " 'Rbot!gen',\r\n",
        " 'Skintrim.N',\r\n",
        " 'Swizzor.gen!E',\r\n",
        " 'Swizzor.gen!I',\r\n",
        " 'VB.AT',\r\n",
        " 'Wintrim.BX',\r\n",
        " 'Yuner.A']"
      ],
      "execution_count": 9,
      "outputs": []
    },
    {
      "cell_type": "code",
      "metadata": {
        "id": "8ZNELw_waZB-"
      },
      "source": [
        "for idx, cls in enumerate(classes):\r\n",
        "    if cls in malimg_class:\r\n",
        "        print(cls)"
      ],
      "execution_count": 10,
      "outputs": []
    },
    {
      "cell_type": "markdown",
      "metadata": {
        "id": "KkdmiqsUawog"
      },
      "source": [
        "check point. 기존의 데이터와 같은 패밀리를 같는 데이터는 단 하나도 없구나!"
      ]
    },
    {
      "cell_type": "markdown",
      "metadata": {
        "id": "1VkSnTzPZxb3"
      },
      "source": [
        "Split, train data to train, val, test"
      ]
    },
    {
      "cell_type": "code",
      "metadata": {
        "colab": {
          "base_uri": "https://localhost:8080/"
        },
        "id": "A_X7XxPba_PV",
        "outputId": "3587ca5a-f10a-48d2-8946-8317d625e4a1"
      },
      "source": [
        "full_dataset = trainset\r\n",
        "\r\n",
        "train_size = int(0.8 * len(full_dataset))\r\n",
        "val_size = int(0.1 * len(full_dataset))\r\n",
        "test_size = int(len(full_dataset) - train_size - val_size)\r\n",
        "\r\n",
        "print(\"train_size, val_size, test_size: \", train_size, val_size, test_size)"
      ],
      "execution_count": 11,
      "outputs": [
        {
          "output_type": "stream",
          "text": [
            "train_size, val_size, test_size:  7280 910 910\n"
          ],
          "name": "stdout"
        }
      ]
    },
    {
      "cell_type": "code",
      "metadata": {
        "colab": {
          "base_uri": "https://localhost:8080/"
        },
        "id": "OqJus7axNOF_",
        "outputId": "9fe14574-351c-4906-fd64-9a928611b5da"
      },
      "source": [
        "len(full_dataset)"
      ],
      "execution_count": 12,
      "outputs": [
        {
          "output_type": "execute_result",
          "data": {
            "text/plain": [
              "9100"
            ]
          },
          "metadata": {
            "tags": []
          },
          "execution_count": 12
        }
      ]
    },
    {
      "cell_type": "code",
      "metadata": {
        "colab": {
          "base_uri": "https://localhost:8080/"
        },
        "id": "CySr6bp9ba0B",
        "outputId": "52397045-e34f-4cae-c1e7-5715652cf2a5"
      },
      "source": [
        "train_dataset, val_dataset, test_dataset = torch.utils.data.random_split(full_dataset, [train_size, val_size, test_size])\r\n",
        "print(\"train_dataset, val_dataset, test_dataset: \", len(train_dataset), len(val_dataset), len(test_dataset))"
      ],
      "execution_count": 13,
      "outputs": [
        {
          "output_type": "stream",
          "text": [
            "train_dataset, val_dataset, test_dataset:  7280 910 910\n"
          ],
          "name": "stdout"
        }
      ]
    },
    {
      "cell_type": "code",
      "metadata": {
        "id": "57WUbfxwb005"
      },
      "source": [
        "train_loader = torch.utils.data.DataLoader(train_dataset,\r\n",
        "                                           batch_size=16,\r\n",
        "                                           shuffle=True,\r\n",
        "                                           pin_memory=True)\r\n",
        "val_loader = torch.utils.data.DataLoader(val_dataset,\r\n",
        "                                         batch_size=16,\r\n",
        "                                         shuffle=True,\r\n",
        "                                         pin_memory=True)\r\n",
        "test_loader = torch.utils.data.DataLoader(test_dataset,\r\n",
        "                                          batch_size=16,\r\n",
        "                                          shuffle=True, \r\n",
        "                                          pin_memory=True)"
      ],
      "execution_count": 14,
      "outputs": []
    },
    {
      "cell_type": "code",
      "metadata": {
        "id": "qQutpinqcSdt"
      },
      "source": [
        "# For 3-Channel Image print\r\n",
        "print_loader = torch.utils.data.DataLoader(train_dataset,\r\n",
        "                                           batch_size=16,\r\n",
        "                                           shuffle=True,\r\n",
        "                                           pin_memory=True)"
      ],
      "execution_count": 15,
      "outputs": []
    },
    {
      "cell_type": "code",
      "metadata": {
        "id": "Iy8yZl-UccZx"
      },
      "source": [
        "def imshow(img):\r\n",
        "    img = img / 2 + 0.5  # unnormalize\r\n",
        "    np_img = img.numpy()\r\n",
        "\r\n",
        "    plt.imshow(np.transpose(np_img, (1, 2, 0)))  # Convert (C, W, H) to (W, H, C)\r\n",
        "\r\n",
        "    print(np_img.shape)  # np_img shape\r\n",
        "    print((np.transpose(np_img, (1, 2, 0))).shape)  # transposed shape"
      ],
      "execution_count": 16,
      "outputs": []
    },
    {
      "cell_type": "code",
      "metadata": {
        "colab": {
          "base_uri": "https://localhost:8080/"
        },
        "id": "qOr7-GdQccuM",
        "outputId": "1ac7bcf0-44df-413d-b3aa-098a195cf16a"
      },
      "source": [
        "dataiter = iter(print_loader)\r\n",
        "images, labels = dataiter.next()\r\n",
        "print(labels)"
      ],
      "execution_count": 17,
      "outputs": [
        {
          "output_type": "stream",
          "text": [
            "tensor([23,  2,  6,  6, 12,  0, 25,  7, 10, 18, 21, 19, 22, 21,  3,  2])\n"
          ],
          "name": "stdout"
        }
      ]
    },
    {
      "cell_type": "code",
      "metadata": {
        "colab": {
          "base_uri": "https://localhost:8080/",
          "height": 415
        },
        "id": "5_d0MXi5ce6T",
        "outputId": "622764d3-838f-46d7-c589-cc36c59af83e"
      },
      "source": [
        "print(images.shape)\r\n",
        "imshow(torchvision.utils.make_grid(images, nrow=4))\r\n",
        "print(images.shape)\r\n",
        "print((torchvision.utils.make_grid(images)).shape)\r\n",
        "print(\"\".join(\"%5s \"%classes[labels[j]] for j in range(16)))\r\n"
      ],
      "execution_count": 18,
      "outputs": [
        {
          "output_type": "stream",
          "text": [
            "Clipping input data to the valid range for imshow with RGB data ([0..1] for floats or [0..255] for integers).\n"
          ],
          "name": "stderr"
        },
        {
          "output_type": "stream",
          "text": [
            "torch.Size([16, 3, 224, 224])\n",
            "(3, 906, 906)\n",
            "(906, 906, 3)\n",
            "torch.Size([16, 3, 224, 224])\n",
            "torch.Size([3, 454, 1810])\n",
            "  VBA Allaple BrowseFox BrowseFox  Hlux Adposhel Vilsel Dinwod Fasong Other Snarasite Regrun Stantinko Snarasite Amonetize Allaple \n"
          ],
          "name": "stdout"
        },
        {
          "output_type": "display_data",
          "data": {
            "image/png": "[encoded data removed]",
            "text/plain": [
              "<Figure size 432x288 with 1 Axes>"
            ]
          },
          "metadata": {
            "tags": [],
            "needs_background": "light"
          }
        }
      ]
    },
    {
      "cell_type": "code",
      "metadata": {
        "id": "ybgQPwwSQr15"
      },
      "source": [
        "# For 3-Channel Image print\r\n",
        "print_loader = torch.utils.data.DataLoader(train_dataset,\r\n",
        "                                           batch_size=8,\r\n",
        "                                           shuffle=True,\r\n",
        "                                           pin_memory=True)"
      ],
      "execution_count": 19,
      "outputs": []
    },
    {
      "cell_type": "code",
      "metadata": {
        "colab": {
          "base_uri": "https://localhost:8080/"
        },
        "id": "cOmGeg6XQxVW",
        "outputId": "2020d2b3-c021-45b8-b0b0-358d37ebef34"
      },
      "source": [
        "dataiter = iter(print_loader)\r\n",
        "images, labels = dataiter.next()\r\n",
        "print(labels)"
      ],
      "execution_count": 20,
      "outputs": [
        {
          "output_type": "stream",
          "text": [
            "tensor([10, 12,  6,  0, 11, 14, 17, 25])\n"
          ],
          "name": "stdout"
        }
      ]
    },
    {
      "cell_type": "code",
      "metadata": {
        "colab": {
          "base_uri": "https://localhost:8080/",
          "height": 220
        },
        "id": "zObaGxsOQd4-",
        "outputId": "468ddc5f-a7f8-4a64-b048-e1cdc7bc2837"
      },
      "source": [
        "print(images.shape)\r\n",
        "imshow(torchvision.utils.make_grid(images, nrow=8))\r\n",
        "print(images.shape)\r\n",
        "print((torchvision.utils.make_grid(images)).shape)\r\n",
        "print(\"\".join(\"%5s \"%classes[labels[j]] for j in range(8)))\r\n"
      ],
      "execution_count": 21,
      "outputs": [
        {
          "output_type": "stream",
          "text": [
            "Clipping input data to the valid range for imshow with RGB data ([0..1] for floats or [0..255] for integers).\n"
          ],
          "name": "stderr"
        },
        {
          "output_type": "stream",
          "text": [
            "torch.Size([8, 3, 224, 224])\n",
            "(3, 228, 1810)\n",
            "(228, 1810, 3)\n",
            "torch.Size([8, 3, 224, 224])\n",
            "torch.Size([3, 228, 1810])\n",
            "Fasong  Hlux BrowseFox Adposhel HackKMS InstallCore Neshta Vilsel \n"
          ],
          "name": "stdout"
        },
        {
          "output_type": "display_data",
          "data": {
            "image/png": "[encoded data removed]",
            "text/plain": [
              "<Figure size 432x288 with 1 Axes>"
            ]
          },
          "metadata": {
            "tags": [],
            "needs_background": "light"
          }
        }
      ]
    },
    {
      "cell_type": "markdown",
      "metadata": {
        "id": "rCJT-8O7T5Gp"
      },
      "source": [
        "Count plot을 그려보자 "
      ]
    },
    {
      "cell_type": "code",
      "metadata": {
        "colab": {
          "base_uri": "https://localhost:8080/"
        },
        "id": "2OlxHcVoVgzg",
        "outputId": "ff0f0b78-0f21-4574-988e-ae6832d27332"
      },
      "source": [
        "# How to list all subdirectories in a directory in Py\r\n",
        "\r\n",
        "import os\r\n",
        "root_dir = './malevis_train_val_224x224/train'\r\n",
        "\r\n",
        "for file in os.listdir(root_dir):\r\n",
        "    print(file)"
      ],
      "execution_count": 22,
      "outputs": [
        {
          "output_type": "stream",
          "text": [
            "Allaple\n",
            "Autorun\n",
            "Agent\n",
            "Elex\n",
            "Expiro\n",
            "Androm\n",
            "Adposhel\n",
            "Dinwod\n",
            "BrowseFox\n",
            "Amonetize\n",
            "InstallCore\n",
            "MultiPlug\n",
            "Neshta\n",
            "HackKMS\n",
            "Fasong\n",
            "Other\n",
            "Neoreklami\n",
            "Injector\n",
            "Regrun\n",
            "Hlux\n",
            "Stantinko\n",
            "Vilsel\n",
            "VBKrypt\n",
            "Sality\n",
            "VBA\n",
            "Snarasite\n"
          ],
          "name": "stdout"
        }
      ]
    },
    {
      "cell_type": "code",
      "metadata": {
        "colab": {
          "base_uri": "https://localhost:8080/"
        },
        "id": "Rqe9sbPogiGC",
        "outputId": "671f7187-b553-4221-a227-8d6b76e8fd7b"
      },
      "source": [
        "import os\r\n",
        "\r\n",
        "root_dir = './malevis_train_val_224x224/train'\r\n",
        "malevis_dict = {}\r\n",
        "\r\n",
        "for file in os.listdir(root_dir):\r\n",
        "    num_file = len(os.listdir(os.path.join(root_dir, file)))\r\n",
        "    malevis_dict[file] = num_file\r\n",
        "\r\n",
        "\r\n",
        "print(malevis_dict)"
      ],
      "execution_count": 23,
      "outputs": [
        {
          "output_type": "stream",
          "text": [
            "{'Allaple': 350, 'Autorun': 350, 'Agent': 350, 'Elex': 350, 'Expiro': 350, 'Androm': 350, 'Adposhel': 350, 'Dinwod': 350, 'BrowseFox': 350, 'Amonetize': 350, 'InstallCore': 350, 'MultiPlug': 350, 'Neshta': 350, 'HackKMS': 350, 'Fasong': 350, 'Other': 350, 'Neoreklami': 350, 'Injector': 350, 'Regrun': 350, 'Hlux': 350, 'Stantinko': 350, 'Vilsel': 350, 'VBKrypt': 350, 'Sality': 350, 'VBA': 350, 'Snarasite': 350}\n"
          ],
          "name": "stdout"
        }
      ]
    },
    {
      "cell_type": "code",
      "metadata": {
        "colab": {
          "base_uri": "https://localhost:8080/",
          "height": 100
        },
        "id": "MuXjpd1pjiho",
        "outputId": "e9046894-c0bb-4622-e4b9-033246d68810"
      },
      "source": [
        "df = pd.DataFrame.from_dict(malevis_dict, orient='index', columns=['count'])\r\n",
        "df = df.T\r\n",
        "df.head()"
      ],
      "execution_count": 24,
      "outputs": [
        {
          "output_type": "execute_result",
          "data": {
            "text/html": [
              "<div>\n",
              "<style scoped>\n",
              "    .dataframe tbody tr th:only-of-type {\n",
              "        vertical-align: middle;\n",
              "    }\n",
              "\n",
              "    .dataframe tbody tr th {\n",
              "        vertical-align: top;\n",
              "    }\n",
              "\n",
              "    .dataframe thead th {\n",
              "        text-align: right;\n",
              "    }\n",
              "</style>\n",
              "<table border=\"1\" class=\"dataframe\">\n",
              "  <thead>\n",
              "    <tr style=\"text-align: right;\">\n",
              "      <th></th>\n",
              "      <th>Allaple</th>\n",
              "      <th>Autorun</th>\n",
              "      <th>Agent</th>\n",
              "      <th>Elex</th>\n",
              "      <th>Expiro</th>\n",
              "      <th>Androm</th>\n",
              "      <th>Adposhel</th>\n",
              "      <th>Dinwod</th>\n",
              "      <th>BrowseFox</th>\n",
              "      <th>Amonetize</th>\n",
              "      <th>InstallCore</th>\n",
              "      <th>MultiPlug</th>\n",
              "      <th>Neshta</th>\n",
              "      <th>HackKMS</th>\n",
              "      <th>Fasong</th>\n",
              "      <th>Other</th>\n",
              "      <th>Neoreklami</th>\n",
              "      <th>Injector</th>\n",
              "      <th>Regrun</th>\n",
              "      <th>Hlux</th>\n",
              "      <th>Stantinko</th>\n",
              "      <th>Vilsel</th>\n",
              "      <th>VBKrypt</th>\n",
              "      <th>Sality</th>\n",
              "      <th>VBA</th>\n",
              "      <th>Snarasite</th>\n",
              "    </tr>\n",
              "  </thead>\n",
              "  <tbody>\n",
              "    <tr>\n",
              "      <th>count</th>\n",
              "      <td>350</td>\n",
              "      <td>350</td>\n",
              "      <td>350</td>\n",
              "      <td>350</td>\n",
              "      <td>350</td>\n",
              "      <td>350</td>\n",
              "      <td>350</td>\n",
              "      <td>350</td>\n",
              "      <td>350</td>\n",
              "      <td>350</td>\n",
              "      <td>350</td>\n",
              "      <td>350</td>\n",
              "      <td>350</td>\n",
              "      <td>350</td>\n",
              "      <td>350</td>\n",
              "      <td>350</td>\n",
              "      <td>350</td>\n",
              "      <td>350</td>\n",
              "      <td>350</td>\n",
              "      <td>350</td>\n",
              "      <td>350</td>\n",
              "      <td>350</td>\n",
              "      <td>350</td>\n",
              "      <td>350</td>\n",
              "      <td>350</td>\n",
              "      <td>350</td>\n",
              "    </tr>\n",
              "  </tbody>\n",
              "</table>\n",
              "</div>"
            ],
            "text/plain": [
              "       Allaple  Autorun  Agent  Elex  ...  VBKrypt  Sality  VBA  Snarasite\n",
              "count      350      350    350   350  ...      350     350  350        350\n",
              "\n",
              "[1 rows x 26 columns]"
            ]
          },
          "metadata": {
            "tags": []
          },
          "execution_count": 24
        }
      ]
    },
    {
      "cell_type": "markdown",
      "metadata": {
        "id": "hRVfUYa7rTw3"
      },
      "source": [
        "### EDA\r\n",
        "* 데이터 분포 시각화\r\n",
        "* 일부 데이터 시각"
      ]
    },
    {
      "cell_type": "code",
      "metadata": {
        "colab": {
          "base_uri": "https://localhost:8080/",
          "height": 268
        },
        "id": "AyDZZNWijXK1",
        "outputId": "a336b288-998b-4001-e912-3a5adada7e2c"
      },
      "source": [
        "import seaborn as sns\r\n",
        "\r\n",
        "plt.figure()\r\n",
        "g = sns.countplot(data = df)\r\n",
        "g.set_xticklabels(g.get_xticklabels(), rotation=90)\r\n",
        "plt.subplots_adjust(bottom=0.28)\r\n",
        "plt.savefig('./num_of_samples_r90')\r\n",
        "plt.show()"
      ],
      "execution_count": 25,
      "outputs": [
        {
          "output_type": "display_data",
          "data": {
            "image/png": "[encoded data removed]",
            "text/plain": [
              "<Figure size 432x288 with 1 Axes>"
            ]
          },
          "metadata": {
            "tags": [],
            "needs_background": "light"
          }
        }
      ]
    },
    {
      "cell_type": "code",
      "metadata": {
        "colab": {
          "base_uri": "https://localhost:8080/",
          "height": 124
        },
        "id": "HbIQXmSBrWb5",
        "outputId": "676ee1a1-b125-45d8-90f8-3a6416a3ca02"
      },
      "source": [
        "def imshow(inp, title=None):\r\n",
        "    \"\"\"Imshow for Tensor.\"\"\"\r\n",
        "    inp = inp.numpy().transpose((1, 2, 0))\r\n",
        "    mean = np.array([0.485, 0.456, 0.406])\r\n",
        "    std = np.array([0.229, 0.224, 0.225])\r\n",
        "    inp = std * inp + mean\r\n",
        "    inp = np.clip(inp, 0, 1)\r\n",
        "    plt.subplots_adjust(bottom=0.28)\r\n",
        "    plt.savefig('./visualize_samples.png')\r\n",
        "    plt.imshow(inp)\r\n",
        "    if title is not None:\r\n",
        "        plt.title(title)\r\n",
        "    plt.pause(0.001)  # 갱신이 될 때까지 잠시 기다립니다.\r\n",
        "    plt.savefig('./visualize_samples_.png')\r\n",
        "\r\n",
        "\r\n",
        "# 학습 데이터의 배치를 얻습니다.\r\n",
        "inputs, classes = next(iter(print_loader))\r\n",
        "# print(inputs, classes\r\n",
        "class_name = trainset.classes\r\n",
        "\r\n",
        "# 배치로부터 격자 형태의 이미지를 만듭니다.\r\n",
        "out = torchvision.utils.make_grid(inputs)\r\n",
        "\r\n",
        "imshow(out, title=[class_name[x] for x in classes])"
      ],
      "execution_count": 26,
      "outputs": [
        {
          "output_type": "display_data",
          "data": {
            "image/png": "[encoded data removed]",
            "text/plain": [
              "<Figure size 432x288 with 1 Axes>"
            ]
          },
          "metadata": {
            "tags": [],
            "needs_background": "light"
          }
        },
        {
          "output_type": "display_data",
          "data": {
            "text/plain": [
              "<Figure size 432x288 with 0 Axes>"
            ]
          },
          "metadata": {
            "tags": []
          }
        }
      ]
    },
    {
      "cell_type": "code",
      "metadata": {
        "colab": {
          "base_uri": "https://localhost:8080/"
        },
        "id": "hryTUnSusmc_",
        "outputId": "b26dc70a-d14e-4d9c-8aab-5200445fe3fd"
      },
      "source": [
        "len([ 3, 17,  0,  5, 22, 15,  2,  9,  6,  9, 18, 11,  0,  6, 21,  6])"
      ],
      "execution_count": 27,
      "outputs": [
        {
          "output_type": "execute_result",
          "data": {
            "text/plain": [
              "16"
            ]
          },
          "metadata": {
            "tags": []
          },
          "execution_count": 27
        }
      ]
    },
    {
      "cell_type": "markdown",
      "metadata": {
        "id": "PtI76P3fWRO2"
      },
      "source": [
        "# 03. Model Architecture"
      ]
    },
    {
      "cell_type": "markdown",
      "metadata": {
        "id": "8WyMsi5URKxf"
      },
      "source": [
        "* pre-trained ResNet-152\r\n",
        "* Transfer Learning\r\n",
        "* Fine-Tunning"
      ]
    },
    {
      "cell_type": "markdown",
      "metadata": {
        "id": "2F9BoeT52Zhr"
      },
      "source": [
        "## 합성곱 신경망 미세조정(fine-tunning)\r\n",
        "* 미리 학습한 모델을 불러온 후 마지막의 완전 연결계층을 초기화한다\r\n",
        "* Reference: https://tutorials.pytorch.kr/beginner/transfer_learning_tutorial.html"
      ]
    },
    {
      "cell_type": "code",
      "metadata": {
        "id": "HX-NRNrtWTzT"
      },
      "source": [
        "# Reference: https://www.programcreek.com/python/example/108010/torchvision.models.resnet152\r\n",
        "\r\n",
        "def get_pretrained_resnet(new_fc_dim=None):\r\n",
        "    \"\"\"\r\n",
        "    Fetches a pretrained resnet model (downloading if necessary) and chops off the top linear\r\n",
        "    layer. If new_fc_dim isn't None, then a new linear layer is added.\r\n",
        "    :param new_fc_dim: \r\n",
        "    :return: \r\n",
        "    \"\"\"\r\n",
        "\r\n",
        "    resnet152 = models.resnet152(pretrained=True)\r\n",
        "    # del resnet152.fc\r\n",
        "\r\n",
        "    # num_ftrs\r\n",
        "    # Reference: https://tutorials.pytorch.kr/beginner/transfer_learning_tutorial.html\r\n",
        "    num_ftrs = resnet152.fc.in_features  \r\n",
        "                                         # in_feature is the number of inputs for your linear layer:\r\n",
        "                                         # https://discuss.pytorch.org/t/what-does-the-fc-in-feature-mean/4889\r\n",
        "    print('print_num_ftrs: ', num_ftrs)\r\n",
        "\r\n",
        "    if new_fc_dim is not None:  # 마지막 계층의 유닛 개수를 변경해준다.\r\n",
        "                                # For Classification\r\n",
        "        # resnet152.fc = nn.Linear(ENCODING_SIZE, new_fc_dim)\r\n",
        "        \r\n",
        "        resnet152.fc = nn.Linear(num_ftrs, new_fc_dim)\r\n",
        "\r\n",
        "        # _init_fc(resnet152.fc)\r\n",
        "    else:\r\n",
        "        pass\r\n",
        "        # resnet152.fc = lambda x:x\r\n",
        "\r\n",
        "    return resnet152"
      ],
      "execution_count": 28,
      "outputs": []
    },
    {
      "cell_type": "code",
      "metadata": {
        "colab": {
          "base_uri": "https://localhost:8080/",
          "height": 1000,
          "referenced_widgets": [
            "989c9bb72b7a422e8290947e42d00503",
            "4525ea1da52e4839b89a5d2cc0400f83",
            "452e252b4cb443e697d47c3b7b55022f",
            "7723f96870c44636b842f8dbb1b95de1",
            "4ef1f5593bb940d2ae13ff82ee920fef",
            "4e5b94791007401dafc0251fdf529bbc",
            "ec2adbf791be4aa89602693111cc05a5",
            "d53b9320d27b4c9a8e43188c2c94ff96"
          ]
        },
        "id": "Zks3NjfNR-8p",
        "outputId": "b5929512-2098-4b41-872f-e3122e67cde8"
      },
      "source": [
        "resnet152 = get_pretrained_resnet(26)  # load pre-trained ResNet152\r\n",
        "resnet152"
      ],
      "execution_count": 29,
      "outputs": [
        {
          "output_type": "stream",
          "text": [
            "Downloading: \"https://download.pytorch.org/models/resnet152-b121ed2d.pth\" to /root/.cache/torch/hub/checkpoints/resnet152-b121ed2d.pth\n"
          ],
          "name": "stderr"
        },
        {
          "output_type": "display_data",
          "data": {
            "application/vnd.jupyter.widget-view+json": {
              "model_id": "989c9bb72b7a422e8290947e42d00503",
              "version_minor": 0,
              "version_major": 2
            },
            "text/plain": [
              "HBox(children=(FloatProgress(value=0.0, max=241530880.0), HTML(value='')))"
            ]
          },
          "metadata": {
            "tags": []
          }
        },
        {
          "output_type": "stream",
          "text": [
            "\n",
            "print_num_ftrs:  2048\n"
          ],
          "name": "stdout"
        },
        {
          "output_type": "execute_result",
          "data": {
            "text/plain": [
              "ResNet(\n",
              "  (conv1): Conv2d(3, 64, kernel_size=(7, 7), stride=(2, 2), padding=(3, 3), bias=False)\n",
              "  (bn1): BatchNorm2d(64, eps=1e-05, momentum=0.1, affine=True, track_running_stats=True)\n",
              "  (relu): ReLU(inplace=True)\n",
              "  (maxpool): MaxPool2d(kernel_size=3, stride=2, padding=1, dilation=1, ceil_mode=False)\n",
              "  (layer1): Sequential(\n",
              "    (0): Bottleneck(\n",
              "      (conv1): Conv2d(64, 64, kernel_size=(1, 1), stride=(1, 1), bias=False)\n",
              "      (bn1): BatchNorm2d(64, eps=1e-05, momentum=0.1, affine=True, track_running_stats=True)\n",
              "      (conv2): Conv2d(64, 64, kernel_size=(3, 3), stride=(1, 1), padding=(1, 1), bias=False)\n",
              "      (bn2): BatchNorm2d(64, eps=1e-05, momentum=0.1, affine=True, track_running_stats=True)\n",
              "      (conv3): Conv2d(64, 256, kernel_size=(1, 1), stride=(1, 1), bias=False)\n",
              "      (bn3): BatchNorm2d(256, eps=1e-05, momentum=0.1, affine=True, track_running_stats=True)\n",
              "      (relu): ReLU(inplace=True)\n",
              "      (downsample): Sequential(\n",
              "        (0): Conv2d(64, 256, kernel_size=(1, 1), stride=(1, 1), bias=False)\n",
              "        (1): BatchNorm2d(256, eps=1e-05, momentum=0.1, affine=True, track_running_stats=True)\n",
              "      )\n",
              "    )\n",
              "    (1): Bottleneck(\n",
              "      (conv1): Conv2d(256, 64, kernel_size=(1, 1), stride=(1, 1), bias=False)\n",
              "      (bn1): BatchNorm2d(64, eps=1e-05, momentum=0.1, affine=True, track_running_stats=True)\n",
              "      (conv2): Conv2d(64, 64, kernel_size=(3, 3), stride=(1, 1), padding=(1, 1), bias=False)\n",
              "      (bn2): BatchNorm2d(64, eps=1e-05, momentum=0.1, affine=True, track_running_stats=True)\n",
              "      (conv3): Conv2d(64, 256, kernel_size=(1, 1), stride=(1, 1), bias=False)\n",
              "      (bn3): BatchNorm2d(256, eps=1e-05, momentum=0.1, affine=True, track_running_stats=True)\n",
              "      (relu): ReLU(inplace=True)\n",
              "    )\n",
              "    (2): Bottleneck(\n",
              "      (conv1): Conv2d(256, 64, kernel_size=(1, 1), stride=(1, 1), bias=False)\n",
              "      (bn1): BatchNorm2d(64, eps=1e-05, momentum=0.1, affine=True, track_running_stats=True)\n",
              "      (conv2): Conv2d(64, 64, kernel_size=(3, 3), stride=(1, 1), padding=(1, 1), bias=False)\n",
              "      (bn2): BatchNorm2d(64, eps=1e-05, momentum=0.1, affine=True, track_running_stats=True)\n",
              "      (conv3): Conv2d(64, 256, kernel_size=(1, 1), stride=(1, 1), bias=False)\n",
              "      (bn3): BatchNorm2d(256, eps=1e-05, momentum=0.1, affine=True, track_running_stats=True)\n",
              "      (relu): ReLU(inplace=True)\n",
              "    )\n",
              "  )\n",
              "  (layer2): Sequential(\n",
              "    (0): Bottleneck(\n",
              "      (conv1): Conv2d(256, 128, kernel_size=(1, 1), stride=(1, 1), bias=False)\n",
              "      (bn1): BatchNorm2d(128, eps=1e-05, momentum=0.1, affine=True, track_running_stats=True)\n",
              "      (conv2): Conv2d(128, 128, kernel_size=(3, 3), stride=(2, 2), padding=(1, 1), bias=False)\n",
              "      (bn2): BatchNorm2d(128, eps=1e-05, momentum=0.1, affine=True, track_running_stats=True)\n",
              "      (conv3): Conv2d(128, 512, kernel_size=(1, 1), stride=(1, 1), bias=False)\n",
              "      (bn3): BatchNorm2d(512, eps=1e-05, momentum=0.1, affine=True, track_running_stats=True)\n",
              "      (relu): ReLU(inplace=True)\n",
              "      (downsample): Sequential(\n",
              "        (0): Conv2d(256, 512, kernel_size=(1, 1), stride=(2, 2), bias=False)\n",
              "        (1): BatchNorm2d(512, eps=1e-05, momentum=0.1, affine=True, track_running_stats=True)\n",
              "      )\n",
              "    )\n",
              "    (1): Bottleneck(\n",
              "      (conv1): Conv2d(512, 128, kernel_size=(1, 1), stride=(1, 1), bias=False)\n",
              "      (bn1): BatchNorm2d(128, eps=1e-05, momentum=0.1, affine=True, track_running_stats=True)\n",
              "      (conv2): Conv2d(128, 128, kernel_size=(3, 3), stride=(1, 1), padding=(1, 1), bias=False)\n",
              "      (bn2): BatchNorm2d(128, eps=1e-05, momentum=0.1, affine=True, track_running_stats=True)\n",
              "      (conv3): Conv2d(128, 512, kernel_size=(1, 1), stride=(1, 1), bias=False)\n",
              "      (bn3): BatchNorm2d(512, eps=1e-05, momentum=0.1, affine=True, track_running_stats=True)\n",
              "      (relu): ReLU(inplace=True)\n",
              "    )\n",
              "    (2): Bottleneck(\n",
              "      (conv1): Conv2d(512, 128, kernel_size=(1, 1), stride=(1, 1), bias=False)\n",
              "      (bn1): BatchNorm2d(128, eps=1e-05, momentum=0.1, affine=True, track_running_stats=True)\n",
              "      (conv2): Conv2d(128, 128, kernel_size=(3, 3), stride=(1, 1), padding=(1, 1), bias=False)\n",
              "      (bn2): BatchNorm2d(128, eps=1e-05, momentum=0.1, affine=True, track_running_stats=True)\n",
              "      (conv3): Conv2d(128, 512, kernel_size=(1, 1), stride=(1, 1), bias=False)\n",
              "      (bn3): BatchNorm2d(512, eps=1e-05, momentum=0.1, affine=True, track_running_stats=True)\n",
              "      (relu): ReLU(inplace=True)\n",
              "    )\n",
              "    (3): Bottleneck(\n",
              "      (conv1): Conv2d(512, 128, kernel_size=(1, 1), stride=(1, 1), bias=False)\n",
              "      (bn1): BatchNorm2d(128, eps=1e-05, momentum=0.1, affine=True, track_running_stats=True)\n",
              "      (conv2): Conv2d(128, 128, kernel_size=(3, 3), stride=(1, 1), padding=(1, 1), bias=False)\n",
              "      (bn2): BatchNorm2d(128, eps=1e-05, momentum=0.1, affine=True, track_running_stats=True)\n",
              "      (conv3): Conv2d(128, 512, kernel_size=(1, 1), stride=(1, 1), bias=False)\n",
              "      (bn3): BatchNorm2d(512, eps=1e-05, momentum=0.1, affine=True, track_running_stats=True)\n",
              "      (relu): ReLU(inplace=True)\n",
              "    )\n",
              "    (4): Bottleneck(\n",
              "      (conv1): Conv2d(512, 128, kernel_size=(1, 1), stride=(1, 1), bias=False)\n",
              "      (bn1): BatchNorm2d(128, eps=1e-05, momentum=0.1, affine=True, track_running_stats=True)\n",
              "      (conv2): Conv2d(128, 128, kernel_size=(3, 3), stride=(1, 1), padding=(1, 1), bias=False)\n",
              "      (bn2): BatchNorm2d(128, eps=1e-05, momentum=0.1, affine=True, track_running_stats=True)\n",
              "      (conv3): Conv2d(128, 512, kernel_size=(1, 1), stride=(1, 1), bias=False)\n",
              "      (bn3): BatchNorm2d(512, eps=1e-05, momentum=0.1, affine=True, track_running_stats=True)\n",
              "      (relu): ReLU(inplace=True)\n",
              "    )\n",
              "    (5): Bottleneck(\n",
              "      (conv1): Conv2d(512, 128, kernel_size=(1, 1), stride=(1, 1), bias=False)\n",
              "      (bn1): BatchNorm2d(128, eps=1e-05, momentum=0.1, affine=True, track_running_stats=True)\n",
              "      (conv2): Conv2d(128, 128, kernel_size=(3, 3), stride=(1, 1), padding=(1, 1), bias=False)\n",
              "      (bn2): BatchNorm2d(128, eps=1e-05, momentum=0.1, affine=True, track_running_stats=True)\n",
              "      (conv3): Conv2d(128, 512, kernel_size=(1, 1), stride=(1, 1), bias=False)\n",
              "      (bn3): BatchNorm2d(512, eps=1e-05, momentum=0.1, affine=True, track_running_stats=True)\n",
              "      (relu): ReLU(inplace=True)\n",
              "    )\n",
              "    (6): Bottleneck(\n",
              "      (conv1): Conv2d(512, 128, kernel_size=(1, 1), stride=(1, 1), bias=False)\n",
              "      (bn1): BatchNorm2d(128, eps=1e-05, momentum=0.1, affine=True, track_running_stats=True)\n",
              "      (conv2): Conv2d(128, 128, kernel_size=(3, 3), stride=(1, 1), padding=(1, 1), bias=False)\n",
              "      (bn2): BatchNorm2d(128, eps=1e-05, momentum=0.1, affine=True, track_running_stats=True)\n",
              "      (conv3): Conv2d(128, 512, kernel_size=(1, 1), stride=(1, 1), bias=False)\n",
              "      (bn3): BatchNorm2d(512, eps=1e-05, momentum=0.1, affine=True, track_running_stats=True)\n",
              "      (relu): ReLU(inplace=True)\n",
              "    )\n",
              "    (7): Bottleneck(\n",
              "      (conv1): Conv2d(512, 128, kernel_size=(1, 1), stride=(1, 1), bias=False)\n",
              "      (bn1): BatchNorm2d(128, eps=1e-05, momentum=0.1, affine=True, track_running_stats=True)\n",
              "      (conv2): Conv2d(128, 128, kernel_size=(3, 3), stride=(1, 1), padding=(1, 1), bias=False)\n",
              "      (bn2): BatchNorm2d(128, eps=1e-05, momentum=0.1, affine=True, track_running_stats=True)\n",
              "      (conv3): Conv2d(128, 512, kernel_size=(1, 1), stride=(1, 1), bias=False)\n",
              "      (bn3): BatchNorm2d(512, eps=1e-05, momentum=0.1, affine=True, track_running_stats=True)\n",
              "      (relu): ReLU(inplace=True)\n",
              "    )\n",
              "  )\n",
              "  (layer3): Sequential(\n",
              "    (0): Bottleneck(\n",
              "      (conv1): Conv2d(512, 256, kernel_size=(1, 1), stride=(1, 1), bias=False)\n",
              "      (bn1): BatchNorm2d(256, eps=1e-05, momentum=0.1, affine=True, track_running_stats=True)\n",
              "      (conv2): Conv2d(256, 256, kernel_size=(3, 3), stride=(2, 2), padding=(1, 1), bias=False)\n",
              "      (bn2): BatchNorm2d(256, eps=1e-05, momentum=0.1, affine=True, track_running_stats=True)\n",
              "      (conv3): Conv2d(256, 1024, kernel_size=(1, 1), stride=(1, 1), bias=False)\n",
              "      (bn3): BatchNorm2d(1024, eps=1e-05, momentum=0.1, affine=True, track_running_stats=True)\n",
              "      (relu): ReLU(inplace=True)\n",
              "      (downsample): Sequential(\n",
              "        (0): Conv2d(512, 1024, kernel_size=(1, 1), stride=(2, 2), bias=False)\n",
              "        (1): BatchNorm2d(1024, eps=1e-05, momentum=0.1, affine=True, track_running_stats=True)\n",
              "      )\n",
              "    )\n",
              "    (1): Bottleneck(\n",
              "      (conv1): Conv2d(1024, 256, kernel_size=(1, 1), stride=(1, 1), bias=False)\n",
              "      (bn1): BatchNorm2d(256, eps=1e-05, momentum=0.1, affine=True, track_running_stats=True)\n",
              "      (conv2): Conv2d(256, 256, kernel_size=(3, 3), stride=(1, 1), padding=(1, 1), bias=False)\n",
              "      (bn2): BatchNorm2d(256, eps=1e-05, momentum=0.1, affine=True, track_running_stats=True)\n",
              "      (conv3): Conv2d(256, 1024, kernel_size=(1, 1), stride=(1, 1), bias=False)\n",
              "      (bn3): BatchNorm2d(1024, eps=1e-05, momentum=0.1, affine=True, track_running_stats=True)\n",
              "      (relu): ReLU(inplace=True)\n",
              "    )\n",
              "    (2): Bottleneck(\n",
              "      (conv1): Conv2d(1024, 256, kernel_size=(1, 1), stride=(1, 1), bias=False)\n",
              "      (bn1): BatchNorm2d(256, eps=1e-05, momentum=0.1, affine=True, track_running_stats=True)\n",
              "      (conv2): Conv2d(256, 256, kernel_size=(3, 3), stride=(1, 1), padding=(1, 1), bias=False)\n",
              "      (bn2): BatchNorm2d(256, eps=1e-05, momentum=0.1, affine=True, track_running_stats=True)\n",
              "      (conv3): Conv2d(256, 1024, kernel_size=(1, 1), stride=(1, 1), bias=False)\n",
              "      (bn3): BatchNorm2d(1024, eps=1e-05, momentum=0.1, affine=True, track_running_stats=True)\n",
              "      (relu): ReLU(inplace=True)\n",
              "    )\n",
              "    (3): Bottleneck(\n",
              "      (conv1): Conv2d(1024, 256, kernel_size=(1, 1), stride=(1, 1), bias=False)\n",
              "      (bn1): BatchNorm2d(256, eps=1e-05, momentum=0.1, affine=True, track_running_stats=True)\n",
              "      (conv2): Conv2d(256, 256, kernel_size=(3, 3), stride=(1, 1), padding=(1, 1), bias=False)\n",
              "      (bn2): BatchNorm2d(256, eps=1e-05, momentum=0.1, affine=True, track_running_stats=True)\n",
              "      (conv3): Conv2d(256, 1024, kernel_size=(1, 1), stride=(1, 1), bias=False)\n",
              "      (bn3): BatchNorm2d(1024, eps=1e-05, momentum=0.1, affine=True, track_running_stats=True)\n",
              "      (relu): ReLU(inplace=True)\n",
              "    )\n",
              "    (4): Bottleneck(\n",
              "      (conv1): Conv2d(1024, 256, kernel_size=(1, 1), stride=(1, 1), bias=False)\n",
              "      (bn1): BatchNorm2d(256, eps=1e-05, momentum=0.1, affine=True, track_running_stats=True)\n",
              "      (conv2): Conv2d(256, 256, kernel_size=(3, 3), stride=(1, 1), padding=(1, 1), bias=False)\n",
              "      (bn2): BatchNorm2d(256, eps=1e-05, momentum=0.1, affine=True, track_running_stats=True)\n",
              "      (conv3): Conv2d(256, 1024, kernel_size=(1, 1), stride=(1, 1), bias=False)\n",
              "      (bn3): BatchNorm2d(1024, eps=1e-05, momentum=0.1, affine=True, track_running_stats=True)\n",
              "      (relu): ReLU(inplace=True)\n",
              "    )\n",
              "    (5): Bottleneck(\n",
              "      (conv1): Conv2d(1024, 256, kernel_size=(1, 1), stride=(1, 1), bias=False)\n",
              "      (bn1): BatchNorm2d(256, eps=1e-05, momentum=0.1, affine=True, track_running_stats=True)\n",
              "      (conv2): Conv2d(256, 256, kernel_size=(3, 3), stride=(1, 1), padding=(1, 1), bias=False)\n",
              "      (bn2): BatchNorm2d(256, eps=1e-05, momentum=0.1, affine=True, track_running_stats=True)\n",
              "      (conv3): Conv2d(256, 1024, kernel_size=(1, 1), stride=(1, 1), bias=False)\n",
              "      (bn3): BatchNorm2d(1024, eps=1e-05, momentum=0.1, affine=True, track_running_stats=True)\n",
              "      (relu): ReLU(inplace=True)\n",
              "    )\n",
              "    (6): Bottleneck(\n",
              "      (conv1): Conv2d(1024, 256, kernel_size=(1, 1), stride=(1, 1), bias=False)\n",
              "      (bn1): BatchNorm2d(256, eps=1e-05, momentum=0.1, affine=True, track_running_stats=True)\n",
              "      (conv2): Conv2d(256, 256, kernel_size=(3, 3), stride=(1, 1), padding=(1, 1), bias=False)\n",
              "      (bn2): BatchNorm2d(256, eps=1e-05, momentum=0.1, affine=True, track_running_stats=True)\n",
              "      (conv3): Conv2d(256, 1024, kernel_size=(1, 1), stride=(1, 1), bias=False)\n",
              "      (bn3): BatchNorm2d(1024, eps=1e-05, momentum=0.1, affine=True, track_running_stats=True)\n",
              "      (relu): ReLU(inplace=True)\n",
              "    )\n",
              "    (7): Bottleneck(\n",
              "      (conv1): Conv2d(1024, 256, kernel_size=(1, 1), stride=(1, 1), bias=False)\n",
              "      (bn1): BatchNorm2d(256, eps=1e-05, momentum=0.1, affine=True, track_running_stats=True)\n",
              "      (conv2): Conv2d(256, 256, kernel_size=(3, 3), stride=(1, 1), padding=(1, 1), bias=False)\n",
              "      (bn2): BatchNorm2d(256, eps=1e-05, momentum=0.1, affine=True, track_running_stats=True)\n",
              "      (conv3): Conv2d(256, 1024, kernel_size=(1, 1), stride=(1, 1), bias=False)\n",
              "      (bn3): BatchNorm2d(1024, eps=1e-05, momentum=0.1, affine=True, track_running_stats=True)\n",
              "      (relu): ReLU(inplace=True)\n",
              "    )\n",
              "    (8): Bottleneck(\n",
              "      (conv1): Conv2d(1024, 256, kernel_size=(1, 1), stride=(1, 1), bias=False)\n",
              "      (bn1): BatchNorm2d(256, eps=1e-05, momentum=0.1, affine=True, track_running_stats=True)\n",
              "      (conv2): Conv2d(256, 256, kernel_size=(3, 3), stride=(1, 1), padding=(1, 1), bias=False)\n",
              "      (bn2): BatchNorm2d(256, eps=1e-05, momentum=0.1, affine=True, track_running_stats=True)\n",
              "      (conv3): Conv2d(256, 1024, kernel_size=(1, 1), stride=(1, 1), bias=False)\n",
              "      (bn3): BatchNorm2d(1024, eps=1e-05, momentum=0.1, affine=True, track_running_stats=True)\n",
              "      (relu): ReLU(inplace=True)\n",
              "    )\n",
              "    (9): Bottleneck(\n",
              "      (conv1): Conv2d(1024, 256, kernel_size=(1, 1), stride=(1, 1), bias=False)\n",
              "      (bn1): BatchNorm2d(256, eps=1e-05, momentum=0.1, affine=True, track_running_stats=True)\n",
              "      (conv2): Conv2d(256, 256, kernel_size=(3, 3), stride=(1, 1), padding=(1, 1), bias=False)\n",
              "      (bn2): BatchNorm2d(256, eps=1e-05, momentum=0.1, affine=True, track_running_stats=True)\n",
              "      (conv3): Conv2d(256, 1024, kernel_size=(1, 1), stride=(1, 1), bias=False)\n",
              "      (bn3): BatchNorm2d(1024, eps=1e-05, momentum=0.1, affine=True, track_running_stats=True)\n",
              "      (relu): ReLU(inplace=True)\n",
              "    )\n",
              "    (10): Bottleneck(\n",
              "      (conv1): Conv2d(1024, 256, kernel_size=(1, 1), stride=(1, 1), bias=False)\n",
              "      (bn1): BatchNorm2d(256, eps=1e-05, momentum=0.1, affine=True, track_running_stats=True)\n",
              "      (conv2): Conv2d(256, 256, kernel_size=(3, 3), stride=(1, 1), padding=(1, 1), bias=False)\n",
              "      (bn2): BatchNorm2d(256, eps=1e-05, momentum=0.1, affine=True, track_running_stats=True)\n",
              "      (conv3): Conv2d(256, 1024, kernel_size=(1, 1), stride=(1, 1), bias=False)\n",
              "      (bn3): BatchNorm2d(1024, eps=1e-05, momentum=0.1, affine=True, track_running_stats=True)\n",
              "      (relu): ReLU(inplace=True)\n",
              "    )\n",
              "    (11): Bottleneck(\n",
              "      (conv1): Conv2d(1024, 256, kernel_size=(1, 1), stride=(1, 1), bias=False)\n",
              "      (bn1): BatchNorm2d(256, eps=1e-05, momentum=0.1, affine=True, track_running_stats=True)\n",
              "      (conv2): Conv2d(256, 256, kernel_size=(3, 3), stride=(1, 1), padding=(1, 1), bias=False)\n",
              "      (bn2): BatchNorm2d(256, eps=1e-05, momentum=0.1, affine=True, track_running_stats=True)\n",
              "      (conv3): Conv2d(256, 1024, kernel_size=(1, 1), stride=(1, 1), bias=False)\n",
              "      (bn3): BatchNorm2d(1024, eps=1e-05, momentum=0.1, affine=True, track_running_stats=True)\n",
              "      (relu): ReLU(inplace=True)\n",
              "    )\n",
              "    (12): Bottleneck(\n",
              "      (conv1): Conv2d(1024, 256, kernel_size=(1, 1), stride=(1, 1), bias=False)\n",
              "      (bn1): BatchNorm2d(256, eps=1e-05, momentum=0.1, affine=True, track_running_stats=True)\n",
              "      (conv2): Conv2d(256, 256, kernel_size=(3, 3), stride=(1, 1), padding=(1, 1), bias=False)\n",
              "      (bn2): BatchNorm2d(256, eps=1e-05, momentum=0.1, affine=True, track_running_stats=True)\n",
              "      (conv3): Conv2d(256, 1024, kernel_size=(1, 1), stride=(1, 1), bias=False)\n",
              "      (bn3): BatchNorm2d(1024, eps=1e-05, momentum=0.1, affine=True, track_running_stats=True)\n",
              "      (relu): ReLU(inplace=True)\n",
              "    )\n",
              "    (13): Bottleneck(\n",
              "      (conv1): Conv2d(1024, 256, kernel_size=(1, 1), stride=(1, 1), bias=False)\n",
              "      (bn1): BatchNorm2d(256, eps=1e-05, momentum=0.1, affine=True, track_running_stats=True)\n",
              "      (conv2): Conv2d(256, 256, kernel_size=(3, 3), stride=(1, 1), padding=(1, 1), bias=False)\n",
              "      (bn2): BatchNorm2d(256, eps=1e-05, momentum=0.1, affine=True, track_running_stats=True)\n",
              "      (conv3): Conv2d(256, 1024, kernel_size=(1, 1), stride=(1, 1), bias=False)\n",
              "      (bn3): BatchNorm2d(1024, eps=1e-05, momentum=0.1, affine=True, track_running_stats=True)\n",
              "      (relu): ReLU(inplace=True)\n",
              "    )\n",
              "    (14): Bottleneck(\n",
              "      (conv1): Conv2d(1024, 256, kernel_size=(1, 1), stride=(1, 1), bias=False)\n",
              "      (bn1): BatchNorm2d(256, eps=1e-05, momentum=0.1, affine=True, track_running_stats=True)\n",
              "      (conv2): Conv2d(256, 256, kernel_size=(3, 3), stride=(1, 1), padding=(1, 1), bias=False)\n",
              "      (bn2): BatchNorm2d(256, eps=1e-05, momentum=0.1, affine=True, track_running_stats=True)\n",
              "      (conv3): Conv2d(256, 1024, kernel_size=(1, 1), stride=(1, 1), bias=False)\n",
              "      (bn3): BatchNorm2d(1024, eps=1e-05, momentum=0.1, affine=True, track_running_stats=True)\n",
              "      (relu): ReLU(inplace=True)\n",
              "    )\n",
              "    (15): Bottleneck(\n",
              "      (conv1): Conv2d(1024, 256, kernel_size=(1, 1), stride=(1, 1), bias=False)\n",
              "      (bn1): BatchNorm2d(256, eps=1e-05, momentum=0.1, affine=True, track_running_stats=True)\n",
              "      (conv2): Conv2d(256, 256, kernel_size=(3, 3), stride=(1, 1), padding=(1, 1), bias=False)\n",
              "      (bn2): BatchNorm2d(256, eps=1e-05, momentum=0.1, affine=True, track_running_stats=True)\n",
              "      (conv3): Conv2d(256, 1024, kernel_size=(1, 1), stride=(1, 1), bias=False)\n",
              "      (bn3): BatchNorm2d(1024, eps=1e-05, momentum=0.1, affine=True, track_running_stats=True)\n",
              "      (relu): ReLU(inplace=True)\n",
              "    )\n",
              "    (16): Bottleneck(\n",
              "      (conv1): Conv2d(1024, 256, kernel_size=(1, 1), stride=(1, 1), bias=False)\n",
              "      (bn1): BatchNorm2d(256, eps=1e-05, momentum=0.1, affine=True, track_running_stats=True)\n",
              "      (conv2): Conv2d(256, 256, kernel_size=(3, 3), stride=(1, 1), padding=(1, 1), bias=False)\n",
              "      (bn2): BatchNorm2d(256, eps=1e-05, momentum=0.1, affine=True, track_running_stats=True)\n",
              "      (conv3): Conv2d(256, 1024, kernel_size=(1, 1), stride=(1, 1), bias=False)\n",
              "      (bn3): BatchNorm2d(1024, eps=1e-05, momentum=0.1, affine=True, track_running_stats=True)\n",
              "      (relu): ReLU(inplace=True)\n",
              "    )\n",
              "    (17): Bottleneck(\n",
              "      (conv1): Conv2d(1024, 256, kernel_size=(1, 1), stride=(1, 1), bias=False)\n",
              "      (bn1): BatchNorm2d(256, eps=1e-05, momentum=0.1, affine=True, track_running_stats=True)\n",
              "      (conv2): Conv2d(256, 256, kernel_size=(3, 3), stride=(1, 1), padding=(1, 1), bias=False)\n",
              "      (bn2): BatchNorm2d(256, eps=1e-05, momentum=0.1, affine=True, track_running_stats=True)\n",
              "      (conv3): Conv2d(256, 1024, kernel_size=(1, 1), stride=(1, 1), bias=False)\n",
              "      (bn3): BatchNorm2d(1024, eps=1e-05, momentum=0.1, affine=True, track_running_stats=True)\n",
              "      (relu): ReLU(inplace=True)\n",
              "    )\n",
              "    (18): Bottleneck(\n",
              "      (conv1): Conv2d(1024, 256, kernel_size=(1, 1), stride=(1, 1), bias=False)\n",
              "      (bn1): BatchNorm2d(256, eps=1e-05, momentum=0.1, affine=True, track_running_stats=True)\n",
              "      (conv2): Conv2d(256, 256, kernel_size=(3, 3), stride=(1, 1), padding=(1, 1), bias=False)\n",
              "      (bn2): BatchNorm2d(256, eps=1e-05, momentum=0.1, affine=True, track_running_stats=True)\n",
              "      (conv3): Conv2d(256, 1024, kernel_size=(1, 1), stride=(1, 1), bias=False)\n",
              "      (bn3): BatchNorm2d(1024, eps=1e-05, momentum=0.1, affine=True, track_running_stats=True)\n",
              "      (relu): ReLU(inplace=True)\n",
              "    )\n",
              "    (19): Bottleneck(\n",
              "      (conv1): Conv2d(1024, 256, kernel_size=(1, 1), stride=(1, 1), bias=False)\n",
              "      (bn1): BatchNorm2d(256, eps=1e-05, momentum=0.1, affine=True, track_running_stats=True)\n",
              "      (conv2): Conv2d(256, 256, kernel_size=(3, 3), stride=(1, 1), padding=(1, 1), bias=False)\n",
              "      (bn2): BatchNorm2d(256, eps=1e-05, momentum=0.1, affine=True, track_running_stats=True)\n",
              "      (conv3): Conv2d(256, 1024, kernel_size=(1, 1), stride=(1, 1), bias=False)\n",
              "      (bn3): BatchNorm2d(1024, eps=1e-05, momentum=0.1, affine=True, track_running_stats=True)\n",
              "      (relu): ReLU(inplace=True)\n",
              "    )\n",
              "    (20): Bottleneck(\n",
              "      (conv1): Conv2d(1024, 256, kernel_size=(1, 1), stride=(1, 1), bias=False)\n",
              "      (bn1): BatchNorm2d(256, eps=1e-05, momentum=0.1, affine=True, track_running_stats=True)\n",
              "      (conv2): Conv2d(256, 256, kernel_size=(3, 3), stride=(1, 1), padding=(1, 1), bias=False)\n",
              "      (bn2): BatchNorm2d(256, eps=1e-05, momentum=0.1, affine=True, track_running_stats=True)\n",
              "      (conv3): Conv2d(256, 1024, kernel_size=(1, 1), stride=(1, 1), bias=False)\n",
              "      (bn3): BatchNorm2d(1024, eps=1e-05, momentum=0.1, affine=True, track_running_stats=True)\n",
              "      (relu): ReLU(inplace=True)\n",
              "    )\n",
              "    (21): Bottleneck(\n",
              "      (conv1): Conv2d(1024, 256, kernel_size=(1, 1), stride=(1, 1), bias=False)\n",
              "      (bn1): BatchNorm2d(256, eps=1e-05, momentum=0.1, affine=True, track_running_stats=True)\n",
              "      (conv2): Conv2d(256, 256, kernel_size=(3, 3), stride=(1, 1), padding=(1, 1), bias=False)\n",
              "      (bn2): BatchNorm2d(256, eps=1e-05, momentum=0.1, affine=True, track_running_stats=True)\n",
              "      (conv3): Conv2d(256, 1024, kernel_size=(1, 1), stride=(1, 1), bias=False)\n",
              "      (bn3): BatchNorm2d(1024, eps=1e-05, momentum=0.1, affine=True, track_running_stats=True)\n",
              "      (relu): ReLU(inplace=True)\n",
              "    )\n",
              "    (22): Bottleneck(\n",
              "      (conv1): Conv2d(1024, 256, kernel_size=(1, 1), stride=(1, 1), bias=False)\n",
              "      (bn1): BatchNorm2d(256, eps=1e-05, momentum=0.1, affine=True, track_running_stats=True)\n",
              "      (conv2): Conv2d(256, 256, kernel_size=(3, 3), stride=(1, 1), padding=(1, 1), bias=False)\n",
              "      (bn2): BatchNorm2d(256, eps=1e-05, momentum=0.1, affine=True, track_running_stats=True)\n",
              "      (conv3): Conv2d(256, 1024, kernel_size=(1, 1), stride=(1, 1), bias=False)\n",
              "      (bn3): BatchNorm2d(1024, eps=1e-05, momentum=0.1, affine=True, track_running_stats=True)\n",
              "      (relu): ReLU(inplace=True)\n",
              "    )\n",
              "    (23): Bottleneck(\n",
              "      (conv1): Conv2d(1024, 256, kernel_size=(1, 1), stride=(1, 1), bias=False)\n",
              "      (bn1): BatchNorm2d(256, eps=1e-05, momentum=0.1, affine=True, track_running_stats=True)\n",
              "      (conv2): Conv2d(256, 256, kernel_size=(3, 3), stride=(1, 1), padding=(1, 1), bias=False)\n",
              "      (bn2): BatchNorm2d(256, eps=1e-05, momentum=0.1, affine=True, track_running_stats=True)\n",
              "      (conv3): Conv2d(256, 1024, kernel_size=(1, 1), stride=(1, 1), bias=False)\n",
              "      (bn3): BatchNorm2d(1024, eps=1e-05, momentum=0.1, affine=True, track_running_stats=True)\n",
              "      (relu): ReLU(inplace=True)\n",
              "    )\n",
              "    (24): Bottleneck(\n",
              "      (conv1): Conv2d(1024, 256, kernel_size=(1, 1), stride=(1, 1), bias=False)\n",
              "      (bn1): BatchNorm2d(256, eps=1e-05, momentum=0.1, affine=True, track_running_stats=True)\n",
              "      (conv2): Conv2d(256, 256, kernel_size=(3, 3), stride=(1, 1), padding=(1, 1), bias=False)\n",
              "      (bn2): BatchNorm2d(256, eps=1e-05, momentum=0.1, affine=True, track_running_stats=True)\n",
              "      (conv3): Conv2d(256, 1024, kernel_size=(1, 1), stride=(1, 1), bias=False)\n",
              "      (bn3): BatchNorm2d(1024, eps=1e-05, momentum=0.1, affine=True, track_running_stats=True)\n",
              "      (relu): ReLU(inplace=True)\n",
              "    )\n",
              "    (25): Bottleneck(\n",
              "      (conv1): Conv2d(1024, 256, kernel_size=(1, 1), stride=(1, 1), bias=False)\n",
              "      (bn1): BatchNorm2d(256, eps=1e-05, momentum=0.1, affine=True, track_running_stats=True)\n",
              "      (conv2): Conv2d(256, 256, kernel_size=(3, 3), stride=(1, 1), padding=(1, 1), bias=False)\n",
              "      (bn2): BatchNorm2d(256, eps=1e-05, momentum=0.1, affine=True, track_running_stats=True)\n",
              "      (conv3): Conv2d(256, 1024, kernel_size=(1, 1), stride=(1, 1), bias=False)\n",
              "      (bn3): BatchNorm2d(1024, eps=1e-05, momentum=0.1, affine=True, track_running_stats=True)\n",
              "      (relu): ReLU(inplace=True)\n",
              "    )\n",
              "    (26): Bottleneck(\n",
              "      (conv1): Conv2d(1024, 256, kernel_size=(1, 1), stride=(1, 1), bias=False)\n",
              "      (bn1): BatchNorm2d(256, eps=1e-05, momentum=0.1, affine=True, track_running_stats=True)\n",
              "      (conv2): Conv2d(256, 256, kernel_size=(3, 3), stride=(1, 1), padding=(1, 1), bias=False)\n",
              "      (bn2): BatchNorm2d(256, eps=1e-05, momentum=0.1, affine=True, track_running_stats=True)\n",
              "      (conv3): Conv2d(256, 1024, kernel_size=(1, 1), stride=(1, 1), bias=False)\n",
              "      (bn3): BatchNorm2d(1024, eps=1e-05, momentum=0.1, affine=True, track_running_stats=True)\n",
              "      (relu): ReLU(inplace=True)\n",
              "    )\n",
              "    (27): Bottleneck(\n",
              "      (conv1): Conv2d(1024, 256, kernel_size=(1, 1), stride=(1, 1), bias=False)\n",
              "      (bn1): BatchNorm2d(256, eps=1e-05, momentum=0.1, affine=True, track_running_stats=True)\n",
              "      (conv2): Conv2d(256, 256, kernel_size=(3, 3), stride=(1, 1), padding=(1, 1), bias=False)\n",
              "      (bn2): BatchNorm2d(256, eps=1e-05, momentum=0.1, affine=True, track_running_stats=True)\n",
              "      (conv3): Conv2d(256, 1024, kernel_size=(1, 1), stride=(1, 1), bias=False)\n",
              "      (bn3): BatchNorm2d(1024, eps=1e-05, momentum=0.1, affine=True, track_running_stats=True)\n",
              "      (relu): ReLU(inplace=True)\n",
              "    )\n",
              "    (28): Bottleneck(\n",
              "      (conv1): Conv2d(1024, 256, kernel_size=(1, 1), stride=(1, 1), bias=False)\n",
              "      (bn1): BatchNorm2d(256, eps=1e-05, momentum=0.1, affine=True, track_running_stats=True)\n",
              "      (conv2): Conv2d(256, 256, kernel_size=(3, 3), stride=(1, 1), padding=(1, 1), bias=False)\n",
              "      (bn2): BatchNorm2d(256, eps=1e-05, momentum=0.1, affine=True, track_running_stats=True)\n",
              "      (conv3): Conv2d(256, 1024, kernel_size=(1, 1), stride=(1, 1), bias=False)\n",
              "      (bn3): BatchNorm2d(1024, eps=1e-05, momentum=0.1, affine=True, track_running_stats=True)\n",
              "      (relu): ReLU(inplace=True)\n",
              "    )\n",
              "    (29): Bottleneck(\n",
              "      (conv1): Conv2d(1024, 256, kernel_size=(1, 1), stride=(1, 1), bias=False)\n",
              "      (bn1): BatchNorm2d(256, eps=1e-05, momentum=0.1, affine=True, track_running_stats=True)\n",
              "      (conv2): Conv2d(256, 256, kernel_size=(3, 3), stride=(1, 1), padding=(1, 1), bias=False)\n",
              "      (bn2): BatchNorm2d(256, eps=1e-05, momentum=0.1, affine=True, track_running_stats=True)\n",
              "      (conv3): Conv2d(256, 1024, kernel_size=(1, 1), stride=(1, 1), bias=False)\n",
              "      (bn3): BatchNorm2d(1024, eps=1e-05, momentum=0.1, affine=True, track_running_stats=True)\n",
              "      (relu): ReLU(inplace=True)\n",
              "    )\n",
              "    (30): Bottleneck(\n",
              "      (conv1): Conv2d(1024, 256, kernel_size=(1, 1), stride=(1, 1), bias=False)\n",
              "      (bn1): BatchNorm2d(256, eps=1e-05, momentum=0.1, affine=True, track_running_stats=True)\n",
              "      (conv2): Conv2d(256, 256, kernel_size=(3, 3), stride=(1, 1), padding=(1, 1), bias=False)\n",
              "      (bn2): BatchNorm2d(256, eps=1e-05, momentum=0.1, affine=True, track_running_stats=True)\n",
              "      (conv3): Conv2d(256, 1024, kernel_size=(1, 1), stride=(1, 1), bias=False)\n",
              "      (bn3): BatchNorm2d(1024, eps=1e-05, momentum=0.1, affine=True, track_running_stats=True)\n",
              "      (relu): ReLU(inplace=True)\n",
              "    )\n",
              "    (31): Bottleneck(\n",
              "      (conv1): Conv2d(1024, 256, kernel_size=(1, 1), stride=(1, 1), bias=False)\n",
              "      (bn1): BatchNorm2d(256, eps=1e-05, momentum=0.1, affine=True, track_running_stats=True)\n",
              "      (conv2): Conv2d(256, 256, kernel_size=(3, 3), stride=(1, 1), padding=(1, 1), bias=False)\n",
              "      (bn2): BatchNorm2d(256, eps=1e-05, momentum=0.1, affine=True, track_running_stats=True)\n",
              "      (conv3): Conv2d(256, 1024, kernel_size=(1, 1), stride=(1, 1), bias=False)\n",
              "      (bn3): BatchNorm2d(1024, eps=1e-05, momentum=0.1, affine=True, track_running_stats=True)\n",
              "      (relu): ReLU(inplace=True)\n",
              "    )\n",
              "    (32): Bottleneck(\n",
              "      (conv1): Conv2d(1024, 256, kernel_size=(1, 1), stride=(1, 1), bias=False)\n",
              "      (bn1): BatchNorm2d(256, eps=1e-05, momentum=0.1, affine=True, track_running_stats=True)\n",
              "      (conv2): Conv2d(256, 256, kernel_size=(3, 3), stride=(1, 1), padding=(1, 1), bias=False)\n",
              "      (bn2): BatchNorm2d(256, eps=1e-05, momentum=0.1, affine=True, track_running_stats=True)\n",
              "      (conv3): Conv2d(256, 1024, kernel_size=(1, 1), stride=(1, 1), bias=False)\n",
              "      (bn3): BatchNorm2d(1024, eps=1e-05, momentum=0.1, affine=True, track_running_stats=True)\n",
              "      (relu): ReLU(inplace=True)\n",
              "    )\n",
              "    (33): Bottleneck(\n",
              "      (conv1): Conv2d(1024, 256, kernel_size=(1, 1), stride=(1, 1), bias=False)\n",
              "      (bn1): BatchNorm2d(256, eps=1e-05, momentum=0.1, affine=True, track_running_stats=True)\n",
              "      (conv2): Conv2d(256, 256, kernel_size=(3, 3), stride=(1, 1), padding=(1, 1), bias=False)\n",
              "      (bn2): BatchNorm2d(256, eps=1e-05, momentum=0.1, affine=True, track_running_stats=True)\n",
              "      (conv3): Conv2d(256, 1024, kernel_size=(1, 1), stride=(1, 1), bias=False)\n",
              "      (bn3): BatchNorm2d(1024, eps=1e-05, momentum=0.1, affine=True, track_running_stats=True)\n",
              "      (relu): ReLU(inplace=True)\n",
              "    )\n",
              "    (34): Bottleneck(\n",
              "      (conv1): Conv2d(1024, 256, kernel_size=(1, 1), stride=(1, 1), bias=False)\n",
              "      (bn1): BatchNorm2d(256, eps=1e-05, momentum=0.1, affine=True, track_running_stats=True)\n",
              "      (conv2): Conv2d(256, 256, kernel_size=(3, 3), stride=(1, 1), padding=(1, 1), bias=False)\n",
              "      (bn2): BatchNorm2d(256, eps=1e-05, momentum=0.1, affine=True, track_running_stats=True)\n",
              "      (conv3): Conv2d(256, 1024, kernel_size=(1, 1), stride=(1, 1), bias=False)\n",
              "      (bn3): BatchNorm2d(1024, eps=1e-05, momentum=0.1, affine=True, track_running_stats=True)\n",
              "      (relu): ReLU(inplace=True)\n",
              "    )\n",
              "    (35): Bottleneck(\n",
              "      (conv1): Conv2d(1024, 256, kernel_size=(1, 1), stride=(1, 1), bias=False)\n",
              "      (bn1): BatchNorm2d(256, eps=1e-05, momentum=0.1, affine=True, track_running_stats=True)\n",
              "      (conv2): Conv2d(256, 256, kernel_size=(3, 3), stride=(1, 1), padding=(1, 1), bias=False)\n",
              "      (bn2): BatchNorm2d(256, eps=1e-05, momentum=0.1, affine=True, track_running_stats=True)\n",
              "      (conv3): Conv2d(256, 1024, kernel_size=(1, 1), stride=(1, 1), bias=False)\n",
              "      (bn3): BatchNorm2d(1024, eps=1e-05, momentum=0.1, affine=True, track_running_stats=True)\n",
              "      (relu): ReLU(inplace=True)\n",
              "    )\n",
              "  )\n",
              "  (layer4): Sequential(\n",
              "    (0): Bottleneck(\n",
              "      (conv1): Conv2d(1024, 512, kernel_size=(1, 1), stride=(1, 1), bias=False)\n",
              "      (bn1): BatchNorm2d(512, eps=1e-05, momentum=0.1, affine=True, track_running_stats=True)\n",
              "      (conv2): Conv2d(512, 512, kernel_size=(3, 3), stride=(2, 2), padding=(1, 1), bias=False)\n",
              "      (bn2): BatchNorm2d(512, eps=1e-05, momentum=0.1, affine=True, track_running_stats=True)\n",
              "      (conv3): Conv2d(512, 2048, kernel_size=(1, 1), stride=(1, 1), bias=False)\n",
              "      (bn3): BatchNorm2d(2048, eps=1e-05, momentum=0.1, affine=True, track_running_stats=True)\n",
              "      (relu): ReLU(inplace=True)\n",
              "      (downsample): Sequential(\n",
              "        (0): Conv2d(1024, 2048, kernel_size=(1, 1), stride=(2, 2), bias=False)\n",
              "        (1): BatchNorm2d(2048, eps=1e-05, momentum=0.1, affine=True, track_running_stats=True)\n",
              "      )\n",
              "    )\n",
              "    (1): Bottleneck(\n",
              "      (conv1): Conv2d(2048, 512, kernel_size=(1, 1), stride=(1, 1), bias=False)\n",
              "      (bn1): BatchNorm2d(512, eps=1e-05, momentum=0.1, affine=True, track_running_stats=True)\n",
              "      (conv2): Conv2d(512, 512, kernel_size=(3, 3), stride=(1, 1), padding=(1, 1), bias=False)\n",
              "      (bn2): BatchNorm2d(512, eps=1e-05, momentum=0.1, affine=True, track_running_stats=True)\n",
              "      (conv3): Conv2d(512, 2048, kernel_size=(1, 1), stride=(1, 1), bias=False)\n",
              "      (bn3): BatchNorm2d(2048, eps=1e-05, momentum=0.1, affine=True, track_running_stats=True)\n",
              "      (relu): ReLU(inplace=True)\n",
              "    )\n",
              "    (2): Bottleneck(\n",
              "      (conv1): Conv2d(2048, 512, kernel_size=(1, 1), stride=(1, 1), bias=False)\n",
              "      (bn1): BatchNorm2d(512, eps=1e-05, momentum=0.1, affine=True, track_running_stats=True)\n",
              "      (conv2): Conv2d(512, 512, kernel_size=(3, 3), stride=(1, 1), padding=(1, 1), bias=False)\n",
              "      (bn2): BatchNorm2d(512, eps=1e-05, momentum=0.1, affine=True, track_running_stats=True)\n",
              "      (conv3): Conv2d(512, 2048, kernel_size=(1, 1), stride=(1, 1), bias=False)\n",
              "      (bn3): BatchNorm2d(2048, eps=1e-05, momentum=0.1, affine=True, track_running_stats=True)\n",
              "      (relu): ReLU(inplace=True)\n",
              "    )\n",
              "  )\n",
              "  (avgpool): AdaptiveAvgPool2d(output_size=(1, 1))\n",
              "  (fc): Linear(in_features=2048, out_features=26, bias=True)\n",
              ")"
            ]
          },
          "metadata": {
            "tags": []
          },
          "execution_count": 29
        }
      ]
    },
    {
      "cell_type": "code",
      "metadata": {
        "id": "ZXpbyy2uSE2T"
      },
      "source": [
        "resnet152 = resnet152.to(device=('cuda:0' if torch.cuda.is_available() else 'cpu'))\r\n",
        "\r\n",
        "criterion = nn.CrossEntropyLoss()\r\n",
        "optimizer = optim.Adam(resnet152.parameters(), lr=0.001)"
      ],
      "execution_count": 30,
      "outputs": []
    },
    {
      "cell_type": "markdown",
      "metadata": {
        "id": "UBQsFAur3T8i"
      },
      "source": [
        "### 하이퍼 파라미터 세팅"
      ]
    },
    {
      "cell_type": "code",
      "metadata": {
        "colab": {
          "base_uri": "https://localhost:8080/"
        },
        "id": "Vf94CNKapzyF",
        "outputId": "735285b3-0788-47bc-ed6e-c5e93591011e"
      },
      "source": [
        "import argparse\r\n",
        "\r\n",
        "seed = 123\r\n",
        "np.random.seed(seed)\r\n",
        "torch.manual_seed(seed)\r\n",
        "\r\n",
        "parser = argparse.ArgumentParser()\r\n",
        "args = parser.parse_args(\"\")\r\n",
        "\r\n",
        "args.net = resnet152\r\n",
        "args.criterion = criterion\r\n",
        "args.optim = optimizer\r\n",
        "\r\n",
        "args.train_loader = train_loader\r\n",
        "args.val_loader = val_loader\r\n",
        "args.test_loader = test_loader\r\n",
        "\r\n",
        "args.lr = 0.001\r\n",
        "args.exp_lr_scheduler = lr_scheduler.StepLR(args.optim, step_size=10, gamma=0.1)  # 10 Epoch마다 0.1씩 학습률 감소\r\n",
        "args.mm = 0.9\r\n",
        "args.epoch = 100\r\n",
        "\r\n",
        "print(args)"
      ],
      "execution_count": 31,
      "outputs": [
        {
          "output_type": "stream",
          "text": [
            "Namespace(criterion=CrossEntropyLoss(), epoch=100, exp_lr_scheduler=<torch.optim.lr_scheduler.StepLR object at 0x7f5236ffbdd8>, lr=0.001, mm=0.9, net=ResNet(\n",
            "  (conv1): Conv2d(3, 64, kernel_size=(7, 7), stride=(2, 2), padding=(3, 3), bias=False)\n",
            "  (bn1): BatchNorm2d(64, eps=1e-05, momentum=0.1, affine=True, track_running_stats=True)\n",
            "  (relu): ReLU(inplace=True)\n",
            "  (maxpool): MaxPool2d(kernel_size=3, stride=2, padding=1, dilation=1, ceil_mode=False)\n",
            "  (layer1): Sequential(\n",
            "    (0): Bottleneck(\n",
            "      (conv1): Conv2d(64, 64, kernel_size=(1, 1), stride=(1, 1), bias=False)\n",
            "      (bn1): BatchNorm2d(64, eps=1e-05, momentum=0.1, affine=True, track_running_stats=True)\n",
            "      (conv2): Conv2d(64, 64, kernel_size=(3, 3), stride=(1, 1), padding=(1, 1), bias=False)\n",
            "      (bn2): BatchNorm2d(64, eps=1e-05, momentum=0.1, affine=True, track_running_stats=True)\n",
            "      (conv3): Conv2d(64, 256, kernel_size=(1, 1), stride=(1, 1), bias=False)\n",
            "      (bn3): BatchNorm2d(256, eps=1e-05, momentum=0.1, affine=True, track_running_stats=True)\n",
            "      (relu): ReLU(inplace=True)\n",
            "      (downsample): Sequential(\n",
            "        (0): Conv2d(64, 256, kernel_size=(1, 1), stride=(1, 1), bias=False)\n",
            "        (1): BatchNorm2d(256, eps=1e-05, momentum=0.1, affine=True, track_running_stats=True)\n",
            "      )\n",
            "    )\n",
            "    (1): Bottleneck(\n",
            "      (conv1): Conv2d(256, 64, kernel_size=(1, 1), stride=(1, 1), bias=False)\n",
            "      (bn1): BatchNorm2d(64, eps=1e-05, momentum=0.1, affine=True, track_running_stats=True)\n",
            "      (conv2): Conv2d(64, 64, kernel_size=(3, 3), stride=(1, 1), padding=(1, 1), bias=False)\n",
            "      (bn2): BatchNorm2d(64, eps=1e-05, momentum=0.1, affine=True, track_running_stats=True)\n",
            "      (conv3): Conv2d(64, 256, kernel_size=(1, 1), stride=(1, 1), bias=False)\n",
            "      (bn3): BatchNorm2d(256, eps=1e-05, momentum=0.1, affine=True, track_running_stats=True)\n",
            "      (relu): ReLU(inplace=True)\n",
            "    )\n",
            "    (2): Bottleneck(\n",
            "      (conv1): Conv2d(256, 64, kernel_size=(1, 1), stride=(1, 1), bias=False)\n",
            "      (bn1): BatchNorm2d(64, eps=1e-05, momentum=0.1, affine=True, track_running_stats=True)\n",
            "      (conv2): Conv2d(64, 64, kernel_size=(3, 3), stride=(1, 1), padding=(1, 1), bias=False)\n",
            "      (bn2): BatchNorm2d(64, eps=1e-05, momentum=0.1, affine=True, track_running_stats=True)\n",
            "      (conv3): Conv2d(64, 256, kernel_size=(1, 1), stride=(1, 1), bias=False)\n",
            "      (bn3): BatchNorm2d(256, eps=1e-05, momentum=0.1, affine=True, track_running_stats=True)\n",
            "      (relu): ReLU(inplace=True)\n",
            "    )\n",
            "  )\n",
            "  (layer2): Sequential(\n",
            "    (0): Bottleneck(\n",
            "      (conv1): Conv2d(256, 128, kernel_size=(1, 1), stride=(1, 1), bias=False)\n",
            "      (bn1): BatchNorm2d(128, eps=1e-05, momentum=0.1, affine=True, track_running_stats=True)\n",
            "      (conv2): Conv2d(128, 128, kernel_size=(3, 3), stride=(2, 2), padding=(1, 1), bias=False)\n",
            "      (bn2): BatchNorm2d(128, eps=1e-05, momentum=0.1, affine=True, track_running_stats=True)\n",
            "      (conv3): Conv2d(128, 512, kernel_size=(1, 1), stride=(1, 1), bias=False)\n",
            "      (bn3): BatchNorm2d(512, eps=1e-05, momentum=0.1, affine=True, track_running_stats=True)\n",
            "      (relu): ReLU(inplace=True)\n",
            "      (downsample): Sequential(\n",
            "        (0): Conv2d(256, 512, kernel_size=(1, 1), stride=(2, 2), bias=False)\n",
            "        (1): BatchNorm2d(512, eps=1e-05, momentum=0.1, affine=True, track_running_stats=True)\n",
            "      )\n",
            "    )\n",
            "    (1): Bottleneck(\n",
            "      (conv1): Conv2d(512, 128, kernel_size=(1, 1), stride=(1, 1), bias=False)\n",
            "      (bn1): BatchNorm2d(128, eps=1e-05, momentum=0.1, affine=True, track_running_stats=True)\n",
            "      (conv2): Conv2d(128, 128, kernel_size=(3, 3), stride=(1, 1), padding=(1, 1), bias=False)\n",
            "      (bn2): BatchNorm2d(128, eps=1e-05, momentum=0.1, affine=True, track_running_stats=True)\n",
            "      (conv3): Conv2d(128, 512, kernel_size=(1, 1), stride=(1, 1), bias=False)\n",
            "      (bn3): BatchNorm2d(512, eps=1e-05, momentum=0.1, affine=True, track_running_stats=True)\n",
            "      (relu): ReLU(inplace=True)\n",
            "    )\n",
            "    (2): Bottleneck(\n",
            "      (conv1): Conv2d(512, 128, kernel_size=(1, 1), stride=(1, 1), bias=False)\n",
            "      (bn1): BatchNorm2d(128, eps=1e-05, momentum=0.1, affine=True, track_running_stats=True)\n",
            "      (conv2): Conv2d(128, 128, kernel_size=(3, 3), stride=(1, 1), padding=(1, 1), bias=False)\n",
            "      (bn2): BatchNorm2d(128, eps=1e-05, momentum=0.1, affine=True, track_running_stats=True)\n",
            "      (conv3): Conv2d(128, 512, kernel_size=(1, 1), stride=(1, 1), bias=False)\n",
            "      (bn3): BatchNorm2d(512, eps=1e-05, momentum=0.1, affine=True, track_running_stats=True)\n",
            "      (relu): ReLU(inplace=True)\n",
            "    )\n",
            "    (3): Bottleneck(\n",
            "      (conv1): Conv2d(512, 128, kernel_size=(1, 1), stride=(1, 1), bias=False)\n",
            "      (bn1): BatchNorm2d(128, eps=1e-05, momentum=0.1, affine=True, track_running_stats=True)\n",
            "      (conv2): Conv2d(128, 128, kernel_size=(3, 3), stride=(1, 1), padding=(1, 1), bias=False)\n",
            "      (bn2): BatchNorm2d(128, eps=1e-05, momentum=0.1, affine=True, track_running_stats=True)\n",
            "      (conv3): Conv2d(128, 512, kernel_size=(1, 1), stride=(1, 1), bias=False)\n",
            "      (bn3): BatchNorm2d(512, eps=1e-05, momentum=0.1, affine=True, track_running_stats=True)\n",
            "      (relu): ReLU(inplace=True)\n",
            "    )\n",
            "    (4): Bottleneck(\n",
            "      (conv1): Conv2d(512, 128, kernel_size=(1, 1), stride=(1, 1), bias=False)\n",
            "      (bn1): BatchNorm2d(128, eps=1e-05, momentum=0.1, affine=True, track_running_stats=True)\n",
            "      (conv2): Conv2d(128, 128, kernel_size=(3, 3), stride=(1, 1), padding=(1, 1), bias=False)\n",
            "      (bn2): BatchNorm2d(128, eps=1e-05, momentum=0.1, affine=True, track_running_stats=True)\n",
            "      (conv3): Conv2d(128, 512, kernel_size=(1, 1), stride=(1, 1), bias=False)\n",
            "      (bn3): BatchNorm2d(512, eps=1e-05, momentum=0.1, affine=True, track_running_stats=True)\n",
            "      (relu): ReLU(inplace=True)\n",
            "    )\n",
            "    (5): Bottleneck(\n",
            "      (conv1): Conv2d(512, 128, kernel_size=(1, 1), stride=(1, 1), bias=False)\n",
            "      (bn1): BatchNorm2d(128, eps=1e-05, momentum=0.1, affine=True, track_running_stats=True)\n",
            "      (conv2): Conv2d(128, 128, kernel_size=(3, 3), stride=(1, 1), padding=(1, 1), bias=False)\n",
            "      (bn2): BatchNorm2d(128, eps=1e-05, momentum=0.1, affine=True, track_running_stats=True)\n",
            "      (conv3): Conv2d(128, 512, kernel_size=(1, 1), stride=(1, 1), bias=False)\n",
            "      (bn3): BatchNorm2d(512, eps=1e-05, momentum=0.1, affine=True, track_running_stats=True)\n",
            "      (relu): ReLU(inplace=True)\n",
            "    )\n",
            "    (6): Bottleneck(\n",
            "      (conv1): Conv2d(512, 128, kernel_size=(1, 1), stride=(1, 1), bias=False)\n",
            "      (bn1): BatchNorm2d(128, eps=1e-05, momentum=0.1, affine=True, track_running_stats=True)\n",
            "      (conv2): Conv2d(128, 128, kernel_size=(3, 3), stride=(1, 1), padding=(1, 1), bias=False)\n",
            "      (bn2): BatchNorm2d(128, eps=1e-05, momentum=0.1, affine=True, track_running_stats=True)\n",
            "      (conv3): Conv2d(128, 512, kernel_size=(1, 1), stride=(1, 1), bias=False)\n",
            "      (bn3): BatchNorm2d(512, eps=1e-05, momentum=0.1, affine=True, track_running_stats=True)\n",
            "      (relu): ReLU(inplace=True)\n",
            "    )\n",
            "    (7): Bottleneck(\n",
            "      (conv1): Conv2d(512, 128, kernel_size=(1, 1), stride=(1, 1), bias=False)\n",
            "      (bn1): BatchNorm2d(128, eps=1e-05, momentum=0.1, affine=True, track_running_stats=True)\n",
            "      (conv2): Conv2d(128, 128, kernel_size=(3, 3), stride=(1, 1), padding=(1, 1), bias=False)\n",
            "      (bn2): BatchNorm2d(128, eps=1e-05, momentum=0.1, affine=True, track_running_stats=True)\n",
            "      (conv3): Conv2d(128, 512, kernel_size=(1, 1), stride=(1, 1), bias=False)\n",
            "      (bn3): BatchNorm2d(512, eps=1e-05, momentum=0.1, affine=True, track_running_stats=True)\n",
            "      (relu): ReLU(inplace=True)\n",
            "    )\n",
            "  )\n",
            "  (layer3): Sequential(\n",
            "    (0): Bottleneck(\n",
            "      (conv1): Conv2d(512, 256, kernel_size=(1, 1), stride=(1, 1), bias=False)\n",
            "      (bn1): BatchNorm2d(256, eps=1e-05, momentum=0.1, affine=True, track_running_stats=True)\n",
            "      (conv2): Conv2d(256, 256, kernel_size=(3, 3), stride=(2, 2), padding=(1, 1), bias=False)\n",
            "      (bn2): BatchNorm2d(256, eps=1e-05, momentum=0.1, affine=True, track_running_stats=True)\n",
            "      (conv3): Conv2d(256, 1024, kernel_size=(1, 1), stride=(1, 1), bias=False)\n",
            "      (bn3): BatchNorm2d(1024, eps=1e-05, momentum=0.1, affine=True, track_running_stats=True)\n",
            "      (relu): ReLU(inplace=True)\n",
            "      (downsample): Sequential(\n",
            "        (0): Conv2d(512, 1024, kernel_size=(1, 1), stride=(2, 2), bias=False)\n",
            "        (1): BatchNorm2d(1024, eps=1e-05, momentum=0.1, affine=True, track_running_stats=True)\n",
            "      )\n",
            "    )\n",
            "    (1): Bottleneck(\n",
            "      (conv1): Conv2d(1024, 256, kernel_size=(1, 1), stride=(1, 1), bias=False)\n",
            "      (bn1): BatchNorm2d(256, eps=1e-05, momentum=0.1, affine=True, track_running_stats=True)\n",
            "      (conv2): Conv2d(256, 256, kernel_size=(3, 3), stride=(1, 1), padding=(1, 1), bias=False)\n",
            "      (bn2): BatchNorm2d(256, eps=1e-05, momentum=0.1, affine=True, track_running_stats=True)\n",
            "      (conv3): Conv2d(256, 1024, kernel_size=(1, 1), stride=(1, 1), bias=False)\n",
            "      (bn3): BatchNorm2d(1024, eps=1e-05, momentum=0.1, affine=True, track_running_stats=True)\n",
            "      (relu): ReLU(inplace=True)\n",
            "    )\n",
            "    (2): Bottleneck(\n",
            "      (conv1): Conv2d(1024, 256, kernel_size=(1, 1), stride=(1, 1), bias=False)\n",
            "      (bn1): BatchNorm2d(256, eps=1e-05, momentum=0.1, affine=True, track_running_stats=True)\n",
            "      (conv2): Conv2d(256, 256, kernel_size=(3, 3), stride=(1, 1), padding=(1, 1), bias=False)\n",
            "      (bn2): BatchNorm2d(256, eps=1e-05, momentum=0.1, affine=True, track_running_stats=True)\n",
            "      (conv3): Conv2d(256, 1024, kernel_size=(1, 1), stride=(1, 1), bias=False)\n",
            "      (bn3): BatchNorm2d(1024, eps=1e-05, momentum=0.1, affine=True, track_running_stats=True)\n",
            "      (relu): ReLU(inplace=True)\n",
            "    )\n",
            "    (3): Bottleneck(\n",
            "      (conv1): Conv2d(1024, 256, kernel_size=(1, 1), stride=(1, 1), bias=False)\n",
            "      (bn1): BatchNorm2d(256, eps=1e-05, momentum=0.1, affine=True, track_running_stats=True)\n",
            "      (conv2): Conv2d(256, 256, kernel_size=(3, 3), stride=(1, 1), padding=(1, 1), bias=False)\n",
            "      (bn2): BatchNorm2d(256, eps=1e-05, momentum=0.1, affine=True, track_running_stats=True)\n",
            "      (conv3): Conv2d(256, 1024, kernel_size=(1, 1), stride=(1, 1), bias=False)\n",
            "      (bn3): BatchNorm2d(1024, eps=1e-05, momentum=0.1, affine=True, track_running_stats=True)\n",
            "      (relu): ReLU(inplace=True)\n",
            "    )\n",
            "    (4): Bottleneck(\n",
            "      (conv1): Conv2d(1024, 256, kernel_size=(1, 1), stride=(1, 1), bias=False)\n",
            "      (bn1): BatchNorm2d(256, eps=1e-05, momentum=0.1, affine=True, track_running_stats=True)\n",
            "      (conv2): Conv2d(256, 256, kernel_size=(3, 3), stride=(1, 1), padding=(1, 1), bias=False)\n",
            "      (bn2): BatchNorm2d(256, eps=1e-05, momentum=0.1, affine=True, track_running_stats=True)\n",
            "      (conv3): Conv2d(256, 1024, kernel_size=(1, 1), stride=(1, 1), bias=False)\n",
            "      (bn3): BatchNorm2d(1024, eps=1e-05, momentum=0.1, affine=True, track_running_stats=True)\n",
            "      (relu): ReLU(inplace=True)\n",
            "    )\n",
            "    (5): Bottleneck(\n",
            "      (conv1): Conv2d(1024, 256, kernel_size=(1, 1), stride=(1, 1), bias=False)\n",
            "      (bn1): BatchNorm2d(256, eps=1e-05, momentum=0.1, affine=True, track_running_stats=True)\n",
            "      (conv2): Conv2d(256, 256, kernel_size=(3, 3), stride=(1, 1), padding=(1, 1), bias=False)\n",
            "      (bn2): BatchNorm2d(256, eps=1e-05, momentum=0.1, affine=True, track_running_stats=True)\n",
            "      (conv3): Conv2d(256, 1024, kernel_size=(1, 1), stride=(1, 1), bias=False)\n",
            "      (bn3): BatchNorm2d(1024, eps=1e-05, momentum=0.1, affine=True, track_running_stats=True)\n",
            "      (relu): ReLU(inplace=True)\n",
            "    )\n",
            "    (6): Bottleneck(\n",
            "      (conv1): Conv2d(1024, 256, kernel_size=(1, 1), stride=(1, 1), bias=False)\n",
            "      (bn1): BatchNorm2d(256, eps=1e-05, momentum=0.1, affine=True, track_running_stats=True)\n",
            "      (conv2): Conv2d(256, 256, kernel_size=(3, 3), stride=(1, 1), padding=(1, 1), bias=False)\n",
            "      (bn2): BatchNorm2d(256, eps=1e-05, momentum=0.1, affine=True, track_running_stats=True)\n",
            "      (conv3): Conv2d(256, 1024, kernel_size=(1, 1), stride=(1, 1), bias=False)\n",
            "      (bn3): BatchNorm2d(1024, eps=1e-05, momentum=0.1, affine=True, track_running_stats=True)\n",
            "      (relu): ReLU(inplace=True)\n",
            "    )\n",
            "    (7): Bottleneck(\n",
            "      (conv1): Conv2d(1024, 256, kernel_size=(1, 1), stride=(1, 1), bias=False)\n",
            "      (bn1): BatchNorm2d(256, eps=1e-05, momentum=0.1, affine=True, track_running_stats=True)\n",
            "      (conv2): Conv2d(256, 256, kernel_size=(3, 3), stride=(1, 1), padding=(1, 1), bias=False)\n",
            "      (bn2): BatchNorm2d(256, eps=1e-05, momentum=0.1, affine=True, track_running_stats=True)\n",
            "      (conv3): Conv2d(256, 1024, kernel_size=(1, 1), stride=(1, 1), bias=False)\n",
            "      (bn3): BatchNorm2d(1024, eps=1e-05, momentum=0.1, affine=True, track_running_stats=True)\n",
            "      (relu): ReLU(inplace=True)\n",
            "    )\n",
            "    (8): Bottleneck(\n",
            "      (conv1): Conv2d(1024, 256, kernel_size=(1, 1), stride=(1, 1), bias=False)\n",
            "      (bn1): BatchNorm2d(256, eps=1e-05, momentum=0.1, affine=True, track_running_stats=True)\n",
            "      (conv2): Conv2d(256, 256, kernel_size=(3, 3), stride=(1, 1), padding=(1, 1), bias=False)\n",
            "      (bn2): BatchNorm2d(256, eps=1e-05, momentum=0.1, affine=True, track_running_stats=True)\n",
            "      (conv3): Conv2d(256, 1024, kernel_size=(1, 1), stride=(1, 1), bias=False)\n",
            "      (bn3): BatchNorm2d(1024, eps=1e-05, momentum=0.1, affine=True, track_running_stats=True)\n",
            "      (relu): ReLU(inplace=True)\n",
            "    )\n",
            "    (9): Bottleneck(\n",
            "      (conv1): Conv2d(1024, 256, kernel_size=(1, 1), stride=(1, 1), bias=False)\n",
            "      (bn1): BatchNorm2d(256, eps=1e-05, momentum=0.1, affine=True, track_running_stats=True)\n",
            "      (conv2): Conv2d(256, 256, kernel_size=(3, 3), stride=(1, 1), padding=(1, 1), bias=False)\n",
            "      (bn2): BatchNorm2d(256, eps=1e-05, momentum=0.1, affine=True, track_running_stats=True)\n",
            "      (conv3): Conv2d(256, 1024, kernel_size=(1, 1), stride=(1, 1), bias=False)\n",
            "      (bn3): BatchNorm2d(1024, eps=1e-05, momentum=0.1, affine=True, track_running_stats=True)\n",
            "      (relu): ReLU(inplace=True)\n",
            "    )\n",
            "    (10): Bottleneck(\n",
            "      (conv1): Conv2d(1024, 256, kernel_size=(1, 1), stride=(1, 1), bias=False)\n",
            "      (bn1): BatchNorm2d(256, eps=1e-05, momentum=0.1, affine=True, track_running_stats=True)\n",
            "      (conv2): Conv2d(256, 256, kernel_size=(3, 3), stride=(1, 1), padding=(1, 1), bias=False)\n",
            "      (bn2): BatchNorm2d(256, eps=1e-05, momentum=0.1, affine=True, track_running_stats=True)\n",
            "      (conv3): Conv2d(256, 1024, kernel_size=(1, 1), stride=(1, 1), bias=False)\n",
            "      (bn3): BatchNorm2d(1024, eps=1e-05, momentum=0.1, affine=True, track_running_stats=True)\n",
            "      (relu): ReLU(inplace=True)\n",
            "    )\n",
            "    (11): Bottleneck(\n",
            "      (conv1): Conv2d(1024, 256, kernel_size=(1, 1), stride=(1, 1), bias=False)\n",
            "      (bn1): BatchNorm2d(256, eps=1e-05, momentum=0.1, affine=True, track_running_stats=True)\n",
            "      (conv2): Conv2d(256, 256, kernel_size=(3, 3), stride=(1, 1), padding=(1, 1), bias=False)\n",
            "      (bn2): BatchNorm2d(256, eps=1e-05, momentum=0.1, affine=True, track_running_stats=True)\n",
            "      (conv3): Conv2d(256, 1024, kernel_size=(1, 1), stride=(1, 1), bias=False)\n",
            "      (bn3): BatchNorm2d(1024, eps=1e-05, momentum=0.1, affine=True, track_running_stats=True)\n",
            "      (relu): ReLU(inplace=True)\n",
            "    )\n",
            "    (12): Bottleneck(\n",
            "      (conv1): Conv2d(1024, 256, kernel_size=(1, 1), stride=(1, 1), bias=False)\n",
            "      (bn1): BatchNorm2d(256, eps=1e-05, momentum=0.1, affine=True, track_running_stats=True)\n",
            "      (conv2): Conv2d(256, 256, kernel_size=(3, 3), stride=(1, 1), padding=(1, 1), bias=False)\n",
            "      (bn2): BatchNorm2d(256, eps=1e-05, momentum=0.1, affine=True, track_running_stats=True)\n",
            "      (conv3): Conv2d(256, 1024, kernel_size=(1, 1), stride=(1, 1), bias=False)\n",
            "      (bn3): BatchNorm2d(1024, eps=1e-05, momentum=0.1, affine=True, track_running_stats=True)\n",
            "      (relu): ReLU(inplace=True)\n",
            "    )\n",
            "    (13): Bottleneck(\n",
            "      (conv1): Conv2d(1024, 256, kernel_size=(1, 1), stride=(1, 1), bias=False)\n",
            "      (bn1): BatchNorm2d(256, eps=1e-05, momentum=0.1, affine=True, track_running_stats=True)\n",
            "      (conv2): Conv2d(256, 256, kernel_size=(3, 3), stride=(1, 1), padding=(1, 1), bias=False)\n",
            "      (bn2): BatchNorm2d(256, eps=1e-05, momentum=0.1, affine=True, track_running_stats=True)\n",
            "      (conv3): Conv2d(256, 1024, kernel_size=(1, 1), stride=(1, 1), bias=False)\n",
            "      (bn3): BatchNorm2d(1024, eps=1e-05, momentum=0.1, affine=True, track_running_stats=True)\n",
            "      (relu): ReLU(inplace=True)\n",
            "    )\n",
            "    (14): Bottleneck(\n",
            "      (conv1): Conv2d(1024, 256, kernel_size=(1, 1), stride=(1, 1), bias=False)\n",
            "      (bn1): BatchNorm2d(256, eps=1e-05, momentum=0.1, affine=True, track_running_stats=True)\n",
            "      (conv2): Conv2d(256, 256, kernel_size=(3, 3), stride=(1, 1), padding=(1, 1), bias=False)\n",
            "      (bn2): BatchNorm2d(256, eps=1e-05, momentum=0.1, affine=True, track_running_stats=True)\n",
            "      (conv3): Conv2d(256, 1024, kernel_size=(1, 1), stride=(1, 1), bias=False)\n",
            "      (bn3): BatchNorm2d(1024, eps=1e-05, momentum=0.1, affine=True, track_running_stats=True)\n",
            "      (relu): ReLU(inplace=True)\n",
            "    )\n",
            "    (15): Bottleneck(\n",
            "      (conv1): Conv2d(1024, 256, kernel_size=(1, 1), stride=(1, 1), bias=False)\n",
            "      (bn1): BatchNorm2d(256, eps=1e-05, momentum=0.1, affine=True, track_running_stats=True)\n",
            "      (conv2): Conv2d(256, 256, kernel_size=(3, 3), stride=(1, 1), padding=(1, 1), bias=False)\n",
            "      (bn2): BatchNorm2d(256, eps=1e-05, momentum=0.1, affine=True, track_running_stats=True)\n",
            "      (conv3): Conv2d(256, 1024, kernel_size=(1, 1), stride=(1, 1), bias=False)\n",
            "      (bn3): BatchNorm2d(1024, eps=1e-05, momentum=0.1, affine=True, track_running_stats=True)\n",
            "      (relu): ReLU(inplace=True)\n",
            "    )\n",
            "    (16): Bottleneck(\n",
            "      (conv1): Conv2d(1024, 256, kernel_size=(1, 1), stride=(1, 1), bias=False)\n",
            "      (bn1): BatchNorm2d(256, eps=1e-05, momentum=0.1, affine=True, track_running_stats=True)\n",
            "      (conv2): Conv2d(256, 256, kernel_size=(3, 3), stride=(1, 1), padding=(1, 1), bias=False)\n",
            "      (bn2): BatchNorm2d(256, eps=1e-05, momentum=0.1, affine=True, track_running_stats=True)\n",
            "      (conv3): Conv2d(256, 1024, kernel_size=(1, 1), stride=(1, 1), bias=False)\n",
            "      (bn3): BatchNorm2d(1024, eps=1e-05, momentum=0.1, affine=True, track_running_stats=True)\n",
            "      (relu): ReLU(inplace=True)\n",
            "    )\n",
            "    (17): Bottleneck(\n",
            "      (conv1): Conv2d(1024, 256, kernel_size=(1, 1), stride=(1, 1), bias=False)\n",
            "      (bn1): BatchNorm2d(256, eps=1e-05, momentum=0.1, affine=True, track_running_stats=True)\n",
            "      (conv2): Conv2d(256, 256, kernel_size=(3, 3), stride=(1, 1), padding=(1, 1), bias=False)\n",
            "      (bn2): BatchNorm2d(256, eps=1e-05, momentum=0.1, affine=True, track_running_stats=True)\n",
            "      (conv3): Conv2d(256, 1024, kernel_size=(1, 1), stride=(1, 1), bias=False)\n",
            "      (bn3): BatchNorm2d(1024, eps=1e-05, momentum=0.1, affine=True, track_running_stats=True)\n",
            "      (relu): ReLU(inplace=True)\n",
            "    )\n",
            "    (18): Bottleneck(\n",
            "      (conv1): Conv2d(1024, 256, kernel_size=(1, 1), stride=(1, 1), bias=False)\n",
            "      (bn1): BatchNorm2d(256, eps=1e-05, momentum=0.1, affine=True, track_running_stats=True)\n",
            "      (conv2): Conv2d(256, 256, kernel_size=(3, 3), stride=(1, 1), padding=(1, 1), bias=False)\n",
            "      (bn2): BatchNorm2d(256, eps=1e-05, momentum=0.1, affine=True, track_running_stats=True)\n",
            "      (conv3): Conv2d(256, 1024, kernel_size=(1, 1), stride=(1, 1), bias=False)\n",
            "      (bn3): BatchNorm2d(1024, eps=1e-05, momentum=0.1, affine=True, track_running_stats=True)\n",
            "      (relu): ReLU(inplace=True)\n",
            "    )\n",
            "    (19): Bottleneck(\n",
            "      (conv1): Conv2d(1024, 256, kernel_size=(1, 1), stride=(1, 1), bias=False)\n",
            "      (bn1): BatchNorm2d(256, eps=1e-05, momentum=0.1, affine=True, track_running_stats=True)\n",
            "      (conv2): Conv2d(256, 256, kernel_size=(3, 3), stride=(1, 1), padding=(1, 1), bias=False)\n",
            "      (bn2): BatchNorm2d(256, eps=1e-05, momentum=0.1, affine=True, track_running_stats=True)\n",
            "      (conv3): Conv2d(256, 1024, kernel_size=(1, 1), stride=(1, 1), bias=False)\n",
            "      (bn3): BatchNorm2d(1024, eps=1e-05, momentum=0.1, affine=True, track_running_stats=True)\n",
            "      (relu): ReLU(inplace=True)\n",
            "    )\n",
            "    (20): Bottleneck(\n",
            "      (conv1): Conv2d(1024, 256, kernel_size=(1, 1), stride=(1, 1), bias=False)\n",
            "      (bn1): BatchNorm2d(256, eps=1e-05, momentum=0.1, affine=True, track_running_stats=True)\n",
            "      (conv2): Conv2d(256, 256, kernel_size=(3, 3), stride=(1, 1), padding=(1, 1), bias=False)\n",
            "      (bn2): BatchNorm2d(256, eps=1e-05, momentum=0.1, affine=True, track_running_stats=True)\n",
            "      (conv3): Conv2d(256, 1024, kernel_size=(1, 1), stride=(1, 1), bias=False)\n",
            "      (bn3): BatchNorm2d(1024, eps=1e-05, momentum=0.1, affine=True, track_running_stats=True)\n",
            "      (relu): ReLU(inplace=True)\n",
            "    )\n",
            "    (21): Bottleneck(\n",
            "      (conv1): Conv2d(1024, 256, kernel_size=(1, 1), stride=(1, 1), bias=False)\n",
            "      (bn1): BatchNorm2d(256, eps=1e-05, momentum=0.1, affine=True, track_running_stats=True)\n",
            "      (conv2): Conv2d(256, 256, kernel_size=(3, 3), stride=(1, 1), padding=(1, 1), bias=False)\n",
            "      (bn2): BatchNorm2d(256, eps=1e-05, momentum=0.1, affine=True, track_running_stats=True)\n",
            "      (conv3): Conv2d(256, 1024, kernel_size=(1, 1), stride=(1, 1), bias=False)\n",
            "      (bn3): BatchNorm2d(1024, eps=1e-05, momentum=0.1, affine=True, track_running_stats=True)\n",
            "      (relu): ReLU(inplace=True)\n",
            "    )\n",
            "    (22): Bottleneck(\n",
            "      (conv1): Conv2d(1024, 256, kernel_size=(1, 1), stride=(1, 1), bias=False)\n",
            "      (bn1): BatchNorm2d(256, eps=1e-05, momentum=0.1, affine=True, track_running_stats=True)\n",
            "      (conv2): Conv2d(256, 256, kernel_size=(3, 3), stride=(1, 1), padding=(1, 1), bias=False)\n",
            "      (bn2): BatchNorm2d(256, eps=1e-05, momentum=0.1, affine=True, track_running_stats=True)\n",
            "      (conv3): Conv2d(256, 1024, kernel_size=(1, 1), stride=(1, 1), bias=False)\n",
            "      (bn3): BatchNorm2d(1024, eps=1e-05, momentum=0.1, affine=True, track_running_stats=True)\n",
            "      (relu): ReLU(inplace=True)\n",
            "    )\n",
            "    (23): Bottleneck(\n",
            "      (conv1): Conv2d(1024, 256, kernel_size=(1, 1), stride=(1, 1), bias=False)\n",
            "      (bn1): BatchNorm2d(256, eps=1e-05, momentum=0.1, affine=True, track_running_stats=True)\n",
            "      (conv2): Conv2d(256, 256, kernel_size=(3, 3), stride=(1, 1), padding=(1, 1), bias=False)\n",
            "      (bn2): BatchNorm2d(256, eps=1e-05, momentum=0.1, affine=True, track_running_stats=True)\n",
            "      (conv3): Conv2d(256, 1024, kernel_size=(1, 1), stride=(1, 1), bias=False)\n",
            "      (bn3): BatchNorm2d(1024, eps=1e-05, momentum=0.1, affine=True, track_running_stats=True)\n",
            "      (relu): ReLU(inplace=True)\n",
            "    )\n",
            "    (24): Bottleneck(\n",
            "      (conv1): Conv2d(1024, 256, kernel_size=(1, 1), stride=(1, 1), bias=False)\n",
            "      (bn1): BatchNorm2d(256, eps=1e-05, momentum=0.1, affine=True, track_running_stats=True)\n",
            "      (conv2): Conv2d(256, 256, kernel_size=(3, 3), stride=(1, 1), padding=(1, 1), bias=False)\n",
            "      (bn2): BatchNorm2d(256, eps=1e-05, momentum=0.1, affine=True, track_running_stats=True)\n",
            "      (conv3): Conv2d(256, 1024, kernel_size=(1, 1), stride=(1, 1), bias=False)\n",
            "      (bn3): BatchNorm2d(1024, eps=1e-05, momentum=0.1, affine=True, track_running_stats=True)\n",
            "      (relu): ReLU(inplace=True)\n",
            "    )\n",
            "    (25): Bottleneck(\n",
            "      (conv1): Conv2d(1024, 256, kernel_size=(1, 1), stride=(1, 1), bias=False)\n",
            "      (bn1): BatchNorm2d(256, eps=1e-05, momentum=0.1, affine=True, track_running_stats=True)\n",
            "      (conv2): Conv2d(256, 256, kernel_size=(3, 3), stride=(1, 1), padding=(1, 1), bias=False)\n",
            "      (bn2): BatchNorm2d(256, eps=1e-05, momentum=0.1, affine=True, track_running_stats=True)\n",
            "      (conv3): Conv2d(256, 1024, kernel_size=(1, 1), stride=(1, 1), bias=False)\n",
            "      (bn3): BatchNorm2d(1024, eps=1e-05, momentum=0.1, affine=True, track_running_stats=True)\n",
            "      (relu): ReLU(inplace=True)\n",
            "    )\n",
            "    (26): Bottleneck(\n",
            "      (conv1): Conv2d(1024, 256, kernel_size=(1, 1), stride=(1, 1), bias=False)\n",
            "      (bn1): BatchNorm2d(256, eps=1e-05, momentum=0.1, affine=True, track_running_stats=True)\n",
            "      (conv2): Conv2d(256, 256, kernel_size=(3, 3), stride=(1, 1), padding=(1, 1), bias=False)\n",
            "      (bn2): BatchNorm2d(256, eps=1e-05, momentum=0.1, affine=True, track_running_stats=True)\n",
            "      (conv3): Conv2d(256, 1024, kernel_size=(1, 1), stride=(1, 1), bias=False)\n",
            "      (bn3): BatchNorm2d(1024, eps=1e-05, momentum=0.1, affine=True, track_running_stats=True)\n",
            "      (relu): ReLU(inplace=True)\n",
            "    )\n",
            "    (27): Bottleneck(\n",
            "      (conv1): Conv2d(1024, 256, kernel_size=(1, 1), stride=(1, 1), bias=False)\n",
            "      (bn1): BatchNorm2d(256, eps=1e-05, momentum=0.1, affine=True, track_running_stats=True)\n",
            "      (conv2): Conv2d(256, 256, kernel_size=(3, 3), stride=(1, 1), padding=(1, 1), bias=False)\n",
            "      (bn2): BatchNorm2d(256, eps=1e-05, momentum=0.1, affine=True, track_running_stats=True)\n",
            "      (conv3): Conv2d(256, 1024, kernel_size=(1, 1), stride=(1, 1), bias=False)\n",
            "      (bn3): BatchNorm2d(1024, eps=1e-05, momentum=0.1, affine=True, track_running_stats=True)\n",
            "      (relu): ReLU(inplace=True)\n",
            "    )\n",
            "    (28): Bottleneck(\n",
            "      (conv1): Conv2d(1024, 256, kernel_size=(1, 1), stride=(1, 1), bias=False)\n",
            "      (bn1): BatchNorm2d(256, eps=1e-05, momentum=0.1, affine=True, track_running_stats=True)\n",
            "      (conv2): Conv2d(256, 256, kernel_size=(3, 3), stride=(1, 1), padding=(1, 1), bias=False)\n",
            "      (bn2): BatchNorm2d(256, eps=1e-05, momentum=0.1, affine=True, track_running_stats=True)\n",
            "      (conv3): Conv2d(256, 1024, kernel_size=(1, 1), stride=(1, 1), bias=False)\n",
            "      (bn3): BatchNorm2d(1024, eps=1e-05, momentum=0.1, affine=True, track_running_stats=True)\n",
            "      (relu): ReLU(inplace=True)\n",
            "    )\n",
            "    (29): Bottleneck(\n",
            "      (conv1): Conv2d(1024, 256, kernel_size=(1, 1), stride=(1, 1), bias=False)\n",
            "      (bn1): BatchNorm2d(256, eps=1e-05, momentum=0.1, affine=True, track_running_stats=True)\n",
            "      (conv2): Conv2d(256, 256, kernel_size=(3, 3), stride=(1, 1), padding=(1, 1), bias=False)\n",
            "      (bn2): BatchNorm2d(256, eps=1e-05, momentum=0.1, affine=True, track_running_stats=True)\n",
            "      (conv3): Conv2d(256, 1024, kernel_size=(1, 1), stride=(1, 1), bias=False)\n",
            "      (bn3): BatchNorm2d(1024, eps=1e-05, momentum=0.1, affine=True, track_running_stats=True)\n",
            "      (relu): ReLU(inplace=True)\n",
            "    )\n",
            "    (30): Bottleneck(\n",
            "      (conv1): Conv2d(1024, 256, kernel_size=(1, 1), stride=(1, 1), bias=False)\n",
            "      (bn1): BatchNorm2d(256, eps=1e-05, momentum=0.1, affine=True, track_running_stats=True)\n",
            "      (conv2): Conv2d(256, 256, kernel_size=(3, 3), stride=(1, 1), padding=(1, 1), bias=False)\n",
            "      (bn2): BatchNorm2d(256, eps=1e-05, momentum=0.1, affine=True, track_running_stats=True)\n",
            "      (conv3): Conv2d(256, 1024, kernel_size=(1, 1), stride=(1, 1), bias=False)\n",
            "      (bn3): BatchNorm2d(1024, eps=1e-05, momentum=0.1, affine=True, track_running_stats=True)\n",
            "      (relu): ReLU(inplace=True)\n",
            "    )\n",
            "    (31): Bottleneck(\n",
            "      (conv1): Conv2d(1024, 256, kernel_size=(1, 1), stride=(1, 1), bias=False)\n",
            "      (bn1): BatchNorm2d(256, eps=1e-05, momentum=0.1, affine=True, track_running_stats=True)\n",
            "      (conv2): Conv2d(256, 256, kernel_size=(3, 3), stride=(1, 1), padding=(1, 1), bias=False)\n",
            "      (bn2): BatchNorm2d(256, eps=1e-05, momentum=0.1, affine=True, track_running_stats=True)\n",
            "      (conv3): Conv2d(256, 1024, kernel_size=(1, 1), stride=(1, 1), bias=False)\n",
            "      (bn3): BatchNorm2d(1024, eps=1e-05, momentum=0.1, affine=True, track_running_stats=True)\n",
            "      (relu): ReLU(inplace=True)\n",
            "    )\n",
            "    (32): Bottleneck(\n",
            "      (conv1): Conv2d(1024, 256, kernel_size=(1, 1), stride=(1, 1), bias=False)\n",
            "      (bn1): BatchNorm2d(256, eps=1e-05, momentum=0.1, affine=True, track_running_stats=True)\n",
            "      (conv2): Conv2d(256, 256, kernel_size=(3, 3), stride=(1, 1), padding=(1, 1), bias=False)\n",
            "      (bn2): BatchNorm2d(256, eps=1e-05, momentum=0.1, affine=True, track_running_stats=True)\n",
            "      (conv3): Conv2d(256, 1024, kernel_size=(1, 1), stride=(1, 1), bias=False)\n",
            "      (bn3): BatchNorm2d(1024, eps=1e-05, momentum=0.1, affine=True, track_running_stats=True)\n",
            "      (relu): ReLU(inplace=True)\n",
            "    )\n",
            "    (33): Bottleneck(\n",
            "      (conv1): Conv2d(1024, 256, kernel_size=(1, 1), stride=(1, 1), bias=False)\n",
            "      (bn1): BatchNorm2d(256, eps=1e-05, momentum=0.1, affine=True, track_running_stats=True)\n",
            "      (conv2): Conv2d(256, 256, kernel_size=(3, 3), stride=(1, 1), padding=(1, 1), bias=False)\n",
            "      (bn2): BatchNorm2d(256, eps=1e-05, momentum=0.1, affine=True, track_running_stats=True)\n",
            "      (conv3): Conv2d(256, 1024, kernel_size=(1, 1), stride=(1, 1), bias=False)\n",
            "      (bn3): BatchNorm2d(1024, eps=1e-05, momentum=0.1, affine=True, track_running_stats=True)\n",
            "      (relu): ReLU(inplace=True)\n",
            "    )\n",
            "    (34): Bottleneck(\n",
            "      (conv1): Conv2d(1024, 256, kernel_size=(1, 1), stride=(1, 1), bias=False)\n",
            "      (bn1): BatchNorm2d(256, eps=1e-05, momentum=0.1, affine=True, track_running_stats=True)\n",
            "      (conv2): Conv2d(256, 256, kernel_size=(3, 3), stride=(1, 1), padding=(1, 1), bias=False)\n",
            "      (bn2): BatchNorm2d(256, eps=1e-05, momentum=0.1, affine=True, track_running_stats=True)\n",
            "      (conv3): Conv2d(256, 1024, kernel_size=(1, 1), stride=(1, 1), bias=False)\n",
            "      (bn3): BatchNorm2d(1024, eps=1e-05, momentum=0.1, affine=True, track_running_stats=True)\n",
            "      (relu): ReLU(inplace=True)\n",
            "    )\n",
            "    (35): Bottleneck(\n",
            "      (conv1): Conv2d(1024, 256, kernel_size=(1, 1), stride=(1, 1), bias=False)\n",
            "      (bn1): BatchNorm2d(256, eps=1e-05, momentum=0.1, affine=True, track_running_stats=True)\n",
            "      (conv2): Conv2d(256, 256, kernel_size=(3, 3), stride=(1, 1), padding=(1, 1), bias=False)\n",
            "      (bn2): BatchNorm2d(256, eps=1e-05, momentum=0.1, affine=True, track_running_stats=True)\n",
            "      (conv3): Conv2d(256, 1024, kernel_size=(1, 1), stride=(1, 1), bias=False)\n",
            "      (bn3): BatchNorm2d(1024, eps=1e-05, momentum=0.1, affine=True, track_running_stats=True)\n",
            "      (relu): ReLU(inplace=True)\n",
            "    )\n",
            "  )\n",
            "  (layer4): Sequential(\n",
            "    (0): Bottleneck(\n",
            "      (conv1): Conv2d(1024, 512, kernel_size=(1, 1), stride=(1, 1), bias=False)\n",
            "      (bn1): BatchNorm2d(512, eps=1e-05, momentum=0.1, affine=True, track_running_stats=True)\n",
            "      (conv2): Conv2d(512, 512, kernel_size=(3, 3), stride=(2, 2), padding=(1, 1), bias=False)\n",
            "      (bn2): BatchNorm2d(512, eps=1e-05, momentum=0.1, affine=True, track_running_stats=True)\n",
            "      (conv3): Conv2d(512, 2048, kernel_size=(1, 1), stride=(1, 1), bias=False)\n",
            "      (bn3): BatchNorm2d(2048, eps=1e-05, momentum=0.1, affine=True, track_running_stats=True)\n",
            "      (relu): ReLU(inplace=True)\n",
            "      (downsample): Sequential(\n",
            "        (0): Conv2d(1024, 2048, kernel_size=(1, 1), stride=(2, 2), bias=False)\n",
            "        (1): BatchNorm2d(2048, eps=1e-05, momentum=0.1, affine=True, track_running_stats=True)\n",
            "      )\n",
            "    )\n",
            "    (1): Bottleneck(\n",
            "      (conv1): Conv2d(2048, 512, kernel_size=(1, 1), stride=(1, 1), bias=False)\n",
            "      (bn1): BatchNorm2d(512, eps=1e-05, momentum=0.1, affine=True, track_running_stats=True)\n",
            "      (conv2): Conv2d(512, 512, kernel_size=(3, 3), stride=(1, 1), padding=(1, 1), bias=False)\n",
            "      (bn2): BatchNorm2d(512, eps=1e-05, momentum=0.1, affine=True, track_running_stats=True)\n",
            "      (conv3): Conv2d(512, 2048, kernel_size=(1, 1), stride=(1, 1), bias=False)\n",
            "      (bn3): BatchNorm2d(2048, eps=1e-05, momentum=0.1, affine=True, track_running_stats=True)\n",
            "      (relu): ReLU(inplace=True)\n",
            "    )\n",
            "    (2): Bottleneck(\n",
            "      (conv1): Conv2d(2048, 512, kernel_size=(1, 1), stride=(1, 1), bias=False)\n",
            "      (bn1): BatchNorm2d(512, eps=1e-05, momentum=0.1, affine=True, track_running_stats=True)\n",
            "      (conv2): Conv2d(512, 512, kernel_size=(3, 3), stride=(1, 1), padding=(1, 1), bias=False)\n",
            "      (bn2): BatchNorm2d(512, eps=1e-05, momentum=0.1, affine=True, track_running_stats=True)\n",
            "      (conv3): Conv2d(512, 2048, kernel_size=(1, 1), stride=(1, 1), bias=False)\n",
            "      (bn3): BatchNorm2d(2048, eps=1e-05, momentum=0.1, affine=True, track_running_stats=True)\n",
            "      (relu): ReLU(inplace=True)\n",
            "    )\n",
            "  )\n",
            "  (avgpool): AdaptiveAvgPool2d(output_size=(1, 1))\n",
            "  (fc): Linear(in_features=2048, out_features=26, bias=True)\n",
            "), optim=Adam (\n",
            "Parameter Group 0\n",
            "    amsgrad: False\n",
            "    betas: (0.9, 0.999)\n",
            "    eps: 1e-08\n",
            "    initial_lr: 0.001\n",
            "    lr: 0.001\n",
            "    weight_decay: 0\n",
            "), test_loader=<torch.utils.data.dataloader.DataLoader object at 0x7f527794a908>, train_loader=<torch.utils.data.dataloader.DataLoader object at 0x7f527794a860>, val_loader=<torch.utils.data.dataloader.DataLoader object at 0x7f527794a828>)\n"
          ],
          "name": "stdout"
        }
      ]
    },
    {
      "cell_type": "markdown",
      "metadata": {
        "id": "OltHiRBH2Kfp"
      },
      "source": [
        "## 03. Model Train, Validate, Test"
      ]
    },
    {
      "cell_type": "markdown",
      "metadata": {
        "id": "qilwiMVwqjyg"
      },
      "source": [
        "학습 결과가 가장 좋은 모델만 저장하자(한 번 해보자!)"
      ]
    },
    {
      "cell_type": "code",
      "metadata": {
        "id": "OHz7n9Sf5FqA"
      },
      "source": [
        "dataloaders = {}\r\n",
        "dataloaders['train'] = train_loader\r\n",
        "dataloaders['val'] = val_loader\r\n",
        "dataloaders['test'] = test_loader\r\n",
        "\r\n",
        "dataset_sizes = {'train': train_size, \r\n",
        "                 'val': val_size,\r\n",
        "                 'test': test_size}\r\n",
        "\r\n",
        "    "
      ],
      "execution_count": 34,
      "outputs": []
    },
    {
      "cell_type": "code",
      "metadata": {
        "id": "Yw8LsscvqVUz"
      },
      "source": [
        "# Reference: 토치 튜토리얼\r\n",
        "# https://tutorials.pytorch.kr/beginner/transfer_learning_tutorial.html\r\n",
        "\r\n",
        "def train_model(model, criterion, optimizer, scheduler, num_epochs=25):  # epoch의 default값은 25\r\n",
        "    device = torch.device(\"cuda:0\" if torch.cuda.is_available() else \"cpu\")\r\n",
        "\r\n",
        "    since = time.time()\r\n",
        "\r\n",
        "    best_model_wts = copy.deepcopy(model.state_dict())\r\n",
        "    best_acc = 0.0\r\n",
        "    best_epoch = 0\r\n",
        "    \r\n",
        "    # 모델 파라미터와 함께 loss/accuracy도 저장해주자\r\n",
        "    global list_epoch\r\n",
        "    global list_train_loss\r\n",
        "    global list_val_loss\r\n",
        "\r\n",
        "    global list_train_acc  # 이게 누락됬었다니 ㅠ -20.12.16.wed. pm2:00\r\n",
        "    global list_val_acc\r\n",
        "    global list_test_acc\r\n",
        "    global list_acc_epoch\r\n",
        "\r\n",
        "    list_epoch= []\r\n",
        "    list_train_loss = []\r\n",
        "    list_val_loss = []\r\n",
        "    \r\n",
        "    list_train_acc = []\r\n",
        "    list_val_acc = []\r\n",
        "    list_test_acc = []\r\n",
        "    list_acc_epoch = []\r\n",
        "\r\n",
        "    for epoch in range(num_epochs):\r\n",
        "        print('Epoch {}/{}'.format(epoch, num_epochs - 1))\r\n",
        "        print('-' * 10)\r\n",
        "\r\n",
        "        # 각 에폭(epoch)은 학습 단계와 검증 단계를 갖는다.\r\n",
        "        for phase in ['train', 'val', 'test']:\r\n",
        "            if phase == 'train':\r\n",
        "                model.train()  # train이면 학습 모드로 설정\r\n",
        "            else:\r\n",
        "                model.eval()  # val이면 검증 모드로 설정\r\n",
        "\r\n",
        "            running_loss = 0.0  # 현재 running_loss\r\n",
        "            running_corrects = 0\r\n",
        "\r\n",
        "            # 데이터 반복\r\n",
        "            for inputs, labels in dataloaders[phase]:\r\n",
        "                inputs = inputs.to(device)\r\n",
        "                labels = labels.to(device)\r\n",
        "\r\n",
        "                # 매개변수 검사도를 0으로 설정\r\n",
        "                optimizer.zero_grad()\r\n",
        "\r\n",
        "                # 순전파(Forward pass)\r\n",
        "                # 학습시에만 연산 기록을 추적한다\r\n",
        "                with torch.set_grad_enabled(phase=='train'):  # train이 아닌 경우에는 연산 기록 추적을 하지 않는구나!\r\n",
        "                    outputs = model(inputs)\r\n",
        "                    _, preds = torch.max(outputs, 1)\r\n",
        "                    loss = criterion(outputs, labels)\r\n",
        "\r\n",
        "                    # 학습 단계인 경우 역전파 + 최적화\r\n",
        "                    if phase == 'train':\r\n",
        "                        loss.backward()\r\n",
        "                        optimizer.step()\r\n",
        "\r\n",
        "                # 통계\r\n",
        "                running_loss += loss.item() * inputs.size(0)  # It's because the loss given by CrossEntropy or other loss functions \r\n",
        "                                                              # is divided by the number of elements i.e. the reduction parameter is mean by default.\r\n",
        "                running_corrects += torch.sum(preds == labels.data)\r\n",
        "\r\n",
        "\r\n",
        "            if phase == 'train':\r\n",
        "                scheduler.step()\r\n",
        "\r\n",
        "            epoch_loss = running_loss / dataset_sizes[phase]\r\n",
        "            epoch_acc = running_corrects / dataset_sizes[phase]\r\n",
        "\r\n",
        "            if phase == 'train':\r\n",
        "                list_train_loss.append(epoch_loss)\r\n",
        "                list_train_acc.append(epoch_acc)\r\n",
        "            elif phase == 'val':\r\n",
        "                list_val_loss.append(epoch_loss)\r\n",
        "                list_val_acc.append(epoch_acc)\r\n",
        "            elif phase == 'test':\r\n",
        "                list_test_acc.append(epoch_acc)\r\n",
        "                list_epoch.append(epoch)\r\n",
        "                list_acc_epoch.append(epoch)\r\n",
        "\r\n",
        "            print('{}: Loss: {:.4f} Acc: {:.4f}'.format(phase, epoch_loss, epoch_acc))\r\n",
        "\r\n",
        "            # 모델을 깊은 복사(deep copy)함\r\n",
        "            if phase == 'val' and epoch_acc > best_acc:\r\n",
        "                best_acc = epoch_acc\r\n",
        "                best_model_wts = copy.deepcopy(model.state_dict())\r\n",
        "                best_epoch = epoch\r\n",
        "\r\n",
        "        print()\r\n",
        "    time_elapsed = time.time() - since\r\n",
        "    print('Training complete in {:.0f}m{:.0f}'.format(time_elapsed // 60, time_elapsed % 60))\r\n",
        "    print('Best val Acc: {:.4f}'.format(best_acc))\r\n",
        "\r\n",
        "    # 가장 나은 모델의 가중치를 불러온다\r\n",
        "    model.load_state_dict(best_model_wts)\r\n",
        "    # 여기에 가장 나은 모델의 가중치만 저장해보자 - 20.12.15.Tue-\r\n",
        "    # optimizer도 같이 저장한다\r\n",
        "    torch.save(model.state_dict(), 'model_epoch{}.pth'.format(best_epoch+1))\r\n",
        "    torch.save(optimizer.state_dict(), 'optim_epoch{}.pth'.format(best_epoch+1))\r\n",
        "\r\n",
        "    return model"
      ],
      "execution_count": 68,
      "outputs": []
    },
    {
      "cell_type": "code",
      "metadata": {
        "id": "SYHiKtoLyBpk"
      },
      "source": [
        "# args.__dict__"
      ],
      "execution_count": 35,
      "outputs": []
    },
    {
      "cell_type": "code",
      "metadata": {
        "colab": {
          "base_uri": "https://localhost:8080/"
        },
        "id": "4JAaZPKs4S_R",
        "outputId": "459dd084-774b-4a22-af94-376bdeec7cf5"
      },
      "source": [
        "model_ft = train_model(args.net, args.criterion, args.optim, args.exp_lr_scheduler, args.epoch)"
      ],
      "execution_count": 59,
      "outputs": [
        {
          "output_type": "stream",
          "text": [
            "Epoch 0/99\n",
            "----------\n",
            "train: Loss: 1.1524 Acc: 0.6864\n",
            "val: Loss: 0.8199 Acc: 0.8066\n",
            "test: Loss: 0.7327 Acc: 0.8209\n",
            "\n",
            "Epoch 1/99\n",
            "----------\n",
            "train: Loss: 0.4657 Acc: 0.8701\n",
            "val: Loss: 0.3750 Acc: 0.8956\n",
            "test: Loss: 0.3521 Acc: 0.9055\n",
            "\n",
            "Epoch 2/99\n",
            "----------\n",
            "train: Loss: 0.3219 Acc: 0.9084\n",
            "val: Loss: 0.3950 Acc: 0.9077\n",
            "test: Loss: 0.3437 Acc: 0.9198\n",
            "\n",
            "Epoch 3/99\n",
            "----------\n",
            "train: Loss: 0.2779 Acc: 0.9191\n",
            "val: Loss: 0.3420 Acc: 0.9066\n",
            "test: Loss: 0.2962 Acc: 0.9110\n",
            "\n",
            "Epoch 4/99\n",
            "----------\n",
            "train: Loss: 0.2187 Acc: 0.9357\n",
            "val: Loss: 0.3135 Acc: 0.9066\n",
            "test: Loss: 0.3353 Acc: 0.9088\n",
            "\n",
            "Epoch 5/99\n",
            "----------\n",
            "train: Loss: 0.1705 Acc: 0.9477\n",
            "val: Loss: 0.2753 Acc: 0.9363\n",
            "test: Loss: 0.2371 Acc: 0.9418\n",
            "\n",
            "Epoch 6/99\n",
            "----------\n",
            "train: Loss: 0.1480 Acc: 0.9549\n",
            "val: Loss: 0.2272 Acc: 0.9385\n",
            "test: Loss: 0.2376 Acc: 0.9462\n",
            "\n",
            "Epoch 7/99\n",
            "----------\n",
            "train: Loss: 0.1264 Acc: 0.9626\n",
            "val: Loss: 0.2302 Acc: 0.9451\n",
            "test: Loss: 0.2507 Acc: 0.9396\n",
            "\n",
            "Epoch 8/99\n",
            "----------\n",
            "train: Loss: 0.1525 Acc: 0.9547\n",
            "val: Loss: 0.3516 Acc: 0.9099\n",
            "test: Loss: 0.2796 Acc: 0.9275\n",
            "\n",
            "Epoch 9/99\n",
            "----------\n",
            "train: Loss: 0.0974 Acc: 0.9701\n",
            "val: Loss: 0.1986 Acc: 0.9582\n",
            "test: Loss: 0.1795 Acc: 0.9527\n",
            "\n",
            "Epoch 10/99\n",
            "----------\n",
            "train: Loss: 0.0350 Acc: 0.9902\n",
            "val: Loss: 0.1647 Acc: 0.9670\n",
            "test: Loss: 0.1505 Acc: 0.9659\n",
            "\n",
            "Epoch 11/99\n",
            "----------\n",
            "train: Loss: 0.0198 Acc: 0.9949\n",
            "val: Loss: 0.1568 Acc: 0.9681\n",
            "test: Loss: 0.1411 Acc: 0.9659\n",
            "\n",
            "Epoch 12/99\n",
            "----------\n",
            "train: Loss: 0.0148 Acc: 0.9962\n",
            "val: Loss: 0.1737 Acc: 0.9648\n",
            "test: Loss: 0.1417 Acc: 0.9648\n",
            "\n",
            "Epoch 13/99\n",
            "----------\n",
            "train: Loss: 0.0112 Acc: 0.9977\n",
            "val: Loss: 0.1733 Acc: 0.9648\n",
            "test: Loss: 0.1459 Acc: 0.9648\n",
            "\n",
            "Epoch 14/99\n",
            "----------\n",
            "train: Loss: 0.0085 Acc: 0.9984\n",
            "val: Loss: 0.1767 Acc: 0.9648\n",
            "test: Loss: 0.1437 Acc: 0.9681\n",
            "\n",
            "Epoch 15/99\n",
            "----------\n",
            "train: Loss: 0.0073 Acc: 0.9982\n",
            "val: Loss: 0.1796 Acc: 0.9648\n",
            "test: Loss: 0.1376 Acc: 0.9681\n",
            "\n",
            "Epoch 16/99\n",
            "----------\n",
            "train: Loss: 0.0063 Acc: 0.9986\n",
            "val: Loss: 0.1761 Acc: 0.9659\n",
            "test: Loss: 0.1582 Acc: 0.9670\n",
            "\n",
            "Epoch 17/99\n",
            "----------\n",
            "train: Loss: 0.0051 Acc: 0.9990\n",
            "val: Loss: 0.1838 Acc: 0.9670\n",
            "test: Loss: 0.1487 Acc: 0.9703\n",
            "\n",
            "Epoch 18/99\n",
            "----------\n",
            "train: Loss: 0.0038 Acc: 0.9993\n",
            "val: Loss: 0.1929 Acc: 0.9659\n",
            "test: Loss: 0.1505 Acc: 0.9692\n",
            "\n",
            "Epoch 19/99\n",
            "----------\n",
            "train: Loss: 0.0036 Acc: 0.9996\n",
            "val: Loss: 0.1880 Acc: 0.9736\n",
            "test: Loss: 0.1455 Acc: 0.9714\n",
            "\n",
            "Epoch 20/99\n",
            "----------\n",
            "train: Loss: 0.0030 Acc: 0.9996\n",
            "val: Loss: 0.1907 Acc: 0.9714\n",
            "test: Loss: 0.1398 Acc: 0.9703\n",
            "\n",
            "Epoch 21/99\n",
            "----------\n",
            "train: Loss: 0.0025 Acc: 0.9996\n",
            "val: Loss: 0.1928 Acc: 0.9703\n",
            "test: Loss: 0.1410 Acc: 0.9714\n",
            "\n",
            "Epoch 22/99\n",
            "----------\n",
            "train: Loss: 0.0020 Acc: 0.9997\n",
            "val: Loss: 0.1923 Acc: 0.9703\n",
            "test: Loss: 0.1401 Acc: 0.9703\n",
            "\n",
            "Epoch 23/99\n",
            "----------\n",
            "train: Loss: 0.0021 Acc: 0.9997\n",
            "val: Loss: 0.1898 Acc: 0.9681\n",
            "test: Loss: 0.1420 Acc: 0.9703\n",
            "\n",
            "Epoch 24/99\n",
            "----------\n",
            "train: Loss: 0.0015 Acc: 0.9999\n",
            "val: Loss: 0.1927 Acc: 0.9703\n",
            "test: Loss: 0.1477 Acc: 0.9692\n",
            "\n",
            "Epoch 25/99\n",
            "----------\n",
            "train: Loss: 0.0017 Acc: 0.9997\n",
            "val: Loss: 0.1938 Acc: 0.9692\n",
            "test: Loss: 0.1487 Acc: 0.9714\n",
            "\n",
            "Epoch 26/99\n",
            "----------\n",
            "train: Loss: 0.0015 Acc: 0.9999\n",
            "val: Loss: 0.1994 Acc: 0.9692\n",
            "test: Loss: 0.1505 Acc: 0.9692\n",
            "\n",
            "Epoch 27/99\n",
            "----------\n",
            "train: Loss: 0.0013 Acc: 0.9997\n",
            "val: Loss: 0.2025 Acc: 0.9692\n",
            "test: Loss: 0.1513 Acc: 0.9703\n",
            "\n",
            "Epoch 28/99\n",
            "----------\n",
            "train: Loss: 0.0015 Acc: 0.9997\n",
            "val: Loss: 0.2017 Acc: 0.9692\n",
            "test: Loss: 0.1442 Acc: 0.9692\n",
            "\n",
            "Epoch 29/99\n",
            "----------\n",
            "train: Loss: 0.0019 Acc: 0.9996\n",
            "val: Loss: 0.2013 Acc: 0.9714\n",
            "test: Loss: 0.1387 Acc: 0.9769\n",
            "\n",
            "Epoch 30/99\n",
            "----------\n",
            "train: Loss: 0.0011 Acc: 0.9999\n",
            "val: Loss: 0.1985 Acc: 0.9703\n",
            "test: Loss: 0.1440 Acc: 0.9714\n",
            "\n",
            "Epoch 31/99\n",
            "----------\n",
            "train: Loss: 0.0013 Acc: 0.9999\n",
            "val: Loss: 0.1967 Acc: 0.9703\n",
            "test: Loss: 0.1411 Acc: 0.9725\n",
            "\n",
            "Epoch 32/99\n",
            "----------\n",
            "train: Loss: 0.0013 Acc: 0.9997\n",
            "val: Loss: 0.1962 Acc: 0.9703\n",
            "test: Loss: 0.1440 Acc: 0.9714\n",
            "\n",
            "Epoch 33/99\n",
            "----------\n",
            "train: Loss: 0.0014 Acc: 0.9997\n",
            "val: Loss: 0.1991 Acc: 0.9692\n",
            "test: Loss: 0.1423 Acc: 0.9725\n",
            "\n",
            "Epoch 34/99\n",
            "----------\n",
            "train: Loss: 0.0009 Acc: 0.9999\n",
            "val: Loss: 0.2015 Acc: 0.9692\n",
            "test: Loss: 0.1474 Acc: 0.9725\n",
            "\n",
            "Epoch 35/99\n",
            "----------\n",
            "train: Loss: 0.0012 Acc: 0.9999\n",
            "val: Loss: 0.1968 Acc: 0.9703\n",
            "test: Loss: 0.1372 Acc: 0.9714\n",
            "\n",
            "Epoch 36/99\n",
            "----------\n",
            "train: Loss: 0.0013 Acc: 0.9999\n",
            "val: Loss: 0.2034 Acc: 0.9703\n",
            "test: Loss: 0.1493 Acc: 0.9692\n",
            "\n",
            "Epoch 37/99\n",
            "----------\n",
            "train: Loss: 0.0013 Acc: 0.9999\n",
            "val: Loss: 0.2006 Acc: 0.9692\n",
            "test: Loss: 0.1443 Acc: 0.9714\n",
            "\n",
            "Epoch 38/99\n",
            "----------\n",
            "train: Loss: 0.0013 Acc: 0.9997\n",
            "val: Loss: 0.2013 Acc: 0.9703\n",
            "test: Loss: 0.1505 Acc: 0.9725\n",
            "\n",
            "Epoch 39/99\n",
            "----------\n",
            "train: Loss: 0.0010 Acc: 0.9999\n",
            "val: Loss: 0.1922 Acc: 0.9703\n",
            "test: Loss: 0.1415 Acc: 0.9725\n",
            "\n",
            "Epoch 40/99\n",
            "----------\n",
            "train: Loss: 0.0013 Acc: 0.9997\n",
            "val: Loss: 0.2016 Acc: 0.9703\n",
            "test: Loss: 0.1455 Acc: 0.9747\n",
            "\n",
            "Epoch 41/99\n",
            "----------\n",
            "train: Loss: 0.0013 Acc: 0.9999\n",
            "val: Loss: 0.1992 Acc: 0.9703\n",
            "test: Loss: 0.1430 Acc: 0.9703\n",
            "\n",
            "Epoch 42/99\n",
            "----------\n",
            "train: Loss: 0.0014 Acc: 0.9997\n",
            "val: Loss: 0.2001 Acc: 0.9703\n",
            "test: Loss: 0.1464 Acc: 0.9725\n",
            "\n",
            "Epoch 43/99\n",
            "----------\n",
            "train: Loss: 0.0012 Acc: 0.9999\n",
            "val: Loss: 0.1943 Acc: 0.9703\n",
            "test: Loss: 0.1408 Acc: 0.9736\n",
            "\n",
            "Epoch 44/99\n",
            "----------\n",
            "train: Loss: 0.0011 Acc: 0.9999\n",
            "val: Loss: 0.2042 Acc: 0.9703\n",
            "test: Loss: 0.1490 Acc: 0.9714\n",
            "\n",
            "Epoch 45/99\n",
            "----------\n",
            "train: Loss: 0.0012 Acc: 0.9997\n",
            "val: Loss: 0.1999 Acc: 0.9703\n",
            "test: Loss: 0.1429 Acc: 0.9703\n",
            "\n",
            "Epoch 46/99\n",
            "----------\n",
            "train: Loss: 0.0013 Acc: 0.9999\n",
            "val: Loss: 0.2026 Acc: 0.9703\n",
            "test: Loss: 0.1440 Acc: 0.9725\n",
            "\n",
            "Epoch 47/99\n",
            "----------\n",
            "train: Loss: 0.0012 Acc: 0.9997\n",
            "val: Loss: 0.2043 Acc: 0.9703\n",
            "test: Loss: 0.1431 Acc: 0.9725\n",
            "\n",
            "Epoch 48/99\n",
            "----------\n",
            "train: Loss: 0.0015 Acc: 0.9997\n",
            "val: Loss: 0.2044 Acc: 0.9703\n",
            "test: Loss: 0.1485 Acc: 0.9703\n",
            "\n",
            "Epoch 49/99\n",
            "----------\n",
            "train: Loss: 0.0011 Acc: 0.9997\n",
            "val: Loss: 0.2023 Acc: 0.9692\n",
            "test: Loss: 0.1451 Acc: 0.9736\n",
            "\n",
            "Epoch 50/99\n",
            "----------\n",
            "train: Loss: 0.0010 Acc: 0.9999\n",
            "val: Loss: 0.2012 Acc: 0.9703\n",
            "test: Loss: 0.1516 Acc: 0.9692\n",
            "\n",
            "Epoch 51/99\n",
            "----------\n",
            "train: Loss: 0.0011 Acc: 0.9999\n",
            "val: Loss: 0.2011 Acc: 0.9703\n",
            "test: Loss: 0.1400 Acc: 0.9725\n",
            "\n",
            "Epoch 52/99\n",
            "----------\n",
            "train: Loss: 0.0010 Acc: 0.9999\n",
            "val: Loss: 0.1976 Acc: 0.9681\n",
            "test: Loss: 0.1486 Acc: 0.9725\n",
            "\n",
            "Epoch 53/99\n",
            "----------\n",
            "train: Loss: 0.0011 Acc: 0.9999\n",
            "val: Loss: 0.2055 Acc: 0.9692\n",
            "test: Loss: 0.1532 Acc: 0.9692\n",
            "\n",
            "Epoch 54/99\n",
            "----------\n",
            "train: Loss: 0.0010 Acc: 0.9999\n",
            "val: Loss: 0.1973 Acc: 0.9703\n",
            "test: Loss: 0.1417 Acc: 0.9736\n",
            "\n",
            "Epoch 55/99\n",
            "----------\n",
            "train: Loss: 0.0010 Acc: 0.9999\n",
            "val: Loss: 0.2001 Acc: 0.9703\n",
            "test: Loss: 0.1462 Acc: 0.9725\n",
            "\n",
            "Epoch 56/99\n",
            "----------\n",
            "train: Loss: 0.0013 Acc: 0.9999\n",
            "val: Loss: 0.1940 Acc: 0.9703\n",
            "test: Loss: 0.1407 Acc: 0.9736\n",
            "\n",
            "Epoch 57/99\n",
            "----------\n",
            "train: Loss: 0.0019 Acc: 0.9995\n",
            "val: Loss: 0.1996 Acc: 0.9714\n",
            "test: Loss: 0.1395 Acc: 0.9725\n",
            "\n",
            "Epoch 58/99\n",
            "----------\n",
            "train: Loss: 0.0010 Acc: 0.9999\n",
            "val: Loss: 0.2011 Acc: 0.9703\n",
            "test: Loss: 0.1419 Acc: 0.9714\n",
            "\n",
            "Epoch 59/99\n",
            "----------\n",
            "train: Loss: 0.0015 Acc: 0.9997\n",
            "val: Loss: 0.2030 Acc: 0.9703\n",
            "test: Loss: 0.1425 Acc: 0.9714\n",
            "\n",
            "Epoch 60/99\n",
            "----------\n",
            "train: Loss: 0.0014 Acc: 0.9999\n",
            "val: Loss: 0.1972 Acc: 0.9703\n",
            "test: Loss: 0.1409 Acc: 0.9725\n",
            "\n",
            "Epoch 61/99\n",
            "----------\n",
            "train: Loss: 0.0010 Acc: 0.9999\n",
            "val: Loss: 0.2043 Acc: 0.9703\n",
            "test: Loss: 0.1494 Acc: 0.9725\n",
            "\n",
            "Epoch 62/99\n",
            "----------\n",
            "train: Loss: 0.0010 Acc: 0.9999\n",
            "val: Loss: 0.1994 Acc: 0.9703\n",
            "test: Loss: 0.1439 Acc: 0.9703\n",
            "\n",
            "Epoch 63/99\n",
            "----------\n",
            "train: Loss: 0.0013 Acc: 0.9999\n",
            "val: Loss: 0.1991 Acc: 0.9714\n",
            "test: Loss: 0.1411 Acc: 0.9736\n",
            "\n",
            "Epoch 64/99\n",
            "----------\n",
            "train: Loss: 0.0011 Acc: 0.9999\n",
            "val: Loss: 0.2048 Acc: 0.9703\n",
            "test: Loss: 0.1395 Acc: 0.9725\n",
            "\n",
            "Epoch 65/99\n",
            "----------\n",
            "train: Loss: 0.0012 Acc: 0.9999\n",
            "val: Loss: 0.2020 Acc: 0.9692\n",
            "test: Loss: 0.1474 Acc: 0.9703\n",
            "\n",
            "Epoch 66/99\n",
            "----------\n",
            "train: Loss: 0.0011 Acc: 0.9999\n",
            "val: Loss: 0.2014 Acc: 0.9703\n",
            "test: Loss: 0.1446 Acc: 0.9736\n",
            "\n",
            "Epoch 67/99\n",
            "----------\n",
            "train: Loss: 0.0010 Acc: 0.9999\n",
            "val: Loss: 0.2073 Acc: 0.9703\n",
            "test: Loss: 0.1513 Acc: 0.9714\n",
            "\n",
            "Epoch 68/99\n",
            "----------\n",
            "train: Loss: 0.0010 Acc: 0.9999\n",
            "val: Loss: 0.1942 Acc: 0.9692\n",
            "test: Loss: 0.1449 Acc: 0.9736\n",
            "\n",
            "Epoch 69/99\n",
            "----------\n",
            "train: Loss: 0.0014 Acc: 0.9997\n",
            "val: Loss: 0.2058 Acc: 0.9703\n",
            "test: Loss: 0.1445 Acc: 0.9692\n",
            "\n",
            "Epoch 70/99\n",
            "----------\n",
            "train: Loss: 0.0012 Acc: 0.9999\n",
            "val: Loss: 0.2011 Acc: 0.9703\n",
            "test: Loss: 0.1482 Acc: 0.9725\n",
            "\n",
            "Epoch 71/99\n",
            "----------\n",
            "train: Loss: 0.0013 Acc: 0.9997\n",
            "val: Loss: 0.1981 Acc: 0.9703\n",
            "test: Loss: 0.1426 Acc: 0.9736\n",
            "\n",
            "Epoch 72/99\n",
            "----------\n",
            "train: Loss: 0.0013 Acc: 0.9997\n",
            "val: Loss: 0.1989 Acc: 0.9703\n",
            "test: Loss: 0.1452 Acc: 0.9758\n",
            "\n",
            "Epoch 73/99\n",
            "----------\n",
            "train: Loss: 0.0009 Acc: 0.9999\n",
            "val: Loss: 0.1998 Acc: 0.9703\n",
            "test: Loss: 0.1435 Acc: 0.9725\n",
            "\n",
            "Epoch 74/99\n",
            "----------\n",
            "train: Loss: 0.0018 Acc: 0.9997\n",
            "val: Loss: 0.1950 Acc: 0.9692\n",
            "test: Loss: 0.1434 Acc: 0.9703\n",
            "\n",
            "Epoch 75/99\n",
            "----------\n",
            "train: Loss: 0.0013 Acc: 0.9997\n",
            "val: Loss: 0.2075 Acc: 0.9703\n",
            "test: Loss: 0.1477 Acc: 0.9725\n",
            "\n",
            "Epoch 76/99\n",
            "----------\n",
            "train: Loss: 0.0011 Acc: 0.9999\n",
            "val: Loss: 0.1997 Acc: 0.9703\n",
            "test: Loss: 0.1416 Acc: 0.9714\n",
            "\n",
            "Epoch 77/99\n",
            "----------\n",
            "train: Loss: 0.0012 Acc: 0.9999\n",
            "val: Loss: 0.2085 Acc: 0.9703\n",
            "test: Loss: 0.1475 Acc: 0.9714\n",
            "\n",
            "Epoch 78/99\n",
            "----------\n",
            "train: Loss: 0.0013 Acc: 0.9997\n",
            "val: Loss: 0.1999 Acc: 0.9703\n",
            "test: Loss: 0.1478 Acc: 0.9714\n",
            "\n",
            "Epoch 79/99\n",
            "----------\n",
            "train: Loss: 0.0014 Acc: 0.9999\n",
            "val: Loss: 0.1966 Acc: 0.9703\n",
            "test: Loss: 0.1392 Acc: 0.9703\n",
            "\n",
            "Epoch 80/99\n",
            "----------\n",
            "train: Loss: 0.0014 Acc: 0.9999\n",
            "val: Loss: 0.2026 Acc: 0.9714\n",
            "test: Loss: 0.1445 Acc: 0.9747\n",
            "\n",
            "Epoch 81/99\n",
            "----------\n",
            "train: Loss: 0.0010 Acc: 0.9999\n",
            "val: Loss: 0.2002 Acc: 0.9703\n",
            "test: Loss: 0.1466 Acc: 0.9703\n",
            "\n",
            "Epoch 82/99\n",
            "----------\n",
            "train: Loss: 0.0011 Acc: 0.9999\n",
            "val: Loss: 0.1978 Acc: 0.9703\n",
            "test: Loss: 0.1442 Acc: 0.9736\n",
            "\n",
            "Epoch 83/99\n",
            "----------\n",
            "train: Loss: 0.0009 Acc: 0.9999\n",
            "val: Loss: 0.1927 Acc: 0.9714\n",
            "test: Loss: 0.1382 Acc: 0.9725\n",
            "\n",
            "Epoch 84/99\n",
            "----------\n",
            "train: Loss: 0.0014 Acc: 0.9997\n",
            "val: Loss: 0.1975 Acc: 0.9703\n",
            "test: Loss: 0.1418 Acc: 0.9736\n",
            "\n",
            "Epoch 85/99\n",
            "----------\n",
            "train: Loss: 0.0012 Acc: 0.9999\n",
            "val: Loss: 0.2034 Acc: 0.9703\n",
            "test: Loss: 0.1466 Acc: 0.9692\n",
            "\n",
            "Epoch 86/99\n",
            "----------\n",
            "train: Loss: 0.0010 Acc: 0.9999\n",
            "val: Loss: 0.2017 Acc: 0.9703\n",
            "test: Loss: 0.1461 Acc: 0.9692\n",
            "\n",
            "Epoch 87/99\n",
            "----------\n",
            "train: Loss: 0.0010 Acc: 1.0000\n",
            "val: Loss: 0.2018 Acc: 0.9703\n",
            "test: Loss: 0.1499 Acc: 0.9692\n",
            "\n",
            "Epoch 88/99\n",
            "----------\n",
            "train: Loss: 0.0010 Acc: 0.9999\n",
            "val: Loss: 0.1973 Acc: 0.9692\n",
            "test: Loss: 0.1469 Acc: 0.9747\n",
            "\n",
            "Epoch 89/99\n",
            "----------\n",
            "train: Loss: 0.0011 Acc: 0.9997\n",
            "val: Loss: 0.1980 Acc: 0.9703\n",
            "test: Loss: 0.1416 Acc: 0.9725\n",
            "\n",
            "Epoch 90/99\n",
            "----------\n",
            "train: Loss: 0.0011 Acc: 0.9999\n",
            "val: Loss: 0.2030 Acc: 0.9692\n",
            "test: Loss: 0.1463 Acc: 0.9714\n",
            "\n",
            "Epoch 91/99\n",
            "----------\n",
            "train: Loss: 0.0011 Acc: 0.9999\n",
            "val: Loss: 0.2006 Acc: 0.9703\n",
            "test: Loss: 0.1430 Acc: 0.9725\n",
            "\n",
            "Epoch 92/99\n",
            "----------\n",
            "train: Loss: 0.0010 Acc: 0.9999\n",
            "val: Loss: 0.1961 Acc: 0.9703\n",
            "test: Loss: 0.1415 Acc: 0.9714\n",
            "\n",
            "Epoch 93/99\n",
            "----------\n",
            "train: Loss: 0.0012 Acc: 0.9999\n",
            "val: Loss: 0.2030 Acc: 0.9703\n",
            "test: Loss: 0.1457 Acc: 0.9714\n",
            "\n",
            "Epoch 94/99\n",
            "----------\n",
            "train: Loss: 0.0010 Acc: 0.9999\n",
            "val: Loss: 0.2009 Acc: 0.9692\n",
            "test: Loss: 0.1430 Acc: 0.9714\n",
            "\n",
            "Epoch 95/99\n",
            "----------\n",
            "train: Loss: 0.0013 Acc: 0.9999\n",
            "val: Loss: 0.2020 Acc: 0.9703\n",
            "test: Loss: 0.1461 Acc: 0.9725\n",
            "\n",
            "Epoch 96/99\n",
            "----------\n",
            "train: Loss: 0.0012 Acc: 0.9999\n",
            "val: Loss: 0.1977 Acc: 0.9692\n",
            "test: Loss: 0.1442 Acc: 0.9736\n",
            "\n",
            "Epoch 97/99\n",
            "----------\n",
            "train: Loss: 0.0010 Acc: 0.9999\n",
            "val: Loss: 0.1964 Acc: 0.9703\n",
            "test: Loss: 0.1444 Acc: 0.9736\n",
            "\n",
            "Epoch 98/99\n",
            "----------\n",
            "train: Loss: 0.0010 Acc: 0.9999\n",
            "val: Loss: 0.1974 Acc: 0.9703\n",
            "test: Loss: 0.1419 Acc: 0.9736\n",
            "\n",
            "Epoch 99/99\n",
            "----------\n",
            "train: Loss: 0.0011 Acc: 0.9997\n",
            "val: Loss: 0.2020 Acc: 0.9703\n",
            "test: Loss: 0.1478 Acc: 0.9725\n",
            "\n",
            "Training complete in 323m7\n",
            "Best val Acc: 0.9736\n"
          ],
          "name": "stdout"
        }
      ]
    },
    {
      "cell_type": "markdown",
      "metadata": {
        "id": "RkcVmLH4yFW_"
      },
      "source": [
        "### 학습 결과 저장\r\n",
        "* pickle파일로 학습 결과를 저장한다\r\n",
        "* save_model_path = './results'"
      ]
    },
    {
      "cell_type": "code",
      "metadata": {
        "colab": {
          "base_uri": "https://localhost:8080/"
        },
        "id": "-kd2SHUNyEss",
        "outputId": "1bdda15a-ad52-412f-cd2c-43aa30c0c074"
      },
      "source": [
        "import os\r\n",
        "import pickle\r\n",
        "\r\n",
        "def make_dir(directory):\r\n",
        "    if not os.path.exists(directory):\r\n",
        "        os.makedirs(directory)\r\n",
        "\r\n",
        "save_model_path = './results/'\r\n",
        "make_dir(save_model_path)\r\n",
        "\r\n",
        "results = {'list_epoch': list_epoch,\r\n",
        "        'list_train_loss': list_train_loss,\r\n",
        "        'list_val_loss': list_val_loss,\r\n",
        "        'list_train_acc': list_train_acc,\r\n",
        "        'list_val_acc': list_val_acc ,\r\n",
        "        'list_test_acc': list_test_acc ,\r\n",
        "        'list_acc_epoch': list_acc_epoch}\r\n",
        "\r\n",
        "with open(save_model_path+'res-152_ft_results', 'wb') as fw:\r\n",
        "    pickle.dump(results, fw)\r\n",
        "print(\"Experiment results saved!\")"
      ],
      "execution_count": 69,
      "outputs": [
        {
          "output_type": "stream",
          "text": [
            "Experiment results saved!\n"
          ],
          "name": "stdout"
        }
      ]
    },
    {
      "cell_type": "code",
      "metadata": {
        "colab": {
          "base_uri": "https://localhost:8080/",
          "height": 161
        },
        "id": "MVOQdPLxEEzm",
        "outputId": "f0d22908-c49d-4ad9-8460-ca8265337476"
      },
      "source": [
        "# 학습 코드에 누락이 되어 수작업... -20.12.16.wed-\r\n",
        "'''\r\n",
        "list_train_acc = [0.6864, 0.8701, 0.9084,  0.9191, 0.9357,  0.9477, 0.9549, 0.9626, 0.9547, 0.9701,\r\n",
        "                  0.9902,  0.9949, 0.9962, 0.9977, 0.9984, 0.9982, 0.9986,  0.9990, 0.9993, 0.9996,\r\n",
        "                  0.9996, 0.9996, 0.9997, 0.9997, 0.9999, 0.9997, 0.9999, 0.9997, 0.9997, 0.9996,\r\n",
        "                  0.9999, 0.9999, 0.9997, 0.9997, 0.9999, 0.9999, 0.9999, 0.9999, 0.997, 0.9999,\r\n",
        "                  0.9997, 0.9999, 0.9997, 0.9999, 0.9999, 0.9997, 0.9999, 0.9997, 0.9997, 0.9997, \r\n",
        "                  0.9999, 0.9999, 0.9999, 0.9999, 0.9999, 0.9999, 0.9999, 0.9995, 0.9999, 0.9997, \r\n",
        "                  0.9999, 0.9999, 0.9999, 0.9999, 0.9999, 0.9999, 0.9999, 0.9999, 0.9999, 0.9997,\r\n",
        "                  0.9999, 0.9997, 0.9997, 0.9999, 0.9997, 0.9997, 0.9999, 0.9999, 0.9997, 0.9999,\r\n",
        "                  0.9999, 0.9999, 0.9999, 0.9999, 0.9997, 0.9999, 0.9999, 1.0000, 0.9999, 0.9997, \r\n",
        "                  0.9999, 0.9999, 0.9999, 0.9999, 0.9999, 0.9999, 0.9999, 0.9999, 0.9999, 0.9997]\r\n",
        "'''"
      ],
      "execution_count": 74,
      "outputs": [
        {
          "output_type": "execute_result",
          "data": {
            "application/vnd.google.colaboratory.intrinsic+json": {
              "type": "string"
            },
            "text/plain": [
              "'\\nlist_train_acc = [0.6864, 0.8701, 0.9084,  0.9191, 0.9357,  0.9477, 0.9549, 0.9626, 0.9547, 0.9701,\\n                  0.9902,  0.9949, 0.9962, 0.9977, 0.9984, 0.9982, 0.9986,  0.9990, 0.9993, 0.9996,\\n                  0.9996, 0.9996, 0.9997, 0.9997, 0.9999, 0.9997, 0.9999, 0.9997, 0.9997, 0.9996,\\n                  0.9999, 0.9999, 0.9997, 0.9997, 0.9999, 0.9999, 0.9999, 0.9999, 0.997, 0.9999,\\n                  0.9997, 0.9999, 0.9997, 0.9999, 0.9999, 0.9997, 0.9999, 0.9997, 0.9997, 0.9997, \\n                  0.9999, 0.9999, 0.9999, 0.9999, 0.9999, 0.9999, 0.9999, 0.9995, 0.9999, 0.9997, \\n                  0.9999, 0.9999, 0.9999, 0.9999, 0.9999, 0.9999, 0.9999, 0.9999, 0.9999, 0.9997,\\n                  0.9999, 0.9997, 0.9997, 0.9999, 0.9997, 0.9997, 0.9999, 0.9999, 0.9997, 0.9999,\\n                  0.9999, 0.9999, 0.9999, 0.9999, 0.9997, 0.9999, 0.9999, 1.0000, 0.9999, 0.9997, \\n                  0.9999, 0.9999, 0.9999, 0.9999, 0.9999, 0.9999, 0.9999, 0.9999, 0.9999, 0.9997]\\n'"
            ]
          },
          "metadata": {
            "tags": []
          },
          "execution_count": 74
        }
      ]
    },
    {
      "cell_type": "code",
      "metadata": {
        "colab": {
          "base_uri": "https://localhost:8080/"
        },
        "id": "f_uLXtqGz6hT",
        "outputId": "ddae8381-a724-4b5d-ec2f-32d890c787f7"
      },
      "source": [
        "# load data\r\n",
        "with open(save_model_path+'res-152_ft_results', 'rb') as fr:\r\n",
        "    results_dict = pickle.load(fr)\r\n",
        "\r\n",
        "# show data\r\n",
        "print(results_dict)"
      ],
      "execution_count": 70,
      "outputs": [
        {
          "output_type": "stream",
          "text": [
            "{'list_epoch': [0, 1, 2, 3, 4, 5, 6, 7, 8, 9, 10, 11, 12, 13, 14, 15, 16, 17, 18, 19, 20, 21, 22, 23, 24, 25, 26, 27, 28, 29, 30, 31, 32, 33, 34, 35, 36, 37, 38, 39, 40, 41, 42, 43, 44, 45, 46, 47, 48, 49, 50, 51, 52, 53, 54, 55, 56, 57, 58, 59, 60, 61, 62, 63, 64, 65, 66, 67, 68, 69, 70, 71, 72, 73, 74, 75, 76, 77, 78, 79, 80, 81, 82, 83, 84, 85, 86, 87, 88, 89, 90, 91, 92, 93, 94, 95, 96, 97, 98, 99], 'list_train_loss': [1.1523596298563612, 0.465714672764579, 0.32185463582953583, 0.277907022888066, 0.21869641294047892, 0.17046391023732313, 0.14796411035579865, 0.12644695278108734, 0.15245159521051632, 0.09736565383366094, 0.034991434733460114, 0.01983320492394601, 0.014847624075108408, 0.011225215020577698, 0.008488501955922642, 0.007281364474716951, 0.00633035405535738, 0.005061013823503275, 0.003830927005581363, 0.003630007153387251, 0.0029942486464038906, 0.002540961343638028, 0.001958416958088172, 0.0020535908689348265, 0.0015387090130269036, 0.0016750092916081884, 0.0014820987008903642, 0.001344896991636083, 0.0015399378544391235, 0.0019371655028567897, 0.0010627247278804774, 0.0013269178250114207, 0.0012774688426121668, 0.0013522818862379158, 0.000925261412279784, 0.0011670151992548, 0.0012621639856081526, 0.0013353122071138996, 0.0012606094083841507, 0.0009731920591148482, 0.0012930095972778573, 0.0012692435536477067, 0.0014330577996918361, 0.0012066298717569965, 0.0010628917207163844, 0.0012426305555236668, 0.001343209894134866, 0.0011781151056591346, 0.0014888149843180465, 0.001144593133048457, 0.0010164891805588623, 0.0010526857955373199, 0.00099657117571841, 0.0011345757367112977, 0.0010434812798358996, 0.0009540762654988602, 0.0013268113471765122, 0.001884174959667899, 0.0010043552798059273, 0.0015031189656943193, 0.0013996544826603405, 0.0009931756865696046, 0.0010416474334631078, 0.001327460503243556, 0.001066275785149548, 0.0011903728759294848, 0.0011298613309668577, 0.0009888862750443337, 0.001049221120031159, 0.0013740079885502673, 0.0011810215405553257, 0.0012968521252272754, 0.0012614609073902461, 0.0008890515603345373, 0.0018333254129344653, 0.00125081337447717, 0.0010740310293140983, 0.0011588031174826709, 0.001310984824606119, 0.0014090865717627402, 0.0014313225981423274, 0.0010489111613663897, 0.0010755720646527182, 0.0008958211561488557, 0.0014479357725117102, 0.0011853730523468514, 0.0009723548878555248, 0.0009769022043706122, 0.001011085600228418, 0.0011249326220242617, 0.001071987145964418, 0.0010747703348457874, 0.0010090330190445915, 0.0012048486584992314, 0.0010267151514059291, 0.001281352547089677, 0.0011958621891388467, 0.0010155970360941225, 0.0010388737905756627, 0.0010653641510134048], 'list_val_loss': [0.8198881421770369, 0.3749959779227828, 0.39500661221445427, 0.3419858545556173, 0.31350844987964893, 0.275338116036421, 0.22717411033860357, 0.23017566587039076, 0.351598291180946, 0.1985781774971286, 0.1647108064267201, 0.15676920449511203, 0.17369409406399047, 0.1733136413986398, 0.17673748119380503, 0.17963600637791627, 0.17608356718757512, 0.1838470995127424, 0.1929223073412956, 0.187991355954072, 0.19067744501341252, 0.19280649439581463, 0.19227912757227647, 0.18981138251924276, 0.192701840495739, 0.1937830646619749, 0.1994114954327425, 0.2024649730805822, 0.20169361624415774, 0.2012975260074809, 0.19851080591221573, 0.19671200210993178, 0.1961508693810134, 0.1991374362044673, 0.20153791821362824, 0.19677974599449993, 0.20341800196004411, 0.2005681548798128, 0.20126828787065829, 0.19218389210888076, 0.20155798669566738, 0.1991806372586295, 0.20011809927758964, 0.194349544769224, 0.20416445444427833, 0.1998879424320626, 0.202590664183167, 0.2043034445458873, 0.20439576471126303, 0.202309793112294, 0.2011736674662673, 0.20110470080509193, 0.19760661341836586, 0.20554054209342512, 0.19726951585348465, 0.20014782333862088, 0.19401499297373348, 0.19962592380379046, 0.2011445327695193, 0.20296467108098942, 0.1971755284100804, 0.2042848596650471, 0.1993539290982441, 0.1991100603081577, 0.20483777049283983, 0.20204599142808738, 0.20141149801816327, 0.20728321323396892, 0.19417340326601315, 0.20582313769244157, 0.20109019018530558, 0.198126604423769, 0.19889602488065766, 0.19983774500068358, 0.19496937645196968, 0.20751460188171672, 0.19972033993849786, 0.20849873476814476, 0.19989212438595533, 0.19661374143836507, 0.2025928922330582, 0.2002237903236304, 0.19780331039362284, 0.19273875812320243, 0.1975010180512642, 0.2034284559038217, 0.2017119494895139, 0.2017562230521185, 0.19730715483139127, 0.198046944755729, 0.20295804241261947, 0.2006461583395371, 0.19610110819819485, 0.20297831710541525, 0.2009497701663849, 0.20199472546668362, 0.19765279909381486, 0.19641494925601144, 0.19739852466003327, 0.20198038199335436], 'list_train_acc': [0.6864, 0.8701, 0.9084, 0.9191, 0.9357, 0.9477, 0.9549, 0.9626, 0.9547, 0.9701, 0.9902, 0.9949, 0.9962, 0.9977, 0.9984, 0.9982, 0.9986, 0.999, 0.9993, 0.9996, 0.9996, 0.9996, 0.9997, 0.9997, 0.9999, 0.9997, 0.9999, 0.9997, 0.9997, 0.9996, 0.9999, 0.9999, 0.9997, 0.9997, 0.9999, 0.9999, 0.9999, 0.9999, 0.997, 0.9999, 0.9997, 0.9999, 0.9997, 0.9999, 0.9999, 0.9997, 0.9999, 0.9997, 0.9997, 0.9997, 0.9999, 0.9999, 0.9999, 0.9999, 0.9999, 0.9999, 0.9999, 0.9995, 0.9999, 0.9997, 0.9999, 0.9999, 0.9999, 0.9999, 0.9999, 0.9999, 0.9999, 0.9999, 0.9999, 0.9997, 0.9999, 0.9997, 0.9997, 0.9999, 0.9997, 0.9997, 0.9999, 0.9999, 0.9997, 0.9999, 0.9999, 0.9999, 0.9999, 0.9999, 0.9997, 0.9999, 0.9999, 1.0, 0.9999, 0.9997, 0.9999, 0.9999, 0.9999, 0.9999, 0.9999, 0.9999, 0.9999, 0.9999, 0.9999, 0.9997], 'list_val_acc': [tensor(0.8066, device='cuda:0'), tensor(0.8956, device='cuda:0'), tensor(0.9077, device='cuda:0'), tensor(0.9066, device='cuda:0'), tensor(0.9066, device='cuda:0'), tensor(0.9363, device='cuda:0'), tensor(0.9385, device='cuda:0'), tensor(0.9451, device='cuda:0'), tensor(0.9099, device='cuda:0'), tensor(0.9582, device='cuda:0'), tensor(0.9670, device='cuda:0'), tensor(0.9681, device='cuda:0'), tensor(0.9648, device='cuda:0'), tensor(0.9648, device='cuda:0'), tensor(0.9648, device='cuda:0'), tensor(0.9648, device='cuda:0'), tensor(0.9659, device='cuda:0'), tensor(0.9670, device='cuda:0'), tensor(0.9659, device='cuda:0'), tensor(0.9736, device='cuda:0'), tensor(0.9714, device='cuda:0'), tensor(0.9703, device='cuda:0'), tensor(0.9703, device='cuda:0'), tensor(0.9681, device='cuda:0'), tensor(0.9703, device='cuda:0'), tensor(0.9692, device='cuda:0'), tensor(0.9692, device='cuda:0'), tensor(0.9692, device='cuda:0'), tensor(0.9692, device='cuda:0'), tensor(0.9714, device='cuda:0'), tensor(0.9703, device='cuda:0'), tensor(0.9703, device='cuda:0'), tensor(0.9703, device='cuda:0'), tensor(0.9692, device='cuda:0'), tensor(0.9692, device='cuda:0'), tensor(0.9703, device='cuda:0'), tensor(0.9703, device='cuda:0'), tensor(0.9692, device='cuda:0'), tensor(0.9703, device='cuda:0'), tensor(0.9703, device='cuda:0'), tensor(0.9703, device='cuda:0'), tensor(0.9703, device='cuda:0'), tensor(0.9703, device='cuda:0'), tensor(0.9703, device='cuda:0'), tensor(0.9703, device='cuda:0'), tensor(0.9703, device='cuda:0'), tensor(0.9703, device='cuda:0'), tensor(0.9703, device='cuda:0'), tensor(0.9703, device='cuda:0'), tensor(0.9692, device='cuda:0'), tensor(0.9703, device='cuda:0'), tensor(0.9703, device='cuda:0'), tensor(0.9681, device='cuda:0'), tensor(0.9692, device='cuda:0'), tensor(0.9703, device='cuda:0'), tensor(0.9703, device='cuda:0'), tensor(0.9703, device='cuda:0'), tensor(0.9714, device='cuda:0'), tensor(0.9703, device='cuda:0'), tensor(0.9703, device='cuda:0'), tensor(0.9703, device='cuda:0'), tensor(0.9703, device='cuda:0'), tensor(0.9703, device='cuda:0'), tensor(0.9714, device='cuda:0'), tensor(0.9703, device='cuda:0'), tensor(0.9692, device='cuda:0'), tensor(0.9703, device='cuda:0'), tensor(0.9703, device='cuda:0'), tensor(0.9692, device='cuda:0'), tensor(0.9703, device='cuda:0'), tensor(0.9703, device='cuda:0'), tensor(0.9703, device='cuda:0'), tensor(0.9703, device='cuda:0'), tensor(0.9703, device='cuda:0'), tensor(0.9692, device='cuda:0'), tensor(0.9703, device='cuda:0'), tensor(0.9703, device='cuda:0'), tensor(0.9703, device='cuda:0'), tensor(0.9703, device='cuda:0'), tensor(0.9703, device='cuda:0'), tensor(0.9714, device='cuda:0'), tensor(0.9703, device='cuda:0'), tensor(0.9703, device='cuda:0'), tensor(0.9714, device='cuda:0'), tensor(0.9703, device='cuda:0'), tensor(0.9703, device='cuda:0'), tensor(0.9703, device='cuda:0'), tensor(0.9703, device='cuda:0'), tensor(0.9692, device='cuda:0'), tensor(0.9703, device='cuda:0'), tensor(0.9692, device='cuda:0'), tensor(0.9703, device='cuda:0'), tensor(0.9703, device='cuda:0'), tensor(0.9703, device='cuda:0'), tensor(0.9692, device='cuda:0'), tensor(0.9703, device='cuda:0'), tensor(0.9692, device='cuda:0'), tensor(0.9703, device='cuda:0'), tensor(0.9703, device='cuda:0'), tensor(0.9703, device='cuda:0')], 'list_test_acc': [tensor(0.8209, device='cuda:0'), tensor(0.9055, device='cuda:0'), tensor(0.9198, device='cuda:0'), tensor(0.9110, device='cuda:0'), tensor(0.9088, device='cuda:0'), tensor(0.9418, device='cuda:0'), tensor(0.9462, device='cuda:0'), tensor(0.9396, device='cuda:0'), tensor(0.9275, device='cuda:0'), tensor(0.9527, device='cuda:0'), tensor(0.9659, device='cuda:0'), tensor(0.9659, device='cuda:0'), tensor(0.9648, device='cuda:0'), tensor(0.9648, device='cuda:0'), tensor(0.9681, device='cuda:0'), tensor(0.9681, device='cuda:0'), tensor(0.9670, device='cuda:0'), tensor(0.9703, device='cuda:0'), tensor(0.9692, device='cuda:0'), tensor(0.9714, device='cuda:0'), tensor(0.9703, device='cuda:0'), tensor(0.9714, device='cuda:0'), tensor(0.9703, device='cuda:0'), tensor(0.9703, device='cuda:0'), tensor(0.9692, device='cuda:0'), tensor(0.9714, device='cuda:0'), tensor(0.9692, device='cuda:0'), tensor(0.9703, device='cuda:0'), tensor(0.9692, device='cuda:0'), tensor(0.9769, device='cuda:0'), tensor(0.9714, device='cuda:0'), tensor(0.9725, device='cuda:0'), tensor(0.9714, device='cuda:0'), tensor(0.9725, device='cuda:0'), tensor(0.9725, device='cuda:0'), tensor(0.9714, device='cuda:0'), tensor(0.9692, device='cuda:0'), tensor(0.9714, device='cuda:0'), tensor(0.9725, device='cuda:0'), tensor(0.9725, device='cuda:0'), tensor(0.9747, device='cuda:0'), tensor(0.9703, device='cuda:0'), tensor(0.9725, device='cuda:0'), tensor(0.9736, device='cuda:0'), tensor(0.9714, device='cuda:0'), tensor(0.9703, device='cuda:0'), tensor(0.9725, device='cuda:0'), tensor(0.9725, device='cuda:0'), tensor(0.9703, device='cuda:0'), tensor(0.9736, device='cuda:0'), tensor(0.9692, device='cuda:0'), tensor(0.9725, device='cuda:0'), tensor(0.9725, device='cuda:0'), tensor(0.9692, device='cuda:0'), tensor(0.9736, device='cuda:0'), tensor(0.9725, device='cuda:0'), tensor(0.9736, device='cuda:0'), tensor(0.9725, device='cuda:0'), tensor(0.9714, device='cuda:0'), tensor(0.9714, device='cuda:0'), tensor(0.9725, device='cuda:0'), tensor(0.9725, device='cuda:0'), tensor(0.9703, device='cuda:0'), tensor(0.9736, device='cuda:0'), tensor(0.9725, device='cuda:0'), tensor(0.9703, device='cuda:0'), tensor(0.9736, device='cuda:0'), tensor(0.9714, device='cuda:0'), tensor(0.9736, device='cuda:0'), tensor(0.9692, device='cuda:0'), tensor(0.9725, device='cuda:0'), tensor(0.9736, device='cuda:0'), tensor(0.9758, device='cuda:0'), tensor(0.9725, device='cuda:0'), tensor(0.9703, device='cuda:0'), tensor(0.9725, device='cuda:0'), tensor(0.9714, device='cuda:0'), tensor(0.9714, device='cuda:0'), tensor(0.9714, device='cuda:0'), tensor(0.9703, device='cuda:0'), tensor(0.9747, device='cuda:0'), tensor(0.9703, device='cuda:0'), tensor(0.9736, device='cuda:0'), tensor(0.9725, device='cuda:0'), tensor(0.9736, device='cuda:0'), tensor(0.9692, device='cuda:0'), tensor(0.9692, device='cuda:0'), tensor(0.9692, device='cuda:0'), tensor(0.9747, device='cuda:0'), tensor(0.9725, device='cuda:0'), tensor(0.9714, device='cuda:0'), tensor(0.9725, device='cuda:0'), tensor(0.9714, device='cuda:0'), tensor(0.9714, device='cuda:0'), tensor(0.9714, device='cuda:0'), tensor(0.9725, device='cuda:0'), tensor(0.9736, device='cuda:0'), tensor(0.9736, device='cuda:0'), tensor(0.9736, device='cuda:0'), tensor(0.9725, device='cuda:0')], 'list_acc_epoch': [0, 1, 2, 3, 4, 5, 6, 7, 8, 9, 10, 11, 12, 13, 14, 15, 16, 17, 18, 19, 20, 21, 22, 23, 24, 25, 26, 27, 28, 29, 30, 31, 32, 33, 34, 35, 36, 37, 38, 39, 40, 41, 42, 43, 44, 45, 46, 47, 48, 49, 50, 51, 52, 53, 54, 55, 56, 57, 58, 59, 60, 61, 62, 63, 64, 65, 66, 67, 68, 69, 70, 71, 72, 73, 74, 75, 76, 77, 78, 79, 80, 81, 82, 83, 84, 85, 86, 87, 88, 89, 90, 91, 92, 93, 94, 95, 96, 97, 98, 99]}\n"
          ],
          "name": "stdout"
        }
      ]
    },
    {
      "cell_type": "code",
      "metadata": {
        "colab": {
          "base_uri": "https://localhost:8080/"
        },
        "id": "HDkX69FcA_np",
        "outputId": "06f4aede-98a6-48fc-ff69-7b9f384c51a7"
      },
      "source": [
        "print(len(results_dict['list_epoch']))\r\n",
        "print(len(results_dict['list_train_acc']))\r\n",
        "print(len(results_dict['list_val_acc']))"
      ],
      "execution_count": 71,
      "outputs": [
        {
          "output_type": "stream",
          "text": [
            "100\n",
            "100\n",
            "100\n"
          ],
          "name": "stdout"
        }
      ]
    },
    {
      "cell_type": "code",
      "metadata": {
        "colab": {
          "base_uri": "https://localhost:8080/",
          "height": 748
        },
        "id": "V6_ni-KW4vNq",
        "outputId": "6b8a9afa-2e43-424c-f0b0-ff5c18c1b077"
      },
      "source": [
        "fig = plt.figure(figsize=(15,12))\r\n",
        "\r\n",
        "# ====== Loss Fluctuation ====== #\r\n",
        "ax1 = fig.add_subplot(2, 2, 1)\r\n",
        "ax1.plot(results_dict['list_epoch'], results_dict['list_train_loss'], label='train_loss')\r\n",
        "ax1.plot(results_dict['list_epoch'], results_dict['list_val_loss'], '--', label='val_loss')\r\n",
        "ax1.set_xlabel('epoch')\r\n",
        "ax1.set_ylabel('loss')\r\n",
        "ax1.grid()\r\n",
        "ax1.legend()\r\n",
        "ax1.set_title('epoch vs loss')\r\n",
        "\r\n",
        "# ====== Metric Fluctuation ====== #\r\n",
        "ax2 = fig.add_subplot(2, 2, 2)\r\n",
        "ax2.plot(results_dict['list_acc_epoch'], results_dict['list_train_acc'], marker='x', label='Train Accuracy ')\r\n",
        "ax2.plot(results_dict['list_acc_epoch'], results_dict['list_val_acc'], marker='x', label='Val Accuracy')\r\n",
        "\r\n",
        "ax2.set_xlabel('epoch')\r\n",
        "ax2.set_ylabel('Acc')\r\n",
        "ax2.grid()\r\n",
        "ax2.legend()\r\n",
        "ax2.set_title('Train Accuracy vs Val Accuracy')\r\n",
        "\r\n",
        "# ====== Metric Fluctuation ====== #\r\n",
        "ax3 = fig.add_subplot(2, 2, 3)\r\n",
        "ax3.plot(results_dict['list_acc_epoch'], results_dict['list_train_acc'], marker='x', label='Train Accuracy ')\r\n",
        "ax3.plot(results_dict['list_acc_epoch'], results_dict['list_test_acc'], marker='x', label='Test Accuracy')\r\n",
        "\r\n",
        "ax3.set_xlabel('epoch')\r\n",
        "ax3.set_ylabel('Acc')\r\n",
        "ax3.grid()\r\n",
        "ax3.legend()\r\n",
        "ax3.set_title('Train Accuracy vs Test Accuracy')\r\n",
        "\r\n",
        "# ====== Metric Fluctuation ====== #\r\n",
        "ax4 = fig.add_subplot(2, 2, 4)\r\n",
        "ax4.plot(results_dict['list_acc_epoch'], results_dict['list_train_acc'], marker='x', label='Train Accuracy ')\r\n",
        "ax4.plot(results_dict['list_acc_epoch'], results_dict['list_val_acc'], marker='x', label='Val Accuracy')\r\n",
        "ax4.plot(results_dict['list_acc_epoch'], results_dict['list_test_acc'], marker='x', label='Test Accuracy')\r\n",
        "\r\n",
        "ax4.set_xlabel('epoch')\r\n",
        "ax4.set_ylabel('Acc')\r\n",
        "ax4.grid()\r\n",
        "ax4.legend()\r\n",
        "ax4.set_title('Train Accuracy, Val Accuracy, Test Accuracy')\r\n",
        "\r\n",
        "plt.savefig(save_model_path + './resnet152_FE.png')\r\n",
        "print(\"fig saved!\")\r\n",
        "plt.show()"
      ],
      "execution_count": 73,
      "outputs": [
        {
          "output_type": "stream",
          "text": [
            "fig saved!\n"
          ],
          "name": "stdout"
        },
        {
          "output_type": "display_data",
          "data": {
            "image/png": "[encoded data removed]",
            "text/plain": [
              "<Figure size 1080x864 with 4 Axes>"
            ]
          },
          "metadata": {
            "tags": [],
            "needs_background": "light"
          }
        }
      ]
    },
    {
      "cell_type": "markdown",
      "metadata": {
        "id": "lgWaqD9if3Ks"
      },
      "source": [
        "### 모델 예측값 시각화하기(Visualization)\r\n",
        "* reference: https://tutorials.pytorch.kr/beginner/transfer_learning_tutorial.html\r\n",
        "* 일부 이미지에 대한 예측값을 보여주는 일반화된 함수입니다.\r\n",
        "\r\n"
      ]
    },
    {
      "cell_type": "code",
      "metadata": {
        "id": "CKcCgPcr0OC0"
      },
      "source": [
        "def visualize_model(model, num_images=6):\r\n",
        "    was_training = model.training\r\n",
        "    model.eval()\r\n",
        "    images_so_far = 0\r\n",
        "    fig = plt.figure()\r\n",
        "\r\n",
        "    with torch.no_grad():\r\n",
        "        for i, (inputs, labels) in enumerate(dataloaders['val']):\r\n",
        "            inputs = inputs.to(device)\r\n",
        "            labels = labels.to(device)\r\n",
        "\r\n",
        "            output = model(inputs)\r\n",
        "            _, preds = torch.max(outputs, 1)\r\n",
        "\r\n",
        "            for j in range(inputs.size()[0]):\r\n",
        "                images_so_far += 1\r\n",
        "                ax = plt.subplot(num_images//2, 2, images_so_far)\r\n",
        "                ax.axis('off')\r\n",
        "                ax.set_title('predicted: {}'.format(class_names[preds[j]]))\r\n",
        "                imshow(inputs.cpu().data[j])"
      ],
      "execution_count": 75,
      "outputs": []
    },
    {
      "cell_type": "markdown",
      "metadata": {
        "id": "WoWXjrN2kjKx"
      },
      "source": [
        "위의 코드가 동작할지는 의문이다...호호"
      ]
    },
    {
      "cell_type": "code",
      "metadata": {
        "id": "2r8tjXizklHG"
      },
      "source": [
        ""
      ],
      "execution_count": null,
      "outputs": []
    }
  ]
}