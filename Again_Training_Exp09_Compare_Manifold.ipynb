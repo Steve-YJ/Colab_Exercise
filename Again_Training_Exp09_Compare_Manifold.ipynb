{
  "nbformat": 4,
  "nbformat_minor": 0,
  "metadata": {
    "colab": {
      "name": "Again_Training_Exp09_Compare_Manifold.ipynb",
      "provenance": [],
      "collapsed_sections": [],
      "machine_shape": "hm",
      "authorship_tag": "ABX9TyPZxwfm+owptDu+a1YtHqRv",
      "include_colab_link": true
    },
    "kernelspec": {
      "name": "python3",
      "display_name": "Python 3"
    },
    "accelerator": "GPU"
  },
  "cells": [
    {
      "cell_type": "markdown",
      "metadata": {
        "id": "view-in-github",
        "colab_type": "text"
      },
      "source": [
        "<a href=\"https://colab.research.google.com/github/Steve-YJ/Colab_Exercise/blob/master/Again_Training_Exp09_Compare_Manifold.ipynb\" target=\"_parent\"><img src=\"https://colab.research.google.com/assets/colab-badge.svg\" alt=\"Open In Colab\"/></a>"
      ]
    },
    {
      "cell_type": "markdown",
      "metadata": {
        "id": "unmaetS6775A",
        "colab_type": "text"
      },
      "source": [
        "# README.MD\n",
        "* After Training, Compare Manifold\n",
        "* Add \n",
        "    * just plot Manifold before training \n",
        "    * like <a href='https://www.notion.so/youngjoenlee/01-Zero-day-malware-detection-using-transferred-generative-adversarial-networks-based-on-deep-autoe-f8181f46b1234d91a6dfc9b98a758168'>this(My Notion)</a>\n",
        "* ✅ Check Point\n",
        "    * Keep training Exp05\n",
        "        * After Epoch 10, Train it\n",
        "        * Reduce Learning rate: 1e-5 to 1e-3\n",
        "\n",
        "\n",
        "## Reference\n",
        "* Reference repository: https://github.com/pytorch/examples/tree/master/vae\n",
        "\n",
        "* Reference for Visualization: https://github.com/tayden/VAE-Latent-Space-Explorer/blob/master/scripts/VAE.ipynb\n"
      ]
    },
    {
      "cell_type": "markdown",
      "metadata": {
        "id": "jhPpkglTjTwd",
        "colab_type": "text"
      },
      "source": [
        "## 00. Check GPU & Mount Drive\n",
        "* ! nvidia-smi\n",
        "* autoreload\n",
        "* google.colab drive module"
      ]
    },
    {
      "cell_type": "code",
      "metadata": {
        "id": "8XiHjsMD8MO2",
        "colab_type": "code",
        "colab": {
          "base_uri": "https://localhost:8080/",
          "height": 377
        },
        "outputId": "bb25db85-d920-4ed4-908f-32ab76e54fc1"
      },
      "source": [
        " ! nvidia-smi"
      ],
      "execution_count": 1,
      "outputs": [
        {
          "output_type": "stream",
          "text": [
            "Wed Jul 22 08:04:13 2020       \n",
            "+-----------------------------------------------------------------------------+\n",
            "| NVIDIA-SMI 450.51.05    Driver Version: 418.67       CUDA Version: 10.1     |\n",
            "|-------------------------------+----------------------+----------------------+\n",
            "| GPU  Name        Persistence-M| Bus-Id        Disp.A | Volatile Uncorr. ECC |\n",
            "| Fan  Temp  Perf  Pwr:Usage/Cap|         Memory-Usage | GPU-Util  Compute M. |\n",
            "|                               |                      |               MIG M. |\n",
            "|===============================+======================+======================|\n",
            "|   0  Tesla P100-PCIE...  Off  | 00000000:00:04.0 Off |                    0 |\n",
            "| N/A   38C    P0    27W / 250W |      0MiB / 16280MiB |      0%      Default |\n",
            "|                               |                      |                 ERR! |\n",
            "+-------------------------------+----------------------+----------------------+\n",
            "                                                                               \n",
            "+-----------------------------------------------------------------------------+\n",
            "| Processes:                                                                  |\n",
            "|  GPU   GI   CI        PID   Type   Process name                  GPU Memory |\n",
            "|        ID   ID                                                   Usage      |\n",
            "|=============================================================================|\n",
            "|  No running processes found                                                 |\n",
            "+-----------------------------------------------------------------------------+\n"
          ],
          "name": "stdout"
        }
      ]
    },
    {
      "cell_type": "code",
      "metadata": {
        "id": "cDUY6YNV8Vs9",
        "colab_type": "code",
        "colab": {
          "base_uri": "https://localhost:8080/",
          "height": 53
        },
        "outputId": "97d664ff-04ec-4b0a-9ebf-67aa15284765"
      },
      "source": [
        "%load_ext autoreload\n",
        "%autoreload 2"
      ],
      "execution_count": 6,
      "outputs": [
        {
          "output_type": "stream",
          "text": [
            "The autoreload extension is already loaded. To reload it, use:\n",
            "  %reload_ext autoreload\n"
          ],
          "name": "stdout"
        }
      ]
    },
    {
      "cell_type": "code",
      "metadata": {
        "id": "os9GS8R_KCWt",
        "colab_type": "code",
        "colab": {
          "base_uri": "https://localhost:8080/",
          "height": 127
        },
        "outputId": "5baeb9bd-f6c8-4176-89ee-0a9ff1f66015"
      },
      "source": [
        "# drive mount\n",
        "from google.colab import drive\n",
        "drive.mount('/content/drive', force_remount=True)"
      ],
      "execution_count": 7,
      "outputs": [
        {
          "output_type": "stream",
          "text": [
            "Go to this URL in a browser: https://accounts.google.com/o/oauth2/auth?client_id=947318989803-6bn6qk8qdgf4n4g3pfee6491hc0brc4i.apps.googleusercontent.com&redirect_uri=urn%3aietf%3awg%3aoauth%3a2.0%3aoob&response_type=code&scope=email%20https%3a%2f%2fwww.googleapis.com%2fauth%2fdocs.test%20https%3a%2f%2fwww.googleapis.com%2fauth%2fdrive%20https%3a%2f%2fwww.googleapis.com%2fauth%2fdrive.photos.readonly%20https%3a%2f%2fwww.googleapis.com%2fauth%2fpeopleapi.readonly\n",
            "\n",
            "Enter your authorization code:\n",
            "··········\n",
            "Mounted at /content/drive\n"
          ],
          "name": "stdout"
        }
      ]
    },
    {
      "cell_type": "code",
      "metadata": {
        "id": "4XeJBewoLDOr",
        "colab_type": "code",
        "colab": {
          "base_uri": "https://localhost:8080/",
          "height": 53
        },
        "outputId": "7b3ec79a-430b-4df7-a655-9cec5d6521f8"
      },
      "source": [
        "%cd drive/My\\ Drive/InfoSec_Summer_part2\n",
        "! pwd"
      ],
      "execution_count": 8,
      "outputs": [
        {
          "output_type": "stream",
          "text": [
            "/content/drive/My Drive/InfoSec_Summer_part2\n",
            "/content/drive/My Drive/InfoSec_Summer_part2\n"
          ],
          "name": "stdout"
        }
      ]
    },
    {
      "cell_type": "markdown",
      "metadata": {
        "id": "QdWHox3JaXdr",
        "colab_type": "text"
      },
      "source": [
        "## 01. Import Library"
      ]
    },
    {
      "cell_type": "code",
      "metadata": {
        "id": "8Dmz78nUKxGx",
        "colab_type": "code",
        "colab": {}
      },
      "source": [
        "%matplotlib inline \n",
        "from PIL import Image\n",
        "\n",
        "import matplotlib\n",
        "import matplotlib.pyplot as plt\n",
        "import matplotlib as mpl\n",
        " \n",
        "# https://towardsdatascience.com/visualising-high-dimensional-datasets-using-pca-and-t-sne-in-python-8ef87e7915b\n",
        "import seaborn as sns\n",
        "\n",
        "# save single numpy array\n",
        "# https://numpy.org/doc/stable/reference/generated/numpy.save.html#numpy.save\n",
        "from tempfile import TemporaryFile\n",
        "from sklearn.manifold import TSNE\n",
        "\n",
        "import torch\n",
        "import torch.utils.data\n",
        "\n",
        "from torch import nn, optim\n",
        "# from torch import optim\n",
        "from torch.nn import functional as F\n",
        "from torch.autograd import Variable\n",
        "from torch.utils.data import Dataset, DataLoader\n",
        "\n",
        "import numpy as np\n",
        "import pandas as pd\n",
        "\n",
        "import torchvision\n",
        "from torchvision import datasets, transforms  # for data preprocessing\n",
        "from torchvision.utils import save_image"
      ],
      "execution_count": 10,
      "outputs": []
    },
    {
      "cell_type": "markdown",
      "metadata": {
        "id": "piAH_1eCafJC",
        "colab_type": "text"
      },
      "source": [
        "## 02. Data Preprocessing\n",
        "* Load dataset\n",
        "* preprocess it\n",
        "    * transforms\n",
        "    * make custom dataset\n",
        "    * train_test split: <code>torch.utils.data.random_split</code>\n",
        "    * train_test_loader\n",
        "\n",
        "### Work Flow\n",
        "* transforms module 사용해서 image data compose 하기\n",
        "    * size 조정, normalize, tensor 변환\n",
        "* ImageFolder를 이용해 dataload\n",
        "* dataset split: train dataset, test dataset\n",
        "* DataLoader로 batch단위 dataset 불러오기"
      ]
    },
    {
      "cell_type": "code",
      "metadata": {
        "id": "05u2akkWKR4x",
        "colab_type": "code",
        "colab": {}
      },
      "source": [
        "transforms = transforms.Compose([\n",
        "                                transforms.Resize((224, 224)),                # Change size of Image to (224, 224)\n",
        "                                transforms.Grayscale(num_output_channels=1),  # Makes it 1-dimension channel\n",
        "                                transforms.ToTensor(),                        # Convert a PIL Image or numpy.ndarray to tensor.\n",
        "                                                                              # Converts a PIL Image or numpy.ndarray (H x W x C) in the range [0, 255] to a torch.FloatTensor of shape (C x H x W) in the range [0.0, 1.0] if the PIL Image belongs to one of the modes (L, LA, P, I, F, RGB, YCbCr, RGBA, CMYK, 1) or if the numpy.ndarray has dtype = np.uint8\n",
        "                                                                              # In the other cases, tensors are returned without scaling.\n",
        "                                # transforms.Normalize(mean=[0.5], std=[0.5]),\n",
        "                                \n",
        "                                ])\n",
        "\n",
        "# make custom dataset\n",
        "# use: torchvision.datasets.ImageFolder()\n",
        "trainset = torchvision.datasets.ImageFolder(root='../InformationSecurity_Summer/malimg',\n",
        "                                            transform=transforms)  # make custom dataset"
      ],
      "execution_count": 11,
      "outputs": []
    },
    {
      "cell_type": "code",
      "metadata": {
        "id": "UdfkHTBrgA5U",
        "colab_type": "code",
        "colab": {
          "base_uri": "https://localhost:8080/",
          "height": 179
        },
        "outputId": "0c624e8f-5078-4a47-9071-ae12d59afd07"
      },
      "source": [
        "trainset"
      ],
      "execution_count": 12,
      "outputs": [
        {
          "output_type": "execute_result",
          "data": {
            "text/plain": [
              "Dataset ImageFolder\n",
              "    Number of datapoints: 9339\n",
              "    Root location: ../InformationSecurity_Summer/malimg\n",
              "    StandardTransform\n",
              "Transform: Compose(\n",
              "               Resize(size=(224, 224), interpolation=PIL.Image.BILINEAR)\n",
              "               Grayscale(num_output_channels=1)\n",
              "               ToTensor()\n",
              "           )"
            ]
          },
          "metadata": {
            "tags": []
          },
          "execution_count": 12
        }
      ]
    },
    {
      "cell_type": "code",
      "metadata": {
        "id": "lx1-yQH1KutR",
        "colab_type": "code",
        "colab": {
          "base_uri": "https://localhost:8080/",
          "height": 467
        },
        "outputId": "80f5efad-2f58-4c99-b3e0-c14d08ef689b"
      },
      "source": [
        "# classes = trainset.classes\n",
        "classes = trainset.classes\n",
        "classes"
      ],
      "execution_count": 13,
      "outputs": [
        {
          "output_type": "execute_result",
          "data": {
            "text/plain": [
              "['Adialer.C',\n",
              " 'Agent.FYI',\n",
              " 'Allaple.A',\n",
              " 'Allaple.L',\n",
              " 'Alueron.gen!J',\n",
              " 'Autorun.K',\n",
              " 'C2LOP.P',\n",
              " 'C2LOP.gen!g',\n",
              " 'Dialplatform.B',\n",
              " 'Dontovo.A',\n",
              " 'Fakerean',\n",
              " 'Instantaccess',\n",
              " 'Lolyda.AA1',\n",
              " 'Lolyda.AA2',\n",
              " 'Lolyda.AA3',\n",
              " 'Lolyda.AT',\n",
              " 'Malex.gen!J',\n",
              " 'Obfuscator.AD',\n",
              " 'Rbot!gen',\n",
              " 'Skintrim.N',\n",
              " 'Swizzor.gen!E',\n",
              " 'Swizzor.gen!I',\n",
              " 'VB.AT',\n",
              " 'Wintrim.BX',\n",
              " 'Yuner.A']"
            ]
          },
          "metadata": {
            "tags": []
          },
          "execution_count": 13
        }
      ]
    },
    {
      "cell_type": "markdown",
      "metadata": {
        "id": "iob7mucglcRf",
        "colab_type": "text"
      },
      "source": [
        "### Train, Test Split"
      ]
    },
    {
      "cell_type": "code",
      "metadata": {
        "id": "mB6yE7h9Lu9A",
        "colab_type": "code",
        "colab": {
          "base_uri": "https://localhost:8080/",
          "height": 35
        },
        "outputId": "d62c5a79-3b09-444b-f4f1-4a905aa7abed"
      },
      "source": [
        "full_dataset = trainset\n",
        "train_size = int(0.8 * len(full_dataset))\n",
        "test_size = len(full_dataset) - train_size\n",
        "print(train_size, test_size)\n",
        "\n",
        "# train_test split\n",
        "# use: torch.utils.data.random_split()\n",
        "train_dataset, test_dataset = torch.utils.data.random_split(full_dataset, [train_size, test_size])"
      ],
      "execution_count": 14,
      "outputs": [
        {
          "output_type": "stream",
          "text": [
            "7471 1868\n"
          ],
          "name": "stdout"
        }
      ]
    },
    {
      "cell_type": "markdown",
      "metadata": {
        "id": "MoaWuIzqleBb",
        "colab_type": "text"
      },
      "source": [
        "### Make Train, Test Loader"
      ]
    },
    {
      "cell_type": "code",
      "metadata": {
        "id": "GvaDlRrGLm5N",
        "colab_type": "code",
        "colab": {}
      },
      "source": [
        "# make train_loader & test_loader\n",
        "batch_size = 16\n",
        "\n",
        "train_loader = DataLoader(train_dataset,\n",
        "                         batch_size=batch_size,\n",
        "                         shuffle=True,\n",
        "                         pin_memory=True) \n",
        "test_loader = DataLoader(test_dataset,\n",
        "                        batch_size=batch_size,\n",
        "                        shuffle=True,\n",
        "                        pin_memory=True)  # Instead, we recommend using automatic memory pinning (i.e., setting pin_memory=True)\n",
        "                                          #  which enables fast data transfer to CUDA-enabled GPUs\n",
        "\n",
        "# First, insert all test dataset\n",
        "# test_loader_10: testloader for latent vector visualization\n",
        "# In this(Exp09)_we compare test_loader_10 before & after training -20.07.09.Thur-\n",
        "test_loader_10 = DataLoader(test_dataset,\n",
        "                        batch_size=1868,\n",
        "                        shuffle=True,\n",
        "                        pin_memory=True)"
      ],
      "execution_count": 16,
      "outputs": []
    },
    {
      "cell_type": "code",
      "metadata": {
        "id": "Hzwh_FveLziU",
        "colab_type": "code",
        "colab": {}
      },
      "source": [
        "def imshow(img):\n",
        "    img = img / 2 + 0.5  # unnormalize\n",
        "    np_img = img.numpy()\n",
        "\n",
        "    plt.imshow(np.transpose(np_img, (1, 2, 0)))  # Convert (C, W, H) to (W, H, C)\n",
        "\n",
        "    print(np_img.shape)  # np_img shape\n",
        "    print((np.transpose(np_img, (1, 2, 0))).shape)  # transposed shape "
      ],
      "execution_count": 17,
      "outputs": []
    },
    {
      "cell_type": "code",
      "metadata": {
        "id": "O7dFOopxMBpA",
        "colab_type": "code",
        "colab": {
          "base_uri": "https://localhost:8080/",
          "height": 35
        },
        "outputId": "12bd0079-5cb5-492f-bb5a-b55e48133bf5"
      },
      "source": [
        "dataiter = iter(train_loader)\n",
        "images, labels = dataiter.next()\n",
        "print(labels)"
      ],
      "execution_count": 18,
      "outputs": [
        {
          "output_type": "stream",
          "text": [
            "tensor([ 2,  3,  2, 18,  3, 18,  1,  3,  2,  2, 24, 13,  2, 18,  2, 21])\n"
          ],
          "name": "stdout"
        }
      ]
    },
    {
      "cell_type": "code",
      "metadata": {
        "id": "1xkethBEMCzi",
        "colab_type": "code",
        "colab": {
          "base_uri": "https://localhost:8080/",
          "height": 397
        },
        "outputId": "f3a312d5-ff97-446b-8369-eb7fa5f8d4d7"
      },
      "source": [
        "print(images.shape)\n",
        "imshow(torchvision.utils.make_grid(images, nrow=4))\n",
        "print(images.shape)\n",
        "print((torchvision.utils.make_grid(images)).shape)\n",
        "print(\"\".join(\"%5s \"%classes[labels[j]] for j in range(16)))"
      ],
      "execution_count": 19,
      "outputs": [
        {
          "output_type": "stream",
          "text": [
            "torch.Size([16, 1, 224, 224])\n",
            "(3, 906, 906)\n",
            "(906, 906, 3)\n",
            "torch.Size([16, 1, 224, 224])\n",
            "torch.Size([3, 454, 1810])\n",
            "Allaple.A Allaple.L Allaple.A Rbot!gen Allaple.L Rbot!gen Agent.FYI Allaple.L Allaple.A Allaple.A Yuner.A Lolyda.AA2 Allaple.A Rbot!gen Allaple.A Swizzor.gen!I \n"
          ],
          "name": "stdout"
        },
        {
          "output_type": "display_data",
          "data": {
            "image/png": "[encoded data removed]",
            "text/plain": [
              "<Figure size 432x288 with 1 Axes>"
            ]
          },
          "metadata": {
            "tags": [],
            "needs_background": "light"
          }
        }
      ]
    },
    {
      "cell_type": "markdown",
      "metadata": {
        "id": "i0K7aSEKd3PD",
        "colab_type": "text"
      },
      "source": [
        "## 03. Define VAE Class\n",
        "* Initialize\n",
        "    * (224, 224) input 이미지를 통해 1차원 100개의 latent vector를 생성하는 Encoder네트워크 정의\n",
        "    * 100개의 latent vector로부터 X_hat을 복원하는 Decoder Network 정의\n",
        "* encode\n",
        "* reparameterize\n",
        "* decode\n",
        "* forward"
      ]
    },
    {
      "cell_type": "markdown",
      "metadata": {
        "id": "d8ubWj-KXZUi",
        "colab_type": "text"
      },
      "source": [
        "일단 출력을 해보고"
      ]
    },
    {
      "cell_type": "code",
      "metadata": {
        "id": "8LcRnBGez7JL",
        "colab_type": "code",
        "colab": {
          "base_uri": "https://localhost:8080/",
          "height": 35
        },
        "outputId": "9b90f728-6083-4ba7-aacc-9dc813dbd9cf"
      },
      "source": [
        "for i, (data, _) in enumerate(test_loader_10):  # load_whole test_data\n",
        "    print(i, data.shape, _.shape)"
      ],
      "execution_count": 20,
      "outputs": [
        {
          "output_type": "stream",
          "text": [
            "0 torch.Size([1868, 1, 224, 224]) torch.Size([1868])\n"
          ],
          "name": "stdout"
        }
      ]
    },
    {
      "cell_type": "markdown",
      "metadata": {
        "id": "smJTDdgIXbQ5",
        "colab_type": "text"
      },
      "source": [
        "출력결과: 음... 이정도면 괜찮군요!"
      ]
    },
    {
      "cell_type": "markdown",
      "metadata": {
        "id": "OvrVHo7JRhiO",
        "colab_type": "text"
      },
      "source": [
        "Just use this code?"
      ]
    },
    {
      "cell_type": "code",
      "metadata": {
        "id": "DduksGCTRhS7",
        "colab_type": "code",
        "colab": {
          "base_uri": "https://localhost:8080/",
          "height": 913
        },
        "outputId": "43d33573-8c7c-4aed-be62-addc9e1167ea"
      },
      "source": [
        "# make empty \n",
        "\n",
        "for i, (data, _) in enumerate(test_loader_10):  # load_whole test_data\n",
        "    # data = data.to(device)\n",
        "    # recon_batch, mu, logvar, z = model(data)\n",
        "# save latent_vector per 10 Epochs\n",
        "    # latent_vector = z.detach().cpu().clone().numpy()  # change tensor type data to cpu().numpy()\n",
        "                                                        # latent_vector_size: (num_of_data, 100)\n",
        "    # color_palette = _.detach().cpu().clone().numpy()\n",
        "\n",
        "    original_vector = data.detach().cpu().clone().numpy()\n",
        "    print(original_vector.shape)\n",
        "    latent_vector = np.reshape(original_vector, (1868, 224*224))  # Exp09_latent_vector ==> not latent vector\n",
        "                                                                  # just for checking manifold\n",
        "                                                                  # 이 코드가 이해가 안가네... reshape을 왜 해줬지?\n",
        "                                                                  # 위의 Cell에서 print를 해보면 test_loader로부터 불러온 데이터의 shape이\n",
        "                                                                  # [1868, 1, 224, 224]이기 때문이다.\n",
        "                                                                  # TSNE알고리즘을 사용하기 위해서는 (Num_data, Num_features)의 형태로 변환해주어야 한다\n",
        "    print(latent_vector.shape)\n",
        "    color_palette = _.detach().cpu().clone().numpy()\n",
        "\n",
        "    # plot original test_data data\n",
        "    # t-SNE for Dimensionality reduction\n",
        "    Z_embedded = TSNE(n_components=2).fit_transform(latent_vector)\n",
        "    \n",
        "    fig, ax = plt.subplots(1, 1, figsize=(6, 6))  # setup the plot\n",
        "\n",
        "    x = Z_embedded[:, 0]\n",
        "    y = Z_embedded[:, 1]\n",
        "    label = color_palette\n",
        "    # label[10:12] = 0  # make sure there are some 0 values to show up as grey\n",
        "    print(\"==\"*20, \"params\", \"==\"*20)\n",
        "    print(\"Z_embedded.shape:\", Z_embedded.shape)\n",
        "    print(\"label.shape:\", label.shape)\n",
        "    # tsne_data = np.vstack((Z_embedded, label))\n",
        "    tsne_data = np.c_[Z_embedded, label]\n",
        "    tsne_df = pd.DataFrame(data=tsne_data, columns=(\"Dim_1\", \"Dim_2\", \"label\"))\n",
        "    sns.FacetGrid(tsne_df, hue=\"label\", size=6).map(plt.scatter, 'Dim_1', 'Dim_2').add_legend()\n",
        "    plt.savefig('./Exp09_results/plot_latent_vector/_t_SNE.png', dpi=300)\n",
        "    plt.show()"
      ],
      "execution_count": null,
      "outputs": [
        {
          "output_type": "stream",
          "text": [
            "======================================== params ========================================\n",
            "Z_embedded.shape: (1868, 2)\n",
            "label.shape: (1868,)\n"
          ],
          "name": "stdout"
        },
        {
          "output_type": "stream",
          "text": [
            "/usr/local/lib/python3.6/dist-packages/seaborn/axisgrid.py:243: UserWarning: The `size` parameter has been renamed to `height`; please update your code.\n",
            "  warnings.warn(msg, UserWarning)\n"
          ],
          "name": "stderr"
        },
        {
          "output_type": "display_data",
          "data": {
            "image/png": "[encoded data removed]",
            "text/plain": [
              "<Figure size 432x432 with 1 Axes>"
            ]
          },
          "metadata": {
            "tags": [],
            "needs_background": "light"
          }
        },
        {
          "output_type": "display_data",
          "data": {
            "image/png": "[encoded data removed]",
            "text/plain": [
              "<Figure size 490.25x432 with 1 Axes>"
            ]
          },
          "metadata": {
            "tags": [],
            "needs_background": "light"
          }
        }
      ]
    },
    {
      "cell_type": "markdown",
      "metadata": {
        "id": "E9-T73v3fq0P",
        "colab_type": "text"
      },
      "source": [
        "### 추가실험\n",
        "(1868, 1, 224, 224)의 데이터를 그대로 학습시켰을 때는 Data의 Manifold를 잘 학습하지 못한다는 것을 알 수 있었다!\n",
        "\n",
        "* 20.07.09.Thur.\n",
        "* 추가실험"
      ]
    },
    {
      "cell_type": "code",
      "metadata": {
        "id": "yPYhs4N8Z8ZW",
        "colab_type": "code",
        "colab": {}
      },
      "source": [
        ""
      ],
      "execution_count": null,
      "outputs": []
    }
  ]
}