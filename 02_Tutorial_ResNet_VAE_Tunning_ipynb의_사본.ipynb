{
  "nbformat": 4,
  "nbformat_minor": 0,
  "metadata": {
    "colab": {
      "name": "02.Tutorial-ResNet-VAE-Tunning.ipynb의 사본",
      "provenance": [],
      "collapsed_sections": [],
      "machine_shape": "hm",
      "authorship_tag": "ABX9TyOy8dlUYnFlyg7QbDIJENgk",
      "include_colab_link": true
    },
    "kernelspec": {
      "name": "python3",
      "display_name": "Python 3"
    },
    "accelerator": "GPU"
  },
  "cells": [
    {
      "cell_type": "markdown",
      "metadata": {
        "id": "view-in-github",
        "colab_type": "text"
      },
      "source": [
        "<a href=\"https://colab.research.google.com/github/Steve-YJ/Colab_Exercise/blob/master/02_Tutorial_ResNet_VAE_Tunning_ipynb%EC%9D%98_%EC%82%AC%EB%B3%B8.ipynb\" target=\"_parent\"><img src=\"https://colab.research.google.com/assets/colab-badge.svg\" alt=\"Open In Colab\"/></a>"
      ]
    },
    {
      "cell_type": "markdown",
      "metadata": {
        "id": "BF2mQr8fdBJE",
        "colab_type": "text"
      },
      "source": [
        "# README.MD\n",
        "\n",
        "* Post-InfoSec-Exp\n",
        "* Continue:\n",
        "    * 01.Tutorial-ResNet-VAE -Epoch5\n",
        "    * Reduce Learning Rate\n",
        "\n",
        "* Fix Error:\n",
        "    * CUDA OOM(Out of Memory) Error Handling\n"
      ]
    },
    {
      "cell_type": "markdown",
      "metadata": {
        "id": "RcIG0ad7a63U",
        "colab_type": "text"
      },
      "source": [
        "* mount drive"
      ]
    },
    {
      "cell_type": "code",
      "metadata": {
        "id": "-vbYVvoNa35z",
        "colab_type": "code",
        "colab": {
          "base_uri": "https://localhost:8080/",
          "height": 35
        },
        "outputId": "1b6de5f0-651d-4812-efd5-263ca4720112"
      },
      "source": [
        "# drive mount\n",
        "\n",
        "from google.colab import drive\n",
        "drive.mount('/content/drive', force_remount=True)"
      ],
      "execution_count": 1,
      "outputs": [
        {
          "output_type": "stream",
          "text": [
            "Mounted at /content/drive\n"
          ],
          "name": "stdout"
        }
      ]
    },
    {
      "cell_type": "code",
      "metadata": {
        "id": "w2t5puLibOGo",
        "colab_type": "code",
        "colab": {}
      },
      "source": [
        "%load_ext autoreload\n",
        "%autoreload 2"
      ],
      "execution_count": 2,
      "outputs": []
    },
    {
      "cell_type": "code",
      "metadata": {
        "id": "5lGGE4xtb59M",
        "colab_type": "code",
        "colab": {
          "base_uri": "https://localhost:8080/",
          "height": 233
        },
        "outputId": "bb173c9c-5e54-40ce-f178-b2ef72fbd1bd"
      },
      "source": [
        "%cd drive/My\\ Drive/Post_InfoSec_Exps/ResNet-VAE/ResNetVAE-master.zip (Unzipped Files)/ResNetVAE-master\n",
        "! ls"
      ],
      "execution_count": 3,
      "outputs": [
        {
          "output_type": "stream",
          "text": [
            "/content/drive/My Drive/Post_InfoSec_Exps/ResNet-VAE/ResNetVAE-master.zip (Unzipped Files)/ResNetVAE-master\n",
            "'01.Tutorial-ResNet-VAE.ipynb의 사본'\t        README.md\n",
            " 01.Tutorial-ResNet-VAE-Recon.ipynb\t        recon_sampling\n",
            " 02.Tutorial-ResNet-VAE-Tunning.ipynb\t        reconstruction_Malimg.png\n",
            "'02.Tutorial-ResNet-VAE-Tunning.ipynb의 사본'   ResNetVAE_cifar10.py\n",
            " fig\t\t\t\t\t        ResNetVAE_FACE.py\n",
            " generated_Malimg.png\t\t\t        ResNetVAE_MNIST.py\n",
            " modules.py\t\t\t\t        ResNetVAE_reconstruction.ipynb\n",
            " plot_latent.ipynb\t\t\t        results_Malimg\n",
            " plot_latent_vector\t\t\t        results_Malimg_Exp2\n",
            " plot_train_test_loss\t\t\t        results_Malimg_Exp3\n",
            " __pycache__\n"
          ],
          "name": "stdout"
        }
      ]
    },
    {
      "cell_type": "code",
      "metadata": {
        "id": "5kWi4H8N3Hxp",
        "colab_type": "code",
        "colab": {
          "base_uri": "https://localhost:8080/",
          "height": 35
        },
        "outputId": "488858ae-89e1-45ef-c1f3-92c78494b7cf"
      },
      "source": [
        "import os\n",
        "\n",
        "path = os.getcwd()\n",
        "path"
      ],
      "execution_count": 4,
      "outputs": [
        {
          "output_type": "execute_result",
          "data": {
            "application/vnd.google.colaboratory.intrinsic+json": {
              "type": "string"
            },
            "text/plain": [
              "'/content/drive/My Drive/Post_InfoSec_Exps/ResNet-VAE/ResNetVAE-master.zip (Unzipped Files)/ResNetVAE-master'"
            ]
          },
          "metadata": {
            "tags": []
          },
          "execution_count": 4
        }
      ]
    },
    {
      "cell_type": "code",
      "metadata": {
        "id": "Vq9FMXL9vb0A",
        "colab_type": "code",
        "colab": {
          "base_uri": "https://localhost:8080/",
          "height": 35
        },
        "outputId": "0ec448df-5fc9-491a-a5ed-65c2f9ae3bdf"
      },
      "source": [
        "path = path + '/results_Malimg_Exp3'\n",
        "path"
      ],
      "execution_count": 5,
      "outputs": [
        {
          "output_type": "execute_result",
          "data": {
            "application/vnd.google.colaboratory.intrinsic+json": {
              "type": "string"
            },
            "text/plain": [
              "'/content/drive/My Drive/Post_InfoSec_Exps/ResNet-VAE/ResNetVAE-master.zip (Unzipped Files)/ResNetVAE-master/results_Malimg_Exp3'"
            ]
          },
          "metadata": {
            "tags": []
          },
          "execution_count": 5
        }
      ]
    },
    {
      "cell_type": "code",
      "metadata": {
        "id": "RnXFGN4M3Bvx",
        "colab_type": "code",
        "colab": {}
      },
      "source": [
        "\n",
        "# make directory\n",
        "# 실험을 한 번 끝낸 이후로는 사용 x\n",
        "\n",
        "\n",
        "def makedir(dirname):\n",
        "    \n",
        "    try:\n",
        "        os.mkdir(path + '/' + dirname)\n",
        "        print(\"Successfully created the directory in %s\" % path)\n",
        "    except OSError:\n",
        "        print('Failed !!')\n",
        "        print(\"Creation of the directory %s failed\" % path)\n",
        "    else:\n",
        "        # print(\"Successfully created the directory %s\" % path)\n",
        "        pass\n",
        "    return\n",
        "\n",
        "dir_list = ['recon_sampling', 'plot_train_test_loss', 'plot_latent_vector']"
      ],
      "execution_count": 6,
      "outputs": []
    },
    {
      "cell_type": "code",
      "metadata": {
        "id": "cQ4vJvX-xFne",
        "colab_type": "code",
        "colab": {
          "base_uri": "https://localhost:8080/",
          "height": 343
        },
        "outputId": "eea6d02c-259b-4881-8997-532a48a1c168"
      },
      "source": [
        "for i in range(len(dir_list)):\n",
        "    # print(dir_list[i])\n",
        "    # print(path + '/' + dir_list[i])\n",
        "    makedir(dir_list[i])\n",
        "! ls"
      ],
      "execution_count": 7,
      "outputs": [
        {
          "output_type": "stream",
          "text": [
            "Failed !!\n",
            "Creation of the directory /content/drive/My Drive/Post_InfoSec_Exps/ResNet-VAE/ResNetVAE-master.zip (Unzipped Files)/ResNetVAE-master/results_Malimg_Exp3 failed\n",
            "Failed !!\n",
            "Creation of the directory /content/drive/My Drive/Post_InfoSec_Exps/ResNet-VAE/ResNetVAE-master.zip (Unzipped Files)/ResNetVAE-master/results_Malimg_Exp3 failed\n",
            "Failed !!\n",
            "Creation of the directory /content/drive/My Drive/Post_InfoSec_Exps/ResNet-VAE/ResNetVAE-master.zip (Unzipped Files)/ResNetVAE-master/results_Malimg_Exp3 failed\n",
            "'01.Tutorial-ResNet-VAE.ipynb의 사본'\t        README.md\n",
            " 01.Tutorial-ResNet-VAE-Recon.ipynb\t        recon_sampling\n",
            " 02.Tutorial-ResNet-VAE-Tunning.ipynb\t        reconstruction_Malimg.png\n",
            "'02.Tutorial-ResNet-VAE-Tunning.ipynb의 사본'   ResNetVAE_cifar10.py\n",
            " fig\t\t\t\t\t        ResNetVAE_FACE.py\n",
            " generated_Malimg.png\t\t\t        ResNetVAE_MNIST.py\n",
            " modules.py\t\t\t\t        ResNetVAE_reconstruction.ipynb\n",
            " plot_latent.ipynb\t\t\t        results_Malimg\n",
            " plot_latent_vector\t\t\t        results_Malimg_Exp2\n",
            " plot_train_test_loss\t\t\t        results_Malimg_Exp3\n",
            " __pycache__\n"
          ],
          "name": "stdout"
        }
      ]
    },
    {
      "cell_type": "markdown",
      "metadata": {
        "id": "m4MQCs0Vdspm",
        "colab_type": "text"
      },
      "source": [
        "## 01. Import Library"
      ]
    },
    {
      "cell_type": "code",
      "metadata": {
        "id": "JxJh0s6bbhTS",
        "colab_type": "code",
        "colab": {
          "base_uri": "https://localhost:8080/",
          "height": 73
        },
        "outputId": "a7dce97b-2dda-4398-d46f-70743b47de4a"
      },
      "source": [
        "from PIL import Image\n",
        "%matplotlib inline\n",
        "\n",
        "import matplotlib\n",
        "import matplotlib.pyplot as plt\n",
        "import matplotlib as mpl\n",
        " \n",
        "# https://towardsdatascience.com/visualising-high-dimensional-datasets-using-pca-and-t-sne-in-python-8ef87e7915b\n",
        "import seaborn as sns\n",
        "\n",
        "# save single numpy array\n",
        "# https://numpy.org/doc/stable/reference/generated/numpy.save.html#numpy.save\n",
        "from tempfile import TemporaryFile\n",
        "from sklearn.manifold import TSNE\n",
        "\n",
        "import torch\n",
        "import torch.utils.data\n",
        "\n",
        "from torch import nn, optim\n",
        "from torch.nn import functional as F\n",
        "from torch.autograd import Variable\n",
        "from torch.utils.data import Dataset, DataLoader\n",
        "\n",
        "import numpy as np\n",
        "import pandas as pd\n",
        "\n",
        "import torchvision\n",
        "from torchvision import datasets, transforms\n",
        "from torchvision.utils import save_image\n",
        "\n",
        "# load modules\n",
        "from torchvision import models\n",
        "from modules import *"
      ],
      "execution_count": 8,
      "outputs": [
        {
          "output_type": "stream",
          "text": [
            "/usr/local/lib/python3.6/dist-packages/statsmodels/tools/_testing.py:19: FutureWarning: pandas.util.testing is deprecated. Use the functions in the public API at pandas.testing instead.\n",
            "  import pandas.util.testing as tm\n"
          ],
          "name": "stderr"
        }
      ]
    },
    {
      "cell_type": "markdown",
      "metadata": {
        "id": "zG79j8Wjhjd4",
        "colab_type": "text"
      },
      "source": [
        "## 02. Data Preparation\n",
        "* Make Custom Dataset\n",
        "* Make Custom DataLoader\n",
        "* Train_Test Split\n",
        "\n",
        "### Work Flow\n",
        "* transforms module 사용, Image data compose(전처리, transform)\n",
        "* re-sizing, normalizing, tensor\n",
        "* ImageFolder사용 dataloader\n",
        "* dataset split: train dataset, test dataset\n",
        "* DataLoader: batch단위 dataset loading"
      ]
    },
    {
      "cell_type": "code",
      "metadata": {
        "id": "40wjsfCSgYIY",
        "colab_type": "code",
        "colab": {}
      },
      "source": [
        "transforms = transforms.Compose([\n",
        "                                transforms.Resize((224, 224)),                # Change size of Image to (224, 224)\n",
        "                                transforms.Grayscale(num_output_channels=3),  # Makes it 3-dimension channel\n",
        "                                                                              # Simple way\n",
        "                                                                              # https://pytorch.org/docs/stable/torchvision/transforms.html\n",
        "                                                                              # If num_output_channels == 3 : returned image is 3 channel with r == g == b\n",
        "                                 \n",
        "                                # transforms.Lambda(lambda x: x.repeat(3, 1, 1)),  # gray -> GRB 3 channel (lambda function)\n",
        "                                                                                 # Reference: https://github.com/hsinyilin19/ResNetVAE/blob/master/ResNetVAE_MNIST.py\n",
        "                                transforms.ToTensor(),                        # Convert a PIL Image or numpy.ndarray to tensor.\n",
        "                                                                              # Converts a PIL Image or numpy.ndarray (H x W x C) in the range [0, 255] to a torch.FloatTensor of shape (C x H x W) in the range [0.0, 1.0] if the PIL Image belongs to one of the modes (L, LA, P, I, F, RGB, YCbCr, RGBA, CMYK, 1) or if the numpy.ndarray has dtype = np.uint8\n",
        "                                                                              # In the other cases, tensors are returned without scaling.\n",
        "                                # transforms.Normalize(mean=[0.5], std=[0.5]), \n",
        "                                ])\n",
        "\n",
        "# make custom dataset\n",
        "trainset = torchvision.datasets.ImageFolder(root='../../../../InformationSecurity_Summer/malimg',\n",
        "                                            transform=transforms)  # make custom dataset"
      ],
      "execution_count": 9,
      "outputs": []
    },
    {
      "cell_type": "code",
      "metadata": {
        "id": "vYwMgJ5UdvgO",
        "colab_type": "code",
        "colab": {
          "base_uri": "https://localhost:8080/",
          "height": 467
        },
        "outputId": "372a0885-5338-4bc0-b3fc-7bdafa01d9d6"
      },
      "source": [
        "# classes = trainset.classes\n",
        "classes = trainset.classes\n",
        "classes"
      ],
      "execution_count": 10,
      "outputs": [
        {
          "output_type": "execute_result",
          "data": {
            "text/plain": [
              "['Adialer.C',\n",
              " 'Agent.FYI',\n",
              " 'Allaple.A',\n",
              " 'Allaple.L',\n",
              " 'Alueron.gen!J',\n",
              " 'Autorun.K',\n",
              " 'C2LOP.P',\n",
              " 'C2LOP.gen!g',\n",
              " 'Dialplatform.B',\n",
              " 'Dontovo.A',\n",
              " 'Fakerean',\n",
              " 'Instantaccess',\n",
              " 'Lolyda.AA1',\n",
              " 'Lolyda.AA2',\n",
              " 'Lolyda.AA3',\n",
              " 'Lolyda.AT',\n",
              " 'Malex.gen!J',\n",
              " 'Obfuscator.AD',\n",
              " 'Rbot!gen',\n",
              " 'Skintrim.N',\n",
              " 'Swizzor.gen!E',\n",
              " 'Swizzor.gen!I',\n",
              " 'VB.AT',\n",
              " 'Wintrim.BX',\n",
              " 'Yuner.A']"
            ]
          },
          "metadata": {
            "tags": []
          },
          "execution_count": 10
        }
      ]
    },
    {
      "cell_type": "code",
      "metadata": {
        "id": "lRNtxJgpdy6x",
        "colab_type": "code",
        "colab": {
          "base_uri": "https://localhost:8080/",
          "height": 35
        },
        "outputId": "3f721e01-fc0c-4b5d-8702-07d37f0b7c45"
      },
      "source": [
        "full_dataset = trainset\n",
        "train_size = int(0.8 * len(full_dataset))\n",
        "test_size = len(full_dataset) - train_size\n",
        "print(train_size, test_size)\n",
        "\n",
        "train_dataset, test_dataset = torch.utils.data.random_split(full_dataset, [train_size, test_size])"
      ],
      "execution_count": 11,
      "outputs": [
        {
          "output_type": "stream",
          "text": [
            "7471 1868\n"
          ],
          "name": "stdout"
        }
      ]
    },
    {
      "cell_type": "code",
      "metadata": {
        "id": "laqQVjbpkVsq",
        "colab_type": "code",
        "colab": {}
      },
      "source": [
        "train_loader = DataLoader(train_dataset,\n",
        "                         batch_size=16,\n",
        "                         shuffle=True,\n",
        "                         pin_memory=True) \n",
        "valid_loader = DataLoader(test_dataset,\n",
        "                        batch_size=16,\n",
        "                        shuffle=True,\n",
        "                        pin_memory=True)  # Instead, we recommend using automatic memory pinning (i.e., setting pin_memory=True)\n",
        "                                          #  which enables fast data transfer to CUDA-enabled GPUs\n",
        "\n",
        "# First, insert all test dataset\n",
        "# test_loader_10: testloader for latent vector visualization\n",
        "test_loader_10 = DataLoader(test_dataset,\n",
        "                        batch_size=1868,\n",
        "                        shuffle=True,\n",
        "                        pin_memory=True)"
      ],
      "execution_count": 12,
      "outputs": []
    },
    {
      "cell_type": "markdown",
      "metadata": {
        "id": "xbWbNUjWmEUK",
        "colab_type": "text"
      },
      "source": [
        "### 3-Channel Image를 출력해보자\n",
        "* -20.07.30.Thur-"
      ]
    },
    {
      "cell_type": "code",
      "metadata": {
        "id": "Hy0g8PLUmJug",
        "colab_type": "code",
        "colab": {}
      },
      "source": [
        "def imshow(img):\n",
        "    img = img / 2 + 0.5  # unnormalize\n",
        "    np_img = img.numpy()\n",
        "\n",
        "    plt.imshow(np.transpose(np_img, (1, 2, 0)))  # Convert (C, W, H) to (W, H, C)\n",
        "\n",
        "    print(np_img.shape)  # np_img shape\n",
        "    print((np.transpose(np_img, (1, 2, 0))).shape)  # transposed shape "
      ],
      "execution_count": 13,
      "outputs": []
    },
    {
      "cell_type": "code",
      "metadata": {
        "id": "GqpC6S_CmN9s",
        "colab_type": "code",
        "colab": {
          "base_uri": "https://localhost:8080/",
          "height": 35
        },
        "outputId": "9021767e-105a-493d-9a23-9f5f7bffdea7"
      },
      "source": [
        "dataiter = iter(train_loader)\n",
        "images, labels = dataiter.next()\n",
        "print(labels)"
      ],
      "execution_count": 14,
      "outputs": [
        {
          "output_type": "stream",
          "text": [
            "tensor([11, 22,  2,  2, 23, 14, 24, 22,  2,  2,  2,  2,  2,  2,  2, 12])\n"
          ],
          "name": "stdout"
        }
      ]
    },
    {
      "cell_type": "code",
      "metadata": {
        "id": "KJoom-NYmPMf",
        "colab_type": "code",
        "colab": {
          "base_uri": "https://localhost:8080/",
          "height": 397
        },
        "outputId": "e988698e-0e6e-4328-c675-b5f15435f6d9"
      },
      "source": [
        "print(images.shape)\n",
        "imshow(torchvision.utils.make_grid(images, nrow=4))\n",
        "print(images.shape)\n",
        "print((torchvision.utils.make_grid(images)).shape)\n",
        "print(\"\".join(\"%5s \"%classes[labels[j]] for j in range(16)))"
      ],
      "execution_count": 15,
      "outputs": [
        {
          "output_type": "stream",
          "text": [
            "torch.Size([16, 3, 224, 224])\n",
            "(3, 906, 906)\n",
            "(906, 906, 3)\n",
            "torch.Size([16, 3, 224, 224])\n",
            "torch.Size([3, 454, 1810])\n",
            "Instantaccess VB.AT Allaple.A Allaple.A Wintrim.BX Lolyda.AA3 Yuner.A VB.AT Allaple.A Allaple.A Allaple.A Allaple.A Allaple.A Allaple.A Allaple.A Lolyda.AA1 \n"
          ],
          "name": "stdout"
        },
        {
          "output_type": "display_data",
          "data": {
            "image/png": "[encoded data removed]",
            "text/plain": [
              "<Figure size 432x288 with 1 Axes>"
            ]
          },
          "metadata": {
            "tags": [],
            "needs_background": "light"
          }
        }
      ]
    },
    {
      "cell_type": "markdown",
      "metadata": {
        "id": "E2tvYihLhDd0",
        "colab_type": "text"
      },
      "source": [
        "## 03. Modeling\n",
        "* save model: <code>save_model_path</code>\n",
        "* save_loss_list\n",
        "* etc...\n"
      ]
    },
    {
      "cell_type": "markdown",
      "metadata": {
        "id": "5hPQVCD9m3G8",
        "colab_type": "text"
      },
      "source": [
        "* Hyper Parameters\n",
        "    * CNN_fc_hidden1, CNN_fc_hidden2 = 1024, 1024\n",
        "    * CNN_embed_dim = 256  # latent dim extracted by 2D CNN\n",
        "    * res_size = 224  # ResNet image size\n",
        "    * dropout_p = 0.2  # dropout probability\n",
        "    * Epochs = 50\n",
        "    * batch_size = 16\n",
        "    * learning_rate = 1e-5\n",
        "    * log_interval = 10  # The time between data samples being taken"
      ]
    },
    {
      "cell_type": "code",
      "metadata": {
        "id": "MyiJB8iSiqTT",
        "colab_type": "code",
        "colab": {}
      },
      "source": [
        "# EncoderCNN architecture\n",
        "CNN_fc_hidden1, CNN_fc_hidden2 = 1024, 1024\n",
        "CNN_embed_dim = 256     # latent dim extracted by 2D CNN\n",
        "res_size = 224        # ResNet image size\n",
        "dropout_p = 0.2       # dropout probability\n",
        "\n",
        "# training parameters\n",
        "epochs = 50        # training epochs\n",
        "batch_size = 16\n",
        "learning_rate = 1e-5\n",
        "log_interval = 10   # interval for displaying training info"
      ],
      "execution_count": 16,
      "outputs": []
    },
    {
      "cell_type": "code",
      "metadata": {
        "id": "fjFMhGMEiRG8",
        "colab_type": "code",
        "colab": {}
      },
      "source": [
        "# save model\n",
        "save_model_path = './results_Malimg_Exp3'  # save_model parameter"
      ],
      "execution_count": 17,
      "outputs": []
    },
    {
      "cell_type": "code",
      "metadata": {
        "id": "mK2IkNBgifV6",
        "colab_type": "code",
        "colab": {}
      },
      "source": [
        "def check_mkdir(dir_name):\n",
        "    if not os.path.exists(dir_name):\n",
        "        os.mkdir(dir_name)"
      ],
      "execution_count": 18,
      "outputs": []
    },
    {
      "cell_type": "markdown",
      "metadata": {
        "id": "ZZojVvAJxxJn",
        "colab_type": "text"
      },
      "source": [
        "### Define Loss Function"
      ]
    },
    {
      "cell_type": "code",
      "metadata": {
        "id": "bLrFg4euigpb",
        "colab_type": "code",
        "colab": {}
      },
      "source": [
        "def loss_function(recon_x, x, mu, logvar):\n",
        "    # MSE = F.mse_loss(recon_x, x, reduction='sum')\n",
        "    MSE = F.binary_cross_entropy(recon_x, x, reduction='sum')\n",
        "    KLD = -0.5 * torch.sum(1 + logvar - mu.pow(2) - logvar.exp())\n",
        "    # mse, kld의 값도 확인하고 싶은데... 어떻게 하면 좋을까??\n",
        "    # Loss Function 호출시마다 값을 저장해준다\n",
        "    mse_loss.append(MSE)   # save MSE & Kullback Liebler\n",
        "    kld_loss.append(KLD)\n",
        "\n",
        "    return MSE + KLD"
      ],
      "execution_count": 19,
      "outputs": []
    },
    {
      "cell_type": "markdown",
      "metadata": {
        "id": "bfcyvyg5x-Bn",
        "colab_type": "text"
      },
      "source": [
        "### Define Training Process\n",
        "* train, validation\n",
        "* train:\n",
        "    * save model's state_dict\n",
        "    * save optim's state_dict\n",
        "* test:\n",
        "    * save Recon Image\n",
        "    * "
      ]
    },
    {
      "cell_type": "code",
      "metadata": {
        "id": "fHryk-eBitM5",
        "colab_type": "code",
        "colab": {}
      },
      "source": [
        "def train(log_interval, model, device, train_loader, optimizer, epoch):\n",
        "    # set model as training mode\n",
        "    model.train()\n",
        "\n",
        "    losses = []\n",
        "    all_y, all_z, all_mu, all_logvar = [], [], [], []\n",
        "    N_count = 0   # counting total trained sample in one epoch\n",
        "    for batch_idx, (X, y) in enumerate(train_loader):\n",
        "        # distribute data to device\n",
        "        X, y = X.to(device), y.to(device).view(-1, )\n",
        "        N_count += X.size(0)\n",
        "\n",
        "        optimizer.zero_grad()\n",
        "        X_reconst, z, mu, logvar = model(X)  # VAE\n",
        "        # calc loss\n",
        "        loss = loss_function(X_reconst, X, mu, logvar)\n",
        "        losses.append(loss.item())\n",
        "        # backward()\n",
        "        loss.backward()\n",
        "        # optimize\n",
        "        optimizer.step()\n",
        "\n",
        "        all_y.extend(y.data.cpu().numpy())\n",
        "        all_z.extend(z.data.cpu().numpy())\n",
        "        all_mu.extend(mu.data.cpu().numpy())\n",
        "        all_logvar.extend(logvar.data.cpu().numpy())\n",
        "\n",
        "        # show information\n",
        "        if (batch_idx + 1) % log_interval == 0:\n",
        "            print('Train Epoch: {} [{}/{} ({:.0f}%)]\\tLoss: {:.6f}'.format(\n",
        "                epoch +1, N_count, len(train_loader.dataset), 100. * (batch_idx + 1) / len(train_loader), loss.item()))\n",
        "\n",
        "    all_y = np.stack(all_y, axis=0)\n",
        "    all_z = np.stack(all_z, axis=0)\n",
        "    all_mu = np.stack(all_mu, axis=0)\n",
        "    all_logvar = np.stack(all_logvar, axis=0)\n",
        "\n",
        "    # save Pytorch models of best record\n",
        "    torch.save(model.state_dict(), os.path.join(save_model_path, 'model_epoch{}.pth'.format(epoch+ 1)))  # save motion_encoder\n",
        "    torch.save(optimizer.state_dict(), os.path.join(save_model_path, 'optimizer_epoch{}.pth'.format(epoch+ 1)))      # save optimizer\n",
        "    print(\"Epoch {} model saved!\".format(epoch +1))  # 5 Epoch부터 이어서 Training하기 때문\n",
        "\n",
        "    return X.data.cpu().numpy(), all_y, all_z, all_mu, all_logvar, losses\n",
        "\n",
        "\n",
        "def validation(model, device, optimizer, test_loader):\n",
        "    # set model as testing mode\n",
        "    model.eval()  # set testing mode: model.eva()\n",
        "\n",
        "    test_loss = 0\n",
        "    all_y, all_z, all_mu, all_logvar = [], [], [], []\n",
        "    with torch.no_grad():  # gradient 추적을 하지 않는다고 우선 선언\n",
        "        for X, y in test_loader:\n",
        "            # distribute data to device\n",
        "            X, y = X.to(device), y.to(device).view(-1, )\n",
        "            X_reconst, z, mu, logvar = model(X)\n",
        "            # calc loss\n",
        "            loss = loss_function(X_reconst, X, mu, logvar)\n",
        "            test_loss += loss.item()  # sum up batch loss\n",
        "            \n",
        "            all_y.extend(y.data.cpu().numpy())\n",
        "            all_z.extend(z.data.cpu().numpy())\n",
        "            all_mu.extend(mu.data.cpu().numpy())\n",
        "            all_logvar.extend(logvar.data.cpu().numpy())\n",
        "\n",
        "            ##########################################\n",
        "            ########   Debugging            ##########\n",
        "            ##########################################\n",
        "            print('='*20)\n",
        "            print('Debugging')\n",
        "            print('X_recon_Shape:', X_reconst.shape)\n",
        "\n",
        "        ## Save_Recon_Malimg\n",
        "            n = min(X.size(0), 8)\n",
        "            comparison = torch.cat([X[:n],\n",
        "                                X_reconst.view(16, 3, 224, 224)[:n]])\n",
        "            save_image(comparison.cpu(),\n",
        "                    './results_Malimg_Exp3/recon_sampling/reconstruction_' + str(epoch) + '.png', nrow=n)\n",
        "\n",
        "    test_loss /= len(test_loader.dataset)\n",
        "    all_y = np.stack(all_y, axis=0)\n",
        "    all_z = np.stack(all_z, axis=0)\n",
        "    all_mu = np.stack(all_mu, axis=0)\n",
        "    all_logvar = np.stack(all_logvar, axis=0)\n",
        "\n",
        "    # show information\n",
        "    print('\\nTest set ({:d} samples): Average loss: {:.4f}\\n'.format(len(test_loader.dataset), test_loss))\n",
        "    return X.data.cpu().numpy(), all_y, all_z, all_mu, all_logvar, test_loss\n"
      ],
      "execution_count": 20,
      "outputs": []
    },
    {
      "cell_type": "code",
      "metadata": {
        "id": "l0uohqjsixS0",
        "colab_type": "code",
        "colab": {}
      },
      "source": [
        "# Detect devices\n",
        "use_cuda = torch.cuda.is_available()                   # check if GPU exists\n",
        "device = torch.device(\"cuda\" if use_cuda else \"cpu\")   # use CPU or GPU"
      ],
      "execution_count": 21,
      "outputs": []
    },
    {
      "cell_type": "markdown",
      "metadata": {
        "id": "aj1YYgo41S3n",
        "colab_type": "text"
      },
      "source": [
        "### Load_State_Dict\n",
        "\n",
        "<code>Exp03.에서는 지난 실험의 Model Parameter를 불러오지 않는다.</code>\n",
        "-20.07.30.thur-\n",
        "\n",
        "* 이전 학습에서 저장했던 model parameter를 불러온다<br>\n",
        "\n",
        "\n",
        "<code>pre_saved_model_path</code>: 지난번 1e-3에서 5Epoch학습한 모델의 파라미터"
      ]
    },
    {
      "cell_type": "code",
      "metadata": {
        "id": "q_OOIagV1SQ_",
        "colab_type": "code",
        "colab": {
          "base_uri": "https://localhost:8080/",
          "height": 53
        },
        "outputId": "bc3276f1-5fb3-47e5-a8a8-52bee9ea40be"
      },
      "source": [
        "'''\n",
        "pre_saved_model_path = './results_Malimg'\n",
        "epoch = 5\n",
        "\n",
        "# reload ResNetVAE model\n",
        "####    reload -> x    ####\n",
        "####    Train Again    ####\n",
        "'''\n",
        "\n",
        "# Define Model\n",
        "resnet_vae = ResNet_VAE(fc_hidden1=CNN_fc_hidden1, fc_hidden2=CNN_fc_hidden2, drop_p=dropout_p, CNN_embed_dim=CNN_embed_dim).to(device)\n",
        "\n",
        "# pre-trained-model을 불러오지 않는다\n",
        "'''\n",
        "resnet_vae.load_state_dict(torch.load(os.path.join(pre_saved_model_path, 'model_epoch{}.pth'.format(epoch))))\n",
        "print(\"ResNet VAE epoch {} model reloaded!\".format(epoch))\n",
        "'''"
      ],
      "execution_count": 22,
      "outputs": [
        {
          "output_type": "execute_result",
          "data": {
            "application/vnd.google.colaboratory.intrinsic+json": {
              "type": "string"
            },
            "text/plain": [
              "'\\nresnet_vae.load_state_dict(torch.load(os.path.join(pre_saved_model_path, \\'model_epoch{}.pth\\'.format(epoch))))\\nprint(\"ResNet VAE epoch {} model reloaded!\".format(epoch))\\n'"
            ]
          },
          "metadata": {
            "tags": []
          },
          "execution_count": 22
        }
      ]
    },
    {
      "cell_type": "code",
      "metadata": {
        "id": "_a9FFdiljGPW",
        "colab_type": "code",
        "colab": {
          "base_uri": "https://localhost:8080/",
          "height": 35
        },
        "outputId": "e3a56e69-9a96-4c41-d659-8a1f8a645474"
      },
      "source": [
        "# resnet_vae = ResNet_VAE(fc_hidden1=CNN_fc_hidden1, fc_hidden2=CNN_fc_hidden2, drop_p=dropout_p, CNN_embed_dim=CNN_embed_dim).to(device)\n",
        "\n",
        "print(\"Using\", torch.cuda.device_count(), \"GPU!\")\n",
        "model_params = list(resnet_vae.parameters())\n",
        "optimizer = torch.optim.Adam(model_params, lr=learning_rate)  # After5 lr 1e-3 to 1e-5"
      ],
      "execution_count": 23,
      "outputs": [
        {
          "output_type": "stream",
          "text": [
            "Using 1 GPU!\n"
          ],
          "name": "stdout"
        }
      ]
    },
    {
      "cell_type": "code",
      "metadata": {
        "id": "_mDezxJUjKSZ",
        "colab_type": "code",
        "colab": {}
      },
      "source": [
        "# record training process\n",
        "'''\n",
        "list_epoch = []\n",
        "list_train_loss = []\n",
        "list_val_loss = []\n",
        "list_acc = []\n",
        "list_acc_epoch = []\n",
        "'''\n",
        "list_epoch=[]\n",
        "epoch_train_losses = []\n",
        "epoch_test_losses = []\n",
        "mse_loss = []\n",
        "kld_loss = []\n",
        "list_acc = []\n",
        "list_acc_epoch =[]\n",
        "check_mkdir(save_model_path)"
      ],
      "execution_count": 24,
      "outputs": []
    },
    {
      "cell_type": "markdown",
      "metadata": {
        "id": "gcJRmBUEhT5W",
        "colab_type": "text"
      },
      "source": [
        "## 04. Train-it"
      ]
    },
    {
      "cell_type": "code",
      "metadata": {
        "id": "eLFMtJaUhMCN",
        "colab_type": "code",
        "colab": {
          "base_uri": "https://localhost:8080/",
          "height": 127
        },
        "outputId": "35aba2ba-8efe-4d3f-d722-b85902a5107a"
      },
      "source": [
        "# start training\n",
        "for epoch in range(epochs):\n",
        "\n",
        "    # train, test model\n",
        "    X_train, y_train, z_train, mu_train, logvar_train, train_losses = train(log_interval, resnet_vae, device, train_loader, optimizer, epoch)\n",
        "    X_test, y_test, z_test, mu_test, logvar_test, epoch_test_loss = validation(resnet_vae, device, optimizer, valid_loader)\n",
        "\n",
        "    # save results\n",
        "    list_epoch.append(epoch)\n",
        "    epoch_train_losses.append(train_losses)\n",
        "    epoch_test_losses.append(epoch_test_loss)\n",
        "\n",
        "    \n",
        "    # save all train test results\n",
        "    A = np.array(epoch_train_losses)\n",
        "    C = np.array(epoch_test_losses)\n",
        "    \n",
        "    np.save(os.path.join(save_model_path, 'ResNet_VAE_training_loss.npy'), A)\n",
        "    np.save(os.path.join(save_model_path, 'X_Malimg_train_epoch{}.npy'.format(epoch + 1)), X_train) #save last batch\n",
        "    np.save(os.path.join(save_model_path, 'y_Malimg_train_epoch{}.npy'.format(epoch + 1)), y_train)\n",
        "    np.save(os.path.join(save_model_path, 'z_Malimg_train_epoch{}.npy'.format(epoch + 1)), z_train)\n"
      ],
      "execution_count": null,
      "outputs": [
        {
          "output_type": "stream",
          "text": [
            "/usr/local/lib/python3.6/dist-packages/torch/nn/functional.py:2973: UserWarning: Default upsampling behavior when mode=bilinear is changed to align_corners=False since 0.4.0. Please specify align_corners=True if the old behavior is desired. See the documentation of nn.Upsample for details.\n",
            "  \"See the documentation of nn.Upsample for details.\".format(mode))\n"
          ],
          "name": "stderr"
        },
        {
          "output_type": "stream",
          "text": [
            "Train Epoch: 1 [160/7471 (2%)]\tLoss: 1760477.000000\n",
            "Train Epoch: 1 [320/7471 (4%)]\tLoss: 1761045.500000\n",
            "Train Epoch: 1 [480/7471 (6%)]\tLoss: 1759243.250000\n"
          ],
          "name": "stdout"
        }
      ]
    },
    {
      "cell_type": "code",
      "metadata": {
        "id": "_XZRhJ3vr05g",
        "colab_type": "code",
        "colab": {}
      },
      "source": [
        "! nvidia-smi"
      ],
      "execution_count": null,
      "outputs": []
    },
    {
      "cell_type": "markdown",
      "metadata": {
        "id": "4tmNHFSv20a8",
        "colab_type": "text"
      },
      "source": [
        "### plot_train_val_loss plot"
      ]
    },
    {
      "cell_type": "code",
      "metadata": {
        "id": "hCneJB6XkQ5A",
        "colab_type": "code",
        "colab": {}
      },
      "source": [
        "fig = plt.figure(figsize=(15, 5))\n",
        "\n",
        "# ======= Loss Fluctuation ======= #\n",
        "ax1 = fig.add_subplot(1, 2, 1)\n",
        "ax1.plot(list_epoch, epoch_train_losses, label='train_loss')\n",
        "ax1.plot(list_epoch, epoch_test_losses, '--', label='val_loss')\n",
        "ax1.set_xlabel('epoch')\n",
        "ax1.set_ylabel('loss')\n",
        "ax1.grid()\n",
        "ax1.legend()\n",
        "ax1.set_title('epoch vs loss')\n",
        "\n",
        "plt.savefig('./results_Malimg_Exp3/plot_latent_vector/' + str(epoch) + '_t_SNE.png', dpi=300)\n",
        "\n",
        "\n",
        "'''\n",
        "# ======= Metric Fluctuation ======= # \n",
        "ax2 = fig.add_subplot(1, 2, 2)\n",
        "ax2.plot(list_acc_epoch, list_acc, marker='x', label='Accuracy metric')\n",
        "ax2.set_xlabel('epoch')\n",
        "ax2.set_ylabel('Acc')\n",
        "ax2.grid()\n",
        "ax2.legend()\n",
        "ax2.set_title('epoch vs Accuracy')\n",
        "\n",
        "plt.show()\n",
        "'''"
      ],
      "execution_count": null,
      "outputs": []
    }
  ]
}